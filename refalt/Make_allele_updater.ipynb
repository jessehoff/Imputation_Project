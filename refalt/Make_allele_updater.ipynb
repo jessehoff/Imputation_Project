{
 "cells": [
  {
   "cell_type": "code",
   "execution_count": 1,
   "metadata": {
    "collapsed": true
   },
   "outputs": [],
   "source": [
    "import pandas as pd\n",
    "import random\n",
    "import numpy as np\n",
    "import glob\n",
    "from collections import Counter\n",
    "from collections import defaultdict"
   ]
  },
  {
   "cell_type": "code",
   "execution_count": 3,
   "metadata": {
    "collapsed": false
   },
   "outputs": [
    {
     "name": "stdout",
     "output_type": "stream",
     "text": [
      "AANUSAM000011393414 AANUSAM000011393414 AANUSAM000010776479 AANUSAF000011088769 1 -9 BB AA BB AB BB AA AA AA AA 00 BB BB AA AA BB 00 BB AA AA AB AA AA AA AA AA AA AA AA BB BB BB BB AA BB AA BB AA BB BB AB BB AA AA AA BB BB 00 AB AB AA AB AB AA AA AA AA BB BB 00 00 BB BB AA BB BB BB BB AA AA AA AA BB BB AA 00 AB AB AB BB AB AB AA AB 00 AA BB BB 00 AA BB AB AA BB AB AA AA AA AB BB BB AA AA BB BB BB BB AA BB AA BB BB BB AA BB AA AA BB 00 00 AB BB BB 00 AA AA 00 00 00 00 00 BB AA BB AA AA AA AA AA B"
     ]
    }
   ],
   "source": [
    "! head -c 500 ../raw_genotypes/227234.160906.100.test_ggpf250_A.ped"
   ]
  },
  {
   "cell_type": "code",
   "execution_count": 5,
   "metadata": {
    "collapsed": false
   },
   "outputs": [
    {
     "name": "stdout",
     "output_type": "stream",
     "text": [
      "690711 trusted_chip2seq_nov8_14.txt\n",
      "1023761,1,36337,G,A,ADBR\n",
      "1023764,1,83412,G,A,ADBR\n",
      "1023770,1,146011,G,A,ADBR\n",
      "1023771,1,147231,G,A,ADBR\n",
      "1023772,1,149772,C,A,ADBR\n",
      "1023774,1,152374,C,T,ADBR\n",
      "1023775,1,155938,G,A,ADBR\n",
      "1023776,1,156978,C,A,ADBR\n",
      "1023780,1,163995,G,A,ADBR\n",
      "1023781,1,164683,G,T,ADBR\n"
     ]
    }
   ],
   "source": [
    "! wc -l trusted_chip2seq_nov8_14.txt\n",
    "! head trusted_chip2seq_nov8_14.txt"
   ]
  },
  {
   "cell_type": "code",
   "execution_count": null,
   "metadata": {
    "collapsed": false
   },
   "outputs": [],
   "source": []
  },
  {
   "cell_type": "markdown",
   "metadata": {},
   "source": [
    "# --update-alleles updates variant allele codes. Its input should have the following five fields:\n",
    "\n",
    "* Variant ID\n",
    "* One of the old allele codes\n",
    "* The other old allele code\n",
    "* New code for the first named allele\n",
    "* New code for the second named allele\n",
    "> \n",
    "Note that, if you just want to swap A1/A2 allele assignments in the .bim files without changing the real genotype data, you must use --a1-allele/--a2-allele instead."
   ]
  },
  {
   "cell_type": "code",
   "execution_count": 11,
   "metadata": {
    "collapsed": false
   },
   "outputs": [],
   "source": [
    "decode = open('trusted_chip2seq_nov8_14.txt')\n",
    "outfile = open('update_alleles_chip2seq.txt','w')\n",
    "count1 = 0\n",
    "count2 = 0\n",
    "for line in decode:\n",
    "    snpid,chr,pos,ref,alt,conversion = line.strip().split(',')\n",
    "    if conversion == 'ADBR':\n",
    "        count1 +=1\n",
    "        newline = ' '.join([snpid,'A','B',alt,ref]) + '\\n'\n",
    "    if conversion == 'ARBD':\n",
    "        count2 +=1\n",
    "        newline = ' '.join([snpid,'A','B',ref,alt])+ '\\n'\n",
    "    outfile.write(newline)\n",
    "outfile.close()"
   ]
  },
  {
   "cell_type": "code",
   "execution_count": 9,
   "metadata": {
    "collapsed": false
   },
   "outputs": [
    {
     "name": "stdout",
     "output_type": "stream",
     "text": [
      "1023761 A B A G\r\n",
      "1023764 A B A G\r\n",
      "1023770 A B A G\r\n",
      "1023771 A B A G\r\n",
      "1023772 A B A C\r\n",
      "1023774 A B T C\r\n",
      "1023775 A B A G\r\n",
      "1023776 A B A C\r\n",
      "1023780 A B A G\r\n",
      "1023781 A B T G\r\n"
     ]
    }
   ],
   "source": [
    "! head update_alleles_chip2seq.txt"
   ]
  },
  {
   "cell_type": "code",
   "execution_count": 12,
   "metadata": {
    "collapsed": false
   },
   "outputs": [
    {
     "data": {
      "text/plain": [
       "(319133, 371578)"
      ]
     },
     "execution_count": 12,
     "metadata": {},
     "output_type": "execute_result"
    }
   ],
   "source": [
    "count1,count2"
   ]
  },
  {
   "cell_type": "markdown",
   "metadata": {},
   "source": [
    "check the impact to see if\n",
    "   * all sites are changed\n",
    "   * sites without one allele observed have their map updated\n",
    "   * sites are the same across different files\n",
    "   * downstream analysis actually use this encoding"
   ]
  },
  {
   "cell_type": "code",
   "execution_count": 13,
   "metadata": {
    "collapsed": false
   },
   "outputs": [
    {
     "name": "stdout",
     "output_type": "stream",
     "text": [
      "/CIFS/MUG01_N/taylorjerr/JLH/Imputation_Project/refalt\r\n"
     ]
    }
   ],
   "source": [
    "! pwd"
   ]
  },
  {
   "cell_type": "code",
   "execution_count": null,
   "metadata": {
    "collapsed": true
   },
   "outputs": [],
   "source": []
  }
 ],
 "metadata": {
  "anaconda-cloud": {},
  "kernelspec": {
   "display_name": "Python [conda env:Imp3]",
   "language": "python",
   "name": "conda-env-Imp3-py"
  },
  "language_info": {
   "codemirror_mode": {
    "name": "ipython",
    "version": 3
   },
   "file_extension": ".py",
   "mimetype": "text/x-python",
   "name": "python",
   "nbconvert_exporter": "python",
   "pygments_lexer": "ipython3",
   "version": "3.5.2"
  }
 },
 "nbformat": 4,
 "nbformat_minor": 1
}
