{
 "cells": [
  {
   "cell_type": "code",
   "execution_count": 2,
   "metadata": {
    "collapsed": true
   },
   "outputs": [],
   "source": [
    "import pandas as pd\n",
    "import random\n",
    "import numpy as np\n",
    "import glob\n",
    "from collections import Counter\n",
    "from collections import defaultdict"
   ]
  },
  {
   "cell_type": "code",
   "execution_count": 6,
   "metadata": {
    "collapsed": false
   },
   "outputs": [
    {
     "data": {
      "text/plain": [
       "[2, 7, 1, 8, 4]"
      ]
     },
     "execution_count": 6,
     "metadata": {},
     "output_type": "execute_result"
    }
   ],
   "source": [
    "random.sample(range(10),5)"
   ]
  },
  {
   "cell_type": "code",
   "execution_count": 56,
   "metadata": {
    "collapsed": false
   },
   "outputs": [],
   "source": [
    "def idgrab(idfile):\n",
    "    temp = []\n",
    "    with open(idfile) as fp:\n",
    "        for line in fp:\n",
    "            name = line.split()[1]\n",
    "            temp.append(name)\n",
    "    return temp\n",
    "#print(name)"
   ]
  },
  {
   "cell_type": "markdown",
   "metadata": {},
   "source": [
    "# This will be used for making random samples of animals who are not on multiple chips\n",
    "# These animals should all be processed and then merged into one file, they can be pulled out of there. \n",
    "# duplicate animals can be merged into seperate file, or kept in their original files\n",
    "# animals that are f250 and chip should perhaps be prioritized, but with only their f250 data, or with their full complement of data, but not for the animals being tested.  \n"
   ]
  },
  {
   "cell_type": "code",
   "execution_count": null,
   "metadata": {
    "collapsed": true
   },
   "outputs": [],
   "source": []
  },
  {
   "cell_type": "markdown",
   "metadata": {},
   "source": [
    "# For Holstein Test Data:\n",
    "* We want to have the following numbers of animals in each set\n",
    "    - HD (10%) = 197\n",
    "    - F250 (10%) = 197\n",
    "    - SNP50 (40%) = 788\n",
    "    - GGPLD (40%) = 788"
   ]
  },
  {
   "cell_type": "code",
   "execution_count": 4,
   "metadata": {
    "collapsed": false
   },
   "outputs": [
    {
     "name": "stdout",
     "output_type": "stream",
     "text": [
      "1 UMCUSAM000000078648\r\n",
      "2 UMCUSAF000000078649\r\n",
      "3 UMCUSAM000000078650\r\n",
      "4 UMCUSAF000000078651\r\n",
      "5 UMCUSAM000000078652\r\n",
      "6 UMCUSAM000000078653\r\n",
      "7 UMCUSAF000000078654\r\n",
      "8 UMCUSAM000000078655\r\n",
      "9 UMCUSAF000000078656\r\n",
      "10 UMCUSAM000000078657\r\n"
     ]
    }
   ],
   "source": [
    "!head raw_data/777962.170519.1970.HD.ID"
   ]
  },
  {
   "cell_type": "code",
   "execution_count": 1,
   "metadata": {
    "collapsed": false
   },
   "outputs": [],
   "source": [
    "with open('./raw_genotypes/777962.170519.1970.HD.ID','r') as i:\n",
    "    idlist = [xx.split()[1] for xx in i]"
   ]
  },
  {
   "cell_type": "code",
   "execution_count": null,
   "metadata": {
    "collapsed": true
   },
   "outputs": [],
   "source": []
  },
  {
   "cell_type": "code",
   "execution_count": 34,
   "metadata": {
    "collapsed": false
   },
   "outputs": [],
   "source": [
    "random.shuffle(idlist)"
   ]
  },
  {
   "cell_type": "code",
   "execution_count": 52,
   "metadata": {
    "collapsed": false
   },
   "outputs": [],
   "source": [
    "writeHD = open('./dataprepper/hd_ids.list1.txt','w')\n",
    "for i in idlist[:197]:\n",
    "    writeHD.write(' '.join([str(1),i,'\\n']))\n",
    "writeHD.close()"
   ]
  },
  {
   "cell_type": "code",
   "execution_count": 53,
   "metadata": {
    "collapsed": true
   },
   "outputs": [],
   "source": [
    "writeF250 = open('./dataprepper/f250_ids.list1.txt','w')\n",
    "for i in idlist[197:394]:\n",
    "    writeF250.write(' '.join([str(1),i,'\\n']))\n",
    "writeF250.close()"
   ]
  },
  {
   "cell_type": "code",
   "execution_count": 54,
   "metadata": {
    "collapsed": true
   },
   "outputs": [],
   "source": [
    "writeSNP50 = open('./dataprepper/snp50_ids.list1.txt','w')\n",
    "for i in idlist[394:1182]:\n",
    "    writeSNP50.write(' '.join([str(1),i,'\\n']))\n",
    "writeSNP50.close()"
   ]
  },
  {
   "cell_type": "code",
   "execution_count": 55,
   "metadata": {
    "collapsed": true
   },
   "outputs": [],
   "source": [
    "writeGGPLD = open('./dataprepper/ggpld_ids.list1.txt','w')\n",
    "for i in idlist[1182:]:\n",
    "    writeGGPLD.write(' '.join([str(1),i,'\\n']))\n",
    "writeGGPLD.close()"
   ]
  },
  {
   "cell_type": "code",
   "execution_count": 43,
   "metadata": {
    "collapsed": false
   },
   "outputs": [
    {
     "name": "stdout",
     "output_type": "stream",
     "text": [
      "wc: ./testset_assays/*list1*.txt: No such file or directory\r\n"
     ]
    }
   ],
   "source": [
    "! wc -l ./testset_assays/*list1*.txt"
   ]
  },
  {
   "cell_type": "code",
   "execution_count": 3,
   "metadata": {
    "collapsed": false
   },
   "outputs": [],
   "source": [
    "def makelists(listnum,seed,High):\n",
    "    with open('./raw_genotypes/777962.170519.1970.HD.ID','r') as i:\n",
    "        idlist = [xx.split()[1] for xx in i]\n",
    "    random.seed(seed)\n",
    "    random.shuffle(idlist)\n",
    "    print(idlist[:10])\n",
    "    writeHD = open('./dataprepper/hd_ids.list'+ listnum+ '.txt','w')\n",
    "    for i in idlist[:High]:\n",
    "        writeHD.write(' '.join([str(1),i,'\\n']))\n",
    "    writeHD.close()\n",
    "    writeF250 = open('./dataprepper/f250_ids.list'+ listnum+ '.txt','w')\n",
    "    f250up = High*2\n",
    "    for i in idlist[High:f250up]:\n",
    "        writeF250.write(' '.join([str(1),i,'\\n']))\n",
    "    writeF250.close()\n",
    "    writeSNP50 = open('./dataprepper/snp50_ids.list'+ listnum+ '.txt','w')\n",
    "    left = len(idlist)-f250up\n",
    "    split = int((left/2) + f250up)\n",
    "    for i in idlist[f250up:split]:\n",
    "        writeSNP50.write(' '.join([str(1),i,'\\n']))\n",
    "    writeSNP50.close()\n",
    "    writeGGPLD = open('./dataprepper/ggpld_ids.list'+ listnum+ '.txt','w')\n",
    "    for i in idlist[split:]:\n",
    "        writeGGPLD.write(' '.join([str(1),i,'\\n']))\n",
    "    writeGGPLD.close()"
   ]
  },
  {
   "cell_type": "markdown",
   "metadata": {
    "collapsed": false
   },
   "source": [
    "the above code takes a list of all 1970 animals with f250 and hd data and randomizes it. \n",
    "\n",
    "It then writes out the full randomlist to seperate files and goes in order. It uses random seeding to always get the same list, but different seeds can be used.\n",
    "\n",
    "For this big hol test, we will take these same animal sets as our truth animals\n",
    "They will be just have more animals present during phasing, and more animals avaible during imputation (seperately). \n",
    "\n",
    "A step is needed to ensure that animal ids don't overlap"
   ]
  },
  {
   "cell_type": "code",
   "execution_count": 1,
   "metadata": {
    "collapsed": false
   },
   "outputs": [
    {
     "ename": "NameError",
     "evalue": "name 'makelists' is not defined",
     "output_type": "error",
     "traceback": [
      "\u001b[0;31m---------------------------------------------------------------------------\u001b[0m",
      "\u001b[0;31mNameError\u001b[0m                                 Traceback (most recent call last)",
      "\u001b[0;32m<ipython-input-1-3e2e045a21be>\u001b[0m in \u001b[0;36m<module>\u001b[0;34m()\u001b[0m\n\u001b[0;32m----> 1\u001b[0;31m \u001b[0mmakelists\u001b[0m\u001b[0;34m(\u001b[0m\u001b[0;34m'2'\u001b[0m\u001b[0;34m,\u001b[0m\u001b[0;36m51\u001b[0m\u001b[0;34m,\u001b[0m\u001b[0;36m300\u001b[0m\u001b[0;34m)\u001b[0m\u001b[0;34m\u001b[0m\u001b[0m\n\u001b[0m\u001b[1;32m      2\u001b[0m \u001b[0mget_ipython\u001b[0m\u001b[0;34m(\u001b[0m\u001b[0;34m)\u001b[0m\u001b[0;34m.\u001b[0m\u001b[0msystem\u001b[0m\u001b[0;34m(\u001b[0m\u001b[0;34m' wc -l ./dataprepper/*list2*'\u001b[0m\u001b[0;34m)\u001b[0m\u001b[0;34m\u001b[0m\u001b[0m\n",
      "\u001b[0;31mNameError\u001b[0m: name 'makelists' is not defined"
     ]
    }
   ],
   "source": [
    "makelists('1',51,300)\n",
    "! wc -l ./dataprepper/*list2*"
   ]
  },
  {
   "cell_type": "code",
   "execution_count": 47,
   "metadata": {
    "collapsed": false
   },
   "outputs": [
    {
     "name": "stdout",
     "output_type": "stream",
     "text": [
      "['UMCUSAF000000087232', 'UMCUSAM000000079877', 'UMCUSAM000000079073', 'UMCUSAF000000087255', 'UMCUSAM000000079502', 'UMCUSAF000000079340', 'UMCUSAM000000079200', 'UMCUSAM000000079524', 'UMCUSAF000000087251', 'UMCUSAF000000078654']\n",
      "  500 ./dataprepper/f250_ids.list3.txt\n",
      "  485 ./dataprepper/ggpld_ids.list3.txt\n",
      "  500 ./dataprepper/hd_ids.list3 .txt\n",
      "  500 ./dataprepper/hd_ids.list3.txt\n",
      "  485 ./dataprepper/snp50_ids.list3.txt\n",
      " 2470 total\n"
     ]
    }
   ],
   "source": [
    "makelists('3',51,500)\n",
    "! wc -l ./dataprepper/*list3*"
   ]
  },
  {
   "cell_type": "code",
   "execution_count": 38,
   "metadata": {
    "collapsed": false
   },
   "outputs": [
    {
     "data": {
      "text/plain": [
       "1182"
      ]
     },
     "execution_count": 38,
     "metadata": {},
     "output_type": "execute_result"
    }
   ],
   "source": [
    "394+788"
   ]
  },
  {
   "cell_type": "markdown",
   "metadata": {
    "collapsed": true
   },
   "source": [
    "# Creating Variant Lists"
   ]
  },
  {
   "cell_type": "code",
   "execution_count": 47,
   "metadata": {
    "collapsed": false
   },
   "outputs": [],
   "source": [
    "with open (\"./dataprepper/9913_SNP50_161214.map\", 'r') as s:\n",
    "    ids = [line.split('\\t')[1] for line in s]\n",
    "with open (\"./dataprepper/snp50_snps.txt\", 'w') as so:\n",
    "    for i in ids:\n",
    "        so.write(''.join([i,'\\n']))"
   ]
  },
  {
   "cell_type": "code",
   "execution_count": 49,
   "metadata": {
    "collapsed": false
   },
   "outputs": [],
   "source": [
    "with open (\"./dataprepper/9913_GGPLDv3_161214.map\", 'r') as g:\n",
    "    gids = [line.split('\\t')[1] for line in g]\n",
    "with open (\"./dataprepper/ggpld_snps.txt\", 'w') as go:\n",
    "    for i in gids:\n",
    "        go.write(''.join([i,'\\n']))"
   ]
  },
  {
   "cell_type": "code",
   "execution_count": 50,
   "metadata": {
    "collapsed": false
   },
   "outputs": [
    {
     "name": "stdout",
     "output_type": "stream",
     "text": [
      "1 UMCUSAM000000078648 HOLUSAM000065801492 0 1 -9\r\n",
      "1 UMCUSAF000000078649 HOLUSAM000122440858 0 0 -9\r\n",
      "1 UMCUSAM000000078650 0 0 1 -9\r\n",
      "1 UMCUSAF000000078651 HOLUSAM000062368589 0 0 -9\r\n",
      "1 UMCUSAM000000078652 HOLUSAM000063050142 0 1 -9\r\n",
      "1 UMCUSAM000000078653 HOLUSAM000064541632 0 1 -9\r\n",
      "1 UMCUSAF000000078654 HOLUSAM000066236225 0 0 -9\r\n",
      "1 UMCUSAM000000078655 0 0 1 -9\r\n",
      "1 UMCUSAF000000078656 HOLUSAM000129909510 0 0 -9\r\n",
      "1 UMCUSAM000000078657 HOLUSAM000133095623 0 1 -9\r\n"
     ]
    }
   ],
   "source": [
    "!head correct_sex/777962.170519.1970.HD.fam"
   ]
  },
  {
   "cell_type": "code",
   "execution_count": null,
   "metadata": {
    "collapsed": true
   },
   "outputs": [],
   "source": []
  }
 ],
 "metadata": {
  "anaconda-cloud": {},
  "kernelspec": {
   "display_name": "Python [conda env:Imp3]",
   "language": "python",
   "name": "conda-env-Imp3-py"
  },
  "language_info": {
   "codemirror_mode": {
    "name": "ipython",
    "version": 3
   },
   "file_extension": ".py",
   "mimetype": "text/x-python",
   "name": "python",
   "nbconvert_exporter": "python",
   "pygments_lexer": "ipython3",
   "version": "3.5.3"
  }
 },
 "nbformat": 4,
 "nbformat_minor": 1
}
