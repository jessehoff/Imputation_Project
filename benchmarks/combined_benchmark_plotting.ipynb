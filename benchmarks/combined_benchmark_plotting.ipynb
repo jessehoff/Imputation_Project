{
 "cells": [
  {
   "cell_type": "code",
   "execution_count": 5,
   "metadata": {
    "collapsed": true
   },
   "outputs": [],
   "source": [
    "import pandas as pd\n",
    "import numpy as np\n",
    "import seaborn as sb\n",
    "import matplotlib.pyplot as plt\n",
    "%matplotlib inline\n",
    "import glob as glob\n",
    "plt.style.use('seaborn-talk')\n",
    "def customaxis(ax, c_left='k', c_bottom='k', c_right='none', c_top='none',\n",
    "               lw=3, size=12, pad=8):\n",
    "\n",
    "    for c_spine, spine in zip([c_left, c_bottom, c_right, c_top],\n",
    "                              ['left', 'bottom', 'right', 'top']):\n",
    "        if c_spine != 'none':\n",
    "            ax.spines[spine].set_color(c_spine)\n",
    "            ax.spines[spine].set_linewidth(lw)\n",
    "        else:\n",
    "            ax.spines[spine].set_color('none')\n",
    "    if (c_bottom == 'none') & (c_top == 'none'): # no bottom and no top\n",
    "        ax.xaxis.set_ticks_position('none')\n",
    "    elif (c_bottom != 'none') & (c_top != 'none'): # bottom and top\n",
    "        ax.tick_params(axis='x', direction='out', width=lw, length=7,\n",
    "                      color=c_bottom, labelsize=size, pad=pad)\n",
    "    elif (c_bottom != 'none') & (c_top == 'none'): # bottom but not top\n",
    "        ax.xaxis.set_ticks_position('bottom')\n",
    "        ax.tick_params(axis='x', direction='out', width=lw, length=7,\n",
    "                       color=c_bottom, labelsize=size, pad=pad)\n",
    "    elif (c_bottom == 'none') & (c_top != 'none'): # no bottom but top\n",
    "        ax.xaxis.set_ticks_position('top')\n",
    "        ax.tick_params(axis='x', direction='out', width=lw, length=7,\n",
    "                       color=c_top, labelsize=size, pad=pad)\n",
    "    if (c_left == 'none') & (c_right == 'none'): # no left and no right\n",
    "        ax.yaxis.set_ticks_position('none')\n",
    "    elif (c_left != 'none') & (c_right != 'none'): # left and right\n",
    "        ax.tick_params(axis='y', direction='out', width=lw, length=7,\n",
    "                       color=c_left, labelsize=size, pad=pad)\n",
    "    elif (c_left != 'none') & (c_right == 'none'): # left but not right\n",
    "        ax.yaxis.set_ticks_position('left')\n",
    "        ax.tick_params(axis='y', direction='out', width=lw, length=7,\n",
    "                       color=c_left, labelsize=size, pad=pad)\n",
    "    elif (c_left == 'none') & (c_right != 'none'): # no left but right\n",
    "        ax.yaxis.set_ticks_position('right')\n",
    "        ax.tick_params(axis='y', direction='out', width=lw, length=7,\n",
    "                       color=c_right, labelsize=size, pad=pad)"
   ]
  },
  {
   "cell_type": "markdown",
   "metadata": {},
   "source": [
    "### Filtering benchmarks\n",
    "* This is not run-specific\n",
    "* Happens on the basis of individual assays\n",
    "* Will show the filtering of 1970 HD assays\n",
    "* This will at least highlight the places where we see bottlenecks in pipeline"
   ]
  },
  {
   "cell_type": "code",
   "execution_count": 227,
   "metadata": {
    "collapsed": true
   },
   "outputs": [],
   "source": [
    "filtering = glob.glob('../filter_benchmarks/*/777962.170519.1970.HD.txt')"
   ]
  },
  {
   "cell_type": "code",
   "execution_count": 228,
   "metadata": {
    "collapsed": false
   },
   "outputs": [
    {
     "data": {
      "text/plain": [
       "['../filter_benchmarks/duplicates_filtered/777962.170519.1970.HD.txt',\n",
       " '../filter_benchmarks/filter_hwe_variants/777962.170519.1970.HD.txt',\n",
       " '../filter_benchmarks/filter_individuals/777962.170519.1970.HD.txt',\n",
       " '../filter_benchmarks/filter_variants/777962.170519.1970.HD.txt',\n",
       " '../filter_benchmarks/hwe_stats/777962.170519.1970.HD.txt',\n",
       " '../filter_benchmarks/impute_sex/777962.170519.1970.HD.txt',\n",
       " '../filter_benchmarks/individual_stats/777962.170519.1970.HD.txt',\n",
       " '../filter_benchmarks/variant_stats/777962.170519.1970.HD.txt']"
      ]
     },
     "execution_count": 228,
     "metadata": {},
     "output_type": "execute_result"
    }
   ],
   "source": [
    "pstep = [xx.split('/')[2] for xx in filtering]\n",
    "filtering"
   ]
  },
  {
   "cell_type": "code",
   "execution_count": null,
   "metadata": {
    "collapsed": false
   },
   "outputs": [],
   "source": []
  },
  {
   "cell_type": "code",
   "execution_count": 229,
   "metadata": {
    "collapsed": true
   },
   "outputs": [],
   "source": [
    "steps = []\n",
    "for xx in filtering:\n",
    "    bm = pd.read_table(xx, index_col = None, header = 0)\n",
    "    steps.append(bm)\n",
    "filt = pd.concat(steps)"
   ]
  },
  {
   "cell_type": "code",
   "execution_count": 230,
   "metadata": {
    "collapsed": false
   },
   "outputs": [
    {
     "data": {
      "text/html": [
       "<div>\n",
       "<style>\n",
       "    .dataframe thead tr:only-child th {\n",
       "        text-align: right;\n",
       "    }\n",
       "\n",
       "    .dataframe thead th {\n",
       "        text-align: left;\n",
       "    }\n",
       "\n",
       "    .dataframe tbody tr th {\n",
       "        vertical-align: top;\n",
       "    }\n",
       "</style>\n",
       "<table border=\"1\" class=\"dataframe\">\n",
       "  <thead>\n",
       "    <tr style=\"text-align: right;\">\n",
       "      <th></th>\n",
       "      <th>h:m:s</th>\n",
       "      <th>io_in</th>\n",
       "      <th>io_out</th>\n",
       "      <th>max_pss</th>\n",
       "      <th>max_rss</th>\n",
       "      <th>max_uss</th>\n",
       "      <th>max_vms</th>\n",
       "      <th>mean_load</th>\n",
       "      <th>s</th>\n",
       "    </tr>\n",
       "  </thead>\n",
       "  <tbody>\n",
       "    <tr>\n",
       "      <th>duplicates_filtered</th>\n",
       "      <td>0:03:43.113061</td>\n",
       "      <td>-</td>\n",
       "      <td>-</td>\n",
       "      <td>-</td>\n",
       "      <td>-</td>\n",
       "      <td>-</td>\n",
       "      <td>-</td>\n",
       "      <td>-</td>\n",
       "      <td>223.113061</td>\n",
       "    </tr>\n",
       "    <tr>\n",
       "      <th>filter_hwe_variants</th>\n",
       "      <td>0:00:08</td>\n",
       "      <td>0</td>\n",
       "      <td>376.94</td>\n",
       "      <td>56.23</td>\n",
       "      <td>57.21</td>\n",
       "      <td>56.21</td>\n",
       "      <td>258535</td>\n",
       "      <td>32.31</td>\n",
       "      <td>8.281800</td>\n",
       "    </tr>\n",
       "    <tr>\n",
       "      <th>filter_individuals</th>\n",
       "      <td>0:00:11</td>\n",
       "      <td>0</td>\n",
       "      <td>374.38</td>\n",
       "      <td>47.17</td>\n",
       "      <td>48.61</td>\n",
       "      <td>46.71</td>\n",
       "      <td>258535</td>\n",
       "      <td>27.85</td>\n",
       "      <td>11.409800</td>\n",
       "    </tr>\n",
       "    <tr>\n",
       "      <th>filter_variants</th>\n",
       "      <td>0:02:21</td>\n",
       "      <td>0</td>\n",
       "      <td>50.27</td>\n",
       "      <td>364.62</td>\n",
       "      <td>365.61</td>\n",
       "      <td>364.61</td>\n",
       "      <td>258535</td>\n",
       "      <td>78.73</td>\n",
       "      <td>141.332100</td>\n",
       "    </tr>\n",
       "    <tr>\n",
       "      <th>hwe_stats</th>\n",
       "      <td>0:00:05</td>\n",
       "      <td>0</td>\n",
       "      <td>63.23</td>\n",
       "      <td>53.43</td>\n",
       "      <td>54.42</td>\n",
       "      <td>53.42</td>\n",
       "      <td>258535</td>\n",
       "      <td>36.49</td>\n",
       "      <td>5.730800</td>\n",
       "    </tr>\n",
       "    <tr>\n",
       "      <th>impute_sex</th>\n",
       "      <td>0:00:08</td>\n",
       "      <td>0</td>\n",
       "      <td>377.12</td>\n",
       "      <td>47.57</td>\n",
       "      <td>48.55</td>\n",
       "      <td>47.55</td>\n",
       "      <td>258535</td>\n",
       "      <td>26.55</td>\n",
       "      <td>8.931300</td>\n",
       "    </tr>\n",
       "    <tr>\n",
       "      <th>individual_stats</th>\n",
       "      <td>0:00:07</td>\n",
       "      <td>0</td>\n",
       "      <td>31.8</td>\n",
       "      <td>27.66</td>\n",
       "      <td>28.64</td>\n",
       "      <td>27.64</td>\n",
       "      <td>258535</td>\n",
       "      <td>28.4</td>\n",
       "      <td>7.250500</td>\n",
       "    </tr>\n",
       "    <tr>\n",
       "      <th>variant_stats</th>\n",
       "      <td>0:02:18</td>\n",
       "      <td>0</td>\n",
       "      <td>44.78</td>\n",
       "      <td>365.48</td>\n",
       "      <td>366.47</td>\n",
       "      <td>365.47</td>\n",
       "      <td>258535</td>\n",
       "      <td>81.26</td>\n",
       "      <td>138.783300</td>\n",
       "    </tr>\n",
       "  </tbody>\n",
       "</table>\n",
       "</div>"
      ],
      "text/plain": [
       "                              h:m:s io_in  io_out max_pss max_rss max_uss  \\\n",
       "duplicates_filtered  0:03:43.113061     -       -       -       -       -   \n",
       "filter_hwe_variants         0:00:08     0  376.94   56.23   57.21   56.21   \n",
       "filter_individuals          0:00:11     0  374.38   47.17   48.61   46.71   \n",
       "filter_variants             0:02:21     0   50.27  364.62  365.61  364.61   \n",
       "hwe_stats                   0:00:05     0   63.23   53.43   54.42   53.42   \n",
       "impute_sex                  0:00:08     0  377.12   47.57   48.55   47.55   \n",
       "individual_stats            0:00:07     0    31.8   27.66   28.64   27.64   \n",
       "variant_stats               0:02:18     0   44.78  365.48  366.47  365.47   \n",
       "\n",
       "                    max_vms mean_load           s  \n",
       "duplicates_filtered       -         -  223.113061  \n",
       "filter_hwe_variants  258535     32.31    8.281800  \n",
       "filter_individuals   258535     27.85   11.409800  \n",
       "filter_variants      258535     78.73  141.332100  \n",
       "hwe_stats            258535     36.49    5.730800  \n",
       "impute_sex           258535     26.55    8.931300  \n",
       "individual_stats     258535      28.4    7.250500  \n",
       "variant_stats        258535     81.26  138.783300  "
      ]
     },
     "execution_count": 230,
     "metadata": {},
     "output_type": "execute_result"
    }
   ],
   "source": [
    "filt.index = pstep\n",
    "filt.replace(np.NaN, '-')"
   ]
  },
  {
   "cell_type": "code",
   "execution_count": 231,
   "metadata": {
    "collapsed": false
   },
   "outputs": [
    {
     "data": {
      "text/html": [
       "<div>\n",
       "<style>\n",
       "    .dataframe thead tr:only-child th {\n",
       "        text-align: right;\n",
       "    }\n",
       "\n",
       "    .dataframe thead th {\n",
       "        text-align: left;\n",
       "    }\n",
       "\n",
       "    .dataframe tbody tr th {\n",
       "        vertical-align: top;\n",
       "    }\n",
       "</style>\n",
       "<table border=\"1\" class=\"dataframe\">\n",
       "  <thead>\n",
       "    <tr style=\"text-align: right;\">\n",
       "      <th></th>\n",
       "      <th>h:m:s</th>\n",
       "      <th>io_in</th>\n",
       "      <th>io_out</th>\n",
       "      <th>max_pss</th>\n",
       "      <th>max_rss</th>\n",
       "      <th>max_uss</th>\n",
       "      <th>max_vms</th>\n",
       "      <th>mean_load</th>\n",
       "      <th>s</th>\n",
       "    </tr>\n",
       "  </thead>\n",
       "  <tbody>\n",
       "    <tr>\n",
       "      <th>duplicates_filtered</th>\n",
       "      <td>0:03:43.113061</td>\n",
       "      <td>NaN</td>\n",
       "      <td>NaN</td>\n",
       "      <td>NaN</td>\n",
       "      <td>NaN</td>\n",
       "      <td>NaN</td>\n",
       "      <td>NaN</td>\n",
       "      <td>NaN</td>\n",
       "      <td>223.113061</td>\n",
       "    </tr>\n",
       "    <tr>\n",
       "      <th>filter_hwe_variants</th>\n",
       "      <td>0:00:08</td>\n",
       "      <td>0.0</td>\n",
       "      <td>376.94</td>\n",
       "      <td>56.23</td>\n",
       "      <td>57.21</td>\n",
       "      <td>56.21</td>\n",
       "      <td>258535.27</td>\n",
       "      <td>32.31</td>\n",
       "      <td>8.281800</td>\n",
       "    </tr>\n",
       "    <tr>\n",
       "      <th>filter_individuals</th>\n",
       "      <td>0:00:11</td>\n",
       "      <td>0.0</td>\n",
       "      <td>374.38</td>\n",
       "      <td>47.17</td>\n",
       "      <td>48.61</td>\n",
       "      <td>46.71</td>\n",
       "      <td>258535.28</td>\n",
       "      <td>27.85</td>\n",
       "      <td>11.409800</td>\n",
       "    </tr>\n",
       "    <tr>\n",
       "      <th>filter_variants</th>\n",
       "      <td>0:02:21</td>\n",
       "      <td>0.0</td>\n",
       "      <td>50.27</td>\n",
       "      <td>364.62</td>\n",
       "      <td>365.61</td>\n",
       "      <td>364.61</td>\n",
       "      <td>258535.27</td>\n",
       "      <td>78.73</td>\n",
       "      <td>141.332100</td>\n",
       "    </tr>\n",
       "    <tr>\n",
       "      <th>hwe_stats</th>\n",
       "      <td>0:00:05</td>\n",
       "      <td>0.0</td>\n",
       "      <td>63.23</td>\n",
       "      <td>53.43</td>\n",
       "      <td>54.42</td>\n",
       "      <td>53.42</td>\n",
       "      <td>258535.26</td>\n",
       "      <td>36.49</td>\n",
       "      <td>5.730800</td>\n",
       "    </tr>\n",
       "    <tr>\n",
       "      <th>impute_sex</th>\n",
       "      <td>0:00:08</td>\n",
       "      <td>0.0</td>\n",
       "      <td>377.12</td>\n",
       "      <td>47.57</td>\n",
       "      <td>48.55</td>\n",
       "      <td>47.55</td>\n",
       "      <td>258535.28</td>\n",
       "      <td>26.55</td>\n",
       "      <td>8.931300</td>\n",
       "    </tr>\n",
       "    <tr>\n",
       "      <th>individual_stats</th>\n",
       "      <td>0:00:07</td>\n",
       "      <td>0.0</td>\n",
       "      <td>31.80</td>\n",
       "      <td>27.66</td>\n",
       "      <td>28.64</td>\n",
       "      <td>27.64</td>\n",
       "      <td>258535.26</td>\n",
       "      <td>28.40</td>\n",
       "      <td>7.250500</td>\n",
       "    </tr>\n",
       "    <tr>\n",
       "      <th>variant_stats</th>\n",
       "      <td>0:02:18</td>\n",
       "      <td>0.0</td>\n",
       "      <td>44.78</td>\n",
       "      <td>365.48</td>\n",
       "      <td>366.47</td>\n",
       "      <td>365.47</td>\n",
       "      <td>258535.27</td>\n",
       "      <td>81.26</td>\n",
       "      <td>138.783300</td>\n",
       "    </tr>\n",
       "  </tbody>\n",
       "</table>\n",
       "</div>"
      ],
      "text/plain": [
       "                              h:m:s  io_in  io_out  max_pss  max_rss  max_uss  \\\n",
       "duplicates_filtered  0:03:43.113061    NaN     NaN      NaN      NaN      NaN   \n",
       "filter_hwe_variants         0:00:08    0.0  376.94    56.23    57.21    56.21   \n",
       "filter_individuals          0:00:11    0.0  374.38    47.17    48.61    46.71   \n",
       "filter_variants             0:02:21    0.0   50.27   364.62   365.61   364.61   \n",
       "hwe_stats                   0:00:05    0.0   63.23    53.43    54.42    53.42   \n",
       "impute_sex                  0:00:08    0.0  377.12    47.57    48.55    47.55   \n",
       "individual_stats            0:00:07    0.0   31.80    27.66    28.64    27.64   \n",
       "variant_stats               0:02:18    0.0   44.78   365.48   366.47   365.47   \n",
       "\n",
       "                       max_vms  mean_load           s  \n",
       "duplicates_filtered        NaN        NaN  223.113061  \n",
       "filter_hwe_variants  258535.27      32.31    8.281800  \n",
       "filter_individuals   258535.28      27.85   11.409800  \n",
       "filter_variants      258535.27      78.73  141.332100  \n",
       "hwe_stats            258535.26      36.49    5.730800  \n",
       "impute_sex           258535.28      26.55    8.931300  \n",
       "individual_stats     258535.26      28.40    7.250500  \n",
       "variant_stats        258535.27      81.26  138.783300  "
      ]
     },
     "execution_count": 231,
     "metadata": {},
     "output_type": "execute_result"
    }
   ],
   "source": [
    "filt"
   ]
  },
  {
   "cell_type": "code",
   "execution_count": null,
   "metadata": {
    "collapsed": false
   },
   "outputs": [],
   "source": []
  },
  {
   "cell_type": "code",
   "execution_count": null,
   "metadata": {
    "collapsed": true
   },
   "outputs": [],
   "source": []
  },
  {
   "cell_type": "markdown",
   "metadata": {},
   "source": [
    "### Benchmarks for NON-Impute2 steps (Phasing + Imputation)\n",
    "* Separate step needed to glob search for and add Impute2 chunks for this single chromosome\n",
    "* Performed this with run 1 and run 2\n",
    "* Some have all of the desired stats, others don't\n",
    "* Eagle phasing run with 8 cores -- do I need to transform this in some way?"
   ]
  },
  {
   "cell_type": "code",
   "execution_count": 232,
   "metadata": {
    "collapsed": false
   },
   "outputs": [],
   "source": [
    "run2 = glob.glob('./*/run2/snp50.chr20.benchmark.txt') #all of the non-Impute2 steps"
   ]
  },
  {
   "cell_type": "code",
   "execution_count": 233,
   "metadata": {
    "collapsed": false
   },
   "outputs": [
    {
     "data": {
      "text/plain": [
       "['./cat_chunks/run2/snp50.chr20.benchmark.txt',\n",
       " './decompress/run2/snp50.chr20.benchmark.txt',\n",
       " './eagle_phased_assays/run2/snp50.chr20.benchmark.txt',\n",
       " './impute2_vcf/run2/snp50.chr20.benchmark.txt',\n",
       " './imp_acc/run2/snp50.chr20.benchmark.txt']"
      ]
     },
     "execution_count": 233,
     "metadata": {},
     "output_type": "execute_result"
    }
   ],
   "source": [
    "run2"
   ]
  },
  {
   "cell_type": "code",
   "execution_count": 234,
   "metadata": {
    "collapsed": true
   },
   "outputs": [],
   "source": [
    "name = [xx.split('/')[1] for xx in run2]"
   ]
  },
  {
   "cell_type": "code",
   "execution_count": 235,
   "metadata": {
    "collapsed": false
   },
   "outputs": [],
   "source": [
    "steps = []\n",
    "for xx in run2:\n",
    "    bm = pd.read_table(xx, index_col = None, header = 0)\n",
    "    steps.append(bm)\n",
    "combined = pd.concat(steps)"
   ]
  },
  {
   "cell_type": "code",
   "execution_count": 236,
   "metadata": {
    "collapsed": false
   },
   "outputs": [],
   "source": [
    "range(1,31)combined.index = name"
   ]
  },
  {
   "cell_type": "code",
   "execution_count": 237,
   "metadata": {
    "collapsed": false
   },
   "outputs": [
    {
     "data": {
      "text/html": [
       "<div>\n",
       "<style>\n",
       "    .dataframe thead tr:only-child th {\n",
       "        text-align: right;\n",
       "    }\n",
       "\n",
       "    .dataframe thead th {\n",
       "        text-align: left;\n",
       "    }\n",
       "\n",
       "    .dataframe tbody tr th {\n",
       "        vertical-align: top;\n",
       "    }\n",
       "</style>\n",
       "<table border=\"1\" class=\"dataframe\">\n",
       "  <thead>\n",
       "    <tr style=\"text-align: right;\">\n",
       "      <th></th>\n",
       "      <th>s</th>\n",
       "      <th>h:m:s</th>\n",
       "      <th>max_rss</th>\n",
       "      <th>max_vms</th>\n",
       "      <th>max_uss</th>\n",
       "      <th>max_pss</th>\n",
       "      <th>io_in</th>\n",
       "      <th>io_out</th>\n",
       "      <th>mean_load</th>\n",
       "    </tr>\n",
       "  </thead>\n",
       "  <tbody>\n",
       "    <tr>\n",
       "      <th>cat_chunks</th>\n",
       "      <td>2.1379</td>\n",
       "      <td>0:00:02</td>\n",
       "      <td>1.79</td>\n",
       "      <td>206.22</td>\n",
       "      <td>0.32</td>\n",
       "      <td>0.36</td>\n",
       "      <td>0</td>\n",
       "      <td>115.76</td>\n",
       "      <td>13.11</td>\n",
       "    </tr>\n",
       "    <tr>\n",
       "      <th>decompress</th>\n",
       "      <td>11.3572</td>\n",
       "      <td>0:00:11</td>\n",
       "      <td>-</td>\n",
       "      <td>-</td>\n",
       "      <td>-</td>\n",
       "      <td>-</td>\n",
       "      <td>-</td>\n",
       "      <td>-</td>\n",
       "      <td>0.00</td>\n",
       "    </tr>\n",
       "    <tr>\n",
       "      <th>eagle_phased_assays</th>\n",
       "      <td>67.9663</td>\n",
       "      <td>0:01:07</td>\n",
       "      <td>166.48</td>\n",
       "      <td>1488.49</td>\n",
       "      <td>157</td>\n",
       "      <td>157.24</td>\n",
       "      <td>0</td>\n",
       "      <td>0.01</td>\n",
       "      <td>622.14</td>\n",
       "    </tr>\n",
       "    <tr>\n",
       "      <th>impute2_vcf</th>\n",
       "      <td>26.5016</td>\n",
       "      <td>0:00:26</td>\n",
       "      <td>-</td>\n",
       "      <td>-</td>\n",
       "      <td>-</td>\n",
       "      <td>-</td>\n",
       "      <td>-</td>\n",
       "      <td>-</td>\n",
       "      <td>0.00</td>\n",
       "    </tr>\n",
       "    <tr>\n",
       "      <th>imp_acc</th>\n",
       "      <td>24.1628</td>\n",
       "      <td>0:00:24</td>\n",
       "      <td>1557.82</td>\n",
       "      <td>2295.15</td>\n",
       "      <td>1586.05</td>\n",
       "      <td>1587.88</td>\n",
       "      <td>0</td>\n",
       "      <td>0.02</td>\n",
       "      <td>0.00</td>\n",
       "    </tr>\n",
       "  </tbody>\n",
       "</table>\n",
       "</div>"
      ],
      "text/plain": [
       "                           s    h:m:s  max_rss  max_vms  max_uss  max_pss  \\\n",
       "cat_chunks            2.1379  0:00:02     1.79   206.22     0.32     0.36   \n",
       "decompress           11.3572  0:00:11        -        -        -        -   \n",
       "eagle_phased_assays  67.9663  0:01:07   166.48  1488.49      157   157.24   \n",
       "impute2_vcf          26.5016  0:00:26        -        -        -        -   \n",
       "imp_acc              24.1628  0:00:24  1557.82  2295.15  1586.05  1587.88   \n",
       "\n",
       "                    io_in  io_out  mean_load  \n",
       "cat_chunks              0  115.76      13.11  \n",
       "decompress              -       -       0.00  \n",
       "eagle_phased_assays     0    0.01     622.14  \n",
       "impute2_vcf             -       -       0.00  \n",
       "imp_acc                 0    0.02       0.00  "
      ]
     },
     "execution_count": 237,
     "metadata": {},
     "output_type": "execute_result"
    }
   ],
   "source": [
    "combined # Why do all of these stats not have complete stats?"
   ]
  },
  {
   "cell_type": "markdown",
   "metadata": {},
   "source": [
    "### Impute2 Chunk Benchmarks"
   ]
  },
  {
   "cell_type": "code",
   "execution_count": null,
   "metadata": {
    "collapsed": false
   },
   "outputs": [],
   "source": []
  },
  {
   "cell_type": "code",
   "execution_count": 238,
   "metadata": {
    "collapsed": false
   },
   "outputs": [],
   "source": [
    "ref = glob.glob('./impute2*/run2/merged*.chr20.*.benchmark.txt')\n",
    "run2imp = glob.glob('./impute2*/run2/snp50.chr20.*.benchmark.txt')\n",
    "chrom = []\n",
    "for xx in ref:\n",
    "    df = pd.read_table(xx, index_col = None, header = 0)\n",
    "    chrom.append(df)\n",
    "for xx in run2imp:\n",
    "    df = pd.read_table(xx, index_col = None, header = 0)\n",
    "    chrom.append(df)\n",
    "combinedimp = pd.concat(chrom)\n",
    "hapleg = pd.read_table('./hap_leg/run2/snp50.chr20.phased.benchmark.txt', index_col = None, header = 0)\n",
    "hapleg.index = ['hap_leg']"
   ]
  },
  {
   "cell_type": "code",
   "execution_count": 239,
   "metadata": {
    "collapsed": false
   },
   "outputs": [],
   "source": [
    "comb = ref + run2imp"
   ]
  },
  {
   "cell_type": "code",
   "execution_count": 240,
   "metadata": {
    "collapsed": false
   },
   "outputs": [],
   "source": [
    "combinedimp.index = [xx.split('/')[1]+'_chunk' + xx.split('.')[3] for xx in comb]\n",
    "combinedimp = combinedimp.append(hapleg)"
   ]
  },
  {
   "cell_type": "code",
   "execution_count": 241,
   "metadata": {
    "collapsed": false
   },
   "outputs": [
    {
     "data": {
      "text/html": [
       "<div>\n",
       "<style>\n",
       "    .dataframe thead tr:only-child th {\n",
       "        text-align: right;\n",
       "    }\n",
       "\n",
       "    .dataframe thead th {\n",
       "        text-align: left;\n",
       "    }\n",
       "\n",
       "    .dataframe tbody tr th {\n",
       "        vertical-align: top;\n",
       "    }\n",
       "</style>\n",
       "<table border=\"1\" class=\"dataframe\">\n",
       "  <thead>\n",
       "    <tr style=\"text-align: right;\">\n",
       "      <th></th>\n",
       "      <th>s</th>\n",
       "      <th>h:m:s</th>\n",
       "      <th>max_rss</th>\n",
       "      <th>max_vms</th>\n",
       "      <th>max_uss</th>\n",
       "      <th>max_pss</th>\n",
       "      <th>io_in</th>\n",
       "      <th>io_out</th>\n",
       "      <th>mean_load</th>\n",
       "    </tr>\n",
       "  </thead>\n",
       "  <tbody>\n",
       "    <tr>\n",
       "      <th>impute2_refpanel_chunk0</th>\n",
       "      <td>10.5865</td>\n",
       "      <td>0:00:10</td>\n",
       "      <td>-</td>\n",
       "      <td>-</td>\n",
       "      <td>-</td>\n",
       "      <td>-</td>\n",
       "      <td>-</td>\n",
       "      <td>-</td>\n",
       "      <td>0.00</td>\n",
       "    </tr>\n",
       "    <tr>\n",
       "      <th>impute2_refpanel_chunk1</th>\n",
       "      <td>9.9534</td>\n",
       "      <td>0:00:09</td>\n",
       "      <td>-</td>\n",
       "      <td>-</td>\n",
       "      <td>-</td>\n",
       "      <td>-</td>\n",
       "      <td>-</td>\n",
       "      <td>-</td>\n",
       "      <td>0.00</td>\n",
       "    </tr>\n",
       "    <tr>\n",
       "      <th>impute2_refpanel_chunk10</th>\n",
       "      <td>10.5814</td>\n",
       "      <td>0:00:10</td>\n",
       "      <td>-</td>\n",
       "      <td>-</td>\n",
       "      <td>-</td>\n",
       "      <td>-</td>\n",
       "      <td>-</td>\n",
       "      <td>-</td>\n",
       "      <td>0.00</td>\n",
       "    </tr>\n",
       "    <tr>\n",
       "      <th>impute2_refpanel_chunk11</th>\n",
       "      <td>10.7784</td>\n",
       "      <td>0:00:10</td>\n",
       "      <td>-</td>\n",
       "      <td>-</td>\n",
       "      <td>-</td>\n",
       "      <td>-</td>\n",
       "      <td>-</td>\n",
       "      <td>-</td>\n",
       "      <td>0.00</td>\n",
       "    </tr>\n",
       "    <tr>\n",
       "      <th>impute2_refpanel_chunk12</th>\n",
       "      <td>10.3073</td>\n",
       "      <td>0:00:10</td>\n",
       "      <td>-</td>\n",
       "      <td>-</td>\n",
       "      <td>-</td>\n",
       "      <td>-</td>\n",
       "      <td>-</td>\n",
       "      <td>-</td>\n",
       "      <td>0.00</td>\n",
       "    </tr>\n",
       "    <tr>\n",
       "      <th>impute2_refpanel_chunk13</th>\n",
       "      <td>10.7416</td>\n",
       "      <td>0:00:10</td>\n",
       "      <td>-</td>\n",
       "      <td>-</td>\n",
       "      <td>-</td>\n",
       "      <td>-</td>\n",
       "      <td>-</td>\n",
       "      <td>-</td>\n",
       "      <td>0.00</td>\n",
       "    </tr>\n",
       "    <tr>\n",
       "      <th>impute2_refpanel_chunk2</th>\n",
       "      <td>10.8164</td>\n",
       "      <td>0:00:10</td>\n",
       "      <td>-</td>\n",
       "      <td>-</td>\n",
       "      <td>-</td>\n",
       "      <td>-</td>\n",
       "      <td>-</td>\n",
       "      <td>-</td>\n",
       "      <td>0.00</td>\n",
       "    </tr>\n",
       "    <tr>\n",
       "      <th>impute2_refpanel_chunk3</th>\n",
       "      <td>10.3999</td>\n",
       "      <td>0:00:10</td>\n",
       "      <td>-</td>\n",
       "      <td>-</td>\n",
       "      <td>-</td>\n",
       "      <td>-</td>\n",
       "      <td>-</td>\n",
       "      <td>-</td>\n",
       "      <td>0.00</td>\n",
       "    </tr>\n",
       "    <tr>\n",
       "      <th>impute2_refpanel_chunk4</th>\n",
       "      <td>10.8795</td>\n",
       "      <td>0:00:10</td>\n",
       "      <td>-</td>\n",
       "      <td>-</td>\n",
       "      <td>-</td>\n",
       "      <td>-</td>\n",
       "      <td>-</td>\n",
       "      <td>-</td>\n",
       "      <td>0.00</td>\n",
       "    </tr>\n",
       "    <tr>\n",
       "      <th>impute2_refpanel_chunk5</th>\n",
       "      <td>6.6437</td>\n",
       "      <td>0:00:06</td>\n",
       "      <td>25.47</td>\n",
       "      <td>133.53</td>\n",
       "      <td>23.26</td>\n",
       "      <td>23.37</td>\n",
       "      <td>0</td>\n",
       "      <td>0.01</td>\n",
       "      <td>0.00</td>\n",
       "    </tr>\n",
       "    <tr>\n",
       "      <th>impute2_refpanel_chunk6</th>\n",
       "      <td>8.1518</td>\n",
       "      <td>0:00:08</td>\n",
       "      <td>-</td>\n",
       "      <td>-</td>\n",
       "      <td>-</td>\n",
       "      <td>-</td>\n",
       "      <td>-</td>\n",
       "      <td>-</td>\n",
       "      <td>0.00</td>\n",
       "    </tr>\n",
       "    <tr>\n",
       "      <th>impute2_refpanel_chunk7</th>\n",
       "      <td>7.9326</td>\n",
       "      <td>0:00:07</td>\n",
       "      <td>31.23</td>\n",
       "      <td>139.34</td>\n",
       "      <td>29.02</td>\n",
       "      <td>29.17</td>\n",
       "      <td>0</td>\n",
       "      <td>0.01</td>\n",
       "      <td>0.00</td>\n",
       "    </tr>\n",
       "    <tr>\n",
       "      <th>impute2_refpanel_chunk8</th>\n",
       "      <td>9.8995</td>\n",
       "      <td>0:00:09</td>\n",
       "      <td>-</td>\n",
       "      <td>-</td>\n",
       "      <td>-</td>\n",
       "      <td>-</td>\n",
       "      <td>-</td>\n",
       "      <td>-</td>\n",
       "      <td>0.00</td>\n",
       "    </tr>\n",
       "    <tr>\n",
       "      <th>impute2_refpanel_chunk9</th>\n",
       "      <td>10.7410</td>\n",
       "      <td>0:00:10</td>\n",
       "      <td>-</td>\n",
       "      <td>-</td>\n",
       "      <td>-</td>\n",
       "      <td>-</td>\n",
       "      <td>-</td>\n",
       "      <td>-</td>\n",
       "      <td>0.00</td>\n",
       "    </tr>\n",
       "    <tr>\n",
       "      <th>impute2_chunk0</th>\n",
       "      <td>36.0001</td>\n",
       "      <td>0:00:36</td>\n",
       "      <td>55.57</td>\n",
       "      <td>163.61</td>\n",
       "      <td>53.34</td>\n",
       "      <td>53.99</td>\n",
       "      <td>0</td>\n",
       "      <td>7.27</td>\n",
       "      <td>33.94</td>\n",
       "    </tr>\n",
       "    <tr>\n",
       "      <th>impute2_chunk1</th>\n",
       "      <td>34.2734</td>\n",
       "      <td>0:00:34</td>\n",
       "      <td>55.38</td>\n",
       "      <td>163.44</td>\n",
       "      <td>53.12</td>\n",
       "      <td>53.37</td>\n",
       "      <td>0</td>\n",
       "      <td>0.02</td>\n",
       "      <td>0.00</td>\n",
       "    </tr>\n",
       "    <tr>\n",
       "      <th>impute2_chunk10</th>\n",
       "      <td>22.9768</td>\n",
       "      <td>0:00:22</td>\n",
       "      <td>37.38</td>\n",
       "      <td>145.51</td>\n",
       "      <td>35.14</td>\n",
       "      <td>35.27</td>\n",
       "      <td>0</td>\n",
       "      <td>0.02</td>\n",
       "      <td>0.00</td>\n",
       "    </tr>\n",
       "    <tr>\n",
       "      <th>impute2_chunk11</th>\n",
       "      <td>35.0885</td>\n",
       "      <td>0:00:35</td>\n",
       "      <td>56.41</td>\n",
       "      <td>164.45</td>\n",
       "      <td>54.14</td>\n",
       "      <td>54.5</td>\n",
       "      <td>0</td>\n",
       "      <td>3.5</td>\n",
       "      <td>24.69</td>\n",
       "    </tr>\n",
       "    <tr>\n",
       "      <th>impute2_chunk12</th>\n",
       "      <td>33.9194</td>\n",
       "      <td>0:00:33</td>\n",
       "      <td>52.79</td>\n",
       "      <td>160.9</td>\n",
       "      <td>50.55</td>\n",
       "      <td>50.79</td>\n",
       "      <td>0</td>\n",
       "      <td>0.02</td>\n",
       "      <td>0.00</td>\n",
       "    </tr>\n",
       "    <tr>\n",
       "      <th>impute2_chunk13</th>\n",
       "      <td>34.1708</td>\n",
       "      <td>0:00:34</td>\n",
       "      <td>58.16</td>\n",
       "      <td>166.19</td>\n",
       "      <td>55.92</td>\n",
       "      <td>56.26</td>\n",
       "      <td>0</td>\n",
       "      <td>7.69</td>\n",
       "      <td>25.75</td>\n",
       "    </tr>\n",
       "    <tr>\n",
       "      <th>impute2_chunk2</th>\n",
       "      <td>26.7726</td>\n",
       "      <td>0:00:26</td>\n",
       "      <td>45.82</td>\n",
       "      <td>153.89</td>\n",
       "      <td>43.59</td>\n",
       "      <td>43.72</td>\n",
       "      <td>0</td>\n",
       "      <td>0.02</td>\n",
       "      <td>0.00</td>\n",
       "    </tr>\n",
       "    <tr>\n",
       "      <th>impute2_chunk3</th>\n",
       "      <td>26.8970</td>\n",
       "      <td>0:00:26</td>\n",
       "      <td>44.56</td>\n",
       "      <td>152.62</td>\n",
       "      <td>42.3</td>\n",
       "      <td>42.44</td>\n",
       "      <td>0</td>\n",
       "      <td>0.02</td>\n",
       "      <td>0.00</td>\n",
       "    </tr>\n",
       "    <tr>\n",
       "      <th>impute2_chunk4</th>\n",
       "      <td>37.7014</td>\n",
       "      <td>0:00:37</td>\n",
       "      <td>54.34</td>\n",
       "      <td>162.37</td>\n",
       "      <td>53.34</td>\n",
       "      <td>53.38</td>\n",
       "      <td>0</td>\n",
       "      <td>8.51</td>\n",
       "      <td>38.06</td>\n",
       "    </tr>\n",
       "    <tr>\n",
       "      <th>impute2_chunk5</th>\n",
       "      <td>24.5233</td>\n",
       "      <td>0:00:24</td>\n",
       "      <td>40.97</td>\n",
       "      <td>149.01</td>\n",
       "      <td>38.73</td>\n",
       "      <td>38.84</td>\n",
       "      <td>0</td>\n",
       "      <td>0.02</td>\n",
       "      <td>0.00</td>\n",
       "    </tr>\n",
       "    <tr>\n",
       "      <th>impute2_chunk6</th>\n",
       "      <td>22.9620</td>\n",
       "      <td>0:00:22</td>\n",
       "      <td>40.44</td>\n",
       "      <td>148.51</td>\n",
       "      <td>38.21</td>\n",
       "      <td>38.31</td>\n",
       "      <td>0</td>\n",
       "      <td>0.02</td>\n",
       "      <td>0.00</td>\n",
       "    </tr>\n",
       "    <tr>\n",
       "      <th>impute2_chunk7</th>\n",
       "      <td>31.6049</td>\n",
       "      <td>0:00:31</td>\n",
       "      <td>51.55</td>\n",
       "      <td>159.6</td>\n",
       "      <td>49.32</td>\n",
       "      <td>49.43</td>\n",
       "      <td>0</td>\n",
       "      <td>0.02</td>\n",
       "      <td>0.00</td>\n",
       "    </tr>\n",
       "    <tr>\n",
       "      <th>impute2_chunk8</th>\n",
       "      <td>27.1815</td>\n",
       "      <td>0:00:27</td>\n",
       "      <td>44.04</td>\n",
       "      <td>152.13</td>\n",
       "      <td>41.8</td>\n",
       "      <td>41.92</td>\n",
       "      <td>0</td>\n",
       "      <td>0.02</td>\n",
       "      <td>0.00</td>\n",
       "    </tr>\n",
       "    <tr>\n",
       "      <th>impute2_chunk9</th>\n",
       "      <td>20.5950</td>\n",
       "      <td>0:00:20</td>\n",
       "      <td>35.03</td>\n",
       "      <td>143.1</td>\n",
       "      <td>32.8</td>\n",
       "      <td>32.9</td>\n",
       "      <td>0</td>\n",
       "      <td>0.02</td>\n",
       "      <td>0.00</td>\n",
       "    </tr>\n",
       "    <tr>\n",
       "      <th>hap_leg</th>\n",
       "      <td>1.9764</td>\n",
       "      <td>0:00:01</td>\n",
       "      <td>-</td>\n",
       "      <td>-</td>\n",
       "      <td>-</td>\n",
       "      <td>-</td>\n",
       "      <td>-</td>\n",
       "      <td>-</td>\n",
       "      <td>0.00</td>\n",
       "    </tr>\n",
       "  </tbody>\n",
       "</table>\n",
       "</div>"
      ],
      "text/plain": [
       "                                s    h:m:s max_rss max_vms max_uss max_pss  \\\n",
       "impute2_refpanel_chunk0   10.5865  0:00:10       -       -       -       -   \n",
       "impute2_refpanel_chunk1    9.9534  0:00:09       -       -       -       -   \n",
       "impute2_refpanel_chunk10  10.5814  0:00:10       -       -       -       -   \n",
       "impute2_refpanel_chunk11  10.7784  0:00:10       -       -       -       -   \n",
       "impute2_refpanel_chunk12  10.3073  0:00:10       -       -       -       -   \n",
       "impute2_refpanel_chunk13  10.7416  0:00:10       -       -       -       -   \n",
       "impute2_refpanel_chunk2   10.8164  0:00:10       -       -       -       -   \n",
       "impute2_refpanel_chunk3   10.3999  0:00:10       -       -       -       -   \n",
       "impute2_refpanel_chunk4   10.8795  0:00:10       -       -       -       -   \n",
       "impute2_refpanel_chunk5    6.6437  0:00:06   25.47  133.53   23.26   23.37   \n",
       "impute2_refpanel_chunk6    8.1518  0:00:08       -       -       -       -   \n",
       "impute2_refpanel_chunk7    7.9326  0:00:07   31.23  139.34   29.02   29.17   \n",
       "impute2_refpanel_chunk8    9.8995  0:00:09       -       -       -       -   \n",
       "impute2_refpanel_chunk9   10.7410  0:00:10       -       -       -       -   \n",
       "impute2_chunk0            36.0001  0:00:36   55.57  163.61   53.34   53.99   \n",
       "impute2_chunk1            34.2734  0:00:34   55.38  163.44   53.12   53.37   \n",
       "impute2_chunk10           22.9768  0:00:22   37.38  145.51   35.14   35.27   \n",
       "impute2_chunk11           35.0885  0:00:35   56.41  164.45   54.14    54.5   \n",
       "impute2_chunk12           33.9194  0:00:33   52.79   160.9   50.55   50.79   \n",
       "impute2_chunk13           34.1708  0:00:34   58.16  166.19   55.92   56.26   \n",
       "impute2_chunk2            26.7726  0:00:26   45.82  153.89   43.59   43.72   \n",
       "impute2_chunk3            26.8970  0:00:26   44.56  152.62    42.3   42.44   \n",
       "impute2_chunk4            37.7014  0:00:37   54.34  162.37   53.34   53.38   \n",
       "impute2_chunk5            24.5233  0:00:24   40.97  149.01   38.73   38.84   \n",
       "impute2_chunk6            22.9620  0:00:22   40.44  148.51   38.21   38.31   \n",
       "impute2_chunk7            31.6049  0:00:31   51.55   159.6   49.32   49.43   \n",
       "impute2_chunk8            27.1815  0:00:27   44.04  152.13    41.8   41.92   \n",
       "impute2_chunk9            20.5950  0:00:20   35.03   143.1    32.8    32.9   \n",
       "hap_leg                    1.9764  0:00:01       -       -       -       -   \n",
       "\n",
       "                         io_in io_out  mean_load  \n",
       "impute2_refpanel_chunk0      -      -       0.00  \n",
       "impute2_refpanel_chunk1      -      -       0.00  \n",
       "impute2_refpanel_chunk10     -      -       0.00  \n",
       "impute2_refpanel_chunk11     -      -       0.00  \n",
       "impute2_refpanel_chunk12     -      -       0.00  \n",
       "impute2_refpanel_chunk13     -      -       0.00  \n",
       "impute2_refpanel_chunk2      -      -       0.00  \n",
       "impute2_refpanel_chunk3      -      -       0.00  \n",
       "impute2_refpanel_chunk4      -      -       0.00  \n",
       "impute2_refpanel_chunk5      0   0.01       0.00  \n",
       "impute2_refpanel_chunk6      -      -       0.00  \n",
       "impute2_refpanel_chunk7      0   0.01       0.00  \n",
       "impute2_refpanel_chunk8      -      -       0.00  \n",
       "impute2_refpanel_chunk9      -      -       0.00  \n",
       "impute2_chunk0               0   7.27      33.94  \n",
       "impute2_chunk1               0   0.02       0.00  \n",
       "impute2_chunk10              0   0.02       0.00  \n",
       "impute2_chunk11              0    3.5      24.69  \n",
       "impute2_chunk12              0   0.02       0.00  \n",
       "impute2_chunk13              0   7.69      25.75  \n",
       "impute2_chunk2               0   0.02       0.00  \n",
       "impute2_chunk3               0   0.02       0.00  \n",
       "impute2_chunk4               0   8.51      38.06  \n",
       "impute2_chunk5               0   0.02       0.00  \n",
       "impute2_chunk6               0   0.02       0.00  \n",
       "impute2_chunk7               0   0.02       0.00  \n",
       "impute2_chunk8               0   0.02       0.00  \n",
       "impute2_chunk9               0   0.02       0.00  \n",
       "hap_leg                      -      -       0.00  "
      ]
     },
     "execution_count": 241,
     "metadata": {},
     "output_type": "execute_result"
    }
   ],
   "source": [
    "combinedimp"
   ]
  },
  {
   "cell_type": "markdown",
   "metadata": {},
   "source": [
    "### Combined Filtering, Phasing, and Imputation Benchmarks Dataframe"
   ]
  },
  {
   "cell_type": "code",
   "execution_count": 242,
   "metadata": {
    "collapsed": true
   },
   "outputs": [],
   "source": [
    "order = ['duplicates_filtered', 'variant_stats', 'filter_variants', 'individual_stats', 'hwe_stats', 'filter_hwe_variants', 'impute_sex', 'eagle_phased_assays', 'decompress', 'hap_leg', 'impute2_refpanel_chunk0','impute2_refpanel_chunk1','impute2_refpanel_chunk2','impute2_refpanel_chunk3','impute2_refpanel_chunk4','impute2_refpanel_chunk5','impute2_refpanel_chunk6','impute2_refpanel_chunk7','impute2_refpanel_chunk8','impute2_refpanel_chunk9','impute2_refpanel_chunk10','impute2_refpanel_chunk11','impute2_refpanel_chunk12','impute2_refpanel_chunk13', 'impute2_chunk0', 'impute2_chunk1', 'impute2_chunk2', 'impute2_chunk3', 'impute2_chunk4', 'impute2_chunk5', 'impute2_chunk6', 'impute2_chunk7', 'impute2_chunk8', 'impute2_chunk9', 'impute2_chunk10', 'impute2_chunk11', 'impute2_chunk12', 'impute2_chunk13','cat_chunks', 'impute2_vcf', 'imp_acc']"
   ]
  },
  {
   "cell_type": "code",
   "execution_count": 243,
   "metadata": {
    "collapsed": false
   },
   "outputs": [],
   "source": [
    "allsteps = filt.append(combined).append(combinedimp)\n",
    "allsteps = allsteps.reindex(order)"
   ]
  },
  {
   "cell_type": "code",
   "execution_count": null,
   "metadata": {
    "collapsed": false
   },
   "outputs": [],
   "source": []
  },
  {
   "cell_type": "code",
   "execution_count": 244,
   "metadata": {
    "collapsed": false,
    "scrolled": false
   },
   "outputs": [
    {
     "data": {
      "text/plain": [
       "<matplotlib.text.Text at 0x7f3f1cafdf28>"
      ]
     },
     "execution_count": 244,
     "metadata": {},
     "output_type": "execute_result"
    },
    {
     "data": {
      "image/png": "[encoded data removed]",
      "text/plain": [
       "<matplotlib.figure.Figure at 0x7f3f1cafff28>"
      ]
     },
     "metadata": {},
     "output_type": "display_data"
    }
   ],
   "source": [
    "ax = allsteps.s.plot(kind='bar',title ='Filtering, Phasing, Imputation, Accuracy Run Times')\n",
    "customaxis(ax, c_left = 'k', c_bottom = 'k', c_top = 'none', c_right = 'none')\n",
    "ax.set_axis_bgcolor('white')\n",
    "ax.set_xlabel('')\n",
    "ax.set_ylabel('Run Time (s)')"
   ]
  },
  {
   "cell_type": "markdown",
   "metadata": {},
   "source": [
    "# Run-time Comparisons"
   ]
  },
  {
   "cell_type": "code",
   "execution_count": 253,
   "metadata": {
    "collapsed": false
   },
   "outputs": [],
   "source": [
    "with open('./eagle_phased_assays/run2/snp50.chr20.benchmark.txt', 'r') as bm:\n",
    "    bench = bm.readlines()[1].split('\\t')[0]"
   ]
  },
  {
   "cell_type": "code",
   "execution_count": 310,
   "metadata": {
    "collapsed": false
   },
   "outputs": [],
   "source": [
    "run1 = glob.glob('./*/run2/*.txt')"
   ]
  },
  {
   "cell_type": "code",
   "execution_count": 311,
   "metadata": {
    "collapsed": false
   },
   "outputs": [],
   "source": [
    "num = 0\n",
    "for xx in run1:\n",
    "    with open(xx, 'r') as bm:\n",
    "        time = float(bm.readlines()[1].split('\\t')[0])\n",
    "        num +=time"
   ]
  },
  {
   "cell_type": "markdown",
   "metadata": {},
   "source": [
    "* This analysis looks only at the runs that do phasing + imputation \n",
    "* As a result excludes any Minimac runs\n",
    "* Would be worthwhile to do benchmarking for different steps with each run (i.e. a bar graph with different colored run-time bars for each different step"
   ]
  },
  {
   "cell_type": "code",
   "execution_count": 5,
   "metadata": {
    "collapsed": false
   },
   "outputs": [],
   "source": [
    "abc = [1,2,4,6,7,9,12,13,14]"
   ]
  },
  {
   "cell_type": "code",
   "execution_count": 6,
   "metadata": {
    "collapsed": false
   },
   "outputs": [],
   "source": [
    "rundict = {}\n",
    "for xx in abc:\n",
    "    runs = glob.glob('./*/run' + str(xx) +'/*.txt')\n",
    "    index = 'run'+ str(xx)\n",
    "    num = 0\n",
    "    for xx in runs:\n",
    "        with open(xx, 'r') as bm:\n",
    "            time = float(bm.readlines()[1].split('\\t')[0])\n",
    "            num += time\n",
    "    rundict[index] = num"
   ]
  },
  {
   "cell_type": "code",
   "execution_count": 30,
   "metadata": {
    "collapsed": false
   },
   "outputs": [],
   "source": [
    "# rundict['bigcow'] = 12631164.49\n",
    "\n",
    "xyz = ['run1','run2','run4','run6','run7','run9','run12','run13','run14']"
   ]
  },
  {
   "cell_type": "code",
   "execution_count": 31,
   "metadata": {
    "collapsed": false
   },
   "outputs": [],
   "source": [
    "runtimes = (pd.DataFrame.from_dict(rundict, orient='index')\n",
    "           .drop('run3')\n",
    "           .reindex(xyz))\n"
   ]
  },
  {
   "cell_type": "code",
   "execution_count": 32,
   "metadata": {
    "collapsed": false
   },
   "outputs": [
    {
     "data": {
      "text/plain": [
       "[<matplotlib.text.Text at 0x7fe9549a4d68>,\n",
       " <matplotlib.text.Text at 0x7fe9549aa3c8>,\n",
       " <matplotlib.text.Text at 0x7fe9548f99b0>,\n",
       " <matplotlib.text.Text at 0x7fe95487c668>,\n",
       " <matplotlib.text.Text at 0x7fe95487f320>,\n",
       " <matplotlib.text.Text at 0x7fe95487ff98>,\n",
       " <matplotlib.text.Text at 0x7fe9549b92e8>,\n",
       " <matplotlib.text.Text at 0x7fe9548f98d0>,\n",
       " <matplotlib.text.Text at 0x7fe9549a4128>,\n",
       " <matplotlib.text.Text at 0x7fe954945128>]"
      ]
     },
     "execution_count": 32,
     "metadata": {},
     "output_type": "execute_result"
    },
    {
     "data": {
      "image/png": "[encoded data removed]",
      "text/plain": [
       "<matplotlib.figure.Figure at 0x7fe9549116a0>"
      ]
     },
     "metadata": {},
     "output_type": "display_data"
    }
   ],
   "source": [
    "ax = runtimes.plot(kind = 'bar')\n",
    "customaxis(ax, c_left = 'k', c_bottom = 'k', c_top = 'none', c_right = 'none')\n",
    "ax.set_axis_bgcolor('white')\n",
    "ax.set_xlabel('')\n",
    "ax.set_ylabel('Run Time (s)')\n",
    "ax.set_xticklabels(ax.xaxis.get_majorticklabels(), rotation=0)"
   ]
  },
  {
   "cell_type": "code",
   "execution_count": 296,
   "metadata": {
    "collapsed": false
   },
   "outputs": [],
   "source": [
    "runlist = list(range(1,31))\n",
    "abc = []\n",
    "for i in runlist:\n",
    "    runs = glob.glob('./*/run'+str(i)+'/*.txt')\n",
    "    for xx in runs:\n",
    "        abc.append(xx)"
   ]
  },
  {
   "cell_type": "code",
   "execution_count": 28,
   "metadata": {
    "collapsed": false
   },
   "outputs": [],
   "source": [
    "bigcow = glob.glob('../../../170616_HDF250/Imputation_Project/benchmarks/*/run21/*.txt')\n",
    "num = 0\n",
    "for xx in bigcow:\n",
    "    with open(xx, 'r') as bm:\n",
    "        time = float(bm.readlines()[1].split('\\t')[0])\n",
    "        num +=time"
   ]
  },
  {
   "cell_type": "code",
   "execution_count": 2,
   "metadata": {
    "collapsed": false
   },
   "outputs": [],
   "source": [
    "bigphasing = glob.glob('../../../170616_HDF250/Imputation_Project/benchmarks/eagle_merged/run22/*.txt')"
   ]
  },
  {
   "cell_type": "code",
   "execution_count": 4,
   "metadata": {
    "collapsed": false
   },
   "outputs": [],
   "source": [
    "num = 0\n",
    "for xx in bigphasing:\n",
    "    with open(xx, 'r') as bm:\n",
    "        time = float(bm.readlines()[1].split('\\t')[0])\n",
    "        num +=time"
   ]
  },
  {
   "cell_type": "code",
   "execution_count": 5,
   "metadata": {
    "collapsed": false
   },
   "outputs": [
    {
     "data": {
      "text/plain": [
       "1849216.4152"
      ]
     },
     "execution_count": 5,
     "metadata": {},
     "output_type": "execute_result"
    }
   ],
   "source": [
    "num"
   ]
  },
  {
   "cell_type": "markdown",
   "metadata": {
    "collapsed": true
   },
   "source": [
    "## Benchmarks for runs, broken into individual steps\n",
    "#### * Phasing (of whatever type)\n",
    "#### * Refpanel generation\n",
    "#### * Imutation\n",
    "#### * Imputation Accuracy Calculations? Maybe"
   ]
  },
  {
   "cell_type": "markdown",
   "metadata": {},
   "source": [
    "### Which benchmark steps should be combined for each step?\n",
    "* Minimac: reformat_leg, cat_sample, ref_panel_vcf, cat_vcfs, vcf_convert, minimac\n",
    "* Impute2: impute2_refpanel (all chunks), impute2 (all chunks)\n",
    "* Impute4: impute2_refpanel (all chunks), impute4 (all chunks)\n",
    "\n",
    "* Eagle (separate): eagle_phased_assays, hap_leg (maybe?)\n",
    "* Eagle (combined): eagle_merged, eagle_merged_vcf, bgzip_vcf, make_vcf_extract_lists, vcf_per_assay, vcf_to_hap, vcf_to_haps\n",
    "* ShapeIt (separate): shapeit_phased_assays, hap_leg (maybe?)"
   ]
  },
  {
   "cell_type": "code",
   "execution_count": 6,
   "metadata": {
    "collapsed": true
   },
   "outputs": [],
   "source": [
    "# Set up lists that can point to the correct benchmark locations based on run number\n",
    "# Also, concatenate the runtimes for combined phasing processes\n",
    "\n",
    "mm = ['merged_refpanel', 'cat_sample', 'ref_panel_vcf', 'cat_vcfs', 'vcf_convert', 'minimac']\n",
    "i2 = ['imput2_refpanel', 'impute2']\n",
    "i4 = ['imput2_refpanel', 'impute4']\n",
    "\n",
    "es = ['eagle_phased_assays']\n",
    "ec = ['eagle_merged', 'eagle_merged_vcf', 'bgzip_vcf', 'make_vcf_extract_lists', 'vcf_per_assay', 'vcf_to_hap', 'vcf_to_haps']\n",
    "si = ['shapeit_phased_assays']\n",
    "\n",
    "minimac = ['5','8','10','15','16'] #Coded as 1\n",
    "impute2 = ['1','2','4','7','6','9','12','13','14','21'] #Coded as 2\n",
    "impute4 = ['17', '18', '19', '30', '31'] #Coded as 3\n",
    "\n",
    "eagle_assay = ['2', '5', '7', '10', '13', '15']\n",
    "eagle_combined = ['1', '6', '8', '11', '12', '16']\n",
    "shapeit = ['4', '9', '14', '17', '18', '19']"
   ]
  },
  {
   "cell_type": "code",
   "execution_count": 7,
   "metadata": {
    "collapsed": false
   },
   "outputs": [],
   "source": [
    "import itertools"
   ]
  },
  {
   "cell_type": "code",
   "execution_count": 8,
   "metadata": {
    "collapsed": false
   },
   "outputs": [],
   "source": [
    "runs = ['run'+str(xx) for xx in list(range(1, 21))]\n",
    "benchmarks = pd.DataFrame({'phasing':list(itertools.repeat(np.NaN,20)),'imputation':list(itertools.repeat(np.NaN,20)), 'imp_method':list(itertools.repeat(np.NaN,20)), 'phasing_method':list(itertools.repeat(np.NaN,20))})\n",
    "benchmarks.index = runs\n",
    "rundict = {}\n",
    "benchmarks\n",
    "for run in runs:\n",
    "    imputetime = 0\n",
    "    if run.strip('run') in minimac:\n",
    "        bms = [glob.glob('./'+xx+'/'+run+'/*.benchmark.txt') for xx in mm]\n",
    "        for file in bms[2]:\n",
    "            with open(file, 'r') as bm:\n",
    "                time = float(bm.readlines()[1].split('\\t')[0])\n",
    "                imputetime += time\n",
    "        imp_method = 1.0\n",
    "    if run.strip('run') in impute2:\n",
    "        bms = [glob.glob('./'+xx+'/'+run+'/*.benchmark.txt') for xx in i2]\n",
    "        for file in bms[1]:\n",
    "            with open(file, 'r') as bm:\n",
    "                time = float(bm.readlines()[1].split('\\t')[0])\n",
    "                imputetime += time\n",
    "        imp_method = 2.0\n",
    "    if run.strip('run') in impute4:\n",
    "        bms = [glob.glob('./'+xx+'/'+run+'/*.benchmark.txt') for xx in i4]\n",
    "        for file in bms[1]:\n",
    "            with open(file, 'r') as bm:\n",
    "                time = float(bm.readlines()[1].split('\\t')[0])\n",
    "                imputetime += time\n",
    "        imp_method = 3.0\n",
    "    benchmarks.set_value(run, 'imputation', imputetime/3600)\n",
    "    benchmarks.set_value(run, 'imp_method', imp_method)\n"
   ]
  },
  {
   "cell_type": "code",
   "execution_count": 9,
   "metadata": {
    "collapsed": false
   },
   "outputs": [],
   "source": [
    "for run in runs:\n",
    "    phasingtime = 0\n",
    "    if run.strip('run') in eagle_assay:\n",
    "        bms = [glob.glob('./'+xx+'/'+run+'/*.benchmark.txt') for xx in es]\n",
    "        for file in bms[0]:\n",
    "            with open(file, 'r') as bm:\n",
    "                time = float(bm.readlines()[1].split('\\t')[0])\n",
    "                phasingtime += time\n",
    "        phasing_method = 4.0\n",
    "    if run.strip('run') in eagle_combined:\n",
    "        bms = [glob.glob('./'+xx+'/'+run+'/*.benchmark.txt') for xx in ec]\n",
    "        for file in bms[0]:\n",
    "            with open(file, 'r') as bm:\n",
    "                time = float(bm.readlines()[1].split('\\t')[0])\n",
    "                phasingtime += time\n",
    "        phasing_method = 5.0\n",
    "    if run.strip('run') in shapeit:\n",
    "        bms = [glob.glob('./'+xx+'/'+run+'/*.benchmark.txt') for xx in si]\n",
    "        for file in bms[0]:\n",
    "            with open(file, 'r') as bm:\n",
    "                time = float(bm.readlines()[1].split('\\t')[0])\n",
    "                phasingtime += time\n",
    "        phasing_method = 6.0\n",
    "    benchmarks.set_value(run, 'phasing', phasingtime/3600)\n",
    "    benchmarks.set_value(run, 'phasing_method', phasing_method)"
   ]
  },
  {
   "cell_type": "code",
   "execution_count": 10,
   "metadata": {
    "collapsed": false
   },
   "outputs": [],
   "source": [
    "benchmarks = benchmarks.drop('run3').drop('run11').drop('run20')\n",
    "im = {1.0:'minimac', 2.0:'impute2', 3.0:'impute4'} #, '1':'minimac', '2':'impute2', '3':'impute4'}\n",
    "pm = {4.0:'eagle_separate', 5.0:'eagle_combined', 6.0:'shapeit'}\n",
    "benchmarks = benchmarks.replace({\"imp_method\":im, \"phasing_method\":pm})"
   ]
  },
  {
   "cell_type": "code",
   "execution_count": 28,
   "metadata": {
    "collapsed": false
   },
   "outputs": [
    {
     "data": {
      "text/html": [
       "<div>\n",
       "<style>\n",
       "    .dataframe thead tr:only-child th {\n",
       "        text-align: right;\n",
       "    }\n",
       "\n",
       "    .dataframe thead th {\n",
       "        text-align: left;\n",
       "    }\n",
       "\n",
       "    .dataframe tbody tr th {\n",
       "        vertical-align: top;\n",
       "    }\n",
       "</style>\n",
       "<table border=\"1\" class=\"dataframe\">\n",
       "  <thead>\n",
       "    <tr style=\"text-align: right;\">\n",
       "      <th></th>\n",
       "      <th>imp_method</th>\n",
       "      <th>imputation</th>\n",
       "      <th>phasing</th>\n",
       "      <th>phasing_method</th>\n",
       "    </tr>\n",
       "  </thead>\n",
       "  <tbody>\n",
       "    <tr>\n",
       "      <th>run1</th>\n",
       "      <td>impute2</td>\n",
       "      <td>38.876519</td>\n",
       "      <td>5.205193</td>\n",
       "      <td>eagle_combined</td>\n",
       "    </tr>\n",
       "    <tr>\n",
       "      <th>run2</th>\n",
       "      <td>impute2</td>\n",
       "      <td>34.278381</td>\n",
       "      <td>2.864570</td>\n",
       "      <td>eagle_separate</td>\n",
       "    </tr>\n",
       "    <tr>\n",
       "      <th>run4</th>\n",
       "      <td>impute2</td>\n",
       "      <td>33.966025</td>\n",
       "      <td>13.252404</td>\n",
       "      <td>shapeit</td>\n",
       "    </tr>\n",
       "    <tr>\n",
       "      <th>run5</th>\n",
       "      <td>minimac</td>\n",
       "      <td>8.192352</td>\n",
       "      <td>0.000000</td>\n",
       "      <td>eagle_separate</td>\n",
       "    </tr>\n",
       "    <tr>\n",
       "      <th>run6</th>\n",
       "      <td>impute2</td>\n",
       "      <td>48.597722</td>\n",
       "      <td>5.023147</td>\n",
       "      <td>eagle_combined</td>\n",
       "    </tr>\n",
       "    <tr>\n",
       "      <th>run7</th>\n",
       "      <td>impute2</td>\n",
       "      <td>23.573710</td>\n",
       "      <td>3.058538</td>\n",
       "      <td>eagle_separate</td>\n",
       "    </tr>\n",
       "    <tr>\n",
       "      <th>run8</th>\n",
       "      <td>minimac</td>\n",
       "      <td>5.675650</td>\n",
       "      <td>0.000000</td>\n",
       "      <td>eagle_combined</td>\n",
       "    </tr>\n",
       "    <tr>\n",
       "      <th>run9</th>\n",
       "      <td>impute2</td>\n",
       "      <td>16.986691</td>\n",
       "      <td>13.322298</td>\n",
       "      <td>shapeit</td>\n",
       "    </tr>\n",
       "    <tr>\n",
       "      <th>run10</th>\n",
       "      <td>minimac</td>\n",
       "      <td>5.797060</td>\n",
       "      <td>0.000000</td>\n",
       "      <td>eagle_separate</td>\n",
       "    </tr>\n",
       "    <tr>\n",
       "      <th>run12</th>\n",
       "      <td>impute2</td>\n",
       "      <td>27.101316</td>\n",
       "      <td>7.771492</td>\n",
       "      <td>eagle_combined</td>\n",
       "    </tr>\n",
       "    <tr>\n",
       "      <th>run13</th>\n",
       "      <td>impute2</td>\n",
       "      <td>28.499671</td>\n",
       "      <td>4.891721</td>\n",
       "      <td>eagle_separate</td>\n",
       "    </tr>\n",
       "    <tr>\n",
       "      <th>run14</th>\n",
       "      <td>impute2</td>\n",
       "      <td>15.977412</td>\n",
       "      <td>13.300143</td>\n",
       "      <td>shapeit</td>\n",
       "    </tr>\n",
       "    <tr>\n",
       "      <th>run15</th>\n",
       "      <td>minimac</td>\n",
       "      <td>9.860055</td>\n",
       "      <td>0.000000</td>\n",
       "      <td>eagle_separate</td>\n",
       "    </tr>\n",
       "    <tr>\n",
       "      <th>run16</th>\n",
       "      <td>minimac</td>\n",
       "      <td>9.889730</td>\n",
       "      <td>0.000000</td>\n",
       "      <td>eagle_combined</td>\n",
       "    </tr>\n",
       "    <tr>\n",
       "      <th>run17</th>\n",
       "      <td>impute4</td>\n",
       "      <td>21.759832</td>\n",
       "      <td>9.659408</td>\n",
       "      <td>shapeit</td>\n",
       "    </tr>\n",
       "    <tr>\n",
       "      <th>run18</th>\n",
       "      <td>impute4</td>\n",
       "      <td>13.942711</td>\n",
       "      <td>9.659821</td>\n",
       "      <td>shapeit</td>\n",
       "    </tr>\n",
       "    <tr>\n",
       "      <th>run19</th>\n",
       "      <td>impute4</td>\n",
       "      <td>17.238122</td>\n",
       "      <td>9.666926</td>\n",
       "      <td>shapeit</td>\n",
       "    </tr>\n",
       "  </tbody>\n",
       "</table>\n",
       "</div>"
      ],
      "text/plain": [
       "      imp_method  imputation    phasing  phasing_method\n",
       "run1     impute2   38.876519   5.205193  eagle_combined\n",
       "run2     impute2   34.278381   2.864570  eagle_separate\n",
       "run4     impute2   33.966025  13.252404         shapeit\n",
       "run5     minimac    8.192352   0.000000  eagle_separate\n",
       "run6     impute2   48.597722   5.023147  eagle_combined\n",
       "run7     impute2   23.573710   3.058538  eagle_separate\n",
       "run8     minimac    5.675650   0.000000  eagle_combined\n",
       "run9     impute2   16.986691  13.322298         shapeit\n",
       "run10    minimac    5.797060   0.000000  eagle_separate\n",
       "run12    impute2   27.101316   7.771492  eagle_combined\n",
       "run13    impute2   28.499671   4.891721  eagle_separate\n",
       "run14    impute2   15.977412  13.300143         shapeit\n",
       "run15    minimac    9.860055   0.000000  eagle_separate\n",
       "run16    minimac    9.889730   0.000000  eagle_combined\n",
       "run17    impute4   21.759832   9.659408         shapeit\n",
       "run18    impute4   13.942711   9.659821         shapeit\n",
       "run19    impute4   17.238122   9.666926         shapeit"
      ]
     },
     "execution_count": 28,
     "metadata": {},
     "output_type": "execute_result"
    }
   ],
   "source": []
  },
  {
   "cell_type": "code",
   "execution_count": 27,
   "metadata": {
    "collapsed": false
   },
   "outputs": [
    {
     "ename": "SyntaxError",
     "evalue": "invalid syntax (<ipython-input-27-df55a030eeb3>, line 1)",
     "output_type": "error",
     "traceback": [
      "\u001b[0;36m  File \u001b[0;32m\"<ipython-input-27-df55a030eeb3>\"\u001b[0;36m, line \u001b[0;32m1\u001b[0m\n\u001b[0;31m    newbm = pd.DataFrame({'runtime':list(benchmarks['imputation']),list(benchmarks['imputation'])}, {'':list(benchmarks['imputation'])})\u001b[0m\n\u001b[0m                                                                                                 ^\u001b[0m\n\u001b[0;31mSyntaxError\u001b[0m\u001b[0;31m:\u001b[0m invalid syntax\n"
     ]
    }
   ],
   "source": []
  },
  {
   "cell_type": "code",
   "execution_count": 24,
   "metadata": {
    "collapsed": false
   },
   "outputs": [
    {
     "data": {
      "text/plain": [
       "[38.876518888888953,\n",
       " 34.278381416666676,\n",
       " 33.966024833333286,\n",
       " 8.1923520277777744,\n",
       " 48.597721722222246,\n",
       " 23.573710222222246,\n",
       " 5.6756502222222256,\n",
       " 16.986690555555551,\n",
       " 5.7970600833333314,\n",
       " 27.101316111111117,\n",
       " 28.499670555555543,\n",
       " 15.977411583333339,\n",
       " 9.8600547222222161,\n",
       " 9.8897295555555651,\n",
       " 21.759831611111096,\n",
       " 13.942710722222209,\n",
       " 17.238121722222225]"
      ]
     },
     "execution_count": 24,
     "metadata": {},
     "output_type": "execute_result"
    }
   ],
   "source": [
    "list(benchmarks['imputation'])"
   ]
  },
  {
   "cell_type": "code",
   "execution_count": 12,
   "metadata": {
    "collapsed": false
   },
   "outputs": [],
   "source": [
    "benchmarks.to_csv('combined_benchmarks.csv')"
   ]
  },
  {
   "cell_type": "code",
   "execution_count": 19,
   "metadata": {
    "collapsed": false
   },
   "outputs": [
    {
     "data": {
      "text/plain": [
       "<matplotlib.axes._subplots.AxesSubplot at 0x7fe69c224898>"
      ]
     },
     "execution_count": 19,
     "metadata": {},
     "output_type": "execute_result"
    },
    {
     "data": {
      "image/png": "[encoded data removed]",
      "text/plain": [
       "<matplotlib.figure.Figure at 0x7fe69c2a1f28>"
      ]
     },
     "metadata": {},
     "output_type": "display_data"
    }
   ],
   "source": [
    "benchmarks.plot(kind = 'bar')"
   ]
  },
  {
   "cell_type": "code",
   "execution_count": 16,
   "metadata": {
    "collapsed": false
   },
   "outputs": [
    {
     "data": {
      "text/plain": [
       "<matplotlib.axes._subplots.AxesSubplot at 0x7fe69c4cb198>"
      ]
     },
     "execution_count": 16,
     "metadata": {},
     "output_type": "execute_result"
    },
    {
     "data": {
      "image/png": "[encoded data removed]",
      "text/plain": [
       "<matplotlib.figure.Figure at 0x7fe69c468080>"
      ]
     },
     "metadata": {},
     "output_type": "display_data"
    }
   ],
   "source": [
    "benchmarks.plot.bar(stacked = True)"
   ]
  },
  {
   "cell_type": "markdown",
   "metadata": {
    "collapsed": true
   },
   "source": [
    "# R for plotting"
   ]
  },
  {
   "cell_type": "code",
   "execution_count": 9,
   "metadata": {
    "collapsed": false
   },
   "outputs": [
    {
     "name": "stderr",
     "output_type": "stream",
     "text": [
      "\n",
      "Attaching package: ‘cowplot’\n",
      "\n",
      "The following object is masked from ‘package:ggplot2’:\n",
      "\n",
      "    ggsave\n",
      "\n"
     ]
    }
   ],
   "source": [
    "library(tidyverse)\n",
    "library(cowplot)"
   ]
  },
  {
   "cell_type": "code",
   "execution_count": 10,
   "metadata": {
    "collapsed": false
   },
   "outputs": [
    {
     "data": {},
     "metadata": {},
     "output_type": "display_data"
    },
    {
     "data": {
      "image/png": "[encoded data removed]",
      "text/plain": [
       "plot without title"
      ]
     },
     "metadata": {},
     "output_type": "display_data"
    }
   ],
   "source": [
    "benchmarks = read.csv('combined_benchmarks.csv', header = T)\n",
    "\n",
    "ggplot(benchmarks, aes(imputation, phasing)) +\n",
    "    geom_bar(aes(fill = imp_method))"
   ]
  },
  {
   "cell_type": "code",
   "execution_count": null,
   "metadata": {
    "collapsed": true
   },
   "outputs": [],
   "source": []
  }
 ],
 "metadata": {
  "anaconda-cloud": {},
  "kernelspec": {
   "display_name": "Python [conda env:Imp3]",
   "language": "python",
   "name": "conda-env-Imp3-py"
  },
  "language_info": {
   "codemirror_mode": {
    "name": "ipython",
    "version": 3
   },
   "file_extension": ".py",
   "mimetype": "text/x-python",
   "name": "python",
   "nbconvert_exporter": "python",
   "pygments_lexer": "ipython3",
   "version": "3.5.3"
  }
 },
 "nbformat": 4,
 "nbformat_minor": 1
}
