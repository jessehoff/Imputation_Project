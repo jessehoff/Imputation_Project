{
 "cells": [
  {
   "cell_type": "code",
   "execution_count": 1,
   "metadata": {
    "collapsed": false
   },
   "outputs": [],
   "source": [
    "import pandas as pd\n",
    "import numpy as np\n",
    "import seaborn as sb\n",
    "import matplotlib.pyplot as plt\n",
    "%matplotlib inline\n",
    "import glob as glob\n",
    "plt.style.use('fivethirtyeight')"
   ]
  },
  {
   "cell_type": "code",
   "execution_count": 31,
   "metadata": {
    "collapsed": false
   },
   "outputs": [],
   "source": [
    "imputed = \"impute2_vcf/run1/snp50.chr20.imputed.vcf\"\n",
    "true = \"accuracy_test/merged_refs/F250_HD_merged.chr10.vcf\""
   ]
  },
  {
   "cell_type": "code",
   "execution_count": 16,
   "metadata": {
    "collapsed": false
   },
   "outputs": [],
   "source": [
    "# truedict = {}\n",
    "# trueids = []\n",
    "# with open(true, \"r\") as t:\n",
    "#     for line in t:\n",
    "#         if not line.startswith(\"#\"):\n",
    "#             cp = (line.split(\"\\t\")[0], line.split(\"\\t\")[1])       #\n",
    "#             pos = \":\".join(cp)\n",
    "#             gen = line.split(\"\\t\")[9:]\n",
    "#             genotypes = [(x.split(\"/\")) for x in gen]\n",
    "#             intgt = [[int(y) for y in x if y != '.' and y != '.\\n']for x in genotypes]\n",
    "#             alt = [sum(x) for x in intgt]\n",
    "#             truedict[pos] = alt\n",
    "#         if line.startswith(\"#\"):\n",
    "#             trueids.append(line)\n",
    "# samples = trueids[-1].split(\"\\t\")[9:]\n",
    "# truedf = pd.DataFrame.from_dict(truedict, orient='index')\n",
    "# truedf.columns = samples"
   ]
  },
  {
   "cell_type": "code",
   "execution_count": 17,
   "metadata": {
    "collapsed": false
   },
   "outputs": [],
   "source": [
    "# impdict = {}\n",
    "# impids = []\n",
    "# with open(imputed, \"r\") as i:\n",
    "#     for line in i:\n",
    "#         if not line.startswith(\"#\"):\n",
    "#             cp = (line.split(\"\\t\")[0], line.split(\"\\t\")[1])\n",
    "#             pos = \":\".join(cp)\n",
    "#             gen = line.split(\"\\t\")[9:]\n",
    "#             genotypes = [(x.split(\"/\")) for x in gen]\n",
    "#             intgt = [[int(y) for y in x if y != '.' and y != '.\\n']for x in genotypes]\n",
    "#             alt = [sum(x) for x in intgt]\n",
    "#             impdict[pos] = alt\n",
    "#         if line.startswith(\"#\"):\n",
    "#             impids.append(line)\n",
    "# impsamples = impids[-1].split(\"\\t\")[9:]\n",
    "# impdf = pd.DataFrame.from_dict(impdict, orient='index')\n",
    "# impdf.columns = impsamples"
   ]
  },
  {
   "cell_type": "code",
   "execution_count": 7,
   "metadata": {
    "collapsed": false
   },
   "outputs": [],
   "source": [
    "corrs=impdf.corrwith(truedf, axis = 1)\n",
    "cor = pd.DataFrame(corrs)\n",
    "cor = cor.rename(index=str, columns={0:\"correlation\"})"
   ]
  },
  {
   "cell_type": "code",
   "execution_count": 8,
   "metadata": {
    "collapsed": false
   },
   "outputs": [],
   "source": [
    "outfile = \"./test_correlations.txt\"\n",
    "assay = imputed.split(\"/\")[1].strip(\".vcf\")\n",
    "correlation = cor.mean()[0]"
   ]
  },
  {
   "cell_type": "code",
   "execution_count": 29,
   "metadata": {
    "collapsed": false
   },
   "outputs": [
    {
     "ename": "NameError",
     "evalue": "name 'outfile' is not defined",
     "output_type": "error",
     "traceback": [
      "\u001b[0;31m---------------------------------------------------------------------------\u001b[0m",
      "\u001b[0;31mNameError\u001b[0m                                 Traceback (most recent call last)",
      "\u001b[0;32m<ipython-input-29-6f2db00c07a7>\u001b[0m in \u001b[0;36m<module>\u001b[0;34m()\u001b[0m\n\u001b[0;32m----> 1\u001b[0;31m \u001b[0;32mwith\u001b[0m \u001b[0mopen\u001b[0m \u001b[0;34m(\u001b[0m\u001b[0moutfile\u001b[0m\u001b[0;34m,\u001b[0m \u001b[0;34m'a'\u001b[0m\u001b[0;34m)\u001b[0m \u001b[0;32mas\u001b[0m \u001b[0mout\u001b[0m\u001b[0;34m:\u001b[0m\u001b[0;34m\u001b[0m\u001b[0m\n\u001b[0m\u001b[1;32m      2\u001b[0m     \u001b[0mout\u001b[0m\u001b[0;34m.\u001b[0m\u001b[0mwrite\u001b[0m\u001b[0;34m(\u001b[0m\u001b[0massay\u001b[0m \u001b[0;34m+\u001b[0m \u001b[0;34m\"\\t\"\u001b[0m \u001b[0;34m+\u001b[0m \u001b[0mstr\u001b[0m\u001b[0;34m(\u001b[0m\u001b[0mcorrelation\u001b[0m\u001b[0;34m)\u001b[0m\u001b[0;34m+\u001b[0m\u001b[0;34m\"\\n\"\u001b[0m\u001b[0;34m)\u001b[0m\u001b[0;34m\u001b[0m\u001b[0m\n",
      "\u001b[0;31mNameError\u001b[0m: name 'outfile' is not defined"
     ]
    }
   ],
   "source": [
    "with open (outfile, 'a') as out:\n",
    "    out.write(assay + \"\\t\" + str(correlation)+\"\\n\")"
   ]
  },
  {
   "cell_type": "code",
   "execution_count": 39,
   "metadata": {
    "collapsed": true
   },
   "outputs": [],
   "source": [
    "label = {'color':  'black',\n",
    "        'weight': 'normal',\n",
    "        'size': 10,\n",
    "        }"
   ]
  },
  {
   "cell_type": "code",
   "execution_count": 40,
   "metadata": {
    "collapsed": true
   },
   "outputs": [],
   "source": [
    "title = {'color':  'black',\n",
    "        'weight': 'normal',\n",
    "        'size': 12,\n",
    "        }"
   ]
  },
  {
   "cell_type": "code",
   "execution_count": 41,
   "metadata": {
    "collapsed": false
   },
   "outputs": [],
   "source": [
    "correlations = \"./imp_acc/run2/hol_testset.SNP50.788.chr28.snp_correlations.csv\"\n",
    "cor = pd.DataFrame.from_csv(correlations)"
   ]
  },
  {
   "cell_type": "code",
   "execution_count": 42,
   "metadata": {
    "collapsed": false
   },
   "outputs": [],
   "source": [
    "# correlations = './imp_acc/run2/combined.SNP50.run2.csv'\n",
    "# cor = pd.DataFrame.from_csv(correlations)"
   ]
  },
  {
   "cell_type": "code",
   "execution_count": 43,
   "metadata": {
    "collapsed": false
   },
   "outputs": [],
   "source": [
    "# cor.index = cor['Unnamed: 0.1']\n",
    "# del cor.index.name\n",
    "# del cor['Unnamed: 0.1']\n"
   ]
  },
  {
   "cell_type": "code",
   "execution_count": 44,
   "metadata": {
    "collapsed": false
   },
   "outputs": [],
   "source": [
    "mean = str(cor.mean()[0])"
   ]
  },
  {
   "cell_type": "code",
   "execution_count": 45,
   "metadata": {
    "collapsed": false
   },
   "outputs": [
    {
     "data": {
      "text/html": [
       "<div>\n",
       "<table border=\"1\" class=\"dataframe\">\n",
       "  <thead>\n",
       "    <tr style=\"text-align: right;\">\n",
       "      <th></th>\n",
       "      <th>correlation</th>\n",
       "    </tr>\n",
       "  </thead>\n",
       "  <tbody>\n",
       "    <tr>\n",
       "      <th>28:1000124</th>\n",
       "      <td>0.972588</td>\n",
       "    </tr>\n",
       "    <tr>\n",
       "      <th>28:10003452</th>\n",
       "      <td>0.974512</td>\n",
       "    </tr>\n",
       "    <tr>\n",
       "      <th>28:10007646</th>\n",
       "      <td>0.981939</td>\n",
       "    </tr>\n",
       "    <tr>\n",
       "      <th>28:10012243</th>\n",
       "      <td>NaN</td>\n",
       "    </tr>\n",
       "    <tr>\n",
       "      <th>28:10027414</th>\n",
       "      <td>0.984339</td>\n",
       "    </tr>\n",
       "  </tbody>\n",
       "</table>\n",
       "</div>"
      ],
      "text/plain": [
       "             correlation\n",
       "28:1000124      0.972588\n",
       "28:10003452     0.974512\n",
       "28:10007646     0.981939\n",
       "28:10012243          NaN\n",
       "28:10027414     0.984339"
      ]
     },
     "execution_count": 45,
     "metadata": {},
     "output_type": "execute_result"
    }
   ],
   "source": [
    "cor.head()"
   ]
  },
  {
   "cell_type": "code",
   "execution_count": null,
   "metadata": {
    "collapsed": false
   },
   "outputs": [],
   "source": []
  },
  {
   "cell_type": "code",
   "execution_count": 46,
   "metadata": {
    "collapsed": false
   },
   "outputs": [
    {
     "data": {
      "image/png": "[encoded data removed]",
      "text/plain": [
       "<matplotlib.figure.Figure at 0x7f8ed610ea20>"
      ]
     },
     "metadata": {},
     "output_type": "display_data"
    }
   ],
   "source": [
    "hg = cor.plot.hist(bins = 100)\n",
    "name = correlations.strip(\".csv\").strip(\"/imp_acc/\")\n",
    "hg.set_xlabel('True vs Imputed Correlation', fontdict=label)\n",
    "hg.set_ylabel('Count', fontdict=label)\n",
    "hg.set_title(\"Histogram of Imputation Correlations per Locus\\n\" + name + '\\nMean Correlation = ' + mean, fontdict=title)\n",
    "hg.grid(False)\n",
    "hg.legend_.remove()\n",
    "#plt.savefig(\"test_histogram.png\", format = 'png', bbox_inches = 'tight')\n"
   ]
  },
  {
   "cell_type": "markdown",
   "metadata": {},
   "source": [
    "# Concatinating chromosomes and generating genome-wide figure\n",
    "## Also generate a figure that shows low MAF imputation accuracy"
   ]
  },
  {
   "cell_type": "code",
   "execution_count": 227,
   "metadata": {
    "collapsed": false
   },
   "outputs": [],
   "source": [
    "import pandas as pd\n",
    "import glob\n",
    "import numpy as np\n",
    "import seaborn as sb\n",
    "import matplotlib.pyplot as plt\n",
    "%matplotlib inline\n",
    "\n",
    "corrpath = \"./imp_acc/run5/snp50.chr\"\n",
    "\n",
    "interesting_files = glob.glob(corrpath+\"*.csv\")\n",
    "df_list = []\n",
    "for filename in sorted(interesting_files):\n",
    "    df_list.append(pd.read_csv(filename))\n",
    "full_df = pd.concat(df_list)\n",
    "cor =full_df\n",
    "cor.index = cor['Unnamed: 0']\n",
    "del cor['Unnamed: 0']\n",
    "del cor.index.name\n",
    "cor['correlation']  = abs(cor['correlation'])"
   ]
  },
  {
   "cell_type": "code",
   "execution_count": 229,
   "metadata": {
    "collapsed": false
   },
   "outputs": [
    {
     "data": {
      "text/plain": [
       "'run5'"
      ]
     },
     "execution_count": 229,
     "metadata": {},
     "output_type": "execute_result"
    }
   ],
   "source": [
    "corrpath.split('/')[2]"
   ]
  },
  {
   "cell_type": "code",
   "execution_count": 244,
   "metadata": {
    "collapsed": true
   },
   "outputs": [],
   "source": [
    "frq = \"accuracy_test/merged_refs/F250_HD_merged.1970.frq\"\n",
    "mapfile = \"accuracy_test/merged_refs/F250_HD_merged.1970.map\""
   ]
  },
  {
   "cell_type": "code",
   "execution_count": 245,
   "metadata": {
    "collapsed": false
   },
   "outputs": [
    {
     "data": {
      "text/plain": [
       "873739"
      ]
     },
     "execution_count": 245,
     "metadata": {},
     "output_type": "execute_result"
    }
   ],
   "source": [
    "len(cor)"
   ]
  },
  {
   "cell_type": "code",
   "execution_count": 246,
   "metadata": {
    "collapsed": true
   },
   "outputs": [],
   "source": [
    "freq = pd.read_table(frq, delim_whitespace=True, usecols= ['CHR', 'SNP', 'MAF'])"
   ]
  },
  {
   "cell_type": "code",
   "execution_count": 215,
   "metadata": {
    "collapsed": false
   },
   "outputs": [],
   "source": [
    "freq = pd.read_table(frq, delim_whitespace=True)\n",
    "del freq['A1'] \n",
    "del freq['A2']\n",
    "del freq['NCHROBS'] \n",
    "map = pd.read_table(mapfile, delim_whitespace=True, header=None)\n",
    "map.columns = (\"CHR\", \"SNP\", \"CM\", \"POS\")\n",
    "freq_map_merged = pd.merge(map, freq, on=(\"SNP\",\"CHR\"), how='inner')\n",
    "freq_map_merged.head()\n",
    "posmaf = freq_map_merged[[\"CHR\",\"POS\",\"MAF\"]]\n",
    "posmaf.index = posmaf.CHR.astype(str).str.cat(posmaf.POS.astype(str), sep = ':')\n",
    "del posmaf.index.name"
   ]
  },
  {
   "cell_type": "code",
   "execution_count": 216,
   "metadata": {
    "collapsed": false
   },
   "outputs": [],
   "source": [
    "filter = posmaf[\"MAF\"] <= 0.5\n",
    "maffiltered = posmaf[filter]"
   ]
  },
  {
   "cell_type": "code",
   "execution_count": 217,
   "metadata": {
    "collapsed": false
   },
   "outputs": [
    {
     "data": {
      "text/plain": [
       "0.9519533041626096"
      ]
     },
     "execution_count": 217,
     "metadata": {},
     "output_type": "execute_result"
    }
   ],
   "source": [
    "mafcor = cor.join(maffiltered)\n",
    "mafcor['correlation'].mean()"
   ]
  },
  {
   "cell_type": "code",
   "execution_count": 218,
   "metadata": {
    "collapsed": false
   },
   "outputs": [
    {
     "data": {
      "text/html": [
       "<div>\n",
       "<table border=\"1\" class=\"dataframe\">\n",
       "  <thead>\n",
       "    <tr style=\"text-align: right;\">\n",
       "      <th></th>\n",
       "      <th>correlation</th>\n",
       "      <th>CHR</th>\n",
       "      <th>POS</th>\n",
       "      <th>MAF</th>\n",
       "    </tr>\n",
       "  </thead>\n",
       "  <tbody>\n",
       "    <tr>\n",
       "      <th>count</th>\n",
       "      <td>687290.000000</td>\n",
       "      <td>757567.000000</td>\n",
       "      <td>7.575670e+05</td>\n",
       "      <td>757567.000000</td>\n",
       "    </tr>\n",
       "    <tr>\n",
       "      <th>mean</th>\n",
       "      <td>0.951953</td>\n",
       "      <td>12.430842</td>\n",
       "      <td>4.919833e+07</td>\n",
       "      <td>0.235067</td>\n",
       "    </tr>\n",
       "    <tr>\n",
       "      <th>std</th>\n",
       "      <td>0.132702</td>\n",
       "      <td>8.083338</td>\n",
       "      <td>3.350869e+07</td>\n",
       "      <td>0.157732</td>\n",
       "    </tr>\n",
       "    <tr>\n",
       "      <th>min</th>\n",
       "      <td>0.000007</td>\n",
       "      <td>1.000000</td>\n",
       "      <td>1.062000e+03</td>\n",
       "      <td>0.000000</td>\n",
       "    </tr>\n",
       "    <tr>\n",
       "      <th>25%</th>\n",
       "      <td>0.964428</td>\n",
       "      <td>5.000000</td>\n",
       "      <td>2.208348e+07</td>\n",
       "      <td>0.091020</td>\n",
       "    </tr>\n",
       "    <tr>\n",
       "      <th>50%</th>\n",
       "      <td>0.981954</td>\n",
       "      <td>11.000000</td>\n",
       "      <td>4.384788e+07</td>\n",
       "      <td>0.240200</td>\n",
       "    </tr>\n",
       "    <tr>\n",
       "      <th>75%</th>\n",
       "      <td>0.993898</td>\n",
       "      <td>19.000000</td>\n",
       "      <td>7.094063e+07</td>\n",
       "      <td>0.374550</td>\n",
       "    </tr>\n",
       "    <tr>\n",
       "      <th>max</th>\n",
       "      <td>1.000000</td>\n",
       "      <td>29.000000</td>\n",
       "      <td>1.583226e+08</td>\n",
       "      <td>0.500000</td>\n",
       "    </tr>\n",
       "  </tbody>\n",
       "</table>\n",
       "</div>"
      ],
      "text/plain": [
       "         correlation            CHR           POS            MAF\n",
       "count  687290.000000  757567.000000  7.575670e+05  757567.000000\n",
       "mean        0.951953      12.430842  4.919833e+07       0.235067\n",
       "std         0.132702       8.083338  3.350869e+07       0.157732\n",
       "min         0.000007       1.000000  1.062000e+03       0.000000\n",
       "25%         0.964428       5.000000  2.208348e+07       0.091020\n",
       "50%         0.981954      11.000000  4.384788e+07       0.240200\n",
       "75%         0.993898      19.000000  7.094063e+07       0.374550\n",
       "max         1.000000      29.000000  1.583226e+08       0.500000"
      ]
     },
     "execution_count": 218,
     "metadata": {},
     "output_type": "execute_result"
    }
   ],
   "source": [
    "mafcor.describe()"
   ]
  },
  {
   "cell_type": "markdown",
   "metadata": {},
   "source": []
  },
  {
   "cell_type": "markdown",
   "metadata": {
    "collapsed": false
   },
   "source": [
    "### This is the bin plotter for the full MAF spectrum (0 to 0.5)"
   ]
  },
  {
   "cell_type": "code",
   "execution_count": 198,
   "metadata": {
    "collapsed": false
   },
   "outputs": [],
   "source": [
    "MAF = mafcor['MAF']\n",
    "plotter = pd.DataFrame(MAF)\n",
    "plotter[\"ACC\"] = mafcor[\"correlation\"]\n",
    "bins = np.linspace(0,.5,100)\n",
    "plotter_na = plotter[(-2<plotter['ACC']) & (plotter['ACC']<2)]\n",
    "#print (plotter_na.describe())\n",
    "a_bins = plotter_na.groupby(pd.cut(plotter_na['MAF'],bins))"
   ]
  },
  {
   "cell_type": "code",
   "execution_count": 199,
   "metadata": {
    "collapsed": false
   },
   "outputs": [],
   "source": [
    "mean_bin=a_bins.mean()\n",
    "del mean_bin.index.name"
   ]
  },
  {
   "cell_type": "markdown",
   "metadata": {},
   "source": [
    "## Make bins for low MAF Sites for plotting \n",
    "* Do I need to filter sites in this dataframe first?"
   ]
  },
  {
   "cell_type": "code",
   "execution_count": 200,
   "metadata": {
    "collapsed": true
   },
   "outputs": [],
   "source": [
    "MAF = mafcor['MAF']\n",
    "plotter = pd.DataFrame(MAF)\n",
    "plotter[\"ACC\"] = mafcor[\"correlation\"]\n",
    "bins = np.linspace(0,.5,100)\n",
    "plotter_na = plotter[(-2<plotter['ACC']) & (plotter['ACC']<2)]\n",
    "#print (plotter_na.describe())\n",
    "a_bins = plotter_na.groupby(pd.cut(plotter_na['MAF'],bins))"
   ]
  },
  {
   "cell_type": "code",
   "execution_count": 201,
   "metadata": {
    "collapsed": false
   },
   "outputs": [],
   "source": [
    "fixed = mafcor[mafcor.correlation.isnull()&mafcor.MAF.notnull()]"
   ]
  },
  {
   "cell_type": "code",
   "execution_count": 226,
   "metadata": {
    "collapsed": false
   },
   "outputs": [
    {
     "data": {
      "text/plain": [
       "'70496'"
      ]
     },
     "execution_count": 226,
     "metadata": {},
     "output_type": "execute_result"
    }
   ],
   "source": [
    "len(fixed)\n",
    "str(fixed['MAF'].count())"
   ]
  },
  {
   "cell_type": "code",
   "execution_count": 203,
   "metadata": {
    "collapsed": false
   },
   "outputs": [
    {
     "data": {
      "text/plain": [
       "0.9519533041626096"
      ]
     },
     "execution_count": 203,
     "metadata": {},
     "output_type": "execute_result"
    }
   ],
   "source": [
    "mafcor['correlation'].mean()"
   ]
  },
  {
   "cell_type": "code",
   "execution_count": 224,
   "metadata": {
    "collapsed": false
   },
   "outputs": [
    {
     "data": {
      "text/plain": [
       "'snp50\\trun5\\t873739'"
      ]
     },
     "execution_count": 224,
     "metadata": {},
     "output_type": "execute_result"
    }
   ],
   "source": [
    "name = str(corrpath.split('/')[-1].split('.')[0])\n",
    "run = str(corrpath.split('/')[2])\n",
    "total_sites = str(len(cor))\n",
    "\n",
    "x = [name, run, total_sites, imp_mean, nfixed, fixedmaf, nlowmaf, lowmafimpacc]\n",
    "\n",
    "'\\t'.join(x)"
   ]
  },
  {
   "cell_type": "code",
   "execution_count": null,
   "metadata": {
    "collapsed": true
   },
   "outputs": [],
   "source": []
  },
  {
   "cell_type": "code",
   "execution_count": 204,
   "metadata": {
    "collapsed": false
   },
   "outputs": [],
   "source": [
    "name = corrpath.split('/')[-1].split('.')[0]\n",
    "run = corrpath.split('/')[2]"
   ]
  },
  {
   "cell_type": "code",
   "execution_count": 231,
   "metadata": {
    "collapsed": false
   },
   "outputs": [
    {
     "data": {
      "image/png": "[encoded data removed]",
      "text/plain": [
       "<matplotlib.figure.Figure at 0x7fcbedf8d150>"
      ]
     },
     "metadata": {},
     "output_type": "display_data"
    }
   ],
   "source": [
    "plt.style.use('ggplot')\n",
    "plt.scatter(mafcor[\"MAF\"], mafcor['correlation'], alpha = 0.05)\n",
    "plt.plot(mean_bin['MAF'], mean_bin['ACC'])\n",
    "plt.axis([0,0.5,0,1])\n",
    "plt.grid(alpha = 0.0)\n",
    "plt.ylabel('True vs. Imputed Genotype Correlation', fontsize=10, color='k')\n",
    "plt.xlabel('Minor Allele Frequency', fontsize=10, color='k')\n",
    "plt.title('900K Imputation Accuracy by MAF\\nSNP50 Imputed - Run5')\n",
    "plt.tick_params(colors='k')\n",
    "#plt.savefig('test_combo.png')"
   ]
  },
  {
   "cell_type": "code",
   "execution_count": 239,
   "metadata": {
    "collapsed": false
   },
   "outputs": [
    {
     "data": {
      "text/plain": [
       "'2017-06-14 16:56:43'"
      ]
     },
     "execution_count": 239,
     "metadata": {},
     "output_type": "execute_result"
    }
   ],
   "source": [
    "import datetime\n",
    "import time\n",
    "ts = time.time()\n",
    "st = datetime.datetime.fromtimestamp(ts).strftime('%Y-%m-%d %H:%M:%S')\n",
    "st"
   ]
  },
  {
   "cell_type": "code",
   "execution_count": 242,
   "metadata": {
    "collapsed": false
   },
   "outputs": [
    {
     "data": {
      "text/plain": [
       "'2017-06-14 14:02:07'"
      ]
     },
     "execution_count": 242,
     "metadata": {},
     "output_type": "execute_result"
    }
   ],
   "source": [
    "import os\n",
    "path = './imp_acc/run5/f250.chr22.snp_correlations.csv'\n",
    "ts = os.path.getmtime(path) \n",
    "st = datetime.datetime.fromtimestamp(ts).strftime('%Y-%m-%d %H:%M:%S')\n",
    "st"
   ]
  },
  {
   "cell_type": "code",
   "execution_count": 206,
   "metadata": {
    "collapsed": true
   },
   "outputs": [],
   "source": [
    "MAF = mafcor['MAF']\n",
    "plotter = pd.DataFrame(MAF)\n",
    "plotter[\"ACC\"] = mafcor[\"correlation\"]\n",
    "bins = np.linspace(0,.1,100)\n",
    "plotter_na = plotter[(-2<plotter['ACC']) & (plotter['ACC']<2)]\n",
    "a_bins = plotter_na.groupby(pd.cut(plotter_na['MAF'],bins))\n",
    "filter = mafcor['MAF'] <= 0.1\n",
    "mafcor = mafcor[filter]"
   ]
  },
  {
   "cell_type": "code",
   "execution_count": 207,
   "metadata": {
    "collapsed": false
   },
   "outputs": [
    {
     "data": {
      "text/html": [
       "<div>\n",
       "<table border=\"1\" class=\"dataframe\">\n",
       "  <thead>\n",
       "    <tr style=\"text-align: right;\">\n",
       "      <th></th>\n",
       "      <th>correlation</th>\n",
       "      <th>CHR</th>\n",
       "      <th>POS</th>\n",
       "      <th>MAF</th>\n",
       "    </tr>\n",
       "  </thead>\n",
       "  <tbody>\n",
       "    <tr>\n",
       "      <th>count</th>\n",
       "      <td>144112.000000</td>\n",
       "      <td>199901.000000</td>\n",
       "      <td>1.999010e+05</td>\n",
       "      <td>199901.000000</td>\n",
       "    </tr>\n",
       "    <tr>\n",
       "      <th>mean</th>\n",
       "      <td>0.850010</td>\n",
       "      <td>12.469227</td>\n",
       "      <td>4.971113e+07</td>\n",
       "      <td>0.030958</td>\n",
       "    </tr>\n",
       "    <tr>\n",
       "      <th>std</th>\n",
       "      <td>0.253051</td>\n",
       "      <td>7.967639</td>\n",
       "      <td>3.293148e+07</td>\n",
       "      <td>0.032115</td>\n",
       "    </tr>\n",
       "    <tr>\n",
       "      <th>min</th>\n",
       "      <td>0.000007</td>\n",
       "      <td>1.000000</td>\n",
       "      <td>6.351000e+03</td>\n",
       "      <td>0.000000</td>\n",
       "    </tr>\n",
       "    <tr>\n",
       "      <th>25%</th>\n",
       "      <td>0.867326</td>\n",
       "      <td>6.000000</td>\n",
       "      <td>2.360059e+07</td>\n",
       "      <td>0.001528</td>\n",
       "    </tr>\n",
       "    <tr>\n",
       "      <th>50%</th>\n",
       "      <td>0.950912</td>\n",
       "      <td>12.000000</td>\n",
       "      <td>4.471457e+07</td>\n",
       "      <td>0.018210</td>\n",
       "    </tr>\n",
       "    <tr>\n",
       "      <th>75%</th>\n",
       "      <td>0.983513</td>\n",
       "      <td>19.000000</td>\n",
       "      <td>7.117964e+07</td>\n",
       "      <td>0.057940</td>\n",
       "    </tr>\n",
       "    <tr>\n",
       "      <th>max</th>\n",
       "      <td>1.000000</td>\n",
       "      <td>29.000000</td>\n",
       "      <td>1.583226e+08</td>\n",
       "      <td>0.100000</td>\n",
       "    </tr>\n",
       "  </tbody>\n",
       "</table>\n",
       "</div>"
      ],
      "text/plain": [
       "         correlation            CHR           POS            MAF\n",
       "count  144112.000000  199901.000000  1.999010e+05  199901.000000\n",
       "mean        0.850010      12.469227  4.971113e+07       0.030958\n",
       "std         0.253051       7.967639  3.293148e+07       0.032115\n",
       "min         0.000007       1.000000  6.351000e+03       0.000000\n",
       "25%         0.867326       6.000000  2.360059e+07       0.001528\n",
       "50%         0.950912      12.000000  4.471457e+07       0.018210\n",
       "75%         0.983513      19.000000  7.117964e+07       0.057940\n",
       "max         1.000000      29.000000  1.583226e+08       0.100000"
      ]
     },
     "execution_count": 207,
     "metadata": {},
     "output_type": "execute_result"
    }
   ],
   "source": [
    "mafcor.describe()"
   ]
  },
  {
   "cell_type": "code",
   "execution_count": 211,
   "metadata": {
    "collapsed": false
   },
   "outputs": [
    {
     "data": {
      "text/plain": [
       "0.8500103080747229"
      ]
     },
     "execution_count": 211,
     "metadata": {},
     "output_type": "execute_result"
    }
   ],
   "source": [
    "mafcor['correlation'].mean()"
   ]
  },
  {
   "cell_type": "markdown",
   "metadata": {},
   "source": [
    "### Plotting low MAF imputation accuracy"
   ]
  },
  {
   "cell_type": "code",
   "execution_count": null,
   "metadata": {
    "collapsed": true
   },
   "outputs": [],
   "source": [
    "plt.style.use('ggplot')\n",
    "plt.scatter(mafcor['MAF'], mafcor['correlation'], alpha = 0.05)\n",
    "plt.plot(mean_bin['MAF'], mean_bin['ACC'])\n",
    "plt.axis([0,0.1,0,1])\n",
    "plt.grid(alpha = 0.0)\n",
    "plt.ylabel('True vs. Imputed Genotype Correlation', fontsize=10, color='k')\n",
    "plt.xlabel('Minor Allele Frequency', fontsize=10, color='k')\n",
    "plt.title('900K Imputation Accuracy by MAF (< 0.10)\\n'+ name + ' Imputed - '+ run + ' ' + correlations + 'sites')\n",
    "plt.tick_params(colors='k')\n",
    "#plt.savefig('test_combo.png')"
   ]
  },
  {
   "cell_type": "code",
   "execution_count": 15,
   "metadata": {
    "collapsed": false
   },
   "outputs": [
    {
     "ename": "NameError",
     "evalue": "name 'mafcor' is not defined",
     "output_type": "error",
     "traceback": [
      "\u001b[0;31m---------------------------------------------------------------------------\u001b[0m",
      "\u001b[0;31mNameError\u001b[0m                                 Traceback (most recent call last)",
      "\u001b[0;32m<ipython-input-15-721aaa58df30>\u001b[0m in \u001b[0;36m<module>\u001b[0;34m()\u001b[0m\n\u001b[0;32m----> 1\u001b[0;31m \u001b[0mMAF\u001b[0m \u001b[0;34m=\u001b[0m \u001b[0mmafcor\u001b[0m\u001b[0;34m[\u001b[0m\u001b[0;34m'MAF'\u001b[0m\u001b[0;34m]\u001b[0m\u001b[0;34m\u001b[0m\u001b[0m\n\u001b[0m\u001b[1;32m      2\u001b[0m \u001b[0mplotter\u001b[0m \u001b[0;34m=\u001b[0m \u001b[0mpd\u001b[0m\u001b[0;34m.\u001b[0m\u001b[0mDataFrame\u001b[0m\u001b[0;34m(\u001b[0m\u001b[0mMAF\u001b[0m\u001b[0;34m)\u001b[0m\u001b[0;34m\u001b[0m\u001b[0m\n\u001b[1;32m      3\u001b[0m \u001b[0mplotter\u001b[0m\u001b[0;34m[\u001b[0m\u001b[0;34m\"ACC\"\u001b[0m\u001b[0;34m]\u001b[0m \u001b[0;34m=\u001b[0m \u001b[0mmafcor\u001b[0m\u001b[0;34m[\u001b[0m\u001b[0;34m\"correlation\"\u001b[0m\u001b[0;34m]\u001b[0m\u001b[0;34m\u001b[0m\u001b[0m\n\u001b[1;32m      4\u001b[0m \u001b[0mbins\u001b[0m \u001b[0;34m=\u001b[0m \u001b[0mnp\u001b[0m\u001b[0;34m.\u001b[0m\u001b[0mlinspace\u001b[0m\u001b[0;34m(\u001b[0m\u001b[0;36m0\u001b[0m\u001b[0;34m,\u001b[0m\u001b[0;36m.5\u001b[0m\u001b[0;34m,\u001b[0m\u001b[0;36m100\u001b[0m\u001b[0;34m)\u001b[0m\u001b[0;34m\u001b[0m\u001b[0m\n\u001b[1;32m      5\u001b[0m \u001b[0mplotter_na\u001b[0m \u001b[0;34m=\u001b[0m \u001b[0mplotter\u001b[0m\u001b[0;34m[\u001b[0m\u001b[0;34m(\u001b[0m\u001b[0;34m-\u001b[0m\u001b[0;36m2\u001b[0m\u001b[0;34m<\u001b[0m\u001b[0mplotter\u001b[0m\u001b[0;34m[\u001b[0m\u001b[0;34m'ACC'\u001b[0m\u001b[0;34m]\u001b[0m\u001b[0;34m)\u001b[0m \u001b[0;34m&\u001b[0m \u001b[0;34m(\u001b[0m\u001b[0mplotter\u001b[0m\u001b[0;34m[\u001b[0m\u001b[0;34m'ACC'\u001b[0m\u001b[0;34m]\u001b[0m\u001b[0;34m<\u001b[0m\u001b[0;36m2\u001b[0m\u001b[0;34m)\u001b[0m\u001b[0;34m]\u001b[0m\u001b[0;34m\u001b[0m\u001b[0m\n",
      "\u001b[0;31mNameError\u001b[0m: name 'mafcor' is not defined"
     ]
    }
   ],
   "source": [
    "MAF = mafcor['MAF']\n",
    "plotter = pd.DataFrame(MAF)\n",
    "plotter[\"ACC\"] = mafcor[\"correlation\"]\n",
    "bins = np.linspace(0,.5,100)\n",
    "plotter_na = plotter[(-2<plotter['ACC']) & (plotter['ACC']<2)]\n",
    "print (plotter_na.describe())\n",
    "a_bins = plotter_na.groupby(pd.cut(plotter_na['MAF'],bins))"
   ]
  },
  {
   "cell_type": "code",
   "execution_count": 338,
   "metadata": {
    "collapsed": false
   },
   "outputs": [
    {
     "ename": "AttributeError",
     "evalue": "name",
     "output_type": "error",
     "traceback": [
      "\u001b[0;31m---------------------------------------------------------------------------\u001b[0m",
      "\u001b[0;31mAttributeError\u001b[0m                            Traceback (most recent call last)",
      "\u001b[0;32m<ipython-input-338-fa1fa6e031cd>\u001b[0m in \u001b[0;36m<module>\u001b[0;34m()\u001b[0m\n\u001b[1;32m      1\u001b[0m \u001b[0mmean_bin\u001b[0m\u001b[0;34m=\u001b[0m\u001b[0ma_bins\u001b[0m\u001b[0;34m.\u001b[0m\u001b[0mmean\u001b[0m\u001b[0;34m(\u001b[0m\u001b[0;34m)\u001b[0m\u001b[0;34m\u001b[0m\u001b[0m\n\u001b[0;32m----> 2\u001b[0;31m \u001b[0;32mdel\u001b[0m \u001b[0mmean_bin\u001b[0m\u001b[0;34m.\u001b[0m\u001b[0mindex\u001b[0m\u001b[0;34m.\u001b[0m\u001b[0mname\u001b[0m\u001b[0;34m\u001b[0m\u001b[0m\n\u001b[0m\u001b[1;32m      3\u001b[0m \u001b[0mmean_bin\u001b[0m\u001b[0;34m.\u001b[0m\u001b[0mhead\u001b[0m\u001b[0;34m(\u001b[0m\u001b[0;34m)\u001b[0m\u001b[0;34m\u001b[0m\u001b[0m\n",
      "\u001b[0;31mAttributeError\u001b[0m: name"
     ]
    }
   ],
   "source": [
    "mean_bin=a_bins.mean()\n",
    "del mean_bin.index.name"
   ]
  },
  {
   "cell_type": "code",
   "execution_count": 339,
   "metadata": {
    "collapsed": false
   },
   "outputs": [
    {
     "data": {
      "text/html": [
       "<div>\n",
       "<table border=\"1\" class=\"dataframe\">\n",
       "  <thead>\n",
       "    <tr style=\"text-align: right;\">\n",
       "      <th></th>\n",
       "      <th>MAF</th>\n",
       "      <th>ACC</th>\n",
       "    </tr>\n",
       "  </thead>\n",
       "  <tbody>\n",
       "    <tr>\n",
       "      <th>(0, 0.00505]</th>\n",
       "      <td>0.002790</td>\n",
       "      <td>0.737798</td>\n",
       "    </tr>\n",
       "    <tr>\n",
       "      <th>(0.00505, 0.0101]</th>\n",
       "      <td>0.007450</td>\n",
       "      <td>0.781730</td>\n",
       "    </tr>\n",
       "    <tr>\n",
       "      <th>(0.0101, 0.0152]</th>\n",
       "      <td>0.012549</td>\n",
       "      <td>0.840848</td>\n",
       "    </tr>\n",
       "    <tr>\n",
       "      <th>(0.0152, 0.0202]</th>\n",
       "      <td>0.017667</td>\n",
       "      <td>0.882233</td>\n",
       "    </tr>\n",
       "    <tr>\n",
       "      <th>(0.0202, 0.0253]</th>\n",
       "      <td>0.022688</td>\n",
       "      <td>0.905582</td>\n",
       "    </tr>\n",
       "  </tbody>\n",
       "</table>\n",
       "</div>"
      ],
      "text/plain": [
       "                        MAF       ACC\n",
       "(0, 0.00505]       0.002790  0.737798\n",
       "(0.00505, 0.0101]  0.007450  0.781730\n",
       "(0.0101, 0.0152]   0.012549  0.840848\n",
       "(0.0152, 0.0202]   0.017667  0.882233\n",
       "(0.0202, 0.0253]   0.022688  0.905582"
      ]
     },
     "execution_count": 339,
     "metadata": {},
     "output_type": "execute_result"
    }
   ],
   "source": []
  },
  {
   "cell_type": "markdown",
   "metadata": {},
   "source": []
  },
  {
   "cell_type": "code",
   "execution_count": 324,
   "metadata": {
    "collapsed": false
   },
   "outputs": [
    {
     "data": {
      "image/png": "[encoded data removed]",
      "text/plain": [
       "<matplotlib.figure.Figure at 0x7fa9444eada0>"
      ]
     },
     "metadata": {},
     "output_type": "display_data"
    }
   ],
   "source": [
    "mafline = a_bins.mean().plot(x='MAF',y='ACC', linewidth=2.0)\n",
    "name = correlations.strip(\".snp_correlations.csv\").strip(\"/imp_acc/\")\n",
    "mafline.set_xlabel('Minor Allele Frequency', fontdict=label)\n",
    "mafline.set_ylabel('True vs Imputed Correlation', fontdict=label)\n",
    "mafline.set_title(\"Imputation Correlations by MAF\\n\"+name,fontdict=title)\n",
    "mafline.legend_.remove()\n",
    "#pp.savefig()"
   ]
  },
  {
   "cell_type": "code",
   "execution_count": 72,
   "metadata": {
    "collapsed": false
   },
   "outputs": [],
   "source": [
    "from matplotlib.backends.backend_pdf import PdfPages\n",
    "pp = PdfPages('multipage.pdf')"
   ]
  },
  {
   "cell_type": "code",
   "execution_count": 308,
   "metadata": {
    "collapsed": true
   },
   "outputs": [],
   "source": [
    "import numpy as np\n",
    "from statsmodels.nonparametric.smoothers_lowess import lowess"
   ]
  },
  {
   "cell_type": "code",
   "execution_count": null,
   "metadata": {
    "collapsed": true
   },
   "outputs": [],
   "source": [
    "line = lowess(mafcor['MAF'], mafcor['correlation'])"
   ]
  },
  {
   "cell_type": "code",
   "execution_count": null,
   "metadata": {
    "collapsed": true
   },
   "outputs": [],
   "source": []
  },
  {
   "cell_type": "code",
   "execution_count": null,
   "metadata": {
    "collapsed": true
   },
   "outputs": [],
   "source": []
  },
  {
   "cell_type": "code",
   "execution_count": 73,
   "metadata": {
    "collapsed": false
   },
   "outputs": [],
   "source": [
    "pp.close()"
   ]
  },
  {
   "cell_type": "markdown",
   "metadata": {},
   "source": [
    "# Attempting to subplot these figures"
   ]
  },
  {
   "cell_type": "code",
   "execution_count": 110,
   "metadata": {
    "collapsed": false
   },
   "outputs": [
    {
     "data": {
      "text/plain": [
       "<matplotlib.figure.Figure at 0x7fa969403898>"
      ]
     },
     "metadata": {},
     "output_type": "display_data"
    }
   ],
   "source": [
    "# Setting up Subplot\n",
    "fig = plt.figure(1)\n",
    "label = {'family': 'san-serif',\n",
    "\t\t'color':  'black',\n",
    "\t\t'weight': 'normal',\n",
    "\t\t'size': 6,\n",
    "\t\t}\t\n",
    "title = {'family': 'san-serif',\n",
    "\t\t'color':  'black',\n",
    "\t\t'weight': 'normal',\n",
    "\t\t'size': 8,\n",
    "\t\t}"
   ]
  },
  {
   "cell_type": "code",
   "execution_count": 111,
   "metadata": {
    "collapsed": false
   },
   "outputs": [
    {
     "data": {
      "image/png": "[encoded data removed]",
      "text/plain": [
       "<matplotlib.figure.Figure at 0x7fa969658be0>"
      ]
     },
     "metadata": {},
     "output_type": "display_data"
    }
   ],
   "source": [
    "fig, axes = plt.subplots(nrows=2, ncols=2)"
   ]
  },
  {
   "cell_type": "code",
   "execution_count": 112,
   "metadata": {
    "collapsed": false
   },
   "outputs": [],
   "source": [
    "hg = cor.plot.hist(bins = 100, ax=axes[0,0])\n",
    "name = correlations.strip(\".snp_correlations.csv\").strip(\"/imp_acc/\")\n",
    "hg.set_xlabel('True vs Imputed Correlation', fontdict=label)\n",
    "hg.set_ylabel('Count', fontdict=label)\n",
    "hg.set_title(\"Histogram of Imputation Correlations per Locus\\n\" + name + '\\nMean Correlation = ' + mean, fontdict=title)\n",
    "hg.legend_.remove()"
   ]
  },
  {
   "cell_type": "code",
   "execution_count": null,
   "metadata": {
    "collapsed": false
   },
   "outputs": [],
   "source": []
  },
  {
   "cell_type": "code",
   "execution_count": 113,
   "metadata": {
    "collapsed": false
   },
   "outputs": [
    {
     "data": {
      "text/plain": [
       "<matplotlib.text.Text at 0x7fa969294b38>"
      ]
     },
     "execution_count": 113,
     "metadata": {},
     "output_type": "execute_result"
    }
   ],
   "source": [
    "mafsp = mafcor.plot.scatter(x = \"MAF\", y = \"correlation\", alpha = 0.5, ax=axes[0,1])\n",
    "name = correlations.strip(\".snp_correlations.csv\").strip(\"/imp_acc/\")\n",
    "mafsp.set_xlabel('Minor Allele Frequency', fontdict=label)\n",
    "mafsp.set_ylabel('True vs Imputed Correlation', fontdict=label)\n",
    "mafsp.set_title(\"Histogram of Imputation Correlations per Locus\\n\"+name, fontdict=title)"
   ]
  },
  {
   "cell_type": "code",
   "execution_count": 114,
   "metadata": {
    "collapsed": true
   },
   "outputs": [],
   "source": [
    "mafline = a_bins.mean().plot(x='MAF',y='ACC', linewidth=2.0, ax=axes[1,0])\n",
    "name = correlations.strip(\".snp_correlations.csv\").strip(\"/imp_acc/\")\n",
    "mafline.set_xlabel('Minor Allele Frequency', fontdict=label)\n",
    "mafline.set_ylabel('True vs Imputed Correlation', fontdict=label)\n",
    "mafline.set_title(\"Histogram of Imputation Correlations per Locus\\n\"+name,fontdict=title)\n",
    "mafline.legend_.remove()"
   ]
  },
  {
   "cell_type": "code",
   "execution_count": 115,
   "metadata": {
    "collapsed": false
   },
   "outputs": [
    {
     "data": {
      "image/png": "[encoded data removed]",
      "text/plain": [
       "<matplotlib.figure.Figure at 0x7fa969658be0>"
      ]
     },
     "execution_count": 115,
     "metadata": {},
     "output_type": "execute_result"
    }
   ],
   "source": []
  },
  {
   "cell_type": "markdown",
   "metadata": {},
   "source": [
    "# Concatenate together CSV files with correlations for all chromosomes"
   ]
  },
  {
   "cell_type": "code",
   "execution_count": 32,
   "metadata": {
    "collapsed": true
   },
   "outputs": [],
   "source": [
    "corrpath = \"./minimac_imp_acc/2/snp50.run2.chr\""
   ]
  },
  {
   "cell_type": "code",
   "execution_count": 33,
   "metadata": {
    "collapsed": true
   },
   "outputs": [],
   "source": [
    "import pandas as pd\n",
    "import glob\n",
    "\n",
    "corrpath = \"./minimac_imp_acc/2/snp50.run2.chr\"\n",
    "\n",
    "interesting_files = glob.glob(corrpath+\"*.csv\")\n",
    "df_list = []\n",
    "for filename in sorted(interesting_files):\n",
    "    df_list.append(pd.read_csv(filename))\n",
    "full_df = pd.concat(df_list)\n",
    "cor =full_df\n",
    "cor.index = cor['Unnamed: 0']\n",
    "del cor['Unnamed: 0']\n",
    "del cor.index.name\n",
    "cor['correlation']  = abs(cor['correlation'])"
   ]
  },
  {
   "cell_type": "code",
   "execution_count": 35,
   "metadata": {
    "collapsed": false
   },
   "outputs": [],
   "source": [
    "cor['correlation']  = abs(cor['correlation'])"
   ]
  },
  {
   "cell_type": "code",
   "execution_count": 36,
   "metadata": {
    "collapsed": false
   },
   "outputs": [
    {
     "data": {
      "text/plain": [
       "correlation    0.952052\n",
       "dtype: float64"
      ]
     },
     "execution_count": 36,
     "metadata": {},
     "output_type": "execute_result"
    }
   ],
   "source": [
    "cor.mean()"
   ]
  },
  {
   "cell_type": "code",
   "execution_count": 18,
   "metadata": {
    "collapsed": false
   },
   "outputs": [
    {
     "ename": "NameError",
     "evalue": "name 'np' is not defined",
     "output_type": "error",
     "traceback": [
      "\u001b[0;31m---------------------------------------------------------------------------\u001b[0m",
      "\u001b[0;31mNameError\u001b[0m                                 Traceback (most recent call last)",
      "\u001b[0;32m<ipython-input-18-471d7ecf13a2>\u001b[0m in \u001b[0;36m<module>\u001b[0;34m()\u001b[0m\n\u001b[1;32m      1\u001b[0m \u001b[0;32mfrom\u001b[0m \u001b[0mitertools\u001b[0m \u001b[0;32mimport\u001b[0m \u001b[0mislice\u001b[0m\u001b[0;34m\u001b[0m\u001b[0m\n\u001b[1;32m      2\u001b[0m \u001b[0mimputed\u001b[0m \u001b[0;34m=\u001b[0m \u001b[0;34m\"impute2_vcf/ggpld.run2.chr28.imputed.vcf\"\u001b[0m\u001b[0;34m\u001b[0m\u001b[0m\n\u001b[0;32m----> 3\u001b[0;31m \u001b[0mgenskey\u001b[0m \u001b[0;34m=\u001b[0m \u001b[0;34m{\u001b[0m\u001b[0;34m'./.'\u001b[0m\u001b[0;34m:\u001b[0m\u001b[0mnp\u001b[0m\u001b[0;34m.\u001b[0m\u001b[0mNaN\u001b[0m\u001b[0;34m,\u001b[0m \u001b[0;34m'0/0'\u001b[0m\u001b[0;34m:\u001b[0m\u001b[0;36m0\u001b[0m\u001b[0;34m,\u001b[0m \u001b[0;34m'0/1'\u001b[0m\u001b[0;34m:\u001b[0m\u001b[0;36m1\u001b[0m \u001b[0;34m,\u001b[0m\u001b[0;34m'1/1'\u001b[0m\u001b[0;34m:\u001b[0m\u001b[0;36m2\u001b[0m\u001b[0;34m}\u001b[0m\u001b[0;34m\u001b[0m\u001b[0m\n\u001b[0m",
      "\u001b[0;31mNameError\u001b[0m: name 'np' is not defined"
     ]
    }
   ],
   "source": [
    "from itertools import islice\n",
    "imputed = \"impute2_vcf/ggpld.run2.chr28.imputed.vcf\"\n",
    "genskey = {'./.':np.NaN, '0/0':0, '0/1':1 ,'1/1':2}"
   ]
  },
  {
   "cell_type": "code",
   "execution_count": 76,
   "metadata": {
    "collapsed": false
   },
   "outputs": [],
   "source": [
    "impdict = {}\n",
    "with open(imputed, \"r\") as i:\n",
    "\thead = list(islice(i,5))\n",
    "\timpsamples = next(i).strip().split()[9:]\n",
    "\tfor line in i:\n",
    "\t\tsplat = line.strip().split()\n",
    "\t\tcp = (splat[0], splat[1])\n",
    "\t\tpos = \":\".join(cp)\n",
    "\t\tgen = splat[9:]\n",
    "\t\talt = [genskey[p] for p in gen]\n",
    "\t\timpdict[pos] = alt"
   ]
  },
  {
   "cell_type": "code",
   "execution_count": 77,
   "metadata": {
    "collapsed": false
   },
   "outputs": [],
   "source": [
    "impdf = pd.DataFrame.from_dict(impdict, orient='index')"
   ]
  },
  {
   "cell_type": "code",
   "execution_count": 19,
   "metadata": {
    "collapsed": false
   },
   "outputs": [
    {
     "data": {
      "text/plain": [
       "correlation   -0.935791\n",
       "dtype: float64"
      ]
     },
     "execution_count": 19,
     "metadata": {},
     "output_type": "execute_result"
    }
   ],
   "source": [
    "cor.mean()"
   ]
  },
  {
   "cell_type": "code",
   "execution_count": 69,
   "metadata": {
    "collapsed": false
   },
   "outputs": [
    {
     "data": {
      "text/plain": [
       "['0/1',\n",
       " '0/1',\n",
       " '0/1',\n",
       " '1/1',\n",
       " '1/1',\n",
       " './.',\n",
       " '1/1',\n",
       " '1/1',\n",
       " '1/1',\n",
       " '0/1',\n",
       " '0/1',\n",
       " '0/1',\n",
       " '0/0',\n",
       " '1/1',\n",
       " '0/1',\n",
       " '0/0',\n",
       " '0/0',\n",
       " '0/1',\n",
       " '1/1',\n",
       " '0/1',\n",
       " '0/1',\n",
       " '1/1',\n",
       " '0/1',\n",
       " '0/0',\n",
       " '1/1',\n",
       " '0/0',\n",
       " '0/1',\n",
       " '1/1',\n",
       " '0/1',\n",
       " '0/1',\n",
       " '1/1',\n",
       " '0/1',\n",
       " '0/1',\n",
       " '0/0',\n",
       " '0/1',\n",
       " '0/1',\n",
       " '1/1',\n",
       " '1/1',\n",
       " '0/1',\n",
       " '0/1',\n",
       " '0/0',\n",
       " '0/1',\n",
       " '0/0',\n",
       " '1/1',\n",
       " '0/1',\n",
       " '1/1',\n",
       " '0/1',\n",
       " '0/1',\n",
       " '0/0',\n",
       " '0/1',\n",
       " '1/1',\n",
       " '0/0',\n",
       " '0/1',\n",
       " '0/1',\n",
       " '1/1',\n",
       " '1/1',\n",
       " '0/1',\n",
       " '0/1',\n",
       " '0/0',\n",
       " '0/0',\n",
       " '0/0',\n",
       " '0/1',\n",
       " '1/1',\n",
       " '0/1',\n",
       " '0/1',\n",
       " '0/0',\n",
       " '1/1',\n",
       " '1/1',\n",
       " '0/1',\n",
       " '1/1',\n",
       " '1/1',\n",
       " '1/1',\n",
       " '0/1',\n",
       " '0/1',\n",
       " '0/0',\n",
       " '0/0',\n",
       " '1/1',\n",
       " '1/1',\n",
       " '1/1',\n",
       " '0/1',\n",
       " '1/1',\n",
       " '0/1',\n",
       " '1/1',\n",
       " '0/1',\n",
       " '0/1',\n",
       " '0/1',\n",
       " '0/0',\n",
       " '0/1',\n",
       " '0/1',\n",
       " '0/1',\n",
       " '0/1',\n",
       " './.',\n",
       " '0/1',\n",
       " '1/1',\n",
       " '1/1',\n",
       " '1/1',\n",
       " '0/1',\n",
       " '1/1',\n",
       " '0/1',\n",
       " '1/1',\n",
       " '0/0',\n",
       " '0/0',\n",
       " '0/1',\n",
       " '1/1',\n",
       " '0/1',\n",
       " '0/1',\n",
       " '0/1',\n",
       " '0/0',\n",
       " '0/0',\n",
       " '1/1',\n",
       " '0/0',\n",
       " '0/0',\n",
       " '0/0',\n",
       " '0/1',\n",
       " '0/1',\n",
       " '0/0',\n",
       " '0/1',\n",
       " '0/0',\n",
       " '0/1',\n",
       " '0/1',\n",
       " '0/0',\n",
       " '0/1',\n",
       " '1/1',\n",
       " '0/1',\n",
       " '1/1',\n",
       " '0/1',\n",
       " './.',\n",
       " '0/1',\n",
       " '1/1',\n",
       " '0/1',\n",
       " '1/1',\n",
       " '0/0',\n",
       " '1/1',\n",
       " '1/1',\n",
       " '0/1',\n",
       " '1/1',\n",
       " '0/1',\n",
       " '0/1',\n",
       " '1/1',\n",
       " '0/0',\n",
       " '0/0',\n",
       " '0/0',\n",
       " '1/1',\n",
       " '0/0',\n",
       " '0/1',\n",
       " '0/1',\n",
       " '1/1',\n",
       " '0/1',\n",
       " '1/1',\n",
       " '1/1',\n",
       " '0/1',\n",
       " './.',\n",
       " '1/1',\n",
       " '1/1',\n",
       " './.',\n",
       " '0/1',\n",
       " '1/1',\n",
       " '0/0',\n",
       " '0/1',\n",
       " '1/1',\n",
       " '0/0',\n",
       " '0/1',\n",
       " './.',\n",
       " '0/1',\n",
       " '0/0',\n",
       " '0/1',\n",
       " '0/0',\n",
       " '0/1',\n",
       " './.',\n",
       " '1/1',\n",
       " '0/1',\n",
       " '0/0',\n",
       " '1/1',\n",
       " '0/1',\n",
       " '0/1',\n",
       " '0/1',\n",
       " '0/1',\n",
       " '0/1',\n",
       " '0/1',\n",
       " '0/0',\n",
       " '0/1',\n",
       " '0/1',\n",
       " '0/1',\n",
       " '0/0',\n",
       " '0/1',\n",
       " '1/1',\n",
       " '0/0',\n",
       " '0/1',\n",
       " '1/1',\n",
       " '0/0',\n",
       " '0/1',\n",
       " '0/1',\n",
       " '0/1',\n",
       " '0/1',\n",
       " '0/1',\n",
       " '0/1',\n",
       " '0/0',\n",
       " '0/1',\n",
       " '0/1',\n",
       " '0/1',\n",
       " '0/0',\n",
       " '0/0',\n",
       " '0/0',\n",
       " '1/1',\n",
       " '1/1',\n",
       " './.',\n",
       " '0/1',\n",
       " '0/1',\n",
       " '0/1',\n",
       " '0/1',\n",
       " '1/1',\n",
       " '0/1',\n",
       " './.',\n",
       " '0/1',\n",
       " '0/1',\n",
       " '1/1',\n",
       " '0/1',\n",
       " '0/1',\n",
       " '0/0',\n",
       " '0/0',\n",
       " '0/1',\n",
       " '0/1',\n",
       " '1/1',\n",
       " '0/1',\n",
       " '0/1',\n",
       " '0/0',\n",
       " '1/1',\n",
       " '0/1',\n",
       " '1/1',\n",
       " '0/1',\n",
       " '1/1',\n",
       " '0/1',\n",
       " '0/1',\n",
       " '0/1',\n",
       " '0/0',\n",
       " '1/1',\n",
       " '0/1',\n",
       " '0/1',\n",
       " '0/1',\n",
       " '0/1',\n",
       " '0/1',\n",
       " '1/1',\n",
       " '0/1',\n",
       " '0/1',\n",
       " './.',\n",
       " '0/0',\n",
       " '0/1',\n",
       " '1/1',\n",
       " '1/1',\n",
       " '0/1',\n",
       " '0/1',\n",
       " '0/0',\n",
       " '1/1',\n",
       " '1/1',\n",
       " '1/1',\n",
       " '1/1',\n",
       " '0/1',\n",
       " '0/0',\n",
       " '0/1',\n",
       " '0/1',\n",
       " '0/0',\n",
       " '0/1',\n",
       " '0/0',\n",
       " '0/0',\n",
       " '0/1',\n",
       " '0/0',\n",
       " '0/1',\n",
       " '0/1',\n",
       " '0/1',\n",
       " '0/1',\n",
       " '0/1',\n",
       " '0/0',\n",
       " '1/1',\n",
       " '0/1',\n",
       " '1/1',\n",
       " '1/1',\n",
       " '0/1',\n",
       " '0/1',\n",
       " '0/1',\n",
       " '0/1',\n",
       " '0/1',\n",
       " '1/1',\n",
       " '0/0',\n",
       " '0/1',\n",
       " '1/1',\n",
       " './.',\n",
       " '1/1',\n",
       " '0/1',\n",
       " '0/1',\n",
       " '0/1',\n",
       " './.',\n",
       " '0/1',\n",
       " '0/1',\n",
       " './.',\n",
       " '0/1',\n",
       " '0/0',\n",
       " '0/0',\n",
       " './.',\n",
       " '0/1',\n",
       " '0/1',\n",
       " '1/1',\n",
       " '0/1',\n",
       " '0/1',\n",
       " '0/1',\n",
       " '0/1',\n",
       " '0/1',\n",
       " '1/1',\n",
       " '0/0',\n",
       " '0/1',\n",
       " '0/0',\n",
       " '1/1',\n",
       " '1/1',\n",
       " '1/1',\n",
       " '0/0',\n",
       " '0/1',\n",
       " '0/1',\n",
       " '0/0',\n",
       " '0/1',\n",
       " '1/1',\n",
       " '1/1',\n",
       " '0/0',\n",
       " '0/1',\n",
       " '0/0',\n",
       " '1/1',\n",
       " '0/1',\n",
       " '0/1',\n",
       " '0/0',\n",
       " '1/1',\n",
       " '0/1',\n",
       " '1/1',\n",
       " '0/0',\n",
       " '0/1',\n",
       " '0/1',\n",
       " '0/1',\n",
       " '0/0',\n",
       " '1/1',\n",
       " '0/0',\n",
       " '0/1',\n",
       " '0/1',\n",
       " '0/1',\n",
       " '0/0',\n",
       " '1/1',\n",
       " '0/1',\n",
       " '0/1',\n",
       " '1/1',\n",
       " '1/1',\n",
       " '0/1',\n",
       " '1/1',\n",
       " '0/1',\n",
       " '0/0',\n",
       " '1/1',\n",
       " '0/1',\n",
       " '0/1',\n",
       " '0/1',\n",
       " '0/1',\n",
       " '0/0',\n",
       " '0/0',\n",
       " '0/1',\n",
       " '1/1',\n",
       " '0/1',\n",
       " '0/1',\n",
       " '0/1',\n",
       " '1/1',\n",
       " '0/1',\n",
       " './.',\n",
       " '0/1',\n",
       " '0/1',\n",
       " '0/0',\n",
       " '1/1',\n",
       " '0/0',\n",
       " '0/1',\n",
       " '0/1',\n",
       " '1/1',\n",
       " '0/1',\n",
       " '0/0',\n",
       " '0/0',\n",
       " '0/1',\n",
       " '1/1',\n",
       " '0/0',\n",
       " '0/0',\n",
       " '1/1',\n",
       " '0/1',\n",
       " '0/1',\n",
       " '0/1',\n",
       " '0/1',\n",
       " '0/1',\n",
       " '0/0',\n",
       " '0/1',\n",
       " '1/1',\n",
       " './.',\n",
       " '0/1',\n",
       " '1/1',\n",
       " '0/1',\n",
       " '0/1',\n",
       " '1/1',\n",
       " '1/1',\n",
       " '0/1',\n",
       " './.',\n",
       " '0/1',\n",
       " '0/0',\n",
       " '0/0',\n",
       " '0/0',\n",
       " '0/1',\n",
       " './.',\n",
       " '1/1',\n",
       " '0/1',\n",
       " '1/1',\n",
       " '0/0',\n",
       " '0/0',\n",
       " '0/1',\n",
       " '1/1',\n",
       " '0/1',\n",
       " '1/1',\n",
       " '0/1',\n",
       " './.',\n",
       " '0/1',\n",
       " '0/1',\n",
       " '1/1',\n",
       " '0/1',\n",
       " '0/1',\n",
       " '0/1',\n",
       " '1/1',\n",
       " '0/1',\n",
       " './.',\n",
       " './.',\n",
       " '0/1',\n",
       " './.',\n",
       " '0/0',\n",
       " '0/1',\n",
       " '0/1',\n",
       " '0/0',\n",
       " '0/1',\n",
       " '0/0',\n",
       " '1/1',\n",
       " '1/1',\n",
       " '1/1',\n",
       " '0/1',\n",
       " '0/0',\n",
       " '1/1',\n",
       " '0/1',\n",
       " '0/0',\n",
       " '0/1',\n",
       " '0/1',\n",
       " '0/1',\n",
       " './.',\n",
       " '0/0',\n",
       " '0/0',\n",
       " '0/1',\n",
       " '0/1',\n",
       " '0/1',\n",
       " '0/1',\n",
       " '0/0',\n",
       " '0/1',\n",
       " '0/1',\n",
       " '0/1',\n",
       " '0/1',\n",
       " '0/0',\n",
       " '0/1',\n",
       " '0/1',\n",
       " '0/1',\n",
       " './.',\n",
       " '0/0',\n",
       " '1/1',\n",
       " '0/1',\n",
       " '1/1',\n",
       " '0/0',\n",
       " '0/1',\n",
       " '0/1',\n",
       " '1/1',\n",
       " '0/1',\n",
       " '1/1',\n",
       " '1/1',\n",
       " './.',\n",
       " '0/0',\n",
       " '0/1',\n",
       " '0/1',\n",
       " '0/0',\n",
       " '0/1',\n",
       " '1/1',\n",
       " '0/1',\n",
       " '0/1',\n",
       " '1/1',\n",
       " '1/1',\n",
       " '1/1',\n",
       " './.',\n",
       " '1/1',\n",
       " '0/1',\n",
       " '0/1',\n",
       " '0/1',\n",
       " '1/1',\n",
       " './.',\n",
       " '0/1',\n",
       " '0/1',\n",
       " '0/1',\n",
       " '0/1',\n",
       " '0/1',\n",
       " '0/0',\n",
       " '1/1',\n",
       " '0/1',\n",
       " '0/1',\n",
       " '0/1',\n",
       " './.',\n",
       " '0/1',\n",
       " '1/1',\n",
       " '0/1',\n",
       " '0/1',\n",
       " '0/0',\n",
       " '0/1',\n",
       " '1/1',\n",
       " '0/1',\n",
       " '1/1',\n",
       " '0/0',\n",
       " '0/1',\n",
       " '0/1',\n",
       " '0/1',\n",
       " '1/1',\n",
       " '0/1',\n",
       " '0/0',\n",
       " '0/0',\n",
       " '0/1',\n",
       " '0/1',\n",
       " '0/1',\n",
       " '0/1',\n",
       " '1/1',\n",
       " '0/1',\n",
       " '0/1',\n",
       " '0/1',\n",
       " '1/1',\n",
       " '0/1',\n",
       " './.',\n",
       " '0/1',\n",
       " '0/1',\n",
       " '0/1',\n",
       " '0/1',\n",
       " '0/0',\n",
       " '1/1',\n",
       " '0/1',\n",
       " '0/0',\n",
       " '0/1',\n",
       " '0/0',\n",
       " '0/1',\n",
       " '0/1',\n",
       " '1/1',\n",
       " '0/1',\n",
       " '0/1',\n",
       " '0/0',\n",
       " './.',\n",
       " '0/0',\n",
       " '0/0',\n",
       " '0/0',\n",
       " '1/1',\n",
       " './.',\n",
       " '0/0',\n",
       " '0/0',\n",
       " '0/1',\n",
       " '0/1',\n",
       " '1/1',\n",
       " '0/0',\n",
       " '0/1',\n",
       " '1/1',\n",
       " '1/1',\n",
       " '1/1',\n",
       " './.',\n",
       " '1/1',\n",
       " '1/1',\n",
       " '0/1',\n",
       " '0/1',\n",
       " '0/1',\n",
       " '1/1',\n",
       " '0/1',\n",
       " '0/0',\n",
       " '1/1',\n",
       " '0/1',\n",
       " '1/1',\n",
       " '0/0',\n",
       " '1/1',\n",
       " '1/1',\n",
       " '1/1',\n",
       " '0/0',\n",
       " '0/1',\n",
       " '0/1',\n",
       " '0/0',\n",
       " '0/1',\n",
       " '1/1',\n",
       " '0/0',\n",
       " '1/1',\n",
       " '1/1',\n",
       " '1/1',\n",
       " '1/1',\n",
       " '1/1',\n",
       " '0/1',\n",
       " '0/1',\n",
       " '0/1',\n",
       " '0/1',\n",
       " '1/1',\n",
       " '0/0',\n",
       " '0/1',\n",
       " '1/1',\n",
       " '0/0',\n",
       " '0/1',\n",
       " '0/1',\n",
       " '1/1',\n",
       " '0/0',\n",
       " '1/1',\n",
       " '0/0',\n",
       " '1/1',\n",
       " '0/1',\n",
       " '0/1',\n",
       " '0/1',\n",
       " '0/0',\n",
       " '0/0',\n",
       " '0/1',\n",
       " '0/1',\n",
       " '0/0',\n",
       " '1/1',\n",
       " '1/1',\n",
       " './.',\n",
       " '0/1',\n",
       " '0/1',\n",
       " '0/0',\n",
       " '1/1',\n",
       " '0/1',\n",
       " '1/1',\n",
       " '0/1',\n",
       " '1/1',\n",
       " '0/1',\n",
       " '1/1',\n",
       " '0/1',\n",
       " './.',\n",
       " '0/0',\n",
       " '0/1',\n",
       " '1/1',\n",
       " '1/1',\n",
       " './.',\n",
       " '0/1',\n",
       " '0/0',\n",
       " '0/1',\n",
       " '0/1',\n",
       " '0/1',\n",
       " '1/1',\n",
       " '0/0',\n",
       " '1/1',\n",
       " '0/0',\n",
       " '0/0',\n",
       " '0/1',\n",
       " '0/1',\n",
       " '0/1',\n",
       " '0/1',\n",
       " '0/1',\n",
       " '1/1',\n",
       " '1/1',\n",
       " '1/1',\n",
       " '0/1',\n",
       " '1/1',\n",
       " '1/1',\n",
       " '0/1',\n",
       " '0/1',\n",
       " '0/0',\n",
       " '0/0',\n",
       " '0/0',\n",
       " '1/1',\n",
       " '0/0',\n",
       " '1/1',\n",
       " '0/1',\n",
       " '0/1',\n",
       " '1/1',\n",
       " '1/1',\n",
       " '0/1',\n",
       " '0/1',\n",
       " '1/1',\n",
       " '1/1',\n",
       " '0/0',\n",
       " '0/1',\n",
       " '0/1',\n",
       " '0/1',\n",
       " '0/1',\n",
       " '0/1',\n",
       " '0/1',\n",
       " '1/1',\n",
       " '0/1',\n",
       " '0/1',\n",
       " '1/1',\n",
       " '1/1',\n",
       " './.',\n",
       " '1/1',\n",
       " '0/1',\n",
       " '1/1',\n",
       " '0/1',\n",
       " '0/1',\n",
       " '0/1',\n",
       " '0/0',\n",
       " '0/0',\n",
       " '0/0',\n",
       " '0/0',\n",
       " '0/0',\n",
       " '1/1',\n",
       " '0/1',\n",
       " '0/1',\n",
       " '0/1',\n",
       " '0/1',\n",
       " './.',\n",
       " '0/0',\n",
       " '0/1',\n",
       " '1/1',\n",
       " '0/0',\n",
       " '0/0',\n",
       " '0/1',\n",
       " '0/1',\n",
       " '0/1',\n",
       " '0/0',\n",
       " '0/0',\n",
       " '0/1',\n",
       " '0/1',\n",
       " '0/1',\n",
       " '0/1',\n",
       " '0/1',\n",
       " '0/0',\n",
       " '0/1',\n",
       " '0/0',\n",
       " '1/1',\n",
       " '0/1',\n",
       " '0/1',\n",
       " '0/0',\n",
       " '0/0',\n",
       " '1/1',\n",
       " '1/1',\n",
       " '1/1',\n",
       " '0/1',\n",
       " './.',\n",
       " '0/0',\n",
       " '0/1',\n",
       " '1/1',\n",
       " '0/1',\n",
       " '0/1',\n",
       " '1/1',\n",
       " '1/1',\n",
       " '0/0',\n",
       " '1/1',\n",
       " '0/0',\n",
       " '0/0',\n",
       " '0/0',\n",
       " '1/1',\n",
       " '0/1',\n",
       " '1/1',\n",
       " '0/1',\n",
       " '1/1',\n",
       " '0/1',\n",
       " '1/1',\n",
       " '1/1',\n",
       " '1/1',\n",
       " '1/1',\n",
       " '0/0',\n",
       " '0/1',\n",
       " './.',\n",
       " '0/0',\n",
       " '0/1',\n",
       " '0/1',\n",
       " '1/1',\n",
       " '0/0',\n",
       " '1/1',\n",
       " '0/0',\n",
       " '1/1',\n",
       " '0/0',\n",
       " '0/1',\n",
       " '0/1',\n",
       " '1/1',\n",
       " '0/0',\n",
       " '1/1',\n",
       " '0/0',\n",
       " '1/1',\n",
       " '1/1',\n",
       " '1/1',\n",
       " '1/1',\n",
       " './.',\n",
       " '1/1',\n",
       " '0/0',\n",
       " '1/1',\n",
       " '0/1',\n",
       " '0/1',\n",
       " '0/1',\n",
       " '0/1',\n",
       " '0/1',\n",
       " '0/1',\n",
       " '0/0',\n",
       " '1/1']"
      ]
     },
     "execution_count": 69,
     "metadata": {},
     "output_type": "execute_result"
    }
   ],
   "source": []
  },
  {
   "cell_type": "code",
   "execution_count": 7,
   "metadata": {
    "collapsed": false
   },
   "outputs": [],
   "source": [
    "DATA =['f250', 'ggpld', 'hd', 'snp50']\n",
    "from itertools import tee\n",
    "def parwise(iterable):\n",
    "\ta,b = tee(iterable)\n",
    "\tnext(b, None)\n",
    "\treturn zip(a,b)\n",
    "def chunks(end):\n",
    "\treturn [str(i[0]+1)+ ' ' + str(i[1]) for i in parwise(range(0,end,5000000))]\n",
    "rangedict = {'1':chunks(158322647),'2':chunks(136914030),'3':chunks(121412973), '4':chunks(120786530), '5':chunks(121186724), '6':chunks(119454666), '7':chunks(112628884), '8':chunks(113380773), '9':chunks(105701306), '10':chunks(104301732), '11':chunks(107282960), '12':chunks(91155612), '13':chunks(84230359), '14':chunks(84628243), '15':chunks(85272311), '16':chunks(81720984), '17':chunks(75149392), '18':chunks(65999195), '19':chunks(64044783), '20':chunks(71992748), '21':chunks(71594139), '22':chunks(61379134), '23':chunks(52467978), '24':chunks(62685898), '25':chunks(43879707), '26':chunks(51680135), '27':chunks(45402893), '28':chunks(46267578), '29':chunks(51504286)} #, '30':chunks(143032828)}"
   ]
  },
  {
   "cell_type": "code",
   "execution_count": 8,
   "metadata": {
    "collapsed": true
   },
   "outputs": [],
   "source": [
    "# This dict needs to be able to reference run and chromosome NOT "
   ]
  },
  {
   "cell_type": "code",
   "execution_count": 9,
   "metadata": {
    "collapsed": false
   },
   "outputs": [],
   "source": [
    "rundict = {}\n",
    "for Run in range(15):\n",
    "\trun= str(Run)\n",
    "\tfiledict = {}\n",
    "\tfor chr in rangedict.keys():\n",
    "\t\tchunkcounter=-1\n",
    "\t\tflist = []\n",
    "\t\tfor chunk in rangedict.get(chr):\n",
    "\t\t\tchunkcounter = chunkcounter+1\n",
    "\t\t\tfile = 'minimac_ref_panel/ref_panel_chunks_vcf/run'+ run + '/merged_refpanel.chr'+chr+'.'+str(chunkcounter)+'.phased.vcf' #need to edit this to accept run as a wildcard\n",
    "\t\t\tflist.append(file)\n",
    "\t\t\tfiledict[chr]=flist\n",
    "\trundict[run] = filedict\n",
    "\n",
    "def chrfiles(chrom):\n",
    "\treturn rundict[chrom.run][chrom.chr]\n"
   ]
  },
  {
   "cell_type": "code",
   "execution_count": 11,
   "metadata": {
    "collapsed": false
   },
   "outputs": [
    {
     "data": {
      "text/plain": [
       "['minimac_ref_panel/ref_panel_chunks_vcf/run5/merged_refpanel.chr28.0.phased.vcf',\n",
       " 'minimac_ref_panel/ref_panel_chunks_vcf/run5/merged_refpanel.chr28.1.phased.vcf',\n",
       " 'minimac_ref_panel/ref_panel_chunks_vcf/run5/merged_refpanel.chr28.2.phased.vcf',\n",
       " 'minimac_ref_panel/ref_panel_chunks_vcf/run5/merged_refpanel.chr28.3.phased.vcf',\n",
       " 'minimac_ref_panel/ref_panel_chunks_vcf/run5/merged_refpanel.chr28.4.phased.vcf',\n",
       " 'minimac_ref_panel/ref_panel_chunks_vcf/run5/merged_refpanel.chr28.5.phased.vcf',\n",
       " 'minimac_ref_panel/ref_panel_chunks_vcf/run5/merged_refpanel.chr28.6.phased.vcf',\n",
       " 'minimac_ref_panel/ref_panel_chunks_vcf/run5/merged_refpanel.chr28.7.phased.vcf',\n",
       " 'minimac_ref_panel/ref_panel_chunks_vcf/run5/merged_refpanel.chr28.8.phased.vcf']"
      ]
     },
     "execution_count": 11,
     "metadata": {},
     "output_type": "execute_result"
    }
   ],
   "source": [
    "rundict['5']['28']"
   ]
  },
  {
   "cell_type": "code",
   "execution_count": null,
   "metadata": {
    "collapsed": true
   },
   "outputs": [],
   "source": []
  },
  {
   "cell_type": "code",
   "execution_count": null,
   "metadata": {
    "collapsed": true
   },
   "outputs": [],
   "source": []
  },
  {
   "cell_type": "code",
   "execution_count": null,
   "metadata": {
    "collapsed": true
   },
   "outputs": [],
   "source": []
  },
  {
   "cell_type": "code",
   "execution_count": 5,
   "metadata": {
    "collapsed": false
   },
   "outputs": [],
   "source": [
    "IMPREFS = ['hd', 'f250']\n",
    "\n",
    "haps_sample_run = {'5': 'eagle_phased_assays'}\n",
    "haps_location = {'eagle_phased_assays':'2'}\n",
    "loc = []\n",
    "for xx in IMPREFS:\n",
    "\tt = '5'\n",
    "\tsamp = xx\n",
    "\tchrom = '28'\n",
    "\tlocation = haps_sample_run[t] + '/run' + haps_location[haps_sample_run[t]] + '/'+ samp  +'.chr' + chrom + '.phased.sample'\n",
    "\tloc.append(location)\n"
   ]
  },
  {
   "cell_type": "code",
   "execution_count": 6,
   "metadata": {
    "collapsed": false
   },
   "outputs": [
    {
     "data": {
      "text/plain": [
       "['eagle_phased_assays/run2/hd.chr28.phased.sample',\n",
       " 'eagle_phased_assays/run2/f250.chr28.phased.sample']"
      ]
     },
     "execution_count": 6,
     "metadata": {},
     "output_type": "execute_result"
    }
   ],
   "source": [
    "loc"
   ]
  },
  {
   "cell_type": "code",
   "execution_count": null,
   "metadata": {
    "collapsed": true
   },
   "outputs": [],
   "source": []
  },
  {
   "cell_type": "code",
   "execution_count": null,
   "metadata": {
    "collapsed": true
   },
   "outputs": [],
   "source": []
  },
  {
   "cell_type": "code",
   "execution_count": null,
   "metadata": {
    "collapsed": true
   },
   "outputs": [],
   "source": []
  },
  {
   "cell_type": "code",
   "execution_count": 30,
   "metadata": {
    "collapsed": true
   },
   "outputs": [],
   "source": [
    "haps_sample_run = {'1': 'vcf_to_haps', '2': 'eagle_phased_assays', '4':'shapeit_phased_assays'}\n",
    "haplegendsample_run = {'1':'vcf_to_hap', '2':'impute_input', '4':'shapeit_phased_assays/impute_input'}\n",
    "\n",
    "def haps_runlocator(shoein):\n",
    "    loc = []\n",
    "    for xx in IMPREFS:\n",
    "        t = shoein.run\n",
    "        samp = xx\n",
    "        chrom = shoein.chr\n",
    "        location = haps_sample_run[t] + '/run' + t + '/'+ samp  +'.chr' + chrom + '.phased.haps'\n",
    "        loc.append(location)\n",
    "    #print(location)\n",
    "    return location"
   ]
  },
  {
   "cell_type": "code",
   "execution_count": 35,
   "metadata": {
    "collapsed": false
   },
   "outputs": [],
   "source": [
    "loc = []\n",
    "for xx in IMPREFS:\n",
    "    t = '2'\n",
    "    samp = xx\n",
    "    chrom = '28'\n",
    "    location = haps_sample_run[t] + '/run' + t + '/'+ samp  +'.chr' + chrom + '.phased.haps'\n",
    "    loc.append(location)"
   ]
  },
  {
   "cell_type": "code",
   "execution_count": 5,
   "metadata": {
    "collapsed": false
   },
   "outputs": [],
   "source": []
  },
  {
   "cell_type": "markdown",
   "metadata": {
    "collapsed": true
   },
   "source": [
    "# Determine why Minimac Imputation Accuracies are negative.  "
   ]
  },
  {
   "cell_type": "code",
   "execution_count": 25,
   "metadata": {
    "collapsed": true
   },
   "outputs": [],
   "source": [
    "true = \"ref_vcfs/F250_HD_merged.chr28.pickle\"\n",
    "imputed = \"minimac_imputed/run5/snp50.chr28.imputed.dose.vcf\""
   ]
  },
  {
   "cell_type": "code",
   "execution_count": 26,
   "metadata": {
    "collapsed": false
   },
   "outputs": [],
   "source": [
    "import pandas as pd\n",
    "import numpy as np\n",
    "from itertools import islice\n",
    "\n",
    "\n",
    "truedf = pd.read_pickle(true)\n",
    "impdict = {}\n",
    "\n",
    "with open(imputed, 'r') as i:\n",
    "    head = list(islice(i,10))\n",
    "    impsamples = next(i).strip().split()[9:]\n",
    "    for line in i:\n",
    "        splat = line.strip().split()\n",
    "        pos = splat[2]\n",
    "        gen = splat[9:]\n",
    "        alt = [float(xx.split(\":\")[1]) for xx in gen]\n",
    "        impdict[pos] = alt\n",
    "impdf = pd.DataFrame.from_dict(impdict, orient='index')\n",
    "impdf.columns = impsamples\n",
    "\n",
    "corrs=impdf.corrwith(truedf, axis = 1)\n",
    "cor = pd.DataFrame(corrs)\n",
    "cor = cor.rename(index=str, columns={0:\"correlation\"})"
   ]
  },
  {
   "cell_type": "markdown",
   "metadata": {},
   "source": [
    "### Seeing negative correlations when calculating with Minimac versus positive correlations when we do the same calculations with Impute2.\n",
    "* These accuracies are likely correct, but there may be some sort of allele flipping going on that causes them to have a negative in front of them"
   ]
  },
  {
   "cell_type": "code",
   "execution_count": 27,
   "metadata": {
    "collapsed": false
   },
   "outputs": [
    {
     "data": {
      "text/html": [
       "<div>\n",
       "<table border=\"1\" class=\"dataframe\">\n",
       "  <thead>\n",
       "    <tr style=\"text-align: right;\">\n",
       "      <th></th>\n",
       "      <th>correlation</th>\n",
       "    </tr>\n",
       "  </thead>\n",
       "  <tbody>\n",
       "    <tr>\n",
       "      <th>28:1000124</th>\n",
       "      <td>-0.971301</td>\n",
       "    </tr>\n",
       "    <tr>\n",
       "      <th>28:10003452</th>\n",
       "      <td>-0.964258</td>\n",
       "    </tr>\n",
       "    <tr>\n",
       "      <th>28:10007646</th>\n",
       "      <td>-0.969143</td>\n",
       "    </tr>\n",
       "    <tr>\n",
       "      <th>28:10012243</th>\n",
       "      <td>NaN</td>\n",
       "    </tr>\n",
       "    <tr>\n",
       "      <th>28:10027414</th>\n",
       "      <td>-0.964591</td>\n",
       "    </tr>\n",
       "  </tbody>\n",
       "</table>\n",
       "</div>"
      ],
      "text/plain": [
       "             correlation\n",
       "28:1000124     -0.971301\n",
       "28:10003452    -0.964258\n",
       "28:10007646    -0.969143\n",
       "28:10012243          NaN\n",
       "28:10027414    -0.964591"
      ]
     },
     "execution_count": 27,
     "metadata": {},
     "output_type": "execute_result"
    }
   ],
   "source": [
    "cor.head() "
   ]
  },
  {
   "cell_type": "code",
   "execution_count": 47,
   "metadata": {
    "collapsed": false
   },
   "outputs": [],
   "source": [
    "overlap = truedf[list(impdf.columns)]"
   ]
  },
  {
   "cell_type": "code",
   "execution_count": 57,
   "metadata": {
    "collapsed": false
   },
   "outputs": [
    {
     "data": {
      "text/html": [
       "<div>\n",
       "<table border=\"1\" class=\"dataframe\">\n",
       "  <thead>\n",
       "    <tr style=\"text-align: right;\">\n",
       "      <th></th>\n",
       "      <th>UMCUSAF000000078915</th>\n",
       "      <th>UMCUSAM000000078648</th>\n",
       "      <th>UMCUSAF000000087198</th>\n",
       "      <th>UMCUSAF000000079749</th>\n",
       "      <th>UMCUSAF000000079193</th>\n",
       "      <th>UMCUSAF000000086880</th>\n",
       "      <th>UMCUSAF000000080261</th>\n",
       "      <th>UMCUSAM000000079479</th>\n",
       "      <th>UMCUSAF000000078916</th>\n",
       "      <th>UMCUSAF000000078649</th>\n",
       "      <th>...</th>\n",
       "      <th>UMCUSAF000000086863</th>\n",
       "      <th>UMCUSAM000000079746</th>\n",
       "      <th>UMCUSAM000000079476</th>\n",
       "      <th>UMCUSAF000000086868</th>\n",
       "      <th>UMCUSAM000000079748</th>\n",
       "      <th>UMCUSAM000000079478</th>\n",
       "      <th>UMCUSAF000000086869</th>\n",
       "      <th>UMCUSAF000000086870</th>\n",
       "      <th>UMCUSAF000000086873</th>\n",
       "      <th>UMCUSAF000000086879</th>\n",
       "    </tr>\n",
       "  </thead>\n",
       "  <tbody>\n",
       "    <tr>\n",
       "      <th>28:1000124</th>\n",
       "      <td>0.0</td>\n",
       "      <td>2.0</td>\n",
       "      <td>1.0</td>\n",
       "      <td>2.0</td>\n",
       "      <td>1.0</td>\n",
       "      <td>2.0</td>\n",
       "      <td>0.0</td>\n",
       "      <td>1.0</td>\n",
       "      <td>1.0</td>\n",
       "      <td>0.0</td>\n",
       "      <td>...</td>\n",
       "      <td>2.0</td>\n",
       "      <td>1.0</td>\n",
       "      <td>1.0</td>\n",
       "      <td>2.0</td>\n",
       "      <td>2.0</td>\n",
       "      <td>1.0</td>\n",
       "      <td>2.0</td>\n",
       "      <td>2.0</td>\n",
       "      <td>1.0</td>\n",
       "      <td>2.0</td>\n",
       "    </tr>\n",
       "    <tr>\n",
       "      <th>28:10003452</th>\n",
       "      <td>2.0</td>\n",
       "      <td>2.0</td>\n",
       "      <td>1.0</td>\n",
       "      <td>2.0</td>\n",
       "      <td>2.0</td>\n",
       "      <td>1.0</td>\n",
       "      <td>2.0</td>\n",
       "      <td>2.0</td>\n",
       "      <td>2.0</td>\n",
       "      <td>2.0</td>\n",
       "      <td>...</td>\n",
       "      <td>1.0</td>\n",
       "      <td>2.0</td>\n",
       "      <td>2.0</td>\n",
       "      <td>1.0</td>\n",
       "      <td>2.0</td>\n",
       "      <td>2.0</td>\n",
       "      <td>1.0</td>\n",
       "      <td>1.0</td>\n",
       "      <td>1.0</td>\n",
       "      <td>1.0</td>\n",
       "    </tr>\n",
       "    <tr>\n",
       "      <th>28:10007646</th>\n",
       "      <td>1.0</td>\n",
       "      <td>2.0</td>\n",
       "      <td>0.0</td>\n",
       "      <td>1.0</td>\n",
       "      <td>0.0</td>\n",
       "      <td>0.0</td>\n",
       "      <td>0.0</td>\n",
       "      <td>1.0</td>\n",
       "      <td>0.0</td>\n",
       "      <td>0.0</td>\n",
       "      <td>...</td>\n",
       "      <td>0.0</td>\n",
       "      <td>1.0</td>\n",
       "      <td>2.0</td>\n",
       "      <td>0.0</td>\n",
       "      <td>1.0</td>\n",
       "      <td>0.0</td>\n",
       "      <td>0.0</td>\n",
       "      <td>1.0</td>\n",
       "      <td>1.0</td>\n",
       "      <td>0.0</td>\n",
       "    </tr>\n",
       "    <tr>\n",
       "      <th>28:10012243</th>\n",
       "      <td>2.0</td>\n",
       "      <td>2.0</td>\n",
       "      <td>2.0</td>\n",
       "      <td>2.0</td>\n",
       "      <td>2.0</td>\n",
       "      <td>2.0</td>\n",
       "      <td>2.0</td>\n",
       "      <td>2.0</td>\n",
       "      <td>2.0</td>\n",
       "      <td>2.0</td>\n",
       "      <td>...</td>\n",
       "      <td>2.0</td>\n",
       "      <td>2.0</td>\n",
       "      <td>2.0</td>\n",
       "      <td>2.0</td>\n",
       "      <td>2.0</td>\n",
       "      <td>2.0</td>\n",
       "      <td>2.0</td>\n",
       "      <td>2.0</td>\n",
       "      <td>2.0</td>\n",
       "      <td>2.0</td>\n",
       "    </tr>\n",
       "    <tr>\n",
       "      <th>28:10027414</th>\n",
       "      <td>1.0</td>\n",
       "      <td>2.0</td>\n",
       "      <td>0.0</td>\n",
       "      <td>1.0</td>\n",
       "      <td>0.0</td>\n",
       "      <td>0.0</td>\n",
       "      <td>1.0</td>\n",
       "      <td>1.0</td>\n",
       "      <td>0.0</td>\n",
       "      <td>1.0</td>\n",
       "      <td>...</td>\n",
       "      <td>0.0</td>\n",
       "      <td>1.0</td>\n",
       "      <td>2.0</td>\n",
       "      <td>0.0</td>\n",
       "      <td>1.0</td>\n",
       "      <td>0.0</td>\n",
       "      <td>0.0</td>\n",
       "      <td>1.0</td>\n",
       "      <td>1.0</td>\n",
       "      <td>0.0</td>\n",
       "    </tr>\n",
       "  </tbody>\n",
       "</table>\n",
       "<p>5 rows × 786 columns</p>\n",
       "</div>"
      ],
      "text/plain": [
       "             UMCUSAF000000078915  UMCUSAM000000078648  UMCUSAF000000087198  \\\n",
       "28:1000124                   0.0                  2.0                  1.0   \n",
       "28:10003452                  2.0                  2.0                  1.0   \n",
       "28:10007646                  1.0                  2.0                  0.0   \n",
       "28:10012243                  2.0                  2.0                  2.0   \n",
       "28:10027414                  1.0                  2.0                  0.0   \n",
       "\n",
       "             UMCUSAF000000079749  UMCUSAF000000079193  UMCUSAF000000086880  \\\n",
       "28:1000124                   2.0                  1.0                  2.0   \n",
       "28:10003452                  2.0                  2.0                  1.0   \n",
       "28:10007646                  1.0                  0.0                  0.0   \n",
       "28:10012243                  2.0                  2.0                  2.0   \n",
       "28:10027414                  1.0                  0.0                  0.0   \n",
       "\n",
       "             UMCUSAF000000080261  UMCUSAM000000079479  UMCUSAF000000078916  \\\n",
       "28:1000124                   0.0                  1.0                  1.0   \n",
       "28:10003452                  2.0                  2.0                  2.0   \n",
       "28:10007646                  0.0                  1.0                  0.0   \n",
       "28:10012243                  2.0                  2.0                  2.0   \n",
       "28:10027414                  1.0                  1.0                  0.0   \n",
       "\n",
       "             UMCUSAF000000078649         ...           UMCUSAF000000086863  \\\n",
       "28:1000124                   0.0         ...                           2.0   \n",
       "28:10003452                  2.0         ...                           1.0   \n",
       "28:10007646                  0.0         ...                           0.0   \n",
       "28:10012243                  2.0         ...                           2.0   \n",
       "28:10027414                  1.0         ...                           0.0   \n",
       "\n",
       "             UMCUSAM000000079746  UMCUSAM000000079476  UMCUSAF000000086868  \\\n",
       "28:1000124                   1.0                  1.0                  2.0   \n",
       "28:10003452                  2.0                  2.0                  1.0   \n",
       "28:10007646                  1.0                  2.0                  0.0   \n",
       "28:10012243                  2.0                  2.0                  2.0   \n",
       "28:10027414                  1.0                  2.0                  0.0   \n",
       "\n",
       "             UMCUSAM000000079748  UMCUSAM000000079478  UMCUSAF000000086869  \\\n",
       "28:1000124                   2.0                  1.0                  2.0   \n",
       "28:10003452                  2.0                  2.0                  1.0   \n",
       "28:10007646                  1.0                  0.0                  0.0   \n",
       "28:10012243                  2.0                  2.0                  2.0   \n",
       "28:10027414                  1.0                  0.0                  0.0   \n",
       "\n",
       "             UMCUSAF000000086870  UMCUSAF000000086873  UMCUSAF000000086879  \n",
       "28:1000124                   2.0                  1.0                  2.0  \n",
       "28:10003452                  1.0                  1.0                  1.0  \n",
       "28:10007646                  1.0                  1.0                  0.0  \n",
       "28:10012243                  2.0                  2.0                  2.0  \n",
       "28:10027414                  1.0                  1.0                  0.0  \n",
       "\n",
       "[5 rows x 786 columns]"
      ]
     },
     "execution_count": 57,
     "metadata": {},
     "output_type": "execute_result"
    }
   ],
   "source": [
    "overlap.sort_index().head()"
   ]
  },
  {
   "cell_type": "code",
   "execution_count": 58,
   "metadata": {
    "collapsed": false
   },
   "outputs": [
    {
     "data": {
      "text/html": [
       "<div>\n",
       "<table border=\"1\" class=\"dataframe\">\n",
       "  <thead>\n",
       "    <tr style=\"text-align: right;\">\n",
       "      <th></th>\n",
       "      <th>UMCUSAF000000078915</th>\n",
       "      <th>UMCUSAM000000078648</th>\n",
       "      <th>UMCUSAF000000087198</th>\n",
       "      <th>UMCUSAF000000079749</th>\n",
       "      <th>UMCUSAF000000079193</th>\n",
       "      <th>UMCUSAF000000086880</th>\n",
       "      <th>UMCUSAF000000080261</th>\n",
       "      <th>UMCUSAM000000079479</th>\n",
       "      <th>UMCUSAF000000078916</th>\n",
       "      <th>UMCUSAF000000078649</th>\n",
       "      <th>...</th>\n",
       "      <th>UMCUSAF000000086863</th>\n",
       "      <th>UMCUSAM000000079746</th>\n",
       "      <th>UMCUSAM000000079476</th>\n",
       "      <th>UMCUSAF000000086868</th>\n",
       "      <th>UMCUSAM000000079748</th>\n",
       "      <th>UMCUSAM000000079478</th>\n",
       "      <th>UMCUSAF000000086869</th>\n",
       "      <th>UMCUSAF000000086870</th>\n",
       "      <th>UMCUSAF000000086873</th>\n",
       "      <th>UMCUSAF000000086879</th>\n",
       "    </tr>\n",
       "  </thead>\n",
       "  <tbody>\n",
       "    <tr>\n",
       "      <th>28:1000124</th>\n",
       "      <td>1.999</td>\n",
       "      <td>0.000</td>\n",
       "      <td>1.0</td>\n",
       "      <td>0.000</td>\n",
       "      <td>1.0</td>\n",
       "      <td>0.015</td>\n",
       "      <td>1.999</td>\n",
       "      <td>1.0</td>\n",
       "      <td>1.000</td>\n",
       "      <td>1.999</td>\n",
       "      <td>...</td>\n",
       "      <td>0.000</td>\n",
       "      <td>1.000</td>\n",
       "      <td>1.000</td>\n",
       "      <td>0.0</td>\n",
       "      <td>0.0</td>\n",
       "      <td>1.000</td>\n",
       "      <td>0.000</td>\n",
       "      <td>0.948</td>\n",
       "      <td>1.000</td>\n",
       "      <td>0.032</td>\n",
       "    </tr>\n",
       "    <tr>\n",
       "      <th>28:10003452</th>\n",
       "      <td>0.001</td>\n",
       "      <td>0.002</td>\n",
       "      <td>1.0</td>\n",
       "      <td>0.007</td>\n",
       "      <td>0.0</td>\n",
       "      <td>0.971</td>\n",
       "      <td>0.000</td>\n",
       "      <td>0.0</td>\n",
       "      <td>0.001</td>\n",
       "      <td>0.000</td>\n",
       "      <td>...</td>\n",
       "      <td>1.003</td>\n",
       "      <td>0.000</td>\n",
       "      <td>0.054</td>\n",
       "      <td>1.0</td>\n",
       "      <td>0.0</td>\n",
       "      <td>0.001</td>\n",
       "      <td>1.013</td>\n",
       "      <td>0.251</td>\n",
       "      <td>0.999</td>\n",
       "      <td>0.988</td>\n",
       "    </tr>\n",
       "    <tr>\n",
       "      <th>28:10007646</th>\n",
       "      <td>1.000</td>\n",
       "      <td>0.003</td>\n",
       "      <td>2.0</td>\n",
       "      <td>0.910</td>\n",
       "      <td>2.0</td>\n",
       "      <td>1.995</td>\n",
       "      <td>2.000</td>\n",
       "      <td>1.0</td>\n",
       "      <td>1.999</td>\n",
       "      <td>2.000</td>\n",
       "      <td>...</td>\n",
       "      <td>1.995</td>\n",
       "      <td>1.001</td>\n",
       "      <td>0.057</td>\n",
       "      <td>2.0</td>\n",
       "      <td>1.0</td>\n",
       "      <td>2.000</td>\n",
       "      <td>1.995</td>\n",
       "      <td>0.326</td>\n",
       "      <td>1.000</td>\n",
       "      <td>1.992</td>\n",
       "    </tr>\n",
       "    <tr>\n",
       "      <th>28:10012243</th>\n",
       "      <td>0.000</td>\n",
       "      <td>0.000</td>\n",
       "      <td>0.0</td>\n",
       "      <td>0.000</td>\n",
       "      <td>0.0</td>\n",
       "      <td>0.000</td>\n",
       "      <td>0.000</td>\n",
       "      <td>0.0</td>\n",
       "      <td>0.000</td>\n",
       "      <td>0.000</td>\n",
       "      <td>...</td>\n",
       "      <td>0.000</td>\n",
       "      <td>0.000</td>\n",
       "      <td>0.000</td>\n",
       "      <td>0.0</td>\n",
       "      <td>0.0</td>\n",
       "      <td>0.000</td>\n",
       "      <td>0.000</td>\n",
       "      <td>0.000</td>\n",
       "      <td>0.000</td>\n",
       "      <td>0.000</td>\n",
       "    </tr>\n",
       "    <tr>\n",
       "      <th>28:10027414</th>\n",
       "      <td>0.999</td>\n",
       "      <td>0.003</td>\n",
       "      <td>2.0</td>\n",
       "      <td>0.913</td>\n",
       "      <td>2.0</td>\n",
       "      <td>1.993</td>\n",
       "      <td>1.000</td>\n",
       "      <td>1.0</td>\n",
       "      <td>1.999</td>\n",
       "      <td>1.000</td>\n",
       "      <td>...</td>\n",
       "      <td>1.994</td>\n",
       "      <td>1.000</td>\n",
       "      <td>0.055</td>\n",
       "      <td>2.0</td>\n",
       "      <td>1.0</td>\n",
       "      <td>2.000</td>\n",
       "      <td>1.994</td>\n",
       "      <td>0.316</td>\n",
       "      <td>1.000</td>\n",
       "      <td>1.990</td>\n",
       "    </tr>\n",
       "  </tbody>\n",
       "</table>\n",
       "<p>5 rows × 786 columns</p>\n",
       "</div>"
      ],
      "text/plain": [
       "             UMCUSAF000000078915  UMCUSAM000000078648  UMCUSAF000000087198  \\\n",
       "28:1000124                 1.999                0.000                  1.0   \n",
       "28:10003452                0.001                0.002                  1.0   \n",
       "28:10007646                1.000                0.003                  2.0   \n",
       "28:10012243                0.000                0.000                  0.0   \n",
       "28:10027414                0.999                0.003                  2.0   \n",
       "\n",
       "             UMCUSAF000000079749  UMCUSAF000000079193  UMCUSAF000000086880  \\\n",
       "28:1000124                 0.000                  1.0                0.015   \n",
       "28:10003452                0.007                  0.0                0.971   \n",
       "28:10007646                0.910                  2.0                1.995   \n",
       "28:10012243                0.000                  0.0                0.000   \n",
       "28:10027414                0.913                  2.0                1.993   \n",
       "\n",
       "             UMCUSAF000000080261  UMCUSAM000000079479  UMCUSAF000000078916  \\\n",
       "28:1000124                 1.999                  1.0                1.000   \n",
       "28:10003452                0.000                  0.0                0.001   \n",
       "28:10007646                2.000                  1.0                1.999   \n",
       "28:10012243                0.000                  0.0                0.000   \n",
       "28:10027414                1.000                  1.0                1.999   \n",
       "\n",
       "             UMCUSAF000000078649         ...           UMCUSAF000000086863  \\\n",
       "28:1000124                 1.999         ...                         0.000   \n",
       "28:10003452                0.000         ...                         1.003   \n",
       "28:10007646                2.000         ...                         1.995   \n",
       "28:10012243                0.000         ...                         0.000   \n",
       "28:10027414                1.000         ...                         1.994   \n",
       "\n",
       "             UMCUSAM000000079746  UMCUSAM000000079476  UMCUSAF000000086868  \\\n",
       "28:1000124                 1.000                1.000                  0.0   \n",
       "28:10003452                0.000                0.054                  1.0   \n",
       "28:10007646                1.001                0.057                  2.0   \n",
       "28:10012243                0.000                0.000                  0.0   \n",
       "28:10027414                1.000                0.055                  2.0   \n",
       "\n",
       "             UMCUSAM000000079748  UMCUSAM000000079478  UMCUSAF000000086869  \\\n",
       "28:1000124                   0.0                1.000                0.000   \n",
       "28:10003452                  0.0                0.001                1.013   \n",
       "28:10007646                  1.0                2.000                1.995   \n",
       "28:10012243                  0.0                0.000                0.000   \n",
       "28:10027414                  1.0                2.000                1.994   \n",
       "\n",
       "             UMCUSAF000000086870  UMCUSAF000000086873  UMCUSAF000000086879  \n",
       "28:1000124                 0.948                1.000                0.032  \n",
       "28:10003452                0.251                0.999                0.988  \n",
       "28:10007646                0.326                1.000                1.992  \n",
       "28:10012243                0.000                0.000                0.000  \n",
       "28:10027414                0.316                1.000                1.990  \n",
       "\n",
       "[5 rows x 786 columns]"
      ]
     },
     "execution_count": 58,
     "metadata": {},
     "output_type": "execute_result"
    }
   ],
   "source": [
    "impdf.sort_index().head()"
   ]
  },
  {
   "cell_type": "markdown",
   "metadata": {},
   "source": [
    "### Pretty clearly looks like this is just a case of the ref alt alleles being flipped between true and Minimac imputed.  Alternate allele count is opposite for everything. "
   ]
  },
  {
   "cell_type": "code",
   "execution_count": 61,
   "metadata": {
    "collapsed": false
   },
   "outputs": [
    {
     "name": "stdout",
     "output_type": "stream",
     "text": [
      "head: cannot open `minimac_imputed/run5/snp50.chr28.imputed.vcf' for reading: No such file or directory\r\n"
     ]
    }
   ],
   "source": [
    "!head minimac_imputed/run5/snp50.chr28.imputed.vcf"
   ]
  },
  {
   "cell_type": "code",
   "execution_count": 11,
   "metadata": {
    "collapsed": false
   },
   "outputs": [
    {
     "ename": "NameError",
     "evalue": "name 'ref_vcfs' is not defined",
     "output_type": "error",
     "traceback": [
      "\u001b[0;31m---------------------------------------------------------------------------\u001b[0m",
      "\u001b[0;31mNameError\u001b[0m                                 Traceback (most recent call last)",
      "\u001b[0;32m<ipython-input-11-c5fae7141758>\u001b[0m in \u001b[0;36m<module>\u001b[0;34m()\u001b[0m\n\u001b[0;32m----> 1\u001b[0;31m \u001b[0mtruedf\u001b[0m \u001b[0;34m=\u001b[0m \u001b[0mpd\u001b[0m\u001b[0;34m.\u001b[0m\u001b[0mread_pickle\u001b[0m\u001b[0;34m(\u001b[0m\u001b[0mref_vcfs\u001b[0m\u001b[0;34m/\u001b[0m\u001b[0mF250_HD_merged\u001b[0m\u001b[0;34m.\u001b[0m\u001b[0mchr20\u001b[0m\u001b[0;34m.\u001b[0m\u001b[0mpickle\u001b[0m\u001b[0;34m)\u001b[0m\u001b[0;34m\u001b[0m\u001b[0m\n\u001b[0m",
      "\u001b[0;31mNameError\u001b[0m: name 'ref_vcfs' is not defined"
     ]
    }
   ],
   "source": []
  },
  {
   "cell_type": "code",
   "execution_count": null,
   "metadata": {
    "collapsed": true
   },
   "outputs": [],
   "source": []
  }
 ],
 "metadata": {
  "anaconda-cloud": {},
  "kernelspec": {
   "display_name": "Python [conda env:Imp3]",
   "language": "python",
   "name": "conda-env-Imp3-py"
  },
  "language_info": {
   "codemirror_mode": {
    "name": "ipython",
    "version": 3
   },
   "file_extension": ".py",
   "mimetype": "text/x-python",
   "name": "python",
   "nbconvert_exporter": "python",
   "pygments_lexer": "ipython3",
   "version": "3.5.3"
  }
 },
 "nbformat": 4,
 "nbformat_minor": 1
}
