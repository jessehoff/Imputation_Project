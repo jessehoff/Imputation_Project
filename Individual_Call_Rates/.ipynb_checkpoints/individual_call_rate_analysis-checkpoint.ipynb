{
 "cells": [
  {
   "cell_type": "code",
   "execution_count": 1,
   "metadata": {
    "collapsed": true
   },
   "outputs": [],
   "source": [
    "import pandas as pd\n",
    "import seaborn as sb\n",
    "import matplotlib.pyplot as plt\n",
    "import seaborn as sb\n",
    "%matplotlib inline"
   ]
  },
  {
   "cell_type": "code",
   "execution_count": 2,
   "metadata": {
    "collapsed": false,
    "scrolled": true
   },
   "outputs": [
    {
     "data": {
      "text/html": [
       "<div>\n",
       "<table border=\"1\" class=\"dataframe\">\n",
       "  <thead>\n",
       "    <tr style=\"text-align: right;\">\n",
       "      <th></th>\n",
       "      <th>FID</th>\n",
       "      <th>IID</th>\n",
       "      <th>MISS_PHENO</th>\n",
       "      <th>N_MISS</th>\n",
       "      <th>N_GENO</th>\n",
       "      <th>F_MISS</th>\n",
       "    </tr>\n",
       "  </thead>\n",
       "  <tbody>\n",
       "    <tr>\n",
       "      <th>0</th>\n",
       "      <td>AANUSAM000013500395</td>\n",
       "      <td>AANUSAM000013500395</td>\n",
       "      <td>Y</td>\n",
       "      <td>1871</td>\n",
       "      <td>53282</td>\n",
       "      <td>0.03512</td>\n",
       "    </tr>\n",
       "    <tr>\n",
       "      <th>1</th>\n",
       "      <td>AANUSAM000012593969</td>\n",
       "      <td>AANUSAM000012593969</td>\n",
       "      <td>Y</td>\n",
       "      <td>1888</td>\n",
       "      <td>53282</td>\n",
       "      <td>0.03543</td>\n",
       "    </tr>\n",
       "    <tr>\n",
       "      <th>2</th>\n",
       "      <td>AANUSAM000013346104</td>\n",
       "      <td>AANUSAM000013346104</td>\n",
       "      <td>Y</td>\n",
       "      <td>1886</td>\n",
       "      <td>53282</td>\n",
       "      <td>0.03540</td>\n",
       "    </tr>\n",
       "    <tr>\n",
       "      <th>3</th>\n",
       "      <td>AANUSAM000014690063</td>\n",
       "      <td>AANUSAM000014690063</td>\n",
       "      <td>Y</td>\n",
       "      <td>1905</td>\n",
       "      <td>53282</td>\n",
       "      <td>0.03575</td>\n",
       "    </tr>\n",
       "    <tr>\n",
       "      <th>4</th>\n",
       "      <td>AANUSAM000014702634</td>\n",
       "      <td>AANUSAM000014702634</td>\n",
       "      <td>Y</td>\n",
       "      <td>2039</td>\n",
       "      <td>53282</td>\n",
       "      <td>0.03827</td>\n",
       "    </tr>\n",
       "  </tbody>\n",
       "</table>\n",
       "</div>"
      ],
      "text/plain": [
       "                   FID                  IID MISS_PHENO  N_MISS  N_GENO  \\\n",
       "0  AANUSAM000013500395  AANUSAM000013500395          Y    1871   53282   \n",
       "1  AANUSAM000012593969  AANUSAM000012593969          Y    1888   53282   \n",
       "2  AANUSAM000013346104  AANUSAM000013346104          Y    1886   53282   \n",
       "3  AANUSAM000014690063  AANUSAM000014690063          Y    1905   53282   \n",
       "4  AANUSAM000014702634  AANUSAM000014702634          Y    2039   53282   \n",
       "\n",
       "    F_MISS  \n",
       "0  0.03512  \n",
       "1  0.03543  \n",
       "2  0.03540  \n",
       "3  0.03575  \n",
       "4  0.03827  "
      ]
     },
     "execution_count": 2,
     "metadata": {},
     "output_type": "execute_result"
    }
   ],
   "source": [
    "SNP_50_A = pd.read_table('./SNP50_A_missing.imiss',delim_whitespace=True)\n",
    "SNP_50_A.head()"
   ]
  },
  {
   "cell_type": "markdown",
   "metadata": {},
   "source": [
    "# SNP_50_A Individual Call Rates"
   ]
  },
  {
   "cell_type": "code",
   "execution_count": 10,
   "metadata": {
    "collapsed": false,
    "scrolled": true
   },
   "outputs": [
    {
     "data": {
      "text/plain": [
       "<matplotlib.axes._subplots.AxesSubplot at 0x7fccc8ee5390>"
      ]
     },
     "execution_count": 10,
     "metadata": {},
     "output_type": "execute_result"
    },
    {
     "data": {
      "image/png": "[encoded data removed]",
      "text/plain": [
       "<matplotlib.figure.Figure at 0x7fccc9feadd0>"
      ]
     },
     "metadata": {},
     "output_type": "display_data"
    }
   ],
   "source": [
    "SNP_50_A.F_MISS.plot.hist(bins = 100)"
   ]
  },
  {
   "cell_type": "markdown",
   "metadata": {},
   "source": [
    "# SNP_50_B Individual Call Rates"
   ]
  },
  {
   "cell_type": "code",
   "execution_count": 11,
   "metadata": {
    "collapsed": false
   },
   "outputs": [
    {
     "data": {
      "text/plain": [
       "<matplotlib.axes._subplots.AxesSubplot at 0x7fccc860f5d0>"
      ]
     },
     "execution_count": 11,
     "metadata": {},
     "output_type": "execute_result"
    },
    {
     "data": {
      "image/png": "[encoded data removed]",
      "text/plain": [
       "<matplotlib.figure.Figure at 0x7fccc869aa90>"
      ]
     },
     "metadata": {},
     "output_type": "display_data"
    }
   ],
   "source": [
    "SNP_50_B = pd.read_table('./SNP50_B_missing.imiss',delim_whitespace=True)\n",
    "SNP_50_B.F_MISS.plot.hist(bins = 100)"
   ]
  },
  {
   "cell_type": "markdown",
   "metadata": {},
   "source": [
    "# SNP_50_C Individual Call Rates"
   ]
  },
  {
   "cell_type": "code",
   "execution_count": 12,
   "metadata": {
    "collapsed": false
   },
   "outputs": [
    {
     "data": {
      "text/plain": [
       "<matplotlib.axes._subplots.AxesSubplot at 0x7fccc818e390>"
      ]
     },
     "execution_count": 12,
     "metadata": {},
     "output_type": "execute_result"
    },
    {
     "data": {
      "image/png": "[encoded data removed]",
      "text/plain": [
       "<matplotlib.figure.Figure at 0x7fccc8198e50>"
      ]
     },
     "metadata": {},
     "output_type": "display_data"
    }
   ],
   "source": [
    "SNP_50_C = pd.read_table('./SNP50_C_missing.imiss',delim_whitespace=True)\n",
    "SNP_50_C.F_MISS.plot.hist(bins = 100)"
   ]
  },
  {
   "cell_type": "markdown",
   "metadata": {},
   "source": [
    "# GGPF250 Individual Call Rates"
   ]
  },
  {
   "cell_type": "code",
   "execution_count": 15,
   "metadata": {
    "collapsed": false
   },
   "outputs": [
    {
     "data": {
      "text/plain": [
       "<matplotlib.axes._subplots.AxesSubplot at 0x7fccc7870610>"
      ]
     },
     "execution_count": 15,
     "metadata": {},
     "output_type": "execute_result"
    },
    {
     "data": {
      "image/png": "[encoded data removed]",
      "text/plain": [
       "<matplotlib.figure.Figure at 0x7fccc78e4c90>"
      ]
     },
     "metadata": {},
     "output_type": "display_data"
    }
   ],
   "source": [
    "GGPF250_A = pd.read_table('./GGPF250_A_missing.imiss',delim_whitespace=True)\n",
    "GGPF250_A.F_MISS.plot.hist(bins = 100)"
   ]
  },
  {
   "cell_type": "markdown",
   "metadata": {},
   "source": [
    "# HD Individual Call Rates"
   ]
  },
  {
   "cell_type": "code",
   "execution_count": 13,
   "metadata": {
    "collapsed": false
   },
   "outputs": [
    {
     "data": {
      "text/plain": [
       "<matplotlib.axes._subplots.AxesSubplot at 0x7fccc7e7b290>"
      ]
     },
     "execution_count": 13,
     "metadata": {},
     "output_type": "execute_result"
    },
    {
     "data": {
      "image/png": "[encoded data removed]",
      "text/plain": [
       "<matplotlib.figure.Figure at 0x7fccc7e97b90>"
      ]
     },
     "metadata": {},
     "output_type": "display_data"
    }
   ],
   "source": [
    "HD = pd.read_table('./HD_missing.imiss',delim_whitespace=True)\n",
    "HD.F_MISS.plot.hist(bins = 100)"
   ]
  },
  {
   "cell_type": "code",
   "execution_count": null,
   "metadata": {
    "collapsed": false
   },
   "outputs": [],
   "source": []
  },
  {
   "cell_type": "code",
   "execution_count": null,
   "metadata": {
    "collapsed": true
   },
   "outputs": [],
   "source": []
  }
 ],
 "metadata": {
  "kernelspec": {
   "display_name": "Python 2",
   "language": "python",
   "name": "python2"
  },
  "language_info": {
   "codemirror_mode": {
    "name": "ipython",
    "version": 2
   },
   "file_extension": ".py",
   "mimetype": "text/x-python",
   "name": "python",
   "nbconvert_exporter": "python",
   "pygments_lexer": "ipython2",
   "version": "2.7.10"
  }
 },
 "nbformat": 4,
 "nbformat_minor": 0
}
