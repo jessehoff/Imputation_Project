{
 "cells": [
  {
   "cell_type": "code",
   "execution_count": 1,
   "metadata": {
    "collapsed": true
   },
   "outputs": [],
   "source": [
    "import pandas as pd\n",
    "import random\n",
    "import numpy as np\n",
    "import glob\n",
    "from collections import Counter\n",
    "from collections import defaultdict"
   ]
  },
  {
   "cell_type": "markdown",
   "metadata": {},
   "source": [
    "# This document generates sample sets to use as testable iterations for imputation accuracy\n",
    "\n",
    "> we start with 75 animals availabe on all 3 chips\n",
    "\n",
    "> next we get a subset of all angus animals  that doesn't overlap with this test set for each chip so we're not working with the full set every time (might change)\n",
    "\n",
    "> then we'll make a list of each of these full angus sets) that fits the plink standard\n",
    "\n",
    "> then we'll make a couple of random subsets of the 75 testers. "
   ]
  },
  {
   "cell_type": "code",
   "execution_count": 3,
   "metadata": {
    "collapsed": false
   },
   "outputs": [
    {
     "name": "stdout",
     "output_type": "stream",
     "text": [
      "227234.161117.12083.100_B.ID   58336.161117.7744.100_A.ID\r\n",
      "227234.161117.12083.100_B.ped  58336.161117.7744.100_A.ped\r\n",
      "227234.161117.1994.200_A.ID    777962.161117.1681.100_A.ID\r\n",
      "227234.161117.1994.200_A.ped   777962.161117.1681.100_A.ped\r\n",
      "58336.161117.1062.100_C.ID     777962.161117.219.200_B.ID\r\n",
      "58336.161117.1062.100_C.ped    777962.161117.219.200_B.ped\r\n",
      "58336.161117.127.100_B.ID      777962.161117.2779.200_A.ID\r\n",
      "58336.161117.127.100_B.ped     777962.161117.2779.200_A.ped\r\n",
      "58336.161117.1339.200_A.ID     777962.161117.417.100_B.ID\r\n",
      "58336.161117.1339.200_A.ped    777962.161117.417.100_B.ped\r\n",
      "58336.161117.34296.200_B.ID    DUMP_GEN_for_imputation.sql\r\n",
      "58336.161117.34296.200_B.ped   process_gen_dump.txt\r\n"
     ]
    }
   ],
   "source": [
    "! ls ../../GEN_DUMP/"
   ]
  },
  {
   "cell_type": "code",
   "execution_count": 44,
   "metadata": {
    "collapsed": false
   },
   "outputs": [
    {
     "data": {
      "text/plain": [
       "['../hwe_filtered/227234.161117.12083.100_B.fam',\n",
       " '../hwe_filtered/58336.161117.1062.100_C.fam',\n",
       " '../hwe_filtered/58336.161117.127.100_B.fam',\n",
       " '../hwe_filtered/58336.161117.7744.100_A.fam',\n",
       " '../hwe_filtered/777962.161117.1681.100_A.fam',\n",
       " '../hwe_filtered/777962.161117.417.100_B.fam']"
      ]
     },
     "execution_count": 44,
     "metadata": {},
     "output_type": "execute_result"
    }
   ],
   "source": [
    "Angus = glob.glob('../hwe_filtered/*.100*.fam')\n",
    "Angus"
   ]
  },
  {
   "cell_type": "code",
   "execution_count": 48,
   "metadata": {
    "collapsed": false
   },
   "outputs": [],
   "source": [
    "def Breedmaker(blist):\n",
    "    data = []\n",
    "    for i in blist:\n",
    "        array,date,count,brV,ftype = i.split('/')[-1].split('.')\n",
    "        breed,version = brV.split('_')\n",
    "        data.append([i,array,version,int(count),breed,date])\n",
    "    return pd.DataFrame(data,columns=['fname','array','version','total','breed','date'])"
   ]
  },
  {
   "cell_type": "code",
   "execution_count": 49,
   "metadata": {
    "collapsed": false
   },
   "outputs": [
    {
     "name": "stdout",
     "output_type": "stream",
     "text": [
      "        total\n",
      "array        \n",
      "227234  12083\n",
      "58336    8933\n",
      "777962   2098\n"
     ]
    }
   ],
   "source": [
    "angframe = Breedmaker(Angus)\n",
    "perChip=angframe.groupby('array').sum()\n",
    "print(perChip)"
   ]
  },
  {
   "cell_type": "code",
   "execution_count": 50,
   "metadata": {
    "collapsed": false
   },
   "outputs": [],
   "source": [
    "usenow = pd.Series({'227234':2000,'58336':2000,'777962':1000},name='usenow')"
   ]
  },
  {
   "cell_type": "code",
   "execution_count": 51,
   "metadata": {
    "collapsed": false
   },
   "outputs": [],
   "source": [
    "perChip = perChip.join(usenow)"
   ]
  },
  {
   "cell_type": "code",
   "execution_count": 52,
   "metadata": {
    "collapsed": true
   },
   "outputs": [],
   "source": [
    "angframe = angframe.join(perChip,rsuffix='sum',on='array')"
   ]
  },
  {
   "cell_type": "code",
   "execution_count": 53,
   "metadata": {
    "collapsed": false
   },
   "outputs": [
    {
     "data": {
      "text/html": [
       "<div>\n",
       "<table border=\"1\" class=\"dataframe\">\n",
       "  <thead>\n",
       "    <tr style=\"text-align: right;\">\n",
       "      <th></th>\n",
       "      <th>fname</th>\n",
       "      <th>array</th>\n",
       "      <th>version</th>\n",
       "      <th>total</th>\n",
       "      <th>breed</th>\n",
       "      <th>date</th>\n",
       "      <th>totalsum</th>\n",
       "      <th>usenow</th>\n",
       "    </tr>\n",
       "  </thead>\n",
       "  <tbody>\n",
       "    <tr>\n",
       "      <th>0</th>\n",
       "      <td>../hwe_filtered/227234.161117.12083.100_B.fam</td>\n",
       "      <td>227234</td>\n",
       "      <td>B</td>\n",
       "      <td>12083</td>\n",
       "      <td>100</td>\n",
       "      <td>161117</td>\n",
       "      <td>12083</td>\n",
       "      <td>2000</td>\n",
       "    </tr>\n",
       "    <tr>\n",
       "      <th>1</th>\n",
       "      <td>../hwe_filtered/58336.161117.1062.100_C.fam</td>\n",
       "      <td>58336</td>\n",
       "      <td>C</td>\n",
       "      <td>1062</td>\n",
       "      <td>100</td>\n",
       "      <td>161117</td>\n",
       "      <td>8933</td>\n",
       "      <td>2000</td>\n",
       "    </tr>\n",
       "    <tr>\n",
       "      <th>2</th>\n",
       "      <td>../hwe_filtered/58336.161117.127.100_B.fam</td>\n",
       "      <td>58336</td>\n",
       "      <td>B</td>\n",
       "      <td>127</td>\n",
       "      <td>100</td>\n",
       "      <td>161117</td>\n",
       "      <td>8933</td>\n",
       "      <td>2000</td>\n",
       "    </tr>\n",
       "    <tr>\n",
       "      <th>3</th>\n",
       "      <td>../hwe_filtered/58336.161117.7744.100_A.fam</td>\n",
       "      <td>58336</td>\n",
       "      <td>A</td>\n",
       "      <td>7744</td>\n",
       "      <td>100</td>\n",
       "      <td>161117</td>\n",
       "      <td>8933</td>\n",
       "      <td>2000</td>\n",
       "    </tr>\n",
       "    <tr>\n",
       "      <th>4</th>\n",
       "      <td>../hwe_filtered/777962.161117.1681.100_A.fam</td>\n",
       "      <td>777962</td>\n",
       "      <td>A</td>\n",
       "      <td>1681</td>\n",
       "      <td>100</td>\n",
       "      <td>161117</td>\n",
       "      <td>2098</td>\n",
       "      <td>1000</td>\n",
       "    </tr>\n",
       "    <tr>\n",
       "      <th>5</th>\n",
       "      <td>../hwe_filtered/777962.161117.417.100_B.fam</td>\n",
       "      <td>777962</td>\n",
       "      <td>B</td>\n",
       "      <td>417</td>\n",
       "      <td>100</td>\n",
       "      <td>161117</td>\n",
       "      <td>2098</td>\n",
       "      <td>1000</td>\n",
       "    </tr>\n",
       "  </tbody>\n",
       "</table>\n",
       "</div>"
      ],
      "text/plain": [
       "                                           fname   array version  total breed  \\\n",
       "0  ../hwe_filtered/227234.161117.12083.100_B.fam  227234       B  12083   100   \n",
       "1    ../hwe_filtered/58336.161117.1062.100_C.fam   58336       C   1062   100   \n",
       "2     ../hwe_filtered/58336.161117.127.100_B.fam   58336       B    127   100   \n",
       "3    ../hwe_filtered/58336.161117.7744.100_A.fam   58336       A   7744   100   \n",
       "4   ../hwe_filtered/777962.161117.1681.100_A.fam  777962       A   1681   100   \n",
       "5    ../hwe_filtered/777962.161117.417.100_B.fam  777962       B    417   100   \n",
       "\n",
       "     date  totalsum  usenow  \n",
       "0  161117     12083    2000  \n",
       "1  161117      8933    2000  \n",
       "2  161117      8933    2000  \n",
       "3  161117      8933    2000  \n",
       "4  161117      2098    1000  \n",
       "5  161117      2098    1000  "
      ]
     },
     "execution_count": 53,
     "metadata": {},
     "output_type": "execute_result"
    }
   ],
   "source": [
    "angframe"
   ]
  },
  {
   "cell_type": "code",
   "execution_count": 55,
   "metadata": {
    "collapsed": false
   },
   "outputs": [
    {
     "data": {
      "text/html": [
       "<div>\n",
       "<table border=\"1\" class=\"dataframe\">\n",
       "  <thead>\n",
       "    <tr style=\"text-align: right;\">\n",
       "      <th></th>\n",
       "      <th>fname</th>\n",
       "      <th>array</th>\n",
       "      <th>version</th>\n",
       "      <th>total</th>\n",
       "      <th>breed</th>\n",
       "      <th>date</th>\n",
       "      <th>totalsum</th>\n",
       "      <th>usenow</th>\n",
       "      <th>percentofchip</th>\n",
       "      <th>animal_use</th>\n",
       "    </tr>\n",
       "  </thead>\n",
       "  <tbody>\n",
       "    <tr>\n",
       "      <th>0</th>\n",
       "      <td>../hwe_filtered/227234.161117.12083.100_B.fam</td>\n",
       "      <td>227234</td>\n",
       "      <td>B</td>\n",
       "      <td>12083</td>\n",
       "      <td>100</td>\n",
       "      <td>161117</td>\n",
       "      <td>12083</td>\n",
       "      <td>2000</td>\n",
       "      <td>1.000000</td>\n",
       "      <td>2000.000000</td>\n",
       "    </tr>\n",
       "    <tr>\n",
       "      <th>1</th>\n",
       "      <td>../hwe_filtered/58336.161117.1062.100_C.fam</td>\n",
       "      <td>58336</td>\n",
       "      <td>C</td>\n",
       "      <td>1062</td>\n",
       "      <td>100</td>\n",
       "      <td>161117</td>\n",
       "      <td>8933</td>\n",
       "      <td>2000</td>\n",
       "      <td>0.118885</td>\n",
       "      <td>237.770066</td>\n",
       "    </tr>\n",
       "    <tr>\n",
       "      <th>2</th>\n",
       "      <td>../hwe_filtered/58336.161117.127.100_B.fam</td>\n",
       "      <td>58336</td>\n",
       "      <td>B</td>\n",
       "      <td>127</td>\n",
       "      <td>100</td>\n",
       "      <td>161117</td>\n",
       "      <td>8933</td>\n",
       "      <td>2000</td>\n",
       "      <td>0.014217</td>\n",
       "      <td>28.433897</td>\n",
       "    </tr>\n",
       "    <tr>\n",
       "      <th>3</th>\n",
       "      <td>../hwe_filtered/58336.161117.7744.100_A.fam</td>\n",
       "      <td>58336</td>\n",
       "      <td>A</td>\n",
       "      <td>7744</td>\n",
       "      <td>100</td>\n",
       "      <td>161117</td>\n",
       "      <td>8933</td>\n",
       "      <td>2000</td>\n",
       "      <td>0.866898</td>\n",
       "      <td>1733.796037</td>\n",
       "    </tr>\n",
       "    <tr>\n",
       "      <th>4</th>\n",
       "      <td>../hwe_filtered/777962.161117.1681.100_A.fam</td>\n",
       "      <td>777962</td>\n",
       "      <td>A</td>\n",
       "      <td>1681</td>\n",
       "      <td>100</td>\n",
       "      <td>161117</td>\n",
       "      <td>2098</td>\n",
       "      <td>1000</td>\n",
       "      <td>0.801239</td>\n",
       "      <td>801.239276</td>\n",
       "    </tr>\n",
       "    <tr>\n",
       "      <th>5</th>\n",
       "      <td>../hwe_filtered/777962.161117.417.100_B.fam</td>\n",
       "      <td>777962</td>\n",
       "      <td>B</td>\n",
       "      <td>417</td>\n",
       "      <td>100</td>\n",
       "      <td>161117</td>\n",
       "      <td>2098</td>\n",
       "      <td>1000</td>\n",
       "      <td>0.198761</td>\n",
       "      <td>198.760724</td>\n",
       "    </tr>\n",
       "  </tbody>\n",
       "</table>\n",
       "</div>"
      ],
      "text/plain": [
       "                                           fname   array version  total breed  \\\n",
       "0  ../hwe_filtered/227234.161117.12083.100_B.fam  227234       B  12083   100   \n",
       "1    ../hwe_filtered/58336.161117.1062.100_C.fam   58336       C   1062   100   \n",
       "2     ../hwe_filtered/58336.161117.127.100_B.fam   58336       B    127   100   \n",
       "3    ../hwe_filtered/58336.161117.7744.100_A.fam   58336       A   7744   100   \n",
       "4   ../hwe_filtered/777962.161117.1681.100_A.fam  777962       A   1681   100   \n",
       "5    ../hwe_filtered/777962.161117.417.100_B.fam  777962       B    417   100   \n",
       "\n",
       "     date  totalsum  usenow  percentofchip   animal_use  \n",
       "0  161117     12083    2000       1.000000  2000.000000  \n",
       "1  161117      8933    2000       0.118885   237.770066  \n",
       "2  161117      8933    2000       0.014217    28.433897  \n",
       "3  161117      8933    2000       0.866898  1733.796037  \n",
       "4  161117      2098    1000       0.801239   801.239276  \n",
       "5  161117      2098    1000       0.198761   198.760724  "
      ]
     },
     "execution_count": 55,
     "metadata": {},
     "output_type": "execute_result"
    }
   ],
   "source": [
    "angframe['percentofchip'] = angframe['total'] / angframe.totalsum\n",
    "angframe['animal_use'] = angframe.percentofchip * angframe.usenow\n",
    "angframe"
   ]
  },
  {
   "cell_type": "code",
   "execution_count": 138,
   "metadata": {
    "collapsed": false
   },
   "outputs": [
    {
     "data": {
      "text/plain": [
       "[2, 8, 5, 3, 6]"
      ]
     },
     "execution_count": 138,
     "metadata": {},
     "output_type": "execute_result"
    }
   ],
   "source": [
    "random.sample(range(10),5)"
   ]
  },
  {
   "cell_type": "code",
   "execution_count": 56,
   "metadata": {
    "collapsed": false
   },
   "outputs": [],
   "source": [
    "def idgrab(idfile):\n",
    "    temp = []\n",
    "    with open(idfile) as fp:\n",
    "        for line in fp:\n",
    "            name = line.split()[1]\n",
    "            temp.append(name)\n",
    "    return temp\n",
    "#print(name)"
   ]
  },
  {
   "cell_type": "code",
   "execution_count": 57,
   "metadata": {
    "collapsed": false
   },
   "outputs": [
    {
     "name": "stdout",
     "output_type": "stream",
     "text": [
      "../hwe_filtered/227234.161117.12083.100_B.fam 2000.0 12083\n",
      "../hwe_filtered/58336.161117.1062.100_C.fam 237.770066047 1062\n",
      "../hwe_filtered/58336.161117.127.100_B.fam 28.4338967872 127\n",
      "../hwe_filtered/58336.161117.7744.100_A.fam 1733.79603717 7744\n",
      "../hwe_filtered/777962.161117.1681.100_A.fam 801.2392755 1681\n",
      "../hwe_filtered/777962.161117.417.100_B.fam 198.7607245 417\n"
     ]
    },
    {
     "data": {
      "text/plain": [
       "('../hwe_filtered/777962.161117.417.100_B.fam', 417, 198.76072449952338)"
      ]
     },
     "execution_count": 57,
     "metadata": {},
     "output_type": "execute_result"
    }
   ],
   "source": [
    "allanimals = []\n",
    "perarray = defaultdict(list)\n",
    "for f in angframe.itertuples():\n",
    "    print(f[1],f[-1],f[4])\n",
    "    fname,touse,total,array = f[1],f[-1],f[4],f[2]\n",
    "    fix = random.sample(range(total),int(touse))\n",
    "    bix = idgrab(fname)\n",
    "    perarray[array].append(bix)\n",
    "    allanimals =allanimals + bix\n",
    "    \n",
    "fname,total,touse"
   ]
  },
  {
   "cell_type": "code",
   "execution_count": 58,
   "metadata": {
    "collapsed": false
   },
   "outputs": [
    {
     "data": {
      "text/plain": [
       "[11918, 1963, 8693]"
      ]
     },
     "execution_count": 58,
     "metadata": {},
     "output_type": "execute_result"
    }
   ],
   "source": [
    "arraynames = {}\n",
    "for i in perarray:\n",
    "    arraynames[i] = [val for sublist in perarray[i] for val in sublist]\n",
    "[len(i) for i in arraynames.values()]\n",
    "#perarray['58336'][1][:20]"
   ]
  },
  {
   "cell_type": "code",
   "execution_count": 59,
   "metadata": {
    "collapsed": false
   },
   "outputs": [],
   "source": [
    "arraynames = {}\n",
    "for i in perarray:\n",
    "    arraynames[i] = set([val for sublist in perarray[i] for val in sublist])\n",
    "[len(i) for i in arraynames.values()]\n",
    "animalrecords = {}\n",
    "\n",
    "for i in arraynames:\n",
    "    animalrecords[i] = defaultdict(int)\n",
    "    for t in arraynames[i]:\n",
    "        animalrecords[i][t]= animalrecords[i][t]+1"
   ]
  },
  {
   "cell_type": "code",
   "execution_count": 60,
   "metadata": {
    "collapsed": false
   },
   "outputs": [
    {
     "data": {
      "text/plain": [
       "(21065, 3)"
      ]
     },
     "execution_count": 60,
     "metadata": {},
     "output_type": "execute_result"
    }
   ],
   "source": [
    "chipperanimal = pd.DataFrame(animalrecords)\n",
    "chipperanimal.shape"
   ]
  },
  {
   "cell_type": "code",
   "execution_count": 61,
   "metadata": {
    "collapsed": false
   },
   "outputs": [
    {
     "data": {
      "text/plain": [
       "22566.0"
      ]
     },
     "execution_count": 61,
     "metadata": {},
     "output_type": "execute_result"
    }
   ],
   "source": [
    "chipperanimal.sum().sum()"
   ]
  },
  {
   "cell_type": "code",
   "execution_count": 62,
   "metadata": {
    "collapsed": false
   },
   "outputs": [
    {
     "data": {
      "text/html": [
       "<div>\n",
       "<table border=\"1\" class=\"dataframe\">\n",
       "  <thead>\n",
       "    <tr style=\"text-align: right;\">\n",
       "      <th></th>\n",
       "      <th>227234</th>\n",
       "      <th>58336</th>\n",
       "      <th>777962</th>\n",
       "      <th>sum</th>\n",
       "    </tr>\n",
       "  </thead>\n",
       "  <tbody>\n",
       "    <tr>\n",
       "      <th>AANUSAF000017102723</th>\n",
       "      <td>0.0</td>\n",
       "      <td>0.0</td>\n",
       "      <td>1.0</td>\n",
       "      <td>1.0</td>\n",
       "    </tr>\n",
       "    <tr>\n",
       "      <th>AANUSAF000017102725</th>\n",
       "      <td>0.0</td>\n",
       "      <td>0.0</td>\n",
       "      <td>1.0</td>\n",
       "      <td>1.0</td>\n",
       "    </tr>\n",
       "    <tr>\n",
       "      <th>AANUSAF000017102733</th>\n",
       "      <td>0.0</td>\n",
       "      <td>0.0</td>\n",
       "      <td>1.0</td>\n",
       "      <td>1.0</td>\n",
       "    </tr>\n",
       "    <tr>\n",
       "      <th>AANUSAF000017102750</th>\n",
       "      <td>0.0</td>\n",
       "      <td>0.0</td>\n",
       "      <td>1.0</td>\n",
       "      <td>1.0</td>\n",
       "    </tr>\n",
       "    <tr>\n",
       "      <th>AANUSAF000017102754</th>\n",
       "      <td>0.0</td>\n",
       "      <td>0.0</td>\n",
       "      <td>1.0</td>\n",
       "      <td>1.0</td>\n",
       "    </tr>\n",
       "  </tbody>\n",
       "</table>\n",
       "</div>"
      ],
      "text/plain": [
       "                     227234  58336  777962  sum\n",
       "AANUSAF000017102723     0.0    0.0     1.0  1.0\n",
       "AANUSAF000017102725     0.0    0.0     1.0  1.0\n",
       "AANUSAF000017102733     0.0    0.0     1.0  1.0\n",
       "AANUSAF000017102750     0.0    0.0     1.0  1.0\n",
       "AANUSAF000017102754     0.0    0.0     1.0  1.0"
      ]
     },
     "execution_count": 62,
     "metadata": {},
     "output_type": "execute_result"
    }
   ],
   "source": [
    "chipperanimal.fillna(0,inplace=True)\n",
    "chipperanimal['sum'] = chipperanimal.sum(axis=1)\n",
    "chipperanimal.head()"
   ]
  },
  {
   "cell_type": "code",
   "execution_count": 85,
   "metadata": {
    "collapsed": false
   },
   "outputs": [
    {
     "data": {
      "text/plain": [
       "Index(['UMCUSAU000000087678', 'AANUSAM000013543130', 'AANUSAM000013818774',\n",
       "       'AANUSAM000013036690', 'AANUSAM000011216496', 'AANUSAM000012552610',\n",
       "       'AANUSAM000010748955', 'AANUSAM000013664352', 'AANUSAM000010610838',\n",
       "       'AANUSAM000002653264', 'AANUSAM000013817992', 'UMCUSAM000000080845',\n",
       "       'UMCUSAU000000087721', 'AANUSAM000013195065', 'AANUSAM000010848959',\n",
       "       'AANUSAM000010362904', 'AANUSAM000012915498', 'AANUSAM000012137203',\n",
       "       'AANUSAM000015944142', 'AANUSAM000010086319'],\n",
       "      dtype='object')"
      ]
     },
     "execution_count": 85,
     "metadata": {},
     "output_type": "execute_result"
    }
   ],
   "source": [
    "snp50set = chipperanimal[(chipperanimal['227234'] == 0) & (chipperanimal['58336'] == 1) &(chipperanimal['777962'] == 0)]\n",
    "f250set = chipperanimal[(chipperanimal['227234'] == 1) & (chipperanimal['58336'] == 0) &(chipperanimal['777962'] == 0)]\n",
    "hdset = chipperanimal[(chipperanimal['227234'] == 0) & (chipperanimal['58336'] == 0) &(chipperanimal['777962'] == 1)]\n",
    "f250snp50 = chipperanimal[(chipperanimal['227234'] == 1) & (chipperanimal['58336'] == 1) &(chipperanimal['777962'] == 0)]\n",
    "f250HD = chipperanimal[(chipperanimal['227234'] == 1) & (chipperanimal['58336'] == 0) &(chipperanimal['777962'] == 1)]\n",
    "HDsnp50 = chipperanimal[(chipperanimal['227234'] == 0) & (chipperanimal['58336'] == 1) &(chipperanimal['777962'] == 1)]\n",
    "singlechip = chipperanimal[chipperanimal['sum'] == 1]\n",
    "threechips = chipperanimal[(chipperanimal['227234'] == 1) & (chipperanimal['58336'] == 1) &(chipperanimal['777962'] == 1)]\n",
    "\n",
    "f250snp50.sample(20).index"
   ]
  },
  {
   "cell_type": "markdown",
   "metadata": {},
   "source": [
    "# This will be used for making random samples of animals who are not on multiple chips\n",
    "# These animals should all be processed and then merged into one file, they can be pulled out of there. \n",
    "# duplicate animals can be merged into seperate file, or kept in their original files\n",
    "# animals that are f250 and chip should perhaps be prioritized, but with only their f250 data, or with their full complement of data, but not for the animals being tested.  \n"
   ]
  },
  {
   "cell_type": "code",
   "execution_count": 94,
   "metadata": {
    "collapsed": false
   },
   "outputs": [
    {
     "name": "stdout",
     "output_type": "stream",
     "text": [
      "(7347, 4)\n",
      "(10554, 4)\n",
      "(1730, 4)\n",
      "(19631, 4)\n",
      "(1201, 4)\n",
      "(71, 4)\n",
      "(95, 4)\n",
      "(67, 4)\n"
     ]
    }
   ],
   "source": [
    "print(snp50set.shape)\n",
    "print(f250set.shape)\n",
    "print(hdset.shape)\n",
    "print (singlechip.shape)\n",
    "print(f250snp50.shape)\n",
    "print(HDsnp50.shape)\n",
    "print(f250HD.shape)\n",
    "print(threechips.shape)"
   ]
  },
  {
   "cell_type": "code",
   "execution_count": null,
   "metadata": {
    "collapsed": true
   },
   "outputs": [],
   "source": []
  },
  {
   "cell_type": "code",
   "execution_count": 79,
   "metadata": {
    "collapsed": false
   },
   "outputs": [
    {
     "data": {
      "text/html": [
       "<div>\n",
       "<table border=\"1\" class=\"dataframe\">\n",
       "  <thead>\n",
       "    <tr style=\"text-align: right;\">\n",
       "      <th></th>\n",
       "      <th>227234</th>\n",
       "      <th>58336</th>\n",
       "      <th>777962</th>\n",
       "      <th>sum</th>\n",
       "    </tr>\n",
       "  </thead>\n",
       "  <tbody>\n",
       "    <tr>\n",
       "      <th>AANUSAF000017102723</th>\n",
       "      <td>0.0</td>\n",
       "      <td>0.0</td>\n",
       "      <td>1.0</td>\n",
       "      <td>1.0</td>\n",
       "    </tr>\n",
       "    <tr>\n",
       "      <th>AANUSAF000017102725</th>\n",
       "      <td>0.0</td>\n",
       "      <td>0.0</td>\n",
       "      <td>1.0</td>\n",
       "      <td>1.0</td>\n",
       "    </tr>\n",
       "    <tr>\n",
       "      <th>AANUSAF000017102733</th>\n",
       "      <td>0.0</td>\n",
       "      <td>0.0</td>\n",
       "      <td>1.0</td>\n",
       "      <td>1.0</td>\n",
       "    </tr>\n",
       "    <tr>\n",
       "      <th>AANUSAF000017102750</th>\n",
       "      <td>0.0</td>\n",
       "      <td>0.0</td>\n",
       "      <td>1.0</td>\n",
       "      <td>1.0</td>\n",
       "    </tr>\n",
       "    <tr>\n",
       "      <th>AANUSAF000017102754</th>\n",
       "      <td>0.0</td>\n",
       "      <td>0.0</td>\n",
       "      <td>1.0</td>\n",
       "      <td>1.0</td>\n",
       "    </tr>\n",
       "  </tbody>\n",
       "</table>\n",
       "</div>"
      ],
      "text/plain": [
       "                     227234  58336  777962  sum\n",
       "AANUSAF000017102723     0.0    0.0     1.0  1.0\n",
       "AANUSAF000017102725     0.0    0.0     1.0  1.0\n",
       "AANUSAF000017102733     0.0    0.0     1.0  1.0\n",
       "AANUSAF000017102750     0.0    0.0     1.0  1.0\n",
       "AANUSAF000017102754     0.0    0.0     1.0  1.0"
      ]
     },
     "execution_count": 79,
     "metadata": {},
     "output_type": "execute_result"
    }
   ],
   "source": [
    "singlechip.head()"
   ]
  },
  {
   "cell_type": "markdown",
   "metadata": {},
   "source": [
    "# Take all of the individual chip represented animals. \n",
    "# Take a subsample the animals on two chips, but take more of which type?\n",
    "# don't include multiple chips on same animal for now but revist\n"
   ]
  },
  {
   "cell_type": "code",
   "execution_count": 119,
   "metadata": {
    "collapsed": false
   },
   "outputs": [
    {
     "data": {
      "text/plain": [
       "1268"
      ]
     },
     "execution_count": 119,
     "metadata": {},
     "output_type": "execute_result"
    }
   ],
   "source": [
    "#testf250snp50 = f250snp50.index.tolist() + threechips.index.tolist()\n",
    "#random.shuffle(testf250snp50) #makes random order of it just once\n",
    "#writef250_test = open('f250test.txt','w')\n",
    "#for i in testf250snp50:\n",
    "#    writef250_test.write(i + '\\n')\n",
    "#writef250_test.close()\n",
    "len(testf250snp50)"
   ]
  },
  {
   "cell_type": "markdown",
   "metadata": {},
   "source": [
    "# Above cell writes out the test file in a randomized order. \n",
    "# Then we take the file and write out f20 and snp50 lists from it.\n",
    "# each is with 300 animals only at snp50 and the rest from f250. "
   ]
  },
  {
   "cell_type": "code",
   "execution_count": 120,
   "metadata": {
    "collapsed": false
   },
   "outputs": [
    {
     "name": "stdout",
     "output_type": "stream",
     "text": [
      "AANUSAM000008792721\r\n",
      "AANUSAM000012574548\r\n",
      "AANUSAM000010748976\r\n",
      "AANUSAM000013699208\r\n",
      "AANUSAM000009493757\r\n",
      "AANUSAM000014213888\r\n",
      "AANUSAM000014300213\r\n",
      "AANUSAM000015784659\r\n",
      "AANUSAM000010989617\r\n",
      "AANUSAM000012309326\r\n"
     ]
    }
   ],
   "source": [
    "! head f250test.txt"
   ]
  },
  {
   "cell_type": "code",
   "execution_count": 124,
   "metadata": {
    "collapsed": false
   },
   "outputs": [
    {
     "data": {
      "text/plain": [
       "['AANUSAM000008792721',\n",
       " 'AANUSAM000012574548',\n",
       " 'AANUSAM000010748976',\n",
       " 'AANUSAM000013699208',\n",
       " 'AANUSAM000009493757',\n",
       " 'AANUSAM000014213888',\n",
       " 'AANUSAM000014300213',\n",
       " 'AANUSAM000015784659',\n",
       " 'AANUSAM000010989617',\n",
       " 'AANUSAM000012309326']"
      ]
     },
     "execution_count": 124,
     "metadata": {},
     "output_type": "execute_result"
    }
   ],
   "source": [
    "readf250_test = open('f250test.txt','r')\n",
    "f250samp = [i.strip() for i in readf250_test.readlines()]\n",
    "f250samp[:10]"
   ]
  },
  {
   "cell_type": "code",
   "execution_count": 141,
   "metadata": {
    "collapsed": false
   },
   "outputs": [],
   "source": [
    "writef250_1_snp50 = open('f250_1_snp50.txt','w')\n",
    "for i in f250samp[:300]:\n",
    "    writef250_1_snp50.write(' '.join([i,i,'\\n']))\n",
    "writef250_1_snp50.close()\n",
    "writef250_1_f250 = open('f250_1_f250.txt','w')\n",
    "for i in f250samp[300:]:\n",
    "    writef250_1_f250.write(' '.join([i,i,'\\n']))\n",
    "writef250_1_f250.close()"
   ]
  },
  {
   "cell_type": "code",
   "execution_count": 142,
   "metadata": {
    "collapsed": false
   },
   "outputs": [],
   "source": [
    "writef250_2_snp50 = open('f250_2_snp50.txt','w')\n",
    "for i in f250samp[300:600]:\n",
    "    writef250_2_snp50.write(' '.join([i,i,'\\n']))\n",
    "writef250_2_snp50.close()\n",
    "writef250_2_f250 = open('f250_2_f250.txt','w')\n",
    "setter = f250samp[:300] + f250samp[600:]\n",
    "for i in setter:\n",
    "    writef250_2_f250.write(' '.join([i,i,'\\n']))\n",
    "writef250_2_f250.close()"
   ]
  },
  {
   "cell_type": "code",
   "execution_count": 140,
   "metadata": {
    "collapsed": true
   },
   "outputs": [],
   "source": [
    "writef250_3_snp50 = open('f250_3_snp50.txt','w')\n",
    "for i in f250samp[600:900]:\n",
    "    writef250_3_snp50.write(' '.join([i,i,'\\n']))\n",
    "writef250_3_snp50.close()\n",
    "writef250_3_f250 = open('f250_3_f250.txt','w')\n",
    "setter = f250samp[:600] + f250samp[900:]\n",
    "for i in setter:\n",
    "    writef250_3_f250.write(' '.join([i,i,'\\n']))\n",
    "writef250_3_f250.close()"
   ]
  },
  {
   "cell_type": "code",
   "execution_count": 139,
   "metadata": {
    "collapsed": true
   },
   "outputs": [],
   "source": [
    "writef250_4_snp50 = open('f250_4_snp50.txt','w')\n",
    "for i in f250samp[900:]:\n",
    "    writef250_4_snp50.write(' '.join([i,i,'\\n']))\n",
    "writef250_4_snp50.close()\n",
    "writef250_4_f250 = open('f250_4_f250.txt','w')\n",
    "setter = f250samp[:900]\n",
    "for i in setter:\n",
    "    writef250_4_f250.write(' '.join([i,i,'\\n']))\n",
    "writef250_4_f250.close()"
   ]
  },
  {
   "cell_type": "markdown",
   "metadata": {},
   "source": [
    "plink --merge-list hwe_filtered/allfilesmerged2.txt --keep ./dataprepper/Animals_Single_chip.txt --nonfounders --cow --make-bed --out merged_files/single_chip_100"
   ]
  },
  {
   "cell_type": "code",
   "execution_count": 90,
   "metadata": {
    "collapsed": false
   },
   "outputs": [],
   "source": [
    "singlechip_ids = singlechip.index.tolist()\n",
    "\n",
    "writesingle = open('Animals_Single_chip.txt','w')\n",
    "for i in singlechip_ids:\n",
    "    writesingle.write(' '.join([i,i,'\\n']))\n",
    "writesingle.close()"
   ]
  },
  {
   "cell_type": "code",
   "execution_count": null,
   "metadata": {
    "collapsed": true
   },
   "outputs": [],
   "source": []
  },
  {
   "cell_type": "markdown",
   "metadata": {},
   "source": [
    "plink --merge-list hwe_filtered/allfilesmerged2.txt --keep ./dataprepper/Animals_Single_chip.txt --nonfounders  --cow --make-bed --out merged_files/single_chip_100"
   ]
  },
  {
   "cell_type": "code",
   "execution_count": 91,
   "metadata": {
    "collapsed": false
   },
   "outputs": [
    {
     "name": "stdout",
     "output_type": "stream",
     "text": [
      "AANUSAF000017102723 AANUSAF000017102723 \r\n",
      "AANUSAF000017102725 AANUSAF000017102725 \r\n",
      "AANUSAF000017102733 AANUSAF000017102733 \r\n",
      "AANUSAF000017102750 AANUSAF000017102750 \r\n",
      "AANUSAF000017102754 AANUSAF000017102754 \r\n",
      "AANUSAF000017102762 AANUSAF000017102762 \r\n",
      "AANUSAF000017102763 AANUSAF000017102763 \r\n",
      "AANUSAF000017102769 AANUSAF000017102769 \r\n",
      "AANUSAF000017102772 AANUSAF000017102772 \r\n",
      "AANUSAF000017152022 AANUSAF000017152022 \r\n"
     ]
    }
   ],
   "source": [
    "! head Animals_Single_chip.txt"
   ]
  },
  {
   "cell_type": "markdown",
   "metadata": {},
   "source": [
    "# see the snakefile f250 test for info on how this got used. "
   ]
  },
  {
   "cell_type": "markdown",
   "metadata": {},
   "source": [
    "# We need fewer single chip animals"
   ]
  },
  {
   "cell_type": "code",
   "execution_count": 187,
   "metadata": {
    "collapsed": false
   },
   "outputs": [],
   "source": [
    "dudes = [i for i in singlechip_ids if i[6] == 'M']\n",
    "ladies = [i for i in singlechip_ids if i[6] == 'F']\n",
    "eunuch = [i for i in singlechip_ids if i[6] == 'U']"
   ]
  },
  {
   "cell_type": "code",
   "execution_count": 165,
   "metadata": {
    "collapsed": false
   },
   "outputs": [
    {
     "data": {
      "text/plain": [
       "227234     280.0\n",
       "58336     5835.0\n",
       "777962     496.0\n",
       "sum       6611.0\n",
       "dtype: float64"
      ]
     },
     "execution_count": 165,
     "metadata": {},
     "output_type": "execute_result"
    }
   ],
   "source": [
    "singlechip.loc[dudes,].sum()"
   ]
  },
  {
   "cell_type": "code",
   "execution_count": 167,
   "metadata": {
    "collapsed": false
   },
   "outputs": [
    {
     "data": {
      "text/plain": [
       "227234    10047.0\n",
       "58336         2.0\n",
       "777962      401.0\n",
       "sum       10450.0\n",
       "dtype: float64"
      ]
     },
     "execution_count": 167,
     "metadata": {},
     "output_type": "execute_result"
    }
   ],
   "source": [
    "singlechip.loc[ladies,].sum()"
   ]
  },
  {
   "cell_type": "code",
   "execution_count": 169,
   "metadata": {
    "collapsed": false
   },
   "outputs": [
    {
     "data": {
      "text/plain": [
       "227234     227.0\n",
       "58336     1510.0\n",
       "777962     833.0\n",
       "sum       2570.0\n",
       "dtype: float64"
      ]
     },
     "execution_count": 169,
     "metadata": {},
     "output_type": "execute_result"
    }
   ],
   "source": [
    "singlechip.loc[eunuch,].sum()"
   ]
  },
  {
   "cell_type": "code",
   "execution_count": 184,
   "metadata": {
    "collapsed": false
   },
   "outputs": [
    {
     "name": "stderr",
     "output_type": "stream",
     "text": [
      "/home/jlh4df/.conda/envs/Imp3/lib/python3.5/site-packages/ipykernel/__main__.py:1: UserWarning: Boolean Series key will be reindexed to match DataFrame index.\n",
      "  if __name__ == '__main__':\n"
     ]
    }
   ],
   "source": [
    "hdU = singlechip.loc[eunuch,][(chipperanimal['777962'] == 1)].index.tolist()"
   ]
  },
  {
   "cell_type": "code",
   "execution_count": 177,
   "metadata": {
    "collapsed": false
   },
   "outputs": [
    {
     "name": "stdout",
     "output_type": "stream",
     "text": [
      "1268\n"
     ]
    },
    {
     "data": {
      "text/plain": [
       "1197"
      ]
     },
     "execution_count": 177,
     "metadata": {},
     "output_type": "execute_result"
    }
   ],
   "source": [
    "print(len(testf250snp50))\n",
    "len([i for i in testf250snp50 if i[6] == 'M'])"
   ]
  },
  {
   "cell_type": "code",
   "execution_count": 188,
   "metadata": {
    "collapsed": false
   },
   "outputs": [
    {
     "name": "stdout",
     "output_type": "stream",
     "text": [
      "['AANUSAF000017102723', 'AANUSAF000017102725', 'AANUSAF000017102733', 'AANUSAF000017102750', 'AANUSAF000017102754', 'AANUSAF000017102762', 'AANUSAF000017102763', 'AANUSAF000017102769', 'AANUSAF000017102772', 'AANUSAF000017152022']\n"
     ]
    },
    {
     "data": {
      "text/plain": [
       "['UMCUSAF000000103145',\n",
       " 'UMCUSAF000000097566',\n",
       " 'UMCUSAF000000109021',\n",
       " 'UMCUSAF000000109625',\n",
       " 'UMCUSAF000000098704',\n",
       " 'UMCUSAF000000097935',\n",
       " 'UMCUSAF000000097539',\n",
       " 'AANUSAF000017667314',\n",
       " 'UMCUSAF000000102904',\n",
       " 'UMCUSAF000000100433']"
      ]
     },
     "execution_count": 188,
     "metadata": {},
     "output_type": "execute_result"
    }
   ],
   "source": [
    "print(ladies[:10])\n",
    "#random.shuffle(ladies) #makes random order of the females it just once\n",
    "#writef250_ladies = open('f250ladies_train.txt','w')\n",
    "#for i in ladies:\n",
    "#    writef250_ladies.write(i + '\\n')\n",
    "#writef250_ladies.close()\n",
    "readf250_ladies = open('f250ladies_train.txt','r')\n",
    "f250ladies = [i.strip() for i in readf250_ladies.readlines()]\n",
    "f250ladies[:10]"
   ]
  },
  {
   "cell_type": "code",
   "execution_count": 191,
   "metadata": {
    "collapsed": false
   },
   "outputs": [
    {
     "name": "stdout",
     "output_type": "stream",
     "text": [
      "11444\n",
      "19631\n"
     ]
    }
   ],
   "source": [
    "reducedtest = hdU + f250ladies[:4000] + dudes\n",
    "print(len(reducedtest))\n",
    "print(len(singlechip))"
   ]
  },
  {
   "cell_type": "code",
   "execution_count": 193,
   "metadata": {
    "collapsed": true
   },
   "outputs": [],
   "source": [
    "writesmallsingle = open('Animals_Small_Single_100_11444.txt','w')\n",
    "for i in reducedtest:\n",
    "    writesmallsingle.write(' '.join([i,i,'\\n']))\n",
    "writesmallsingle.close()"
   ]
  },
  {
   "cell_type": "markdown",
   "metadata": {},
   "source": [
    "# Now make a file with just these animals in it\n",
    " \" plink --merge-list hwe_filtered/allfilesmerged2.txt --keep ./dataprepper/Animals_Small_Single_100_11444.txt --nonfounders  --cow --make-bed --out merged_files/single_chip_small_100\""
   ]
  },
  {
   "cell_type": "code",
   "execution_count": null,
   "metadata": {
    "collapsed": false
   },
   "outputs": [],
   "source": [
    "double = f250snp50.sample(600).index.tolist()\n",
    "double[:10]"
   ]
  },
  {
   "cell_type": "code",
   "execution_count": 40,
   "metadata": {
    "collapsed": false
   },
   "outputs": [],
   "source": [
    "funcset = f250set.sample(400).index.tolist()"
   ]
  },
  {
   "cell_type": "code",
   "execution_count": 41,
   "metadata": {
    "collapsed": false
   },
   "outputs": [],
   "source": [
    "fiftyset = snp50set.sample(1000).index.tolist()\n",
    "hdout = hdset.sample(1000).index.tolist()"
   ]
  },
  {
   "cell_type": "markdown",
   "metadata": {},
   "source": [
    "# merge all assays togehter first"
   ]
  },
  {
   "cell_type": "code",
   "execution_count": 65,
   "metadata": {
    "collapsed": false
   },
   "outputs": [
    {
     "data": {
      "text/html": [
       "<div>\n",
       "<table border=\"1\" class=\"dataframe\">\n",
       "  <thead>\n",
       "    <tr style=\"text-align: right;\">\n",
       "      <th></th>\n",
       "      <th>227234</th>\n",
       "      <th>58336</th>\n",
       "      <th>777962</th>\n",
       "      <th>sum</th>\n",
       "    </tr>\n",
       "  </thead>\n",
       "  <tbody>\n",
       "    <tr>\n",
       "      <th>count</th>\n",
       "      <td>233.000000</td>\n",
       "      <td>233.000000</td>\n",
       "      <td>233.0</td>\n",
       "      <td>233.000000</td>\n",
       "    </tr>\n",
       "    <tr>\n",
       "      <th>mean</th>\n",
       "      <td>0.695279</td>\n",
       "      <td>0.592275</td>\n",
       "      <td>1.0</td>\n",
       "      <td>2.287554</td>\n",
       "    </tr>\n",
       "    <tr>\n",
       "      <th>std</th>\n",
       "      <td>0.461280</td>\n",
       "      <td>0.492470</td>\n",
       "      <td>0.0</td>\n",
       "      <td>0.453596</td>\n",
       "    </tr>\n",
       "    <tr>\n",
       "      <th>min</th>\n",
       "      <td>0.000000</td>\n",
       "      <td>0.000000</td>\n",
       "      <td>1.0</td>\n",
       "      <td>2.000000</td>\n",
       "    </tr>\n",
       "    <tr>\n",
       "      <th>25%</th>\n",
       "      <td>0.000000</td>\n",
       "      <td>0.000000</td>\n",
       "      <td>1.0</td>\n",
       "      <td>2.000000</td>\n",
       "    </tr>\n",
       "    <tr>\n",
       "      <th>50%</th>\n",
       "      <td>1.000000</td>\n",
       "      <td>1.000000</td>\n",
       "      <td>1.0</td>\n",
       "      <td>2.000000</td>\n",
       "    </tr>\n",
       "    <tr>\n",
       "      <th>75%</th>\n",
       "      <td>1.000000</td>\n",
       "      <td>1.000000</td>\n",
       "      <td>1.0</td>\n",
       "      <td>3.000000</td>\n",
       "    </tr>\n",
       "    <tr>\n",
       "      <th>max</th>\n",
       "      <td>1.000000</td>\n",
       "      <td>1.000000</td>\n",
       "      <td>1.0</td>\n",
       "      <td>3.000000</td>\n",
       "    </tr>\n",
       "  </tbody>\n",
       "</table>\n",
       "</div>"
      ],
      "text/plain": [
       "           227234       58336  777962         sum\n",
       "count  233.000000  233.000000   233.0  233.000000\n",
       "mean     0.695279    0.592275     1.0    2.287554\n",
       "std      0.461280    0.492470     0.0    0.453596\n",
       "min      0.000000    0.000000     1.0    2.000000\n",
       "25%      0.000000    0.000000     1.0    2.000000\n",
       "50%      1.000000    1.000000     1.0    2.000000\n",
       "75%      1.000000    1.000000     1.0    3.000000\n",
       "max      1.000000    1.000000     1.0    3.000000"
      ]
     },
     "execution_count": 65,
     "metadata": {},
     "output_type": "execute_result"
    }
   ],
   "source": [
    "chipperanimal[(chipperanimal['sum'] > 1) &(chipperanimal['777962'] == 1) ].describe()"
   ]
  },
  {
   "cell_type": "code",
   "execution_count": 66,
   "metadata": {
    "collapsed": false
   },
   "outputs": [
    {
     "data": {
      "text/plain": [
       "(67, 4)"
      ]
     },
     "execution_count": 66,
     "metadata": {},
     "output_type": "execute_result"
    }
   ],
   "source": [
    "threechips = chipperanimal[(chipperanimal['227234'] == 1) & (chipperanimal['58336'] == 1) &(chipperanimal['777962'] == 1)]\n",
    "threechips.head()\n",
    "threechips.shape"
   ]
  },
  {
   "cell_type": "code",
   "execution_count": 164,
   "metadata": {
    "collapsed": false
   },
   "outputs": [
    {
     "name": "stdout",
     "output_type": "stream",
     "text": [
      "23114\n"
     ]
    },
    {
     "data": {
      "text/plain": [
       "[('AANUSAM000013531361', 3),\n",
       " ('AANUSAM000012227124', 3),\n",
       " ('AANUSAM000014257843', 3),\n",
       " ('AANUSAM000014000000', 3),\n",
       " ('AANUSAM000010776479', 3),\n",
       " ('AANUSAM000008781383', 3),\n",
       " ('AANUSAM000011216428', 3),\n",
       " ('AANUSAM000008477778', 3),\n",
       " ('AANUSAM000015150605', 3),\n",
       " ('AANUSAM000013627964', 3)]"
      ]
     },
     "execution_count": 164,
     "metadata": {},
     "output_type": "execute_result"
    }
   ],
   "source": [
    "print(len(allanimals))\n",
    "len(set(allanimals))\n",
    "Counter(allanimals).most_common(10)"
   ]
  },
  {
   "cell_type": "code",
   "execution_count": 273,
   "metadata": {
    "collapsed": false
   },
   "outputs": [
    {
     "ename": "TypeError",
     "evalue": "idgrab() takes 1 positional argument but 2 were given",
     "output_type": "error",
     "traceback": [
      "\u001b[0;31m---------------------------------------------------------------------------\u001b[0m",
      "\u001b[0;31mTypeError\u001b[0m                                 Traceback (most recent call last)",
      "\u001b[0;32m<ipython-input-273-9d780160b4fa>\u001b[0m in \u001b[0;36m<module>\u001b[0;34m()\u001b[0m\n\u001b[0;32m----> 1\u001b[0;31m \u001b[0mlen\u001b[0m\u001b[0;34m(\u001b[0m\u001b[0midgrab\u001b[0m\u001b[0;34m(\u001b[0m\u001b[0mfname\u001b[0m\u001b[0;34m,\u001b[0m\u001b[0mset\u001b[0m\u001b[0;34m(\u001b[0m\u001b[0mfix\u001b[0m\u001b[0;34m)\u001b[0m\u001b[0;34m)\u001b[0m\u001b[0;34m)\u001b[0m\u001b[0;34m\u001b[0m\u001b[0m\n\u001b[0m",
      "\u001b[0;31mTypeError\u001b[0m: idgrab() takes 1 positional argument but 2 were given"
     ]
    }
   ],
   "source": [
    "len(idgrab(fname,set(fix)))"
   ]
  },
  {
   "cell_type": "code",
   "execution_count": 223,
   "metadata": {
    "collapsed": false
   },
   "outputs": [
    {
     "data": {
      "text/plain": [
       "['AANUSAM000011393414',\n",
       " 'AANUSAM000012886399',\n",
       " 'AANUSAM000012588547',\n",
       " 'AANUSAM000012363922',\n",
       " 'AANUSAM000014000000',\n",
       " 'AANUSAM000011462197',\n",
       " 'AANUSAM000012502030',\n",
       " 'AANUSAM000012240991',\n",
       " 'AANUSAM000013300751',\n",
       " 'AANUSAM000011994601']"
      ]
     },
     "execution_count": 223,
     "metadata": {},
     "output_type": "execute_result"
    }
   ],
   "source": [
    "bobtest = idgrab('../raw_genotypes/777962.160906.75.imp_test.ID')"
   ]
  },
  {
   "cell_type": "code",
   "execution_count": 245,
   "metadata": {
    "collapsed": false
   },
   "outputs": [
    {
     "data": {
      "text/html": [
       "<div>\n",
       "<table border=\"1\" class=\"dataframe\">\n",
       "  <thead>\n",
       "    <tr style=\"text-align: right;\">\n",
       "      <th></th>\n",
       "      <th>227234</th>\n",
       "      <th>58336</th>\n",
       "      <th>777962</th>\n",
       "      <th>sum</th>\n",
       "    </tr>\n",
       "  </thead>\n",
       "  <tbody>\n",
       "    <tr>\n",
       "      <th>AANUSAM000009911822</th>\n",
       "      <td>1.0</td>\n",
       "      <td>1.0</td>\n",
       "      <td>0.0</td>\n",
       "      <td>2.0</td>\n",
       "    </tr>\n",
       "    <tr>\n",
       "      <th>AANUSAM000012729973</th>\n",
       "      <td>0.0</td>\n",
       "      <td>1.0</td>\n",
       "      <td>1.0</td>\n",
       "      <td>2.0</td>\n",
       "    </tr>\n",
       "    <tr>\n",
       "      <th>AANUSAM000005221298</th>\n",
       "      <td>0.0</td>\n",
       "      <td>1.0</td>\n",
       "      <td>1.0</td>\n",
       "      <td>2.0</td>\n",
       "    </tr>\n",
       "    <tr>\n",
       "      <th>AANUSAM000011060761</th>\n",
       "      <td>1.0</td>\n",
       "      <td>1.0</td>\n",
       "      <td>0.0</td>\n",
       "      <td>2.0</td>\n",
       "    </tr>\n",
       "    <tr>\n",
       "      <th>AANUSAM000013085417</th>\n",
       "      <td>1.0</td>\n",
       "      <td>1.0</td>\n",
       "      <td>0.0</td>\n",
       "      <td>2.0</td>\n",
       "    </tr>\n",
       "    <tr>\n",
       "      <th>AANUSAM000015134182</th>\n",
       "      <td>1.0</td>\n",
       "      <td>1.0</td>\n",
       "      <td>0.0</td>\n",
       "      <td>2.0</td>\n",
       "    </tr>\n",
       "  </tbody>\n",
       "</table>\n",
       "</div>"
      ],
      "text/plain": [
       "                     227234  58336  777962  sum\n",
       "AANUSAM000009911822     1.0    1.0     0.0  2.0\n",
       "AANUSAM000012729973     0.0    1.0     1.0  2.0\n",
       "AANUSAM000005221298     0.0    1.0     1.0  2.0\n",
       "AANUSAM000011060761     1.0    1.0     0.0  2.0\n",
       "AANUSAM000013085417     1.0    1.0     0.0  2.0\n",
       "AANUSAM000015134182     1.0    1.0     0.0  2.0"
      ]
     },
     "execution_count": 245,
     "metadata": {},
     "output_type": "execute_result"
    }
   ],
   "source": [
    "bobanimal = chipperanimal.loc[bobtest]\n",
    "bobanimal.sort_values(by='sum').head(6)"
   ]
  },
  {
   "cell_type": "code",
   "execution_count": 253,
   "metadata": {
    "collapsed": false
   },
   "outputs": [
    {
     "name": "stdout",
     "output_type": "stream",
     "text": [
      "../../GEN_DUMP/58336.161117.7744.100_A.ID: 1230 AANUSAM000005221298\r\n",
      "../../GEN_DUMP/777962.161117.1681.100_A.ID: 80 AANUSAM000005221298\r\n"
     ]
    }
   ],
   "source": [
    "! grep 'AANUSAM000005221298' ../../GEN_DUMP/*.100*.ID\n"
   ]
  },
  {
   "cell_type": "code",
   "execution_count": 254,
   "metadata": {
    "collapsed": false
   },
   "outputs": [
    {
     "name": "stdout",
     "output_type": "stream",
     "text": [
      "../raw_genotypes/227234.160906.75.imp_test.ID: 62 AANUSAM000005221298\r\n",
      "../raw_genotypes/58336.160906.75.imp_test.ID: 46 AANUSAM000005221298\r\n",
      "../raw_genotypes/777962.160906.100.test_hd_A.ID: 84 AANUSAM000005221298\r\n",
      "../raw_genotypes/777962.160906.75.imp_test.ID: 46 AANUSAM000005221298\r\n"
     ]
    }
   ],
   "source": [
    "! grep 'AANUSAM000005221298' ../raw_genotypes/*.ID"
   ]
  },
  {
   "cell_type": "code",
   "execution_count": 249,
   "metadata": {
    "collapsed": false
   },
   "outputs": [
    {
     "data": {
      "text/plain": [
       "True"
      ]
     },
     "execution_count": 249,
     "metadata": {},
     "output_type": "execute_result"
    }
   ],
   "source": [
    "for f in angframe.itertuples():"
   ]
  },
  {
   "cell_type": "code",
   "execution_count": 64,
   "metadata": {
    "collapsed": false
   },
   "outputs": [
    {
     "data": {
      "text/plain": [
       "count    12083\n",
       "Name: 227234, dtype: int64"
      ]
     },
     "execution_count": 64,
     "metadata": {},
     "output_type": "execute_result"
    }
   ],
   "source": [
    "perChip.loc['227234']"
   ]
  },
  {
   "cell_type": "code",
   "execution_count": null,
   "metadata": {
    "collapsed": true
   },
   "outputs": [],
   "source": [
    "for f in angframe.itertuples():\n",
    "    print(f[1],f[-1],f[4])\n",
    "    fname,touse,total,array = f[1],f[-1],f[4],f[2]\n",
    "    fix = random.sample(range(total),int(touse))\n",
    "    bix = idgrab(fname)\n",
    "    perarray[array].append(bix)\n",
    "    allanimals =allanimals + bix"
   ]
  },
  {
   "cell_type": "code",
   "execution_count": 3,
   "metadata": {
    "collapsed": false
   },
   "outputs": [],
   "source": [
    "from itertools import tee\n",
    "def parwise(iterable):\n",
    "\ta,b = tee(iterable)\n",
    "\tnext(b, None)\n",
    "\treturn zip(a,b)\n",
    "\n",
    "def chunks(end):\n",
    "\treturn [str(i[0]+1)+ ' ' + str(i[1]) for i in parwise(range(0,end,5000000))]\n",
    "\t\n",
    "rangedict = {'25': chunks(43879707)}\n",
    "\n",
    "def chrchunker(WC):\n",
    "\treturn rangedict[WC.chr][int(WC.chunk)]\n",
    "\t"
   ]
  },
  {
   "cell_type": "code",
   "execution_count": 6,
   "metadata": {
    "collapsed": false
   },
   "outputs": [
    {
     "data": {
      "text/plain": [
       "['15000001 20000000',\n",
       " '20000001 25000000',\n",
       " '25000001 30000000',\n",
       " '30000001 35000000',\n",
       " '35000001 40000000']"
      ]
     },
     "execution_count": 6,
     "metadata": {},
     "output_type": "execute_result"
    }
   ],
   "source": [
    "rangedict['25'][3:10]"
   ]
  },
  {
   "cell_type": "code",
   "execution_count": 8,
   "metadata": {
    "collapsed": false
   },
   "outputs": [
    {
     "name": "stdout",
     "output_type": "stream",
     "text": [
      "(0, 3)\n",
      "(3, 6)\n",
      "(6, 9)\n"
     ]
    }
   ],
   "source": [
    "for i in parwise(range(0,10,3)):\n",
    "    print(i)"
   ]
  },
  {
   "cell_type": "code",
   "execution_count": 13,
   "metadata": {
    "collapsed": false
   },
   "outputs": [
    {
     "name": "stdout",
     "output_type": "stream",
     "text": [
      "0\n",
      "3\n",
      "6\n",
      "9\n"
     ]
    }
   ],
   "source": [
    "for i in range(0,10,3):\n",
    "    print(i)"
   ]
  },
  {
   "cell_type": "code",
   "execution_count": 19,
   "metadata": {
    "collapsed": false
   },
   "outputs": [
    {
     "ename": "TypeError",
     "evalue": "'itertools._tee' object is not subscriptable",
     "output_type": "error",
     "traceback": [
      "\u001b[0;31m---------------------------------------------------------------------------\u001b[0m",
      "\u001b[0;31mTypeError\u001b[0m                                 Traceback (most recent call last)",
      "\u001b[0;32m<ipython-input-19-b4de2a571bf9>\u001b[0m in \u001b[0;36m<module>\u001b[0;34m()\u001b[0m\n\u001b[1;32m      1\u001b[0m \u001b[0;32mfor\u001b[0m \u001b[0mi\u001b[0m \u001b[0;32min\u001b[0m \u001b[0mtee\u001b[0m\u001b[0;34m(\u001b[0m\u001b[0mrange\u001b[0m\u001b[0;34m(\u001b[0m\u001b[0;36m0\u001b[0m\u001b[0;34m,\u001b[0m\u001b[0;36m10\u001b[0m\u001b[0;34m,\u001b[0m\u001b[0;36m3\u001b[0m\u001b[0;34m)\u001b[0m\u001b[0;34m)\u001b[0m\u001b[0;34m:\u001b[0m\u001b[0;34m\u001b[0m\u001b[0m\n\u001b[0;32m----> 2\u001b[0;31m     \u001b[0mprint\u001b[0m\u001b[0;34m(\u001b[0m\u001b[0mi\u001b[0m\u001b[0;34m[\u001b[0m\u001b[0;36m1\u001b[0m\u001b[0;34m]\u001b[0m\u001b[0;34m)\u001b[0m\u001b[0;34m\u001b[0m\u001b[0m\n\u001b[0m",
      "\u001b[0;31mTypeError\u001b[0m: 'itertools._tee' object is not subscriptable"
     ]
    }
   ],
   "source": [
    "for i in tee(range(0,10,3)):\n",
    "    print(i)"
   ]
  },
  {
   "cell_type": "code",
   "execution_count": null,
   "metadata": {
    "collapsed": true
   },
   "outputs": [],
   "source": []
  }
 ],
 "metadata": {
  "anaconda-cloud": {},
  "kernelspec": {
   "display_name": "Python [conda env:Imp3]",
   "language": "python",
   "name": "conda-env-Imp3-py"
  },
  "language_info": {
   "codemirror_mode": {
    "name": "ipython",
    "version": 3
   },
   "file_extension": ".py",
   "mimetype": "text/x-python",
   "name": "python",
   "nbconvert_exporter": "python",
   "pygments_lexer": "ipython3",
   "version": "3.5.2"
  }
 },
 "nbformat": 4,
 "nbformat_minor": 1
}
