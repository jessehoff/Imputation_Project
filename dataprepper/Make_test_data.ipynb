{
 "cells": [
  {
   "cell_type": "code",
   "execution_count": 165,
   "metadata": {
    "collapsed": true
   },
   "outputs": [],
   "source": [
    "import pandas as pd\n",
    "import random\n",
    "import numpy as np\n",
    "import glob\n",
    "from collections import Counter\n",
    "from collections import defaultdict"
   ]
  },
  {
   "cell_type": "markdown",
   "metadata": {},
   "source": [
    "# This document generates sample sets to use as testable iterations for imputation accuracy\n",
    "\n",
    "> we start with 75 animals availabe on all 3 chips\n",
    "\n",
    "> next we get a subset of all angus animals  that doesn't overlap with this test set for each chip so we're not working with the full set every time (might change)\n",
    "\n",
    "> then we'll make a list of each of these full angus sets) that fits the plink standard\n",
    "\n",
    "> then we'll make a couple of random subsets of the 75 testers. "
   ]
  },
  {
   "cell_type": "code",
   "execution_count": 3,
   "metadata": {
    "collapsed": false
   },
   "outputs": [
    {
     "name": "stdout",
     "output_type": "stream",
     "text": [
      "227234.161117.12083.100_B.ID   58336.161117.7744.100_A.ID\r\n",
      "227234.161117.12083.100_B.ped  58336.161117.7744.100_A.ped\r\n",
      "227234.161117.1994.200_A.ID    777962.161117.1681.100_A.ID\r\n",
      "227234.161117.1994.200_A.ped   777962.161117.1681.100_A.ped\r\n",
      "58336.161117.1062.100_C.ID     777962.161117.219.200_B.ID\r\n",
      "58336.161117.1062.100_C.ped    777962.161117.219.200_B.ped\r\n",
      "58336.161117.127.100_B.ID      777962.161117.2779.200_A.ID\r\n",
      "58336.161117.127.100_B.ped     777962.161117.2779.200_A.ped\r\n",
      "58336.161117.1339.200_A.ID     777962.161117.417.100_B.ID\r\n",
      "58336.161117.1339.200_A.ped    777962.161117.417.100_B.ped\r\n",
      "58336.161117.34296.200_B.ID    DUMP_GEN_for_imputation.sql\r\n",
      "58336.161117.34296.200_B.ped   process_gen_dump.txt\r\n"
     ]
    }
   ],
   "source": [
    "! ls ../../GEN_DUMP/"
   ]
  },
  {
   "cell_type": "code",
   "execution_count": 7,
   "metadata": {
    "collapsed": false
   },
   "outputs": [
    {
     "data": {
      "text/plain": [
       "['../../GEN_DUMP/227234.161117.12083.100_B.ID',\n",
       " '../../GEN_DUMP/58336.161117.1062.100_C.ID',\n",
       " '../../GEN_DUMP/58336.161117.127.100_B.ID',\n",
       " '../../GEN_DUMP/58336.161117.7744.100_A.ID',\n",
       " '../../GEN_DUMP/777962.161117.1681.100_A.ID',\n",
       " '../../GEN_DUMP/777962.161117.417.100_B.ID']"
      ]
     },
     "execution_count": 7,
     "metadata": {},
     "output_type": "execute_result"
    }
   ],
   "source": [
    "Angus = glob.glob('../../GEN_DUMP/*.100*.ID')\n",
    "Angus"
   ]
  },
  {
   "cell_type": "code",
   "execution_count": 88,
   "metadata": {
    "collapsed": false
   },
   "outputs": [],
   "source": [
    "def Breedmaker(blist):\n",
    "    data = []\n",
    "    for i in blist:\n",
    "        array,date,count,brV,ftype = i.split('/')[-1].split('.')\n",
    "        breed,version = brV.split('_')\n",
    "        data.append([i,array,version,int(count),breed,date])\n",
    "    return pd.DataFrame(data,columns=['fname','array','version','total','breed','date'])"
   ]
  },
  {
   "cell_type": "code",
   "execution_count": 118,
   "metadata": {
    "collapsed": false
   },
   "outputs": [
    {
     "name": "stdout",
     "output_type": "stream",
     "text": [
      "        total\n",
      "array        \n",
      "227234  12083\n",
      "58336    8933\n",
      "777962   2098\n"
     ]
    }
   ],
   "source": [
    "angframe = Breedmaker(Angus)\n",
    "perChip=angframe.groupby('array').sum()\n",
    "print(perChip)"
   ]
  },
  {
   "cell_type": "code",
   "execution_count": 111,
   "metadata": {
    "collapsed": false
   },
   "outputs": [],
   "source": [
    "usenow = pd.Series({'227234':2000,'58336':2000,'777962':1000},name='usenow')"
   ]
  },
  {
   "cell_type": "code",
   "execution_count": 119,
   "metadata": {
    "collapsed": false
   },
   "outputs": [],
   "source": [
    "perChip = perChip.join(usenow)"
   ]
  },
  {
   "cell_type": "code",
   "execution_count": 120,
   "metadata": {
    "collapsed": true
   },
   "outputs": [],
   "source": [
    "angframe = angframe.join(perChip,rsuffix='sum',on='array')"
   ]
  },
  {
   "cell_type": "code",
   "execution_count": 121,
   "metadata": {
    "collapsed": false
   },
   "outputs": [
    {
     "data": {
      "text/html": [
       "<div>\n",
       "<table border=\"1\" class=\"dataframe\">\n",
       "  <thead>\n",
       "    <tr style=\"text-align: right;\">\n",
       "      <th></th>\n",
       "      <th>fname</th>\n",
       "      <th>array</th>\n",
       "      <th>version</th>\n",
       "      <th>total</th>\n",
       "      <th>breed</th>\n",
       "      <th>date</th>\n",
       "      <th>totalsum</th>\n",
       "      <th>usenow</th>\n",
       "    </tr>\n",
       "  </thead>\n",
       "  <tbody>\n",
       "    <tr>\n",
       "      <th>0</th>\n",
       "      <td>../../GEN_DUMP/227234.161117.12083.100_B.ID</td>\n",
       "      <td>227234</td>\n",
       "      <td>B</td>\n",
       "      <td>12083</td>\n",
       "      <td>100</td>\n",
       "      <td>161117</td>\n",
       "      <td>12083</td>\n",
       "      <td>2000</td>\n",
       "    </tr>\n",
       "    <tr>\n",
       "      <th>1</th>\n",
       "      <td>../../GEN_DUMP/58336.161117.1062.100_C.ID</td>\n",
       "      <td>58336</td>\n",
       "      <td>C</td>\n",
       "      <td>1062</td>\n",
       "      <td>100</td>\n",
       "      <td>161117</td>\n",
       "      <td>8933</td>\n",
       "      <td>2000</td>\n",
       "    </tr>\n",
       "    <tr>\n",
       "      <th>2</th>\n",
       "      <td>../../GEN_DUMP/58336.161117.127.100_B.ID</td>\n",
       "      <td>58336</td>\n",
       "      <td>B</td>\n",
       "      <td>127</td>\n",
       "      <td>100</td>\n",
       "      <td>161117</td>\n",
       "      <td>8933</td>\n",
       "      <td>2000</td>\n",
       "    </tr>\n",
       "    <tr>\n",
       "      <th>3</th>\n",
       "      <td>../../GEN_DUMP/58336.161117.7744.100_A.ID</td>\n",
       "      <td>58336</td>\n",
       "      <td>A</td>\n",
       "      <td>7744</td>\n",
       "      <td>100</td>\n",
       "      <td>161117</td>\n",
       "      <td>8933</td>\n",
       "      <td>2000</td>\n",
       "    </tr>\n",
       "    <tr>\n",
       "      <th>4</th>\n",
       "      <td>../../GEN_DUMP/777962.161117.1681.100_A.ID</td>\n",
       "      <td>777962</td>\n",
       "      <td>A</td>\n",
       "      <td>1681</td>\n",
       "      <td>100</td>\n",
       "      <td>161117</td>\n",
       "      <td>2098</td>\n",
       "      <td>1000</td>\n",
       "    </tr>\n",
       "    <tr>\n",
       "      <th>5</th>\n",
       "      <td>../../GEN_DUMP/777962.161117.417.100_B.ID</td>\n",
       "      <td>777962</td>\n",
       "      <td>B</td>\n",
       "      <td>417</td>\n",
       "      <td>100</td>\n",
       "      <td>161117</td>\n",
       "      <td>2098</td>\n",
       "      <td>1000</td>\n",
       "    </tr>\n",
       "  </tbody>\n",
       "</table>\n",
       "</div>"
      ],
      "text/plain": [
       "                                         fname   array version  total breed  \\\n",
       "0  ../../GEN_DUMP/227234.161117.12083.100_B.ID  227234       B  12083   100   \n",
       "1    ../../GEN_DUMP/58336.161117.1062.100_C.ID   58336       C   1062   100   \n",
       "2     ../../GEN_DUMP/58336.161117.127.100_B.ID   58336       B    127   100   \n",
       "3    ../../GEN_DUMP/58336.161117.7744.100_A.ID   58336       A   7744   100   \n",
       "4   ../../GEN_DUMP/777962.161117.1681.100_A.ID  777962       A   1681   100   \n",
       "5    ../../GEN_DUMP/777962.161117.417.100_B.ID  777962       B    417   100   \n",
       "\n",
       "     date  totalsum  usenow  \n",
       "0  161117     12083    2000  \n",
       "1  161117      8933    2000  \n",
       "2  161117      8933    2000  \n",
       "3  161117      8933    2000  \n",
       "4  161117      2098    1000  \n",
       "5  161117      2098    1000  "
      ]
     },
     "execution_count": 121,
     "metadata": {},
     "output_type": "execute_result"
    }
   ],
   "source": [
    "angframe"
   ]
  },
  {
   "cell_type": "code",
   "execution_count": 123,
   "metadata": {
    "collapsed": false
   },
   "outputs": [
    {
     "data": {
      "text/html": [
       "<div>\n",
       "<table border=\"1\" class=\"dataframe\">\n",
       "  <thead>\n",
       "    <tr style=\"text-align: right;\">\n",
       "      <th></th>\n",
       "      <th>fname</th>\n",
       "      <th>array</th>\n",
       "      <th>version</th>\n",
       "      <th>total</th>\n",
       "      <th>breed</th>\n",
       "      <th>date</th>\n",
       "      <th>totalsum</th>\n",
       "      <th>usenow</th>\n",
       "      <th>percentofchip</th>\n",
       "      <th>animal_use</th>\n",
       "    </tr>\n",
       "  </thead>\n",
       "  <tbody>\n",
       "    <tr>\n",
       "      <th>0</th>\n",
       "      <td>../../GEN_DUMP/227234.161117.12083.100_B.ID</td>\n",
       "      <td>227234</td>\n",
       "      <td>B</td>\n",
       "      <td>12083</td>\n",
       "      <td>100</td>\n",
       "      <td>161117</td>\n",
       "      <td>12083</td>\n",
       "      <td>2000</td>\n",
       "      <td>1.000000</td>\n",
       "      <td>2000.000000</td>\n",
       "    </tr>\n",
       "    <tr>\n",
       "      <th>1</th>\n",
       "      <td>../../GEN_DUMP/58336.161117.1062.100_C.ID</td>\n",
       "      <td>58336</td>\n",
       "      <td>C</td>\n",
       "      <td>1062</td>\n",
       "      <td>100</td>\n",
       "      <td>161117</td>\n",
       "      <td>8933</td>\n",
       "      <td>2000</td>\n",
       "      <td>0.118885</td>\n",
       "      <td>237.770066</td>\n",
       "    </tr>\n",
       "    <tr>\n",
       "      <th>2</th>\n",
       "      <td>../../GEN_DUMP/58336.161117.127.100_B.ID</td>\n",
       "      <td>58336</td>\n",
       "      <td>B</td>\n",
       "      <td>127</td>\n",
       "      <td>100</td>\n",
       "      <td>161117</td>\n",
       "      <td>8933</td>\n",
       "      <td>2000</td>\n",
       "      <td>0.014217</td>\n",
       "      <td>28.433897</td>\n",
       "    </tr>\n",
       "    <tr>\n",
       "      <th>3</th>\n",
       "      <td>../../GEN_DUMP/58336.161117.7744.100_A.ID</td>\n",
       "      <td>58336</td>\n",
       "      <td>A</td>\n",
       "      <td>7744</td>\n",
       "      <td>100</td>\n",
       "      <td>161117</td>\n",
       "      <td>8933</td>\n",
       "      <td>2000</td>\n",
       "      <td>0.866898</td>\n",
       "      <td>1733.796037</td>\n",
       "    </tr>\n",
       "    <tr>\n",
       "      <th>4</th>\n",
       "      <td>../../GEN_DUMP/777962.161117.1681.100_A.ID</td>\n",
       "      <td>777962</td>\n",
       "      <td>A</td>\n",
       "      <td>1681</td>\n",
       "      <td>100</td>\n",
       "      <td>161117</td>\n",
       "      <td>2098</td>\n",
       "      <td>1000</td>\n",
       "      <td>0.801239</td>\n",
       "      <td>801.239276</td>\n",
       "    </tr>\n",
       "    <tr>\n",
       "      <th>5</th>\n",
       "      <td>../../GEN_DUMP/777962.161117.417.100_B.ID</td>\n",
       "      <td>777962</td>\n",
       "      <td>B</td>\n",
       "      <td>417</td>\n",
       "      <td>100</td>\n",
       "      <td>161117</td>\n",
       "      <td>2098</td>\n",
       "      <td>1000</td>\n",
       "      <td>0.198761</td>\n",
       "      <td>198.760724</td>\n",
       "    </tr>\n",
       "  </tbody>\n",
       "</table>\n",
       "</div>"
      ],
      "text/plain": [
       "                                         fname   array version  total breed  \\\n",
       "0  ../../GEN_DUMP/227234.161117.12083.100_B.ID  227234       B  12083   100   \n",
       "1    ../../GEN_DUMP/58336.161117.1062.100_C.ID   58336       C   1062   100   \n",
       "2     ../../GEN_DUMP/58336.161117.127.100_B.ID   58336       B    127   100   \n",
       "3    ../../GEN_DUMP/58336.161117.7744.100_A.ID   58336       A   7744   100   \n",
       "4   ../../GEN_DUMP/777962.161117.1681.100_A.ID  777962       A   1681   100   \n",
       "5    ../../GEN_DUMP/777962.161117.417.100_B.ID  777962       B    417   100   \n",
       "\n",
       "     date  totalsum  usenow  percentofchip   animal_use  \n",
       "0  161117     12083    2000       1.000000  2000.000000  \n",
       "1  161117      8933    2000       0.118885   237.770066  \n",
       "2  161117      8933    2000       0.014217    28.433897  \n",
       "3  161117      8933    2000       0.866898  1733.796037  \n",
       "4  161117      2098    1000       0.801239   801.239276  \n",
       "5  161117      2098    1000       0.198761   198.760724  "
      ]
     },
     "execution_count": 123,
     "metadata": {},
     "output_type": "execute_result"
    }
   ],
   "source": [
    "angframe['percentofchip'] = angframe['total'] / angframe.totalsum\n",
    "angframe['animal_use'] = angframe.percentofchip * angframe.usenow\n",
    "angframe"
   ]
  },
  {
   "cell_type": "code",
   "execution_count": 255,
   "metadata": {
    "collapsed": false
   },
   "outputs": [
    {
     "data": {
      "text/html": [
       "<div>\n",
       "<table border=\"1\" class=\"dataframe\">\n",
       "  <thead>\n",
       "    <tr style=\"text-align: right;\">\n",
       "      <th></th>\n",
       "      <th>fname</th>\n",
       "      <th>array</th>\n",
       "      <th>version</th>\n",
       "      <th>total</th>\n",
       "      <th>breed</th>\n",
       "      <th>date</th>\n",
       "      <th>totalsum</th>\n",
       "      <th>usenow</th>\n",
       "      <th>percentofchip</th>\n",
       "      <th>animal_use</th>\n",
       "    </tr>\n",
       "  </thead>\n",
       "  <tbody>\n",
       "    <tr>\n",
       "      <th>0</th>\n",
       "      <td>../../GEN_DUMP/227234.161117.12083.100_B.ID</td>\n",
       "      <td>227234</td>\n",
       "      <td>B</td>\n",
       "      <td>12083</td>\n",
       "      <td>100</td>\n",
       "      <td>161117</td>\n",
       "      <td>12083</td>\n",
       "      <td>2000</td>\n",
       "      <td>1.000000</td>\n",
       "      <td>2000.000000</td>\n",
       "    </tr>\n",
       "    <tr>\n",
       "      <th>1</th>\n",
       "      <td>../../GEN_DUMP/58336.161117.1062.100_C.ID</td>\n",
       "      <td>58336</td>\n",
       "      <td>C</td>\n",
       "      <td>1062</td>\n",
       "      <td>100</td>\n",
       "      <td>161117</td>\n",
       "      <td>8933</td>\n",
       "      <td>2000</td>\n",
       "      <td>0.118885</td>\n",
       "      <td>237.770066</td>\n",
       "    </tr>\n",
       "    <tr>\n",
       "      <th>2</th>\n",
       "      <td>../../GEN_DUMP/58336.161117.127.100_B.ID</td>\n",
       "      <td>58336</td>\n",
       "      <td>B</td>\n",
       "      <td>127</td>\n",
       "      <td>100</td>\n",
       "      <td>161117</td>\n",
       "      <td>8933</td>\n",
       "      <td>2000</td>\n",
       "      <td>0.014217</td>\n",
       "      <td>28.433897</td>\n",
       "    </tr>\n",
       "    <tr>\n",
       "      <th>3</th>\n",
       "      <td>../../GEN_DUMP/58336.161117.7744.100_A.ID</td>\n",
       "      <td>58336</td>\n",
       "      <td>A</td>\n",
       "      <td>7744</td>\n",
       "      <td>100</td>\n",
       "      <td>161117</td>\n",
       "      <td>8933</td>\n",
       "      <td>2000</td>\n",
       "      <td>0.866898</td>\n",
       "      <td>1733.796037</td>\n",
       "    </tr>\n",
       "    <tr>\n",
       "      <th>4</th>\n",
       "      <td>../../GEN_DUMP/777962.161117.1681.100_A.ID</td>\n",
       "      <td>777962</td>\n",
       "      <td>A</td>\n",
       "      <td>1681</td>\n",
       "      <td>100</td>\n",
       "      <td>161117</td>\n",
       "      <td>2098</td>\n",
       "      <td>1000</td>\n",
       "      <td>0.801239</td>\n",
       "      <td>801.239276</td>\n",
       "    </tr>\n",
       "    <tr>\n",
       "      <th>5</th>\n",
       "      <td>../../GEN_DUMP/777962.161117.417.100_B.ID</td>\n",
       "      <td>777962</td>\n",
       "      <td>B</td>\n",
       "      <td>417</td>\n",
       "      <td>100</td>\n",
       "      <td>161117</td>\n",
       "      <td>2098</td>\n",
       "      <td>1000</td>\n",
       "      <td>0.198761</td>\n",
       "      <td>198.760724</td>\n",
       "    </tr>\n",
       "  </tbody>\n",
       "</table>\n",
       "</div>"
      ],
      "text/plain": [
       "                                         fname   array version  total breed  \\\n",
       "0  ../../GEN_DUMP/227234.161117.12083.100_B.ID  227234       B  12083   100   \n",
       "1    ../../GEN_DUMP/58336.161117.1062.100_C.ID   58336       C   1062   100   \n",
       "2     ../../GEN_DUMP/58336.161117.127.100_B.ID   58336       B    127   100   \n",
       "3    ../../GEN_DUMP/58336.161117.7744.100_A.ID   58336       A   7744   100   \n",
       "4   ../../GEN_DUMP/777962.161117.1681.100_A.ID  777962       A   1681   100   \n",
       "5    ../../GEN_DUMP/777962.161117.417.100_B.ID  777962       B    417   100   \n",
       "\n",
       "     date  totalsum  usenow  percentofchip   animal_use  \n",
       "0  161117     12083    2000       1.000000  2000.000000  \n",
       "1  161117      8933    2000       0.118885   237.770066  \n",
       "2  161117      8933    2000       0.014217    28.433897  \n",
       "3  161117      8933    2000       0.866898  1733.796037  \n",
       "4  161117      2098    1000       0.801239   801.239276  \n",
       "5  161117      2098    1000       0.198761   198.760724  "
      ]
     },
     "execution_count": 255,
     "metadata": {},
     "output_type": "execute_result"
    }
   ],
   "source": [
    "angframe"
   ]
  },
  {
   "cell_type": "code",
   "execution_count": 138,
   "metadata": {
    "collapsed": false
   },
   "outputs": [
    {
     "data": {
      "text/plain": [
       "[2, 8, 5, 3, 6]"
      ]
     },
     "execution_count": 138,
     "metadata": {},
     "output_type": "execute_result"
    }
   ],
   "source": [
    "random.sample(range(10),5)"
   ]
  },
  {
   "cell_type": "code",
   "execution_count": 184,
   "metadata": {
    "collapsed": false
   },
   "outputs": [
    {
     "name": "stdout",
     "output_type": "stream",
     "text": [
      "../../GEN_DUMP/227234.161117.12083.100_B.ID 2000.0 12083\n",
      "../../GEN_DUMP/58336.161117.1062.100_C.ID 237.770066047 1062\n",
      "../../GEN_DUMP/58336.161117.127.100_B.ID 28.4338967872 127\n",
      "../../GEN_DUMP/58336.161117.7744.100_A.ID 1733.79603717 7744\n",
      "../../GEN_DUMP/777962.161117.1681.100_A.ID 801.2392755 1681\n",
      "../../GEN_DUMP/777962.161117.417.100_B.ID 198.7607245 417\n"
     ]
    },
    {
     "data": {
      "text/plain": [
       "('../../GEN_DUMP/777962.161117.417.100_B.ID', 417, 198.76072449952338)"
      ]
     },
     "execution_count": 184,
     "metadata": {},
     "output_type": "execute_result"
    }
   ],
   "source": [
    "allanimals = []\n",
    "perarray = defaultdict(list)\n",
    "for f in angframe.itertuples():\n",
    "    print(f[1],f[-1],f[4])\n",
    "    fname,touse,total,array = f[1],f[-1],f[4],f[2]\n",
    "    fix = random.sample(range(total),int(touse))\n",
    "    bix = idgrab(fname)\n",
    "    perarray[array].append(bix)\n",
    "    allanimals =allanimals + bix\n",
    "    \n",
    "fname,total,touse"
   ]
  },
  {
   "cell_type": "code",
   "execution_count": 193,
   "metadata": {
    "collapsed": false
   },
   "outputs": [
    {
     "data": {
      "text/plain": [
       "[8933, 12083, 2098]"
      ]
     },
     "execution_count": 193,
     "metadata": {},
     "output_type": "execute_result"
    }
   ],
   "source": [
    "arraynames = {}\n",
    "for i in perarray:\n",
    "    arraynames[i] = [val for sublist in perarray[i] for val in sublist]\n",
    "[len(i) for i in arraynames.values()]\n",
    "#perarray['58336'][1][:20]"
   ]
  },
  {
   "cell_type": "code",
   "execution_count": 197,
   "metadata": {
    "collapsed": false
   },
   "outputs": [],
   "source": [
    "arraynames = {}\n",
    "for i in perarray:\n",
    "    arraynames[i] = set([val for sublist in perarray[i] for val in sublist])\n",
    "[len(i) for i in arraynames.values()]\n",
    "animalrecords = {}\n",
    "\n",
    "for i in arraynames:\n",
    "    animalrecords[i] = defaultdict(int)\n",
    "    for t in arraynames[i]:\n",
    "        animalrecords[i][t]= animalrecords[i][t]+1"
   ]
  },
  {
   "cell_type": "code",
   "execution_count": 203,
   "metadata": {
    "collapsed": false
   },
   "outputs": [
    {
     "data": {
      "text/plain": [
       "(21569, 3)"
      ]
     },
     "execution_count": 203,
     "metadata": {},
     "output_type": "execute_result"
    }
   ],
   "source": [
    "chipperanimal = pd.DataFrame(animalrecords)\n",
    "chipperanimal.shape"
   ]
  },
  {
   "cell_type": "code",
   "execution_count": 205,
   "metadata": {
    "collapsed": false
   },
   "outputs": [
    {
     "data": {
      "text/plain": [
       "23105.0"
      ]
     },
     "execution_count": 205,
     "metadata": {},
     "output_type": "execute_result"
    }
   ],
   "source": [
    "chipperanimal.sum().sum()"
   ]
  },
  {
   "cell_type": "code",
   "execution_count": 230,
   "metadata": {
    "collapsed": false
   },
   "outputs": [
    {
     "data": {
      "text/html": [
       "<div>\n",
       "<table border=\"1\" class=\"dataframe\">\n",
       "  <thead>\n",
       "    <tr style=\"text-align: right;\">\n",
       "      <th></th>\n",
       "      <th>227234</th>\n",
       "      <th>58336</th>\n",
       "      <th>777962</th>\n",
       "      <th>sum</th>\n",
       "    </tr>\n",
       "  </thead>\n",
       "  <tbody>\n",
       "    <tr>\n",
       "      <th>AANUSAF000017102723</th>\n",
       "      <td>0.0</td>\n",
       "      <td>0.0</td>\n",
       "      <td>1.0</td>\n",
       "      <td>1.0</td>\n",
       "    </tr>\n",
       "    <tr>\n",
       "      <th>AANUSAF000017102725</th>\n",
       "      <td>0.0</td>\n",
       "      <td>0.0</td>\n",
       "      <td>1.0</td>\n",
       "      <td>1.0</td>\n",
       "    </tr>\n",
       "    <tr>\n",
       "      <th>AANUSAF000017102733</th>\n",
       "      <td>0.0</td>\n",
       "      <td>0.0</td>\n",
       "      <td>1.0</td>\n",
       "      <td>1.0</td>\n",
       "    </tr>\n",
       "    <tr>\n",
       "      <th>AANUSAF000017102750</th>\n",
       "      <td>0.0</td>\n",
       "      <td>0.0</td>\n",
       "      <td>1.0</td>\n",
       "      <td>1.0</td>\n",
       "    </tr>\n",
       "    <tr>\n",
       "      <th>AANUSAF000017102754</th>\n",
       "      <td>0.0</td>\n",
       "      <td>0.0</td>\n",
       "      <td>1.0</td>\n",
       "      <td>1.0</td>\n",
       "    </tr>\n",
       "  </tbody>\n",
       "</table>\n",
       "</div>"
      ],
      "text/plain": [
       "                     227234  58336  777962  sum\n",
       "AANUSAF000017102723     0.0    0.0     1.0  1.0\n",
       "AANUSAF000017102725     0.0    0.0     1.0  1.0\n",
       "AANUSAF000017102733     0.0    0.0     1.0  1.0\n",
       "AANUSAF000017102750     0.0    0.0     1.0  1.0\n",
       "AANUSAF000017102754     0.0    0.0     1.0  1.0"
      ]
     },
     "execution_count": 230,
     "metadata": {},
     "output_type": "execute_result"
    }
   ],
   "source": [
    "chipperanimal.fillna(0,inplace=True)\n",
    "chipperanimal['sum'] = chipperanimal.sum(axis=1)\n",
    "chipperanimal.head()"
   ]
  },
  {
   "cell_type": "code",
   "execution_count": 275,
   "metadata": {
    "collapsed": false
   },
   "outputs": [
    {
     "data": {
      "text/plain": [
       "Index(['UMCUSAU000000091543', 'UMCUSAU000000091716', 'UMCUSAF000000108463',\n",
       "       'UMCUSAU000000091450', 'UMCUSAU000000092139', 'UMCUSAU000000091448',\n",
       "       'UMCUSAU000000092321', 'UMCUSAU000000091636', 'UMCUSAU000000091844',\n",
       "       'UMCUSAU000000091986', 'UMCUSAF000000108310', 'UMCUSAU000000092132',\n",
       "       'UMCUSAU000000091942', 'UMCUSAU000000091703', 'UMCUSAU000000091912',\n",
       "       'UMCUSAM000000073570', 'UMCUSAU000000091615', 'UMCUSAF000000108193',\n",
       "       'UMCUSAM000000073693', 'UMCUSAU000000092340'],\n",
       "      dtype='object')"
      ]
     },
     "execution_count": 275,
     "metadata": {},
     "output_type": "execute_result"
    }
   ],
   "source": [
    "snp50set = chipperanimal[(chipperanimal['227234'] == 0) & (chipperanimal['58336'] == 1) &(chipperanimal['777962'] == 0)]\n",
    "f250set = chipperanimal[(chipperanimal['227234'] == 1) & (chipperanimal['58336'] == 0) &(chipperanimal['777962'] == 0)]\n",
    "hdset = chipperanimal[(chipperanimal['227234'] == 0) & (chipperanimal['58336'] == 0) &(chipperanimal['777962'] == 1)]\n",
    "f250snp50 = chipperanimal[(chipperanimal['227234'] == 1) & (chipperanimal['58336'] == 1) &(chipperanimal['777962'] == 0)]\n",
    "f250snp50.sample(20).index"
   ]
  },
  {
   "cell_type": "markdown",
   "metadata": {},
   "source": [
    "# This will be used for making random samples of animals who are not on multiple chips\n",
    "# These animals should all be processed and then merged into one file, they can be pulled out of there. \n",
    "# duplicate animals can be merged into seperate file, or kept in their original files\n",
    "# animals that are f250 and chip should perhaps be prioritized, but with only their f250 data, or with their full complement of data, but not for the animals being tested.  \n"
   ]
  },
  {
   "cell_type": "code",
   "execution_count": 304,
   "metadata": {
    "collapsed": false
   },
   "outputs": [
    {
     "data": {
      "text/plain": [
       "['AANUSAM000013567961',\n",
       " 'AANUSAM000013009185',\n",
       " 'AANUSAM000013035015',\n",
       " 'UMCUSAU000000087844',\n",
       " 'AANUSAM000013311158',\n",
       " 'AANUSAM000013505534',\n",
       " 'UMCUSAM000000076491',\n",
       " 'UMCUSAM000000080846',\n",
       " 'AANUSAM000013286230',\n",
       " 'AANUSAM000009255702']"
      ]
     },
     "execution_count": 304,
     "metadata": {},
     "output_type": "execute_result"
    }
   ],
   "source": [
    "double = f250snp50.sample(600).index.tolist()\n",
    "double[:10]"
   ]
  },
  {
   "cell_type": "code",
   "execution_count": 311,
   "metadata": {
    "collapsed": false
   },
   "outputs": [],
   "source": [
    "funcset = f250set.sample(400).index.tolist()"
   ]
  },
  {
   "cell_type": "code",
   "execution_count": 314,
   "metadata": {
    "collapsed": false
   },
   "outputs": [],
   "source": [
    "fiftyset = snp50set.sample(1000).index.tolist()\n",
    "hdout = hdset.sample(1000).index.tolist()"
   ]
  },
  {
   "cell_type": "markdown",
   "metadata": {},
   "source": [
    "# merge all assays togehter first"
   ]
  },
  {
   "cell_type": "code",
   "execution_count": 271,
   "metadata": {
    "collapsed": false
   },
   "outputs": [
    {
     "data": {
      "text/html": [
       "<div>\n",
       "<table border=\"1\" class=\"dataframe\">\n",
       "  <thead>\n",
       "    <tr style=\"text-align: right;\">\n",
       "      <th></th>\n",
       "      <th>227234</th>\n",
       "      <th>58336</th>\n",
       "      <th>777962</th>\n",
       "      <th>sum</th>\n",
       "    </tr>\n",
       "  </thead>\n",
       "  <tbody>\n",
       "    <tr>\n",
       "      <th>count</th>\n",
       "      <td>240.000000</td>\n",
       "      <td>240.000000</td>\n",
       "      <td>240.0</td>\n",
       "      <td>240.000000</td>\n",
       "    </tr>\n",
       "    <tr>\n",
       "      <th>mean</th>\n",
       "      <td>0.700000</td>\n",
       "      <td>0.587500</td>\n",
       "      <td>1.0</td>\n",
       "      <td>2.287500</td>\n",
       "    </tr>\n",
       "    <tr>\n",
       "      <th>std</th>\n",
       "      <td>0.459215</td>\n",
       "      <td>0.493313</td>\n",
       "      <td>0.0</td>\n",
       "      <td>0.453543</td>\n",
       "    </tr>\n",
       "    <tr>\n",
       "      <th>min</th>\n",
       "      <td>0.000000</td>\n",
       "      <td>0.000000</td>\n",
       "      <td>1.0</td>\n",
       "      <td>2.000000</td>\n",
       "    </tr>\n",
       "    <tr>\n",
       "      <th>25%</th>\n",
       "      <td>0.000000</td>\n",
       "      <td>0.000000</td>\n",
       "      <td>1.0</td>\n",
       "      <td>2.000000</td>\n",
       "    </tr>\n",
       "    <tr>\n",
       "      <th>50%</th>\n",
       "      <td>1.000000</td>\n",
       "      <td>1.000000</td>\n",
       "      <td>1.0</td>\n",
       "      <td>2.000000</td>\n",
       "    </tr>\n",
       "    <tr>\n",
       "      <th>75%</th>\n",
       "      <td>1.000000</td>\n",
       "      <td>1.000000</td>\n",
       "      <td>1.0</td>\n",
       "      <td>3.000000</td>\n",
       "    </tr>\n",
       "    <tr>\n",
       "      <th>max</th>\n",
       "      <td>1.000000</td>\n",
       "      <td>1.000000</td>\n",
       "      <td>1.0</td>\n",
       "      <td>3.000000</td>\n",
       "    </tr>\n",
       "  </tbody>\n",
       "</table>\n",
       "</div>"
      ],
      "text/plain": [
       "           227234       58336  777962         sum\n",
       "count  240.000000  240.000000   240.0  240.000000\n",
       "mean     0.700000    0.587500     1.0    2.287500\n",
       "std      0.459215    0.493313     0.0    0.453543\n",
       "min      0.000000    0.000000     1.0    2.000000\n",
       "25%      0.000000    0.000000     1.0    2.000000\n",
       "50%      1.000000    1.000000     1.0    2.000000\n",
       "75%      1.000000    1.000000     1.0    3.000000\n",
       "max      1.000000    1.000000     1.0    3.000000"
      ]
     },
     "execution_count": 271,
     "metadata": {},
     "output_type": "execute_result"
    }
   ],
   "source": [
    "chipperanimal[(chipperanimal['sum'] > 1) &(chipperanimal['777962'] == 1) ].describe()"
   ]
  },
  {
   "cell_type": "code",
   "execution_count": 251,
   "metadata": {
    "collapsed": false
   },
   "outputs": [
    {
     "data": {
      "text/plain": [
       "(69, 4)"
      ]
     },
     "execution_count": 251,
     "metadata": {},
     "output_type": "execute_result"
    }
   ],
   "source": [
    "threechips = chipperanimal[(chipperanimal['227234'] == 1) & (chipperanimal['58336'] == 1) &(chipperanimal['777962'] == 1)]\n",
    "threechips.head()\n",
    "threechips.shape"
   ]
  },
  {
   "cell_type": "code",
   "execution_count": 164,
   "metadata": {
    "collapsed": false
   },
   "outputs": [
    {
     "name": "stdout",
     "output_type": "stream",
     "text": [
      "23114\n"
     ]
    },
    {
     "data": {
      "text/plain": [
       "[('AANUSAM000013531361', 3),\n",
       " ('AANUSAM000012227124', 3),\n",
       " ('AANUSAM000014257843', 3),\n",
       " ('AANUSAM000014000000', 3),\n",
       " ('AANUSAM000010776479', 3),\n",
       " ('AANUSAM000008781383', 3),\n",
       " ('AANUSAM000011216428', 3),\n",
       " ('AANUSAM000008477778', 3),\n",
       " ('AANUSAM000015150605', 3),\n",
       " ('AANUSAM000013627964', 3)]"
      ]
     },
     "execution_count": 164,
     "metadata": {},
     "output_type": "execute_result"
    }
   ],
   "source": [
    "print(len(allanimals))\n",
    "len(set(allanimals))\n",
    "Counter(allanimals).most_common(10)"
   ]
  },
  {
   "cell_type": "code",
   "execution_count": 153,
   "metadata": {
    "collapsed": false
   },
   "outputs": [
    {
     "name": "stdout",
     "output_type": "stream",
     "text": [
      "UMCUSAF000000109651\n"
     ]
    }
   ],
   "source": [
    "def idgrab(idfile):\n",
    "    temp = []\n",
    "    with open(idfile) as fp:\n",
    "        for line in fp:\n",
    "            name = line.split()[1]\n",
    "            temp.append(name)\n",
    "    return temp\n",
    "print(name)"
   ]
  },
  {
   "cell_type": "code",
   "execution_count": 273,
   "metadata": {
    "collapsed": false
   },
   "outputs": [
    {
     "ename": "TypeError",
     "evalue": "idgrab() takes 1 positional argument but 2 were given",
     "output_type": "error",
     "traceback": [
      "\u001b[0;31m---------------------------------------------------------------------------\u001b[0m",
      "\u001b[0;31mTypeError\u001b[0m                                 Traceback (most recent call last)",
      "\u001b[0;32m<ipython-input-273-9d780160b4fa>\u001b[0m in \u001b[0;36m<module>\u001b[0;34m()\u001b[0m\n\u001b[0;32m----> 1\u001b[0;31m \u001b[0mlen\u001b[0m\u001b[0;34m(\u001b[0m\u001b[0midgrab\u001b[0m\u001b[0;34m(\u001b[0m\u001b[0mfname\u001b[0m\u001b[0;34m,\u001b[0m\u001b[0mset\u001b[0m\u001b[0;34m(\u001b[0m\u001b[0mfix\u001b[0m\u001b[0;34m)\u001b[0m\u001b[0;34m)\u001b[0m\u001b[0;34m)\u001b[0m\u001b[0;34m\u001b[0m\u001b[0m\n\u001b[0m",
      "\u001b[0;31mTypeError\u001b[0m: idgrab() takes 1 positional argument but 2 were given"
     ]
    }
   ],
   "source": [
    "len(idgrab(fname,set(fix)))"
   ]
  },
  {
   "cell_type": "code",
   "execution_count": 223,
   "metadata": {
    "collapsed": false
   },
   "outputs": [
    {
     "data": {
      "text/plain": [
       "['AANUSAM000011393414',\n",
       " 'AANUSAM000012886399',\n",
       " 'AANUSAM000012588547',\n",
       " 'AANUSAM000012363922',\n",
       " 'AANUSAM000014000000',\n",
       " 'AANUSAM000011462197',\n",
       " 'AANUSAM000012502030',\n",
       " 'AANUSAM000012240991',\n",
       " 'AANUSAM000013300751',\n",
       " 'AANUSAM000011994601']"
      ]
     },
     "execution_count": 223,
     "metadata": {},
     "output_type": "execute_result"
    }
   ],
   "source": [
    "bobtest = idgrab('../raw_genotypes/777962.160906.75.imp_test.ID')"
   ]
  },
  {
   "cell_type": "code",
   "execution_count": 245,
   "metadata": {
    "collapsed": false
   },
   "outputs": [
    {
     "data": {
      "text/html": [
       "<div>\n",
       "<table border=\"1\" class=\"dataframe\">\n",
       "  <thead>\n",
       "    <tr style=\"text-align: right;\">\n",
       "      <th></th>\n",
       "      <th>227234</th>\n",
       "      <th>58336</th>\n",
       "      <th>777962</th>\n",
       "      <th>sum</th>\n",
       "    </tr>\n",
       "  </thead>\n",
       "  <tbody>\n",
       "    <tr>\n",
       "      <th>AANUSAM000009911822</th>\n",
       "      <td>1.0</td>\n",
       "      <td>1.0</td>\n",
       "      <td>0.0</td>\n",
       "      <td>2.0</td>\n",
       "    </tr>\n",
       "    <tr>\n",
       "      <th>AANUSAM000012729973</th>\n",
       "      <td>0.0</td>\n",
       "      <td>1.0</td>\n",
       "      <td>1.0</td>\n",
       "      <td>2.0</td>\n",
       "    </tr>\n",
       "    <tr>\n",
       "      <th>AANUSAM000005221298</th>\n",
       "      <td>0.0</td>\n",
       "      <td>1.0</td>\n",
       "      <td>1.0</td>\n",
       "      <td>2.0</td>\n",
       "    </tr>\n",
       "    <tr>\n",
       "      <th>AANUSAM000011060761</th>\n",
       "      <td>1.0</td>\n",
       "      <td>1.0</td>\n",
       "      <td>0.0</td>\n",
       "      <td>2.0</td>\n",
       "    </tr>\n",
       "    <tr>\n",
       "      <th>AANUSAM000013085417</th>\n",
       "      <td>1.0</td>\n",
       "      <td>1.0</td>\n",
       "      <td>0.0</td>\n",
       "      <td>2.0</td>\n",
       "    </tr>\n",
       "    <tr>\n",
       "      <th>AANUSAM000015134182</th>\n",
       "      <td>1.0</td>\n",
       "      <td>1.0</td>\n",
       "      <td>0.0</td>\n",
       "      <td>2.0</td>\n",
       "    </tr>\n",
       "  </tbody>\n",
       "</table>\n",
       "</div>"
      ],
      "text/plain": [
       "                     227234  58336  777962  sum\n",
       "AANUSAM000009911822     1.0    1.0     0.0  2.0\n",
       "AANUSAM000012729973     0.0    1.0     1.0  2.0\n",
       "AANUSAM000005221298     0.0    1.0     1.0  2.0\n",
       "AANUSAM000011060761     1.0    1.0     0.0  2.0\n",
       "AANUSAM000013085417     1.0    1.0     0.0  2.0\n",
       "AANUSAM000015134182     1.0    1.0     0.0  2.0"
      ]
     },
     "execution_count": 245,
     "metadata": {},
     "output_type": "execute_result"
    }
   ],
   "source": [
    "bobanimal = chipperanimal.loc[bobtest]\n",
    "bobanimal.sort_values(by='sum').head(6)"
   ]
  },
  {
   "cell_type": "code",
   "execution_count": 253,
   "metadata": {
    "collapsed": false
   },
   "outputs": [
    {
     "name": "stdout",
     "output_type": "stream",
     "text": [
      "../../GEN_DUMP/58336.161117.7744.100_A.ID: 1230 AANUSAM000005221298\r\n",
      "../../GEN_DUMP/777962.161117.1681.100_A.ID: 80 AANUSAM000005221298\r\n"
     ]
    }
   ],
   "source": [
    "! grep 'AANUSAM000005221298' ../../GEN_DUMP/*.100*.ID\n"
   ]
  },
  {
   "cell_type": "code",
   "execution_count": 254,
   "metadata": {
    "collapsed": false
   },
   "outputs": [
    {
     "name": "stdout",
     "output_type": "stream",
     "text": [
      "../raw_genotypes/227234.160906.75.imp_test.ID: 62 AANUSAM000005221298\r\n",
      "../raw_genotypes/58336.160906.75.imp_test.ID: 46 AANUSAM000005221298\r\n",
      "../raw_genotypes/777962.160906.100.test_hd_A.ID: 84 AANUSAM000005221298\r\n",
      "../raw_genotypes/777962.160906.75.imp_test.ID: 46 AANUSAM000005221298\r\n"
     ]
    }
   ],
   "source": [
    "! grep 'AANUSAM000005221298' ../raw_genotypes/*.ID"
   ]
  },
  {
   "cell_type": "code",
   "execution_count": 249,
   "metadata": {
    "collapsed": false
   },
   "outputs": [
    {
     "data": {
      "text/plain": [
       "True"
      ]
     },
     "execution_count": 249,
     "metadata": {},
     "output_type": "execute_result"
    }
   ],
   "source": [
    "for f in angframe.itertuples():"
   ]
  },
  {
   "cell_type": "code",
   "execution_count": 64,
   "metadata": {
    "collapsed": false
   },
   "outputs": [
    {
     "data": {
      "text/plain": [
       "count    12083\n",
       "Name: 227234, dtype: int64"
      ]
     },
     "execution_count": 64,
     "metadata": {},
     "output_type": "execute_result"
    }
   ],
   "source": [
    "perChip.loc['227234']"
   ]
  },
  {
   "cell_type": "code",
   "execution_count": null,
   "metadata": {
    "collapsed": true
   },
   "outputs": [],
   "source": [
    "for f in angframe.itertuples():\n",
    "    print(f[1],f[-1],f[4])\n",
    "    fname,touse,total,array = f[1],f[-1],f[4],f[2]\n",
    "    fix = random.sample(range(total),int(touse))\n",
    "    bix = idgrab(fname)\n",
    "    perarray[array].append(bix)\n",
    "    allanimals =allanimals + bix"
   ]
  },
  {
   "cell_type": "code",
   "execution_count": null,
   "metadata": {
    "collapsed": true
   },
   "outputs": [],
   "source": []
  }
 ],
 "metadata": {
  "anaconda-cloud": {},
  "kernelspec": {
   "display_name": "Python [conda env:Imp3]",
   "language": "python",
   "name": "conda-env-Imp3-py"
  },
  "language_info": {
   "codemirror_mode": {
    "name": "ipython",
    "version": 3
   },
   "file_extension": ".py",
   "mimetype": "text/x-python",
   "name": "python",
   "nbconvert_exporter": "python",
   "pygments_lexer": "ipython3",
   "version": "3.5.2"
  }
 },
 "nbformat": 4,
 "nbformat_minor": 1
}
