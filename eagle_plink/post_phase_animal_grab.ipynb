{
 "cells": [
  {
   "cell_type": "code",
   "execution_count": 73,
   "metadata": {
    "collapsed": true
   },
   "outputs": [],
   "source": [
    "import pandas as pd\n",
    "import random\n",
    "import numpy as np\n",
    "import glob\n",
    "from collections import Counter\n",
    "from collections import defaultdict"
   ]
  },
  {
   "cell_type": "code",
   "execution_count": 7,
   "metadata": {
    "collapsed": false
   },
   "outputs": [],
   "source": [
    "imputeanimal = []\n",
    "fam = open('./accutestf250_small_1.chr20.fam')\n",
    "for i in fam:\n",
    "    imputeanimal.append(i.split()[0])\n"
   ]
  },
  {
   "cell_type": "code",
   "execution_count": 3,
   "metadata": {
    "collapsed": true
   },
   "outputs": [],
   "source": [
    "import glob"
   ]
  },
  {
   "cell_type": "code",
   "execution_count": 40,
   "metadata": {
    "collapsed": false
   },
   "outputs": [
    {
     "data": {
      "text/plain": [
       "['../hwe_filtered/227234.161117.12083.100_B.fam',\n",
       " '../hwe_filtered/58336.161117.1062.100_C.fam',\n",
       " '../hwe_filtered/58336.161117.127.100_B.fam',\n",
       " '../hwe_filtered/58336.161117.7744.100_A.fam',\n",
       " '../hwe_filtered/777962.161117.1681.100_A.fam',\n",
       " '../hwe_filtered/777962.161117.417.100_B.fam']"
      ]
     },
     "execution_count": 40,
     "metadata": {},
     "output_type": "execute_result"
    }
   ],
   "source": [
    "samples = glob.glob('../hwe_filtered/*.100*.fam')\n",
    "samples"
   ]
  },
  {
   "cell_type": "code",
   "execution_count": 54,
   "metadata": {
    "collapsed": false
   },
   "outputs": [
    {
     "data": {
      "text/plain": [
       "['../hwe_filtered/777962.161117.1681.100_A.fam',\n",
       " '../hwe_filtered/777962.161117.417.100_B.fam',\n",
       " '../hwe_filtered/227234.161117.12083.100_B.fam',\n",
       " '../hwe_filtered/58336.161117.1062.100_C.fam',\n",
       " '../hwe_filtered/58336.161117.127.100_B.fam',\n",
       " '../hwe_filtered/58336.161117.7744.100_A.fam']"
      ]
     },
     "execution_count": 54,
     "metadata": {},
     "output_type": "execute_result"
    }
   ],
   "source": [
    "samples=sorted(samples, key=lambda sample: int(sample.split('/')[2].split('.')[0]),reverse=True)\n",
    "samples"
   ]
  },
  {
   "cell_type": "code",
   "execution_count": 65,
   "metadata": {
    "collapsed": false
   },
   "outputs": [],
   "source": [
    "peranimal = defaultdict(list)\n",
    "for idfile in samples:\n",
    "    temp = []\n",
    "    with open(idfile) as fp:\n",
    "        for line in fp:\n",
    "            name = line.split()[1]\n",
    "            peranimal[name].append(idfile)"
   ]
  },
  {
   "cell_type": "code",
   "execution_count": 72,
   "metadata": {
    "collapsed": false
   },
   "outputs": [],
   "source": [
    "arrayset = defaultdict(list)\n",
    "for i in imputeanimal:\n",
    "    arrayset[peranimal[i][0]].append(i)"
   ]
  },
  {
   "cell_type": "code",
   "execution_count": 67,
   "metadata": {
    "collapsed": false
   },
   "outputs": [
    {
     "data": {
      "text/plain": [
       "['UMCUSAF000000108161',\n",
       " 'UMCUSAF000000108165',\n",
       " 'UMCUSAF000000108166',\n",
       " 'UMCUSAF000000108167',\n",
       " 'UMCUSAF000000108176',\n",
       " 'UMCUSAF000000108180',\n",
       " 'UMCUSAF000000108181',\n",
       " 'UMCUSAF000000108184',\n",
       " 'UMCUSAF000000108191',\n",
       " 'UMCUSAF000000108193']"
      ]
     },
     "execution_count": 67,
     "metadata": {},
     "output_type": "execute_result"
    }
   ],
   "source": [
    "arrayset['../hwe_filtered/777962.161117.417.100_B.fam'][:10]"
   ]
  },
  {
   "cell_type": "code",
   "execution_count": 71,
   "metadata": {
    "collapsed": false
   },
   "outputs": [
    {
     "data": {
      "text/plain": [
       "'../hwe_filtered/58336.161117.1062.100_C.fam'"
      ]
     },
     "execution_count": 71,
     "metadata": {},
     "output_type": "execute_result"
    }
   ],
   "source": [
    "peranimal[i][0]"
   ]
  },
  {
   "cell_type": "code",
   "execution_count": 69,
   "metadata": {
    "collapsed": false
   },
   "outputs": [
    {
     "data": {
      "text/plain": [
       "dict_keys(['../hwe_filtered/58336.161117.127.100_B.fam', '../hwe_filtered/227234.161117.12083.100_B.fam', '../hwe_filtered/777962.161117.1681.100_A.fam', '../hwe_filtered/777962.161117.417.100_B.fam', '../hwe_filtered/58336.161117.7744.100_A.fam', '../hwe_filtered/58336.161117.1062.100_C.fam'])"
      ]
     },
     "execution_count": 69,
     "metadata": {},
     "output_type": "execute_result"
    }
   ],
   "source": [
    "arrayset.keys()"
   ]
  },
  {
   "cell_type": "code",
   "execution_count": 70,
   "metadata": {
    "collapsed": false
   },
   "outputs": [
    {
     "name": "stdout",
     "output_type": "stream",
     "text": [
      "../hwe_filtered/58336.161117.127.100_B.fam\n",
      "phased_58336.161117.127.100_B.keep\n",
      "../hwe_filtered/227234.161117.12083.100_B.fam\n",
      "phased_227234.161117.12083.100_B.keep\n",
      "../hwe_filtered/777962.161117.1681.100_A.fam\n",
      "phased_777962.161117.1681.100_A.keep\n",
      "../hwe_filtered/777962.161117.417.100_B.fam\n",
      "phased_777962.161117.417.100_B.keep\n",
      "../hwe_filtered/58336.161117.7744.100_A.fam\n",
      "phased_58336.161117.7744.100_A.keep\n",
      "../hwe_filtered/58336.161117.1062.100_C.fam\n",
      "phased_58336.161117.1062.100_C.keep\n"
     ]
    }
   ],
   "source": [
    "\n",
    "for k,v in arrayset.items():\n",
    "    print(k)\n",
    "    name = 'phased_' +  k.lstrip(\"../hwe_filtered/\").rstrip('.fam') + '.keep'\n",
    "    print(name)\n",
    "    filout = open(name,'w')\n",
    "    for i in v:\n",
    "        filout.write(' '.join([i,i,'\\n']))\n",
    "    filout.close()"
   ]
  },
  {
   "cell_type": "code",
   "execution_count": 107,
   "metadata": {
    "collapsed": false
   },
   "outputs": [
    {
     "name": "stdout",
     "output_type": "stream",
     "text": [
      "../hwe_filtered/58336.161117.127.100_B.fam\n",
      "phased_58336.161117.127.100_B.keepvcf\n",
      "../hwe_filtered/227234.161117.12083.100_B.fam\n",
      "phased_227234.161117.12083.100_B.keepvcf\n",
      "../hwe_filtered/777962.161117.1681.100_A.fam\n",
      "phased_777962.161117.1681.100_A.keepvcf\n",
      "../hwe_filtered/777962.161117.417.100_B.fam\n",
      "phased_777962.161117.417.100_B.keepvcf\n",
      "../hwe_filtered/58336.161117.7744.100_A.fam\n",
      "phased_58336.161117.7744.100_A.keepvcf\n",
      "../hwe_filtered/58336.161117.1062.100_C.fam\n",
      "phased_58336.161117.1062.100_C.keepvcf\n"
     ]
    }
   ],
   "source": [
    "\n",
    "for k,v in arrayset.items():\n",
    "    print(k)\n",
    "    name = 'phased_' +  k.lstrip(\"../hwe_filtered/\").rstrip('.fam') + '.keepvcf'\n",
    "    print(name)\n",
    "    filout = open(name,'w')\n",
    "    for i in v:\n",
    "        filout.write(''.join([i,'\\n']))\n",
    "    filout.close()"
   ]
  },
  {
   "cell_type": "code",
   "execution_count": 106,
   "metadata": {
    "collapsed": false
   },
   "outputs": [
    {
     "name": "stdout",
     "output_type": "stream",
     "text": [
      "AANUSAF000017602191 \r\n",
      "AANUSAF000017602193 \r\n",
      "AANUSAF000017602195 \r\n",
      "AANUSAF000017602196 \r\n",
      "AANUSAF000017602197 \r\n",
      "AANUSAF000017602198 \r\n",
      "AANUSAF000017602199 \r\n",
      "AANUSAF000017667257 \r\n",
      "AANUSAF000017667261 \r\n",
      "AANUSAF000017667262 \r\n"
     ]
    }
   ],
   "source": [
    "! head phased_227234.161117.12083.100_B.keepvcf"
   ]
  },
  {
   "cell_type": "code",
   "execution_count": 76,
   "metadata": {
    "collapsed": false
   },
   "outputs": [
    {
     "data": {
      "text/plain": [
       "['../hwe_filtered/227234.161117.12083.100_B.bim',\n",
       " '../hwe_filtered/58336.161117.1062.100_C.bim',\n",
       " '../hwe_filtered/58336.161117.127.100_B.bim',\n",
       " '../hwe_filtered/58336.161117.7744.100_A.bim',\n",
       " '../hwe_filtered/777962.161117.1681.100_A.bim',\n",
       " '../hwe_filtered/777962.161117.417.100_B.bim']"
      ]
     },
     "execution_count": 76,
     "metadata": {},
     "output_type": "execute_result"
    }
   ],
   "source": [
    "maps = glob.glob('../hwe_filtered/*.100*.bim')\n",
    "maps"
   ]
  },
  {
   "cell_type": "code",
   "execution_count": 87,
   "metadata": {
    "collapsed": false
   },
   "outputs": [
    {
     "name": "stdout",
     "output_type": "stream",
     "text": [
      "phased_227234.161117.12083.100_B.extract\n",
      "phased_58336.161117.1062.100_C.extract\n",
      "phased_58336.161117.127.100_B.extract\n",
      "phased_58336.161117.7744.100_A.extract\n",
      "phased_777962.161117.1681.100_A.extract\n",
      "phased_777962.161117.417.100_B.extract\n"
     ]
    }
   ],
   "source": [
    "for mapfile in maps:\n",
    "    name = 'phased_' +  mapfile.lstrip(\"../hwe_filtered/\").rstrip('.bim') + '.extract'\n",
    "    print(name)\n",
    "    filout = open(name,'w')\n",
    "    with open(mapfile) as fp:\n",
    "        for line in fp:\n",
    "            site = line.split()[1]\n",
    "            filout.write(site + '\\n')\n",
    "    filout.close()\n",
    "            "
   ]
  },
  {
   "cell_type": "code",
   "execution_count": 102,
   "metadata": {
    "collapsed": false
   },
   "outputs": [
    {
     "name": "stdout",
     "output_type": "stream",
     "text": [
      "phased_227234.161117.12083.100_B.vcfregion\n",
      "phased_58336.161117.1062.100_C.vcfregion\n",
      "phased_58336.161117.127.100_B.vcfregion\n",
      "phased_58336.161117.7744.100_A.vcfregion\n",
      "phased_777962.161117.1681.100_A.vcfregion\n",
      "phased_777962.161117.417.100_B.vcfregion\n"
     ]
    }
   ],
   "source": [
    "for mapfile in maps:\n",
    "    name = 'phased_' +  mapfile.lstrip(\"../hwe_filtered/\").rstrip('.bim') + '.vcfregion'\n",
    "    print(name)\n",
    "    filout = open(name,'w')\n",
    "    with open(mapfile) as fp:\n",
    "        for line in fp:\n",
    "            site = line.split()[3]\n",
    "            chr = line.split()[0]\n",
    "            filout.write(chr + '\\t' + site + '\\n')\n",
    "    filout.close()"
   ]
  },
  {
   "cell_type": "code",
   "execution_count": 101,
   "metadata": {
    "collapsed": false
   },
   "outputs": [
    {
     "name": "stdout",
     "output_type": "stream",
     "text": [
      "1\t217986\t0.019832\t19832\tA\tB\r\n",
      "1\t252907\t0.0706\t70600\tA\t0\r\n",
      "1\t1023767\t0.120183\t120183\tA\tB\r\n",
      "1\t211032\t0.123681\t123681\tB\tA\r\n",
      "1\t211044\t0.123782\t123782\tB\tA\r\n",
      "1\t211117\t0.124921\t124921\tA\t0\r\n",
      "1\t51032\t0.135098\t135098\tA\tB\r\n",
      "1\t220703\t0.264526\t264526\tA\t0\r\n",
      "1\t220727\t0.264765\t264765\tB\t0\r\n",
      "1\t220736\t0.264831\t264831\tB\t0\r\n"
     ]
    }
   ],
   "source": [
    "! head ../hwe_filtered/227234.160906.75.imp_test.bim"
   ]
  },
  {
   "cell_type": "code",
   "execution_count": 88,
   "metadata": {
    "collapsed": false
   },
   "outputs": [
    {
     "name": "stdout",
     "output_type": "stream",
     "text": [
      "  192869 phased_227234.161117.12083.100_B.extract\n",
      "   49243 phased_58336.161117.1062.100_C.extract\n",
      "   49089 phased_58336.161117.127.100_B.extract\n",
      "   48642 phased_58336.161117.7744.100_A.extract\n",
      "  673121 phased_777962.161117.1681.100_A.extract\n",
      "  716050 phased_777962.161117.417.100_B.extract\n",
      " 1729014 total\n"
     ]
    }
   ],
   "source": [
    "! wc -l *extract"
   ]
  },
  {
   "cell_type": "code",
   "execution_count": 89,
   "metadata": {
    "collapsed": false
   },
   "outputs": [
    {
     "name": "stdout",
     "output_type": "stream",
     "text": [
      "  192869 ../hwe_filtered/227234.161117.12083.100_B.bim\n",
      "   49243 ../hwe_filtered/58336.161117.1062.100_C.bim\n",
      "   49089 ../hwe_filtered/58336.161117.127.100_B.bim\n",
      "   48642 ../hwe_filtered/58336.161117.7744.100_A.bim\n",
      "  673121 ../hwe_filtered/777962.161117.1681.100_A.bim\n",
      "  716050 ../hwe_filtered/777962.161117.417.100_B.bim\n",
      " 1729014 total\n"
     ]
    }
   ],
   "source": [
    "! wc -l ../hwe_filtered/*100*.bim"
   ]
  },
  {
   "cell_type": "code",
   "execution_count": 92,
   "metadata": {
    "collapsed": false
   },
   "outputs": [
    {
     "data": {
      "text/plain": [
       "['phased_227234.161117.12083.100_B.extract']"
      ]
     },
     "execution_count": 92,
     "metadata": {},
     "output_type": "execute_result"
    }
   ],
   "source": [
    "[i for i in glob.glob('phased*extract') if '227234' in i]"
   ]
  },
  {
   "cell_type": "code",
   "execution_count": 100,
   "metadata": {
    "collapsed": false
   },
   "outputs": [
    {
     "data": {
      "text/plain": [
       "['e_plink/phased_227234.161117.12083.100_B',\n",
       " 'e_plink/phased_58336.161117.1062.100_C',\n",
       " 'e_plink/phased_58336.161117.127.100_B',\n",
       " 'e_plink/phased_58336.161117.7744.100_A',\n",
       " 'e_plink/phased_777962.161117.1681.100_A',\n",
       " 'e_plink/phased_777962.161117.417.100_B']"
      ]
     },
     "execution_count": 100,
     "metadata": {},
     "output_type": "execute_result"
    }
   ],
   "source": [
    "[i[7:-8] for i in glob.glob('../eagle_plink/phased_*extract') ]"
   ]
  },
  {
   "cell_type": "code",
   "execution_count": 103,
   "metadata": {
    "collapsed": false
   },
   "outputs": [
    {
     "name": "stdout",
     "output_type": "stream",
     "text": [
      "/CIFS/MUG01_N/taylorjerr/JLH/Imputation_Project/eagle_plink\r\n"
     ]
    }
   ],
   "source": [
    "! pwd"
   ]
  },
  {
   "cell_type": "code",
   "execution_count": 108,
   "metadata": {
    "collapsed": false
   },
   "outputs": [
    {
     "ename": "SyntaxError",
     "evalue": "invalid syntax (<ipython-input-108-e6831d4b7485>, line 1)",
     "output_type": "error",
     "traceback": [
      "\u001b[0;36m  File \u001b[0;32m\"<ipython-input-108-e6831d4b7485>\"\u001b[0;36m, line \u001b[0;32m1\u001b[0m\n\u001b[0;31m    bcftools view accutestf250_small_1.chr26.phased.vcf.gz -R ../eagle_plink/phased_58336.161117.1062.100_C.vcfregion -o test_extractvcf -S ../eagle_plink/phased_58336.161117.1062.100_C.keepvcf\u001b[0m\n\u001b[0m                ^\u001b[0m\n\u001b[0;31mSyntaxError\u001b[0m\u001b[0;31m:\u001b[0m invalid syntax\n"
     ]
    }
   ],
   "source": [
    "bcftools view accutestf250_small_1.chr26.phased.vcf.gz -R ../eagle_plink/phased_58336.161117.1062.100_C.vcfregion -o test_extractvcf -S ../eagle_plink/phased_58336.161117.1062.100_C.keepvcf \n"
   ]
  },
  {
   "cell_type": "code",
   "execution_count": null,
   "metadata": {
    "collapsed": true
   },
   "outputs": [],
   "source": []
  }
 ],
 "metadata": {
  "anaconda-cloud": {},
  "kernelspec": {
   "display_name": "Python [conda env:Imp3]",
   "language": "python",
   "name": "conda-env-Imp3-py"
  },
  "language_info": {
   "codemirror_mode": {
    "name": "ipython",
    "version": 3
   },
   "file_extension": ".py",
   "mimetype": "text/x-python",
   "name": "python",
   "nbconvert_exporter": "python",
   "pygments_lexer": "ipython3",
   "version": "3.5.2"
  }
 },
 "nbformat": 4,
 "nbformat_minor": 1
}
