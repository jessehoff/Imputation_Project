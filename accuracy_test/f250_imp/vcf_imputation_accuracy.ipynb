{
 "cells": [
  {
   "cell_type": "code",
   "execution_count": 2,
   "metadata": {
    "collapsed": false
   },
   "outputs": [],
   "source": [
    "import pandas as pd\n",
    "import numpy as np\n",
    "import seaborn as sb\n",
    "import matplotlib.pyplot as plt\n",
    "import seaborn as sb\n",
    "%matplotlib inline"
   ]
  },
  {
   "cell_type": "markdown",
   "metadata": {},
   "source": [
    "# Imputation Accuracy Assessment Using VCF Files"
   ]
  },
  {
   "cell_type": "code",
   "execution_count": 3,
   "metadata": {
    "collapsed": true
   },
   "outputs": [],
   "source": [
    "imputed = \"./f250_imputed.300.chr21.dose.vcf\"\n",
    "true = \"./f250_validation.300.chr21.recode.vcf\""
   ]
  },
  {
   "cell_type": "markdown",
   "metadata": {},
   "source": [
    "* reads in imputed vcf file with dosage information\n",
    "* outputs dictionary with snps as keys, and ordered list of dosage genotypes as values"
   ]
  },
  {
   "cell_type": "code",
   "execution_count": 4,
   "metadata": {
    "collapsed": false
   },
   "outputs": [],
   "source": [
    "impdict = {}\n",
    "ids = []\n",
    "with open(imputed, \"r\") as imp:\n",
    "    for line in imp:\n",
    "        if not line.startswith(\"#\"):\n",
    "            pos = line.split(\"\\t\")[2]\n",
    "            gen = line.split(\"\\t\")[9:]\n",
    "            genotypes = [x.split(\"|\") for x in gen]\n",
    "            alt = [float(x[1].split(\":\")[1]) for x in genotypes]\n",
    "            impdict[pos] = alt\n",
    "        if line.startswith(\"#\"):\n",
    "            ids.append(line)\n",
    "samples = ids[-1].split(\"\\t\")[9:]\n",
    "impdf = pd.DataFrame.from_dict(impdict, orient='index')\n",
    "impdf.columns = samples"
   ]
  },
  {
   "cell_type": "code",
   "execution_count": null,
   "metadata": {
    "collapsed": false
   },
   "outputs": [],
   "source": []
  },
  {
   "cell_type": "code",
   "execution_count": 5,
   "metadata": {
    "collapsed": false
   },
   "outputs": [],
   "source": [
    "truedict = {}\n",
    "trueids = []\n",
    "with open(true, \"r\") as t:\n",
    "    for line in t:\n",
    "        if not line.startswith(\"#\"):\n",
    "            cp = (line.split(\"\\t\")[0], line.split(\"\\t\")[1])\n",
    "            pos = \":\".join(cp)\n",
    "            gen = line.split(\"\\t\")[9:]\n",
    "            genotypes = [(x.split(\"|\")) for x in gen]\n",
    "            intgt = [[int(y) for y in x ]for x in genotypes]\n",
    "            alt = [sum(x) for x in intgt]\n",
    "            truedict[pos] = alt\n",
    "        if line.startswith(\"#\"):\n",
    "            trueids.append(line)\n",
    "samples = trueids[-1].split(\"\\t\")[9:]\n",
    "truedf = pd.DataFrame.from_dict(truedict, orient='index')\n",
    "truedf.columns = samples"
   ]
  },
  {
   "cell_type": "markdown",
   "metadata": {},
   "source": [
    "* correlation is calculated between the two dataframes (imputed and truth sets) on a marker-by-marker basis\n",
    "* stored in correlation dataframe with the chr:pos as the index, and animals as columns\n",
    "* chr:pos will allow for full assay imp accuracy to be calculated at once"
   ]
  },
  {
   "cell_type": "code",
   "execution_count": 6,
   "metadata": {
    "collapsed": false
   },
   "outputs": [],
   "source": [
    "corrs=impdf.corrwith(truedf, axis = 1)\n",
    "cor = pd.DataFrame(corrs)\n",
    "cor = cor.rename(index=str, columns={0:\"correlation\"})"
   ]
  },
  {
   "cell_type": "code",
   "execution_count": 7,
   "metadata": {
    "collapsed": false
   },
   "outputs": [
    {
     "data": {
      "text/plain": [
       "<matplotlib.axes._subplots.AxesSubplot at 0x7f99f4505a20>"
      ]
     },
     "execution_count": 7,
     "metadata": {},
     "output_type": "execute_result"
    },
    {
     "data": {
      "image/png": "[encoded data removed]",
      "text/plain": [
       "<matplotlib.figure.Figure at 0x7f99f44fc0f0>"
      ]
     },
     "metadata": {},
     "output_type": "display_data"
    }
   ],
   "source": [
    "cor.plot.hist(bins = 100)"
   ]
  },
  {
   "cell_type": "markdown",
   "metadata": {},
   "source": [
    "# MAF Calculations\n",
    "* This will use MAF from a .frq file for all animals genotyped on the assay\n",
    "* frq file has only id, not position\n",
    "* In order to match MAF to correlations, we need to add position information in from .map file.  "
   ]
  },
  {
   "cell_type": "code",
   "execution_count": 8,
   "metadata": {
    "collapsed": true
   },
   "outputs": [],
   "source": [
    "frq = \"./227234.161117.12083.100_B.frq\"\n",
    "mapfile = \"./9913_GGPF250_161214.map\""
   ]
  },
  {
   "cell_type": "code",
   "execution_count": 9,
   "metadata": {
    "collapsed": false
   },
   "outputs": [
    {
     "data": {
      "text/html": [
       "<div>\n",
       "<table border=\"1\" class=\"dataframe\">\n",
       "  <thead>\n",
       "    <tr style=\"text-align: right;\">\n",
       "      <th></th>\n",
       "      <th>CHR</th>\n",
       "      <th>SNP</th>\n",
       "      <th>MAF</th>\n",
       "    </tr>\n",
       "  </thead>\n",
       "  <tbody>\n",
       "    <tr>\n",
       "      <th>0</th>\n",
       "      <td>0</td>\n",
       "      <td>3494</td>\n",
       "      <td>0.1361</td>\n",
       "    </tr>\n",
       "    <tr>\n",
       "      <th>1</th>\n",
       "      <td>0</td>\n",
       "      <td>4688</td>\n",
       "      <td>0.3092</td>\n",
       "    </tr>\n",
       "    <tr>\n",
       "      <th>2</th>\n",
       "      <td>0</td>\n",
       "      <td>24807</td>\n",
       "      <td>0.3321</td>\n",
       "    </tr>\n",
       "    <tr>\n",
       "      <th>3</th>\n",
       "      <td>0</td>\n",
       "      <td>24946</td>\n",
       "      <td>0.4774</td>\n",
       "    </tr>\n",
       "    <tr>\n",
       "      <th>4</th>\n",
       "      <td>0</td>\n",
       "      <td>5216</td>\n",
       "      <td>0.3901</td>\n",
       "    </tr>\n",
       "  </tbody>\n",
       "</table>\n",
       "</div>"
      ],
      "text/plain": [
       "   CHR    SNP     MAF\n",
       "0    0   3494  0.1361\n",
       "1    0   4688  0.3092\n",
       "2    0  24807  0.3321\n",
       "3    0  24946  0.4774\n",
       "4    0   5216  0.3901"
      ]
     },
     "execution_count": 9,
     "metadata": {},
     "output_type": "execute_result"
    }
   ],
   "source": [
    "freq = pd.read_table(frq, delim_whitespace=True)\n",
    "del freq['A1'] \n",
    "del freq['A2']\n",
    "del freq['NCHROBS'] \n",
    "freq.head()"
   ]
  },
  {
   "cell_type": "markdown",
   "metadata": {},
   "source": [
    "* This leaves a dataframe with chromosome, snp_id, and MAF"
   ]
  },
  {
   "cell_type": "code",
   "execution_count": 10,
   "metadata": {
    "collapsed": false
   },
   "outputs": [],
   "source": [
    "map = pd.read_table(mapfile, delim_whitespace=True, header=None)"
   ]
  },
  {
   "cell_type": "code",
   "execution_count": 11,
   "metadata": {
    "collapsed": false
   },
   "outputs": [],
   "source": [
    "map.columns = (\"CHR\", \"SNP\", \"CM\", \"POS\")"
   ]
  },
  {
   "cell_type": "code",
   "execution_count": 12,
   "metadata": {
    "collapsed": false
   },
   "outputs": [],
   "source": [
    "map21 = map.loc[map['CHR'] == 21]"
   ]
  },
  {
   "cell_type": "code",
   "execution_count": 13,
   "metadata": {
    "collapsed": false
   },
   "outputs": [
    {
     "data": {
      "text/html": [
       "<div>\n",
       "<table border=\"1\" class=\"dataframe\">\n",
       "  <thead>\n",
       "    <tr style=\"text-align: right;\">\n",
       "      <th></th>\n",
       "      <th>CHR</th>\n",
       "      <th>SNP</th>\n",
       "      <th>CM</th>\n",
       "      <th>POS</th>\n",
       "      <th>MAF</th>\n",
       "    </tr>\n",
       "  </thead>\n",
       "  <tbody>\n",
       "    <tr>\n",
       "      <th>0</th>\n",
       "      <td>21</td>\n",
       "      <td>282784</td>\n",
       "      <td>31.3717</td>\n",
       "      <td>31371711</td>\n",
       "      <td>1.000000</td>\n",
       "    </tr>\n",
       "    <tr>\n",
       "      <th>1</th>\n",
       "      <td>21</td>\n",
       "      <td>283866</td>\n",
       "      <td>10.7432</td>\n",
       "      <td>10743235</td>\n",
       "      <td>0.095830</td>\n",
       "    </tr>\n",
       "    <tr>\n",
       "      <th>2</th>\n",
       "      <td>21</td>\n",
       "      <td>283867</td>\n",
       "      <td>10.7974</td>\n",
       "      <td>10797397</td>\n",
       "      <td>0.000714</td>\n",
       "    </tr>\n",
       "    <tr>\n",
       "      <th>3</th>\n",
       "      <td>21</td>\n",
       "      <td>283868</td>\n",
       "      <td>10.7978</td>\n",
       "      <td>10797770</td>\n",
       "      <td>0.000042</td>\n",
       "    </tr>\n",
       "    <tr>\n",
       "      <th>4</th>\n",
       "      <td>21</td>\n",
       "      <td>283869</td>\n",
       "      <td>10.7978</td>\n",
       "      <td>10797779</td>\n",
       "      <td>0.000126</td>\n",
       "    </tr>\n",
       "  </tbody>\n",
       "</table>\n",
       "</div>"
      ],
      "text/plain": [
       "   CHR     SNP       CM       POS       MAF\n",
       "0   21  282784  31.3717  31371711  1.000000\n",
       "1   21  283866  10.7432  10743235  0.095830\n",
       "2   21  283867  10.7974  10797397  0.000714\n",
       "3   21  283868  10.7978  10797770  0.000042\n",
       "4   21  283869  10.7978  10797779  0.000126"
      ]
     },
     "execution_count": 13,
     "metadata": {},
     "output_type": "execute_result"
    }
   ],
   "source": [
    "freq_map_merged = pd.merge(map21, freq, on=(\"SNP\",\"CHR\"), how='inner')\n",
    "freq_map_merged.head()"
   ]
  },
  {
   "cell_type": "code",
   "execution_count": 14,
   "metadata": {
    "collapsed": false
   },
   "outputs": [],
   "source": [
    "posmaf = freq_map_merged[[\"CHR\",\"POS\",\"MAF\"]]\n",
    "posmaf.index = posmaf.CHR.astype(str).str.cat(posmaf.POS.astype(str), sep = ':')"
   ]
  },
  {
   "cell_type": "code",
   "execution_count": null,
   "metadata": {
    "collapsed": false
   },
   "outputs": [],
   "source": []
  },
  {
   "cell_type": "code",
   "execution_count": 15,
   "metadata": {
    "collapsed": false
   },
   "outputs": [],
   "source": [
    "del posmaf.index.name"
   ]
  },
  {
   "cell_type": "code",
   "execution_count": 16,
   "metadata": {
    "collapsed": false
   },
   "outputs": [],
   "source": [
    "filter = posmaf[\"MAF\"] <= 0.5\n",
    "maffiltered = posmaf[filter]"
   ]
  },
  {
   "cell_type": "code",
   "execution_count": 17,
   "metadata": {
    "collapsed": false
   },
   "outputs": [
    {
     "data": {
      "text/html": [
       "<div>\n",
       "<table border=\"1\" class=\"dataframe\">\n",
       "  <thead>\n",
       "    <tr style=\"text-align: right;\">\n",
       "      <th></th>\n",
       "      <th>correlation</th>\n",
       "      <th>CHR</th>\n",
       "      <th>POS</th>\n",
       "      <th>MAF</th>\n",
       "    </tr>\n",
       "  </thead>\n",
       "  <tbody>\n",
       "    <tr>\n",
       "      <th>21:20086847</th>\n",
       "      <td>NaN</td>\n",
       "      <td>21.0</td>\n",
       "      <td>20086847.0</td>\n",
       "      <td>0.000174</td>\n",
       "    </tr>\n",
       "    <tr>\n",
       "      <th>21:50244488</th>\n",
       "      <td>0.994097</td>\n",
       "      <td>21.0</td>\n",
       "      <td>50244488.0</td>\n",
       "      <td>0.295700</td>\n",
       "    </tr>\n",
       "    <tr>\n",
       "      <th>21:49530646</th>\n",
       "      <td>NaN</td>\n",
       "      <td>21.0</td>\n",
       "      <td>49530646.0</td>\n",
       "      <td>0.000706</td>\n",
       "    </tr>\n",
       "    <tr>\n",
       "      <th>21:28220620</th>\n",
       "      <td>NaN</td>\n",
       "      <td>21.0</td>\n",
       "      <td>28220620.0</td>\n",
       "      <td>0.000704</td>\n",
       "    </tr>\n",
       "    <tr>\n",
       "      <th>21:68639904</th>\n",
       "      <td>NaN</td>\n",
       "      <td>NaN</td>\n",
       "      <td>NaN</td>\n",
       "      <td>NaN</td>\n",
       "    </tr>\n",
       "  </tbody>\n",
       "</table>\n",
       "</div>"
      ],
      "text/plain": [
       "             correlation   CHR         POS       MAF\n",
       "21:20086847          NaN  21.0  20086847.0  0.000174\n",
       "21:50244488     0.994097  21.0  50244488.0  0.295700\n",
       "21:49530646          NaN  21.0  49530646.0  0.000706\n",
       "21:28220620          NaN  21.0  28220620.0  0.000704\n",
       "21:68639904          NaN   NaN         NaN       NaN"
      ]
     },
     "execution_count": 17,
     "metadata": {},
     "output_type": "execute_result"
    }
   ],
   "source": [
    "mafcor = cor.join(maffiltered)\n",
    "mafcor.head()"
   ]
  },
  {
   "cell_type": "code",
   "execution_count": 18,
   "metadata": {
    "collapsed": false
   },
   "outputs": [
    {
     "data": {
      "text/plain": [
       "<matplotlib.axes._subplots.AxesSubplot at 0x7f99f1d87f28>"
      ]
     },
     "execution_count": 18,
     "metadata": {},
     "output_type": "execute_result"
    },
    {
     "data": {
      "image/png": "[encoded data removed]",
      "text/plain": [
       "<matplotlib.figure.Figure at 0x7f99f1d64048>"
      ]
     },
     "metadata": {},
     "output_type": "display_data"
    }
   ],
   "source": [
    "mafcor.plot.scatter(x = \"MAF\", y = \"correlation\")"
   ]
  },
  {
   "cell_type": "code",
   "execution_count": 19,
   "metadata": {
    "collapsed": false
   },
   "outputs": [],
   "source": [
    "MAF = mafcor['MAF']"
   ]
  },
  {
   "cell_type": "code",
   "execution_count": 27,
   "metadata": {
    "collapsed": false
   },
   "outputs": [
    {
     "name": "stdout",
     "output_type": "stream",
     "text": [
      "               MAF          ACC\n",
      "count  3082.000000  3082.000000\n",
      "mean      0.223365     0.930258\n",
      "std       0.160536     0.183349\n",
      "min       0.000166    -0.019192\n",
      "25%       0.068378     0.960294\n",
      "50%       0.223100     0.981899\n",
      "75%       0.371925     0.995711\n",
      "max       0.499800     1.000000\n"
     ]
    }
   ],
   "source": [
    "plotter = pd.DataFrame(MAF)\n",
    "plotter[\"ACC\"] = mafcor[\"correlation\"]\n",
    "bins = np.linspace(0,.5,100)\n",
    "plotter_na = plotter[(-2<plotter['ACC']) & (plotter['ACC']<2)]\n",
    "print (plotter_na.describe())\n",
    "a_bins = plotter_na.groupby(pd.cut(plotter_na['MAF'],bins))"
   ]
  },
  {
   "cell_type": "code",
   "execution_count": 37,
   "metadata": {
    "collapsed": false
   },
   "outputs": [
    {
     "data": {
      "text/plain": [
       "<matplotlib.axes._subplots.AxesSubplot at 0x7f99e2836e48>"
      ]
     },
     "execution_count": 37,
     "metadata": {},
     "output_type": "execute_result"
    },
    {
     "data": {
      "image/png": "[encoded data removed]",
      "text/plain": [
       "<matplotlib.figure.Figure at 0x7f99e2830da0>"
      ]
     },
     "metadata": {},
     "output_type": "display_data"
    }
   ],
   "source": [
    "a_bins.mean().plot(x='MAF',y='ACC')"
   ]
  },
  {
   "cell_type": "code",
   "execution_count": null,
   "metadata": {
    "collapsed": false
   },
   "outputs": [],
   "source": []
  },
  {
   "cell_type": "code",
   "execution_count": null,
   "metadata": {
    "collapsed": true
   },
   "outputs": [],
   "source": []
  }
 ],
 "metadata": {
  "anaconda-cloud": {},
  "kernelspec": {
   "display_name": "Python [conda env:Imp3]",
   "language": "python",
   "name": "conda-env-Imp3-py"
  },
  "language_info": {
   "codemirror_mode": {
    "name": "ipython",
    "version": 3
   },
   "file_extension": ".py",
   "mimetype": "text/x-python",
   "name": "python",
   "nbconvert_exporter": "python",
   "pygments_lexer": "ipython3",
   "version": "3.5.2"
  }
 },
 "nbformat": 4,
 "nbformat_minor": 1
}
