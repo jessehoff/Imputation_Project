{
 "cells": [
  {
   "cell_type": "code",
   "execution_count": 1,
   "metadata": {
    "collapsed": false
   },
   "outputs": [],
   "source": [
    "import pandas as pd\n",
    "import numpy as np\n",
    "from collections import Counter"
   ]
  },
  {
   "cell_type": "code",
   "execution_count": null,
   "metadata": {
    "collapsed": false
   },
   "outputs": [],
   "source": []
  },
  {
   "cell_type": "code",
   "execution_count": 64,
   "metadata": {
    "collapsed": false
   },
   "outputs": [],
   "source": [
    "with open('./eagle_bestguess/snp50c_hd_merged.chr1.eagle.haps', 'r') as f:\n",
    "    ehapsline = f.readline()\n",
    "with open('./eagle_bestguess/snp50c_hd_merged.chr1.eagle.sample', 'r') as f:\n",
    "    esamp = f.readlines()\n",
    "with open('./impute2/out/impute2_imputed.gen', 'r') as f:\n",
    "    igenline = f.readline()\n",
    "with open('./impute2/out/impute2_imputed.sample', 'r') as f:\n",
    "    isamp = f.readlines()"
   ]
  },
  {
   "cell_type": "code",
   "execution_count": 67,
   "metadata": {
    "collapsed": false
   },
   "outputs": [],
   "source": [
    "hapra=ehapsline.split(\" \")[3:5]\n",
    "genra=igenline.split(\" \")[3:5]"
   ]
  },
  {
   "cell_type": "code",
   "execution_count": 69,
   "metadata": {
    "collapsed": false
   },
   "outputs": [],
   "source": [
    "hap=[float(i) for i in (ehapsline.split(\" \")[5:])]\n",
    "gen=[float(i) for i in (igenline.split(\" \")[5:])]"
   ]
  },
  {
   "cell_type": "code",
   "execution_count": 70,
   "metadata": {
    "collapsed": false
   },
   "outputs": [],
   "source": [
    "genchunklist=zip(*[iter(gen)]*3)\n",
    "genhardcalls=[]\n",
    "for entry in genchunklist:\n",
    "    genhardcalls.append([round(xx) for xx in entry])\n",
    "hapchunklist=[list(x) for x in zip(*[iter(hap)]*2)]\n",
    "\n",
    "#Convert to ref/alt alleles based on coding given by impute\n",
    "for xx in range(0,len(genhardcalls)):\n",
    "    if genhardcalls[xx] == [1.0, 0.0, 0.0]:\n",
    "        genhardcalls[xx] = genra[0],genra[0]\n",
    "    elif genhardcalls[xx] == [0.0, 1.0, 0.0]:\n",
    "        genhardcalls[xx] = genra[0],genra[1]\n",
    "    elif genhardcalls[xx] == [0.0, 0.0, 1.0]:\n",
    "        genhardcalls[xx] = genra[1],genra[1]\n",
    "    else:\n",
    "        genhardcalls[xx]= \"missing\""
   ]
  },
  {
   "cell_type": "code",
   "execution_count": 71,
   "metadata": {
    "collapsed": false
   },
   "outputs": [],
   "source": [
    "for xx in range(0,len(hapchunklist)):\n",
    "    if hapchunklist[xx] == [0.0, 0.0]:\n",
    "        hapchunklist[xx] = hapra[0],hapra[0]\n",
    "    elif hapchunklist[xx] == [0.0, 1.0]:\n",
    "        hapchunklist[xx] = hapra[0],hapra[1]\n",
    "    elif hapchunklist[xx] == [1.0, 0.0]:\n",
    "        hapchunklist[xx] = hapra[0],hapra[1]\n",
    "    elif hapchunklist[xx] == [1.0, 1.0]:\n",
    "        hapchunklist[xx] = hapra[1],hapra[1]\n",
    "    else:\n",
    "        hapchunklist[xx] = \"missing\""
   ]
  },
  {
   "cell_type": "code",
   "execution_count": 72,
   "metadata": {
    "collapsed": false
   },
   "outputs": [
    {
     "data": {
      "text/plain": [
       "Counter({\"('A', 'A')\": 1413, \"('A', 'B')\": 1430, \"('B', 'B')\": 907})"
      ]
     },
     "execution_count": 72,
     "metadata": {},
     "output_type": "execute_result"
    }
   ],
   "source": [
    "x=Counter(str(entry) for entry in hapchunklist)\n",
    "x"
   ]
  },
  {
   "cell_type": "code",
   "execution_count": 73,
   "metadata": {
    "collapsed": false
   },
   "outputs": [
    {
     "data": {
      "text/plain": [
       "Counter({\"('A', 'A')\": 133,\n",
       "         \"('A', 'B')\": 942,\n",
       "         \"('B', 'B')\": 2204,\n",
       "         'missing': 1})"
      ]
     },
     "execution_count": 73,
     "metadata": {},
     "output_type": "execute_result"
    }
   ],
   "source": [
    "x=Counter(str(entry) for entry in genhardcalls)\n",
    "x"
   ]
  },
  {
   "cell_type": "code",
   "execution_count": 401,
   "metadata": {
    "collapsed": false
   },
   "outputs": [],
   "source": [
    "#Create lists of ids in order from Sample list\n",
    "genids=[]\n",
    "for item in isamp[2:]:\n",
    "    genids.append(item.split(\" \")[1])\n",
    "hapids=[]\n",
    "for item in esamp[2:]:\n",
    "    hapids.append(item.split(\" \")[1])"
   ]
  },
  {
   "cell_type": "code",
   "execution_count": 402,
   "metadata": {
    "collapsed": false
   },
   "outputs": [],
   "source": [
    "#Dictionaries created for both methods.  Keys = ids, Values = method's respective \"genotype\"\n",
    "indgen = {}\n",
    "for x in range(0,len(genids)):\n",
    "    indgen[genids[x]]=genhardcalls[x]\n",
    "indhap = {}\n",
    "for x in range(0,len(hapids)):\n",
    "    indhap[hapids[x]]=hapchunklist[x]    "
   ]
  },
  {
   "cell_type": "code",
   "execution_count": 403,
   "metadata": {
    "collapsed": false
   },
   "outputs": [
    {
     "data": {
      "text/plain": [
       "0.0009146341463414635"
      ]
     },
     "execution_count": 403,
     "metadata": {},
     "output_type": "execute_result"
    }
   ],
   "source": [
    "counter = 0\n",
    "for xx in indhap.items():\n",
    "    if xx in indgen.items():\n",
    "        counter +=1\n",
    "counter/float(len(indgen))"
   ]
  },
  {
   "cell_type": "code",
   "execution_count": null,
   "metadata": {
    "collapsed": false
   },
   "outputs": [],
   "source": []
  },
  {
   "cell_type": "code",
   "execution_count": null,
   "metadata": {
    "collapsed": true
   },
   "outputs": [],
   "source": []
  }
 ],
 "metadata": {
  "anaconda-cloud": {},
  "kernelspec": {
   "display_name": "Python [conda env:Imp3]",
   "language": "python",
   "name": "conda-env-Imp3-py"
  },
  "language_info": {
   "codemirror_mode": {
    "name": "ipython",
    "version": 3
   },
   "file_extension": ".py",
   "mimetype": "text/x-python",
   "name": "python",
   "nbconvert_exporter": "python",
   "pygments_lexer": "ipython3",
   "version": "3.5.2"
  }
 },
 "nbformat": 4,
 "nbformat_minor": 1
}
