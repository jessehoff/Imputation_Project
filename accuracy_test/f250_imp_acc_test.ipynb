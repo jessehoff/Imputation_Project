{
 "cells": [
  {
   "cell_type": "code",
   "execution_count": 78,
   "metadata": {
    "collapsed": true
   },
   "outputs": [],
   "source": [
    "import pandas as pd\n",
    "import numpy as np\n",
    "import seaborn as sb\n",
    "import matplotlib.pyplot as plt\n",
    "import seaborn as sb\n",
    "%matplotlib inline"
   ]
  },
  {
   "cell_type": "code",
   "execution_count": 3,
   "metadata": {
    "collapsed": false
   },
   "outputs": [],
   "source": [
    "with open('/CIFS/MUG01_N/taylorjerr/JLH/Imputation_Project/eagletest/accutestf250_small_3.chr20.haps', 'r') as f:\n",
    "    imp = f.readlines()\n",
    "with open('/CIFS/MUG01_N/taylorjerr/JLH/Imputation_Project/eagletest/accutestf250_small_3.chr20.sample', 'r') as f:\n",
    "    impsamp = f.readlines()"
   ]
  },
  {
   "cell_type": "code",
   "execution_count": 4,
   "metadata": {
    "collapsed": false
   },
   "outputs": [],
   "source": [
    "hapsfile={}\n",
    "for line in imp:\n",
    "    #hapra=line.split(\" \")[3:5]\n",
    "    happos=line.split(\" \")[2]\n",
    "    hap=[float(i) for i in (line.split(\" \")[5:])]\n",
    "    haplist=[list(x) for x in zip(*[iter(hap)]*2)]\n",
    "    althaps = [sum(x) for x in haplist]\n",
    "    hapsfile[happos] = althaps"
   ]
  },
  {
   "cell_type": "code",
   "execution_count": 5,
   "metadata": {
    "collapsed": true
   },
   "outputs": [],
   "source": [
    "hapids = [item.split(\" \")[1] for item in impsamp[2:]]\n",
    "hapsdf = pd.DataFrame.from_dict(hapsfile, orient='index')\n",
    "hapsdf.columns = hapids\n",
    "hapsdf.to_csv(\"f250_imputation_haps.txt\", sep=\" \")"
   ]
  },
  {
   "cell_type": "code",
   "execution_count": 35,
   "metadata": {
    "collapsed": true
   },
   "outputs": [],
   "source": [
    "with open('/CIFS/MUG01_N/taylorjerr/JLH/Imputation_Project/eagletest/accuracytest/real_f250_genotypes.chr20.gen', 'r') as f:\n",
    "    true = f.readlines()\n",
    "with open('/CIFS/MUG01_N/taylorjerr/JLH/Imputation_Project/eagletest/accuracytest/real_f250_genotypes.chr20.sample', 'r') as f:\n",
    "    truesamp = f.readlines()"
   ]
  },
  {
   "cell_type": "code",
   "execution_count": 36,
   "metadata": {
    "collapsed": false
   },
   "outputs": [],
   "source": [
    "truefile={}\n",
    "for line in true:\n",
    "    refalt=line.split(\" \")[3:5]\n",
    "    pos=line.split(\" \")[2]\n",
    "    gen=[float(i) for i in (line.split(\" \")[5:])]\n",
    "    genlist=[list(x) for x in zip(*[iter(gen)]*3)]\n",
    "    altgen = [(x[1]+x[2]*2) for x in genlist]\n",
    "    truefile[pos] = altgen"
   ]
  },
  {
   "cell_type": "code",
   "execution_count": 37,
   "metadata": {
    "collapsed": false
   },
   "outputs": [],
   "source": [
    "genids = [item.split(\" \")[1] for item in truesamp[2:]]\n",
    "truedf = pd.DataFrame.from_dict(truefile, orient='index')\n",
    "truedf.columns = genids"
   ]
  },
  {
   "cell_type": "code",
   "execution_count": null,
   "metadata": {
    "collapsed": false
   },
   "outputs": [],
   "source": []
  },
  {
   "cell_type": "code",
   "execution_count": 43,
   "metadata": {
    "collapsed": false
   },
   "outputs": [
    {
     "data": {
      "text/plain": [
       "((3952, 300), (23427, 12712))"
      ]
     },
     "execution_count": 43,
     "metadata": {},
     "output_type": "execute_result"
    }
   ],
   "source": [
    "truedf.shape, hapsdf.shape"
   ]
  },
  {
   "cell_type": "code",
   "execution_count": 71,
   "metadata": {
    "collapsed": false
   },
   "outputs": [
    {
     "data": {
      "text/plain": [
       "((3952, 300), (3952, 300))"
      ]
     },
     "execution_count": 71,
     "metadata": {},
     "output_type": "execute_result"
    }
   ],
   "source": [
    "comm = set(hapids)&set(genids)\n",
    "comm_true = truedf[list(comm)]\n",
    "comm_haps = hapsdf[list(comm)]"
   ]
  },
  {
   "cell_type": "code",
   "execution_count": 67,
   "metadata": {
    "collapsed": false
   },
   "outputs": [],
   "source": [
    "common_snps = set(comm_haps.index)&set(comm_true.index)\n",
    "true=comm_true.ix[common_snps]\n",
    "imputed=comm_haps.ix[common_snps]\n",
    "\n",
    "true_t = true.transpose()\n",
    "imputed_t = imputed.transpose()"
   ]
  },
  {
   "cell_type": "code",
   "execution_count": 75,
   "metadata": {
    "collapsed": false
   },
   "outputs": [],
   "source": []
  },
  {
   "cell_type": "code",
   "execution_count": 76,
   "metadata": {
    "collapsed": true
   },
   "outputs": [],
   "source": [
    "cor = pd.DataFrame(corrs)\n",
    "cor = cor.rename(index=str, columns={0:\"correlation\"})"
   ]
  },
  {
   "cell_type": "code",
   "execution_count": 79,
   "metadata": {
    "collapsed": false
   },
   "outputs": [
    {
     "data": {
      "text/plain": [
       "<matplotlib.axes._subplots.AxesSubplot at 0x7f1b30663a90>"
      ]
     },
     "execution_count": 79,
     "metadata": {},
     "output_type": "execute_result"
    },
    {
     "data": {
      "image/png": "[encoded data removed]",
      "text/plain": [
       "<matplotlib.figure.Figure at 0x7f1b380e2a20>"
      ]
     },
     "metadata": {},
     "output_type": "display_data"
    }
   ],
   "source": [
    "cor.correlation.plot.hist(bins = 100)"
   ]
  },
  {
   "cell_type": "code",
   "execution_count": null,
   "metadata": {
    "collapsed": true
   },
   "outputs": [],
   "source": []
  }
 ],
 "metadata": {
  "kernelspec": {
   "display_name": "Python [conda env:Imp3]",
   "language": "python",
   "name": "conda-env-Imp3-py"
  },
  "language_info": {
   "codemirror_mode": {
    "name": "ipython",
    "version": 3
   },
   "file_extension": ".py",
   "mimetype": "text/x-python",
   "name": "python",
   "nbconvert_exporter": "python",
   "pygments_lexer": "ipython3",
   "version": "3.5.2"
  }
 },
 "nbformat": 4,
 "nbformat_minor": 1
}
