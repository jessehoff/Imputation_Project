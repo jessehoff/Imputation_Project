{
 "cells": [
  {
   "cell_type": "code",
   "execution_count": 135,
   "metadata": {
    "collapsed": true
   },
   "outputs": [],
   "source": [
    "import pandas as pd\n",
    "import numpy as np\n",
    "import glob"
   ]
  },
  {
   "cell_type": "code",
   "execution_count": 136,
   "metadata": {
    "collapsed": false
   },
   "outputs": [],
   "source": [
    "snp50c = open(\"raw_genotypes/58336.170112.3399.SNP50C.ID\")\n",
    "id_list=snp50c.readlines()\n",
    "snp50_animals =[]\n",
    "for line in id_list:\n",
    "    snp50_animals.append(line.split()[1])  \n",
    "    \n"
   ]
  },
  {
   "cell_type": "code",
   "execution_count": 139,
   "metadata": {
    "collapsed": false
   },
   "outputs": [],
   "source": [
    "fams =glob.glob('correct_sex/*.fam')\n",
    "allanimals = {}\n",
    "for t in fams:\n",
    "    file = open(t)\n",
    "    animals = []\n",
    "    for i in file:\n",
    "        animals.append(i.split()[1])\n",
    "    allanimals[t] = animals #edit t so its actually an assay name you want\n"
   ]
  },
  {
   "cell_type": "code",
   "execution_count": null,
   "metadata": {
    "collapsed": false
   },
   "outputs": [],
   "source": []
  },
  {
   "cell_type": "code",
   "execution_count": 138,
   "metadata": {
    "collapsed": false
   },
   "outputs": [
    {
     "name": "stdout",
     "output_type": "stream",
     "text": [
      "bad_snps_removed.fam\n"
     ]
    }
   ],
   "source": [
    "animal_assay = {}\t\n",
    "for key, value in allanimals.items():\n",
    "\tfor id in value:\n",
    "\t\tanimal_assay[id] = key #the key of the dict containing the list of animals from that assay\n",
    "print(key)"
   ]
  },
  {
   "cell_type": "code",
   "execution_count": 86,
   "metadata": {
    "collapsed": false
   },
   "outputs": [],
   "source": [
    "fam = open(\"170112_merged.phased.fam\")\n",
    "fam_list = fam.readlines()\n",
    "fam = []\n",
    "for line in fam_list:\n",
    "    fam.append(line.split())\n",
    "    \n",
    "for entry in fam:\n",
    "    if entry[1] in allanimals['correct_sex/58336.170112.3399.SNP50C.fam']:\n",
    "        entry[5] = \"SNP50_C\"\n",
    "    if entry[1] in allanimals['correct_sex/58336.170112.335.SNP50B.fam']:\n",
    "        entry[5] = \"SNP50_B\"\n",
    "    if entry[1] in allanimals['correct_sex/58336.170112.315.SNP50A.fam']:\n",
    "        entry[5] = \"SNP50_A\"\n",
    "    if entry[1] in allanimals['correct_sex/76999.170112.3498.GGP90KT.fam']:\n",
    "        entry[5] = \"GGP90KT\"\n",
    "    if entry[1] in allanimals['correct_sex/777962.170127.483.HD.fam']:\n",
    "        entry[5] = \"HD\"\n",
    "    if entry[1] in allanimals['correct_sex/227234.170112.325.GGPF250.fam']:\n",
    "        entry[5] = \"F250\"\n",
    "    if entry[1] in allanimals['correct_sex/30105.170112.2500.GGPLDV4.fam']:\n",
    "        entry[5] = \"GGPLDV4\"\n",
    "    if entry[1] in allanimals['correct_sex/26504.170112.3126.GGPLDV3.fam']:\n",
    "        entry[5] = \"GGPLDV3\"\n",
    "    if entry[1] in allanimals['correct_sex/139977.170112.2326.GGPHDV3.fam']:\n",
    "        entry[5] = \"GGPHDV3\""
   ]
  },
  {
   "cell_type": "code",
   "execution_count": 103,
   "metadata": {
    "collapsed": false
   },
   "outputs": [],
   "source": [
    "famfile = open ('fam.fam', 'w')\n",
    "for line in fam:\n",
    "        entry = ' '.join(line)\n",
    "        #print(entry)\n",
    "        famfile.write(entry+ \"\\n\")\n",
    "famfile.close()"
   ]
  },
  {
   "cell_type": "code",
   "execution_count": 79,
   "metadata": {
    "collapsed": false
   },
   "outputs": [],
   "source": [
    "for entry in fam:\n",
    "    if entry[1] in snp50_animals:\n",
    "        entry[5] = \"SNP_50C\"\n",
    "        "
   ]
  },
  {
   "cell_type": "code",
   "execution_count": 118,
   "metadata": {
    "collapsed": false
   },
   "outputs": [],
   "source": [
    "dropids=[]\n",
    "with open(\"raw_genotypes/139977.170112.2326.GGPHDV3.ID\") as hdv3:\n",
    "    hdv3 = hdv3.readlines()\n",
    "    for line in hdv3:\n",
    "        dropids.append(line.split()[1])\n",
    "with open(\"raw_genotypes/30105.170112.2500.GGPLDV4.ID\") as ldv4:\n",
    "    ldv4 = ldv4.readlines()\n",
    "    for line in ldv4:\n",
    "        dropids.append(line.split()[1])"
   ]
  },
  {
   "cell_type": "code",
   "execution_count": 134,
   "metadata": {
    "collapsed": false
   },
   "outputs": [],
   "source": [
    "with open(\"ids_to_drop.txt\", \"w\") as outfile:\n",
    "    for x in dropids:\n",
    "        outfile.write(x + ' ' + x +\"\\n\")"
   ]
  },
  {
   "cell_type": "code",
   "execution_count": 128,
   "metadata": {
    "collapsed": false
   },
   "outputs": [],
   "source": []
  },
  {
   "cell_type": "code",
   "execution_count": null,
   "metadata": {
    "collapsed": false
   },
   "outputs": [],
   "source": []
  },
  {
   "cell_type": "code",
   "execution_count": null,
   "metadata": {
    "collapsed": true
   },
   "outputs": [],
   "source": []
  }
 ],
 "metadata": {
  "anaconda-cloud": {},
  "kernelspec": {
   "display_name": "Python [conda env:Imp3]",
   "language": "python",
   "name": "conda-env-Imp3-py"
  },
  "language_info": {
   "codemirror_mode": {
    "name": "ipython",
    "version": 3
   },
   "file_extension": ".py",
   "mimetype": "text/x-python",
   "name": "python",
   "nbconvert_exporter": "python",
   "pygments_lexer": "ipython3",
   "version": "3.5.2"
  }
 },
 "nbformat": 4,
 "nbformat_minor": 1
}
