{
 "cells": [
  {
   "cell_type": "code",
   "execution_count": 1,
   "metadata": {
    "collapsed": false
   },
   "outputs": [],
   "source": [
    "import pandas as pd"
   ]
  },
  {
   "cell_type": "code",
   "execution_count": 3,
   "metadata": {
    "collapsed": false
   },
   "outputs": [
    {
     "name": "stdout",
     "output_type": "stream",
     "text": [
      "position COMBINED_rate(cM/Mb) Genetic_Map(cM)\r\n",
      "253938 0.2214599891 0\r\n",
      "256859 0.2213076426 0.0006464396240346\r\n",
      "259772 0.2213078499 0.0012911093907933\r\n",
      "260970 0.2215185766 0.0015564886455601\r\n",
      "261033 0.2216183478 0.0015704506014715\r\n",
      "266034 0.5755014328 0.0044485332669043\r\n",
      "266544 1.8320684644 0.0053828881837483\r\n",
      "267039 1.8311074306 0.0062892863618953\r\n",
      "267213 1.8285203221 0.0066074488979407\r\n"
     ]
    }
   ],
   "source": [
    "! head genetic_map_chr19_combined_b37.txt"
   ]
  },
  {
   "cell_type": "code",
   "execution_count": 2,
   "metadata": {
    "collapsed": false
   },
   "outputs": [
    {
     "name": "stdout",
     "output_type": "stream",
     "text": [
      "1\t1023760\t0.016947\t16947\tA\tB\r\n",
      "1\t217986\t0.019832\t19832\tA\tB\r\n",
      "1\t1023762\t0.06713\t67130\tB\tA\r\n",
      "1\t252907\t0.0706\t70600\tB\tA\r\n",
      "1\t1023763\t0.078655\t78655\tB\tA\r\n",
      "1\t1065681\t0.089725\t89725\tB\tA\r\n",
      "1\t1023767\t0.120183\t120183\tA\tB\r\n",
      "1\t211032\t0.123681\t123681\tB\tA\r\n",
      "1\t211044\t0.123782\t123782\tB\tA\r\n",
      "1\t211117\t0.124921\t124921\tB\tA\r\n"
     ]
    }
   ],
   "source": [
    "! head ./chrsplit/170112_merged.chr1.bim"
   ]
  },
  {
   "cell_type": "code",
   "execution_count": 62,
   "metadata": {
    "collapsed": false
   },
   "outputs": [
    {
     "data": {
      "text/html": [
       "<div>\n",
       "<table border=\"1\" class=\"dataframe\">\n",
       "  <thead>\n",
       "    <tr style=\"text-align: right;\">\n",
       "      <th></th>\n",
       "      <th>position</th>\n",
       "      <th>COMBINED_rate(cM/Mb)</th>\n",
       "      <th>Genetic_Map(cM)</th>\n",
       "    </tr>\n",
       "  </thead>\n",
       "  <tbody>\n",
       "    <tr>\n",
       "      <th>0</th>\n",
       "      <td>10865933</td>\n",
       "      <td>0.624737</td>\n",
       "      <td>0.000000</td>\n",
       "    </tr>\n",
       "    <tr>\n",
       "      <th>1</th>\n",
       "      <td>10906723</td>\n",
       "      <td>0.623115</td>\n",
       "      <td>0.025417</td>\n",
       "    </tr>\n",
       "    <tr>\n",
       "      <th>2</th>\n",
       "      <td>10906915</td>\n",
       "      <td>0.497653</td>\n",
       "      <td>0.025512</td>\n",
       "    </tr>\n",
       "    <tr>\n",
       "      <th>3</th>\n",
       "      <td>10906989</td>\n",
       "      <td>0.496580</td>\n",
       "      <td>0.025549</td>\n",
       "    </tr>\n",
       "    <tr>\n",
       "      <th>4</th>\n",
       "      <td>10907208</td>\n",
       "      <td>0.495380</td>\n",
       "      <td>0.025658</td>\n",
       "    </tr>\n",
       "  </tbody>\n",
       "</table>\n",
       "</div>"
      ],
      "text/plain": [
       "   position  COMBINED_rate(cM/Mb)  Genetic_Map(cM)\n",
       "0  10865933              0.624737         0.000000\n",
       "1  10906723              0.623115         0.025417\n",
       "2  10906915              0.497653         0.025512\n",
       "3  10906989              0.496580         0.025549\n",
       "4  10907208              0.495380         0.025658"
      ]
     },
     "execution_count": 62,
     "metadata": {},
     "output_type": "execute_result"
    }
   ],
   "source": [
    "goodmap = pd.read_table('genetic_map_chr21_combined_b37.txt',delim_whitespace=True)\n",
    "goodmap.head()"
   ]
  },
  {
   "cell_type": "code",
   "execution_count": 63,
   "metadata": {
    "collapsed": false
   },
   "outputs": [
    {
     "data": {
      "text/html": [
       "<div>\n",
       "<table border=\"1\" class=\"dataframe\">\n",
       "  <thead>\n",
       "    <tr style=\"text-align: right;\">\n",
       "      <th></th>\n",
       "      <th>position</th>\n",
       "      <th>COMBINED_rate(cM/Mb)</th>\n",
       "      <th>Genetic_Map(cM)</th>\n",
       "      <th>space</th>\n",
       "      <th>mapjump</th>\n",
       "      <th>test</th>\n",
       "    </tr>\n",
       "  </thead>\n",
       "  <tbody>\n",
       "    <tr>\n",
       "      <th>0</th>\n",
       "      <td>10865933</td>\n",
       "      <td>0.624737</td>\n",
       "      <td>0.000000</td>\n",
       "      <td>10865933.0</td>\n",
       "      <td>0.000000</td>\n",
       "      <td>0.000000</td>\n",
       "    </tr>\n",
       "    <tr>\n",
       "      <th>1</th>\n",
       "      <td>10906723</td>\n",
       "      <td>0.623115</td>\n",
       "      <td>0.025417</td>\n",
       "      <td>40790.0</td>\n",
       "      <td>0.025417</td>\n",
       "      <td>0.623115</td>\n",
       "    </tr>\n",
       "    <tr>\n",
       "      <th>2</th>\n",
       "      <td>10906915</td>\n",
       "      <td>0.497653</td>\n",
       "      <td>0.025512</td>\n",
       "      <td>192.0</td>\n",
       "      <td>0.000096</td>\n",
       "      <td>0.497653</td>\n",
       "    </tr>\n",
       "    <tr>\n",
       "      <th>3</th>\n",
       "      <td>10906989</td>\n",
       "      <td>0.496580</td>\n",
       "      <td>0.025549</td>\n",
       "      <td>74.0</td>\n",
       "      <td>0.000037</td>\n",
       "      <td>0.496580</td>\n",
       "    </tr>\n",
       "    <tr>\n",
       "      <th>4</th>\n",
       "      <td>10907208</td>\n",
       "      <td>0.495380</td>\n",
       "      <td>0.025658</td>\n",
       "      <td>219.0</td>\n",
       "      <td>0.000108</td>\n",
       "      <td>0.495380</td>\n",
       "    </tr>\n",
       "  </tbody>\n",
       "</table>\n",
       "</div>"
      ],
      "text/plain": [
       "   position  COMBINED_rate(cM/Mb)  Genetic_Map(cM)       space   mapjump  \\\n",
       "0  10865933              0.624737         0.000000  10865933.0  0.000000   \n",
       "1  10906723              0.623115         0.025417     40790.0  0.025417   \n",
       "2  10906915              0.497653         0.025512       192.0  0.000096   \n",
       "3  10906989              0.496580         0.025549        74.0  0.000037   \n",
       "4  10907208              0.495380         0.025658       219.0  0.000108   \n",
       "\n",
       "       test  \n",
       "0  0.000000  \n",
       "1  0.623115  \n",
       "2  0.497653  \n",
       "3  0.496580  \n",
       "4  0.495380  "
      ]
     },
     "execution_count": 63,
     "metadata": {},
     "output_type": "execute_result"
    }
   ],
   "source": [
    "goodmap['space'] = goodmap.position - goodmap.position.shift(1).fillna(0) \n",
    "goodmap['mapjump'] = goodmap['Genetic_Map(cM)'] -  goodmap['Genetic_Map(cM)'].shift(1).fillna(0)\n",
    "goodmap['test'] = (goodmap.mapjump/goodmap.space) * 1000000\n",
    "goodmap.head()\n",
    "#goodmap.ix[22285:22290,:]"
   ]
  },
  {
   "cell_type": "code",
   "execution_count": 64,
   "metadata": {
    "collapsed": false
   },
   "outputs": [
    {
     "data": {
      "text/html": [
       "<div>\n",
       "<table border=\"1\" class=\"dataframe\">\n",
       "  <thead>\n",
       "    <tr style=\"text-align: right;\">\n",
       "      <th></th>\n",
       "      <th>position</th>\n",
       "      <th>COMBINED_rate(cM/Mb)</th>\n",
       "      <th>Genetic_Map(cM)</th>\n",
       "      <th>space</th>\n",
       "      <th>mapjump</th>\n",
       "      <th>test</th>\n",
       "    </tr>\n",
       "  </thead>\n",
       "  <tbody>\n",
       "    <tr>\n",
       "      <th>42967</th>\n",
       "      <td>48089527</td>\n",
       "      <td>0.942940</td>\n",
       "      <td>64.628823</td>\n",
       "      <td>1681.0</td>\n",
       "      <td>0.001585</td>\n",
       "      <td>0.942940</td>\n",
       "    </tr>\n",
       "    <tr>\n",
       "      <th>42968</th>\n",
       "      <td>48090629</td>\n",
       "      <td>1.100314</td>\n",
       "      <td>64.630035</td>\n",
       "      <td>1102.0</td>\n",
       "      <td>0.001213</td>\n",
       "      <td>1.100314</td>\n",
       "    </tr>\n",
       "    <tr>\n",
       "      <th>42969</th>\n",
       "      <td>48095858</td>\n",
       "      <td>3.070103</td>\n",
       "      <td>64.646089</td>\n",
       "      <td>5229.0</td>\n",
       "      <td>0.016054</td>\n",
       "      <td>3.070103</td>\n",
       "    </tr>\n",
       "    <tr>\n",
       "      <th>42970</th>\n",
       "      <td>48097610</td>\n",
       "      <td>3.068003</td>\n",
       "      <td>64.651464</td>\n",
       "      <td>1752.0</td>\n",
       "      <td>0.005375</td>\n",
       "      <td>3.068003</td>\n",
       "    </tr>\n",
       "    <tr>\n",
       "      <th>42971</th>\n",
       "      <td>48100155</td>\n",
       "      <td>0.000000</td>\n",
       "      <td>64.651464</td>\n",
       "      <td>2545.0</td>\n",
       "      <td>0.000000</td>\n",
       "      <td>0.000000</td>\n",
       "    </tr>\n",
       "  </tbody>\n",
       "</table>\n",
       "</div>"
      ],
      "text/plain": [
       "       position  COMBINED_rate(cM/Mb)  Genetic_Map(cM)   space   mapjump  \\\n",
       "42967  48089527              0.942940        64.628823  1681.0  0.001585   \n",
       "42968  48090629              1.100314        64.630035  1102.0  0.001213   \n",
       "42969  48095858              3.070103        64.646089  5229.0  0.016054   \n",
       "42970  48097610              3.068003        64.651464  1752.0  0.005375   \n",
       "42971  48100155              0.000000        64.651464  2545.0  0.000000   \n",
       "\n",
       "           test  \n",
       "42967  0.942940  \n",
       "42968  1.100314  \n",
       "42969  3.070103  \n",
       "42970  3.068003  \n",
       "42971  0.000000  "
      ]
     },
     "execution_count": 64,
     "metadata": {},
     "output_type": "execute_result"
    }
   ],
   "source": [
    "goodmap.tail()"
   ]
  },
  {
   "cell_type": "code",
   "execution_count": 53,
   "metadata": {
    "collapsed": false
   },
   "outputs": [
    {
     "data": {
      "text/html": [
       "<div>\n",
       "<table border=\"1\" class=\"dataframe\">\n",
       "  <thead>\n",
       "    <tr style=\"text-align: right;\">\n",
       "      <th></th>\n",
       "      <th>position</th>\n",
       "      <th>COMBINED_rate(cM/Mb)</th>\n",
       "      <th>Genetic_Map(cM)</th>\n",
       "      <th>space</th>\n",
       "      <th>mapjump</th>\n",
       "      <th>test</th>\n",
       "    </tr>\n",
       "  </thead>\n",
       "  <tbody>\n",
       "    <tr>\n",
       "      <th>0</th>\n",
       "      <td>16051347</td>\n",
       "      <td>9.664097</td>\n",
       "      <td>0.000000</td>\n",
       "      <td>16051347.0</td>\n",
       "      <td>0.000000</td>\n",
       "      <td>0.000000</td>\n",
       "    </tr>\n",
       "    <tr>\n",
       "      <th>1</th>\n",
       "      <td>16052618</td>\n",
       "      <td>9.707806</td>\n",
       "      <td>0.012339</td>\n",
       "      <td>1271.0</td>\n",
       "      <td>0.012339</td>\n",
       "      <td>9.707806</td>\n",
       "    </tr>\n",
       "    <tr>\n",
       "      <th>2</th>\n",
       "      <td>16053624</td>\n",
       "      <td>9.713892</td>\n",
       "      <td>0.022111</td>\n",
       "      <td>1006.0</td>\n",
       "      <td>0.009772</td>\n",
       "      <td>9.713892</td>\n",
       "    </tr>\n",
       "    <tr>\n",
       "      <th>3</th>\n",
       "      <td>16053659</td>\n",
       "      <td>9.716344</td>\n",
       "      <td>0.022451</td>\n",
       "      <td>35.0</td>\n",
       "      <td>0.000340</td>\n",
       "      <td>9.716344</td>\n",
       "    </tr>\n",
       "    <tr>\n",
       "      <th>4</th>\n",
       "      <td>16053758</td>\n",
       "      <td>9.707809</td>\n",
       "      <td>0.023412</td>\n",
       "      <td>99.0</td>\n",
       "      <td>0.000961</td>\n",
       "      <td>9.707809</td>\n",
       "    </tr>\n",
       "  </tbody>\n",
       "</table>\n",
       "</div>"
      ],
      "text/plain": [
       "   position  COMBINED_rate(cM/Mb)  Genetic_Map(cM)       space   mapjump  \\\n",
       "0  16051347              9.664097         0.000000  16051347.0  0.000000   \n",
       "1  16052618              9.707806         0.012339      1271.0  0.012339   \n",
       "2  16053624              9.713892         0.022111      1006.0  0.009772   \n",
       "3  16053659              9.716344         0.022451        35.0  0.000340   \n",
       "4  16053758              9.707809         0.023412        99.0  0.000961   \n",
       "\n",
       "       test  \n",
       "0  0.000000  \n",
       "1  9.707806  \n",
       "2  9.713892  \n",
       "3  9.716344  \n",
       "4  9.707809  "
      ]
     },
     "execution_count": 53,
     "metadata": {},
     "output_type": "execute_result"
    }
   ],
   "source": [
    "goodmap.head(5)"
   ]
  },
  {
   "cell_type": "code",
   "execution_count": null,
   "metadata": {
    "collapsed": true
   },
   "outputs": [],
   "source": [
    "72765 0.12455 0.00000\n",
    "94172 0.12458 0.00266\n",
    "94426 0.12461 0.00269"
   ]
  },
  {
   "cell_type": "code",
   "execution_count": 61,
   "metadata": {
    "collapsed": false
   },
   "outputs": [
    {
     "data": {
      "text/plain": [
       "3.16357e-05"
      ]
     },
     "execution_count": 61,
     "metadata": {},
     "output_type": "execute_result"
    }
   ],
   "source": [
    "(94426 - 94172) * .12455 /1000000"
   ]
  },
  {
   "cell_type": "code",
   "execution_count": 12,
   "metadata": {
    "collapsed": false
   },
   "outputs": [
    {
     "data": {
      "text/html": [
       "<div>\n",
       "<table border=\"1\" class=\"dataframe\">\n",
       "  <thead>\n",
       "    <tr style=\"text-align: right;\">\n",
       "      <th></th>\n",
       "      <th>position</th>\n",
       "      <th>cM</th>\n",
       "    </tr>\n",
       "  </thead>\n",
       "  <tbody>\n",
       "    <tr>\n",
       "      <th>52151</th>\n",
       "      <td>158303699</td>\n",
       "      <td>158.304</td>\n",
       "    </tr>\n",
       "    <tr>\n",
       "      <th>52152</th>\n",
       "      <td>158310704</td>\n",
       "      <td>158.311</td>\n",
       "    </tr>\n",
       "    <tr>\n",
       "      <th>52153</th>\n",
       "      <td>158315526</td>\n",
       "      <td>158.316</td>\n",
       "    </tr>\n",
       "    <tr>\n",
       "      <th>52154</th>\n",
       "      <td>158319652</td>\n",
       "      <td>158.320</td>\n",
       "    </tr>\n",
       "    <tr>\n",
       "      <th>52155</th>\n",
       "      <td>158322647</td>\n",
       "      <td>158.323</td>\n",
       "    </tr>\n",
       "  </tbody>\n",
       "</table>\n",
       "</div>"
      ],
      "text/plain": [
       "        position       cM\n",
       "52151  158303699  158.304\n",
       "52152  158310704  158.311\n",
       "52153  158315526  158.316\n",
       "52154  158319652  158.320\n",
       "52155  158322647  158.323"
      ]
     },
     "execution_count": 12,
     "metadata": {},
     "output_type": "execute_result"
    }
   ],
   "source": [
    "buildmap = pd.read_table('chrsplit/170112_merged.chr1.bim',delim_whitespace=True,header=None,usecols=[2,3])\n",
    "buildmap = buildmap.reindex(columns=[3,2])\n",
    "buildmap.columns = ['position','cM']\n",
    "buildmap.tail()"
   ]
  },
  {
   "cell_type": "code",
   "execution_count": 13,
   "metadata": {
    "collapsed": false
   },
   "outputs": [
    {
     "data": {
      "text/html": [
       "<div>\n",
       "<table border=\"1\" class=\"dataframe\">\n",
       "  <thead>\n",
       "    <tr style=\"text-align: right;\">\n",
       "      <th></th>\n",
       "      <th>position</th>\n",
       "      <th>cM</th>\n",
       "      <th>cm2</th>\n",
       "      <th>Genetic_Map(cM)</th>\n",
       "      <th>space</th>\n",
       "      <th>mapjump</th>\n",
       "      <th>test</th>\n",
       "    </tr>\n",
       "  </thead>\n",
       "  <tbody>\n",
       "    <tr>\n",
       "      <th>23174</th>\n",
       "      <td>73017267</td>\n",
       "      <td>73.01730</td>\n",
       "      <td>73.017267</td>\n",
       "      <td>73.017267</td>\n",
       "      <td>819.0</td>\n",
       "      <td>0.000819</td>\n",
       "      <td>1.0</td>\n",
       "    </tr>\n",
       "    <tr>\n",
       "      <th>26425</th>\n",
       "      <td>83479032</td>\n",
       "      <td>83.47900</td>\n",
       "      <td>83.479032</td>\n",
       "      <td>83.479032</td>\n",
       "      <td>19.0</td>\n",
       "      <td>0.000019</td>\n",
       "      <td>1.0</td>\n",
       "    </tr>\n",
       "    <tr>\n",
       "      <th>40133</th>\n",
       "      <td>127683423</td>\n",
       "      <td>127.68300</td>\n",
       "      <td>127.683423</td>\n",
       "      <td>127.683423</td>\n",
       "      <td>7.0</td>\n",
       "      <td>0.000007</td>\n",
       "      <td>1.0</td>\n",
       "    </tr>\n",
       "    <tr>\n",
       "      <th>26124</th>\n",
       "      <td>82615251</td>\n",
       "      <td>82.61520</td>\n",
       "      <td>82.615251</td>\n",
       "      <td>82.615251</td>\n",
       "      <td>4348.0</td>\n",
       "      <td>0.004348</td>\n",
       "      <td>1.0</td>\n",
       "    </tr>\n",
       "    <tr>\n",
       "      <th>6713</th>\n",
       "      <td>21815671</td>\n",
       "      <td>21.81570</td>\n",
       "      <td>21.815671</td>\n",
       "      <td>21.815671</td>\n",
       "      <td>2057.0</td>\n",
       "      <td>0.002057</td>\n",
       "      <td>1.0</td>\n",
       "    </tr>\n",
       "    <tr>\n",
       "      <th>18870</th>\n",
       "      <td>61128331</td>\n",
       "      <td>61.12830</td>\n",
       "      <td>61.128331</td>\n",
       "      <td>61.128331</td>\n",
       "      <td>864.0</td>\n",
       "      <td>0.000864</td>\n",
       "      <td>1.0</td>\n",
       "    </tr>\n",
       "    <tr>\n",
       "      <th>37821</th>\n",
       "      <td>119865189</td>\n",
       "      <td>119.86500</td>\n",
       "      <td>119.865189</td>\n",
       "      <td>119.865189</td>\n",
       "      <td>839.0</td>\n",
       "      <td>0.000839</td>\n",
       "      <td>1.0</td>\n",
       "    </tr>\n",
       "    <tr>\n",
       "      <th>2042</th>\n",
       "      <td>5563746</td>\n",
       "      <td>5.56375</td>\n",
       "      <td>5.563746</td>\n",
       "      <td>5.563746</td>\n",
       "      <td>2378.0</td>\n",
       "      <td>0.002378</td>\n",
       "      <td>1.0</td>\n",
       "    </tr>\n",
       "    <tr>\n",
       "      <th>47979</th>\n",
       "      <td>147775681</td>\n",
       "      <td>147.77600</td>\n",
       "      <td>147.775681</td>\n",
       "      <td>147.775681</td>\n",
       "      <td>328.0</td>\n",
       "      <td>0.000328</td>\n",
       "      <td>1.0</td>\n",
       "    </tr>\n",
       "    <tr>\n",
       "      <th>8555</th>\n",
       "      <td>27617367</td>\n",
       "      <td>27.61740</td>\n",
       "      <td>27.617367</td>\n",
       "      <td>27.617367</td>\n",
       "      <td>3165.0</td>\n",
       "      <td>0.003165</td>\n",
       "      <td>1.0</td>\n",
       "    </tr>\n",
       "  </tbody>\n",
       "</table>\n",
       "</div>"
      ],
      "text/plain": [
       "        position         cM         cm2  Genetic_Map(cM)   space   mapjump  \\\n",
       "23174   73017267   73.01730   73.017267        73.017267   819.0  0.000819   \n",
       "26425   83479032   83.47900   83.479032        83.479032    19.0  0.000019   \n",
       "40133  127683423  127.68300  127.683423       127.683423     7.0  0.000007   \n",
       "26124   82615251   82.61520   82.615251        82.615251  4348.0  0.004348   \n",
       "6713    21815671   21.81570   21.815671        21.815671  2057.0  0.002057   \n",
       "18870   61128331   61.12830   61.128331        61.128331   864.0  0.000864   \n",
       "37821  119865189  119.86500  119.865189       119.865189   839.0  0.000839   \n",
       "2042     5563746    5.56375    5.563746         5.563746  2378.0  0.002378   \n",
       "47979  147775681  147.77600  147.775681       147.775681   328.0  0.000328   \n",
       "8555    27617367   27.61740   27.617367        27.617367  3165.0  0.003165   \n",
       "\n",
       "       test  \n",
       "23174   1.0  \n",
       "26425   1.0  \n",
       "40133   1.0  \n",
       "26124   1.0  \n",
       "6713    1.0  \n",
       "18870   1.0  \n",
       "37821   1.0  \n",
       "2042    1.0  \n",
       "47979   1.0  \n",
       "8555    1.0  "
      ]
     },
     "execution_count": 13,
     "metadata": {},
     "output_type": "execute_result"
    }
   ],
   "source": [
    "buildmap['cm2'] = buildmap.position / 1000000\n",
    "buildmap['Genetic_Map(cM)'] = buildmap.position / 1000000\n",
    "buildmap['space'] = buildmap.position - buildmap.position.shift(1).fillna(0) \n",
    "buildmap['mapjump'] = buildmap.cm2 -  buildmap.cm2.shift(1).fillna(0)\n",
    "buildmap['test'] = (buildmap.mapjump/buildmap.space) * 1000000\n",
    "buildmap.sample(10)\n",
    "#goodmap['mapjump'] = goodmap['Genetic_Map(cM)'] -  goodmap['Genetic_Map(cM)'].shift(1)"
   ]
  },
  {
   "cell_type": "code",
   "execution_count": 14,
   "metadata": {
    "collapsed": false
   },
   "outputs": [
    {
     "name": "stdout",
     "output_type": "stream",
     "text": [
      "        position  COMBINED_rate(cM/Mb)  Genetic_Map(cM)\n",
      "52151  158303699                   1.0       158.303699\n",
      "52152  158310704                   1.0       158.310704\n",
      "52153  158315526                   1.0       158.315526\n",
      "52154  158319652                   1.0       158.319652\n",
      "52155  158322647                   0.0       158.322647\n"
     ]
    }
   ],
   "source": [
    "buildmap['COMBINED_rate(cM/Mb)'] = 1.0\n",
    "outmap = buildmap.reindex(columns=['position','COMBINED_rate(cM/Mb)','Genetic_Map(cM)'])\n",
    "outmap.iloc[-1,1] = 0\n",
    "print(outmap.tail())\n"
   ]
  },
  {
   "cell_type": "code",
   "execution_count": 15,
   "metadata": {
    "collapsed": false
   },
   "outputs": [
    {
     "name": "stdout",
     "output_type": "stream",
     "text": [
      "position COMBINED_rate(cM/Mb) Genetic_Map(cM)\r\n",
      "16947 1.0 0.016947\r\n",
      "19832 1.0 0.019832\r\n",
      "67130 1.0 0.06713\r\n",
      "70600 1.0 0.0706\r\n",
      "78655 1.0 0.078655\r\n",
      "89725 1.0 0.089725\r\n",
      "120183 1.0 0.120183\r\n",
      "123681 1.0 0.123681\r\n",
      "123782 1.0 0.123782\r\n"
     ]
    }
   ],
   "source": [
    "outmap.to_csv('impute_maps/impmap.chr1.map',sep=' ',index=False)\n",
    "! head impute_maps/impmap.chr1.map"
   ]
  },
  {
   "cell_type": "code",
   "execution_count": 37,
   "metadata": {
    "collapsed": true
   },
   "outputs": [],
   "source": [
    "from itertools import tee\n",
    "def parwise(iterable):\n",
    "        a,b = tee(iterable)\n",
    "        next(b, None)\n",
    "        return zip(a,b)\n",
    "def chunks(end):\n",
    "        return [str(i[0]+1)+ ' ' + str(i[1]) for i in parwise(range(0,end,5000000))]\n",
    "\n",
    "def chrchunker(WC):\n",
    "        return rangedict[WC.chr][int(WC.chunk)]"
   ]
  },
  {
   "cell_type": "code",
   "execution_count": 38,
   "metadata": {
    "collapsed": true
   },
   "outputs": [],
   "source": [
    "#rangedict = {'1':chunks(158322647),'2':chunks(136914030),'3':chunks(121412973), '4':chunks(120786530), '5':chunks(121186724), '6':chunks(119454666), '7':chunks(112628884), '8':chunks(113380773), '9':chunks(105701306), '10':chunks(104301732), '11':chunks(107282960), '12':chunks(91155612), '13':chunks(84230359), '14':chunks(84628243), '15':chunks(85272311), '16':chunks(81720984), '17':chunks(75149392), '18':chunks(65999195), '19':chunks(64044783), '20':chunks(71992748), '21':chunks(71594139), '22':chunks(61379134), '23':chunks(52467978), '24':chunks(62685898), '25':chunks(43879707), '26':chunks(51680135), '27':chunks(45402893), '28':chunks(46267578), '29':chunks(51504286), '30':chunks(143024438)}\n",
    "chromes= list(range(1,30)) \n",
    "DATA =['227234.170112.325.GGPF250', '26504.170112.3126.GGPLDV3', '58336.170112.315.SNP50A', '58336.170112.335.SNP50B', '58336.170112.3399.SNP50C', '76999.170112.3498.GGP90KTi','777962.170127.483.HD' ]"
   ]
  },
  {
   "cell_type": "code",
   "execution_count": 59,
   "metadata": {
    "collapsed": false
   },
   "outputs": [
    {
     "ename": "IndentationError",
     "evalue": "unindent does not match any outer indentation level (<ipython-input-59-b3765e093de3>, line 4)",
     "output_type": "error",
     "traceback": [
      "\u001b[0;36m  File \u001b[0;32m\"<ipython-input-59-b3765e093de3>\"\u001b[0;36m, line \u001b[0;32m4\u001b[0m\n\u001b[0;31m    file = 'imputed/'+ i + '.chr.' + chr + '.' + chunk + '.phased.impute2'\u001b[0m\n\u001b[0m                                                                          ^\u001b[0m\n\u001b[0;31mIndentationError\u001b[0m\u001b[0;31m:\u001b[0m unindent does not match any outer indentation level\n"
     ]
    }
   ],
   "source": [
    "for i in DATA:\n",
    "for chr in rangedict.keys():\n",
    "for chunk in rangedict.get(chr):\n",
    "file = 'imputed/'+ i + '.chr.' + chr + '.' + chunk + '.phased.impute2'"
   ]
  },
  {
   "cell_type": "code",
   "execution_count": 103,
   "metadata": {
    "collapsed": false
   },
   "outputs": [],
   "source": [
    "targfiles=[]\n",
    "for chr in rangedict.keys():\n",
    "    chunkcounter=0\n",
    "    for chunk in rangedict.get(chr):\n",
    "        chunkcounter = chunkcounter+1\n",
    "        file = 'imputed/imp_round1.chr'+chr+'.'+str(chunkcounter)+'.phased.impute2'\n",
    "        targfiles.append(file)"
   ]
  },
  {
   "cell_type": "code",
   "execution_count": 104,
   "metadata": {
    "collapsed": false
   },
   "outputs": [
    {
     "name": "stdout",
     "output_type": "stream",
     "text": [
      "['imputed/imp_round1.chr3.1.phased.impute2', 'imputed/imp_round1.chr3.2.phased.impute2', 'imputed/imp_round1.chr3.3.phased.impute2', 'imputed/imp_round1.chr3.4.phased.impute2', 'imputed/imp_round1.chr3.5.phased.impute2', 'imputed/imp_round1.chr3.6.phased.impute2', 'imputed/imp_round1.chr3.7.phased.impute2', 'imputed/imp_round1.chr3.8.phased.impute2', 'imputed/imp_round1.chr3.9.phased.impute2', 'imputed/imp_round1.chr3.10.phased.impute2', 'imputed/imp_round1.chr3.11.phased.impute2', 'imputed/imp_round1.chr3.12.phased.impute2', 'imputed/imp_round1.chr3.13.phased.impute2', 'imputed/imp_round1.chr3.14.phased.impute2', 'imputed/imp_round1.chr3.15.phased.impute2', 'imputed/imp_round1.chr3.16.phased.impute2', 'imputed/imp_round1.chr3.17.phased.impute2', 'imputed/imp_round1.chr3.18.phased.impute2', 'imputed/imp_round1.chr3.19.phased.impute2', 'imputed/imp_round1.chr3.20.phased.impute2', 'imputed/imp_round1.chr3.21.phased.impute2', 'imputed/imp_round1.chr3.22.phased.impute2', 'imputed/imp_round1.chr3.23.phased.impute2', 'imputed/imp_round1.chr3.24.phased.impute2', 'imputed/imp_round1.chr25.1.phased.impute2', 'imputed/imp_round1.chr25.2.phased.impute2', 'imputed/imp_round1.chr25.3.phased.impute2', 'imputed/imp_round1.chr25.4.phased.impute2', 'imputed/imp_round1.chr25.5.phased.impute2', 'imputed/imp_round1.chr25.6.phased.impute2', 'imputed/imp_round1.chr25.7.phased.impute2', 'imputed/imp_round1.chr25.8.phased.impute2', 'imputed/imp_round1.chr19.1.phased.impute2', 'imputed/imp_round1.chr19.2.phased.impute2', 'imputed/imp_round1.chr19.3.phased.impute2', 'imputed/imp_round1.chr19.4.phased.impute2', 'imputed/imp_round1.chr19.5.phased.impute2', 'imputed/imp_round1.chr19.6.phased.impute2', 'imputed/imp_round1.chr19.7.phased.impute2', 'imputed/imp_round1.chr19.8.phased.impute2', 'imputed/imp_round1.chr19.9.phased.impute2', 'imputed/imp_round1.chr19.10.phased.impute2', 'imputed/imp_round1.chr19.11.phased.impute2', 'imputed/imp_round1.chr19.12.phased.impute2', 'imputed/imp_round1.chr22.1.phased.impute2', 'imputed/imp_round1.chr22.2.phased.impute2', 'imputed/imp_round1.chr22.3.phased.impute2', 'imputed/imp_round1.chr22.4.phased.impute2', 'imputed/imp_round1.chr22.5.phased.impute2', 'imputed/imp_round1.chr22.6.phased.impute2', 'imputed/imp_round1.chr22.7.phased.impute2', 'imputed/imp_round1.chr22.8.phased.impute2', 'imputed/imp_round1.chr22.9.phased.impute2', 'imputed/imp_round1.chr22.10.phased.impute2', 'imputed/imp_round1.chr22.11.phased.impute2', 'imputed/imp_round1.chr22.12.phased.impute2', 'imputed/imp_round1.chr13.1.phased.impute2', 'imputed/imp_round1.chr13.2.phased.impute2', 'imputed/imp_round1.chr13.3.phased.impute2', 'imputed/imp_round1.chr13.4.phased.impute2', 'imputed/imp_round1.chr13.5.phased.impute2', 'imputed/imp_round1.chr13.6.phased.impute2', 'imputed/imp_round1.chr13.7.phased.impute2', 'imputed/imp_round1.chr13.8.phased.impute2', 'imputed/imp_round1.chr13.9.phased.impute2', 'imputed/imp_round1.chr13.10.phased.impute2', 'imputed/imp_round1.chr13.11.phased.impute2', 'imputed/imp_round1.chr13.12.phased.impute2', 'imputed/imp_round1.chr13.13.phased.impute2', 'imputed/imp_round1.chr13.14.phased.impute2', 'imputed/imp_round1.chr13.15.phased.impute2', 'imputed/imp_round1.chr13.16.phased.impute2', 'imputed/imp_round1.chr5.1.phased.impute2', 'imputed/imp_round1.chr5.2.phased.impute2', 'imputed/imp_round1.chr5.3.phased.impute2', 'imputed/imp_round1.chr5.4.phased.impute2', 'imputed/imp_round1.chr5.5.phased.impute2', 'imputed/imp_round1.chr5.6.phased.impute2', 'imputed/imp_round1.chr5.7.phased.impute2', 'imputed/imp_round1.chr5.8.phased.impute2', 'imputed/imp_round1.chr5.9.phased.impute2', 'imputed/imp_round1.chr5.10.phased.impute2', 'imputed/imp_round1.chr5.11.phased.impute2', 'imputed/imp_round1.chr5.12.phased.impute2', 'imputed/imp_round1.chr5.13.phased.impute2', 'imputed/imp_round1.chr5.14.phased.impute2', 'imputed/imp_round1.chr5.15.phased.impute2', 'imputed/imp_round1.chr5.16.phased.impute2', 'imputed/imp_round1.chr5.17.phased.impute2', 'imputed/imp_round1.chr5.18.phased.impute2', 'imputed/imp_round1.chr5.19.phased.impute2', 'imputed/imp_round1.chr5.20.phased.impute2', 'imputed/imp_round1.chr5.21.phased.impute2', 'imputed/imp_round1.chr5.22.phased.impute2', 'imputed/imp_round1.chr5.23.phased.impute2', 'imputed/imp_round1.chr5.24.phased.impute2', 'imputed/imp_round1.chr1.1.phased.impute2', 'imputed/imp_round1.chr1.2.phased.impute2', 'imputed/imp_round1.chr1.3.phased.impute2', 'imputed/imp_round1.chr1.4.phased.impute2', 'imputed/imp_round1.chr1.5.phased.impute2', 'imputed/imp_round1.chr1.6.phased.impute2', 'imputed/imp_round1.chr1.7.phased.impute2', 'imputed/imp_round1.chr1.8.phased.impute2', 'imputed/imp_round1.chr1.9.phased.impute2', 'imputed/imp_round1.chr1.10.phased.impute2', 'imputed/imp_round1.chr1.11.phased.impute2', 'imputed/imp_round1.chr1.12.phased.impute2', 'imputed/imp_round1.chr1.13.phased.impute2', 'imputed/imp_round1.chr1.14.phased.impute2', 'imputed/imp_round1.chr1.15.phased.impute2', 'imputed/imp_round1.chr1.16.phased.impute2', 'imputed/imp_round1.chr1.17.phased.impute2', 'imputed/imp_round1.chr1.18.phased.impute2', 'imputed/imp_round1.chr1.19.phased.impute2', 'imputed/imp_round1.chr1.20.phased.impute2', 'imputed/imp_round1.chr1.21.phased.impute2', 'imputed/imp_round1.chr1.22.phased.impute2', 'imputed/imp_round1.chr1.23.phased.impute2', 'imputed/imp_round1.chr1.24.phased.impute2', 'imputed/imp_round1.chr1.25.phased.impute2', 'imputed/imp_round1.chr1.26.phased.impute2', 'imputed/imp_round1.chr1.27.phased.impute2', 'imputed/imp_round1.chr1.28.phased.impute2', 'imputed/imp_round1.chr1.29.phased.impute2', 'imputed/imp_round1.chr1.30.phased.impute2', 'imputed/imp_round1.chr1.31.phased.impute2', 'imputed/imp_round1.chr28.1.phased.impute2', 'imputed/imp_round1.chr28.2.phased.impute2', 'imputed/imp_round1.chr28.3.phased.impute2', 'imputed/imp_round1.chr28.4.phased.impute2', 'imputed/imp_round1.chr28.5.phased.impute2', 'imputed/imp_round1.chr28.6.phased.impute2', 'imputed/imp_round1.chr28.7.phased.impute2', 'imputed/imp_round1.chr28.8.phased.impute2', 'imputed/imp_round1.chr28.9.phased.impute2', 'imputed/imp_round1.chr12.1.phased.impute2', 'imputed/imp_round1.chr12.2.phased.impute2', 'imputed/imp_round1.chr12.3.phased.impute2', 'imputed/imp_round1.chr12.4.phased.impute2', 'imputed/imp_round1.chr12.5.phased.impute2', 'imputed/imp_round1.chr12.6.phased.impute2', 'imputed/imp_round1.chr12.7.phased.impute2', 'imputed/imp_round1.chr12.8.phased.impute2', 'imputed/imp_round1.chr12.9.phased.impute2', 'imputed/imp_round1.chr12.10.phased.impute2', 'imputed/imp_round1.chr12.11.phased.impute2', 'imputed/imp_round1.chr12.12.phased.impute2', 'imputed/imp_round1.chr12.13.phased.impute2', 'imputed/imp_round1.chr12.14.phased.impute2', 'imputed/imp_round1.chr12.15.phased.impute2', 'imputed/imp_round1.chr12.16.phased.impute2', 'imputed/imp_round1.chr12.17.phased.impute2', 'imputed/imp_round1.chr12.18.phased.impute2', 'imputed/imp_round1.chr15.1.phased.impute2', 'imputed/imp_round1.chr15.2.phased.impute2', 'imputed/imp_round1.chr15.3.phased.impute2', 'imputed/imp_round1.chr15.4.phased.impute2', 'imputed/imp_round1.chr15.5.phased.impute2', 'imputed/imp_round1.chr15.6.phased.impute2', 'imputed/imp_round1.chr15.7.phased.impute2', 'imputed/imp_round1.chr15.8.phased.impute2', 'imputed/imp_round1.chr15.9.phased.impute2', 'imputed/imp_round1.chr15.10.phased.impute2', 'imputed/imp_round1.chr15.11.phased.impute2', 'imputed/imp_round1.chr15.12.phased.impute2', 'imputed/imp_round1.chr15.13.phased.impute2', 'imputed/imp_round1.chr15.14.phased.impute2', 'imputed/imp_round1.chr15.15.phased.impute2', 'imputed/imp_round1.chr15.16.phased.impute2', 'imputed/imp_round1.chr15.17.phased.impute2', 'imputed/imp_round1.chr14.1.phased.impute2', 'imputed/imp_round1.chr14.2.phased.impute2', 'imputed/imp_round1.chr14.3.phased.impute2', 'imputed/imp_round1.chr14.4.phased.impute2', 'imputed/imp_round1.chr14.5.phased.impute2', 'imputed/imp_round1.chr14.6.phased.impute2', 'imputed/imp_round1.chr14.7.phased.impute2', 'imputed/imp_round1.chr14.8.phased.impute2', 'imputed/imp_round1.chr14.9.phased.impute2', 'imputed/imp_round1.chr14.10.phased.impute2', 'imputed/imp_round1.chr14.11.phased.impute2', 'imputed/imp_round1.chr14.12.phased.impute2', 'imputed/imp_round1.chr14.13.phased.impute2', 'imputed/imp_round1.chr14.14.phased.impute2', 'imputed/imp_round1.chr14.15.phased.impute2', 'imputed/imp_round1.chr14.16.phased.impute2', 'imputed/imp_round1.chr8.1.phased.impute2', 'imputed/imp_round1.chr8.2.phased.impute2', 'imputed/imp_round1.chr8.3.phased.impute2', 'imputed/imp_round1.chr8.4.phased.impute2', 'imputed/imp_round1.chr8.5.phased.impute2', 'imputed/imp_round1.chr8.6.phased.impute2', 'imputed/imp_round1.chr8.7.phased.impute2', 'imputed/imp_round1.chr8.8.phased.impute2', 'imputed/imp_round1.chr8.9.phased.impute2', 'imputed/imp_round1.chr8.10.phased.impute2', 'imputed/imp_round1.chr8.11.phased.impute2', 'imputed/imp_round1.chr8.12.phased.impute2', 'imputed/imp_round1.chr8.13.phased.impute2', 'imputed/imp_round1.chr8.14.phased.impute2', 'imputed/imp_round1.chr8.15.phased.impute2', 'imputed/imp_round1.chr8.16.phased.impute2', 'imputed/imp_round1.chr8.17.phased.impute2', 'imputed/imp_round1.chr8.18.phased.impute2', 'imputed/imp_round1.chr8.19.phased.impute2', 'imputed/imp_round1.chr8.20.phased.impute2', 'imputed/imp_round1.chr8.21.phased.impute2', 'imputed/imp_round1.chr8.22.phased.impute2', 'imputed/imp_round1.chr7.1.phased.impute2', 'imputed/imp_round1.chr7.2.phased.impute2', 'imputed/imp_round1.chr7.3.phased.impute2', 'imputed/imp_round1.chr7.4.phased.impute2', 'imputed/imp_round1.chr7.5.phased.impute2', 'imputed/imp_round1.chr7.6.phased.impute2', 'imputed/imp_round1.chr7.7.phased.impute2', 'imputed/imp_round1.chr7.8.phased.impute2', 'imputed/imp_round1.chr7.9.phased.impute2', 'imputed/imp_round1.chr7.10.phased.impute2', 'imputed/imp_round1.chr7.11.phased.impute2', 'imputed/imp_round1.chr7.12.phased.impute2', 'imputed/imp_round1.chr7.13.phased.impute2', 'imputed/imp_round1.chr7.14.phased.impute2', 'imputed/imp_round1.chr7.15.phased.impute2', 'imputed/imp_round1.chr7.16.phased.impute2', 'imputed/imp_round1.chr7.17.phased.impute2', 'imputed/imp_round1.chr7.18.phased.impute2', 'imputed/imp_round1.chr7.19.phased.impute2', 'imputed/imp_round1.chr7.20.phased.impute2', 'imputed/imp_round1.chr7.21.phased.impute2', 'imputed/imp_round1.chr7.22.phased.impute2', 'imputed/imp_round1.chr20.1.phased.impute2', 'imputed/imp_round1.chr20.2.phased.impute2', 'imputed/imp_round1.chr20.3.phased.impute2', 'imputed/imp_round1.chr20.4.phased.impute2', 'imputed/imp_round1.chr20.5.phased.impute2', 'imputed/imp_round1.chr20.6.phased.impute2', 'imputed/imp_round1.chr20.7.phased.impute2', 'imputed/imp_round1.chr20.8.phased.impute2', 'imputed/imp_round1.chr20.9.phased.impute2', 'imputed/imp_round1.chr20.10.phased.impute2', 'imputed/imp_round1.chr20.11.phased.impute2', 'imputed/imp_round1.chr20.12.phased.impute2', 'imputed/imp_round1.chr20.13.phased.impute2', 'imputed/imp_round1.chr20.14.phased.impute2', 'imputed/imp_round1.chr9.1.phased.impute2', 'imputed/imp_round1.chr9.2.phased.impute2', 'imputed/imp_round1.chr9.3.phased.impute2', 'imputed/imp_round1.chr9.4.phased.impute2', 'imputed/imp_round1.chr9.5.phased.impute2', 'imputed/imp_round1.chr9.6.phased.impute2', 'imputed/imp_round1.chr9.7.phased.impute2', 'imputed/imp_round1.chr9.8.phased.impute2', 'imputed/imp_round1.chr9.9.phased.impute2', 'imputed/imp_round1.chr9.10.phased.impute2', 'imputed/imp_round1.chr9.11.phased.impute2', 'imputed/imp_round1.chr9.12.phased.impute2', 'imputed/imp_round1.chr9.13.phased.impute2', 'imputed/imp_round1.chr9.14.phased.impute2', 'imputed/imp_round1.chr9.15.phased.impute2', 'imputed/imp_round1.chr9.16.phased.impute2', 'imputed/imp_round1.chr9.17.phased.impute2', 'imputed/imp_round1.chr9.18.phased.impute2', 'imputed/imp_round1.chr9.19.phased.impute2', 'imputed/imp_round1.chr9.20.phased.impute2', 'imputed/imp_round1.chr9.21.phased.impute2', 'imputed/imp_round1.chr24.1.phased.impute2', 'imputed/imp_round1.chr24.2.phased.impute2', 'imputed/imp_round1.chr24.3.phased.impute2', 'imputed/imp_round1.chr24.4.phased.impute2', 'imputed/imp_round1.chr24.5.phased.impute2', 'imputed/imp_round1.chr24.6.phased.impute2', 'imputed/imp_round1.chr24.7.phased.impute2', 'imputed/imp_round1.chr24.8.phased.impute2', 'imputed/imp_round1.chr24.9.phased.impute2', 'imputed/imp_round1.chr24.10.phased.impute2', 'imputed/imp_round1.chr24.11.phased.impute2', 'imputed/imp_round1.chr24.12.phased.impute2', 'imputed/imp_round1.chr21.1.phased.impute2', 'imputed/imp_round1.chr21.2.phased.impute2', 'imputed/imp_round1.chr21.3.phased.impute2', 'imputed/imp_round1.chr21.4.phased.impute2', 'imputed/imp_round1.chr21.5.phased.impute2', 'imputed/imp_round1.chr21.6.phased.impute2', 'imputed/imp_round1.chr21.7.phased.impute2', 'imputed/imp_round1.chr21.8.phased.impute2', 'imputed/imp_round1.chr21.9.phased.impute2', 'imputed/imp_round1.chr21.10.phased.impute2', 'imputed/imp_round1.chr21.11.phased.impute2', 'imputed/imp_round1.chr21.12.phased.impute2', 'imputed/imp_round1.chr21.13.phased.impute2', 'imputed/imp_round1.chr21.14.phased.impute2', 'imputed/imp_round1.chr26.1.phased.impute2', 'imputed/imp_round1.chr26.2.phased.impute2', 'imputed/imp_round1.chr26.3.phased.impute2', 'imputed/imp_round1.chr26.4.phased.impute2', 'imputed/imp_round1.chr26.5.phased.impute2', 'imputed/imp_round1.chr26.6.phased.impute2', 'imputed/imp_round1.chr26.7.phased.impute2', 'imputed/imp_round1.chr26.8.phased.impute2', 'imputed/imp_round1.chr26.9.phased.impute2', 'imputed/imp_round1.chr26.10.phased.impute2', 'imputed/imp_round1.chr6.1.phased.impute2', 'imputed/imp_round1.chr6.2.phased.impute2', 'imputed/imp_round1.chr6.3.phased.impute2', 'imputed/imp_round1.chr6.4.phased.impute2', 'imputed/imp_round1.chr6.5.phased.impute2', 'imputed/imp_round1.chr6.6.phased.impute2', 'imputed/imp_round1.chr6.7.phased.impute2', 'imputed/imp_round1.chr6.8.phased.impute2', 'imputed/imp_round1.chr6.9.phased.impute2', 'imputed/imp_round1.chr6.10.phased.impute2', 'imputed/imp_round1.chr6.11.phased.impute2', 'imputed/imp_round1.chr6.12.phased.impute2', 'imputed/imp_round1.chr6.13.phased.impute2', 'imputed/imp_round1.chr6.14.phased.impute2', 'imputed/imp_round1.chr6.15.phased.impute2', 'imputed/imp_round1.chr6.16.phased.impute2', 'imputed/imp_round1.chr6.17.phased.impute2', 'imputed/imp_round1.chr6.18.phased.impute2', 'imputed/imp_round1.chr6.19.phased.impute2', 'imputed/imp_round1.chr6.20.phased.impute2', 'imputed/imp_round1.chr6.21.phased.impute2', 'imputed/imp_round1.chr6.22.phased.impute2', 'imputed/imp_round1.chr6.23.phased.impute2', 'imputed/imp_round1.chr2.1.phased.impute2', 'imputed/imp_round1.chr2.2.phased.impute2', 'imputed/imp_round1.chr2.3.phased.impute2', 'imputed/imp_round1.chr2.4.phased.impute2', 'imputed/imp_round1.chr2.5.phased.impute2', 'imputed/imp_round1.chr2.6.phased.impute2', 'imputed/imp_round1.chr2.7.phased.impute2', 'imputed/imp_round1.chr2.8.phased.impute2', 'imputed/imp_round1.chr2.9.phased.impute2', 'imputed/imp_round1.chr2.10.phased.impute2', 'imputed/imp_round1.chr2.11.phased.impute2', 'imputed/imp_round1.chr2.12.phased.impute2', 'imputed/imp_round1.chr2.13.phased.impute2', 'imputed/imp_round1.chr2.14.phased.impute2', 'imputed/imp_round1.chr2.15.phased.impute2', 'imputed/imp_round1.chr2.16.phased.impute2', 'imputed/imp_round1.chr2.17.phased.impute2', 'imputed/imp_round1.chr2.18.phased.impute2', 'imputed/imp_round1.chr2.19.phased.impute2', 'imputed/imp_round1.chr2.20.phased.impute2', 'imputed/imp_round1.chr2.21.phased.impute2', 'imputed/imp_round1.chr2.22.phased.impute2', 'imputed/imp_round1.chr2.23.phased.impute2', 'imputed/imp_round1.chr2.24.phased.impute2', 'imputed/imp_round1.chr2.25.phased.impute2', 'imputed/imp_round1.chr2.26.phased.impute2', 'imputed/imp_round1.chr2.27.phased.impute2', 'imputed/imp_round1.chr18.1.phased.impute2', 'imputed/imp_round1.chr18.2.phased.impute2', 'imputed/imp_round1.chr18.3.phased.impute2', 'imputed/imp_round1.chr18.4.phased.impute2', 'imputed/imp_round1.chr18.5.phased.impute2', 'imputed/imp_round1.chr18.6.phased.impute2', 'imputed/imp_round1.chr18.7.phased.impute2', 'imputed/imp_round1.chr18.8.phased.impute2', 'imputed/imp_round1.chr18.9.phased.impute2', 'imputed/imp_round1.chr18.10.phased.impute2', 'imputed/imp_round1.chr18.11.phased.impute2', 'imputed/imp_round1.chr18.12.phased.impute2', 'imputed/imp_round1.chr18.13.phased.impute2', 'imputed/imp_round1.chr11.1.phased.impute2', 'imputed/imp_round1.chr11.2.phased.impute2', 'imputed/imp_round1.chr11.3.phased.impute2', 'imputed/imp_round1.chr11.4.phased.impute2', 'imputed/imp_round1.chr11.5.phased.impute2', 'imputed/imp_round1.chr11.6.phased.impute2', 'imputed/imp_round1.chr11.7.phased.impute2', 'imputed/imp_round1.chr11.8.phased.impute2', 'imputed/imp_round1.chr11.9.phased.impute2', 'imputed/imp_round1.chr11.10.phased.impute2', 'imputed/imp_round1.chr11.11.phased.impute2', 'imputed/imp_round1.chr11.12.phased.impute2', 'imputed/imp_round1.chr11.13.phased.impute2', 'imputed/imp_round1.chr11.14.phased.impute2', 'imputed/imp_round1.chr11.15.phased.impute2', 'imputed/imp_round1.chr11.16.phased.impute2', 'imputed/imp_round1.chr11.17.phased.impute2', 'imputed/imp_round1.chr11.18.phased.impute2', 'imputed/imp_round1.chr11.19.phased.impute2', 'imputed/imp_round1.chr11.20.phased.impute2', 'imputed/imp_round1.chr11.21.phased.impute2', 'imputed/imp_round1.chr17.1.phased.impute2', 'imputed/imp_round1.chr17.2.phased.impute2', 'imputed/imp_round1.chr17.3.phased.impute2', 'imputed/imp_round1.chr17.4.phased.impute2', 'imputed/imp_round1.chr17.5.phased.impute2', 'imputed/imp_round1.chr17.6.phased.impute2', 'imputed/imp_round1.chr17.7.phased.impute2', 'imputed/imp_round1.chr17.8.phased.impute2', 'imputed/imp_round1.chr17.9.phased.impute2', 'imputed/imp_round1.chr17.10.phased.impute2', 'imputed/imp_round1.chr17.11.phased.impute2', 'imputed/imp_round1.chr17.12.phased.impute2', 'imputed/imp_round1.chr17.13.phased.impute2', 'imputed/imp_round1.chr17.14.phased.impute2', 'imputed/imp_round1.chr17.15.phased.impute2', 'imputed/imp_round1.chr30.1.phased.impute2', 'imputed/imp_round1.chr30.2.phased.impute2', 'imputed/imp_round1.chr30.3.phased.impute2', 'imputed/imp_round1.chr30.4.phased.impute2', 'imputed/imp_round1.chr30.5.phased.impute2', 'imputed/imp_round1.chr30.6.phased.impute2', 'imputed/imp_round1.chr30.7.phased.impute2', 'imputed/imp_round1.chr30.8.phased.impute2', 'imputed/imp_round1.chr30.9.phased.impute2', 'imputed/imp_round1.chr30.10.phased.impute2', 'imputed/imp_round1.chr30.11.phased.impute2', 'imputed/imp_round1.chr30.12.phased.impute2', 'imputed/imp_round1.chr30.13.phased.impute2', 'imputed/imp_round1.chr30.14.phased.impute2', 'imputed/imp_round1.chr30.15.phased.impute2', 'imputed/imp_round1.chr30.16.phased.impute2', 'imputed/imp_round1.chr30.17.phased.impute2', 'imputed/imp_round1.chr30.18.phased.impute2', 'imputed/imp_round1.chr30.19.phased.impute2', 'imputed/imp_round1.chr30.20.phased.impute2', 'imputed/imp_round1.chr30.21.phased.impute2', 'imputed/imp_round1.chr30.22.phased.impute2', 'imputed/imp_round1.chr30.23.phased.impute2', 'imputed/imp_round1.chr30.24.phased.impute2', 'imputed/imp_round1.chr30.25.phased.impute2', 'imputed/imp_round1.chr30.26.phased.impute2', 'imputed/imp_round1.chr30.27.phased.impute2', 'imputed/imp_round1.chr30.28.phased.impute2', 'imputed/imp_round1.chr29.1.phased.impute2', 'imputed/imp_round1.chr29.2.phased.impute2', 'imputed/imp_round1.chr29.3.phased.impute2', 'imputed/imp_round1.chr29.4.phased.impute2', 'imputed/imp_round1.chr29.5.phased.impute2', 'imputed/imp_round1.chr29.6.phased.impute2', 'imputed/imp_round1.chr29.7.phased.impute2', 'imputed/imp_round1.chr29.8.phased.impute2', 'imputed/imp_round1.chr29.9.phased.impute2', 'imputed/imp_round1.chr29.10.phased.impute2', 'imputed/imp_round1.chr23.1.phased.impute2', 'imputed/imp_round1.chr23.2.phased.impute2', 'imputed/imp_round1.chr23.3.phased.impute2', 'imputed/imp_round1.chr23.4.phased.impute2', 'imputed/imp_round1.chr23.5.phased.impute2', 'imputed/imp_round1.chr23.6.phased.impute2', 'imputed/imp_round1.chr23.7.phased.impute2', 'imputed/imp_round1.chr23.8.phased.impute2', 'imputed/imp_round1.chr23.9.phased.impute2', 'imputed/imp_round1.chr23.10.phased.impute2', 'imputed/imp_round1.chr10.1.phased.impute2', 'imputed/imp_round1.chr10.2.phased.impute2', 'imputed/imp_round1.chr10.3.phased.impute2', 'imputed/imp_round1.chr10.4.phased.impute2', 'imputed/imp_round1.chr10.5.phased.impute2', 'imputed/imp_round1.chr10.6.phased.impute2', 'imputed/imp_round1.chr10.7.phased.impute2', 'imputed/imp_round1.chr10.8.phased.impute2', 'imputed/imp_round1.chr10.9.phased.impute2', 'imputed/imp_round1.chr10.10.phased.impute2', 'imputed/imp_round1.chr10.11.phased.impute2', 'imputed/imp_round1.chr10.12.phased.impute2', 'imputed/imp_round1.chr10.13.phased.impute2', 'imputed/imp_round1.chr10.14.phased.impute2', 'imputed/imp_round1.chr10.15.phased.impute2', 'imputed/imp_round1.chr10.16.phased.impute2', 'imputed/imp_round1.chr10.17.phased.impute2', 'imputed/imp_round1.chr10.18.phased.impute2', 'imputed/imp_round1.chr10.19.phased.impute2', 'imputed/imp_round1.chr10.20.phased.impute2', 'imputed/imp_round1.chr27.1.phased.impute2', 'imputed/imp_round1.chr27.2.phased.impute2', 'imputed/imp_round1.chr27.3.phased.impute2', 'imputed/imp_round1.chr27.4.phased.impute2', 'imputed/imp_round1.chr27.5.phased.impute2', 'imputed/imp_round1.chr27.6.phased.impute2', 'imputed/imp_round1.chr27.7.phased.impute2', 'imputed/imp_round1.chr27.8.phased.impute2', 'imputed/imp_round1.chr27.9.phased.impute2', 'imputed/imp_round1.chr4.1.phased.impute2', 'imputed/imp_round1.chr4.2.phased.impute2', 'imputed/imp_round1.chr4.3.phased.impute2', 'imputed/imp_round1.chr4.4.phased.impute2', 'imputed/imp_round1.chr4.5.phased.impute2', 'imputed/imp_round1.chr4.6.phased.impute2', 'imputed/imp_round1.chr4.7.phased.impute2', 'imputed/imp_round1.chr4.8.phased.impute2', 'imputed/imp_round1.chr4.9.phased.impute2', 'imputed/imp_round1.chr4.10.phased.impute2', 'imputed/imp_round1.chr4.11.phased.impute2', 'imputed/imp_round1.chr4.12.phased.impute2', 'imputed/imp_round1.chr4.13.phased.impute2', 'imputed/imp_round1.chr4.14.phased.impute2', 'imputed/imp_round1.chr4.15.phased.impute2', 'imputed/imp_round1.chr4.16.phased.impute2', 'imputed/imp_round1.chr4.17.phased.impute2', 'imputed/imp_round1.chr4.18.phased.impute2', 'imputed/imp_round1.chr4.19.phased.impute2', 'imputed/imp_round1.chr4.20.phased.impute2', 'imputed/imp_round1.chr4.21.phased.impute2', 'imputed/imp_round1.chr4.22.phased.impute2', 'imputed/imp_round1.chr4.23.phased.impute2', 'imputed/imp_round1.chr4.24.phased.impute2', 'imputed/imp_round1.chr16.1.phased.impute2', 'imputed/imp_round1.chr16.2.phased.impute2', 'imputed/imp_round1.chr16.3.phased.impute2', 'imputed/imp_round1.chr16.4.phased.impute2', 'imputed/imp_round1.chr16.5.phased.impute2', 'imputed/imp_round1.chr16.6.phased.impute2', 'imputed/imp_round1.chr16.7.phased.impute2', 'imputed/imp_round1.chr16.8.phased.impute2', 'imputed/imp_round1.chr16.9.phased.impute2', 'imputed/imp_round1.chr16.10.phased.impute2', 'imputed/imp_round1.chr16.11.phased.impute2', 'imputed/imp_round1.chr16.12.phased.impute2', 'imputed/imp_round1.chr16.13.phased.impute2', 'imputed/imp_round1.chr16.14.phased.impute2', 'imputed/imp_round1.chr16.15.phased.impute2', 'imputed/imp_round1.chr16.16.phased.impute2']\n"
     ]
    }
   ],
   "source": [
    "print(targfiles)\n"
   ]
  },
  {
   "cell_type": "code",
   "execution_count": 76,
   "metadata": {
    "collapsed": false
   },
   "outputs": [
    {
     "data": {
      "text/plain": [
       "<function __main__.chrchunker>"
      ]
     },
     "execution_count": 76,
     "metadata": {},
     "output_type": "execute_result"
    }
   ],
   "source": [
    "chrchunker"
   ]
  },
  {
   "cell_type": "code",
   "execution_count": 79,
   "metadata": {
    "collapsed": false
   },
   "outputs": [
    {
     "ename": "SyntaxError",
     "evalue": "invalid syntax (<ipython-input-79-838b043938e1>, line 1)",
     "output_type": "error",
     "traceback": [
      "\u001b[0;36m  File \u001b[0;32m\"<ipython-input-79-838b043938e1>\"\u001b[0;36m, line \u001b[0;32m1\u001b[0m\n\u001b[0;31m    imputed_r1/{sample}.chr{chr}.{chunk}.phased.impute2\"\u001b[0m\n\u001b[0m                           ^\u001b[0m\n\u001b[0;31mSyntaxError\u001b[0m\u001b[0;31m:\u001b[0m invalid syntax\n"
     ]
    }
   ],
   "source": [
    "\"imputed_r1/Impstep1.chr3.2.phased.impute2\""
   ]
  },
  {
   "cell_type": "code",
   "execution_count": null,
   "metadata": {
    "collapsed": true
   },
   "outputs": [],
   "source": []
  }
 ],
 "metadata": {
  "anaconda-cloud": {},
  "kernelspec": {
   "display_name": "Python [conda env:Imp3]",
   "language": "python",
   "name": "conda-env-Imp3-py"
  },
  "language_info": {
   "codemirror_mode": {
    "name": "ipython",
    "version": 3
   },
   "file_extension": ".py",
   "mimetype": "text/x-python",
   "name": "python",
   "nbconvert_exporter": "python",
   "pygments_lexer": "ipython3",
   "version": "3.5.2"
  }
 },
 "nbformat": 4,
 "nbformat_minor": 1
}
