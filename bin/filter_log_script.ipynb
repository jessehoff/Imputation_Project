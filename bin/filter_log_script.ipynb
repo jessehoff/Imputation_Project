{
 "cells": [
  {
   "cell_type": "code",
   "execution_count": 1,
   "metadata": {
    "collapsed": false
   },
   "outputs": [],
   "source": [
    "import re\n",
    "import csv\n"
   ]
  },
  {
   "cell_type": "markdown",
   "metadata": {},
   "source": [
    "# Allele Filter Statistics Extraction"
   ]
  },
  {
   "cell_type": "code",
   "execution_count": 3,
   "metadata": {
    "collapsed": false
   },
   "outputs": [
    {
     "name": "stdout",
     "output_type": "stream",
     "text": [
      "['snp50_C', 'geno 0.05', '3459', '52564']\n"
     ]
    }
   ],
   "source": [
    "#Take a command line argument for file name used here\n",
    "with open ('allele_filtered/snp50_c.log', 'r') as logfile:\n",
    "    log = logfile.read()\n",
    "    \n",
    "assay = re.findall(r'100.test_([\\w_]+)', log)\n",
    "geno = re.findall(r'--(geno\\s*[\\w.]+)', log)\n",
    "rem = re.findall(r'([0-9]+) variants removed', log)\n",
    "start = re.findall(r'([\\w]+) variants, ', log)\n",
    "\n",
    "stats = assay + geno + rem + start\n",
    "stats\n",
    "statsperfile = {}\n",
    "statsperfile['snp50c']=stats\n",
    "\n",
    "print (stats)"
   ]
  },
  {
   "cell_type": "code",
   "execution_count": 184,
   "metadata": {
    "collapsed": false
   },
   "outputs": [
    {
     "data": {
      "text/plain": [
       "['snp50_C']"
      ]
     },
     "execution_count": 184,
     "metadata": {},
     "output_type": "execute_result"
    }
   ],
   "source": [
    "assay"
   ]
  },
  {
   "cell_type": "code",
   "execution_count": 197,
   "metadata": {
    "collapsed": false
   },
   "outputs": [],
   "source": [
    "af_file = open(\"./filtering_stats/alleles_filtered.csv\",'a')\n",
    "af_file.write(','.join(stats)+'\\n')\n",
    "af_file.close() #never forget this"
   ]
  },
  {
   "cell_type": "code",
   "execution_count": 196,
   "metadata": {
    "collapsed": false
   },
   "outputs": [
    {
     "name": "stdout",
     "output_type": "stream",
     "text": [
      "snp50_C,geno 0.05,3459,52564snp50_C,geno 0.05,3459,52564snp50_C,geno 0.05,3459,52564snp50_C,geno 0.05,3459,52564\r\n",
      "snp50_C,geno 0.05,3459,52564\r\n",
      "snp50_C,geno 0.05,3459,52564\r\n"
     ]
    }
   ],
   "source": [
    "! head alleles_filtered.csv"
   ]
  },
  {
   "cell_type": "markdown",
   "metadata": {},
   "source": [
    "# Individual Filter Statistics Extraction"
   ]
  },
  {
   "cell_type": "code",
   "execution_count": 157,
   "metadata": {
    "collapsed": false
   },
   "outputs": [
    {
     "data": {
      "text/plain": [
       "['hd', 'mind 0.05']"
      ]
     },
     "execution_count": 157,
     "metadata": {},
     "output_type": "execute_result"
    }
   ],
   "source": [
    "with open ('individual_filtered/hd.log', 'r') as logfile:\n",
    "    log = logfile.read()\n",
    "    \n",
    "assay = re.findall(r'--bfile ./allele_filtered/([\\w_]+)', log)\n",
    "mind = re.findall(r'--(mind\\s*[\\w.]+)', log)\n",
    "rem = re.findall(r'([0-9])\\s[cow|cattle]\\sremoved due to missing genotype data', log)\n",
    "start = re.findall(r'([\\w]+) cattle [.]+ loaded from .fam', log)\n",
    "\n",
    "stats = assay + mind + rem + start\n",
    "\n",
    "stats"
   ]
  },
  {
   "cell_type": "code",
   "execution_count": 28,
   "metadata": {
    "collapsed": false
   },
   "outputs": [
    {
     "name": "stdout",
     "output_type": "stream",
     "text": [
      "PLINK v1.90b3.31 64-bit (3 Feb 2016)Options in effect:  --cow  --file ./raw_genotypes/58336.160906.100.test_snp50_C  --geno 0.05  --make-bed  --map ./maps/9913_SNP50.map  --nonfounders  --not-chr 0  --out ./allele_filtered/snp50_cHostname: MUgenomics06.col.missouri.eduWorking directory: /CIFS/MUG01_N/taylorjerr/JLH/160906_imputation_testStart time: Fri Sep 30 14:34:24 2016Random number seed: 1475264064516850 MB RAM detected; reserving 258425 MB for main workspace.Scanning .ped file... done.Performing single-pass .bed write (52564 variants, 100 cattle).--file: ./allele_filtered/snp50_c-temporary.bed +./allele_filtered/snp50_c-temporary.bim +./allele_filtered/snp50_c-temporary.fam written.52564 variants loaded from .bim file.100 cattle (0 males, 0 females, 100 ambiguous) loaded from .fam.Ambiguous sex IDs written to ./allele_filtered/snp50_c.nosex .Using 1 thread (no multithreaded calculations invoked.Before main variant filters, 76 founders and 24 nonfounders present.Calculating allele frequencies... done.Total genotyping rate is 0.958014.3459 variants removed due to missing genotype data (--geno).49105 variants and 100 cattle pass filters and QC.Note: No phenotypes present.--make-bed to ./allele_filtered/snp50_c.bed + ./allele_filtered/snp50_c.bim +./allele_filtered/snp50_c.fam ... done.End time: Fri Sep 30 14:34:25 2016\n"
     ]
    }
   ],
   "source": [
    "with open (\"allele_filtered/snp50_c.log\", 'r') as logread:\n",
    "    log = logread.read().replace('\\n', '')\n",
    "print log"
   ]
  },
  {
   "cell_type": "code",
   "execution_count": 29,
   "metadata": {
    "collapsed": false
   },
   "outputs": [
    {
     "data": {
      "text/plain": [
       "'00.test_snp50_C  --geno 0.05  --make-bed  --map ./maps/9913_SNP50.map  --nonfounders  --not-chr 0  -'"
      ]
     },
     "execution_count": 29,
     "metadata": {},
     "output_type": "execute_result"
    }
   ],
   "source": [
    "log[100:200]"
   ]
  },
  {
   "cell_type": "code",
   "execution_count": null,
   "metadata": {
    "collapsed": true
   },
   "outputs": [],
   "source": []
  }
 ],
 "metadata": {
  "kernelspec": {
   "display_name": "Python [conda env:Imp3]",
   "language": "python",
   "name": "conda-env-Imp3-py"
  },
  "language_info": {
   "codemirror_mode": {
    "name": "ipython",
    "version": 3
   },
   "file_extension": ".py",
   "mimetype": "text/x-python",
   "name": "python",
   "nbconvert_exporter": "python",
   "pygments_lexer": "ipython3",
   "version": "3.5.2"
  }
 },
 "nbformat": 4,
 "nbformat_minor": 0
}
