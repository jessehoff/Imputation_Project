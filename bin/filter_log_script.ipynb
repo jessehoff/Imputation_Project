{
 "cells": [
  {
   "cell_type": "code",
   "execution_count": 1,
   "metadata": {
    "collapsed": false
   },
   "outputs": [],
   "source": [
    "import re\n",
    "import csv"
   ]
  },
  {
   "cell_type": "markdown",
   "metadata": {},
   "source": [
    "# Allele Filter Statistics Extraction"
   ]
  },
  {
   "cell_type": "code",
   "execution_count": 3,
   "metadata": {
    "collapsed": false
   },
   "outputs": [
    {
     "name": "stdout",
     "output_type": "stream",
     "text": [
      "['snp50_C', 'geno 0.05', '3459', '52564']\n"
     ]
    }
   ],
   "source": [
    "#Take a command line argument for file name used here\n",
    "with open ('allele_filtered/snp50_c.log', 'r') as logfile:\n",
    "    log = logfile.read()\n",
    "    \n",
    "assay = re.findall(r'100.test_([\\w_]+)', log)\n",
    "geno = re.findall(r'--(geno\\s*[\\w.]+)', log)\n",
    "rem = re.findall(r'([0-9]+) variants removed', log)\n",
    "start = re.findall(r'([\\w]+) variants, ', log)\n",
    "\n",
    "stats = assay + geno + rem + start\n",
    "stats\n",
    "statsperfile = {}\n",
    "statsperfile['snp50c']=stats\n",
    "\n",
    "print (stats)"
   ]
  },
  {
   "cell_type": "code",
   "execution_count": 184,
   "metadata": {
    "collapsed": false
   },
   "outputs": [
    {
     "data": {
      "text/plain": [
       "['snp50_C']"
      ]
     },
     "execution_count": 184,
     "metadata": {},
     "output_type": "execute_result"
    }
   ],
   "source": [
    "assay"
   ]
  },
  {
   "cell_type": "code",
   "execution_count": 197,
   "metadata": {
    "collapsed": false
   },
   "outputs": [],
   "source": [
    "af_file = open(\"./filtering_stats/alleles_filtered.csv\",'a')\n",
    "af_file.write(','.join(stats)+'\\n')\n",
    "af_file.close() #never forget this"
   ]
  },
  {
   "cell_type": "code",
   "execution_count": 196,
   "metadata": {
    "collapsed": false
   },
   "outputs": [
    {
     "name": "stdout",
     "output_type": "stream",
     "text": [
      "snp50_C,geno 0.05,3459,52564snp50_C,geno 0.05,3459,52564snp50_C,geno 0.05,3459,52564snp50_C,geno 0.05,3459,52564\r\n",
      "snp50_C,geno 0.05,3459,52564\r\n",
      "snp50_C,geno 0.05,3459,52564\r\n"
     ]
    }
   ],
   "source": [
    "! head alleles_filtered.csv"
   ]
  },
  {
   "cell_type": "markdown",
   "metadata": {},
   "source": [
    "# Individual Filter Statistics Extraction"
   ]
  },
  {
   "cell_type": "code",
   "execution_count": 157,
   "metadata": {
    "collapsed": false
   },
   "outputs": [
    {
     "data": {
      "text/plain": [
       "['hd', 'mind 0.05']"
      ]
     },
     "execution_count": 157,
     "metadata": {},
     "output_type": "execute_result"
    }
   ],
   "source": [
    "with open ('individual_filtered/hd.log', 'r') as logfile:\n",
    "    log = logfile.read()\n",
    "    \n",
    "assay = re.findall(r'--bfile ./allele_filtered/([\\w_]+)', log)\n",
    "mind = re.findall(r'--(mind\\s*[\\w.]+)', log)\n",
    "rem = re.findall(r'([0-9])\\s[cow|cattle]\\sremoved due to missing genotype data', log)\n",
    "start = re.findall(r'([\\w]+) cattle [.]+ loaded from .fam', log)\n",
    "\n",
    "stats = assay + mind + rem + start\n",
    "\n",
    "stats"
   ]
  },
  {
   "cell_type": "code",
   "execution_count": 28,
   "metadata": {
    "collapsed": false
   },
   "outputs": [
    {
     "name": "stdout",
     "output_type": "stream",
     "text": [
      "PLINK v1.90b3.31 64-bit (3 Feb 2016)Options in effect:  --cow  --file ./raw_genotypes/58336.160906.100.test_snp50_C  --geno 0.05  --make-bed  --map ./maps/9913_SNP50.map  --nonfounders  --not-chr 0  --out ./allele_filtered/snp50_cHostname: MUgenomics06.col.missouri.eduWorking directory: /CIFS/MUG01_N/taylorjerr/JLH/160906_imputation_testStart time: Fri Sep 30 14:34:24 2016Random number seed: 1475264064516850 MB RAM detected; reserving 258425 MB for main workspace.Scanning .ped file... done.Performing single-pass .bed write (52564 variants, 100 cattle).--file: ./allele_filtered/snp50_c-temporary.bed +./allele_filtered/snp50_c-temporary.bim +./allele_filtered/snp50_c-temporary.fam written.52564 variants loaded from .bim file.100 cattle (0 males, 0 females, 100 ambiguous) loaded from .fam.Ambiguous sex IDs written to ./allele_filtered/snp50_c.nosex .Using 1 thread (no multithreaded calculations invoked.Before main variant filters, 76 founders and 24 nonfounders present.Calculating allele frequencies... done.Total genotyping rate is 0.958014.3459 variants removed due to missing genotype data (--geno).49105 variants and 100 cattle pass filters and QC.Note: No phenotypes present.--make-bed to ./allele_filtered/snp50_c.bed + ./allele_filtered/snp50_c.bim +./allele_filtered/snp50_c.fam ... done.End time: Fri Sep 30 14:34:25 2016\n"
     ]
    }
   ],
   "source": [
    "with open (\"allele_filtered/snp50_c.log\", 'r') as logread:\n",
    "    log = logread.read().replace('\\n', '')\n",
    "print log"
   ]
  },
  {
   "cell_type": "code",
   "execution_count": 29,
   "metadata": {
    "collapsed": false
   },
   "outputs": [
    {
     "data": {
      "text/plain": [
       "'00.test_snp50_C  --geno 0.05  --make-bed  --map ./maps/9913_SNP50.map  --nonfounders  --not-chr 0  -'"
      ]
     },
     "execution_count": 29,
     "metadata": {},
     "output_type": "execute_result"
    }
   ],
   "source": [
    "log[100:200]"
   ]
  },
  {
   "cell_type": "markdown",
   "metadata": {
    "collapsed": true
   },
   "source": [
    "# 06/27/17 Re-write of log parsing scripts\n",
    "#### These things need A LOT of work from 1st Semester Troy"
   ]
  },
  {
   "cell_type": "code",
   "execution_count": 1,
   "metadata": {
    "collapsed": false
   },
   "outputs": [],
   "source": [
    "duplicates = \"../duplicates_filtered/dup_ids/227234.170619.219.102_A.txt\"\n",
    "snps = \"../snp_filtered/227234.170619.219.102_A.log\"\n",
    "individuals = \"../individual_filtered/227234.170619.219.102_A.log\"\n",
    "hwe = \"../hwe_filtered/227234.170619.219.102_A.log\"\n",
    "sex = \"../sex_impute/227234.170619.219.102_A.log\"\n",
    "missexed = \"../sex_impute/227234.170619.219.102_A.missexed_animals.txt\""
   ]
  },
  {
   "cell_type": "markdown",
   "metadata": {},
   "source": [
    "## Duplicate Filter Logging"
   ]
  },
  {
   "cell_type": "code",
   "execution_count": 2,
   "metadata": {
    "collapsed": false
   },
   "outputs": [],
   "source": [
    "with open(duplicates, 'r') as d:\n",
    "    dup = d.readlines()"
   ]
  },
  {
   "cell_type": "code",
   "execution_count": 3,
   "metadata": {
    "collapsed": false
   },
   "outputs": [],
   "source": [
    "data = duplicates.split('/')[-1].strip('.txt')"
   ]
  },
  {
   "cell_type": "code",
   "execution_count": 4,
   "metadata": {
    "collapsed": false
   },
   "outputs": [],
   "source": [
    "start = data.split('.')"
   ]
  },
  {
   "cell_type": "code",
   "execution_count": 50,
   "metadata": {
    "collapsed": true
   },
   "outputs": [],
   "source": [
    "beforelist = '\\t'.join([data, 'Before Filtering Steps','','',start[0],'','', start[2],'', start[1]])"
   ]
  },
  {
   "cell_type": "code",
   "execution_count": 6,
   "metadata": {
    "collapsed": false
   },
   "outputs": [],
   "source": [
    "duplist = '\\t'.join([data, 'Duplicate Individuals Removed','','','','',str(len(dup)), start[2], str(len(dup)/int(start[2]))])"
   ]
  },
  {
   "cell_type": "code",
   "execution_count": 7,
   "metadata": {
    "collapsed": false
   },
   "outputs": [
    {
     "data": {
      "text/plain": [
       "'227234.170619.219.102_A\\tDuplicate Individuals Removed\\t\\t\\t\\t\\t39\\t219\\t0.1780821917808219'"
      ]
     },
     "execution_count": 7,
     "metadata": {},
     "output_type": "execute_result"
    }
   ],
   "source": [
    "duplist"
   ]
  },
  {
   "cell_type": "code",
   "execution_count": 51,
   "metadata": {
    "collapsed": true
   },
   "outputs": [],
   "source": [
    "with open('../test.txt', 'a') as test:\n",
    "    test.write(beforelist+'\\n'+duplist+'\\n')"
   ]
  },
  {
   "cell_type": "markdown",
   "metadata": {},
   "source": [
    "## SNP Filter Logging"
   ]
  },
  {
   "cell_type": "code",
   "execution_count": 16,
   "metadata": {
    "collapsed": false
   },
   "outputs": [],
   "source": [
    "with open(snps, 'r') as s:\n",
    "    snp = s.read()"
   ]
  },
  {
   "cell_type": "code",
   "execution_count": 18,
   "metadata": {
    "collapsed": false
   },
   "outputs": [],
   "source": [
    "import re as re\n",
    "geno = re.findall(r'--(geno\\s*[\\w.]+)', snp)[0]\n",
    "rem = re.findall(r'([0-9]+) variants removed', snp)[0]\n",
    "startsnps = re.findall(r'([\\w]+) variants, ', snp)[0]\n",
    "time = re.findall(r'Start time: ([0-9 a-z A-Z : .]+)',snp)[0]"
   ]
  },
  {
   "cell_type": "code",
   "execution_count": 23,
   "metadata": {
    "collapsed": false
   },
   "outputs": [
    {
     "data": {
      "text/plain": [
       "['227234', '170619', '219', '102_A']"
      ]
     },
     "execution_count": 23,
     "metadata": {},
     "output_type": "execute_result"
    }
   ],
   "source": []
  },
  {
   "cell_type": "code",
   "execution_count": 24,
   "metadata": {
    "collapsed": false
   },
   "outputs": [],
   "source": [
    "snplist = '\\t'.join([data, 'SNP Call Rate', geno, rem, startsnps, str(int(rem)/int(startsnps)),'','','', time])"
   ]
  },
  {
   "cell_type": "markdown",
   "metadata": {},
   "source": [
    "## Individual Call Rate Logging"
   ]
  },
  {
   "cell_type": "code",
   "execution_count": 27,
   "metadata": {
    "collapsed": false
   },
   "outputs": [],
   "source": [
    "with open(individuals, 'r') as i:\n",
    "    ind = i.read()"
   ]
  },
  {
   "cell_type": "code",
   "execution_count": 28,
   "metadata": {
    "collapsed": false
   },
   "outputs": [],
   "source": [
    "mind = re.findall(r'--(mind\\s*[\\w.]+)', ind)[0]\n",
    "rem = re.findall(r'([0-9]+)\\s+[\\w.]+ removed due to missing genotype data', ind)[0]\n",
    "start = re.findall (r'([0-9]+) cattle \\(', ind)[0]\n",
    "time = re.findall(r'Start time: ([0-9 a-z A-Z : .]+)',ind)[0]"
   ]
  },
  {
   "cell_type": "code",
   "execution_count": 29,
   "metadata": {
    "collapsed": false
   },
   "outputs": [],
   "source": [
    "indlist = '\\t'.join([data, 'Duplicate Individuals',mind ,'','','',rem , start, str(int(rem)/int(start)), time])"
   ]
  },
  {
   "cell_type": "markdown",
   "metadata": {},
   "source": [
    "## HWE Logging"
   ]
  },
  {
   "cell_type": "code",
   "execution_count": 30,
   "metadata": {
    "collapsed": false
   },
   "outputs": [],
   "source": [
    "with open(hwe, 'r') as h:\n",
    "    hardy = h.read()"
   ]
  },
  {
   "cell_type": "code",
   "execution_count": 31,
   "metadata": {
    "collapsed": true
   },
   "outputs": [],
   "source": [
    "hw = re.findall(r'--(hwe\\s+\\S+)\\n', hardy)[0]\n",
    "rem = re.findall(r'([0-9]+) variants removed', hardy)[0]\n",
    "start = re.findall(r'([\\w]+) variants loaded from ', hardy)[0]\n",
    "time = re.findall(r'Start time: ([0-9 a-z A-Z : .]+)',hardy)[0]"
   ]
  },
  {
   "cell_type": "code",
   "execution_count": 32,
   "metadata": {
    "collapsed": false
   },
   "outputs": [],
   "source": [
    "hwelist = '\\t'.join([data, 'Hardy-Weinberg', hw, rem, start, str(int(rem)/int(startsnps)),'','','', time])"
   ]
  },
  {
   "cell_type": "markdown",
   "metadata": {},
   "source": [
    "## Missexed Animal Logging"
   ]
  },
  {
   "cell_type": "code",
   "execution_count": 33,
   "metadata": {
    "collapsed": true
   },
   "outputs": [],
   "source": [
    "with open(sex, 'r') as s: #This is the sexcheck file that PLINK generates\n",
    "    ms = s.read()"
   ]
  },
  {
   "cell_type": "code",
   "execution_count": 34,
   "metadata": {
    "collapsed": false
   },
   "outputs": [],
   "source": [
    "with open(missexed, 'r') as m: #This is the file that has the IDs of missexed animals that my script creates\n",
    "    rem = str(len(m.readlines()))"
   ]
  },
  {
   "cell_type": "code",
   "execution_count": 42,
   "metadata": {
    "collapsed": false
   },
   "outputs": [],
   "source": []
  },
  {
   "cell_type": "code",
   "execution_count": 35,
   "metadata": {
    "collapsed": true
   },
   "outputs": [],
   "source": [
    "impute_sex = re.findall(r'--(impute-sex ycount)\\n', ms)[0]\n",
    "start = re.findall(r'([0-9]+) cattle \\(', ms)[0]\n",
    "time = re.findall(r'Start time: ([0-9 a-z A-Z : .]+)',ms)[0]"
   ]
  },
  {
   "cell_type": "code",
   "execution_count": 36,
   "metadata": {
    "collapsed": true
   },
   "outputs": [],
   "source": [
    "missexedlist = '\\t'.join([data, 'Missexed Individuals',impute_sex ,'','','',rem , start, str(int(rem)/int(start)), time])"
   ]
  },
  {
   "cell_type": "code",
   "execution_count": 44,
   "metadata": {
    "collapsed": false
   },
   "outputs": [],
   "source": [
    "o = open('outfile', 'a')"
   ]
  },
  {
   "cell_type": "code",
   "execution_count": 46,
   "metadata": {
    "collapsed": false
   },
   "outputs": [
    {
     "ename": "TypeError",
     "evalue": "can only concatenate list (not \"str\") to list",
     "output_type": "error",
     "traceback": [
      "\u001b[0;31m---------------------------------------------------------------------------\u001b[0m",
      "\u001b[0;31mTypeError\u001b[0m                                 Traceback (most recent call last)",
      "\u001b[0;32m<ipython-input-46-51462e2acbfc>\u001b[0m in \u001b[0;36m<module>\u001b[0;34m()\u001b[0m\n\u001b[0;32m----> 1\u001b[0;31m \u001b[0mo\u001b[0m\u001b[0;34m.\u001b[0m\u001b[0mwrite\u001b[0m\u001b[0;34m(\u001b[0m\u001b[0mbeforelist\u001b[0m \u001b[0;34m+\u001b[0m \u001b[0;34m'\\n'\u001b[0m\u001b[0;34m)\u001b[0m\u001b[0;34m\u001b[0m\u001b[0m\n\u001b[0m",
      "\u001b[0;31mTypeError\u001b[0m: can only concatenate list (not \"str\") to list"
     ]
    }
   ],
   "source": [
    "o.write(beforelist + '\\n')"
   ]
  },
  {
   "cell_type": "code",
   "execution_count": 48,
   "metadata": {
    "collapsed": false
   },
   "outputs": [
    {
     "data": {
      "text/plain": [
       "'227234.170619.219.102_A\\tDuplicate Individuals Removed\\t\\t\\t\\t\\t39\\t219\\t0.1780821917808219'"
      ]
     },
     "execution_count": 48,
     "metadata": {},
     "output_type": "execute_result"
    }
   ],
   "source": [
    "duplist"
   ]
  },
  {
   "cell_type": "code",
   "execution_count": null,
   "metadata": {
    "collapsed": true
   },
   "outputs": [],
   "source": []
  }
 ],
 "metadata": {
  "anaconda-cloud": {},
  "kernelspec": {
   "display_name": "Python [conda env:Imp3]",
   "language": "python",
   "name": "conda-env-Imp3-py"
  },
  "language_info": {
   "codemirror_mode": {
    "name": "ipython",
    "version": 3
   },
   "file_extension": ".py",
   "mimetype": "text/x-python",
   "name": "python",
   "nbconvert_exporter": "python",
   "pygments_lexer": "ipython3",
   "version": "3.5.3"
  }
 },
 "nbformat": 4,
 "nbformat_minor": 0
}
