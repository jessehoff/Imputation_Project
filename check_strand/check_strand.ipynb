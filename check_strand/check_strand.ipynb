{
 "cells": [
  {
   "cell_type": "code",
   "execution_count": 166,
   "metadata": {
    "collapsed": false
   },
   "outputs": [],
   "source": [
    "import pandas as pd\n",
    "import glob\n",
    "import seaborn as sns\n",
    "import numpy as np\n",
    "import pandas as pd\n",
    "from scipy import stats, integrate\n",
    "import matplotlib.pyplot as plt\n",
    "%matplotlib inline\n",
    "plt.style.use('ggplot')"
   ]
  },
  {
   "cell_type": "code",
   "execution_count": 66,
   "metadata": {
    "collapsed": false
   },
   "outputs": [],
   "source": [
    "ggphdv3 = pd.read_table('./139977.170112.2326.GGPHDV3.frqx')"
   ]
  },
  {
   "cell_type": "code",
   "execution_count": 60,
   "metadata": {
    "collapsed": false
   },
   "outputs": [
    {
     "data": {
      "text/plain": [
       "(6222, 10)"
      ]
     },
     "execution_count": 60,
     "metadata": {},
     "output_type": "execute_result"
    }
   ],
   "source": [
    "ggphdv3.shape"
   ]
  },
  {
   "cell_type": "code",
   "execution_count": 68,
   "metadata": {
    "collapsed": false
   },
   "outputs": [
    {
     "data": {
      "text/html": [
       "<div>\n",
       "<table border=\"1\" class=\"dataframe\">\n",
       "  <thead>\n",
       "    <tr style=\"text-align: right;\">\n",
       "      <th></th>\n",
       "      <th>CHR</th>\n",
       "      <th>SNP</th>\n",
       "      <th>A1</th>\n",
       "      <th>A2</th>\n",
       "      <th>C(HOM A1)</th>\n",
       "      <th>C(HET)</th>\n",
       "      <th>C(HOM A2)</th>\n",
       "      <th>C(HAP A1)</th>\n",
       "      <th>C(HAP A2)</th>\n",
       "      <th>C(MISSING)</th>\n",
       "    </tr>\n",
       "  </thead>\n",
       "  <tbody>\n",
       "    <tr>\n",
       "      <th>0</th>\n",
       "      <td>1</td>\n",
       "      <td>51032</td>\n",
       "      <td>A</td>\n",
       "      <td>B</td>\n",
       "      <td>7</td>\n",
       "      <td>206</td>\n",
       "      <td>2108</td>\n",
       "      <td>0</td>\n",
       "      <td>0</td>\n",
       "      <td>2</td>\n",
       "    </tr>\n",
       "    <tr>\n",
       "      <th>1</th>\n",
       "      <td>1</td>\n",
       "      <td>6496</td>\n",
       "      <td>A</td>\n",
       "      <td>B</td>\n",
       "      <td>314</td>\n",
       "      <td>1121</td>\n",
       "      <td>878</td>\n",
       "      <td>0</td>\n",
       "      <td>0</td>\n",
       "      <td>10</td>\n",
       "    </tr>\n",
       "    <tr>\n",
       "      <th>2</th>\n",
       "      <td>1</td>\n",
       "      <td>47961</td>\n",
       "      <td>B</td>\n",
       "      <td>A</td>\n",
       "      <td>235</td>\n",
       "      <td>1036</td>\n",
       "      <td>1038</td>\n",
       "      <td>0</td>\n",
       "      <td>0</td>\n",
       "      <td>14</td>\n",
       "    </tr>\n",
       "    <tr>\n",
       "      <th>3</th>\n",
       "      <td>1</td>\n",
       "      <td>22465</td>\n",
       "      <td>A</td>\n",
       "      <td>B</td>\n",
       "      <td>213</td>\n",
       "      <td>1009</td>\n",
       "      <td>1098</td>\n",
       "      <td>0</td>\n",
       "      <td>0</td>\n",
       "      <td>3</td>\n",
       "    </tr>\n",
       "    <tr>\n",
       "      <th>4</th>\n",
       "      <td>1</td>\n",
       "      <td>55218</td>\n",
       "      <td>B</td>\n",
       "      <td>A</td>\n",
       "      <td>71</td>\n",
       "      <td>661</td>\n",
       "      <td>1590</td>\n",
       "      <td>0</td>\n",
       "      <td>0</td>\n",
       "      <td>1</td>\n",
       "    </tr>\n",
       "  </tbody>\n",
       "</table>\n",
       "</div>"
      ],
      "text/plain": [
       "   CHR    SNP A1 A2  C(HOM A1)  C(HET)  C(HOM A2)  C(HAP A1)  C(HAP A2)  \\\n",
       "0    1  51032  A  B          7     206       2108          0          0   \n",
       "1    1   6496  A  B        314    1121        878          0          0   \n",
       "2    1  47961  B  A        235    1036       1038          0          0   \n",
       "3    1  22465  A  B        213    1009       1098          0          0   \n",
       "4    1  55218  B  A         71     661       1590          0          0   \n",
       "\n",
       "   C(MISSING)  \n",
       "0           2  \n",
       "1          10  \n",
       "2          14  \n",
       "3           3  \n",
       "4           1  "
      ]
     },
     "execution_count": 68,
     "metadata": {},
     "output_type": "execute_result"
    }
   ],
   "source": []
  },
  {
   "cell_type": "code",
   "execution_count": 67,
   "metadata": {
    "collapsed": false
   },
   "outputs": [
    {
     "data": {
      "text/html": [
       "<div>\n",
       "<table border=\"1\" class=\"dataframe\">\n",
       "  <thead>\n",
       "    <tr style=\"text-align: right;\">\n",
       "      <th></th>\n",
       "      <th>CHR</th>\n",
       "      <th>SNP</th>\n",
       "      <th>A1</th>\n",
       "      <th>A2</th>\n",
       "      <th>C(HOM A1)</th>\n",
       "      <th>C(HET)</th>\n",
       "      <th>C(HOM A2)</th>\n",
       "      <th>C(HAP A1)</th>\n",
       "      <th>C(HAP A2)</th>\n",
       "      <th>C(MISSING)</th>\n",
       "    </tr>\n",
       "  </thead>\n",
       "  <tbody>\n",
       "    <tr>\n",
       "      <th>35</th>\n",
       "      <td>1</td>\n",
       "      <td>49468</td>\n",
       "      <td>B</td>\n",
       "      <td>0</td>\n",
       "      <td>2321</td>\n",
       "      <td>0</td>\n",
       "      <td>0</td>\n",
       "      <td>0</td>\n",
       "      <td>0</td>\n",
       "      <td>2</td>\n",
       "    </tr>\n",
       "    <tr>\n",
       "      <th>1912</th>\n",
       "      <td>7</td>\n",
       "      <td>58099</td>\n",
       "      <td>A</td>\n",
       "      <td>0</td>\n",
       "      <td>2272</td>\n",
       "      <td>0</td>\n",
       "      <td>0</td>\n",
       "      <td>0</td>\n",
       "      <td>0</td>\n",
       "      <td>51</td>\n",
       "    </tr>\n",
       "    <tr>\n",
       "      <th>2420</th>\n",
       "      <td>8</td>\n",
       "      <td>17351</td>\n",
       "      <td>B</td>\n",
       "      <td>0</td>\n",
       "      <td>2320</td>\n",
       "      <td>0</td>\n",
       "      <td>0</td>\n",
       "      <td>0</td>\n",
       "      <td>0</td>\n",
       "      <td>3</td>\n",
       "    </tr>\n",
       "    <tr>\n",
       "      <th>4702</th>\n",
       "      <td>19</td>\n",
       "      <td>17640</td>\n",
       "      <td>B</td>\n",
       "      <td>0</td>\n",
       "      <td>2323</td>\n",
       "      <td>0</td>\n",
       "      <td>0</td>\n",
       "      <td>0</td>\n",
       "      <td>0</td>\n",
       "      <td>0</td>\n",
       "    </tr>\n",
       "    <tr>\n",
       "      <th>5112</th>\n",
       "      <td>22</td>\n",
       "      <td>56964</td>\n",
       "      <td>B</td>\n",
       "      <td>0</td>\n",
       "      <td>2321</td>\n",
       "      <td>0</td>\n",
       "      <td>0</td>\n",
       "      <td>0</td>\n",
       "      <td>0</td>\n",
       "      <td>2</td>\n",
       "    </tr>\n",
       "  </tbody>\n",
       "</table>\n",
       "</div>"
      ],
      "text/plain": [
       "      CHR    SNP A1 A2  C(HOM A1)  C(HET)  C(HOM A2)  C(HAP A1)  C(HAP A2)  \\\n",
       "35      1  49468  B  0       2321       0          0          0          0   \n",
       "1912    7  58099  A  0       2272       0          0          0          0   \n",
       "2420    8  17351  B  0       2320       0          0          0          0   \n",
       "4702   19  17640  B  0       2323       0          0          0          0   \n",
       "5112   22  56964  B  0       2321       0          0          0          0   \n",
       "\n",
       "      C(MISSING)  \n",
       "35             2  \n",
       "1912          51  \n",
       "2420           3  \n",
       "4702           0  \n",
       "5112           2  "
      ]
     },
     "execution_count": 67,
     "metadata": {},
     "output_type": "execute_result"
    }
   ],
   "source": [
    "ggphdv3[ggphdv3['C(HET)']<1].head()"
   ]
  },
  {
   "cell_type": "code",
   "execution_count": 16,
   "metadata": {
    "collapsed": false
   },
   "outputs": [
    {
     "data": {
      "text/plain": [
       "['139977.170112.2326.GGPHDV3.frqx',\n",
       " '227234.170112.325.GGPF250.frqx',\n",
       " '26504.170112.3126.GGPLDV3.frqx',\n",
       " '30105.170112.2500.GGPLDV4.frqx',\n",
       " '58336.170112.315.SNP50A.frqx',\n",
       " '58336.170112.335.SNP50B.frqx',\n",
       " '58336.170112.3399.SNP50C.frqx',\n",
       " '76999.170112.3498.GGP90KT.frqx',\n",
       " '777962.170127.483.HD.frqx']"
      ]
     },
     "execution_count": 16,
     "metadata": {},
     "output_type": "execute_result"
    }
   ],
   "source": [
    "freqs = glob.glob('*.frqx')\n",
    "freqs"
   ]
  },
  {
   "cell_type": "code",
   "execution_count": 102,
   "metadata": {
    "collapsed": true
   },
   "outputs": [],
   "source": [
    "allcounts = {}\n",
    "for i in freqs:\n",
    "    df = pd.read_table(i)\n",
    "    df=df[df.CHR <30]\n",
    "    df=df.iloc[:,:8]\n",
    "    allcounts[i.split('.')[3]]= df"
   ]
  },
  {
   "cell_type": "code",
   "execution_count": null,
   "metadata": {
    "collapsed": false
   },
   "outputs": [],
   "source": []
  },
  {
   "cell_type": "code",
   "execution_count": 20,
   "metadata": {
    "collapsed": false
   },
   "outputs": [
    {
     "data": {
      "text/plain": [
       "'227234.170112.325.GGPF250.frqx'"
      ]
     },
     "execution_count": 20,
     "metadata": {},
     "output_type": "execute_result"
    }
   ],
   "source": [
    "allfreqs[1]"
   ]
  },
  {
   "cell_type": "code",
   "execution_count": 103,
   "metadata": {
    "collapsed": false
   },
   "outputs": [
    {
     "name": "stdout",
     "output_type": "stream",
     "text": [
      "GGPF250\n",
      "      CHR    SNP A1 A2  C(HOM A1)  C(HET)  C(HOM A2)  C(HAP A1)\n",
      "2420    8  17351  B  0        325       0          0          0\n",
      "3443   13  14125  B  0        325       0          0          0\n",
      "4501   18  46491  B  0        325       0          0          0\n",
      "4702   19  17640  B  0        325       0          0          0\n",
      "GGPHDV3\n",
      "      CHR    SNP A1 A2  C(HOM A1)  C(HET)  C(HOM A2)  C(HAP A1)\n",
      "35      1  49468  B  0       2321       0          0          0\n",
      "1912    7  58099  A  0       2272       0          0          0\n",
      "2420    8  17351  B  0       2320       0          0          0\n",
      "4702   19  17640  B  0       2323       0          0          0\n",
      "5112   22  56964  B  0       2321       0          0          0\n",
      "SNP50A\n",
      "      CHR    SNP A1 A2  C(HOM A1)  C(HET)  C(HOM A2)  C(HAP A1)\n",
      "545     2  26434  B  0        308       0          0          0\n",
      "2420    8  17351  B  0        307       0          0          0\n",
      "3443   13  14125  B  0        308       0          0          0\n",
      "4702   19  17640  B  0        308       0          0          0\n",
      "5378   23  55332  B  A          0       0        305          0\n",
      "SNP50B\n",
      "      CHR    SNP A1 A2  C(HOM A1)  C(HET)  C(HOM A2)  C(HAP A1)\n",
      "2420    8  17351  B  0        333       0          0          0\n",
      "2432    8  54643  A  0        334       0          0          0\n",
      "3443   13  14125  B  0        334       0          0          0\n",
      "4501   18  46491  B  0        334       0          0          0\n",
      "4702   19  17640  B  0        334       0          0          0\n",
      "5801   26   9394  B  0        334       0          0          0\n",
      "SNP50C\n",
      "      CHR    SNP A1 A2  C(HOM A1)  C(HET)  C(HOM A2)  C(HAP A1)\n",
      "4702   19  17640  B  0       3280       0          0          0\n",
      "GGPLDV3\n",
      "      CHR    SNP A1 A2  C(HOM A1)  C(HET)  C(HOM A2)  C(HAP A1)\n",
      "2420    8  17351  B  0       3097       0          0          0\n",
      "4702   19  17640  A  B          0       0       3055          0\n",
      "GGPLDV4\n",
      "      CHR    SNP A1 A2  C(HOM A1)  C(HET)  C(HOM A2)  C(HAP A1)\n",
      "701     2  19112  B  0       2492       0          0          0\n",
      "793     3  45587  B  0       2492       0          0          0\n",
      "967     3   9029  0  B          0       0       2491          0\n",
      "1173    4  46699  0  B          0       0       2492          0\n",
      "1296    5  41333  0  A          0       0       2490          0\n",
      "1348    5  27092  0  A          0       0       2478          0\n",
      "2103    7  44872  A  0       2492       0          0          0\n",
      "2540    9  34637  B  0       2492       0          0          0\n",
      "2573    9  27570  B  0       2491       0          0          0\n",
      "2631    9  47616  A  0       2488       0          0          0\n",
      "3134   11  20339  B  0       2490       0          0          0\n",
      "3174   11  46451  B  0       2490       0          0          0\n",
      "3373   12  46521  B  0       2489       0          0          0\n",
      "3386   12  50356  A  B          2       0       2490          0\n",
      "3417   13  47372  B  0       2483       0          0          0\n",
      "3431   13  47279  A  0       2489       0          0          0\n",
      "3632   14  46372  0  B          0       0       2491          0\n",
      "3923   15  47412  0  B          0       0       2492          0\n",
      "3952   15  47088  0  B          0       0       2489          0\n",
      "4333   17  20955  A  0       2485       0          0          0\n",
      "4424   18  46615  B  0       2492       0          0          0\n",
      "4581   19  11379  A  0       2492       0          0          0\n",
      "5112   22  56964  B  0       2488       0          0          0\n",
      "5180   22  49525  B  0       2492       0          0          0\n",
      "5331   23  45260  A  B          1       0       2488          0\n",
      "5822   27  15291  B  0       2492       0          0          0\n",
      "6163   29  57380  B  0       2490       0          0          0\n",
      "GGP90KT\n",
      "      CHR    SNP A1 A2  C(HOM A1)  C(HET)  C(HOM A2)  C(HAP A1)\n",
      "3443   13  14125  0  B          0       0       3479          0\n",
      "4702   19  17640  B  0       3491       0          0          0\n",
      "HD\n",
      "      CHR    SNP A1 A2  C(HOM A1)  C(HET)  C(HOM A2)  C(HAP A1)\n",
      "2420    8  17351  B  0        474       0          0          0\n",
      "3443   13  14125  B  0        475       0          0          0\n",
      "4501   18  46491  B  0        475       0          0          0\n",
      "4702   19  17640  B  0        475       0          0          0\n"
     ]
    }
   ],
   "source": [
    "for k,i in allcounts.items():\n",
    "    print(k)\n",
    "    print(i[i['C(HET)']<1])"
   ]
  },
  {
   "cell_type": "code",
   "execution_count": 104,
   "metadata": {
    "collapsed": true
   },
   "outputs": [],
   "source": [
    "def singlesite(site):\n",
    "    site1 = site + 1\n",
    "    for k,i in allcounts.items():\n",
    "        print(k)\n",
    "        print(i.iloc[site:site1,:8])"
   ]
  },
  {
   "cell_type": "code",
   "execution_count": 106,
   "metadata": {
    "collapsed": false
   },
   "outputs": [
    {
     "name": "stdout",
     "output_type": "stream",
     "text": [
      "GGPF250\n",
      "      CHR   SNP A1 A2  C(HOM A1)  C(HET)  C(HOM A2)  C(HAP A1)\n",
      "3400   12  9806  B  A         33     153        138          0\n",
      "GGPHDV3\n",
      "      CHR   SNP A1 A2  C(HOM A1)  C(HET)  C(HOM A2)  C(HAP A1)\n",
      "3400   12  9806  B  A        209    1006       1104          0\n",
      "SNP50A\n",
      "      CHR   SNP A1 A2  C(HOM A1)  C(HET)  C(HOM A2)  C(HAP A1)\n",
      "3400   12  9806  B  A         16     102        186          0\n",
      "SNP50B\n",
      "      CHR   SNP A1 A2  C(HOM A1)  C(HET)  C(HOM A2)  C(HAP A1)\n",
      "3400   12  9806  B  A         43     161        130          0\n",
      "SNP50C\n",
      "      CHR   SNP A1 A2  C(HOM A1)  C(HET)  C(HOM A2)  C(HAP A1)\n",
      "3400   12  9806  B  A        302    1465       1504          0\n",
      "GGPLDV3\n",
      "      CHR   SNP A1 A2  C(HOM A1)  C(HET)  C(HOM A2)  C(HAP A1)\n",
      "3400   12  9806  B  A        302    1236       1548          0\n",
      "GGPLDV4\n",
      "      CHR   SNP A1 A2  C(HOM A1)  C(HET)  C(HOM A2)  C(HAP A1)\n",
      "3400   12  9806  A  B        486    1282        722          0\n",
      "GGP90KT\n",
      "      CHR   SNP A1 A2  C(HOM A1)  C(HET)  C(HOM A2)  C(HAP A1)\n",
      "3400   12  9806  B  A        302    1485       1698          0\n",
      "HD\n",
      "      CHR   SNP A1 A2  C(HOM A1)  C(HET)  C(HOM A2)  C(HAP A1)\n",
      "3400   12  9806  B  A         31     186        258          0\n"
     ]
    }
   ],
   "source": [
    "singlesite(3400)"
   ]
  },
  {
   "cell_type": "markdown",
   "metadata": {},
   "source": [
    "GGPLDV4 has sites that are only fixed within it, and sites that are heterozygous in it, but fixed everywhere else"
   ]
  },
  {
   "cell_type": "code",
   "execution_count": 62,
   "metadata": {
    "collapsed": false
   },
   "outputs": [
    {
     "name": "stdout",
     "output_type": "stream",
     "text": [
      "GGPF250\n",
      "      CHR    SNP A1 A2  C(HOM A1)  C(HET)  C(HOM A2)  C(HAP A1)\n",
      "1912    7  58099  A  B         31     126        168          0\n",
      "GGPHDV3\n",
      "      CHR    SNP A1 A2  C(HOM A1)  C(HET)  C(HOM A2)  C(HAP A1)\n",
      "1912    7  58099  A  0       2272       0          0          0\n",
      "SNP50A\n",
      "      CHR    SNP A1 A2  C(HOM A1)  C(HET)  C(HOM A2)  C(HAP A1)\n",
      "1912    7  58099  A  B         45     151        112          0\n",
      "SNP50B\n",
      "      CHR    SNP A1 A2  C(HOM A1)  C(HET)  C(HOM A2)  C(HAP A1)\n",
      "1912    7  58099  A  B         21     120        193          0\n",
      "SNP50C\n",
      "      CHR    SNP A1 A2  C(HOM A1)  C(HET)  C(HOM A2)  C(HAP A1)\n",
      "1912    7  58099  A  B        350    1404       1526          0\n",
      "GGPLDV3\n",
      "      CHR    SNP A1 A2  C(HOM A1)  C(HET)  C(HOM A2)  C(HAP A1)\n",
      "1912    7  58099  A  B        319    1289       1475          0\n",
      "GGPLDV4\n",
      "      CHR    SNP A1 A2  C(HOM A1)  C(HET)  C(HOM A2)  C(HAP A1)\n",
      "1912    7  58099  B  A        557    1233        697          0\n",
      "GGP90KT\n",
      "      CHR    SNP A1 A2  C(HOM A1)  C(HET)  C(HOM A2)  C(HAP A1)\n",
      "1912    7  58099  A  B        421    1580       1484          0\n",
      "HD\n",
      "      CHR    SNP A1 A2  C(HOM A1)  C(HET)  C(HOM A2)  C(HAP A1)\n",
      "1912    7  58099  A  B         72     220        183          0\n"
     ]
    }
   ],
   "source": [
    "for k,i in allfreqs.items():\n",
    "    print(k)\n",
    "    print(i.iloc[1912:1913,:8])\n"
   ]
  },
  {
   "cell_type": "code",
   "execution_count": 55,
   "metadata": {
    "collapsed": false
   },
   "outputs": [
    {
     "name": "stdout",
     "output_type": "stream",
     "text": [
      "GGPF250\n",
      "    CHR    SNP A1 A2  C(HOM A1)  C(HET)  C(HOM A2)  C(HAP A1)\n",
      "35    1  49468  B  A         54     168         96          0\n",
      "GGPHDV3\n",
      "    CHR    SNP A1 A2  C(HOM A1)  C(HET)  C(HOM A2)  C(HAP A1)\n",
      "35    1  49468  B  0       2321       0          0          0\n",
      "SNP50A\n",
      "    CHR    SNP A1 A2  C(HOM A1)  C(HET)  C(HOM A2)  C(HAP A1)\n",
      "35    1  49468  B  A         69     135        103          0\n",
      "SNP50B\n",
      "    CHR    SNP A1 A2  C(HOM A1)  C(HET)  C(HOM A2)  C(HAP A1)\n",
      "35    1  49468  B  A         59     164        111          0\n",
      "SNP50C\n",
      "    CHR    SNP A1 A2  C(HOM A1)  C(HET)  C(HOM A2)  C(HAP A1)\n",
      "35    1  49468  B  A        639    1615       1023          0\n",
      "GGPLDV3\n",
      "    CHR    SNP A1 A2  C(HOM A1)  C(HET)  C(HOM A2)  C(HAP A1)\n",
      "35    1  49468  B  A        624    1520        943          0\n",
      "GGPLDV4\n",
      "    CHR    SNP A1 A2  C(HOM A1)  C(HET)  C(HOM A2)  C(HAP A1)\n",
      "35    1  49468  A  B          0       7       2479          0\n",
      "GGP90KT\n",
      "    CHR    SNP A1 A2  C(HOM A1)  C(HET)  C(HOM A2)  C(HAP A1)\n",
      "35    1  49468  B  A        811    1705        967          0\n",
      "HD\n",
      "    CHR    SNP A1 A2  C(HOM A1)  C(HET)  C(HOM A2)  C(HAP A1)\n",
      "35    1  49468  B  A         89     221        158          0\n"
     ]
    }
   ],
   "source": [
    "for k,i in allfreqs.items():\n",
    "    print(k)\n",
    "    print(i.iloc[35:36,:8])"
   ]
  },
  {
   "cell_type": "code",
   "execution_count": 54,
   "metadata": {
    "collapsed": false
   },
   "outputs": [
    {
     "name": "stdout",
     "output_type": "stream",
     "text": [
      "GGPF250\n",
      "      CHR    SNP A1 A2  C(HOM A1)  C(HET)  C(HOM A2)  C(HAP A1)\n",
      "4581   19  11379  B  A         34     153        138          0\n",
      "GGPHDV3\n",
      "      CHR    SNP A1 A2  C(HOM A1)  C(HET)  C(HOM A2)  C(HAP A1)\n",
      "4581   19  11379  B  A        453    1169        700          0\n",
      "SNP50A\n",
      "      CHR    SNP A1 A2  C(HOM A1)  C(HET)  C(HOM A2)  C(HAP A1)\n",
      "4581   19  11379  B  A         80     141         86          0\n",
      "SNP50B\n",
      "      CHR    SNP A1 A2  C(HOM A1)  C(HET)  C(HOM A2)  C(HAP A1)\n",
      "4581   19  11379  B  A         35     134        165          0\n",
      "SNP50C\n",
      "      CHR    SNP A1 A2  C(HOM A1)  C(HET)  C(HOM A2)  C(HAP A1)\n",
      "4581   19  11379  B  A        562    1626       1091          0\n",
      "GGPLDV3\n",
      "      CHR    SNP A1 A2  C(HOM A1)  C(HET)  C(HOM A2)  C(HAP A1)\n",
      "4581   19  11379  B  A        508    1510       1070          0\n",
      "GGPLDV4\n",
      "      CHR    SNP A1 A2  C(HOM A1)  C(HET)  C(HOM A2)  C(HAP A1)\n",
      "4581   19  11379  A  0       2492       0          0          0\n",
      "GGP90KT\n",
      "      CHR    SNP A1 A2  C(HOM A1)  C(HET)  C(HOM A2)  C(HAP A1)\n",
      "4581   19  11379  B  A        671    1763       1055          0\n",
      "HD\n",
      "      CHR    SNP A1 A2  C(HOM A1)  C(HET)  C(HOM A2)  C(HAP A1)\n",
      "4581   19  11379  B  A         98     227        150          0\n"
     ]
    }
   ],
   "source": [
    "for k,i in allfreqs.items():\n",
    "    print(k)\n",
    "    print(i.iloc[4581:4582,:8])\n"
   ]
  },
  {
   "cell_type": "code",
   "execution_count": 32,
   "metadata": {
    "collapsed": false
   },
   "outputs": [
    {
     "name": "stdout",
     "output_type": "stream",
     "text": [
      "      CHR    SNP A1 A2  C(HOM A1)  C(HET)  C(HOM A2)  C(HAP A1)\n",
      "2420    8  17351  B  0       2320       0          0          0\n",
      "      CHR    SNP A1 A2  C(HOM A1)  C(HET)  C(HOM A2)  C(HAP A1)\n",
      "2420    8  17351  B  0        325       0          0          0\n",
      "      CHR    SNP A1 A2  C(HOM A1)  C(HET)  C(HOM A2)  C(HAP A1)\n",
      "2420    8  17351  B  0       3097       0          0          0\n",
      "      CHR    SNP A1 A2  C(HOM A1)  C(HET)  C(HOM A2)  C(HAP A1)\n",
      "2420    8  17351  B  A        317    1183        989          0\n",
      "      CHR    SNP A1 A2  C(HOM A1)  C(HET)  C(HOM A2)  C(HAP A1)\n",
      "2420    8  17351  B  0        307       0          0          0\n",
      "      CHR    SNP A1 A2  C(HOM A1)  C(HET)  C(HOM A2)  C(HAP A1)\n",
      "2420    8  17351  B  0        333       0          0          0\n",
      "      CHR    SNP A1 A2  C(HOM A1)  C(HET)  C(HOM A2)  C(HAP A1)\n",
      "2420    8  17351  A  B          0       2       3277          0\n",
      "      CHR    SNP A1 A2  C(HOM A1)  C(HET)  C(HOM A2)  C(HAP A1)\n",
      "2420    8  17351  A  B          0       1       3422          0\n",
      "      CHR    SNP A1 A2  C(HOM A1)  C(HET)  C(HOM A2)  C(HAP A1)\n",
      "2420    8  17351  B  0        474       0          0          0\n"
     ]
    }
   ],
   "source": [
    "for i in allfreqs:\n",
    "    print(i.iloc[2420:2421,:8])\n"
   ]
  },
  {
   "cell_type": "code",
   "execution_count": 38,
   "metadata": {
    "collapsed": false
   },
   "outputs": [
    {
     "name": "stdout",
     "output_type": "stream",
     "text": [
      "8\t17351\tB\tA\t13497\t1186\t989\t0\t0\t78\r\n"
     ]
    }
   ],
   "source": [
    "! grep 17351 ../merged_strand/170112_merged.frqx "
   ]
  },
  {
   "cell_type": "code",
   "execution_count": 33,
   "metadata": {
    "collapsed": false
   },
   "outputs": [
    {
     "name": "stdout",
     "output_type": "stream",
     "text": [
      "      CHR    SNP A1 A2  C(HOM A1)  C(HET)  C(HOM A2)  C(HAP A1)\n",
      "4702   19  17640  B  0       2323       0          0          0\n",
      "      CHR    SNP A1 A2  C(HOM A1)  C(HET)  C(HOM A2)  C(HAP A1)\n",
      "4702   19  17640  B  0        325       0          0          0\n",
      "      CHR    SNP A1 A2  C(HOM A1)  C(HET)  C(HOM A2)  C(HAP A1)\n",
      "4702   19  17640  A  B          0       0       3055          0\n",
      "      CHR    SNP A1 A2  C(HOM A1)  C(HET)  C(HOM A2)  C(HAP A1)\n",
      "4702   19  17640  B  A        432    1290        768          0\n",
      "      CHR    SNP A1 A2  C(HOM A1)  C(HET)  C(HOM A2)  C(HAP A1)\n",
      "4702   19  17640  B  0        308       0          0          0\n",
      "      CHR    SNP A1 A2  C(HOM A1)  C(HET)  C(HOM A2)  C(HAP A1)\n",
      "4702   19  17640  B  0        334       0          0          0\n",
      "      CHR    SNP A1 A2  C(HOM A1)  C(HET)  C(HOM A2)  C(HAP A1)\n",
      "4702   19  17640  B  0       3280       0          0          0\n",
      "      CHR    SNP A1 A2  C(HOM A1)  C(HET)  C(HOM A2)  C(HAP A1)\n",
      "4702   19  17640  B  0       3491       0          0          0\n",
      "      CHR    SNP A1 A2  C(HOM A1)  C(HET)  C(HOM A2)  C(HAP A1)\n",
      "4702   19  17640  B  0        475       0          0          0\n"
     ]
    },
    {
     "data": {
      "text/plain": [
       "4702"
      ]
     },
     "execution_count": 33,
     "metadata": {},
     "output_type": "execute_result"
    }
   ],
   "source": [
    "for i in allfreqs:\n",
    "    print(i.iloc[4702:4703,:8])\n",
    "4702"
   ]
  },
  {
   "cell_type": "code",
   "execution_count": 35,
   "metadata": {
    "collapsed": false
   },
   "outputs": [
    {
     "data": {
      "text/plain": [
       "'30105.170112.2500.GGPLDV4.frqx'"
      ]
     },
     "execution_count": 35,
     "metadata": {},
     "output_type": "execute_result"
    }
   ],
   "source": [
    "freqs[3]"
   ]
  },
  {
   "cell_type": "code",
   "execution_count": 36,
   "metadata": {
    "collapsed": false
   },
   "outputs": [
    {
     "name": "stdout",
     "output_type": "stream",
     "text": [
      "      CHR    SNP A1 A2  C(HOM A1)  C(HET)  C(HOM A2)  C(HAP A1)\n",
      "1296    5  41333  A  B        568    1135        607          0\n",
      "      CHR    SNP A1 A2  C(HOM A1)  C(HET)  C(HOM A2)  C(HAP A1)\n",
      "1296    5  41333  A  B         83     155         85          0\n",
      "      CHR    SNP A1 A2  C(HOM A1)  C(HET)  C(HOM A2)  C(HAP A1)\n",
      "1296    5  41333  B  A        778    1431        785          0\n",
      "      CHR    SNP A1 A2  C(HOM A1)  C(HET)  C(HOM A2)  C(HAP A1)\n",
      "1296    5  41333  0  A          0       0       2490          0\n",
      "      CHR    SNP A1 A2  C(HOM A1)  C(HET)  C(HOM A2)  C(HAP A1)\n",
      "1296    5  41333  A  B         73     155         75          0\n",
      "      CHR    SNP A1 A2  C(HOM A1)  C(HET)  C(HOM A2)  C(HAP A1)\n",
      "1296    5  41333  A  B         77     160         92          0\n",
      "      CHR    SNP A1 A2  C(HOM A1)  C(HET)  C(HOM A2)  C(HAP A1)\n",
      "1296    5  41333  B  A        776    1639        849          0\n",
      "      CHR    SNP A1 A2  C(HOM A1)  C(HET)  C(HOM A2)  C(HAP A1)\n",
      "1296    5  41333  A  B        830    1637        929          0\n",
      "      CHR    SNP A1 A2  C(HOM A1)  C(HET)  C(HOM A2)  C(HAP A1)\n",
      "1296    5  41333  A  B        105     248        117          0\n"
     ]
    },
    {
     "data": {
      "text/plain": [
       "1296"
      ]
     },
     "execution_count": 36,
     "metadata": {},
     "output_type": "execute_result"
    }
   ],
   "source": [
    "for i in allfreqs:\n",
    "    print(i.iloc[1296:1297,:8])\n",
    "4702\n",
    "1296"
   ]
  },
  {
   "cell_type": "code",
   "execution_count": 92,
   "metadata": {
    "collapsed": false
   },
   "outputs": [
    {
     "data": {
      "text/html": [
       "<div>\n",
       "<table border=\"1\" class=\"dataframe\">\n",
       "  <thead>\n",
       "    <tr style=\"text-align: right;\">\n",
       "      <th></th>\n",
       "      <th>CHR</th>\n",
       "      <th>SNP</th>\n",
       "      <th>A1</th>\n",
       "      <th>A2</th>\n",
       "      <th>C(HOM A1)</th>\n",
       "      <th>C(HET)</th>\n",
       "      <th>C(HOM A2)</th>\n",
       "      <th>C(HAP A1)</th>\n",
       "      <th>C(HAP A2)</th>\n",
       "      <th>C(MISSING)</th>\n",
       "    </tr>\n",
       "  </thead>\n",
       "  <tbody>\n",
       "    <tr>\n",
       "      <th>0</th>\n",
       "      <td>1</td>\n",
       "      <td>51032</td>\n",
       "      <td>A</td>\n",
       "      <td>B</td>\n",
       "      <td>7</td>\n",
       "      <td>206</td>\n",
       "      <td>2108</td>\n",
       "      <td>0</td>\n",
       "      <td>0</td>\n",
       "      <td>2</td>\n",
       "    </tr>\n",
       "    <tr>\n",
       "      <th>1</th>\n",
       "      <td>1</td>\n",
       "      <td>6496</td>\n",
       "      <td>A</td>\n",
       "      <td>B</td>\n",
       "      <td>314</td>\n",
       "      <td>1121</td>\n",
       "      <td>878</td>\n",
       "      <td>0</td>\n",
       "      <td>0</td>\n",
       "      <td>10</td>\n",
       "    </tr>\n",
       "    <tr>\n",
       "      <th>2</th>\n",
       "      <td>1</td>\n",
       "      <td>47961</td>\n",
       "      <td>B</td>\n",
       "      <td>A</td>\n",
       "      <td>235</td>\n",
       "      <td>1036</td>\n",
       "      <td>1038</td>\n",
       "      <td>0</td>\n",
       "      <td>0</td>\n",
       "      <td>14</td>\n",
       "    </tr>\n",
       "    <tr>\n",
       "      <th>3</th>\n",
       "      <td>1</td>\n",
       "      <td>22465</td>\n",
       "      <td>A</td>\n",
       "      <td>B</td>\n",
       "      <td>213</td>\n",
       "      <td>1009</td>\n",
       "      <td>1098</td>\n",
       "      <td>0</td>\n",
       "      <td>0</td>\n",
       "      <td>3</td>\n",
       "    </tr>\n",
       "    <tr>\n",
       "      <th>4</th>\n",
       "      <td>1</td>\n",
       "      <td>55218</td>\n",
       "      <td>B</td>\n",
       "      <td>A</td>\n",
       "      <td>71</td>\n",
       "      <td>661</td>\n",
       "      <td>1590</td>\n",
       "      <td>0</td>\n",
       "      <td>0</td>\n",
       "      <td>1</td>\n",
       "    </tr>\n",
       "  </tbody>\n",
       "</table>\n",
       "</div>"
      ],
      "text/plain": [
       "   CHR    SNP A1 A2  C(HOM A1)  C(HET)  C(HOM A2)  C(HAP A1)  C(HAP A2)  \\\n",
       "0    1  51032  A  B          7     206       2108          0          0   \n",
       "1    1   6496  A  B        314    1121        878          0          0   \n",
       "2    1  47961  B  A        235    1036       1038          0          0   \n",
       "3    1  22465  A  B        213    1009       1098          0          0   \n",
       "4    1  55218  B  A         71     661       1590          0          0   \n",
       "\n",
       "   C(MISSING)  \n",
       "0           2  \n",
       "1          10  \n",
       "2          14  \n",
       "3           3  \n",
       "4           1  "
      ]
     },
     "execution_count": 92,
     "metadata": {},
     "output_type": "execute_result"
    }
   ],
   "source": [
    "ggphdv3.head()"
   ]
  },
  {
   "cell_type": "code",
   "execution_count": 89,
   "metadata": {
    "collapsed": false
   },
   "outputs": [
    {
     "data": {
      "text/plain": [
       "4642"
      ]
     },
     "execution_count": 89,
     "metadata": {},
     "output_type": "execute_result"
    }
   ],
   "source": [
    " 220 + 2*2108 + 206"
   ]
  },
  {
   "cell_type": "code",
   "execution_count": 94,
   "metadata": {
    "collapsed": false
   },
   "outputs": [
    {
     "data": {
      "text/plain": [
       "0.04739336492890995"
      ]
     },
     "execution_count": 94,
     "metadata": {},
     "output_type": "execute_result"
    }
   ],
   "source": [
    "220.0/4642"
   ]
  },
  {
   "cell_type": "code",
   "execution_count": 87,
   "metadata": {
    "collapsed": false
   },
   "outputs": [
    {
     "data": {
      "text/plain": [
       "0.04739336492890995"
      ]
     },
     "execution_count": 87,
     "metadata": {},
     "output_type": "execute_result"
    }
   ],
   "source": [
    "samp['51032']"
   ]
  },
  {
   "cell_type": "code",
   "execution_count": 84,
   "metadata": {
    "collapsed": false
   },
   "outputs": [],
   "source": [
    "testf = open('./139977.170112.2326.GGPHDV3.frqx')\n",
    "testf.readline()\n",
    "samp = {}\n",
    "for line in testf:\n",
    "    chr,snp,a1,a2,ha1,het,ha2,ch,c2,mis = line.split()\n",
    "    ha1,het,ha2 = int(ha1),int(het),int(ha2)\n",
    "    if (a1,a2)==('A','B'):\n",
    "        bcount = 2 *ha2 + het\n",
    "        acount = 2 *ha1 + het\n",
    "    if (a1,a2)==('B','A'):\n",
    "        acount = 2 *ha2 + het\n",
    "        bcount = 2 *ha1 + het\n",
    "    if (a1,a2)==('A','0'):\n",
    "        acount = 2 *ha1 + het\n",
    "        bcount = 0\n",
    "    if (a1,a2)==('B','0'):\n",
    "        bcount = 2 *ha1 + het\n",
    "        acount = 0\n",
    "    fullcount = acount + bcount\n",
    "    afreq = float(acount)/fullcount\n",
    "    bfreq = float(bcount)/fullcount\n",
    "    samp[snp] = (afreq)"
   ]
  },
  {
   "cell_type": "code",
   "execution_count": 98,
   "metadata": {
    "collapsed": false
   },
   "outputs": [
    {
     "name": "stdout",
     "output_type": "stream",
     "text": [
      "139977.170112.2326.GGPHDV3.frqx\n",
      "227234.170112.325.GGPF250.frqx\n",
      "30\t38753\tB\tA\t0\t0\t0\t75\t248\t2\n",
      "\n",
      "26504.170112.3126.GGPLDV3.frqx\n",
      "30105.170112.2500.GGPLDV4.frqx\n",
      "58336.170112.315.SNP50A.frqx\n",
      "30\t38753\tB\tA\t0\t0\t0\t90\t210\t8\n",
      "\n",
      "58336.170112.335.SNP50B.frqx\n",
      "30\t38753\tB\tA\t0\t0\t0\t70\t264\t0\n",
      "\n",
      "58336.170112.3399.SNP50C.frqx\n",
      "76999.170112.3498.GGP90KT.frqx\n",
      "777962.170127.483.HD.frqx\n"
     ]
    }
   ],
   "source": [
    "allfreqs = {}\n",
    "for i in freqs:\n",
    "    print(i)\n",
    "    file = open(i)\n",
    "    file.readline()\n",
    "    samp = {}\n",
    "    for line in file:\n",
    "        chr,snp,a1,a2,ha1,het,ha2,ch,c2,mis = line.split()\n",
    "        ha1,het,ha2 = int(ha1),int(het),int(ha2)\n",
    "        if (a1,a2)==('A','B'):\n",
    "            bcount = 2 *ha2 + het\n",
    "            acount = 2 *ha1 + het\n",
    "        if (a1,a2)==('B','A'):\n",
    "            acount = 2 *ha2 + het\n",
    "            bcount = 2 *ha1 + het\n",
    "        if (a1,a2)==('A','0'):\n",
    "            acount = 2 *ha1 + het\n",
    "            bcount = 0\n",
    "        if (a1,a2)==('B','0'):\n",
    "            bcount = 2 *ha1 + het\n",
    "            acount = 0\n",
    "        fullcount = acount + bcount\n",
    "        if fullcount == 0:\n",
    "            print(line)\n",
    "            break\n",
    "        afreq = float(acount)/fullcount\n",
    "        bfreq = float(bcount)/fullcount\n",
    "        samp[snp] = (afreq)\n",
    "    allfreqs[i.split('.')[3]] = samp\n"
   ]
  },
  {
   "cell_type": "code",
   "execution_count": 100,
   "metadata": {
    "collapsed": false
   },
   "outputs": [],
   "source": [
    "freq_frame = pd.DataFrame(allfreqs)"
   ]
  },
  {
   "cell_type": "code",
   "execution_count": 101,
   "metadata": {
    "collapsed": false
   },
   "outputs": [
    {
     "data": {
      "text/html": [
       "<div>\n",
       "<table border=\"1\" class=\"dataframe\">\n",
       "  <thead>\n",
       "    <tr style=\"text-align: right;\">\n",
       "      <th></th>\n",
       "      <th>GGP90KT</th>\n",
       "      <th>GGPF250</th>\n",
       "      <th>GGPHDV3</th>\n",
       "      <th>GGPLDV3</th>\n",
       "      <th>GGPLDV4</th>\n",
       "      <th>HD</th>\n",
       "      <th>SNP50A</th>\n",
       "      <th>SNP50B</th>\n",
       "      <th>SNP50C</th>\n",
       "    </tr>\n",
       "  </thead>\n",
       "  <tbody>\n",
       "    <tr>\n",
       "      <th>GGP90KT</th>\n",
       "      <td>1.000000</td>\n",
       "      <td>0.892541</td>\n",
       "      <td>0.643732</td>\n",
       "      <td>0.981374</td>\n",
       "      <td>0.014558</td>\n",
       "      <td>0.975908</td>\n",
       "      <td>0.957606</td>\n",
       "      <td>0.888741</td>\n",
       "      <td>0.990686</td>\n",
       "    </tr>\n",
       "    <tr>\n",
       "      <th>GGPF250</th>\n",
       "      <td>0.892541</td>\n",
       "      <td>1.000000</td>\n",
       "      <td>0.583069</td>\n",
       "      <td>0.935066</td>\n",
       "      <td>0.007294</td>\n",
       "      <td>0.906057</td>\n",
       "      <td>0.783690</td>\n",
       "      <td>0.982407</td>\n",
       "      <td>0.932353</td>\n",
       "    </tr>\n",
       "    <tr>\n",
       "      <th>GGPHDV3</th>\n",
       "      <td>0.643732</td>\n",
       "      <td>0.583069</td>\n",
       "      <td>1.000000</td>\n",
       "      <td>0.632556</td>\n",
       "      <td>0.076414</td>\n",
       "      <td>0.628986</td>\n",
       "      <td>0.612118</td>\n",
       "      <td>0.581244</td>\n",
       "      <td>0.639727</td>\n",
       "    </tr>\n",
       "    <tr>\n",
       "      <th>GGPLDV3</th>\n",
       "      <td>0.981374</td>\n",
       "      <td>0.935066</td>\n",
       "      <td>0.632556</td>\n",
       "      <td>1.000000</td>\n",
       "      <td>0.010229</td>\n",
       "      <td>0.962828</td>\n",
       "      <td>0.911558</td>\n",
       "      <td>0.925647</td>\n",
       "      <td>0.985679</td>\n",
       "    </tr>\n",
       "    <tr>\n",
       "      <th>GGPLDV4</th>\n",
       "      <td>0.014558</td>\n",
       "      <td>0.007294</td>\n",
       "      <td>0.076414</td>\n",
       "      <td>0.010229</td>\n",
       "      <td>1.000000</td>\n",
       "      <td>0.008675</td>\n",
       "      <td>0.012997</td>\n",
       "      <td>0.012570</td>\n",
       "      <td>0.013082</td>\n",
       "    </tr>\n",
       "    <tr>\n",
       "      <th>HD</th>\n",
       "      <td>0.975908</td>\n",
       "      <td>0.906057</td>\n",
       "      <td>0.628986</td>\n",
       "      <td>0.962828</td>\n",
       "      <td>0.008675</td>\n",
       "      <td>1.000000</td>\n",
       "      <td>0.959012</td>\n",
       "      <td>0.895991</td>\n",
       "      <td>0.981513</td>\n",
       "    </tr>\n",
       "    <tr>\n",
       "      <th>SNP50A</th>\n",
       "      <td>0.957606</td>\n",
       "      <td>0.783690</td>\n",
       "      <td>0.612118</td>\n",
       "      <td>0.911558</td>\n",
       "      <td>0.012997</td>\n",
       "      <td>0.959012</td>\n",
       "      <td>1.000000</td>\n",
       "      <td>0.782354</td>\n",
       "      <td>0.944318</td>\n",
       "    </tr>\n",
       "    <tr>\n",
       "      <th>SNP50B</th>\n",
       "      <td>0.888741</td>\n",
       "      <td>0.982407</td>\n",
       "      <td>0.581244</td>\n",
       "      <td>0.925647</td>\n",
       "      <td>0.012570</td>\n",
       "      <td>0.895991</td>\n",
       "      <td>0.782354</td>\n",
       "      <td>1.000000</td>\n",
       "      <td>0.928470</td>\n",
       "    </tr>\n",
       "    <tr>\n",
       "      <th>SNP50C</th>\n",
       "      <td>0.990686</td>\n",
       "      <td>0.932353</td>\n",
       "      <td>0.639727</td>\n",
       "      <td>0.985679</td>\n",
       "      <td>0.013082</td>\n",
       "      <td>0.981513</td>\n",
       "      <td>0.944318</td>\n",
       "      <td>0.928470</td>\n",
       "      <td>1.000000</td>\n",
       "    </tr>\n",
       "  </tbody>\n",
       "</table>\n",
       "</div>"
      ],
      "text/plain": [
       "          GGP90KT   GGPF250   GGPHDV3   GGPLDV3   GGPLDV4        HD    SNP50A  \\\n",
       "GGP90KT  1.000000  0.892541  0.643732  0.981374  0.014558  0.975908  0.957606   \n",
       "GGPF250  0.892541  1.000000  0.583069  0.935066  0.007294  0.906057  0.783690   \n",
       "GGPHDV3  0.643732  0.583069  1.000000  0.632556  0.076414  0.628986  0.612118   \n",
       "GGPLDV3  0.981374  0.935066  0.632556  1.000000  0.010229  0.962828  0.911558   \n",
       "GGPLDV4  0.014558  0.007294  0.076414  0.010229  1.000000  0.008675  0.012997   \n",
       "HD       0.975908  0.906057  0.628986  0.962828  0.008675  1.000000  0.959012   \n",
       "SNP50A   0.957606  0.783690  0.612118  0.911558  0.012997  0.959012  1.000000   \n",
       "SNP50B   0.888741  0.982407  0.581244  0.925647  0.012570  0.895991  0.782354   \n",
       "SNP50C   0.990686  0.932353  0.639727  0.985679  0.013082  0.981513  0.944318   \n",
       "\n",
       "           SNP50B    SNP50C  \n",
       "GGP90KT  0.888741  0.990686  \n",
       "GGPF250  0.982407  0.932353  \n",
       "GGPHDV3  0.581244  0.639727  \n",
       "GGPLDV3  0.925647  0.985679  \n",
       "GGPLDV4  0.012570  0.013082  \n",
       "HD       0.895991  0.981513  \n",
       "SNP50A   0.782354  0.944318  \n",
       "SNP50B   1.000000  0.928470  \n",
       "SNP50C   0.928470  1.000000  "
      ]
     },
     "execution_count": 101,
     "metadata": {},
     "output_type": "execute_result"
    }
   ],
   "source": [
    "freq_frame.corr()"
   ]
  },
  {
   "cell_type": "code",
   "execution_count": 120,
   "metadata": {
    "collapsed": false
   },
   "outputs": [
    {
     "data": {
      "text/html": [
       "<div>\n",
       "<table border=\"1\" class=\"dataframe\">\n",
       "  <thead>\n",
       "    <tr style=\"text-align: right;\">\n",
       "      <th></th>\n",
       "      <th>GGP90KT</th>\n",
       "      <th>GGPF250</th>\n",
       "      <th>GGPHDV3</th>\n",
       "      <th>GGPLDV3</th>\n",
       "      <th>GGPLDV4</th>\n",
       "      <th>HD</th>\n",
       "      <th>SNP50A</th>\n",
       "      <th>SNP50B</th>\n",
       "      <th>SNP50C</th>\n",
       "    </tr>\n",
       "  </thead>\n",
       "  <tbody>\n",
       "    <tr>\n",
       "      <th>count</th>\n",
       "      <td>9.000000</td>\n",
       "      <td>9.000000</td>\n",
       "      <td>9.000000</td>\n",
       "      <td>9.000000</td>\n",
       "      <td>9.000000</td>\n",
       "      <td>9.000000</td>\n",
       "      <td>9.000000</td>\n",
       "      <td>9.000000</td>\n",
       "      <td>9.000000</td>\n",
       "    </tr>\n",
       "    <tr>\n",
       "      <th>mean</th>\n",
       "      <td>0.816127</td>\n",
       "      <td>0.780275</td>\n",
       "      <td>0.599761</td>\n",
       "      <td>0.816104</td>\n",
       "      <td>0.128424</td>\n",
       "      <td>0.813219</td>\n",
       "      <td>0.773739</td>\n",
       "      <td>0.777491</td>\n",
       "      <td>0.823981</td>\n",
       "    </tr>\n",
       "    <tr>\n",
       "      <th>std</th>\n",
       "      <td>0.320250</td>\n",
       "      <td>0.316435</td>\n",
       "      <td>0.234606</td>\n",
       "      <td>0.322064</td>\n",
       "      <td>0.327557</td>\n",
       "      <td>0.322106</td>\n",
       "      <td>0.310733</td>\n",
       "      <td>0.313509</td>\n",
       "      <td>0.323726</td>\n",
       "    </tr>\n",
       "    <tr>\n",
       "      <th>min</th>\n",
       "      <td>0.014558</td>\n",
       "      <td>0.007294</td>\n",
       "      <td>0.076414</td>\n",
       "      <td>0.010229</td>\n",
       "      <td>0.007294</td>\n",
       "      <td>0.008675</td>\n",
       "      <td>0.012997</td>\n",
       "      <td>0.012570</td>\n",
       "      <td>0.013082</td>\n",
       "    </tr>\n",
       "    <tr>\n",
       "      <th>25%</th>\n",
       "      <td>0.888741</td>\n",
       "      <td>0.783690</td>\n",
       "      <td>0.583069</td>\n",
       "      <td>0.911558</td>\n",
       "      <td>0.010229</td>\n",
       "      <td>0.895991</td>\n",
       "      <td>0.782354</td>\n",
       "      <td>0.782354</td>\n",
       "      <td>0.928470</td>\n",
       "    </tr>\n",
       "    <tr>\n",
       "      <th>50%</th>\n",
       "      <td>0.957606</td>\n",
       "      <td>0.906057</td>\n",
       "      <td>0.628986</td>\n",
       "      <td>0.935066</td>\n",
       "      <td>0.012997</td>\n",
       "      <td>0.959012</td>\n",
       "      <td>0.911558</td>\n",
       "      <td>0.895991</td>\n",
       "      <td>0.944318</td>\n",
       "    </tr>\n",
       "    <tr>\n",
       "      <th>75%</th>\n",
       "      <td>0.981374</td>\n",
       "      <td>0.935066</td>\n",
       "      <td>0.639727</td>\n",
       "      <td>0.981374</td>\n",
       "      <td>0.014558</td>\n",
       "      <td>0.975908</td>\n",
       "      <td>0.957606</td>\n",
       "      <td>0.928470</td>\n",
       "      <td>0.985679</td>\n",
       "    </tr>\n",
       "    <tr>\n",
       "      <th>max</th>\n",
       "      <td>1.000000</td>\n",
       "      <td>1.000000</td>\n",
       "      <td>1.000000</td>\n",
       "      <td>1.000000</td>\n",
       "      <td>1.000000</td>\n",
       "      <td>1.000000</td>\n",
       "      <td>1.000000</td>\n",
       "      <td>1.000000</td>\n",
       "      <td>1.000000</td>\n",
       "    </tr>\n",
       "  </tbody>\n",
       "</table>\n",
       "</div>"
      ],
      "text/plain": [
       "        GGP90KT   GGPF250   GGPHDV3   GGPLDV3   GGPLDV4        HD    SNP50A  \\\n",
       "count  9.000000  9.000000  9.000000  9.000000  9.000000  9.000000  9.000000   \n",
       "mean   0.816127  0.780275  0.599761  0.816104  0.128424  0.813219  0.773739   \n",
       "std    0.320250  0.316435  0.234606  0.322064  0.327557  0.322106  0.310733   \n",
       "min    0.014558  0.007294  0.076414  0.010229  0.007294  0.008675  0.012997   \n",
       "25%    0.888741  0.783690  0.583069  0.911558  0.010229  0.895991  0.782354   \n",
       "50%    0.957606  0.906057  0.628986  0.935066  0.012997  0.959012  0.911558   \n",
       "75%    0.981374  0.935066  0.639727  0.981374  0.014558  0.975908  0.957606   \n",
       "max    1.000000  1.000000  1.000000  1.000000  1.000000  1.000000  1.000000   \n",
       "\n",
       "         SNP50B    SNP50C  \n",
       "count  9.000000  9.000000  \n",
       "mean   0.777491  0.823981  \n",
       "std    0.313509  0.323726  \n",
       "min    0.012570  0.013082  \n",
       "25%    0.782354  0.928470  \n",
       "50%    0.895991  0.944318  \n",
       "75%    0.928470  0.985679  \n",
       "max    1.000000  1.000000  "
      ]
     },
     "execution_count": 120,
     "metadata": {},
     "output_type": "execute_result"
    }
   ],
   "source": [
    "freq_frame.corr().describe()"
   ]
  },
  {
   "cell_type": "code",
   "execution_count": 107,
   "metadata": {
    "collapsed": false
   },
   "outputs": [
    {
     "data": {
      "text/html": [
       "<div>\n",
       "<table border=\"1\" class=\"dataframe\">\n",
       "  <thead>\n",
       "    <tr style=\"text-align: right;\">\n",
       "      <th></th>\n",
       "      <th>GGP90KT</th>\n",
       "      <th>GGPF250</th>\n",
       "      <th>GGPHDV3</th>\n",
       "      <th>GGPLDV3</th>\n",
       "      <th>GGPLDV4</th>\n",
       "      <th>HD</th>\n",
       "      <th>SNP50A</th>\n",
       "      <th>SNP50B</th>\n",
       "      <th>SNP50C</th>\n",
       "    </tr>\n",
       "  </thead>\n",
       "  <tbody>\n",
       "    <tr>\n",
       "      <th>10004</th>\n",
       "      <td>0.383888</td>\n",
       "      <td>0.273994</td>\n",
       "      <td>0.388889</td>\n",
       "      <td>0.360239</td>\n",
       "      <td>0.354242</td>\n",
       "      <td>0.323158</td>\n",
       "      <td>0.441558</td>\n",
       "      <td>0.263473</td>\n",
       "      <td>0.377673</td>\n",
       "    </tr>\n",
       "    <tr>\n",
       "      <th>10005</th>\n",
       "      <td>0.370121</td>\n",
       "      <td>0.358462</td>\n",
       "      <td>0.373273</td>\n",
       "      <td>0.311931</td>\n",
       "      <td>0.397071</td>\n",
       "      <td>0.383966</td>\n",
       "      <td>0.396104</td>\n",
       "      <td>0.333832</td>\n",
       "      <td>0.380435</td>\n",
       "    </tr>\n",
       "    <tr>\n",
       "      <th>10021</th>\n",
       "      <td>0.325788</td>\n",
       "      <td>0.304615</td>\n",
       "      <td>0.301903</td>\n",
       "      <td>0.353381</td>\n",
       "      <td>0.186798</td>\n",
       "      <td>0.334737</td>\n",
       "      <td>0.386364</td>\n",
       "      <td>0.250000</td>\n",
       "      <td>0.313453</td>\n",
       "    </tr>\n",
       "    <tr>\n",
       "      <th>10037</th>\n",
       "      <td>0.721931</td>\n",
       "      <td>0.643963</td>\n",
       "      <td>0.744952</td>\n",
       "      <td>0.714431</td>\n",
       "      <td>0.403900</td>\n",
       "      <td>0.675906</td>\n",
       "      <td>0.744186</td>\n",
       "      <td>0.673653</td>\n",
       "      <td>0.705892</td>\n",
       "    </tr>\n",
       "    <tr>\n",
       "      <th>10038</th>\n",
       "      <td>0.433024</td>\n",
       "      <td>0.478395</td>\n",
       "      <td>0.435401</td>\n",
       "      <td>0.424174</td>\n",
       "      <td>0.712505</td>\n",
       "      <td>0.417895</td>\n",
       "      <td>0.368506</td>\n",
       "      <td>0.537425</td>\n",
       "      <td>0.440854</td>\n",
       "    </tr>\n",
       "  </tbody>\n",
       "</table>\n",
       "</div>"
      ],
      "text/plain": [
       "        GGP90KT   GGPF250   GGPHDV3   GGPLDV3   GGPLDV4        HD    SNP50A  \\\n",
       "10004  0.383888  0.273994  0.388889  0.360239  0.354242  0.323158  0.441558   \n",
       "10005  0.370121  0.358462  0.373273  0.311931  0.397071  0.383966  0.396104   \n",
       "10021  0.325788  0.304615  0.301903  0.353381  0.186798  0.334737  0.386364   \n",
       "10037  0.721931  0.643963  0.744952  0.714431  0.403900  0.675906  0.744186   \n",
       "10038  0.433024  0.478395  0.435401  0.424174  0.712505  0.417895  0.368506   \n",
       "\n",
       "         SNP50B    SNP50C  \n",
       "10004  0.263473  0.377673  \n",
       "10005  0.333832  0.380435  \n",
       "10021  0.250000  0.313453  \n",
       "10037  0.673653  0.705892  \n",
       "10038  0.537425  0.440854  "
      ]
     },
     "execution_count": 107,
     "metadata": {},
     "output_type": "execute_result"
    }
   ],
   "source": [
    "freq_frame.head()"
   ]
  },
  {
   "cell_type": "code",
   "execution_count": 205,
   "metadata": {
    "collapsed": false
   },
   "outputs": [
    {
     "data": {
      "text/html": [
       "<div>\n",
       "<table border=\"1\" class=\"dataframe\">\n",
       "  <thead>\n",
       "    <tr style=\"text-align: right;\">\n",
       "      <th></th>\n",
       "      <th>GGPLDV3_VS_SNP50c</th>\n",
       "      <th>GGP90KT_VS_SNP50c</th>\n",
       "      <th>GGPLDV4_VS_SNP50c</th>\n",
       "      <th>GGPLDV3_VS_GGP90</th>\n",
       "      <th>GGPHDV3_VS_SNP50c</th>\n",
       "    </tr>\n",
       "  </thead>\n",
       "  <tbody>\n",
       "    <tr>\n",
       "      <th>count</th>\n",
       "      <td>6221.000000</td>\n",
       "      <td>6221.000000</td>\n",
       "      <td>6221.000000</td>\n",
       "      <td>6221.000000</td>\n",
       "      <td>6221.000000</td>\n",
       "    </tr>\n",
       "    <tr>\n",
       "      <th>mean</th>\n",
       "      <td>0.026253</td>\n",
       "      <td>0.020925</td>\n",
       "      <td>0.233039</td>\n",
       "      <td>0.029677</td>\n",
       "      <td>0.089571</td>\n",
       "    </tr>\n",
       "    <tr>\n",
       "      <th>std</th>\n",
       "      <td>0.020207</td>\n",
       "      <td>0.016869</td>\n",
       "      <td>0.172184</td>\n",
       "      <td>0.023477</td>\n",
       "      <td>0.151953</td>\n",
       "    </tr>\n",
       "    <tr>\n",
       "      <th>min</th>\n",
       "      <td>0.000000</td>\n",
       "      <td>0.000000</td>\n",
       "      <td>0.000059</td>\n",
       "      <td>0.000000</td>\n",
       "      <td>0.000000</td>\n",
       "    </tr>\n",
       "    <tr>\n",
       "      <th>25%</th>\n",
       "      <td>0.010366</td>\n",
       "      <td>0.007958</td>\n",
       "      <td>0.092738</td>\n",
       "      <td>0.011208</td>\n",
       "      <td>0.010634</td>\n",
       "    </tr>\n",
       "    <tr>\n",
       "      <th>50%</th>\n",
       "      <td>0.021886</td>\n",
       "      <td>0.017519</td>\n",
       "      <td>0.198893</td>\n",
       "      <td>0.024893</td>\n",
       "      <td>0.024899</td>\n",
       "    </tr>\n",
       "    <tr>\n",
       "      <th>75%</th>\n",
       "      <td>0.038112</td>\n",
       "      <td>0.030319</td>\n",
       "      <td>0.340217</td>\n",
       "      <td>0.042931</td>\n",
       "      <td>0.061795</td>\n",
       "    </tr>\n",
       "    <tr>\n",
       "      <th>max</th>\n",
       "      <td>0.124106</td>\n",
       "      <td>0.445241</td>\n",
       "      <td>0.984948</td>\n",
       "      <td>0.444901</td>\n",
       "      <td>0.983135</td>\n",
       "    </tr>\n",
       "  </tbody>\n",
       "</table>\n",
       "</div>"
      ],
      "text/plain": [
       "       GGPLDV3_VS_SNP50c  GGP90KT_VS_SNP50c  GGPLDV4_VS_SNP50c  \\\n",
       "count        6221.000000        6221.000000        6221.000000   \n",
       "mean            0.026253           0.020925           0.233039   \n",
       "std             0.020207           0.016869           0.172184   \n",
       "min             0.000000           0.000000           0.000059   \n",
       "25%             0.010366           0.007958           0.092738   \n",
       "50%             0.021886           0.017519           0.198893   \n",
       "75%             0.038112           0.030319           0.340217   \n",
       "max             0.124106           0.445241           0.984948   \n",
       "\n",
       "       GGPLDV3_VS_GGP90  GGPHDV3_VS_SNP50c  \n",
       "count       6221.000000        6221.000000  \n",
       "mean           0.029677           0.089571  \n",
       "std            0.023477           0.151953  \n",
       "min            0.000000           0.000000  \n",
       "25%            0.011208           0.010634  \n",
       "50%            0.024893           0.024899  \n",
       "75%            0.042931           0.061795  \n",
       "max            0.444901           0.983135  "
      ]
     },
     "execution_count": 205,
     "metadata": {},
     "output_type": "execute_result"
    }
   ],
   "source": [
    "freq_diffs  =pd.DataFrame(abs(freq_frame.GGPLDV3 - freq_frame.SNP50C),columns=['GGPLDV3_VS_SNP50c'])\n",
    "freq_diffs['GGP90KT_VS_SNP50c'] = abs(freq_frame.GGP90KT - freq_frame.SNP50C)\n",
    "freq_diffs['GGPLDV4_VS_SNP50c'] = abs(freq_frame.GGPLDV4 - freq_frame.SNP50C)\n",
    "freq_diffs['GGPLDV3_VS_GGP90'] = abs(freq_frame.GGPLDV3 - freq_frame.GGP90KT)\n",
    "freq_diffs['GGPHDV3_VS_SNP50c'] = abs(freq_frame.GGPHDV3 - freq_frame.SNP50C)\n",
    "\n",
    "freq_diffs.describe()"
   ]
  },
  {
   "cell_type": "code",
   "execution_count": 123,
   "metadata": {
    "collapsed": false
   },
   "outputs": [
    {
     "data": {
      "text/html": [
       "<div>\n",
       "<table border=\"1\" class=\"dataframe\">\n",
       "  <thead>\n",
       "    <tr style=\"text-align: right;\">\n",
       "      <th></th>\n",
       "      <th>LDV3_VS_SNP50c</th>\n",
       "      <th>GGP90KT_VS_SNP50c</th>\n",
       "      <th>GGPLDV4_VS_SNP50c</th>\n",
       "      <th>GGPLDV3_VS_GGP90</th>\n",
       "      <th>GGPHDV3_VS_SNP50c</th>\n",
       "    </tr>\n",
       "  </thead>\n",
       "  <tbody>\n",
       "    <tr>\n",
       "      <th>10004</th>\n",
       "      <td>0.017433</td>\n",
       "      <td>0.006215</td>\n",
       "      <td>0.023431</td>\n",
       "      <td>0.023648</td>\n",
       "      <td>0.011216</td>\n",
       "    </tr>\n",
       "    <tr>\n",
       "      <th>10005</th>\n",
       "      <td>0.068504</td>\n",
       "      <td>0.010314</td>\n",
       "      <td>0.016636</td>\n",
       "      <td>0.058189</td>\n",
       "      <td>0.007162</td>\n",
       "    </tr>\n",
       "    <tr>\n",
       "      <th>10021</th>\n",
       "      <td>0.039928</td>\n",
       "      <td>0.012335</td>\n",
       "      <td>0.126656</td>\n",
       "      <td>0.027593</td>\n",
       "      <td>0.011550</td>\n",
       "    </tr>\n",
       "    <tr>\n",
       "      <th>10037</th>\n",
       "      <td>0.008538</td>\n",
       "      <td>0.016039</td>\n",
       "      <td>0.301992</td>\n",
       "      <td>0.007500</td>\n",
       "      <td>0.039060</td>\n",
       "    </tr>\n",
       "    <tr>\n",
       "      <th>10038</th>\n",
       "      <td>0.016680</td>\n",
       "      <td>0.007830</td>\n",
       "      <td>0.271652</td>\n",
       "      <td>0.008850</td>\n",
       "      <td>0.005453</td>\n",
       "    </tr>\n",
       "  </tbody>\n",
       "</table>\n",
       "</div>"
      ],
      "text/plain": [
       "       LDV3_VS_SNP50c  GGP90KT_VS_SNP50c  GGPLDV4_VS_SNP50c  GGPLDV3_VS_GGP90  \\\n",
       "10004        0.017433           0.006215           0.023431          0.023648   \n",
       "10005        0.068504           0.010314           0.016636          0.058189   \n",
       "10021        0.039928           0.012335           0.126656          0.027593   \n",
       "10037        0.008538           0.016039           0.301992          0.007500   \n",
       "10038        0.016680           0.007830           0.271652          0.008850   \n",
       "\n",
       "       GGPHDV3_VS_SNP50c  \n",
       "10004           0.011216  \n",
       "10005           0.007162  \n",
       "10021           0.011550  \n",
       "10037           0.039060  \n",
       "10038           0.005453  "
      ]
     },
     "execution_count": 123,
     "metadata": {},
     "output_type": "execute_result"
    }
   ],
   "source": [
    "freq_diffs.head()"
   ]
  },
  {
   "cell_type": "code",
   "execution_count": null,
   "metadata": {
    "collapsed": true
   },
   "outputs": [],
   "source": [
    "sns.stripplot(x=\"day\", y=\"total_bill\", data=freq_diffs)"
   ]
  },
  {
   "cell_type": "code",
   "execution_count": 130,
   "metadata": {
    "collapsed": false
   },
   "outputs": [
    {
     "data": {
      "image/png": "[encoded data removed]",
      "text/plain": [
       "<matplotlib.figure.Figure at 0x7f43cb0d4310>"
      ]
     },
     "metadata": {},
     "output_type": "display_data"
    }
   ],
   "source": [
    "sns.distplot(freq_diffs.LDV3_VS_SNP50c, kde=False, rug=True);"
   ]
  },
  {
   "cell_type": "code",
   "execution_count": 145,
   "metadata": {
    "collapsed": false
   },
   "outputs": [
    {
     "data": {
      "text/html": [
       "<div>\n",
       "<table border=\"1\" class=\"dataframe\">\n",
       "  <thead>\n",
       "    <tr style=\"text-align: right;\">\n",
       "      <th></th>\n",
       "      <th>LDV3_VS_SNP50c</th>\n",
       "      <th>GGP90KT_VS_SNP50c</th>\n",
       "      <th>GGPLDV4_VS_SNP50c</th>\n",
       "      <th>GGPLDV3_VS_GGP90</th>\n",
       "      <th>GGPHDV3_VS_SNP50c</th>\n",
       "    </tr>\n",
       "  </thead>\n",
       "  <tbody>\n",
       "    <tr>\n",
       "      <th>10004</th>\n",
       "      <td>0.017433</td>\n",
       "      <td>0.006215</td>\n",
       "      <td>0.023431</td>\n",
       "      <td>0.023648</td>\n",
       "      <td>0.011216</td>\n",
       "    </tr>\n",
       "    <tr>\n",
       "      <th>10005</th>\n",
       "      <td>0.068504</td>\n",
       "      <td>0.010314</td>\n",
       "      <td>0.016636</td>\n",
       "      <td>0.058189</td>\n",
       "      <td>0.007162</td>\n",
       "    </tr>\n",
       "  </tbody>\n",
       "</table>\n",
       "</div>"
      ],
      "text/plain": [
       "       LDV3_VS_SNP50c  GGP90KT_VS_SNP50c  GGPLDV4_VS_SNP50c  GGPLDV3_VS_GGP90  \\\n",
       "10004        0.017433           0.006215           0.023431          0.023648   \n",
       "10005        0.068504           0.010314           0.016636          0.058189   \n",
       "\n",
       "       GGPHDV3_VS_SNP50c  \n",
       "10004           0.011216  \n",
       "10005           0.007162  "
      ]
     },
     "execution_count": 145,
     "metadata": {},
     "output_type": "execute_result"
    }
   ],
   "source": [
    "freq_diffs.head(2)"
   ]
  },
  {
   "cell_type": "code",
   "execution_count": 163,
   "metadata": {
    "collapsed": false
   },
   "outputs": [
    {
     "data": {
      "text/plain": [
       "array([ 0. ,  0.1,  0.2,  0.3,  0.4,  0.5,  0.6,  0.7,  0.8,  0.9])"
      ]
     },
     "execution_count": 163,
     "metadata": {},
     "output_type": "execute_result"
    }
   ],
   "source": [
    "np.arange(0,1,.1)"
   ]
  },
  {
   "cell_type": "code",
   "execution_count": 206,
   "metadata": {
    "collapsed": false
   },
   "outputs": [
    {
     "data": {
      "text/plain": [
       "<matplotlib.text.Text at 0x7f439c931150>"
      ]
     },
     "execution_count": 206,
     "metadata": {},
     "output_type": "execute_result"
    },
    {
     "data": {
      "image/png": "[encoded data removed]",
      "text/plain": [
       "<matplotlib.figure.Figure at 0x7f439cbd26d0>"
      ]
     },
     "metadata": {},
     "output_type": "display_data"
    }
   ],
   "source": [
    "binner = np.arange(0,1,.01)\n",
    "fig, axes = plt.subplots(nrows=2,ncols=2,sharey=True,figsize=(8,4),sharex=True)\n",
    "freq_diffs.GGPLDV3_VS_SNP50c.plot(kind='hist',xlim=(0,1),bins=binner,ax=axes[0,0]).set_title('GGPLDV3 VS SNP50c')\n",
    "freq_diffs.GGP90KT_VS_SNP50c.plot(kind='hist',xlim=(0,1),bins=binner,ax=axes[0,1]).set_title('LDV3 VS SNP50c')\n",
    "freq_diffs.GGPLDV4_VS_SNP50c.plot(kind='hist',xlim=(0,1),bins=binner,ax=axes[1,1]).set_title('GGPLDV4_VS_SNP50c')\n",
    "freq_diffs.GGPHDV3_VS_SNP50c.plot(kind='hist',xlim=(0,1),bins=binner,ax=axes[1,0]).set_title('GGPHDV3_VS_SNP50c.')\n",
    "\n",
    "plt.suptitle('Frequency differences between Assays',fontsize=25,y=1.08)\n"
   ]
  },
  {
   "cell_type": "code",
   "execution_count": 79,
   "metadata": {
    "collapsed": true
   },
   "outputs": [],
   "source": [
    "testf = open('./139977.170112.2326.GGPHDV3.frqx')\n",
    "testf.readline()\n",
    "frank = []\n",
    "for line in testf:\n",
    "    chr,snp,a1,a2,ha1,het,ha2,ch,c2,mis = line.split()\n",
    "    ha1,het,ha2 = int(ha1),int(het),int(ha2)\n",
    "    frank.append((a1,a2))"
   ]
  },
  {
   "cell_type": "code",
   "execution_count": 199,
   "metadata": {
    "collapsed": false
   },
   "outputs": [
    {
     "data": {
      "text/plain": [
       "10004    0.006215\n",
       "10005    0.007162\n",
       "10021    0.011550\n",
       "10037    0.007500\n",
       "10038    0.005453\n",
       "dtype: float64"
      ]
     },
     "execution_count": 199,
     "metadata": {},
     "output_type": "execute_result"
    }
   ],
   "source": [
    "freq_diffs.head().min(axis=1)"
   ]
  },
  {
   "cell_type": "code",
   "execution_count": 233,
   "metadata": {
    "collapsed": false
   },
   "outputs": [
    {
     "data": {
      "text/html": [
       "<div>\n",
       "<table border=\"1\" class=\"dataframe\">\n",
       "  <thead>\n",
       "    <tr style=\"text-align: right;\">\n",
       "      <th></th>\n",
       "      <th>GGPLDV3_VS_SNP50c</th>\n",
       "      <th>GGP90KT_VS_SNP50c</th>\n",
       "      <th>GGPLDV4_VS_SNP50c</th>\n",
       "      <th>GGPLDV3_VS_GGP90</th>\n",
       "      <th>GGPHDV3_VS_SNP50c</th>\n",
       "    </tr>\n",
       "  </thead>\n",
       "  <tbody>\n",
       "    <tr>\n",
       "      <th>count</th>\n",
       "      <td>4148.000000</td>\n",
       "      <td>4148.000000</td>\n",
       "      <td>4148.000000</td>\n",
       "      <td>4148.000000</td>\n",
       "      <td>4148.000000</td>\n",
       "    </tr>\n",
       "    <tr>\n",
       "      <th>mean</th>\n",
       "      <td>0.025595</td>\n",
       "      <td>0.020446</td>\n",
       "      <td>0.313437</td>\n",
       "      <td>0.029068</td>\n",
       "      <td>0.119907</td>\n",
       "    </tr>\n",
       "    <tr>\n",
       "      <th>std</th>\n",
       "      <td>0.019898</td>\n",
       "      <td>0.017126</td>\n",
       "      <td>0.155345</td>\n",
       "      <td>0.023562</td>\n",
       "      <td>0.177426</td>\n",
       "    </tr>\n",
       "    <tr>\n",
       "      <th>min</th>\n",
       "      <td>0.000000</td>\n",
       "      <td>0.000000</td>\n",
       "      <td>0.000240</td>\n",
       "      <td>0.000000</td>\n",
       "      <td>0.000000</td>\n",
       "    </tr>\n",
       "    <tr>\n",
       "      <th>25%</th>\n",
       "      <td>0.009859</td>\n",
       "      <td>0.007635</td>\n",
       "      <td>0.198872</td>\n",
       "      <td>0.010832</td>\n",
       "      <td>0.011240</td>\n",
       "    </tr>\n",
       "    <tr>\n",
       "      <th>50%</th>\n",
       "      <td>0.021185</td>\n",
       "      <td>0.016924</td>\n",
       "      <td>0.288025</td>\n",
       "      <td>0.024045</td>\n",
       "      <td>0.027878</td>\n",
       "    </tr>\n",
       "    <tr>\n",
       "      <th>75%</th>\n",
       "      <td>0.037415</td>\n",
       "      <td>0.029761</td>\n",
       "      <td>0.407326</td>\n",
       "      <td>0.041920</td>\n",
       "      <td>0.183012</td>\n",
       "    </tr>\n",
       "    <tr>\n",
       "      <th>max</th>\n",
       "      <td>0.118764</td>\n",
       "      <td>0.445241</td>\n",
       "      <td>0.984948</td>\n",
       "      <td>0.444901</td>\n",
       "      <td>0.983135</td>\n",
       "    </tr>\n",
       "  </tbody>\n",
       "</table>\n",
       "</div>"
      ],
      "text/plain": [
       "       GGPLDV3_VS_SNP50c  GGP90KT_VS_SNP50c  GGPLDV4_VS_SNP50c  \\\n",
       "count        4148.000000        4148.000000        4148.000000   \n",
       "mean            0.025595           0.020446           0.313437   \n",
       "std             0.019898           0.017126           0.155345   \n",
       "min             0.000000           0.000000           0.000240   \n",
       "25%             0.009859           0.007635           0.198872   \n",
       "50%             0.021185           0.016924           0.288025   \n",
       "75%             0.037415           0.029761           0.407326   \n",
       "max             0.118764           0.445241           0.984948   \n",
       "\n",
       "       GGPLDV3_VS_GGP90  GGPHDV3_VS_SNP50c  \n",
       "count       4148.000000        4148.000000  \n",
       "mean           0.029068           0.119907  \n",
       "std            0.023562           0.177426  \n",
       "min            0.000000           0.000000  \n",
       "25%            0.010832           0.011240  \n",
       "50%            0.024045           0.027878  \n",
       "75%            0.041920           0.183012  \n",
       "max            0.444901           0.983135  "
      ]
     },
     "execution_count": 233,
     "metadata": {},
     "output_type": "execute_result"
    }
   ],
   "source": [
    "freq_diffs[freq_diffs.max(axis=1) > .15].describe()"
   ]
  },
  {
   "cell_type": "code",
   "execution_count": 234,
   "metadata": {
    "collapsed": false
   },
   "outputs": [
    {
     "data": {
      "text/html": [
       "<div>\n",
       "<table border=\"1\" class=\"dataframe\">\n",
       "  <thead>\n",
       "    <tr style=\"text-align: right;\">\n",
       "      <th></th>\n",
       "      <th>GGPLDV3_VS_SNP50c</th>\n",
       "      <th>GGP90KT_VS_SNP50c</th>\n",
       "      <th>GGPLDV4_VS_SNP50c</th>\n",
       "      <th>GGPLDV3_VS_GGP90</th>\n",
       "      <th>GGPHDV3_VS_SNP50c</th>\n",
       "    </tr>\n",
       "  </thead>\n",
       "  <tbody>\n",
       "    <tr>\n",
       "      <th>count</th>\n",
       "      <td>1141.000000</td>\n",
       "      <td>1141.000000</td>\n",
       "      <td>1141.000000</td>\n",
       "      <td>1141.000000</td>\n",
       "      <td>1141.000000</td>\n",
       "    </tr>\n",
       "    <tr>\n",
       "      <th>mean</th>\n",
       "      <td>0.026762</td>\n",
       "      <td>0.020914</td>\n",
       "      <td>0.255014</td>\n",
       "      <td>0.030224</td>\n",
       "      <td>0.369853</td>\n",
       "    </tr>\n",
       "    <tr>\n",
       "      <th>std</th>\n",
       "      <td>0.020784</td>\n",
       "      <td>0.016384</td>\n",
       "      <td>0.170223</td>\n",
       "      <td>0.023419</td>\n",
       "      <td>0.162600</td>\n",
       "    </tr>\n",
       "    <tr>\n",
       "      <th>min</th>\n",
       "      <td>0.000016</td>\n",
       "      <td>0.000015</td>\n",
       "      <td>0.000240</td>\n",
       "      <td>0.000039</td>\n",
       "      <td>0.150699</td>\n",
       "    </tr>\n",
       "    <tr>\n",
       "      <th>25%</th>\n",
       "      <td>0.010461</td>\n",
       "      <td>0.007741</td>\n",
       "      <td>0.127290</td>\n",
       "      <td>0.011322</td>\n",
       "      <td>0.237679</td>\n",
       "    </tr>\n",
       "    <tr>\n",
       "      <th>50%</th>\n",
       "      <td>0.021886</td>\n",
       "      <td>0.017247</td>\n",
       "      <td>0.223774</td>\n",
       "      <td>0.025394</td>\n",
       "      <td>0.334351</td>\n",
       "    </tr>\n",
       "    <tr>\n",
       "      <th>75%</th>\n",
       "      <td>0.039698</td>\n",
       "      <td>0.030516</td>\n",
       "      <td>0.361000</td>\n",
       "      <td>0.043307</td>\n",
       "      <td>0.465030</td>\n",
       "    </tr>\n",
       "    <tr>\n",
       "      <th>max</th>\n",
       "      <td>0.116937</td>\n",
       "      <td>0.084119</td>\n",
       "      <td>0.984948</td>\n",
       "      <td>0.136656</td>\n",
       "      <td>0.983135</td>\n",
       "    </tr>\n",
       "  </tbody>\n",
       "</table>\n",
       "</div>"
      ],
      "text/plain": [
       "       GGPLDV3_VS_SNP50c  GGP90KT_VS_SNP50c  GGPLDV4_VS_SNP50c  \\\n",
       "count        1141.000000        1141.000000        1141.000000   \n",
       "mean            0.026762           0.020914           0.255014   \n",
       "std             0.020784           0.016384           0.170223   \n",
       "min             0.000016           0.000015           0.000240   \n",
       "25%             0.010461           0.007741           0.127290   \n",
       "50%             0.021886           0.017247           0.223774   \n",
       "75%             0.039698           0.030516           0.361000   \n",
       "max             0.116937           0.084119           0.984948   \n",
       "\n",
       "       GGPLDV3_VS_GGP90  GGPHDV3_VS_SNP50c  \n",
       "count       1141.000000        1141.000000  \n",
       "mean           0.030224           0.369853  \n",
       "std            0.023419           0.162600  \n",
       "min            0.000039           0.150699  \n",
       "25%            0.011322           0.237679  \n",
       "50%            0.025394           0.334351  \n",
       "75%            0.043307           0.465030  \n",
       "max            0.136656           0.983135  "
      ]
     },
     "execution_count": 234,
     "metadata": {},
     "output_type": "execute_result"
    }
   ],
   "source": [
    "freq_diffs[freq_diffs.GGPHDV3_VS_SNP50c > .15].describe()"
   ]
  },
  {
   "cell_type": "code",
   "execution_count": 213,
   "metadata": {
    "collapsed": false
   },
   "outputs": [],
   "source": [
    "GGPHDV3_bads=freq_diffs[freq_diffs.GGPHDV3_VS_SNP50c > .15].index.tolist()"
   ]
  },
  {
   "cell_type": "code",
   "execution_count": 238,
   "metadata": {
    "collapsed": false
   },
   "outputs": [],
   "source": [
    "GGPLDV4_bads = freq_diffs[freq_diffs.GGPLDV4_VS_SNP50c > .15].index.tolist()"
   ]
  },
  {
   "cell_type": "code",
   "execution_count": 243,
   "metadata": {
    "collapsed": false
   },
   "outputs": [
    {
     "name": "stdout",
     "output_type": "stream",
     "text": [
      "1141\n"
     ]
    }
   ],
   "source": [
    "print(len(GGPHDV3_bads))"
   ]
  },
  {
   "cell_type": "code",
   "execution_count": 244,
   "metadata": {
    "collapsed": false
   },
   "outputs": [
    {
     "name": "stdout",
     "output_type": "stream",
     "text": [
      "43304\r\n",
      "43305\r\n",
      "43334\r\n",
      "43337\r\n",
      "43351\r\n",
      "43382\r\n",
      "43406\r\n",
      "43424\r\n",
      "43427\r\n",
      "43440\r\n"
     ]
    }
   ],
   "source": [
    "outhd =  open('GGPHDV3_diff_GT_15.txt','w')\n",
    "for i in GGPHDV3_bads:\n",
    "    outhd.write(i + '\\n')\n",
    "outhd.close()\n",
    "! head GGPHDV3_diff_GT_15.txt"
   ]
  },
  {
   "cell_type": "code",
   "execution_count": 240,
   "metadata": {
    "collapsed": false
   },
   "outputs": [
    {
     "name": "stdout",
     "output_type": "stream",
     "text": [
      "3799\n"
     ]
    }
   ],
   "source": [
    "print(len(GGPLDV4_bads))\n",
    "outld =  open('GGPLDV4_diff_GT_15.txt','w')\n",
    "for i in GGPLDV4_bads:\n",
    "    outld.write(i + '\\n')\n",
    "outld.close()"
   ]
  },
  {
   "cell_type": "code",
   "execution_count": 223,
   "metadata": {
    "collapsed": false
   },
   "outputs": [
    {
     "data": {
      "text/plain": [
       "349"
      ]
     },
     "execution_count": 223,
     "metadata": {},
     "output_type": "execute_result"
    }
   ],
   "source": [
    "len([i for i in GGPHDV3_bads if i not in GGPLDV4_bads])"
   ]
  },
  {
   "cell_type": "code",
   "execution_count": 230,
   "metadata": {
    "collapsed": false
   },
   "outputs": [
    {
     "data": {
      "text/plain": [
       "3007"
      ]
     },
     "execution_count": 230,
     "metadata": {},
     "output_type": "execute_result"
    }
   ],
   "source": [
    "len([i for i in GGPLDV4_bads if i  not in GGPHDV3_bads])"
   ]
  },
  {
   "cell_type": "code",
   "execution_count": 229,
   "metadata": {
    "collapsed": false
   },
   "outputs": [
    {
     "data": {
      "text/plain": [
       "792"
      ]
     },
     "execution_count": 229,
     "metadata": {},
     "output_type": "execute_result"
    }
   ],
   "source": [
    "len([i for i in GGPLDV4_bads if i   in GGPHDV3_bads])"
   ]
  },
  {
   "cell_type": "code",
   "execution_count": 232,
   "metadata": {
    "collapsed": false
   },
   "outputs": [
    {
     "data": {
      "text/plain": [
       "792"
      ]
     },
     "execution_count": 232,
     "metadata": {},
     "output_type": "execute_result"
    }
   ],
   "source": []
  },
  {
   "cell_type": "code",
   "execution_count": 247,
   "metadata": {
    "collapsed": false
   },
   "outputs": [],
   "source": [
    "ld4bads = freq_frame[freq_diffs.GGPLDV4_VS_SNP50c > .15]"
   ]
  },
  {
   "cell_type": "code",
   "execution_count": 251,
   "metadata": {
    "collapsed": false
   },
   "outputs": [
    {
     "data": {
      "text/plain": [
       "<matplotlib.axes._subplots.AxesSubplot at 0x7f439be16450>"
      ]
     },
     "execution_count": 251,
     "metadata": {},
     "output_type": "execute_result"
    },
    {
     "data": {
      "image/png": "[encoded data removed]",
      "text/plain": [
       "<matplotlib.figure.Figure at 0x7f439be0ded0>"
      ]
     },
     "metadata": {},
     "output_type": "display_data"
    }
   ],
   "source": [
    "(ld4bads.GGPLDV4 + ld4bads.SNP50C)"
   ]
  },
  {
   "cell_type": "code",
   "execution_count": 275,
   "metadata": {
    "collapsed": false
   },
   "outputs": [
    {
     "data": {
      "text/html": [
       "<div>\n",
       "<table border=\"1\" class=\"dataframe\">\n",
       "  <thead>\n",
       "    <tr style=\"text-align: right;\">\n",
       "      <th></th>\n",
       "      <th>GGP90KT</th>\n",
       "      <th>GGPF250</th>\n",
       "      <th>GGPHDV3</th>\n",
       "      <th>GGPLDV3</th>\n",
       "      <th>GGPLDV4</th>\n",
       "      <th>HD</th>\n",
       "      <th>SNP50A</th>\n",
       "      <th>SNP50B</th>\n",
       "      <th>SNP50C</th>\n",
       "    </tr>\n",
       "  </thead>\n",
       "  <tbody>\n",
       "    <tr>\n",
       "      <th>10250</th>\n",
       "      <td>0.555380</td>\n",
       "      <td>0.597222</td>\n",
       "      <td>0.535345</td>\n",
       "      <td>0.607687</td>\n",
       "      <td>0.081994</td>\n",
       "      <td>0.595789</td>\n",
       "      <td>0.524351</td>\n",
       "      <td>0.595808</td>\n",
       "      <td>0.553691</td>\n",
       "    </tr>\n",
       "    <tr>\n",
       "      <th>10262</th>\n",
       "      <td>0.529665</td>\n",
       "      <td>0.555385</td>\n",
       "      <td>0.526509</td>\n",
       "      <td>0.561872</td>\n",
       "      <td>0.048193</td>\n",
       "      <td>0.535865</td>\n",
       "      <td>0.485390</td>\n",
       "      <td>0.559880</td>\n",
       "      <td>0.516311</td>\n",
       "    </tr>\n",
       "    <tr>\n",
       "      <th>10403</th>\n",
       "      <td>0.207485</td>\n",
       "      <td>0.153846</td>\n",
       "      <td>0.203488</td>\n",
       "      <td>0.184296</td>\n",
       "      <td>0.522280</td>\n",
       "      <td>0.212632</td>\n",
       "      <td>0.253247</td>\n",
       "      <td>0.151198</td>\n",
       "      <td>0.205218</td>\n",
       "    </tr>\n",
       "    <tr>\n",
       "      <th>10586</th>\n",
       "      <td>0.108240</td>\n",
       "      <td>0.170769</td>\n",
       "      <td>0.114987</td>\n",
       "      <td>0.113409</td>\n",
       "      <td>0.547026</td>\n",
       "      <td>0.106316</td>\n",
       "      <td>0.087662</td>\n",
       "      <td>0.211078</td>\n",
       "      <td>0.120958</td>\n",
       "    </tr>\n",
       "    <tr>\n",
       "      <th>10592</th>\n",
       "      <td>0.540448</td>\n",
       "      <td>0.484568</td>\n",
       "      <td>0.543799</td>\n",
       "      <td>0.491168</td>\n",
       "      <td>0.104661</td>\n",
       "      <td>0.496842</td>\n",
       "      <td>0.498377</td>\n",
       "      <td>0.476048</td>\n",
       "      <td>0.528532</td>\n",
       "    </tr>\n",
       "    <tr>\n",
       "      <th>106</th>\n",
       "      <td>0.631451</td>\n",
       "      <td>0.615385</td>\n",
       "      <td>0.621845</td>\n",
       "      <td>0.574781</td>\n",
       "      <td>0.119229</td>\n",
       "      <td>0.620000</td>\n",
       "      <td>0.657980</td>\n",
       "      <td>0.682635</td>\n",
       "      <td>0.651372</td>\n",
       "    </tr>\n",
       "    <tr>\n",
       "      <th>10603</th>\n",
       "      <td>0.272297</td>\n",
       "      <td>0.338462</td>\n",
       "      <td>0.282852</td>\n",
       "      <td>0.291086</td>\n",
       "      <td>0.515273</td>\n",
       "      <td>0.284211</td>\n",
       "      <td>0.256494</td>\n",
       "      <td>0.315868</td>\n",
       "      <td>0.279700</td>\n",
       "    </tr>\n",
       "    <tr>\n",
       "      <th>1064</th>\n",
       "      <td>0.466848</td>\n",
       "      <td>0.663580</td>\n",
       "      <td>0.457309</td>\n",
       "      <td>0.545558</td>\n",
       "      <td>0.116359</td>\n",
       "      <td>0.535789</td>\n",
       "      <td>0.400974</td>\n",
       "      <td>0.629129</td>\n",
       "      <td>0.535998</td>\n",
       "    </tr>\n",
       "    <tr>\n",
       "      <th>10790</th>\n",
       "      <td>0.540614</td>\n",
       "      <td>0.465944</td>\n",
       "      <td>0.527359</td>\n",
       "      <td>0.524248</td>\n",
       "      <td>0.087716</td>\n",
       "      <td>0.569474</td>\n",
       "      <td>0.527597</td>\n",
       "      <td>0.434132</td>\n",
       "      <td>0.524878</td>\n",
       "    </tr>\n",
       "    <tr>\n",
       "      <th>10932</th>\n",
       "      <td>0.573517</td>\n",
       "      <td>0.430769</td>\n",
       "      <td>0.593966</td>\n",
       "      <td>0.549255</td>\n",
       "      <td>0.039558</td>\n",
       "      <td>0.541053</td>\n",
       "      <td>0.615635</td>\n",
       "      <td>0.459581</td>\n",
       "      <td>0.565091</td>\n",
       "    </tr>\n",
       "    <tr>\n",
       "      <th>10949</th>\n",
       "      <td>0.201004</td>\n",
       "      <td>0.325617</td>\n",
       "      <td>0.222054</td>\n",
       "      <td>0.216274</td>\n",
       "      <td>0.519069</td>\n",
       "      <td>0.184211</td>\n",
       "      <td>0.115260</td>\n",
       "      <td>0.304805</td>\n",
       "      <td>0.220813</td>\n",
       "    </tr>\n",
       "    <tr>\n",
       "      <th>10950</th>\n",
       "      <td>0.534822</td>\n",
       "      <td>0.462500</td>\n",
       "      <td>0.513943</td>\n",
       "      <td>0.491463</td>\n",
       "      <td>0.266207</td>\n",
       "      <td>0.506316</td>\n",
       "      <td>0.516393</td>\n",
       "      <td>0.490991</td>\n",
       "      <td>0.514994</td>\n",
       "    </tr>\n",
       "    <tr>\n",
       "      <th>11030</th>\n",
       "      <td>0.649928</td>\n",
       "      <td>0.506192</td>\n",
       "      <td>0.646831</td>\n",
       "      <td>0.597830</td>\n",
       "      <td>0.152689</td>\n",
       "      <td>0.591579</td>\n",
       "      <td>0.717532</td>\n",
       "      <td>0.465569</td>\n",
       "      <td>0.603296</td>\n",
       "    </tr>\n",
       "    <tr>\n",
       "      <th>11093</th>\n",
       "      <td>0.664845</td>\n",
       "      <td>0.629283</td>\n",
       "      <td>0.670548</td>\n",
       "      <td>0.682437</td>\n",
       "      <td>0.109711</td>\n",
       "      <td>0.694737</td>\n",
       "      <td>0.734528</td>\n",
       "      <td>0.648649</td>\n",
       "      <td>0.673687</td>\n",
       "    </tr>\n",
       "    <tr>\n",
       "      <th>11665</th>\n",
       "      <td>0.514402</td>\n",
       "      <td>0.490712</td>\n",
       "      <td>0.512948</td>\n",
       "      <td>0.496359</td>\n",
       "      <td>0.176376</td>\n",
       "      <td>0.485263</td>\n",
       "      <td>0.485390</td>\n",
       "      <td>0.510479</td>\n",
       "      <td>0.510073</td>\n",
       "    </tr>\n",
       "    <tr>\n",
       "      <th>11686</th>\n",
       "      <td>0.086321</td>\n",
       "      <td>0.111111</td>\n",
       "      <td>0.088894</td>\n",
       "      <td>0.081181</td>\n",
       "      <td>0.655597</td>\n",
       "      <td>0.092827</td>\n",
       "      <td>0.084691</td>\n",
       "      <td>0.097305</td>\n",
       "      <td>0.083130</td>\n",
       "    </tr>\n",
       "    <tr>\n",
       "      <th>11763</th>\n",
       "      <td>0.529968</td>\n",
       "      <td>0.639319</td>\n",
       "      <td>0.538975</td>\n",
       "      <td>0.606981</td>\n",
       "      <td>0.190161</td>\n",
       "      <td>0.562105</td>\n",
       "      <td>0.530844</td>\n",
       "      <td>0.643713</td>\n",
       "      <td>0.575832</td>\n",
       "    </tr>\n",
       "    <tr>\n",
       "      <th>11939</th>\n",
       "      <td>0.501579</td>\n",
       "      <td>0.530864</td>\n",
       "      <td>0.494161</td>\n",
       "      <td>0.547557</td>\n",
       "      <td>0.142857</td>\n",
       "      <td>0.540000</td>\n",
       "      <td>0.462662</td>\n",
       "      <td>0.452096</td>\n",
       "      <td>0.504880</td>\n",
       "    </tr>\n",
       "    <tr>\n",
       "      <th>12071</th>\n",
       "      <td>0.695839</td>\n",
       "      <td>0.732087</td>\n",
       "      <td>0.703647</td>\n",
       "      <td>0.701328</td>\n",
       "      <td>0.074126</td>\n",
       "      <td>0.701903</td>\n",
       "      <td>0.752492</td>\n",
       "      <td>0.769578</td>\n",
       "      <td>0.716468</td>\n",
       "    </tr>\n",
       "    <tr>\n",
       "      <th>12277</th>\n",
       "      <td>0.617546</td>\n",
       "      <td>0.566358</td>\n",
       "      <td>0.610465</td>\n",
       "      <td>0.620796</td>\n",
       "      <td>0.126455</td>\n",
       "      <td>0.606316</td>\n",
       "      <td>0.618506</td>\n",
       "      <td>0.640719</td>\n",
       "      <td>0.603938</td>\n",
       "    </tr>\n",
       "    <tr>\n",
       "      <th>12339</th>\n",
       "      <td>0.150616</td>\n",
       "      <td>0.138462</td>\n",
       "      <td>0.135874</td>\n",
       "      <td>0.139565</td>\n",
       "      <td>0.663113</td>\n",
       "      <td>0.156842</td>\n",
       "      <td>0.136808</td>\n",
       "      <td>0.134731</td>\n",
       "      <td>0.133618</td>\n",
       "    </tr>\n",
       "    <tr>\n",
       "      <th>12342</th>\n",
       "      <td>0.599053</td>\n",
       "      <td>0.696594</td>\n",
       "      <td>0.596238</td>\n",
       "      <td>0.611987</td>\n",
       "      <td>0.130338</td>\n",
       "      <td>0.664557</td>\n",
       "      <td>0.601307</td>\n",
       "      <td>0.646707</td>\n",
       "      <td>0.618618</td>\n",
       "    </tr>\n",
       "    <tr>\n",
       "      <th>12519</th>\n",
       "      <td>0.505020</td>\n",
       "      <td>0.631173</td>\n",
       "      <td>0.524558</td>\n",
       "      <td>0.544455</td>\n",
       "      <td>0.175040</td>\n",
       "      <td>0.478947</td>\n",
       "      <td>0.448052</td>\n",
       "      <td>0.571856</td>\n",
       "      <td>0.527769</td>\n",
       "    </tr>\n",
       "    <tr>\n",
       "      <th>12592</th>\n",
       "      <td>0.528882</td>\n",
       "      <td>0.717593</td>\n",
       "      <td>0.571182</td>\n",
       "      <td>0.557473</td>\n",
       "      <td>0.084872</td>\n",
       "      <td>0.559072</td>\n",
       "      <td>0.433442</td>\n",
       "      <td>0.693114</td>\n",
       "      <td>0.576900</td>\n",
       "    </tr>\n",
       "    <tr>\n",
       "      <th>12611</th>\n",
       "      <td>0.158295</td>\n",
       "      <td>0.196923</td>\n",
       "      <td>0.177221</td>\n",
       "      <td>0.180538</td>\n",
       "      <td>0.572950</td>\n",
       "      <td>0.215789</td>\n",
       "      <td>0.206169</td>\n",
       "      <td>0.173653</td>\n",
       "      <td>0.187863</td>\n",
       "    </tr>\n",
       "    <tr>\n",
       "      <th>12631</th>\n",
       "      <td>0.217179</td>\n",
       "      <td>0.145062</td>\n",
       "      <td>0.206845</td>\n",
       "      <td>0.208034</td>\n",
       "      <td>0.541449</td>\n",
       "      <td>0.183158</td>\n",
       "      <td>0.248377</td>\n",
       "      <td>0.194611</td>\n",
       "      <td>0.206833</td>\n",
       "    </tr>\n",
       "    <tr>\n",
       "      <th>12918</th>\n",
       "      <td>0.199885</td>\n",
       "      <td>0.219814</td>\n",
       "      <td>0.191062</td>\n",
       "      <td>0.210398</td>\n",
       "      <td>0.513682</td>\n",
       "      <td>0.217895</td>\n",
       "      <td>0.227273</td>\n",
       "      <td>0.176647</td>\n",
       "      <td>0.218293</td>\n",
       "    </tr>\n",
       "    <tr>\n",
       "      <th>12960</th>\n",
       "      <td>0.535181</td>\n",
       "      <td>0.439815</td>\n",
       "      <td>0.525022</td>\n",
       "      <td>0.528345</td>\n",
       "      <td>0.122387</td>\n",
       "      <td>0.569620</td>\n",
       "      <td>0.610390</td>\n",
       "      <td>0.378743</td>\n",
       "      <td>0.510064</td>\n",
       "    </tr>\n",
       "    <tr>\n",
       "      <th>13483</th>\n",
       "      <td>0.194755</td>\n",
       "      <td>0.226154</td>\n",
       "      <td>0.195080</td>\n",
       "      <td>0.203943</td>\n",
       "      <td>0.520666</td>\n",
       "      <td>0.198947</td>\n",
       "      <td>0.196429</td>\n",
       "      <td>0.203593</td>\n",
       "      <td>0.192343</td>\n",
       "    </tr>\n",
       "    <tr>\n",
       "      <th>13525</th>\n",
       "      <td>0.119666</td>\n",
       "      <td>0.100000</td>\n",
       "      <td>0.107622</td>\n",
       "      <td>0.127987</td>\n",
       "      <td>0.559735</td>\n",
       "      <td>0.141949</td>\n",
       "      <td>0.131494</td>\n",
       "      <td>0.085586</td>\n",
       "      <td>0.121795</td>\n",
       "    </tr>\n",
       "    <tr>\n",
       "      <th>...</th>\n",
       "      <td>...</td>\n",
       "      <td>...</td>\n",
       "      <td>...</td>\n",
       "      <td>...</td>\n",
       "      <td>...</td>\n",
       "      <td>...</td>\n",
       "      <td>...</td>\n",
       "      <td>...</td>\n",
       "      <td>...</td>\n",
       "    </tr>\n",
       "    <tr>\n",
       "      <th>58066</th>\n",
       "      <td>0.588825</td>\n",
       "      <td>0.441358</td>\n",
       "      <td>0.070591</td>\n",
       "      <td>0.557605</td>\n",
       "      <td>0.084340</td>\n",
       "      <td>0.513742</td>\n",
       "      <td>0.610749</td>\n",
       "      <td>0.468563</td>\n",
       "      <td>0.543458</td>\n",
       "    </tr>\n",
       "    <tr>\n",
       "      <th>58108</th>\n",
       "      <td>0.133668</td>\n",
       "      <td>0.206154</td>\n",
       "      <td>0.218899</td>\n",
       "      <td>0.163489</td>\n",
       "      <td>0.637792</td>\n",
       "      <td>0.175105</td>\n",
       "      <td>0.168831</td>\n",
       "      <td>0.200599</td>\n",
       "      <td>0.159347</td>\n",
       "    </tr>\n",
       "    <tr>\n",
       "      <th>58146</th>\n",
       "      <td>0.042693</td>\n",
       "      <td>0.038462</td>\n",
       "      <td>0.564384</td>\n",
       "      <td>0.038524</td>\n",
       "      <td>0.571457</td>\n",
       "      <td>0.036920</td>\n",
       "      <td>0.037459</td>\n",
       "      <td>0.022455</td>\n",
       "      <td>0.042530</td>\n",
       "    </tr>\n",
       "    <tr>\n",
       "      <th>5825</th>\n",
       "      <td>0.695958</td>\n",
       "      <td>0.731481</td>\n",
       "      <td>0.718723</td>\n",
       "      <td>0.728910</td>\n",
       "      <td>0.102569</td>\n",
       "      <td>0.668421</td>\n",
       "      <td>0.681818</td>\n",
       "      <td>0.691617</td>\n",
       "      <td>0.689123</td>\n",
       "    </tr>\n",
       "    <tr>\n",
       "      <th>6030</th>\n",
       "      <td>0.283718</td>\n",
       "      <td>0.164596</td>\n",
       "      <td>0.271293</td>\n",
       "      <td>0.227597</td>\n",
       "      <td>0.518474</td>\n",
       "      <td>0.280000</td>\n",
       "      <td>0.333876</td>\n",
       "      <td>0.190120</td>\n",
       "      <td>0.275809</td>\n",
       "    </tr>\n",
       "    <tr>\n",
       "      <th>6182</th>\n",
       "      <td>0.066476</td>\n",
       "      <td>0.044615</td>\n",
       "      <td>0.067445</td>\n",
       "      <td>0.054120</td>\n",
       "      <td>0.596742</td>\n",
       "      <td>0.084211</td>\n",
       "      <td>0.091205</td>\n",
       "      <td>0.031437</td>\n",
       "      <td>0.060574</td>\n",
       "    </tr>\n",
       "    <tr>\n",
       "      <th>6333</th>\n",
       "      <td>0.737310</td>\n",
       "      <td>0.672308</td>\n",
       "      <td>0.718131</td>\n",
       "      <td>0.731005</td>\n",
       "      <td>0.085875</td>\n",
       "      <td>0.787368</td>\n",
       "      <td>0.748377</td>\n",
       "      <td>0.639222</td>\n",
       "      <td>0.712195</td>\n",
       "    </tr>\n",
       "    <tr>\n",
       "      <th>6458</th>\n",
       "      <td>0.511905</td>\n",
       "      <td>0.577882</td>\n",
       "      <td>0.482945</td>\n",
       "      <td>0.535818</td>\n",
       "      <td>0.217897</td>\n",
       "      <td>0.494737</td>\n",
       "      <td>0.478827</td>\n",
       "      <td>0.568862</td>\n",
       "      <td>0.535583</td>\n",
       "    </tr>\n",
       "    <tr>\n",
       "      <th>6561</th>\n",
       "      <td>0.164855</td>\n",
       "      <td>NaN</td>\n",
       "      <td>0.168558</td>\n",
       "      <td>0.185279</td>\n",
       "      <td>0.537890</td>\n",
       "      <td>0.000000</td>\n",
       "      <td>NaN</td>\n",
       "      <td>NaN</td>\n",
       "      <td>0.167543</td>\n",
       "    </tr>\n",
       "    <tr>\n",
       "      <th>6693</th>\n",
       "      <td>0.071675</td>\n",
       "      <td>0.016923</td>\n",
       "      <td>0.075011</td>\n",
       "      <td>0.030682</td>\n",
       "      <td>0.678385</td>\n",
       "      <td>0.025263</td>\n",
       "      <td>0.032468</td>\n",
       "      <td>0.032934</td>\n",
       "      <td>0.043750</td>\n",
       "    </tr>\n",
       "    <tr>\n",
       "      <th>6794</th>\n",
       "      <td>0.032951</td>\n",
       "      <td>0.081538</td>\n",
       "      <td>0.033577</td>\n",
       "      <td>0.032763</td>\n",
       "      <td>0.523685</td>\n",
       "      <td>0.050526</td>\n",
       "      <td>0.029703</td>\n",
       "      <td>0.070359</td>\n",
       "      <td>0.044068</td>\n",
       "    </tr>\n",
       "    <tr>\n",
       "      <th>6907</th>\n",
       "      <td>0.675122</td>\n",
       "      <td>0.575617</td>\n",
       "      <td>0.659983</td>\n",
       "      <td>0.678120</td>\n",
       "      <td>0.136821</td>\n",
       "      <td>0.620000</td>\n",
       "      <td>0.686688</td>\n",
       "      <td>0.571856</td>\n",
       "      <td>0.662748</td>\n",
       "    </tr>\n",
       "    <tr>\n",
       "      <th>7081</th>\n",
       "      <td>0.169198</td>\n",
       "      <td>0.129630</td>\n",
       "      <td>0.156115</td>\n",
       "      <td>0.168071</td>\n",
       "      <td>0.597870</td>\n",
       "      <td>0.183544</td>\n",
       "      <td>0.225649</td>\n",
       "      <td>0.130240</td>\n",
       "      <td>0.164634</td>\n",
       "    </tr>\n",
       "    <tr>\n",
       "      <th>7173</th>\n",
       "      <td>0.549067</td>\n",
       "      <td>0.580247</td>\n",
       "      <td>0.523512</td>\n",
       "      <td>0.603722</td>\n",
       "      <td>0.010643</td>\n",
       "      <td>0.513684</td>\n",
       "      <td>0.469156</td>\n",
       "      <td>0.612275</td>\n",
       "      <td>0.526236</td>\n",
       "    </tr>\n",
       "    <tr>\n",
       "      <th>7203</th>\n",
       "      <td>0.571593</td>\n",
       "      <td>0.604938</td>\n",
       "      <td>0.572045</td>\n",
       "      <td>0.557561</td>\n",
       "      <td>0.119469</td>\n",
       "      <td>0.566456</td>\n",
       "      <td>0.574675</td>\n",
       "      <td>0.569069</td>\n",
       "      <td>0.564161</td>\n",
       "    </tr>\n",
       "    <tr>\n",
       "      <th>7258</th>\n",
       "      <td>0.532170</td>\n",
       "      <td>0.618827</td>\n",
       "      <td>0.536176</td>\n",
       "      <td>0.561690</td>\n",
       "      <td>0.226506</td>\n",
       "      <td>0.578947</td>\n",
       "      <td>0.553571</td>\n",
       "      <td>0.586826</td>\n",
       "      <td>0.570622</td>\n",
       "    </tr>\n",
       "    <tr>\n",
       "      <th>7666</th>\n",
       "      <td>0.148936</td>\n",
       "      <td>0.252322</td>\n",
       "      <td>0.154262</td>\n",
       "      <td>0.156281</td>\n",
       "      <td>0.611245</td>\n",
       "      <td>0.188819</td>\n",
       "      <td>0.125000</td>\n",
       "      <td>0.197605</td>\n",
       "      <td>0.168243</td>\n",
       "    </tr>\n",
       "    <tr>\n",
       "      <th>8183</th>\n",
       "      <td>0.642548</td>\n",
       "      <td>0.465944</td>\n",
       "      <td>0.624136</td>\n",
       "      <td>0.603829</td>\n",
       "      <td>0.198470</td>\n",
       "      <td>0.525263</td>\n",
       "      <td>0.672078</td>\n",
       "      <td>0.494012</td>\n",
       "      <td>0.592282</td>\n",
       "    </tr>\n",
       "    <tr>\n",
       "      <th>8770</th>\n",
       "      <td>0.249498</td>\n",
       "      <td>0.300000</td>\n",
       "      <td>0.250861</td>\n",
       "      <td>0.285969</td>\n",
       "      <td>0.503425</td>\n",
       "      <td>0.253684</td>\n",
       "      <td>0.292208</td>\n",
       "      <td>0.293413</td>\n",
       "      <td>0.266463</td>\n",
       "    </tr>\n",
       "    <tr>\n",
       "      <th>8837</th>\n",
       "      <td>0.615618</td>\n",
       "      <td>NaN</td>\n",
       "      <td>0.601637</td>\n",
       "      <td>0.652534</td>\n",
       "      <td>0.073636</td>\n",
       "      <td>0.616842</td>\n",
       "      <td>NaN</td>\n",
       "      <td>NaN</td>\n",
       "      <td>0.672156</td>\n",
       "    </tr>\n",
       "    <tr>\n",
       "      <th>9333</th>\n",
       "      <td>0.112894</td>\n",
       "      <td>0.150769</td>\n",
       "      <td>0.132328</td>\n",
       "      <td>0.082956</td>\n",
       "      <td>0.521870</td>\n",
       "      <td>0.128421</td>\n",
       "      <td>0.071429</td>\n",
       "      <td>0.139222</td>\n",
       "      <td>0.121032</td>\n",
       "    </tr>\n",
       "    <tr>\n",
       "      <th>9394</th>\n",
       "      <td>0.001731</td>\n",
       "      <td>0.004615</td>\n",
       "      <td>0.001518</td>\n",
       "      <td>0.000649</td>\n",
       "      <td>0.522673</td>\n",
       "      <td>0.002105</td>\n",
       "      <td>0.001623</td>\n",
       "      <td>0.000000</td>\n",
       "      <td>0.001526</td>\n",
       "    </tr>\n",
       "    <tr>\n",
       "      <th>942</th>\n",
       "      <td>0.732798</td>\n",
       "      <td>0.767101</td>\n",
       "      <td>0.730720</td>\n",
       "      <td>0.747574</td>\n",
       "      <td>0.004821</td>\n",
       "      <td>0.776842</td>\n",
       "      <td>0.771523</td>\n",
       "      <td>0.754491</td>\n",
       "      <td>0.770369</td>\n",
       "    </tr>\n",
       "    <tr>\n",
       "      <th>9454</th>\n",
       "      <td>0.170197</td>\n",
       "      <td>0.328704</td>\n",
       "      <td>0.186300</td>\n",
       "      <td>0.220072</td>\n",
       "      <td>0.546386</td>\n",
       "      <td>0.191579</td>\n",
       "      <td>0.107143</td>\n",
       "      <td>0.341317</td>\n",
       "      <td>0.199603</td>\n",
       "    </tr>\n",
       "    <tr>\n",
       "      <th>949</th>\n",
       "      <td>0.687733</td>\n",
       "      <td>0.733846</td>\n",
       "      <td>0.705984</td>\n",
       "      <td>0.727844</td>\n",
       "      <td>0.128967</td>\n",
       "      <td>0.640000</td>\n",
       "      <td>0.641234</td>\n",
       "      <td>0.736527</td>\n",
       "      <td>0.669820</td>\n",
       "    </tr>\n",
       "    <tr>\n",
       "      <th>95</th>\n",
       "      <td>0.125830</td>\n",
       "      <td>0.118462</td>\n",
       "      <td>0.132486</td>\n",
       "      <td>0.113629</td>\n",
       "      <td>0.599759</td>\n",
       "      <td>0.135307</td>\n",
       "      <td>0.108766</td>\n",
       "      <td>0.184132</td>\n",
       "      <td>0.135337</td>\n",
       "    </tr>\n",
       "    <tr>\n",
       "      <th>9516</th>\n",
       "      <td>0.230052</td>\n",
       "      <td>0.187692</td>\n",
       "      <td>0.216257</td>\n",
       "      <td>0.224741</td>\n",
       "      <td>0.536174</td>\n",
       "      <td>0.189474</td>\n",
       "      <td>0.207792</td>\n",
       "      <td>0.206587</td>\n",
       "      <td>0.220543</td>\n",
       "    </tr>\n",
       "    <tr>\n",
       "      <th>9545</th>\n",
       "      <td>0.499857</td>\n",
       "      <td>0.592308</td>\n",
       "      <td>0.521327</td>\n",
       "      <td>0.521156</td>\n",
       "      <td>0.059390</td>\n",
       "      <td>0.477895</td>\n",
       "      <td>0.428571</td>\n",
       "      <td>0.553892</td>\n",
       "      <td>0.519360</td>\n",
       "    </tr>\n",
       "    <tr>\n",
       "      <th>9791</th>\n",
       "      <td>0.627653</td>\n",
       "      <td>0.572308</td>\n",
       "      <td>0.611805</td>\n",
       "      <td>0.618438</td>\n",
       "      <td>0.062651</td>\n",
       "      <td>0.598947</td>\n",
       "      <td>0.636364</td>\n",
       "      <td>0.544910</td>\n",
       "      <td>0.618481</td>\n",
       "    </tr>\n",
       "    <tr>\n",
       "      <th>9936</th>\n",
       "      <td>0.530937</td>\n",
       "      <td>0.455385</td>\n",
       "      <td>0.548901</td>\n",
       "      <td>0.505820</td>\n",
       "      <td>0.117742</td>\n",
       "      <td>0.488421</td>\n",
       "      <td>0.590909</td>\n",
       "      <td>0.531437</td>\n",
       "      <td>0.535987</td>\n",
       "    </tr>\n",
       "  </tbody>\n",
       "</table>\n",
       "<p>422 rows × 9 columns</p>\n",
       "</div>"
      ],
      "text/plain": [
       "        GGP90KT   GGPF250   GGPHDV3   GGPLDV3   GGPLDV4        HD    SNP50A  \\\n",
       "10250  0.555380  0.597222  0.535345  0.607687  0.081994  0.595789  0.524351   \n",
       "10262  0.529665  0.555385  0.526509  0.561872  0.048193  0.535865  0.485390   \n",
       "10403  0.207485  0.153846  0.203488  0.184296  0.522280  0.212632  0.253247   \n",
       "10586  0.108240  0.170769  0.114987  0.113409  0.547026  0.106316  0.087662   \n",
       "10592  0.540448  0.484568  0.543799  0.491168  0.104661  0.496842  0.498377   \n",
       "106    0.631451  0.615385  0.621845  0.574781  0.119229  0.620000  0.657980   \n",
       "10603  0.272297  0.338462  0.282852  0.291086  0.515273  0.284211  0.256494   \n",
       "1064   0.466848  0.663580  0.457309  0.545558  0.116359  0.535789  0.400974   \n",
       "10790  0.540614  0.465944  0.527359  0.524248  0.087716  0.569474  0.527597   \n",
       "10932  0.573517  0.430769  0.593966  0.549255  0.039558  0.541053  0.615635   \n",
       "10949  0.201004  0.325617  0.222054  0.216274  0.519069  0.184211  0.115260   \n",
       "10950  0.534822  0.462500  0.513943  0.491463  0.266207  0.506316  0.516393   \n",
       "11030  0.649928  0.506192  0.646831  0.597830  0.152689  0.591579  0.717532   \n",
       "11093  0.664845  0.629283  0.670548  0.682437  0.109711  0.694737  0.734528   \n",
       "11665  0.514402  0.490712  0.512948  0.496359  0.176376  0.485263  0.485390   \n",
       "11686  0.086321  0.111111  0.088894  0.081181  0.655597  0.092827  0.084691   \n",
       "11763  0.529968  0.639319  0.538975  0.606981  0.190161  0.562105  0.530844   \n",
       "11939  0.501579  0.530864  0.494161  0.547557  0.142857  0.540000  0.462662   \n",
       "12071  0.695839  0.732087  0.703647  0.701328  0.074126  0.701903  0.752492   \n",
       "12277  0.617546  0.566358  0.610465  0.620796  0.126455  0.606316  0.618506   \n",
       "12339  0.150616  0.138462  0.135874  0.139565  0.663113  0.156842  0.136808   \n",
       "12342  0.599053  0.696594  0.596238  0.611987  0.130338  0.664557  0.601307   \n",
       "12519  0.505020  0.631173  0.524558  0.544455  0.175040  0.478947  0.448052   \n",
       "12592  0.528882  0.717593  0.571182  0.557473  0.084872  0.559072  0.433442   \n",
       "12611  0.158295  0.196923  0.177221  0.180538  0.572950  0.215789  0.206169   \n",
       "12631  0.217179  0.145062  0.206845  0.208034  0.541449  0.183158  0.248377   \n",
       "12918  0.199885  0.219814  0.191062  0.210398  0.513682  0.217895  0.227273   \n",
       "12960  0.535181  0.439815  0.525022  0.528345  0.122387  0.569620  0.610390   \n",
       "13483  0.194755  0.226154  0.195080  0.203943  0.520666  0.198947  0.196429   \n",
       "13525  0.119666  0.100000  0.107622  0.127987  0.559735  0.141949  0.131494   \n",
       "...         ...       ...       ...       ...       ...       ...       ...   \n",
       "58066  0.588825  0.441358  0.070591  0.557605  0.084340  0.513742  0.610749   \n",
       "58108  0.133668  0.206154  0.218899  0.163489  0.637792  0.175105  0.168831   \n",
       "58146  0.042693  0.038462  0.564384  0.038524  0.571457  0.036920  0.037459   \n",
       "5825   0.695958  0.731481  0.718723  0.728910  0.102569  0.668421  0.681818   \n",
       "6030   0.283718  0.164596  0.271293  0.227597  0.518474  0.280000  0.333876   \n",
       "6182   0.066476  0.044615  0.067445  0.054120  0.596742  0.084211  0.091205   \n",
       "6333   0.737310  0.672308  0.718131  0.731005  0.085875  0.787368  0.748377   \n",
       "6458   0.511905  0.577882  0.482945  0.535818  0.217897  0.494737  0.478827   \n",
       "6561   0.164855       NaN  0.168558  0.185279  0.537890  0.000000       NaN   \n",
       "6693   0.071675  0.016923  0.075011  0.030682  0.678385  0.025263  0.032468   \n",
       "6794   0.032951  0.081538  0.033577  0.032763  0.523685  0.050526  0.029703   \n",
       "6907   0.675122  0.575617  0.659983  0.678120  0.136821  0.620000  0.686688   \n",
       "7081   0.169198  0.129630  0.156115  0.168071  0.597870  0.183544  0.225649   \n",
       "7173   0.549067  0.580247  0.523512  0.603722  0.010643  0.513684  0.469156   \n",
       "7203   0.571593  0.604938  0.572045  0.557561  0.119469  0.566456  0.574675   \n",
       "7258   0.532170  0.618827  0.536176  0.561690  0.226506  0.578947  0.553571   \n",
       "7666   0.148936  0.252322  0.154262  0.156281  0.611245  0.188819  0.125000   \n",
       "8183   0.642548  0.465944  0.624136  0.603829  0.198470  0.525263  0.672078   \n",
       "8770   0.249498  0.300000  0.250861  0.285969  0.503425  0.253684  0.292208   \n",
       "8837   0.615618       NaN  0.601637  0.652534  0.073636  0.616842       NaN   \n",
       "9333   0.112894  0.150769  0.132328  0.082956  0.521870  0.128421  0.071429   \n",
       "9394   0.001731  0.004615  0.001518  0.000649  0.522673  0.002105  0.001623   \n",
       "942    0.732798  0.767101  0.730720  0.747574  0.004821  0.776842  0.771523   \n",
       "9454   0.170197  0.328704  0.186300  0.220072  0.546386  0.191579  0.107143   \n",
       "949    0.687733  0.733846  0.705984  0.727844  0.128967  0.640000  0.641234   \n",
       "95     0.125830  0.118462  0.132486  0.113629  0.599759  0.135307  0.108766   \n",
       "9516   0.230052  0.187692  0.216257  0.224741  0.536174  0.189474  0.207792   \n",
       "9545   0.499857  0.592308  0.521327  0.521156  0.059390  0.477895  0.428571   \n",
       "9791   0.627653  0.572308  0.611805  0.618438  0.062651  0.598947  0.636364   \n",
       "9936   0.530937  0.455385  0.548901  0.505820  0.117742  0.488421  0.590909   \n",
       "\n",
       "         SNP50B    SNP50C  \n",
       "10250  0.595808  0.553691  \n",
       "10262  0.559880  0.516311  \n",
       "10403  0.151198  0.205218  \n",
       "10586  0.211078  0.120958  \n",
       "10592  0.476048  0.528532  \n",
       "106    0.682635  0.651372  \n",
       "10603  0.315868  0.279700  \n",
       "1064   0.629129  0.535998  \n",
       "10790  0.434132  0.524878  \n",
       "10932  0.459581  0.565091  \n",
       "10949  0.304805  0.220813  \n",
       "10950  0.490991  0.514994  \n",
       "11030  0.465569  0.603296  \n",
       "11093  0.648649  0.673687  \n",
       "11665  0.510479  0.510073  \n",
       "11686  0.097305  0.083130  \n",
       "11763  0.643713  0.575832  \n",
       "11939  0.452096  0.504880  \n",
       "12071  0.769578  0.716468  \n",
       "12277  0.640719  0.603938  \n",
       "12339  0.134731  0.133618  \n",
       "12342  0.646707  0.618618  \n",
       "12519  0.571856  0.527769  \n",
       "12592  0.693114  0.576900  \n",
       "12611  0.173653  0.187863  \n",
       "12631  0.194611  0.206833  \n",
       "12918  0.176647  0.218293  \n",
       "12960  0.378743  0.510064  \n",
       "13483  0.203593  0.192343  \n",
       "13525  0.085586  0.121795  \n",
       "...         ...       ...  \n",
       "58066  0.468563  0.543458  \n",
       "58108  0.200599  0.159347  \n",
       "58146  0.022455  0.042530  \n",
       "5825   0.691617  0.689123  \n",
       "6030   0.190120  0.275809  \n",
       "6182   0.031437  0.060574  \n",
       "6333   0.639222  0.712195  \n",
       "6458   0.568862  0.535583  \n",
       "6561        NaN  0.167543  \n",
       "6693   0.032934  0.043750  \n",
       "6794   0.070359  0.044068  \n",
       "6907   0.571856  0.662748  \n",
       "7081   0.130240  0.164634  \n",
       "7173   0.612275  0.526236  \n",
       "7203   0.569069  0.564161  \n",
       "7258   0.586826  0.570622  \n",
       "7666   0.197605  0.168243  \n",
       "8183   0.494012  0.592282  \n",
       "8770   0.293413  0.266463  \n",
       "8837        NaN  0.672156  \n",
       "9333   0.139222  0.121032  \n",
       "9394   0.000000  0.001526  \n",
       "942    0.754491  0.770369  \n",
       "9454   0.341317  0.199603  \n",
       "949    0.736527  0.669820  \n",
       "95     0.184132  0.135337  \n",
       "9516   0.206587  0.220543  \n",
       "9545   0.553892  0.519360  \n",
       "9791   0.544910  0.618481  \n",
       "9936   0.531437  0.535987  \n",
       "\n",
       "[422 rows x 9 columns]"
      ]
     },
     "execution_count": 275,
     "metadata": {},
     "output_type": "execute_result"
    }
   ],
   "source": [
    "flips=ld4bads[((ld4bads.GGPLDV4>.5) & (ld4bads.SNP50C <.5)) |((ld4bads.GGPLDV4<.5) & (ld4bads.SNP50C >.5)) ]\n",
    "flips[(flips.GGPLDV4 + flips.SNP50C)<.8]"
   ]
  },
  {
   "cell_type": "code",
   "execution_count": 265,
   "metadata": {
    "collapsed": false
   },
   "outputs": [
    {
     "data": {
      "text/html": [
       "<div>\n",
       "<table border=\"1\" class=\"dataframe\">\n",
       "  <thead>\n",
       "    <tr style=\"text-align: right;\">\n",
       "      <th></th>\n",
       "      <th>GGP90KT</th>\n",
       "      <th>GGPF250</th>\n",
       "      <th>GGPHDV3</th>\n",
       "      <th>GGPLDV3</th>\n",
       "      <th>GGPLDV4</th>\n",
       "      <th>HD</th>\n",
       "      <th>SNP50A</th>\n",
       "      <th>SNP50B</th>\n",
       "      <th>SNP50C</th>\n",
       "    </tr>\n",
       "  </thead>\n",
       "  <tbody>\n",
       "    <tr>\n",
       "      <th>count</th>\n",
       "      <td>1170.000000</td>\n",
       "      <td>1160.000000</td>\n",
       "      <td>1170.000000</td>\n",
       "      <td>1170.000000</td>\n",
       "      <td>1170.000000</td>\n",
       "      <td>1170.000000</td>\n",
       "      <td>1160.000000</td>\n",
       "      <td>1160.000000</td>\n",
       "      <td>1170.000000</td>\n",
       "    </tr>\n",
       "    <tr>\n",
       "      <th>mean</th>\n",
       "      <td>0.479110</td>\n",
       "      <td>0.482682</td>\n",
       "      <td>0.474240</td>\n",
       "      <td>0.480658</td>\n",
       "      <td>0.454105</td>\n",
       "      <td>0.478907</td>\n",
       "      <td>0.476240</td>\n",
       "      <td>0.484075</td>\n",
       "      <td>0.479623</td>\n",
       "    </tr>\n",
       "    <tr>\n",
       "      <th>std</th>\n",
       "      <td>0.219778</td>\n",
       "      <td>0.214535</td>\n",
       "      <td>0.239227</td>\n",
       "      <td>0.220232</td>\n",
       "      <td>0.280959</td>\n",
       "      <td>0.213614</td>\n",
       "      <td>0.229110</td>\n",
       "      <td>0.218766</td>\n",
       "      <td>0.215597</td>\n",
       "    </tr>\n",
       "    <tr>\n",
       "      <th>min</th>\n",
       "      <td>0.002875</td>\n",
       "      <td>0.003077</td>\n",
       "      <td>0.000000</td>\n",
       "      <td>0.002784</td>\n",
       "      <td>0.000000</td>\n",
       "      <td>0.000000</td>\n",
       "      <td>0.000000</td>\n",
       "      <td>0.002994</td>\n",
       "      <td>0.001374</td>\n",
       "    </tr>\n",
       "    <tr>\n",
       "      <th>25%</th>\n",
       "      <td>0.329414</td>\n",
       "      <td>0.334243</td>\n",
       "      <td>0.313025</td>\n",
       "      <td>0.321527</td>\n",
       "      <td>0.202629</td>\n",
       "      <td>0.336053</td>\n",
       "      <td>0.316558</td>\n",
       "      <td>0.335329</td>\n",
       "      <td>0.332530</td>\n",
       "    </tr>\n",
       "    <tr>\n",
       "      <th>50%</th>\n",
       "      <td>0.472816</td>\n",
       "      <td>0.473765</td>\n",
       "      <td>0.469596</td>\n",
       "      <td>0.470839</td>\n",
       "      <td>0.467068</td>\n",
       "      <td>0.473629</td>\n",
       "      <td>0.469968</td>\n",
       "      <td>0.476048</td>\n",
       "      <td>0.472994</td>\n",
       "    </tr>\n",
       "    <tr>\n",
       "      <th>75%</th>\n",
       "      <td>0.610418</td>\n",
       "      <td>0.623746</td>\n",
       "      <td>0.627625</td>\n",
       "      <td>0.608077</td>\n",
       "      <td>0.701415</td>\n",
       "      <td>0.604970</td>\n",
       "      <td>0.629870</td>\n",
       "      <td>0.630337</td>\n",
       "      <td>0.601065</td>\n",
       "    </tr>\n",
       "    <tr>\n",
       "      <th>max</th>\n",
       "      <td>0.998137</td>\n",
       "      <td>0.996904</td>\n",
       "      <td>0.999568</td>\n",
       "      <td>0.999514</td>\n",
       "      <td>1.000000</td>\n",
       "      <td>1.000000</td>\n",
       "      <td>1.000000</td>\n",
       "      <td>0.998503</td>\n",
       "      <td>0.997256</td>\n",
       "    </tr>\n",
       "  </tbody>\n",
       "</table>\n",
       "</div>"
      ],
      "text/plain": [
       "           GGP90KT      GGPF250      GGPHDV3      GGPLDV3      GGPLDV4  \\\n",
       "count  1170.000000  1160.000000  1170.000000  1170.000000  1170.000000   \n",
       "mean      0.479110     0.482682     0.474240     0.480658     0.454105   \n",
       "std       0.219778     0.214535     0.239227     0.220232     0.280959   \n",
       "min       0.002875     0.003077     0.000000     0.002784     0.000000   \n",
       "25%       0.329414     0.334243     0.313025     0.321527     0.202629   \n",
       "50%       0.472816     0.473765     0.469596     0.470839     0.467068   \n",
       "75%       0.610418     0.623746     0.627625     0.608077     0.701415   \n",
       "max       0.998137     0.996904     0.999568     0.999514     1.000000   \n",
       "\n",
       "                HD       SNP50A       SNP50B       SNP50C  \n",
       "count  1170.000000  1160.000000  1160.000000  1170.000000  \n",
       "mean      0.478907     0.476240     0.484075     0.479623  \n",
       "std       0.213614     0.229110     0.218766     0.215597  \n",
       "min       0.000000     0.000000     0.002994     0.001374  \n",
       "25%       0.336053     0.316558     0.335329     0.332530  \n",
       "50%       0.473629     0.469968     0.476048     0.472994  \n",
       "75%       0.604970     0.629870     0.630337     0.601065  \n",
       "max       1.000000     1.000000     0.998503     0.997256  "
      ]
     },
     "execution_count": 265,
     "metadata": {},
     "output_type": "execute_result"
    }
   ],
   "source": [
    "ld4bads[((ld4bads.GGPLDV4>.5) & (ld4bads.SNP50C >.5)) |((ld4bads.GGPLDV4<.5) & (ld4bads.SNP50C <.5)) ].describe()"
   ]
  },
  {
   "cell_type": "code",
   "execution_count": 266,
   "metadata": {
    "collapsed": false
   },
   "outputs": [
    {
     "data": {
      "text/plain": [
       "(3799, 9)"
      ]
     },
     "execution_count": 266,
     "metadata": {},
     "output_type": "execute_result"
    }
   ],
   "source": [
    "ld4bads.shape"
   ]
  },
  {
   "cell_type": "code",
   "execution_count": 283,
   "metadata": {
    "collapsed": false
   },
   "outputs": [],
   "source": [
    "flang = freq_frame.index.tolist()"
   ]
  },
  {
   "cell_type": "code",
   "execution_count": 285,
   "metadata": {
    "collapsed": false
   },
   "outputs": [],
   "source": [
    "flang.sort()"
   ]
  },
  {
   "cell_type": "code",
   "execution_count": 291,
   "metadata": {
    "collapsed": false
   },
   "outputs": [],
   "source": [
    "snpids = [int(i) for i in flang]"
   ]
  },
  {
   "cell_type": "code",
   "execution_count": 292,
   "metadata": {
    "collapsed": true
   },
   "outputs": [],
   "source": [
    "snpids.sort()"
   ]
  },
  {
   "cell_type": "code",
   "execution_count": 297,
   "metadata": {
    "collapsed": false
   },
   "outputs": [],
   "source": [
    "ff = open('flipped_snp.txt','rr')\n",
    "flippers = []\n",
    "for i in ff:\n",
    "    flippers.append(i.strip())"
   ]
  },
  {
   "cell_type": "code",
   "execution_count": 302,
   "metadata": {
    "collapsed": false
   },
   "outputs": [
    {
     "data": {
      "text/plain": [
       "542"
      ]
     },
     "execution_count": 302,
     "metadata": {},
     "output_type": "execute_result"
    }
   ],
   "source": [
    "len([i for i in flippers if int(i) in snpids])"
   ]
  },
  {
   "cell_type": "code",
   "execution_count": null,
   "metadata": {
    "collapsed": true
   },
   "outputs": [],
   "source": []
  }
 ],
 "metadata": {
  "anaconda-cloud": {},
  "kernelspec": {
   "display_name": "Python [default]",
   "language": "python",
   "name": "python2"
  },
  "language_info": {
   "codemirror_mode": {
    "name": "ipython",
    "version": 2
   },
   "file_extension": ".py",
   "mimetype": "text/x-python",
   "name": "python",
   "nbconvert_exporter": "python",
   "pygments_lexer": "ipython2",
   "version": "2.7.12"
  }
 },
 "nbformat": 4,
 "nbformat_minor": 1
}
