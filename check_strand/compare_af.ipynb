{
 "cells": [
  {
   "cell_type": "code",
   "execution_count": 21,
   "metadata": {
    "collapsed": false
   },
   "outputs": [
    {
     "name": "stderr",
     "output_type": "stream",
     "text": [
      "/home/jlh4df/envs/my_root/lib/python2.7/site-packages/matplotlib/__init__.py:872: UserWarning: axes.color_cycle is deprecated and replaced with axes.prop_cycle; please use the latter.\n",
      "  warnings.warn(self.msg_depr % (key, alt_key))\n"
     ]
    }
   ],
   "source": [
    "import pandas as pd\n",
    "import glob\n",
    "import seaborn as sns"
   ]
  },
  {
   "cell_type": "code",
   "execution_count": 24,
   "metadata": {
    "collapsed": false
   },
   "outputs": [],
   "source": [
    "ggphdv3 = pd.read_table('./139977.170112.2326.GGPHDV3.frq',delim_whitespace=True,index_col='SNP',usecols=['SNP','MAF'])"
   ]
  },
  {
   "cell_type": "code",
   "execution_count": 25,
   "metadata": {
    "collapsed": false
   },
   "outputs": [
    {
     "data": {
      "text/plain": [
       "(6222, 1)"
      ]
     },
     "execution_count": 25,
     "metadata": {},
     "output_type": "execute_result"
    }
   ],
   "source": [
    "ggphdv3.shape"
   ]
  },
  {
   "cell_type": "code",
   "execution_count": 26,
   "metadata": {
    "collapsed": false
   },
   "outputs": [
    {
     "data": {
      "text/html": [
       "<div>\n",
       "<table border=\"1\" class=\"dataframe\">\n",
       "  <thead>\n",
       "    <tr style=\"text-align: right;\">\n",
       "      <th></th>\n",
       "      <th>MAF</th>\n",
       "    </tr>\n",
       "    <tr>\n",
       "      <th>SNP</th>\n",
       "      <th></th>\n",
       "    </tr>\n",
       "  </thead>\n",
       "  <tbody>\n",
       "    <tr>\n",
       "      <th>49468</th>\n",
       "      <td>1.0000</td>\n",
       "    </tr>\n",
       "    <tr>\n",
       "      <th>40152</th>\n",
       "      <td>0.4998</td>\n",
       "    </tr>\n",
       "    <tr>\n",
       "      <th>49155</th>\n",
       "      <td>0.4991</td>\n",
       "    </tr>\n",
       "    <tr>\n",
       "      <th>41693</th>\n",
       "      <td>0.4994</td>\n",
       "    </tr>\n",
       "    <tr>\n",
       "      <th>1127</th>\n",
       "      <td>0.4996</td>\n",
       "    </tr>\n",
       "    <tr>\n",
       "      <th>53439</th>\n",
       "      <td>0.4998</td>\n",
       "    </tr>\n",
       "    <tr>\n",
       "      <th>11380</th>\n",
       "      <td>0.5000</td>\n",
       "    </tr>\n",
       "    <tr>\n",
       "      <th>55719</th>\n",
       "      <td>0.4991</td>\n",
       "    </tr>\n",
       "    <tr>\n",
       "      <th>58099</th>\n",
       "      <td>1.0000</td>\n",
       "    </tr>\n",
       "    <tr>\n",
       "      <th>49062</th>\n",
       "      <td>0.4991</td>\n",
       "    </tr>\n",
       "    <tr>\n",
       "      <th>17351</th>\n",
       "      <td>1.0000</td>\n",
       "    </tr>\n",
       "    <tr>\n",
       "      <th>9323</th>\n",
       "      <td>0.4996</td>\n",
       "    </tr>\n",
       "    <tr>\n",
       "      <th>36132</th>\n",
       "      <td>0.5000</td>\n",
       "    </tr>\n",
       "    <tr>\n",
       "      <th>12439</th>\n",
       "      <td>0.4994</td>\n",
       "    </tr>\n",
       "    <tr>\n",
       "      <th>54712</th>\n",
       "      <td>0.5000</td>\n",
       "    </tr>\n",
       "    <tr>\n",
       "      <th>7797</th>\n",
       "      <td>0.4994</td>\n",
       "    </tr>\n",
       "    <tr>\n",
       "      <th>3213</th>\n",
       "      <td>0.5000</td>\n",
       "    </tr>\n",
       "    <tr>\n",
       "      <th>49880</th>\n",
       "      <td>0.4994</td>\n",
       "    </tr>\n",
       "    <tr>\n",
       "      <th>458</th>\n",
       "      <td>0.4994</td>\n",
       "    </tr>\n",
       "    <tr>\n",
       "      <th>24042</th>\n",
       "      <td>0.4996</td>\n",
       "    </tr>\n",
       "    <tr>\n",
       "      <th>17640</th>\n",
       "      <td>1.0000</td>\n",
       "    </tr>\n",
       "    <tr>\n",
       "      <th>9443</th>\n",
       "      <td>0.4996</td>\n",
       "    </tr>\n",
       "    <tr>\n",
       "      <th>56964</th>\n",
       "      <td>1.0000</td>\n",
       "    </tr>\n",
       "    <tr>\n",
       "      <th>36753</th>\n",
       "      <td>0.4996</td>\n",
       "    </tr>\n",
       "    <tr>\n",
       "      <th>30104</th>\n",
       "      <td>0.4996</td>\n",
       "    </tr>\n",
       "  </tbody>\n",
       "</table>\n",
       "</div>"
      ],
      "text/plain": [
       "          MAF\n",
       "SNP          \n",
       "49468  1.0000\n",
       "40152  0.4998\n",
       "49155  0.4991\n",
       "41693  0.4994\n",
       "1127   0.4996\n",
       "53439  0.4998\n",
       "11380  0.5000\n",
       "55719  0.4991\n",
       "58099  1.0000\n",
       "49062  0.4991\n",
       "17351  1.0000\n",
       "9323   0.4996\n",
       "36132  0.5000\n",
       "12439  0.4994\n",
       "54712  0.5000\n",
       "7797   0.4994\n",
       "3213   0.5000\n",
       "49880  0.4994\n",
       "458    0.4994\n",
       "24042  0.4996\n",
       "17640  1.0000\n",
       "9443   0.4996\n",
       "56964  1.0000\n",
       "36753  0.4996\n",
       "30104  0.4996"
      ]
     },
     "execution_count": 26,
     "metadata": {},
     "output_type": "execute_result"
    }
   ],
   "source": [
    "ggphdv3[ggphdv3.MAF>.499]"
   ]
  },
  {
   "cell_type": "code",
   "execution_count": 41,
   "metadata": {
    "collapsed": false
   },
   "outputs": [
    {
     "ename": "ValueError",
     "evalue": "can not merge DataFrame with instance of type <class 'pandas.core.series.Series'>",
     "output_type": "error",
     "traceback": [
      "\u001b[0;31m---------------------------------------------------------------------------\u001b[0m",
      "\u001b[0;31mValueError\u001b[0m                                Traceback (most recent call last)",
      "\u001b[0;32m<ipython-input-41-73d0f3ab97e4>\u001b[0m in \u001b[0;36m<module>\u001b[0;34m()\u001b[0m\n\u001b[0;32m----> 1\u001b[0;31m \u001b[0mpd\u001b[0m\u001b[0;34m.\u001b[0m\u001b[0mmerge\u001b[0m\u001b[0;34m(\u001b[0m\u001b[0mallfreqs_maf\u001b[0m\u001b[0;34m[\u001b[0m\u001b[0;34m'GGPHDV3'\u001b[0m\u001b[0;34m]\u001b[0m\u001b[0;34m,\u001b[0m\u001b[0mallfreqs_maf\u001b[0m\u001b[0;34m[\u001b[0m\u001b[0;34m'GGPLDV3'\u001b[0m\u001b[0;34m]\u001b[0m\u001b[0;34m)\u001b[0m\u001b[0;34m\u001b[0m\u001b[0m\n\u001b[0m",
      "\u001b[0;32m/home/jlh4df/envs/my_root/lib/python2.7/site-packages/pandas/tools/merge.pyc\u001b[0m in \u001b[0;36mmerge\u001b[0;34m(left, right, how, on, left_on, right_on, left_index, right_index, sort, suffixes, copy, indicator)\u001b[0m\n\u001b[1;32m     56\u001b[0m                          \u001b[0mright_on\u001b[0m\u001b[0;34m=\u001b[0m\u001b[0mright_on\u001b[0m\u001b[0;34m,\u001b[0m \u001b[0mleft_index\u001b[0m\u001b[0;34m=\u001b[0m\u001b[0mleft_index\u001b[0m\u001b[0;34m,\u001b[0m\u001b[0;34m\u001b[0m\u001b[0m\n\u001b[1;32m     57\u001b[0m                          \u001b[0mright_index\u001b[0m\u001b[0;34m=\u001b[0m\u001b[0mright_index\u001b[0m\u001b[0;34m,\u001b[0m \u001b[0msort\u001b[0m\u001b[0;34m=\u001b[0m\u001b[0msort\u001b[0m\u001b[0;34m,\u001b[0m \u001b[0msuffixes\u001b[0m\u001b[0;34m=\u001b[0m\u001b[0msuffixes\u001b[0m\u001b[0;34m,\u001b[0m\u001b[0;34m\u001b[0m\u001b[0m\n\u001b[0;32m---> 58\u001b[0;31m                          copy=copy, indicator=indicator)\n\u001b[0m\u001b[1;32m     59\u001b[0m     \u001b[0;32mreturn\u001b[0m \u001b[0mop\u001b[0m\u001b[0;34m.\u001b[0m\u001b[0mget_result\u001b[0m\u001b[0;34m(\u001b[0m\u001b[0;34m)\u001b[0m\u001b[0;34m\u001b[0m\u001b[0m\n\u001b[1;32m     60\u001b[0m \u001b[0;32mif\u001b[0m \u001b[0m__debug__\u001b[0m\u001b[0;34m:\u001b[0m\u001b[0;34m\u001b[0m\u001b[0m\n",
      "\u001b[0;32m/home/jlh4df/envs/my_root/lib/python2.7/site-packages/pandas/tools/merge.pyc\u001b[0m in \u001b[0;36m__init__\u001b[0;34m(self, left, right, how, on, left_on, right_on, axis, left_index, right_index, sort, suffixes, copy, indicator)\u001b[0m\n\u001b[1;32m    467\u001b[0m             raise ValueError(\n\u001b[1;32m    468\u001b[0m                 \u001b[0;34m'can not merge DataFrame with instance of '\u001b[0m\u001b[0;34m\u001b[0m\u001b[0m\n\u001b[0;32m--> 469\u001b[0;31m                 'type {0}'.format(type(left)))\n\u001b[0m\u001b[1;32m    470\u001b[0m         \u001b[0;32mif\u001b[0m \u001b[0;32mnot\u001b[0m \u001b[0misinstance\u001b[0m\u001b[0;34m(\u001b[0m\u001b[0mright\u001b[0m\u001b[0;34m,\u001b[0m \u001b[0mDataFrame\u001b[0m\u001b[0;34m)\u001b[0m\u001b[0;34m:\u001b[0m\u001b[0;34m\u001b[0m\u001b[0m\n\u001b[1;32m    471\u001b[0m             raise ValueError(\n",
      "\u001b[0;31mValueError\u001b[0m: can not merge DataFrame with instance of type <class 'pandas.core.series.Series'>"
     ]
    }
   ],
   "source": [
    "pd.merge(allfreqs_maf['GGPHDV3'],allfreqs_maf['GGPLDV3'])"
   ]
  },
  {
   "cell_type": "code",
   "execution_count": 10,
   "metadata": {
    "collapsed": false
   },
   "outputs": [
    {
     "data": {
      "text/plain": [
       "['139977.170112.2326.GGPHDV3.frq',\n",
       " '227234.170112.325.GGPF250.frq',\n",
       " '26504.170112.3126.GGPLDV3.frq',\n",
       " '30105.170112.2500.GGPLDV4.frq',\n",
       " '58336.170112.315.SNP50A.frq',\n",
       " '58336.170112.335.SNP50B.frq',\n",
       " '58336.170112.3399.SNP50C.frq',\n",
       " '76999.170112.3498.GGP90KT.frq',\n",
       " '777962.170127.483.HD.frq']"
      ]
     },
     "execution_count": 10,
     "metadata": {},
     "output_type": "execute_result"
    }
   ],
   "source": [
    "freqs = glob.glob('*.frq')\n",
    "freqs"
   ]
  },
  {
   "cell_type": "code",
   "execution_count": 12,
   "metadata": {
    "collapsed": false
   },
   "outputs": [],
   "source": [
    "allfreqs = {}\n",
    "for i in freqs:\n",
    "    df = pd.read_table(i,delim_whitespace=True,,usecols=['SNP','MAF'])\n",
    "    df=df[df.CHR <30]\n",
    "    allfreqs[i.split('.')[3]]= df"
   ]
  },
  {
   "cell_type": "code",
   "execution_count": 28,
   "metadata": {
    "collapsed": false
   },
   "outputs": [],
   "source": [
    "allfreqs_maf = {}\n",
    "for i in freqs:\n",
    "    df = pd.read_table(i,delim_whitespace=True,index_col='SNP')\n",
    "    df=df[df.CHR <30]\n",
    "    allfreqs_maf[i.split('.')[3]]= df.MAF"
   ]
  },
  {
   "cell_type": "code",
   "execution_count": 43,
   "metadata": {
    "collapsed": false
   },
   "outputs": [
    {
     "name": "stdout",
     "output_type": "stream",
     "text": [
      "GGPF250\n",
      "(432, 6)\n",
      "GGPHDV3\n",
      "(751, 6)\n",
      "SNP50A\n",
      "(566, 6)\n",
      "SNP50B\n",
      "(451, 6)\n",
      "SNP50C\n",
      "(418, 6)\n",
      "GGPLDV3\n",
      "(469, 6)\n",
      "GGPLDV4\n",
      "(752, 6)\n",
      "GGP90KT\n",
      "(457, 6)\n",
      "HD\n",
      "(412, 6)\n"
     ]
    }
   ],
   "source": [
    "for k,i in allfreqs.items():\n",
    "    print(k)\n",
    "    print(i[i['MAF']<.15].shape)"
   ]
  },
  {
   "cell_type": "code",
   "execution_count": 15,
   "metadata": {
    "collapsed": false
   },
   "outputs": [
    {
     "name": "stdout",
     "output_type": "stream",
     "text": [
      "GGPF250\n",
      "      CHR    SNP A1 A2       MAF  NCHROBS\n",
      "2432    8  54643  B  A  0.001538      650\n",
      "GGPHDV3\n",
      "      CHR    SNP A1 A2       MAF  NCHROBS\n",
      "30      1  54812  B  A  0.000432     4626\n",
      "791     3  45654  B  A  0.000215     4640\n",
      "1126    4  48940  A  B  0.001722     4646\n",
      "1142    4  52712  A  B  0.000215     4646\n",
      "1305    5  43975  B  A  0.001728     4630\n",
      "1350    5  45552  A  B  0.001508     4642\n",
      "1780    6  48519  A  B  0.000861     4646\n",
      "2103    7  44872  B  A  0.001292     4644\n",
      "2630    9  46757  A  B  0.001509     4640\n",
      "3386   12  50356  A  B  0.000646     4642\n",
      "3443   13  14125  A  B  0.000861     4646\n",
      "3463   13  45639  B  A  0.000432     4626\n",
      "3484   13  56185  A  B  0.000216     4630\n",
      "3664   14  44799  A  B  0.001747     4578\n",
      "3843   15  56518  B  A  0.001097     4558\n",
      "3952   15  47088  A  B  0.001077     4644\n",
      "4051   16  51016  A  B  0.001937     4646\n",
      "4342   17  49059  A  B  0.001522     4600\n",
      "4583   19  56286  A  B  0.001292     4644\n",
      "4871   20  43921  A  B  0.000430     4646\n",
      "5254   23  54358  A  B  0.000215     4642\n",
      "5343   23  47734  A  B  0.001515     4620\n",
      "5347   23  48094  B  A  0.001106     4522\n",
      "5661   25  11864  A  B  0.001727     4632\n",
      "5802   26   9394  A  B  0.001518     4612\n",
      "5848   27  54657  A  B  0.001735     4610\n",
      "6162   29  57380  A  B  0.000431     4644\n",
      "SNP50A\n",
      "      CHR    SNP A1 A2       MAF  NCHROBS\n",
      "4017   15  14150  B  A  0.001623      616\n",
      "5378   23  55332  B  A  0.000000      610\n",
      "5801   26   9394  A  B  0.001623      616\n",
      "SNP50B\n",
      "      CHR    SNP A1 A2       MAF  NCHROBS\n",
      "2119    7  42702  A  B  0.001497      668\n",
      "3246   12  27958  B  A  0.001497      668\n",
      "5378   23  55332  B  A  0.001497      668\n",
      "SNP50C\n",
      "      CHR    SNP A1 A2       MAF  NCHROBS\n",
      "2420    8  17351  A  B  0.000305     6558\n",
      "3443   13  14125  A  B  0.000305     6554\n",
      "5661   25  11864  A  B  0.001374     6548\n",
      "5801   26   9394  A  B  0.001526     6554\n",
      "GGPLDV3\n",
      "      CHR    SNP A1 A2       MAF  NCHROBS\n",
      "3443   13  14125  A  B  0.000645     6198\n",
      "4501   18  46491  A  B  0.000162     6174\n",
      "4702   19  17640  A  B  0.000000     6110\n",
      "5378   23  55332  B  A  0.000486     6178\n",
      "5801   26   9394  A  B  0.000649     6162\n",
      "GGPLDV4\n",
      "      CHR    SNP A1 A2       MAF  NCHROBS\n",
      "35      1  49468  A  B  0.001408     4972\n",
      "440     2  30994  B  A  0.000201     4982\n",
      "603     2  47443  B  A  0.000602     4984\n",
      "755     3  47376  A  B  0.000803     4980\n",
      "967     3   9029  0  B  0.000000     4982\n",
      "1064    4  47564  A  B  0.001005     4974\n",
      "1097    4  47663  B  A  0.000805     4968\n",
      "1173    4  46699  0  B  0.000000     4984\n",
      "1268    4  22338  B  A  0.000402     4980\n",
      "1296    5  41333  0  A  0.000000     4980\n",
      "1301    5  38991  B  A  0.001606     4980\n",
      "1348    5  27092  0  A  0.000000     4956\n",
      "1350    5  45552  A  B  0.000602     4984\n",
      "1356    5  47162  B  A  0.000401     4982\n",
      "1403    5  45594  B  A  0.001807     4980\n",
      "1440    5  45048  A  B  0.000201     4980\n",
      "1654    6  45909  B  A  0.000201     4982\n",
      "1697    6  19548  A  B  0.000201     4980\n",
      "1859    6  46152  A  B  0.001204     4982\n",
      "2095    7  44524  A  B  0.000201     4980\n",
      "2327    8  45208  A  B  0.000201     4982\n",
      "2724   10  31707  A  B  0.001003     4984\n",
      "2966   11  44412  A  B  0.000602     4982\n",
      "3170   11  46936  A  B  0.000201     4970\n",
      "3306   12  27908  B  A  0.000402     4976\n",
      "3322   12  29726  B  A  0.001004     4982\n",
      "3386   12  50356  A  B  0.000803     4984\n",
      "3401   12  13068  A  B  0.001205     4980\n",
      "3436   13  45898  B  A  0.000402     4978\n",
      "3628   14  45014  A  B  0.000201     4978\n",
      "3630   14  46545  B  A  0.000402     4980\n",
      "3632   14  46372  0  B  0.000000     4982\n",
      "3651   14  45131  A  B  0.000603     4974\n",
      "3692   14  44938  B  A  0.000402     4978\n",
      "3923   15  47412  0  B  0.000000     4984\n",
      "3952   15  47088  0  B  0.000000     4978\n",
      "4000   15  30505  B  A  0.001807     4980\n",
      "4035   16  30589  A  B  0.001205     4978\n",
      "4051   16  51016  A  B  0.001003     4984\n",
      "4137   16  55334  B  A  0.001003     4984\n",
      "4170   16  45291  B  A  0.000201     4984\n",
      "4334   17  17932  A  B  0.000602     4984\n",
      "4591   19  45762  A  B  0.001208     4966\n",
      "4687   19  18914  B  A  0.000201     4982\n",
      "4869   20  47299  A  B  0.001606     4980\n",
      "5047   21  45610  A  B  0.000803     4982\n",
      "5325   23  53949  B  A  0.000401     4984\n",
      "5331   23  45260  A  B  0.000402     4978\n",
      "5569   25  46463  A  B  0.000401     4984\n",
      "GGP90KT\n",
      "      CHR    SNP A1 A2       MAF  NCHROBS\n",
      "2420    8  17351  A  B  0.000146     6846\n",
      "3443   13  14125  0  B  0.000000     6958\n",
      "5378   23  55332  B  A  0.001863     6978\n",
      "5801   26   9394  A  B  0.001731     6934\n",
      "HD\n",
      "      CHR    SNP A1 A2       MAF  NCHROBS\n",
      "4256   17  45004  A  B  0.001053      950\n",
      "5378   23  55332  B  A  0.001071      934\n"
     ]
    }
   ],
   "source": [
    "for k,i in allfreqs.items():\n",
    "    print(k)\n",
    "    print(i[i['MAF']<.002])"
   ]
  },
  {
   "cell_type": "code",
   "execution_count": null,
   "metadata": {
    "collapsed": true
   },
   "outputs": [],
   "source": [
    ",usecols=['SNP','MAF']"
   ]
  },
  {
   "cell_type": "code",
   "execution_count": 63,
   "metadata": {
    "collapsed": true
   },
   "outputs": [],
   "source": [
    "def singlesite(site):\n",
    "    site1 = site + 1\n",
    "    for k,i in allfreqs.items():\n",
    "        print(k)\n",
    "        print(i.iloc[site:site1,:8])"
   ]
  },
  {
   "cell_type": "code",
   "execution_count": 65,
   "metadata": {
    "collapsed": false
   },
   "outputs": [
    {
     "name": "stdout",
     "output_type": "stream",
     "text": [
      "GGPF250\n",
      "      CHR    SNP A1 A2  C(HOM A1)  C(HET)  C(HOM A2)  C(HAP A1)\n",
      "2420    8  17351  B  0        325       0          0          0\n",
      "GGPHDV3\n",
      "      CHR    SNP A1 A2  C(HOM A1)  C(HET)  C(HOM A2)  C(HAP A1)\n",
      "2420    8  17351  B  0       2320       0          0          0\n",
      "SNP50A\n",
      "      CHR    SNP A1 A2  C(HOM A1)  C(HET)  C(HOM A2)  C(HAP A1)\n",
      "2420    8  17351  B  0        307       0          0          0\n",
      "SNP50B\n",
      "      CHR    SNP A1 A2  C(HOM A1)  C(HET)  C(HOM A2)  C(HAP A1)\n",
      "2420    8  17351  B  0        333       0          0          0\n",
      "SNP50C\n",
      "      CHR    SNP A1 A2  C(HOM A1)  C(HET)  C(HOM A2)  C(HAP A1)\n",
      "2420    8  17351  A  B          0       2       3277          0\n",
      "GGPLDV3\n",
      "      CHR    SNP A1 A2  C(HOM A1)  C(HET)  C(HOM A2)  C(HAP A1)\n",
      "2420    8  17351  B  0       3097       0          0          0\n",
      "GGPLDV4\n",
      "      CHR    SNP A1 A2  C(HOM A1)  C(HET)  C(HOM A2)  C(HAP A1)\n",
      "2420    8  17351  B  A        317    1183        989          0\n",
      "GGP90KT\n",
      "      CHR    SNP A1 A2  C(HOM A1)  C(HET)  C(HOM A2)  C(HAP A1)\n",
      "2420    8  17351  A  B          0       1       3422          0\n",
      "HD\n",
      "      CHR    SNP A1 A2  C(HOM A1)  C(HET)  C(HOM A2)  C(HAP A1)\n",
      "2420    8  17351  B  0        474       0          0          0\n"
     ]
    }
   ],
   "source": [
    "singlesite(2420)"
   ]
  },
  {
   "cell_type": "markdown",
   "metadata": {},
   "source": [
    "GGPLDV4 has sites that are only fixed within it, and sites that are heterozygous in it, but fixed everywhere else"
   ]
  },
  {
   "cell_type": "code",
   "execution_count": 62,
   "metadata": {
    "collapsed": false
   },
   "outputs": [
    {
     "name": "stdout",
     "output_type": "stream",
     "text": [
      "GGPF250\n",
      "      CHR    SNP A1 A2  C(HOM A1)  C(HET)  C(HOM A2)  C(HAP A1)\n",
      "1912    7  58099  A  B         31     126        168          0\n",
      "GGPHDV3\n",
      "      CHR    SNP A1 A2  C(HOM A1)  C(HET)  C(HOM A2)  C(HAP A1)\n",
      "1912    7  58099  A  0       2272       0          0          0\n",
      "SNP50A\n",
      "      CHR    SNP A1 A2  C(HOM A1)  C(HET)  C(HOM A2)  C(HAP A1)\n",
      "1912    7  58099  A  B         45     151        112          0\n",
      "SNP50B\n",
      "      CHR    SNP A1 A2  C(HOM A1)  C(HET)  C(HOM A2)  C(HAP A1)\n",
      "1912    7  58099  A  B         21     120        193          0\n",
      "SNP50C\n",
      "      CHR    SNP A1 A2  C(HOM A1)  C(HET)  C(HOM A2)  C(HAP A1)\n",
      "1912    7  58099  A  B        350    1404       1526          0\n",
      "GGPLDV3\n",
      "      CHR    SNP A1 A2  C(HOM A1)  C(HET)  C(HOM A2)  C(HAP A1)\n",
      "1912    7  58099  A  B        319    1289       1475          0\n",
      "GGPLDV4\n",
      "      CHR    SNP A1 A2  C(HOM A1)  C(HET)  C(HOM A2)  C(HAP A1)\n",
      "1912    7  58099  B  A        557    1233        697          0\n",
      "GGP90KT\n",
      "      CHR    SNP A1 A2  C(HOM A1)  C(HET)  C(HOM A2)  C(HAP A1)\n",
      "1912    7  58099  A  B        421    1580       1484          0\n",
      "HD\n",
      "      CHR    SNP A1 A2  C(HOM A1)  C(HET)  C(HOM A2)  C(HAP A1)\n",
      "1912    7  58099  A  B         72     220        183          0\n"
     ]
    }
   ],
   "source": [
    "for k,i in allfreqs.items():\n",
    "    print(k)\n",
    "    print(i.iloc[1912:1913,:8])\n"
   ]
  },
  {
   "cell_type": "code",
   "execution_count": 55,
   "metadata": {
    "collapsed": false
   },
   "outputs": [
    {
     "name": "stdout",
     "output_type": "stream",
     "text": [
      "GGPF250\n",
      "    CHR    SNP A1 A2  C(HOM A1)  C(HET)  C(HOM A2)  C(HAP A1)\n",
      "35    1  49468  B  A         54     168         96          0\n",
      "GGPHDV3\n",
      "    CHR    SNP A1 A2  C(HOM A1)  C(HET)  C(HOM A2)  C(HAP A1)\n",
      "35    1  49468  B  0       2321       0          0          0\n",
      "SNP50A\n",
      "    CHR    SNP A1 A2  C(HOM A1)  C(HET)  C(HOM A2)  C(HAP A1)\n",
      "35    1  49468  B  A         69     135        103          0\n",
      "SNP50B\n",
      "    CHR    SNP A1 A2  C(HOM A1)  C(HET)  C(HOM A2)  C(HAP A1)\n",
      "35    1  49468  B  A         59     164        111          0\n",
      "SNP50C\n",
      "    CHR    SNP A1 A2  C(HOM A1)  C(HET)  C(HOM A2)  C(HAP A1)\n",
      "35    1  49468  B  A        639    1615       1023          0\n",
      "GGPLDV3\n",
      "    CHR    SNP A1 A2  C(HOM A1)  C(HET)  C(HOM A2)  C(HAP A1)\n",
      "35    1  49468  B  A        624    1520        943          0\n",
      "GGPLDV4\n",
      "    CHR    SNP A1 A2  C(HOM A1)  C(HET)  C(HOM A2)  C(HAP A1)\n",
      "35    1  49468  A  B          0       7       2479          0\n",
      "GGP90KT\n",
      "    CHR    SNP A1 A2  C(HOM A1)  C(HET)  C(HOM A2)  C(HAP A1)\n",
      "35    1  49468  B  A        811    1705        967          0\n",
      "HD\n",
      "    CHR    SNP A1 A2  C(HOM A1)  C(HET)  C(HOM A2)  C(HAP A1)\n",
      "35    1  49468  B  A         89     221        158          0\n"
     ]
    }
   ],
   "source": [
    "for k,i in allfreqs.items():\n",
    "    print(k)\n",
    "    print(i.iloc[35:36,:8])"
   ]
  },
  {
   "cell_type": "code",
   "execution_count": 54,
   "metadata": {
    "collapsed": false
   },
   "outputs": [
    {
     "name": "stdout",
     "output_type": "stream",
     "text": [
      "GGPF250\n",
      "      CHR    SNP A1 A2  C(HOM A1)  C(HET)  C(HOM A2)  C(HAP A1)\n",
      "4581   19  11379  B  A         34     153        138          0\n",
      "GGPHDV3\n",
      "      CHR    SNP A1 A2  C(HOM A1)  C(HET)  C(HOM A2)  C(HAP A1)\n",
      "4581   19  11379  B  A        453    1169        700          0\n",
      "SNP50A\n",
      "      CHR    SNP A1 A2  C(HOM A1)  C(HET)  C(HOM A2)  C(HAP A1)\n",
      "4581   19  11379  B  A         80     141         86          0\n",
      "SNP50B\n",
      "      CHR    SNP A1 A2  C(HOM A1)  C(HET)  C(HOM A2)  C(HAP A1)\n",
      "4581   19  11379  B  A         35     134        165          0\n",
      "SNP50C\n",
      "      CHR    SNP A1 A2  C(HOM A1)  C(HET)  C(HOM A2)  C(HAP A1)\n",
      "4581   19  11379  B  A        562    1626       1091          0\n",
      "GGPLDV3\n",
      "      CHR    SNP A1 A2  C(HOM A1)  C(HET)  C(HOM A2)  C(HAP A1)\n",
      "4581   19  11379  B  A        508    1510       1070          0\n",
      "GGPLDV4\n",
      "      CHR    SNP A1 A2  C(HOM A1)  C(HET)  C(HOM A2)  C(HAP A1)\n",
      "4581   19  11379  A  0       2492       0          0          0\n",
      "GGP90KT\n",
      "      CHR    SNP A1 A2  C(HOM A1)  C(HET)  C(HOM A2)  C(HAP A1)\n",
      "4581   19  11379  B  A        671    1763       1055          0\n",
      "HD\n",
      "      CHR    SNP A1 A2  C(HOM A1)  C(HET)  C(HOM A2)  C(HAP A1)\n",
      "4581   19  11379  B  A         98     227        150          0\n"
     ]
    }
   ],
   "source": [
    "for k,i in allfreqs.items():\n",
    "    print(k)\n",
    "    print(i.iloc[4581:4582,:8])\n"
   ]
  },
  {
   "cell_type": "code",
   "execution_count": 32,
   "metadata": {
    "collapsed": false
   },
   "outputs": [
    {
     "name": "stdout",
     "output_type": "stream",
     "text": [
      "      CHR    SNP A1 A2  C(HOM A1)  C(HET)  C(HOM A2)  C(HAP A1)\n",
      "2420    8  17351  B  0       2320       0          0          0\n",
      "      CHR    SNP A1 A2  C(HOM A1)  C(HET)  C(HOM A2)  C(HAP A1)\n",
      "2420    8  17351  B  0        325       0          0          0\n",
      "      CHR    SNP A1 A2  C(HOM A1)  C(HET)  C(HOM A2)  C(HAP A1)\n",
      "2420    8  17351  B  0       3097       0          0          0\n",
      "      CHR    SNP A1 A2  C(HOM A1)  C(HET)  C(HOM A2)  C(HAP A1)\n",
      "2420    8  17351  B  A        317    1183        989          0\n",
      "      CHR    SNP A1 A2  C(HOM A1)  C(HET)  C(HOM A2)  C(HAP A1)\n",
      "2420    8  17351  B  0        307       0          0          0\n",
      "      CHR    SNP A1 A2  C(HOM A1)  C(HET)  C(HOM A2)  C(HAP A1)\n",
      "2420    8  17351  B  0        333       0          0          0\n",
      "      CHR    SNP A1 A2  C(HOM A1)  C(HET)  C(HOM A2)  C(HAP A1)\n",
      "2420    8  17351  A  B          0       2       3277          0\n",
      "      CHR    SNP A1 A2  C(HOM A1)  C(HET)  C(HOM A2)  C(HAP A1)\n",
      "2420    8  17351  A  B          0       1       3422          0\n",
      "      CHR    SNP A1 A2  C(HOM A1)  C(HET)  C(HOM A2)  C(HAP A1)\n",
      "2420    8  17351  B  0        474       0          0          0\n"
     ]
    }
   ],
   "source": [
    "for i in allfreqs:\n",
    "    print(i.iloc[2420:2421,:8])\n"
   ]
  },
  {
   "cell_type": "code",
   "execution_count": 38,
   "metadata": {
    "collapsed": false
   },
   "outputs": [
    {
     "name": "stdout",
     "output_type": "stream",
     "text": [
      "8\t17351\tB\tA\t13497\t1186\t989\t0\t0\t78\r\n"
     ]
    }
   ],
   "source": [
    "! grep 17351 ../merged_strand/170112_merged.frqx "
   ]
  },
  {
   "cell_type": "code",
   "execution_count": 33,
   "metadata": {
    "collapsed": false
   },
   "outputs": [
    {
     "name": "stdout",
     "output_type": "stream",
     "text": [
      "      CHR    SNP A1 A2  C(HOM A1)  C(HET)  C(HOM A2)  C(HAP A1)\n",
      "4702   19  17640  B  0       2323       0          0          0\n",
      "      CHR    SNP A1 A2  C(HOM A1)  C(HET)  C(HOM A2)  C(HAP A1)\n",
      "4702   19  17640  B  0        325       0          0          0\n",
      "      CHR    SNP A1 A2  C(HOM A1)  C(HET)  C(HOM A2)  C(HAP A1)\n",
      "4702   19  17640  A  B          0       0       3055          0\n",
      "      CHR    SNP A1 A2  C(HOM A1)  C(HET)  C(HOM A2)  C(HAP A1)\n",
      "4702   19  17640  B  A        432    1290        768          0\n",
      "      CHR    SNP A1 A2  C(HOM A1)  C(HET)  C(HOM A2)  C(HAP A1)\n",
      "4702   19  17640  B  0        308       0          0          0\n",
      "      CHR    SNP A1 A2  C(HOM A1)  C(HET)  C(HOM A2)  C(HAP A1)\n",
      "4702   19  17640  B  0        334       0          0          0\n",
      "      CHR    SNP A1 A2  C(HOM A1)  C(HET)  C(HOM A2)  C(HAP A1)\n",
      "4702   19  17640  B  0       3280       0          0          0\n",
      "      CHR    SNP A1 A2  C(HOM A1)  C(HET)  C(HOM A2)  C(HAP A1)\n",
      "4702   19  17640  B  0       3491       0          0          0\n",
      "      CHR    SNP A1 A2  C(HOM A1)  C(HET)  C(HOM A2)  C(HAP A1)\n",
      "4702   19  17640  B  0        475       0          0          0\n"
     ]
    },
    {
     "data": {
      "text/plain": [
       "4702"
      ]
     },
     "execution_count": 33,
     "metadata": {},
     "output_type": "execute_result"
    }
   ],
   "source": [
    "for i in allfreqs:\n",
    "    print(i.iloc[4702:4703,:8])\n",
    "4702"
   ]
  },
  {
   "cell_type": "code",
   "execution_count": 35,
   "metadata": {
    "collapsed": false
   },
   "outputs": [
    {
     "data": {
      "text/plain": [
       "'30105.170112.2500.GGPLDV4.frqx'"
      ]
     },
     "execution_count": 35,
     "metadata": {},
     "output_type": "execute_result"
    }
   ],
   "source": [
    "freqs[3]"
   ]
  },
  {
   "cell_type": "code",
   "execution_count": 36,
   "metadata": {
    "collapsed": false
   },
   "outputs": [
    {
     "name": "stdout",
     "output_type": "stream",
     "text": [
      "      CHR    SNP A1 A2  C(HOM A1)  C(HET)  C(HOM A2)  C(HAP A1)\n",
      "1296    5  41333  A  B        568    1135        607          0\n",
      "      CHR    SNP A1 A2  C(HOM A1)  C(HET)  C(HOM A2)  C(HAP A1)\n",
      "1296    5  41333  A  B         83     155         85          0\n",
      "      CHR    SNP A1 A2  C(HOM A1)  C(HET)  C(HOM A2)  C(HAP A1)\n",
      "1296    5  41333  B  A        778    1431        785          0\n",
      "      CHR    SNP A1 A2  C(HOM A1)  C(HET)  C(HOM A2)  C(HAP A1)\n",
      "1296    5  41333  0  A          0       0       2490          0\n",
      "      CHR    SNP A1 A2  C(HOM A1)  C(HET)  C(HOM A2)  C(HAP A1)\n",
      "1296    5  41333  A  B         73     155         75          0\n",
      "      CHR    SNP A1 A2  C(HOM A1)  C(HET)  C(HOM A2)  C(HAP A1)\n",
      "1296    5  41333  A  B         77     160         92          0\n",
      "      CHR    SNP A1 A2  C(HOM A1)  C(HET)  C(HOM A2)  C(HAP A1)\n",
      "1296    5  41333  B  A        776    1639        849          0\n",
      "      CHR    SNP A1 A2  C(HOM A1)  C(HET)  C(HOM A2)  C(HAP A1)\n",
      "1296    5  41333  A  B        830    1637        929          0\n",
      "      CHR    SNP A1 A2  C(HOM A1)  C(HET)  C(HOM A2)  C(HAP A1)\n",
      "1296    5  41333  A  B        105     248        117          0\n"
     ]
    },
    {
     "data": {
      "text/plain": [
       "1296"
      ]
     },
     "execution_count": 36,
     "metadata": {},
     "output_type": "execute_result"
    }
   ],
   "source": [
    "for i in allfreqs:\n",
    "    print(i.iloc[1296:1297,:8])\n",
    "4702\n",
    "1296"
   ]
  },
  {
   "cell_type": "code",
   "execution_count": 39,
   "metadata": {
    "collapsed": false
   },
   "outputs": [
    {
     "name": "stdout",
     "output_type": "stream",
     "text": [
      "Empty DataFrame\n",
      "Columns: [CHR, SNP, A1, A2, C(HOM A1), C(HET), C(HOM A2), C(HAP A1)]\n",
      "Index: []\n",
      "Empty DataFrame\n",
      "Columns: [CHR, SNP, A1, A2, C(HOM A1), C(HET), C(HOM A2), C(HAP A1)]\n",
      "Index: []\n",
      "Empty DataFrame\n",
      "Columns: [CHR, SNP, A1, A2, C(HOM A1), C(HET), C(HOM A2), C(HAP A1)]\n",
      "Index: []\n",
      "Empty DataFrame\n",
      "Columns: [CHR, SNP, A1, A2, C(HOM A1), C(HET), C(HOM A2), C(HAP A1)]\n",
      "Index: []\n",
      "Empty DataFrame\n",
      "Columns: [CHR, SNP, A1, A2, C(HOM A1), C(HET), C(HOM A2), C(HAP A1)]\n",
      "Index: []\n",
      "Empty DataFrame\n",
      "Columns: [CHR, SNP, A1, A2, C(HOM A1), C(HET), C(HOM A2), C(HAP A1)]\n",
      "Index: []\n",
      "Empty DataFrame\n",
      "Columns: [CHR, SNP, A1, A2, C(HOM A1), C(HET), C(HOM A2), C(HAP A1)]\n",
      "Index: []\n",
      "Empty DataFrame\n",
      "Columns: [CHR, SNP, A1, A2, C(HOM A1), C(HET), C(HOM A2), C(HAP A1)]\n",
      "Index: []\n",
      "Empty DataFrame\n",
      "Columns: [CHR, SNP, A1, A2, C(HOM A1), C(HET), C(HOM A2), C(HAP A1)]\n",
      "Index: []\n"
     ]
    }
   ],
   "source": [
    "for i in allfreqs:\n",
    "    print(i.iloc[49468:49469,:8])\n"
   ]
  },
  {
   "cell_type": "code",
   "execution_count": null,
   "metadata": {
    "collapsed": true
   },
   "outputs": [],
   "source": []
  }
 ],
 "metadata": {
  "anaconda-cloud": {},
  "kernelspec": {
   "display_name": "Python [default]",
   "language": "python",
   "name": "python2"
  },
  "language_info": {
   "codemirror_mode": {
    "name": "ipython",
    "version": 2
   },
   "file_extension": ".py",
   "mimetype": "text/x-python",
   "name": "python",
   "nbconvert_exporter": "python",
   "pygments_lexer": "ipython2",
   "version": "2.7.12"
  }
 },
 "nbformat": 4,
 "nbformat_minor": 1
}
