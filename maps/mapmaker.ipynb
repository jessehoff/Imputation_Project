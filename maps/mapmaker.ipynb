{
 "cells": [
  {
   "cell_type": "code",
   "execution_count": 2,
   "metadata": {
    "collapsed": false
   },
   "outputs": [],
   "source": [
    "import pandas as pd"
   ]
  },
  {
   "cell_type": "code",
   "execution_count": 3,
   "metadata": {
    "collapsed": false
   },
   "outputs": [
    {
     "name": "stdout",
     "output_type": "stream",
     "text": [
      "position COMBINED_rate(cM/Mb) Genetic_Map(cM)\r\n",
      "253938 0.2214599891 0\r\n",
      "256859 0.2213076426 0.0006464396240346\r\n",
      "259772 0.2213078499 0.0012911093907933\r\n",
      "260970 0.2215185766 0.0015564886455601\r\n",
      "261033 0.2216183478 0.0015704506014715\r\n",
      "266034 0.5755014328 0.0044485332669043\r\n",
      "266544 1.8320684644 0.0053828881837483\r\n",
      "267039 1.8311074306 0.0062892863618953\r\n",
      "267213 1.8285203221 0.0066074488979407\r\n"
     ]
    }
   ],
   "source": [
    "! head genetic_map_chr19_combined_b37.txt"
   ]
  },
  {
   "cell_type": "code",
   "execution_count": 4,
   "metadata": {
    "collapsed": false
   },
   "outputs": [
    {
     "name": "stdout",
     "output_type": "stream",
     "text": [
      "10\t1320642\t0.006391\t6391\t0\tB\r\n",
      "10\t1320643\t0.018238\t18238\t0\tB\r\n",
      "10\t1320644\t0.023914\t23914\tB\tA\r\n",
      "10\t16743\t0.041893\t41893\tA\tB\r\n",
      "10\t1320645\t0.050818\t50818\tA\tB\r\n",
      "10\t1320646\t0.058987\t58987\tB\tA\r\n",
      "10\t1320647\t0.068571\t68571\tB\tA\r\n",
      "10\t1320648\t0.074187\t74187\t0\tB\r\n",
      "10\t1320649\t0.079479\t79479\tA\tB\r\n",
      "10\t1320650\t0.08935\t89350\tB\tA\r\n"
     ]
    }
   ],
   "source": [
    "! head ../chrsplit/merged.chr10.bim"
   ]
  },
  {
   "cell_type": "code",
   "execution_count": 62,
   "metadata": {
    "collapsed": false
   },
   "outputs": [
    {
     "data": {
      "text/html": [
       "<div>\n",
       "<table border=\"1\" class=\"dataframe\">\n",
       "  <thead>\n",
       "    <tr style=\"text-align: right;\">\n",
       "      <th></th>\n",
       "      <th>position</th>\n",
       "      <th>COMBINED_rate(cM/Mb)</th>\n",
       "      <th>Genetic_Map(cM)</th>\n",
       "    </tr>\n",
       "  </thead>\n",
       "  <tbody>\n",
       "    <tr>\n",
       "      <th>0</th>\n",
       "      <td>10865933</td>\n",
       "      <td>0.624737</td>\n",
       "      <td>0.000000</td>\n",
       "    </tr>\n",
       "    <tr>\n",
       "      <th>1</th>\n",
       "      <td>10906723</td>\n",
       "      <td>0.623115</td>\n",
       "      <td>0.025417</td>\n",
       "    </tr>\n",
       "    <tr>\n",
       "      <th>2</th>\n",
       "      <td>10906915</td>\n",
       "      <td>0.497653</td>\n",
       "      <td>0.025512</td>\n",
       "    </tr>\n",
       "    <tr>\n",
       "      <th>3</th>\n",
       "      <td>10906989</td>\n",
       "      <td>0.496580</td>\n",
       "      <td>0.025549</td>\n",
       "    </tr>\n",
       "    <tr>\n",
       "      <th>4</th>\n",
       "      <td>10907208</td>\n",
       "      <td>0.495380</td>\n",
       "      <td>0.025658</td>\n",
       "    </tr>\n",
       "  </tbody>\n",
       "</table>\n",
       "</div>"
      ],
      "text/plain": [
       "   position  COMBINED_rate(cM/Mb)  Genetic_Map(cM)\n",
       "0  10865933              0.624737         0.000000\n",
       "1  10906723              0.623115         0.025417\n",
       "2  10906915              0.497653         0.025512\n",
       "3  10906989              0.496580         0.025549\n",
       "4  10907208              0.495380         0.025658"
      ]
     },
     "execution_count": 62,
     "metadata": {},
     "output_type": "execute_result"
    }
   ],
   "source": [
    "goodmap = pd.read_table('genetic_map_chr21_combined_b37.txt',delim_whitespace=True)\n",
    "goodmap.head()"
   ]
  },
  {
   "cell_type": "code",
   "execution_count": 63,
   "metadata": {
    "collapsed": false
   },
   "outputs": [
    {
     "data": {
      "text/html": [
       "<div>\n",
       "<table border=\"1\" class=\"dataframe\">\n",
       "  <thead>\n",
       "    <tr style=\"text-align: right;\">\n",
       "      <th></th>\n",
       "      <th>position</th>\n",
       "      <th>COMBINED_rate(cM/Mb)</th>\n",
       "      <th>Genetic_Map(cM)</th>\n",
       "      <th>space</th>\n",
       "      <th>mapjump</th>\n",
       "      <th>test</th>\n",
       "    </tr>\n",
       "  </thead>\n",
       "  <tbody>\n",
       "    <tr>\n",
       "      <th>0</th>\n",
       "      <td>10865933</td>\n",
       "      <td>0.624737</td>\n",
       "      <td>0.000000</td>\n",
       "      <td>10865933.0</td>\n",
       "      <td>0.000000</td>\n",
       "      <td>0.000000</td>\n",
       "    </tr>\n",
       "    <tr>\n",
       "      <th>1</th>\n",
       "      <td>10906723</td>\n",
       "      <td>0.623115</td>\n",
       "      <td>0.025417</td>\n",
       "      <td>40790.0</td>\n",
       "      <td>0.025417</td>\n",
       "      <td>0.623115</td>\n",
       "    </tr>\n",
       "    <tr>\n",
       "      <th>2</th>\n",
       "      <td>10906915</td>\n",
       "      <td>0.497653</td>\n",
       "      <td>0.025512</td>\n",
       "      <td>192.0</td>\n",
       "      <td>0.000096</td>\n",
       "      <td>0.497653</td>\n",
       "    </tr>\n",
       "    <tr>\n",
       "      <th>3</th>\n",
       "      <td>10906989</td>\n",
       "      <td>0.496580</td>\n",
       "      <td>0.025549</td>\n",
       "      <td>74.0</td>\n",
       "      <td>0.000037</td>\n",
       "      <td>0.496580</td>\n",
       "    </tr>\n",
       "    <tr>\n",
       "      <th>4</th>\n",
       "      <td>10907208</td>\n",
       "      <td>0.495380</td>\n",
       "      <td>0.025658</td>\n",
       "      <td>219.0</td>\n",
       "      <td>0.000108</td>\n",
       "      <td>0.495380</td>\n",
       "    </tr>\n",
       "  </tbody>\n",
       "</table>\n",
       "</div>"
      ],
      "text/plain": [
       "   position  COMBINED_rate(cM/Mb)  Genetic_Map(cM)       space   mapjump  \\\n",
       "0  10865933              0.624737         0.000000  10865933.0  0.000000   \n",
       "1  10906723              0.623115         0.025417     40790.0  0.025417   \n",
       "2  10906915              0.497653         0.025512       192.0  0.000096   \n",
       "3  10906989              0.496580         0.025549        74.0  0.000037   \n",
       "4  10907208              0.495380         0.025658       219.0  0.000108   \n",
       "\n",
       "       test  \n",
       "0  0.000000  \n",
       "1  0.623115  \n",
       "2  0.497653  \n",
       "3  0.496580  \n",
       "4  0.495380  "
      ]
     },
     "execution_count": 63,
     "metadata": {},
     "output_type": "execute_result"
    }
   ],
   "source": [
    "goodmap['space'] = goodmap.position - goodmap.position.shift(1).fillna(0) \n",
    "goodmap['mapjump'] = goodmap['Genetic_Map(cM)'] -  goodmap['Genetic_Map(cM)'].shift(1).fillna(0)\n",
    "goodmap['test'] = (goodmap.mapjump/goodmap.space) * 1000000\n",
    "goodmap.head()\n",
    "#goodmap.ix[22285:22290,:]"
   ]
  },
  {
   "cell_type": "code",
   "execution_count": 64,
   "metadata": {
    "collapsed": false
   },
   "outputs": [
    {
     "data": {
      "text/html": [
       "<div>\n",
       "<table border=\"1\" class=\"dataframe\">\n",
       "  <thead>\n",
       "    <tr style=\"text-align: right;\">\n",
       "      <th></th>\n",
       "      <th>position</th>\n",
       "      <th>COMBINED_rate(cM/Mb)</th>\n",
       "      <th>Genetic_Map(cM)</th>\n",
       "      <th>space</th>\n",
       "      <th>mapjump</th>\n",
       "      <th>test</th>\n",
       "    </tr>\n",
       "  </thead>\n",
       "  <tbody>\n",
       "    <tr>\n",
       "      <th>42967</th>\n",
       "      <td>48089527</td>\n",
       "      <td>0.942940</td>\n",
       "      <td>64.628823</td>\n",
       "      <td>1681.0</td>\n",
       "      <td>0.001585</td>\n",
       "      <td>0.942940</td>\n",
       "    </tr>\n",
       "    <tr>\n",
       "      <th>42968</th>\n",
       "      <td>48090629</td>\n",
       "      <td>1.100314</td>\n",
       "      <td>64.630035</td>\n",
       "      <td>1102.0</td>\n",
       "      <td>0.001213</td>\n",
       "      <td>1.100314</td>\n",
       "    </tr>\n",
       "    <tr>\n",
       "      <th>42969</th>\n",
       "      <td>48095858</td>\n",
       "      <td>3.070103</td>\n",
       "      <td>64.646089</td>\n",
       "      <td>5229.0</td>\n",
       "      <td>0.016054</td>\n",
       "      <td>3.070103</td>\n",
       "    </tr>\n",
       "    <tr>\n",
       "      <th>42970</th>\n",
       "      <td>48097610</td>\n",
       "      <td>3.068003</td>\n",
       "      <td>64.651464</td>\n",
       "      <td>1752.0</td>\n",
       "      <td>0.005375</td>\n",
       "      <td>3.068003</td>\n",
       "    </tr>\n",
       "    <tr>\n",
       "      <th>42971</th>\n",
       "      <td>48100155</td>\n",
       "      <td>0.000000</td>\n",
       "      <td>64.651464</td>\n",
       "      <td>2545.0</td>\n",
       "      <td>0.000000</td>\n",
       "      <td>0.000000</td>\n",
       "    </tr>\n",
       "  </tbody>\n",
       "</table>\n",
       "</div>"
      ],
      "text/plain": [
       "       position  COMBINED_rate(cM/Mb)  Genetic_Map(cM)   space   mapjump  \\\n",
       "42967  48089527              0.942940        64.628823  1681.0  0.001585   \n",
       "42968  48090629              1.100314        64.630035  1102.0  0.001213   \n",
       "42969  48095858              3.070103        64.646089  5229.0  0.016054   \n",
       "42970  48097610              3.068003        64.651464  1752.0  0.005375   \n",
       "42971  48100155              0.000000        64.651464  2545.0  0.000000   \n",
       "\n",
       "           test  \n",
       "42967  0.942940  \n",
       "42968  1.100314  \n",
       "42969  3.070103  \n",
       "42970  3.068003  \n",
       "42971  0.000000  "
      ]
     },
     "execution_count": 64,
     "metadata": {},
     "output_type": "execute_result"
    }
   ],
   "source": [
    "goodmap.tail()"
   ]
  },
  {
   "cell_type": "code",
   "execution_count": 53,
   "metadata": {
    "collapsed": false
   },
   "outputs": [
    {
     "data": {
      "text/html": [
       "<div>\n",
       "<table border=\"1\" class=\"dataframe\">\n",
       "  <thead>\n",
       "    <tr style=\"text-align: right;\">\n",
       "      <th></th>\n",
       "      <th>position</th>\n",
       "      <th>COMBINED_rate(cM/Mb)</th>\n",
       "      <th>Genetic_Map(cM)</th>\n",
       "      <th>space</th>\n",
       "      <th>mapjump</th>\n",
       "      <th>test</th>\n",
       "    </tr>\n",
       "  </thead>\n",
       "  <tbody>\n",
       "    <tr>\n",
       "      <th>0</th>\n",
       "      <td>16051347</td>\n",
       "      <td>9.664097</td>\n",
       "      <td>0.000000</td>\n",
       "      <td>16051347.0</td>\n",
       "      <td>0.000000</td>\n",
       "      <td>0.000000</td>\n",
       "    </tr>\n",
       "    <tr>\n",
       "      <th>1</th>\n",
       "      <td>16052618</td>\n",
       "      <td>9.707806</td>\n",
       "      <td>0.012339</td>\n",
       "      <td>1271.0</td>\n",
       "      <td>0.012339</td>\n",
       "      <td>9.707806</td>\n",
       "    </tr>\n",
       "    <tr>\n",
       "      <th>2</th>\n",
       "      <td>16053624</td>\n",
       "      <td>9.713892</td>\n",
       "      <td>0.022111</td>\n",
       "      <td>1006.0</td>\n",
       "      <td>0.009772</td>\n",
       "      <td>9.713892</td>\n",
       "    </tr>\n",
       "    <tr>\n",
       "      <th>3</th>\n",
       "      <td>16053659</td>\n",
       "      <td>9.716344</td>\n",
       "      <td>0.022451</td>\n",
       "      <td>35.0</td>\n",
       "      <td>0.000340</td>\n",
       "      <td>9.716344</td>\n",
       "    </tr>\n",
       "    <tr>\n",
       "      <th>4</th>\n",
       "      <td>16053758</td>\n",
       "      <td>9.707809</td>\n",
       "      <td>0.023412</td>\n",
       "      <td>99.0</td>\n",
       "      <td>0.000961</td>\n",
       "      <td>9.707809</td>\n",
       "    </tr>\n",
       "  </tbody>\n",
       "</table>\n",
       "</div>"
      ],
      "text/plain": [
       "   position  COMBINED_rate(cM/Mb)  Genetic_Map(cM)       space   mapjump  \\\n",
       "0  16051347              9.664097         0.000000  16051347.0  0.000000   \n",
       "1  16052618              9.707806         0.012339      1271.0  0.012339   \n",
       "2  16053624              9.713892         0.022111      1006.0  0.009772   \n",
       "3  16053659              9.716344         0.022451        35.0  0.000340   \n",
       "4  16053758              9.707809         0.023412        99.0  0.000961   \n",
       "\n",
       "       test  \n",
       "0  0.000000  \n",
       "1  9.707806  \n",
       "2  9.713892  \n",
       "3  9.716344  \n",
       "4  9.707809  "
      ]
     },
     "execution_count": 53,
     "metadata": {},
     "output_type": "execute_result"
    }
   ],
   "source": [
    "goodmap.head(5)"
   ]
  },
  {
   "cell_type": "code",
   "execution_count": null,
   "metadata": {
    "collapsed": true
   },
   "outputs": [],
   "source": [
    "72765 0.12455 0.00000\n",
    "94172 0.12458 0.00266\n",
    "94426 0.12461 0.00269"
   ]
  },
  {
   "cell_type": "code",
   "execution_count": 61,
   "metadata": {
    "collapsed": false
   },
   "outputs": [
    {
     "data": {
      "text/plain": [
       "3.16357e-05"
      ]
     },
     "execution_count": 61,
     "metadata": {},
     "output_type": "execute_result"
    }
   ],
   "source": [
    "(94426 - 94172) * .12455 /1000000"
   ]
  },
  {
   "cell_type": "code",
   "execution_count": 29,
   "metadata": {
    "collapsed": false
   },
   "outputs": [
    {
     "data": {
      "text/html": [
       "<div>\n",
       "<table border=\"1\" class=\"dataframe\">\n",
       "  <thead>\n",
       "    <tr style=\"text-align: right;\">\n",
       "      <th></th>\n",
       "      <th>position</th>\n",
       "      <th>cM</th>\n",
       "    </tr>\n",
       "  </thead>\n",
       "  <tbody>\n",
       "    <tr>\n",
       "      <th>0</th>\n",
       "      <td>17690</td>\n",
       "      <td>0.017690</td>\n",
       "    </tr>\n",
       "    <tr>\n",
       "      <th>1</th>\n",
       "      <td>32857</td>\n",
       "      <td>0.032857</td>\n",
       "    </tr>\n",
       "    <tr>\n",
       "      <th>2</th>\n",
       "      <td>40025</td>\n",
       "      <td>0.040025</td>\n",
       "    </tr>\n",
       "    <tr>\n",
       "      <th>3</th>\n",
       "      <td>47181</td>\n",
       "      <td>0.047181</td>\n",
       "    </tr>\n",
       "    <tr>\n",
       "      <th>4</th>\n",
       "      <td>60964</td>\n",
       "      <td>0.060964</td>\n",
       "    </tr>\n",
       "  </tbody>\n",
       "</table>\n",
       "</div>"
      ],
      "text/plain": [
       "   position        cM\n",
       "0     17690  0.017690\n",
       "1     32857  0.032857\n",
       "2     40025  0.040025\n",
       "3     47181  0.047181\n",
       "4     60964  0.060964"
      ]
     },
     "execution_count": 29,
     "metadata": {},
     "output_type": "execute_result"
    }
   ],
   "source": [
    "buildmap = pd.read_table('../chrsplit/merged.chr25.bim',delim_whitespace=True,header=None,usecols=[2,3])\n",
    "buildmap = buildmap.reindex(columns=[3,2])\n",
    "buildmap.columns = ['position','cM']\n",
    "buildmap.head()"
   ]
  },
  {
   "cell_type": "code",
   "execution_count": 103,
   "metadata": {
    "collapsed": false
   },
   "outputs": [
    {
     "data": {
      "text/html": [
       "<div>\n",
       "<table border=\"1\" class=\"dataframe\">\n",
       "  <thead>\n",
       "    <tr style=\"text-align: right;\">\n",
       "      <th></th>\n",
       "      <th>position</th>\n",
       "      <th>cM</th>\n",
       "      <th>space</th>\n",
       "      <th>mapjump</th>\n",
       "      <th>test</th>\n",
       "      <th>cm2</th>\n",
       "      <th>COMBINED_rate(cM/Mb)</th>\n",
       "      <th>Genetic_Map(cM)</th>\n",
       "    </tr>\n",
       "  </thead>\n",
       "  <tbody>\n",
       "    <tr>\n",
       "      <th>11942</th>\n",
       "      <td>31214079</td>\n",
       "      <td>31.2141</td>\n",
       "      <td>895.0</td>\n",
       "      <td>0.000895</td>\n",
       "      <td>1.0</td>\n",
       "      <td>31.214079</td>\n",
       "      <td>1.0</td>\n",
       "      <td>31.214079</td>\n",
       "    </tr>\n",
       "    <tr>\n",
       "      <th>11672</th>\n",
       "      <td>30056411</td>\n",
       "      <td>30.0564</td>\n",
       "      <td>2623.0</td>\n",
       "      <td>0.002623</td>\n",
       "      <td>1.0</td>\n",
       "      <td>30.056411</td>\n",
       "      <td>1.0</td>\n",
       "      <td>30.056411</td>\n",
       "    </tr>\n",
       "    <tr>\n",
       "      <th>4185</th>\n",
       "      <td>10246210</td>\n",
       "      <td>10.2462</td>\n",
       "      <td>1270.0</td>\n",
       "      <td>0.001270</td>\n",
       "      <td>1.0</td>\n",
       "      <td>10.246210</td>\n",
       "      <td>1.0</td>\n",
       "      <td>10.246210</td>\n",
       "    </tr>\n",
       "    <tr>\n",
       "      <th>6468</th>\n",
       "      <td>16403915</td>\n",
       "      <td>16.4039</td>\n",
       "      <td>7518.0</td>\n",
       "      <td>0.007518</td>\n",
       "      <td>1.0</td>\n",
       "      <td>16.403915</td>\n",
       "      <td>1.0</td>\n",
       "      <td>16.403915</td>\n",
       "    </tr>\n",
       "    <tr>\n",
       "      <th>11691</th>\n",
       "      <td>30089423</td>\n",
       "      <td>30.0894</td>\n",
       "      <td>1444.0</td>\n",
       "      <td>0.001444</td>\n",
       "      <td>1.0</td>\n",
       "      <td>30.089423</td>\n",
       "      <td>1.0</td>\n",
       "      <td>30.089423</td>\n",
       "    </tr>\n",
       "    <tr>\n",
       "      <th>13042</th>\n",
       "      <td>34217173</td>\n",
       "      <td>34.2172</td>\n",
       "      <td>629.0</td>\n",
       "      <td>0.000629</td>\n",
       "      <td>1.0</td>\n",
       "      <td>34.217173</td>\n",
       "      <td>1.0</td>\n",
       "      <td>34.217173</td>\n",
       "    </tr>\n",
       "    <tr>\n",
       "      <th>10066</th>\n",
       "      <td>26316640</td>\n",
       "      <td>26.3166</td>\n",
       "      <td>181.0</td>\n",
       "      <td>0.000181</td>\n",
       "      <td>1.0</td>\n",
       "      <td>26.316640</td>\n",
       "      <td>1.0</td>\n",
       "      <td>26.316640</td>\n",
       "    </tr>\n",
       "    <tr>\n",
       "      <th>13853</th>\n",
       "      <td>36146683</td>\n",
       "      <td>36.1467</td>\n",
       "      <td>34.0</td>\n",
       "      <td>0.000034</td>\n",
       "      <td>1.0</td>\n",
       "      <td>36.146683</td>\n",
       "      <td>1.0</td>\n",
       "      <td>36.146683</td>\n",
       "    </tr>\n",
       "    <tr>\n",
       "      <th>12626</th>\n",
       "      <td>33236976</td>\n",
       "      <td>33.2370</td>\n",
       "      <td>1101.0</td>\n",
       "      <td>0.001101</td>\n",
       "      <td>1.0</td>\n",
       "      <td>33.236976</td>\n",
       "      <td>1.0</td>\n",
       "      <td>33.236976</td>\n",
       "    </tr>\n",
       "    <tr>\n",
       "      <th>8596</th>\n",
       "      <td>22388107</td>\n",
       "      <td>22.3881</td>\n",
       "      <td>2695.0</td>\n",
       "      <td>0.002695</td>\n",
       "      <td>1.0</td>\n",
       "      <td>22.388107</td>\n",
       "      <td>1.0</td>\n",
       "      <td>22.388107</td>\n",
       "    </tr>\n",
       "  </tbody>\n",
       "</table>\n",
       "</div>"
      ],
      "text/plain": [
       "       position       cM   space   mapjump  test        cm2  \\\n",
       "11942  31214079  31.2141   895.0  0.000895   1.0  31.214079   \n",
       "11672  30056411  30.0564  2623.0  0.002623   1.0  30.056411   \n",
       "4185   10246210  10.2462  1270.0  0.001270   1.0  10.246210   \n",
       "6468   16403915  16.4039  7518.0  0.007518   1.0  16.403915   \n",
       "11691  30089423  30.0894  1444.0  0.001444   1.0  30.089423   \n",
       "13042  34217173  34.2172   629.0  0.000629   1.0  34.217173   \n",
       "10066  26316640  26.3166   181.0  0.000181   1.0  26.316640   \n",
       "13853  36146683  36.1467    34.0  0.000034   1.0  36.146683   \n",
       "12626  33236976  33.2370  1101.0  0.001101   1.0  33.236976   \n",
       "8596   22388107  22.3881  2695.0  0.002695   1.0  22.388107   \n",
       "\n",
       "       COMBINED_rate(cM/Mb)  Genetic_Map(cM)  \n",
       "11942                   1.0        31.214079  \n",
       "11672                   1.0        30.056411  \n",
       "4185                    1.0        10.246210  \n",
       "6468                    1.0        16.403915  \n",
       "11691                   1.0        30.089423  \n",
       "13042                   1.0        34.217173  \n",
       "10066                   1.0        26.316640  \n",
       "13853                   1.0        36.146683  \n",
       "12626                   1.0        33.236976  \n",
       "8596                    1.0        22.388107  "
      ]
     },
     "execution_count": 103,
     "metadata": {},
     "output_type": "execute_result"
    }
   ],
   "source": [
    "buildmap['cm2'] = buildmap.position / 1000000\n",
    "buildmap['Genetic_Map(cM)'] = buildmap.position / 1000000\n",
    "buildmap['space'] = buildmap.position - buildmap.position.shift(1).fillna(0) \n",
    "buildmap['mapjump'] = buildmap.cm2 -  buildmap.cm2.shift(1).fillna(0)\n",
    "buildmap['test'] = (buildmap.mapjump/buildmap.space) * 1000000\n",
    "buildmap.sample(10)\n",
    "#goodmap['mapjump'] = goodmap['Genetic_Map(cM)'] -  goodmap['Genetic_Map(cM)'].shift(1)"
   ]
  },
  {
   "cell_type": "code",
   "execution_count": 104,
   "metadata": {
    "collapsed": false
   },
   "outputs": [
    {
     "name": "stdout",
     "output_type": "stream",
     "text": [
      "       position  COMBINED_rate(cM/Mb)  Genetic_Map(cM)\n",
      "16862  42819995                   1.0        42.819995\n",
      "16863  42820283                   1.0        42.820283\n",
      "16864  42849040                   1.0        42.849040\n",
      "16865  42851121                   1.0        42.851121\n",
      "16866  42879707                   0.0        42.879707\n"
     ]
    }
   ],
   "source": [
    "buildmap['COMBINED_rate(cM/Mb)'] = 1.0\n",
    "outmap = buildmap.reindex(columns=['position','COMBINED_rate(cM/Mb)','Genetic_Map(cM)'])\n",
    "outmap.iloc[-1,1] = 0\n",
    "print(outmap.tail())\n"
   ]
  },
  {
   "cell_type": "code",
   "execution_count": 109,
   "metadata": {
    "collapsed": false
   },
   "outputs": [
    {
     "name": "stdout",
     "output_type": "stream",
     "text": [
      "position COMBINED_rate(cM/Mb) Genetic_Map(cM)\r\n",
      "17690 1.0 0.01769\r\n",
      "32857 1.0 0.032857\r\n",
      "40025 1.0 0.040025\r\n",
      "47181 1.0 0.047181\r\n",
      "60964 1.0 0.060964\r\n",
      "76920 1.0 0.07692\r\n",
      "80606 1.0 0.080606\r\n",
      "84453 1.0 0.084453\r\n",
      "86688 1.0 0.086688\r\n"
     ]
    }
   ],
   "source": [
    "outmap.to_csv('impmap.chr25.map',sep=' ',index=False)\n",
    "! head impmap.chr25.map"
   ]
  },
  {
   "cell_type": "code",
   "execution_count": null,
   "metadata": {
    "collapsed": true
   },
   "outputs": [],
   "source": []
  }
 ],
 "metadata": {
  "anaconda-cloud": {},
  "kernelspec": {
   "display_name": "Python [conda env:Imp3]",
   "language": "python",
   "name": "conda-env-Imp3-py"
  },
  "language_info": {
   "codemirror_mode": {
    "name": "ipython",
    "version": 3
   },
   "file_extension": ".py",
   "mimetype": "text/x-python",
   "name": "python",
   "nbconvert_exporter": "python",
   "pygments_lexer": "ipython3",
   "version": "3.5.2"
  }
 },
 "nbformat": 4,
 "nbformat_minor": 1
}
