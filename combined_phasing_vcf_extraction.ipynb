{
 "cells": [
  {
   "cell_type": "markdown",
   "metadata": {},
   "source": [
    "* After phasing assays in a combined manner, it is necessary to extract the relevant individuals and snps from vcf files to remove Eagle's best guess genotypes\n",
    "* This script allows us to reference bim and fam files from \"assay_chrsplit\" step that should only contain original genotypes for each respective assay\n",
    "* This will happen once for each chromosome of each assay to make wildcard referencing easier"
   ]
  },
  {
   "cell_type": "code",
   "execution_count": 1,
   "metadata": {
    "collapsed": true
   },
   "outputs": [],
   "source": [
    "bim = \"/CIFS/MUG01_N/deckerje/tnr343/170519_hol/Imputation_Project/assay_chrsplit/snp50.chr28.bim\"\n",
    "fam = \"/CIFS/MUG01_N/deckerje/tnr343/170519_hol/Imputation_Project/assay_chrsplit/snp50.chr28.fam\""
   ]
  },
  {
   "cell_type": "code",
   "execution_count": 2,
   "metadata": {
    "collapsed": false
   },
   "outputs": [
    {
     "name": "stdout",
     "output_type": "stream",
     "text": [
      "28\t25146\t0.041088\t41088\tG\tA\r\n",
      "28\t10790\t0.07768\t77680\tT\tC\r\n",
      "28\t49507\t0.098444\t98444\tA\tG\r\n",
      "28\t48549\t0.154179\t154179\tG\tT\r\n",
      "28\t21160\t0.177494\t177494\tA\tG\r\n"
     ]
    }
   ],
   "source": [
    "!head -n 5 /CIFS/MUG01_N/deckerje/tnr343/170519_hol/Imputation_Project/assay_chrsplit/snp50.chr28.bim"
   ]
  },
  {
   "cell_type": "code",
   "execution_count": 7,
   "metadata": {
    "collapsed": true
   },
   "outputs": [],
   "source": [
    "with open(bim, 'r') as b:\n",
    "    stringlist = [line.split()[0] + '\\t' + line.split()[3] for line in b]\n",
    "with open('testout.txt', 'w') as outfile:\n",
    "    [outfile.write(x + '\\n') for x in stringlist]"
   ]
  },
  {
   "cell_type": "code",
   "execution_count": 10,
   "metadata": {
    "collapsed": false
   },
   "outputs": [
    {
     "name": "stdout",
     "output_type": "stream",
     "text": [
      "1 UMCUSAM000000078648 HOLUSAM000065801492 0 1 -9\r\n",
      "1 UMCUSAF000000078649 HOLUSAM000122440858 0 0 -9\r\n",
      "1 UMCUSAM000000078652 HOLUSAM000063050142 0 1 -9\r\n",
      "1 UMCUSAM000000078653 HOLUSAM000064541632 0 1 -9\r\n",
      "1 UMCUSAF000000078656 HOLUSAM000129909510 0 0 -9\r\n"
     ]
    }
   ],
   "source": [
    "!head -n 5 /CIFS/MUG01_N/deckerje/tnr343/170519_hol/Imputation_Project/assay_chrsplit/snp50.chr28.fam"
   ]
  },
  {
   "cell_type": "code",
   "execution_count": 11,
   "metadata": {
    "collapsed": true
   },
   "outputs": [],
   "source": [
    "with open(fam, 'r') as f:\n",
    "    famlist = [line.split()[1] for line in f]\n",
    "with open('testout.txt', 'w') as outfile:\n",
    "    [outfile.write(x + '\\n') for x in famlist]"
   ]
  },
  {
   "cell_type": "code",
   "execution_count": 12,
   "metadata": {
    "collapsed": false
   },
   "outputs": [
    {
     "name": "stdout",
     "output_type": "stream",
     "text": [
      "UMCUSAM000000078648\r\n",
      "UMCUSAF000000078649\r\n",
      "UMCUSAM000000078652\r\n",
      "UMCUSAM000000078653\r\n",
      "UMCUSAF000000078656\r\n",
      "UMCUSAM000000078658\r\n",
      "UMCUSAM000000078659\r\n",
      "UMCUSAM000000078663\r\n",
      "UMCUSAF000000078664\r\n",
      "UMCUSAF000000078669\r\n"
     ]
    }
   ],
   "source": [
    "!head testout.txt"
   ]
  },
  {
   "cell_type": "code",
   "execution_count": null,
   "metadata": {
    "collapsed": true
   },
   "outputs": [],
   "source": []
  }
 ],
 "metadata": {
  "anaconda-cloud": {},
  "kernelspec": {
   "display_name": "Python [conda env:Imp3]",
   "language": "python",
   "name": "conda-env-Imp3-py"
  },
  "language_info": {
   "codemirror_mode": {
    "name": "ipython",
    "version": 3
   },
   "file_extension": ".py",
   "mimetype": "text/x-python",
   "name": "python",
   "nbconvert_exporter": "python",
   "pygments_lexer": "ipython3",
   "version": "3.5.3"
  }
 },
 "nbformat": 4,
 "nbformat_minor": 1
}
