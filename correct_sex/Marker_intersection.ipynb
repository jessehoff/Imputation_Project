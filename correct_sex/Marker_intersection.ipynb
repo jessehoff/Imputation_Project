{
 "cells": [
  {
   "cell_type": "code",
   "execution_count": 1,
   "metadata": {
    "collapsed": false
   },
   "outputs": [
    {
     "name": "stdout",
     "output_type": "stream",
     "text": [
      "/CIFS/MUG01_N/deckerje/tnr343/170112_SIM/Imputation_Project/correct_sex/139977.170112.2326.GGPHDV3\r\n",
      "/CIFS/MUG01_N/deckerje/tnr343/170112_SIM/Imputation_Project/correct_sex/227234.170112.325.GGPF250\r\n",
      "/CIFS/MUG01_N/deckerje/tnr343/170112_SIM/Imputation_Project/correct_sex/26504.170112.3126.GGPLDV3\r\n",
      "/CIFS/MUG01_N/deckerje/tnr343/170112_SIM/Imputation_Project/correct_sex/30105.170112.2500.GGPLDV4\r\n",
      "/CIFS/MUG01_N/deckerje/tnr343/170112_SIM/Imputation_Project/correct_sex/58336.170112.315.SNP50A\r\n",
      "/CIFS/MUG01_N/deckerje/tnr343/170112_SIM/Imputation_Project/correct_sex/58336.170112.335.SNP50B\r\n",
      "/CIFS/MUG01_N/deckerje/tnr343/170112_SIM/Imputation_Project/correct_sex/58336.170112.3399.SNP50C\r\n",
      "/CIFS/MUG01_N/deckerje/tnr343/170112_SIM/Imputation_Project/correct_sex/76999.170112.3498.GGP90KT\r\n",
      "/CIFS/MUG01_N/deckerje/tnr343/170112_SIM/Imputation_Project/correct_sex/777962.170127.483.HD\r\n"
     ]
    }
   ],
   "source": [
    "! head allfiles.txt"
   ]
  },
  {
   "cell_type": "code",
   "execution_count": 2,
   "metadata": {
    "collapsed": true
   },
   "outputs": [],
   "source": [
    "import glob"
   ]
  },
  {
   "cell_type": "code",
   "execution_count": 3,
   "metadata": {
    "collapsed": true
   },
   "outputs": [],
   "source": [
    "maps = glob.glob('*.bim')"
   ]
  },
  {
   "cell_type": "code",
   "execution_count": 4,
   "metadata": {
    "collapsed": false
   },
   "outputs": [
    {
     "name": "stdout",
     "output_type": "stream",
     "text": [
      "1\t1023762\t0.06713\t67130\tB\tA\r\n",
      "1\t1023763\t0.078655\t78655\tB\tA\r\n",
      "1\t1023767\t0.120183\t120183\tA\tB\r\n",
      "1\t51032\t0.135098\t135098\tA\tB\r\n",
      "1\t1023777\t0.15882\t158820\tA\tB\r\n",
      "1\t1023780\t0.163995\t163995\tA\tB\r\n",
      "1\t1023786\t0.18304\t183040\tA\tB\r\n",
      "1\t1023789\t0.199195\t199195\tB\tA\r\n",
      "1\t1023793\t0.208728\t208728\tA\tB\r\n",
      "1\t1023796\t0.218271\t218271\tB\tA\r\n"
     ]
    }
   ],
   "source": [
    "! head 139977.170112.2326.GGPHDV3.bim"
   ]
  },
  {
   "cell_type": "code",
   "execution_count": 5,
   "metadata": {
    "collapsed": false
   },
   "outputs": [
    {
     "data": {
      "text/plain": [
       "['139977.170112.2326.GGPHDV3.bim',\n",
       " '227234.170112.325.GGPF250.bim',\n",
       " '26504.170112.3126.GGPLDV3.bim',\n",
       " '30105.170112.2500.GGPLDV4.bim',\n",
       " '58336.170112.315.SNP50A.bim',\n",
       " '58336.170112.335.SNP50B.bim',\n",
       " '58336.170112.3399.SNP50C.bim',\n",
       " '76999.170112.3498.GGP90KT.bim',\n",
       " '777962.170127.483.HD.bim']"
      ]
     },
     "execution_count": 5,
     "metadata": {},
     "output_type": "execute_result"
    }
   ],
   "source": [
    "maps"
   ]
  },
  {
   "cell_type": "code",
   "execution_count": 6,
   "metadata": {
    "collapsed": false
   },
   "outputs": [
    {
     "name": "stdout",
     "output_type": "stream",
     "text": [
      "139977.170112.2326.GGPHDV3.bim\n",
      "227234.170112.325.GGPF250.bim\n",
      "26504.170112.3126.GGPLDV3.bim\n",
      "30105.170112.2500.GGPLDV4.bim\n",
      "58336.170112.315.SNP50A.bim\n",
      "58336.170112.335.SNP50B.bim\n",
      "58336.170112.3399.SNP50C.bim\n",
      "76999.170112.3498.GGP90KT.bim\n",
      "777962.170127.483.HD.bim\n"
     ]
    }
   ],
   "source": [
    "allsites = []\n",
    "for t in maps:\n",
    "    file = open(t)\n",
    "    markers = []\n",
    "    for i in file:\n",
    "        markers.append(i.split()[1])\n",
    "    print(t)\n",
    "    allsites.append(set(markers))\n",
    "    "
   ]
  },
  {
   "cell_type": "code",
   "execution_count": 10,
   "metadata": {
    "collapsed": false
   },
   "outputs": [
    {
     "data": {
      "text/plain": [
       "6221"
      ]
     },
     "execution_count": 10,
     "metadata": {},
     "output_type": "execute_result"
    }
   ],
   "source": [
    "commonmarkers = list(allsites[0].intersection(*allsites[1:]))\n",
    "len(commonmarkers)"
   ]
  },
  {
   "cell_type": "code",
   "execution_count": 11,
   "metadata": {
    "collapsed": false
   },
   "outputs": [
    {
     "data": {
      "text/plain": [
       "['35540',\n",
       " '35542',\n",
       " '35547',\n",
       " '35549',\n",
       " '35898',\n",
       " '28990',\n",
       " '11544',\n",
       " '19397',\n",
       " '5981',\n",
       " '51263']"
      ]
     },
     "execution_count": 11,
     "metadata": {},
     "output_type": "execute_result"
    }
   ],
   "source": [
    "commonmarkers[:10]"
   ]
  },
  {
   "cell_type": "code",
   "execution_count": 29,
   "metadata": {
    "collapsed": false
   },
   "outputs": [
    {
     "name": "stdout",
     "output_type": "stream",
     "text": [
      "35540\r\n",
      "35542\r\n",
      "35547\r\n",
      "35549\r\n",
      "35898\r\n",
      "28990\r\n",
      "11544\r\n",
      "19397\r\n",
      "5981\r\n",
      "51263\r\n"
     ]
    }
   ],
   "source": [
    "out = open('common_markers.txt','w')\n",
    "for i in commonmarkers:\n",
    "    out.write(i + '\\n')\n",
    "out.close()\n",
    "! head common_markers.txt"
   ]
  },
  {
   "cell_type": "code",
   "execution_count": 14,
   "metadata": {
    "collapsed": false
   },
   "outputs": [
    {
     "data": {
      "text/plain": [
       "6357"
      ]
     },
     "execution_count": 14,
     "metadata": {},
     "output_type": "execute_result"
    }
   ],
   "source": [
    "file = open('../common_variants/common_variants.bim')\n",
    "commarks = []\n",
    "for i in file:\n",
    "    commarks.append(i.split()[1])\n",
    "len(commarks)"
   ]
  },
  {
   "cell_type": "code",
   "execution_count": 17,
   "metadata": {
    "collapsed": false
   },
   "outputs": [
    {
     "data": {
      "text/plain": [
       "219"
      ]
     },
     "execution_count": 17,
     "metadata": {},
     "output_type": "execute_result"
    }
   ],
   "source": [
    "len([i for i in commarks if i not in commonmarkers])"
   ]
  },
  {
   "cell_type": "code",
   "execution_count": 20,
   "metadata": {
    "collapsed": false
   },
   "outputs": [
    {
     "data": {
      "text/plain": [
       "83"
      ]
     },
     "execution_count": 20,
     "metadata": {},
     "output_type": "execute_result"
    }
   ],
   "source": [
    "len([i for i in commonmarkers if i not in commarks])"
   ]
  },
  {
   "cell_type": "code",
   "execution_count": 21,
   "metadata": {
    "collapsed": false
   },
   "outputs": [],
   "source": [
    "d = [i for i in commarks if i not in commonmarkers]"
   ]
  },
  {
   "cell_type": "code",
   "execution_count": 31,
   "metadata": {
    "collapsed": false
   },
   "outputs": [
    {
     "data": {
      "text/plain": [
       "['139977.170112.2326.GGPHDV3.fam', '227234.170112.325.GGPF250.fam']"
      ]
     },
     "execution_count": 31,
     "metadata": {},
     "output_type": "execute_result"
    }
   ],
   "source": [
    "fams = glob.glob('*.fam')\n",
    "fams[:2]"
   ]
  },
  {
   "cell_type": "code",
   "execution_count": 77,
   "metadata": {
    "collapsed": false
   },
   "outputs": [
    {
     "name": "stdout",
     "output_type": "stream",
     "text": [
      "GGPHDV3\n",
      "GGPF250\n",
      "GGPLDV3\n",
      "GGPLDV4\n",
      "SNP50A\n",
      "SNP50B\n",
      "SNP50C\n",
      "GGP90KT\n",
      "HD\n"
     ]
    }
   ],
   "source": [
    "from collections import defaultdict\n",
    "allanimals = {}\n",
    "genanimals = []\n",
    "animalall = defaultdict(list)\n",
    "for t in fams:\n",
    "    file = open(t)\n",
    "    assay = t.split('.')[3]\n",
    "    animals = []\n",
    "    for i in file:\n",
    "        animals.append(i.split()[1])\n",
    "        animalall[i.split()[1]].append(assay)\n",
    "        genanimals.append(i.split()[1])\n",
    "    print(assay)\n",
    "    allanimals[assay]= animals"
   ]
  },
  {
   "cell_type": "code",
   "execution_count": 48,
   "metadata": {
    "collapsed": false
   },
   "outputs": [
    {
     "data": {
      "text/plain": [
       "377"
      ]
     },
     "execution_count": 48,
     "metadata": {},
     "output_type": "execute_result"
    }
   ],
   "source": [
    "from collections import Counter\n",
    "len([i for i in Counter(allanimals).most_common() if i[1] == 2])\n"
   ]
  },
  {
   "cell_type": "code",
   "execution_count": 39,
   "metadata": {
    "collapsed": false
   },
   "outputs": [],
   "source": [
    "dubs = [v for k,v in animalall.items() if len(v) > 1]"
   ]
  },
  {
   "cell_type": "code",
   "execution_count": 54,
   "metadata": {
    "collapsed": false
   },
   "outputs": [
    {
     "data": {
      "text/plain": [
       "[]"
      ]
     },
     "execution_count": 54,
     "metadata": {},
     "output_type": "execute_result"
    }
   ],
   "source": [
    "[i for i in dubs if 'GGP90KT' in i]"
   ]
  },
  {
   "cell_type": "code",
   "execution_count": 72,
   "metadata": {
    "collapsed": false
   },
   "outputs": [
    {
     "data": {
      "text/plain": [
       "15750"
      ]
     },
     "execution_count": 72,
     "metadata": {},
     "output_type": "execute_result"
    }
   ],
   "source": [
    "genset = set(genanimals)\n",
    "len(genset)"
   ]
  },
  {
   "cell_type": "code",
   "execution_count": 90,
   "metadata": {
    "collapsed": false
   },
   "outputs": [],
   "source": [
    "ggpfam = open('../raw_genotypes/26504.170112.3126.GGPLDV3.ped')\n",
    "pas = []\n",
    "for i in ggpfam:\n",
    "    ma,pa = i.split()[2:4]\n",
    "    pas.append(ma)\n",
    "    pas.append(pa)\n",
    "    if pa in genset:\n",
    "        print ma"
   ]
  },
  {
   "cell_type": "code",
   "execution_count": 93,
   "metadata": {
    "collapsed": false
   },
   "outputs": [],
   "source": [
    "ggpfam = open('../raw_genotypes/139977.170112.2326.GGPHDV3.ped')\n",
    "pas = []\n",
    "for i in ggpfam:\n",
    "    ma,pa = i.split()[2:4]\n",
    "    pas.append(ma)\n",
    "    pas.append(pa)\n",
    "    if pa in genset:\n",
    "        print ma"
   ]
  },
  {
   "cell_type": "code",
   "execution_count": 94,
   "metadata": {
    "collapsed": false
   },
   "outputs": [
    {
     "data": {
      "text/plain": [
       "{'0'}"
      ]
     },
     "execution_count": 94,
     "metadata": {},
     "output_type": "execute_result"
    }
   ],
   "source": [
    "set(pas)"
   ]
  },
  {
   "cell_type": "code",
   "execution_count": null,
   "metadata": {
    "collapsed": true
   },
   "outputs": [],
   "source": []
  }
 ],
 "metadata": {
  "anaconda-cloud": {},
  "kernelspec": {
   "display_name": "Python [conda env:Imp3]",
   "language": "python",
   "name": "conda-env-Imp3-py"
  },
  "language_info": {
   "codemirror_mode": {
    "name": "ipython",
    "version": 3
   },
   "file_extension": ".py",
   "mimetype": "text/x-python",
   "name": "python",
   "nbconvert_exporter": "python",
   "pygments_lexer": "ipython3",
   "version": "3.5.2"
  }
 },
 "nbformat": 4,
 "nbformat_minor": 1
}
