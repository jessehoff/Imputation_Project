{
 "cells": [
  {
   "cell_type": "code",
   "execution_count": 198,
   "metadata": {
    "collapsed": false
   },
   "outputs": [
    {
     "ename": "NameError",
     "evalue": "name 'stdin' is not defined",
     "output_type": "error",
     "traceback": [
      "\u001b[1;31m---------------------------------------------------------------------------\u001b[0m",
      "\u001b[1;31mNameError\u001b[0m                                 Traceback (most recent call last)",
      "\u001b[1;32m<ipython-input-198-78075f8bd991>\u001b[0m in \u001b[0;36m<module>\u001b[1;34m()\u001b[0m\n\u001b[0;32m      1\u001b[0m \u001b[1;32mimport\u001b[0m \u001b[0mre\u001b[0m\u001b[1;33m\u001b[0m\u001b[0m\n\u001b[0;32m      2\u001b[0m \u001b[1;32mimport\u001b[0m \u001b[0mcsv\u001b[0m\u001b[1;33m\u001b[0m\u001b[0m\n\u001b[1;32m----> 3\u001b[1;33m \u001b[0mfile\u001b[0m \u001b[1;33m=\u001b[0m \u001b[0mstdin\u001b[0m\u001b[1;33m[\u001b[0m\u001b[1;36m1\u001b[0m\u001b[1;33m]\u001b[0m\u001b[1;33m\u001b[0m\u001b[0m\n\u001b[0m",
      "\u001b[1;31mNameError\u001b[0m: name 'stdin' is not defined"
     ]
    }
   ],
   "source": [
    "import re\n",
    "import csv\n",
    "file = stdin[1]"
   ]
  },
  {
   "cell_type": "markdown",
   "metadata": {},
   "source": [
    "# Allele Filter Statistics Extraction"
   ]
  },
  {
   "cell_type": "code",
   "execution_count": 182,
   "metadata": {
    "collapsed": false
   },
   "outputs": [
    {
     "data": {
      "text/plain": [
       "['snp50_C', 'geno 0.05', '3459', '52564']"
      ]
     },
     "execution_count": 182,
     "metadata": {},
     "output_type": "execute_result"
    }
   ],
   "source": [
    "#Take a command line argument for file name used here\n",
    "with open ('allele_filtered/snp50_c.log', 'r') as logfile:\n",
    "    log = logfile.read()\n",
    "    \n",
    "assay = re.findall(r'100.test_([\\w_]+)', log)\n",
    "geno = re.findall(r'--(geno\\s*[\\w.]+)', log)\n",
    "rem = re.findall(r'([0-9]+) variants removed', log)\n",
    "start = re.findall(r'([\\w]+) variants, ', log)\n",
    "\n",
    "stats = assay + geno + rem + start\n",
    "stats\n",
    "statsperfile = {}\n",
    "statsperfile['snp50c']=stats\n"
   ]
  },
  {
   "cell_type": "code",
   "execution_count": 184,
   "metadata": {
    "collapsed": false
   },
   "outputs": [
    {
     "data": {
      "text/plain": [
       "['snp50_C']"
      ]
     },
     "execution_count": 184,
     "metadata": {},
     "output_type": "execute_result"
    }
   ],
   "source": [
    "assay"
   ]
  },
  {
   "cell_type": "code",
   "execution_count": 197,
   "metadata": {
    "collapsed": false
   },
   "outputs": [],
   "source": [
    "af_file = open(\"./filtering_stats/alleles_filtered.csv\",'a')\n",
    "af_file.write(','.join(stats)+'\\n')\n",
    "af_file.close() #never forget this"
   ]
  },
  {
   "cell_type": "code",
   "execution_count": 196,
   "metadata": {
    "collapsed": false
   },
   "outputs": [
    {
     "name": "stdout",
     "output_type": "stream",
     "text": [
      "snp50_C,geno 0.05,3459,52564snp50_C,geno 0.05,3459,52564snp50_C,geno 0.05,3459,52564snp50_C,geno 0.05,3459,52564\r\n",
      "snp50_C,geno 0.05,3459,52564\r\n",
      "snp50_C,geno 0.05,3459,52564\r\n"
     ]
    }
   ],
   "source": [
    "! head alleles_filtered.csv"
   ]
  },
  {
   "cell_type": "markdown",
   "metadata": {},
   "source": [
    "# Individual Filter Statistics Extraction"
   ]
  },
  {
   "cell_type": "code",
   "execution_count": 157,
   "metadata": {
    "collapsed": false
   },
   "outputs": [
    {
     "data": {
      "text/plain": [
       "['hd', 'mind 0.05']"
      ]
     },
     "execution_count": 157,
     "metadata": {},
     "output_type": "execute_result"
    }
   ],
   "source": [
    "with open ('individual_filtered/hd.log', 'r') as logfile:\n",
    "    log = logfile.read()\n",
    "    \n",
    "assay = re.findall(r'--bfile ./allele_filtered/([\\w_]+)', log)\n",
    "mind = re.findall(r'--(mind\\s*[\\w.]+)', log)\n",
    "rem = re.findall(r'([0-9])\\s[cow|cattle]\\sremoved due to missing genotype data', log)\n",
    "start = re.findall(r'([\\w]+) cattle [.]+ loaded from .fam', log)\n",
    "\n",
    "stats = assay + mind + rem + start\n",
    "\n",
    "stats"
   ]
  },
  {
   "cell_type": "code",
   "execution_count": 158,
   "metadata": {
    "collapsed": false
   },
   "outputs": [
    {
     "data": {
      "text/plain": [
       "'PLINK v1.90b3.31 64-bit (3 Feb 2016)\\nOptions in effect:\\n  --bfile ./allele_filtered/hd\\n  --cow\\n  --make-bed\\n  --mind 0.05\\n  --out ./individual_filtered/hd\\n\\nHostname: MUgenomics06.col.missouri.edu\\nWorking directory: /CIFS/MUG01_N/taylorjerr/JLH/160906_imputation_test\\nStart time: Wed Sep 28 12:39:40 2016\\n\\nRandom number seed: 1475084380\\n516850 MB RAM detected; reserving 258425 MB for main workspace.\\n728353 variants loaded from .bim file.\\n100 cattle (0 males, 0 females, 100 ambiguous) loaded from .fam.\\nAmbiguous sex IDs written to ./individual_filtered/hd.nosex .\\n8 cattle removed due to missing genotype data (--mind).\\nIDs written to ./individual_filtered/hd.irem .\\nUsing 1 thread (no multithreaded calculations invoked.\\nBefore main variant filters, 0 founders and 92 nonfounders present.\\nCalculating allele frequencies... done.\\nTotal genotyping rate in remaining samples is 0.998772.\\n728353 variants and 92 cattle pass filters and QC.\\nNote: No phenotypes present.\\n--make-bed to ./individual_filtered/hd.bed + ./individual_filtered/hd.bim +\\n./individual_filtered/hd.fam ... done.\\n\\nEnd time: Wed Sep 28 12:39:41 2016\\n'"
      ]
     },
     "execution_count": 158,
     "metadata": {},
     "output_type": "execute_result"
    }
   ],
   "source": []
  },
  {
   "cell_type": "code",
   "execution_count": null,
   "metadata": {
    "collapsed": true
   },
   "outputs": [],
   "source": []
  }
 ],
 "metadata": {
  "kernelspec": {
   "display_name": "Python 2",
   "language": "python",
   "name": "python2"
  },
  "language_info": {
   "codemirror_mode": {
    "name": "ipython",
    "version": 2
   },
   "file_extension": ".py",
   "mimetype": "text/x-python",
   "name": "python",
   "nbconvert_exporter": "python",
   "pygments_lexer": "ipython2",
   "version": "2.7.10"
  }
 },
 "nbformat": 4,
 "nbformat_minor": 0
}
