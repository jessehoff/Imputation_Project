{
 "cells": [
  {
   "cell_type": "code",
   "execution_count": 1,
   "metadata": {
    "collapsed": true
   },
   "outputs": [],
   "source": [
    "import pandas as pd\n",
    "import numpy as np\n",
    "from pandas import DataFrame\n",
    "from pandas import Series\n",
    "from numpy import nan\n",
    "import matplotlib\n",
    "matplotlib.use('Agg')\n",
    "import matplotlib.pyplot as plt\n",
    "import matplotlib as mat\n",
    "import glob\n",
    "\n",
    "plt.style.use('fivethirtyeight')\n",
    "#script, infile = argv"
   ]
  },
  {
   "cell_type": "code",
   "execution_count": 2,
   "metadata": {
    "collapsed": false
   },
   "outputs": [
    {
     "name": "stdout",
     "output_type": "stream",
     "text": [
      "9913_GGPF250.map  9913_HD.map  9913_SNP50.map  9913_ZOETIS1.map\r\n"
     ]
    }
   ],
   "source": [
    "! ls ./maps/"
   ]
  },
  {
   "cell_type": "code",
   "execution_count": 3,
   "metadata": {
    "collapsed": false
   },
   "outputs": [],
   "source": [
    "HDmap = pd.read_table('./maps/9913_HD.map',header=None,names=['Chr','HD_ID','mapu','pos'])\n",
    "SNP50map = pd.read_table('./maps/9913_SNP50.map',header=None,names=['Chr','SNP50_ID','mapu','pos'])"
   ]
  },
  {
   "cell_type": "code",
   "execution_count": 4,
   "metadata": {
    "collapsed": true
   },
   "outputs": [],
   "source": [
    "# variants do not nessecarily have the same ID across all asssnp50_hd_mismatch_front_listays if they sample the same position. \n",
    "# they may NOT sample the same allele"
   ]
  },
  {
   "cell_type": "code",
   "execution_count": 5,
   "metadata": {
    "collapsed": false
   },
   "outputs": [],
   "source": [
    "hdsites = {}\n",
    "hdmap = open('./maps/9913_HD.map')\n",
    "for line in hdmap:\n",
    "    chr,id,mapu,pos = line.strip().split()\n",
    "    position = '_'.join([chr,pos])\n",
    "    hdsites[position]= id"
   ]
  },
  {
   "cell_type": "code",
   "execution_count": 6,
   "metadata": {
    "collapsed": false
   },
   "outputs": [],
   "source": [
    "snp50sites = {}\n",
    "snp50map = open('./maps/9913_SNP50.map')\n",
    "for line in snp50map:\n",
    "    chr,id,mapu,pos = line.strip().split()\n",
    "    position = '_'.join([chr,pos])\n",
    "    snp50sites[position]= id"
   ]
  },
  {
   "cell_type": "code",
   "execution_count": 7,
   "metadata": {
    "collapsed": true
   },
   "outputs": [],
   "source": [
    "f250sites = {}\n",
    "f250map = open('./maps/9913_GGPF250.map')\n",
    "for line in f250map:\n",
    "    chr,id,mapu,pos = line.strip().split()\n",
    "    position = '_'.join([chr,pos])\n",
    "    f250sites[position]= id"
   ]
  },
  {
   "cell_type": "code",
   "execution_count": 8,
   "metadata": {
    "collapsed": true
   },
   "outputs": [],
   "source": [
    "zoetissites = {}\n",
    "zoetismap = open('./maps/9913_ZOETIS1.map')\n",
    "for line in zoetismap:\n",
    "    chr,id,mapu,pos = line.strip().split()\n",
    "    position = '_'.join([chr,pos])\n",
    "    zoetissites[position]= id"
   ]
  },
  {
   "cell_type": "code",
   "execution_count": 9,
   "metadata": {
    "collapsed": false
   },
   "outputs": [
    {
     "data": {
      "text/plain": [
       "27"
      ]
     },
     "execution_count": 9,
     "metadata": {},
     "output_type": "execute_result"
    }
   ],
   "source": [
    "snp50_zoetis_mismatch = []\n",
    "for i in snp50sites.keys():\n",
    "    if i in zoetissites.keys():\n",
    "        if snp50sites[i] != zoetissites[i]:\n",
    "            snp50_zoetis_mismatch.append((i,snp50sites[i],zoetissites[i]))\n",
    "len(snp50_zoetis_mismatch)"
   ]
  },
  {
   "cell_type": "code",
   "execution_count": 10,
   "metadata": {
    "collapsed": false
   },
   "outputs": [
    {
     "data": {
      "text/plain": [
       "19"
      ]
     },
     "execution_count": 10,
     "metadata": {},
     "output_type": "execute_result"
    }
   ],
   "source": [
    "snp50_hd_mismatch = []\n",
    "for i in snp50sites.keys():\n",
    "    if i in hdsites.keys():\n",
    "        if snp50sites[i] != hdsites[i]:\n",
    "            snp50_hd_mismatch.append((i,snp50sites[i],hdsites[i]))\n",
    "len(snp50_hd_mismatch)"
   ]
  },
  {
   "cell_type": "code",
   "execution_count": 11,
   "metadata": {
    "collapsed": false
   },
   "outputs": [
    {
     "data": {
      "text/plain": [
       "0"
      ]
     },
     "execution_count": 11,
     "metadata": {},
     "output_type": "execute_result"
    }
   ],
   "source": [
    "snp50_f250_mismatch = []\n",
    "for i in snp50sites.keys():\n",
    "    if i in f250sites.keys():\n",
    "        if snp50sites[i] != f250sites[i]:\n",
    "            snp50_hd_mismatch.append((i,snp50sites[i],f250sites[i]))\n",
    "len(snp50_f250_mismatch)"
   ]
  },
  {
   "cell_type": "code",
   "execution_count": 12,
   "metadata": {
    "collapsed": false
   },
   "outputs": [
    {
     "data": {
      "text/plain": [
       "425"
      ]
     },
     "execution_count": 12,
     "metadata": {},
     "output_type": "execute_result"
    }
   ],
   "source": [
    "hd_f250_mismatch = []\n",
    "for i in hdsites.keys():\n",
    "    if i in f250sites.keys():\n",
    "        if hdsites[i] != f250sites[i]:\n",
    "            hd_f250_mismatch.append((i,hdsites[i],f250sites[i]))\n",
    "len(hd_f250_mismatch)"
   ]
  },
  {
   "cell_type": "code",
   "execution_count": 13,
   "metadata": {
    "collapsed": false
   },
   "outputs": [
    {
     "data": {
      "text/plain": [
       "44"
      ]
     },
     "execution_count": 13,
     "metadata": {},
     "output_type": "execute_result"
    }
   ],
   "source": [
    "hd_zoetis_mismatch = []\n",
    "for i in hdsites.keys():\n",
    "    if i in zoetissites.keys():\n",
    "        if hdsites[i] != zoetissites[i]:\n",
    "            hd_zoetis_mismatch.append((i,hdsites[i],zoetissites[i]))\n",
    "len(hd_zoetis_mismatch)"
   ]
  },
  {
   "cell_type": "code",
   "execution_count": 14,
   "metadata": {
    "collapsed": false
   },
   "outputs": [
    {
     "data": {
      "text/plain": [
       "19"
      ]
     },
     "execution_count": 14,
     "metadata": {},
     "output_type": "execute_result"
    }
   ],
   "source": [
    "snp50_hd_mismatch = []\n",
    "for i in snp50sites.keys():\n",
    "    if i in hdsites.keys():\n",
    "        if snp50sites[i] != hdsites[i]:\n",
    "            snp50_hd_mismatch.append((i,snp50sites[i],hdsites[i]))\n",
    "len(snp50_hd_mismatch)"
   ]
  },
  {
   "cell_type": "code",
   "execution_count": 15,
   "metadata": {
    "collapsed": false
   },
   "outputs": [
    {
     "data": {
      "text/plain": [
       "21"
      ]
     },
     "execution_count": 15,
     "metadata": {},
     "output_type": "execute_result"
    }
   ],
   "source": [
    "zoetis_f250_mismatch = []\n",
    "for i in zoetissites.keys():\n",
    "    if i in f250sites.keys():\n",
    "        if zoetissites[i] != f250sites[i]:\n",
    "            zoetis_f250_mismatch.append((i,zoetissites[i],f250sites[i]))\n",
    "len(zoetis_f250_mismatch)"
   ]
  },
  {
   "cell_type": "code",
   "execution_count": 53,
   "metadata": {
    "collapsed": false
   },
   "outputs": [
    {
     "data": {
      "text/html": [
       "<div>\n",
       "<table border=\"1\" class=\"dataframe\">\n",
       "  <thead>\n",
       "    <tr style=\"text-align: right;\">\n",
       "      <th></th>\n",
       "      <th>0</th>\n",
       "    </tr>\n",
       "  </thead>\n",
       "  <tbody>\n",
       "    <tr>\n",
       "      <th>0</th>\n",
       "      <td>3_74836184</td>\n",
       "    </tr>\n",
       "    <tr>\n",
       "      <th>1</th>\n",
       "      <td>5_95516387</td>\n",
       "    </tr>\n",
       "    <tr>\n",
       "      <th>2</th>\n",
       "      <td>21_61649083</td>\n",
       "    </tr>\n",
       "    <tr>\n",
       "      <th>3</th>\n",
       "      <td>3_35785053</td>\n",
       "    </tr>\n",
       "    <tr>\n",
       "      <th>4</th>\n",
       "      <td>14_40142442</td>\n",
       "    </tr>\n",
       "    <tr>\n",
       "      <th>5</th>\n",
       "      <td>17_64011938</td>\n",
       "    </tr>\n",
       "    <tr>\n",
       "      <th>6</th>\n",
       "      <td>20_676757</td>\n",
       "    </tr>\n",
       "    <tr>\n",
       "      <th>7</th>\n",
       "      <td>6_67170035</td>\n",
       "    </tr>\n",
       "    <tr>\n",
       "      <th>8</th>\n",
       "      <td>6_25065821</td>\n",
       "    </tr>\n",
       "    <tr>\n",
       "      <th>9</th>\n",
       "      <td>6_99094456</td>\n",
       "    </tr>\n",
       "    <tr>\n",
       "      <th>10</th>\n",
       "      <td>9_8303600</td>\n",
       "    </tr>\n",
       "    <tr>\n",
       "      <th>11</th>\n",
       "      <td>19_41447971</td>\n",
       "    </tr>\n",
       "    <tr>\n",
       "      <th>12</th>\n",
       "      <td>5_43629951</td>\n",
       "    </tr>\n",
       "    <tr>\n",
       "      <th>13</th>\n",
       "      <td>8_101529840</td>\n",
       "    </tr>\n",
       "    <tr>\n",
       "      <th>14</th>\n",
       "      <td>2_19134842</td>\n",
       "    </tr>\n",
       "    <tr>\n",
       "      <th>15</th>\n",
       "      <td>8_52180527</td>\n",
       "    </tr>\n",
       "    <tr>\n",
       "      <th>16</th>\n",
       "      <td>24_28302591</td>\n",
       "    </tr>\n",
       "    <tr>\n",
       "      <th>17</th>\n",
       "      <td>4_4645352</td>\n",
       "    </tr>\n",
       "    <tr>\n",
       "      <th>18</th>\n",
       "      <td>6_95469835</td>\n",
       "    </tr>\n",
       "  </tbody>\n",
       "</table>\n",
       "</div>"
      ],
      "text/plain": [
       "              0\n",
       "0    3_74836184\n",
       "1    5_95516387\n",
       "2   21_61649083\n",
       "3    3_35785053\n",
       "4   14_40142442\n",
       "5   17_64011938\n",
       "6     20_676757\n",
       "7    6_67170035\n",
       "8    6_25065821\n",
       "9    6_99094456\n",
       "10    9_8303600\n",
       "11  19_41447971\n",
       "12   5_43629951\n",
       "13  8_101529840\n",
       "14   2_19134842\n",
       "15   8_52180527\n",
       "16  24_28302591\n",
       "17    4_4645352\n",
       "18   6_95469835"
      ]
     },
     "execution_count": 53,
     "metadata": {},
     "output_type": "execute_result"
    }
   ],
   "source": [
    "snp50_hd_mismatch_list = pd.DataFrame(snp50_hd_mismatch)\n",
    "snp50_hd_mismatch_front_list = pd.DataFrame(snp50_hd_mismatch_list[0])\n",
    "\n",
    "for i in snp50_hd_mismatch_front_list:\n",
    "    str.split(\"_\")\n",
    "snp50_hd_mismatch_front_list    "
   ]
  },
  {
   "cell_type": "code",
   "execution_count": 27,
   "metadata": {
    "collapsed": false
   },
   "outputs": [],
   "source": [
    "snp50_zoetis_mismatch_table = pd.DataFrame(snp50_zoetis_mismatch, columns=[\"Chr_Location\", \"SNP50_ID\", \"Zoetis_ID\"])"
   ]
  },
  {
   "cell_type": "code",
   "execution_count": 40,
   "metadata": {
    "collapsed": false
   },
   "outputs": [
    {
     "name": "stdout",
     "output_type": "stream",
     "text": [
      "False\n",
      "False\n"
     ]
    },
    {
     "data": {
      "text/plain": [
       "False"
      ]
     },
     "execution_count": 40,
     "metadata": {},
     "output_type": "execute_result"
    }
   ],
   "source": [
    "print(set(zoetissites.keys()).issubset(set(snp50sites.keys())))\n",
    "print(set(zoetissites.keys()).issubset(set(hdsites.keys())))\n",
    "set(snp50sites.keys()).issubset(set(hdsites.keys()))"
   ]
  },
  {
   "cell_type": "code",
   "execution_count": null,
   "metadata": {
    "collapsed": true
   },
   "outputs": [],
   "source": []
  },
  {
   "cell_type": "code",
   "execution_count": null,
   "metadata": {
    "collapsed": true
   },
   "outputs": [],
   "source": []
  }
 ],
 "metadata": {
  "anaconda-cloud": {},
  "kernelspec": {
   "display_name": "Python [default]",
   "language": "python",
   "name": "python3"
  },
  "language_info": {
   "codemirror_mode": {
    "name": "ipython",
    "version": 3
   },
   "file_extension": ".py",
   "mimetype": "text/x-python",
   "name": "python",
   "nbconvert_exporter": "python",
   "pygments_lexer": "ipython3",
   "version": "3.5.2"
  }
 },
 "nbformat": 4,
 "nbformat_minor": 1
}
