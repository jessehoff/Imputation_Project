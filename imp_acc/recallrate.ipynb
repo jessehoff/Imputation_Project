{
 "cells": [
  {
   "cell_type": "code",
   "execution_count": 680,
   "metadata": {
    "collapsed": true
   },
   "outputs": [],
   "source": [
    "import pandas as pd\n",
    "import numpy as np\n",
    "import seaborn as sb\n",
    "import matplotlib.pyplot as plt\n",
    "%matplotlib inline\n",
    "import glob as glob\n",
    "plt.style.use('fivethirtyeight')"
   ]
  },
  {
   "cell_type": "code",
   "execution_count": null,
   "metadata": {
    "collapsed": false
   },
   "outputs": [],
   "source": []
  },
  {
   "cell_type": "code",
   "execution_count": 107,
   "metadata": {
    "collapsed": false
   },
   "outputs": [],
   "source": [
    "def chipcat(chipn):\n",
    "    chipcsvlist = glob.glob(chipn +  '*csv')\n",
    "    chipcsvs = []\n",
    "    for i in chipcsvlist:\n",
    "        print(i)\n",
    "        tip = pd.read_csv(i,index_col=[0])\n",
    "        chipcsvs.append(tip)\n",
    "    ret = pd.concat(chipcsvs)\n",
    "    return(ret)"
   ]
  },
  {
   "cell_type": "code",
   "execution_count": 5,
   "metadata": {
    "collapsed": false
   },
   "outputs": [
    {
     "name": "stderr",
     "output_type": "stream",
     "text": [
      "/home/jlh4df/.conda/envs/Imp3/lib/python3.5/site-packages/numpy/lib/function_base.py:4116: RuntimeWarning: Invalid value encountered in percentile\n",
      "  interpolation=interpolation)\n"
     ]
    },
    {
     "data": {
      "text/html": [
       "<div>\n",
       "<table border=\"1\" class=\"dataframe\">\n",
       "  <thead>\n",
       "    <tr style=\"text-align: right;\">\n",
       "      <th></th>\n",
       "      <th>correlation</th>\n",
       "    </tr>\n",
       "  </thead>\n",
       "  <tbody>\n",
       "    <tr>\n",
       "      <th>count</th>\n",
       "      <td>676503.000000</td>\n",
       "    </tr>\n",
       "    <tr>\n",
       "      <th>mean</th>\n",
       "      <td>0.957647</td>\n",
       "    </tr>\n",
       "    <tr>\n",
       "      <th>std</th>\n",
       "      <td>0.086014</td>\n",
       "    </tr>\n",
       "    <tr>\n",
       "      <th>min</th>\n",
       "      <td>-0.303251</td>\n",
       "    </tr>\n",
       "    <tr>\n",
       "      <th>25%</th>\n",
       "      <td>NaN</td>\n",
       "    </tr>\n",
       "    <tr>\n",
       "      <th>50%</th>\n",
       "      <td>NaN</td>\n",
       "    </tr>\n",
       "    <tr>\n",
       "      <th>75%</th>\n",
       "      <td>NaN</td>\n",
       "    </tr>\n",
       "    <tr>\n",
       "      <th>max</th>\n",
       "      <td>1.000000</td>\n",
       "    </tr>\n",
       "  </tbody>\n",
       "</table>\n",
       "</div>"
      ],
      "text/plain": [
       "         correlation\n",
       "count  676503.000000\n",
       "mean        0.957647\n",
       "std         0.086014\n",
       "min        -0.303251\n",
       "25%              NaN\n",
       "50%              NaN\n",
       "75%              NaN\n",
       "max         1.000000"
      ]
     },
     "execution_count": 5,
     "metadata": {},
     "output_type": "execute_result"
    }
   ],
   "source": [
    "f250 = chipcat('./1/f250')\n",
    "f250.describe()"
   ]
  },
  {
   "cell_type": "code",
   "execution_count": 6,
   "metadata": {
    "collapsed": false
   },
   "outputs": [
    {
     "name": "stderr",
     "output_type": "stream",
     "text": [
      "/home/jlh4df/.conda/envs/Imp3/lib/python3.5/site-packages/numpy/lib/function_base.py:4116: RuntimeWarning: Invalid value encountered in percentile\n",
      "  interpolation=interpolation)\n"
     ]
    }
   ],
   "source": [
    "snp50 = chipcat('./1/snp50')\n",
    "f250 = chipcat('./1/f250')\n",
    "f250 = chipcat('./1/f250')\n",
    "ggpld = chipcat('./1/ggpld')\n",
    "f250stats1 = f250.describe()\n",
    "f250stats1.columns = ['f250']\n",
    "f250stats1 = f250.describe()\n",
    "f250stats1.columns= ['f250']\n",
    "snp50stats1 = snp50.describe()\n",
    "snp50stats1.columns= ['snp50']\n",
    "ggpldstats1 = ggpld.describe()\n",
    "ggpldstats1.columns= ['ggpld']"
   ]
  },
  {
   "cell_type": "code",
   "execution_count": 7,
   "metadata": {
    "collapsed": false
   },
   "outputs": [],
   "source": [
    "run1 = pd.concat([ggpldstats1,snp50stats1,f250stats1,f250stats1],axis=1)"
   ]
  },
  {
   "cell_type": "code",
   "execution_count": 8,
   "metadata": {
    "collapsed": false
   },
   "outputs": [
    {
     "data": {
      "text/html": [
       "<div>\n",
       "<table border=\"1\" class=\"dataframe\">\n",
       "  <thead>\n",
       "    <tr style=\"text-align: right;\">\n",
       "      <th></th>\n",
       "      <th>ggpld</th>\n",
       "      <th>snp50</th>\n",
       "      <th>hd</th>\n",
       "      <th>f250</th>\n",
       "    </tr>\n",
       "  </thead>\n",
       "  <tbody>\n",
       "    <tr>\n",
       "      <th>count</th>\n",
       "      <td>675140.000000</td>\n",
       "      <td>676752.000000</td>\n",
       "      <td>682543.000000</td>\n",
       "      <td>676503.000000</td>\n",
       "    </tr>\n",
       "    <tr>\n",
       "      <th>mean</th>\n",
       "      <td>0.956351</td>\n",
       "      <td>0.969429</td>\n",
       "      <td>0.994315</td>\n",
       "      <td>0.957647</td>\n",
       "    </tr>\n",
       "    <tr>\n",
       "      <th>std</th>\n",
       "      <td>0.100002</td>\n",
       "      <td>0.090401</td>\n",
       "      <td>0.053637</td>\n",
       "      <td>0.086014</td>\n",
       "    </tr>\n",
       "    <tr>\n",
       "      <th>min</th>\n",
       "      <td>-0.848528</td>\n",
       "      <td>-0.817303</td>\n",
       "      <td>-0.231037</td>\n",
       "      <td>-0.303251</td>\n",
       "    </tr>\n",
       "    <tr>\n",
       "      <th>25%</th>\n",
       "      <td>NaN</td>\n",
       "      <td>NaN</td>\n",
       "      <td>NaN</td>\n",
       "      <td>NaN</td>\n",
       "    </tr>\n",
       "    <tr>\n",
       "      <th>50%</th>\n",
       "      <td>NaN</td>\n",
       "      <td>NaN</td>\n",
       "      <td>NaN</td>\n",
       "      <td>NaN</td>\n",
       "    </tr>\n",
       "    <tr>\n",
       "      <th>75%</th>\n",
       "      <td>NaN</td>\n",
       "      <td>NaN</td>\n",
       "      <td>NaN</td>\n",
       "      <td>NaN</td>\n",
       "    </tr>\n",
       "    <tr>\n",
       "      <th>max</th>\n",
       "      <td>1.000000</td>\n",
       "      <td>1.000000</td>\n",
       "      <td>1.000000</td>\n",
       "      <td>1.000000</td>\n",
       "    </tr>\n",
       "  </tbody>\n",
       "</table>\n",
       "</div>"
      ],
      "text/plain": [
       "               ggpld          snp50             hd           f250\n",
       "count  675140.000000  676752.000000  682543.000000  676503.000000\n",
       "mean        0.956351       0.969429       0.994315       0.957647\n",
       "std         0.100002       0.090401       0.053637       0.086014\n",
       "min        -0.848528      -0.817303      -0.231037      -0.303251\n",
       "25%              NaN            NaN            NaN            NaN\n",
       "50%              NaN            NaN            NaN            NaN\n",
       "75%              NaN            NaN            NaN            NaN\n",
       "max         1.000000       1.000000       1.000000       1.000000"
      ]
     },
     "execution_count": 8,
     "metadata": {},
     "output_type": "execute_result"
    }
   ],
   "source": [
    "run1"
   ]
  },
  {
   "cell_type": "code",
   "execution_count": 9,
   "metadata": {
    "collapsed": false
   },
   "outputs": [
    {
     "name": "stderr",
     "output_type": "stream",
     "text": [
      "/home/jlh4df/.conda/envs/Imp3/lib/python3.5/site-packages/numpy/lib/function_base.py:4116: RuntimeWarning: Invalid value encountered in percentile\n",
      "  interpolation=interpolation)\n"
     ]
    }
   ],
   "source": [
    "snp50 = chipcat('./2/snp50')\n",
    "f250 = chipcat('./2/f250')\n",
    "hd = chipcat('./2/hd')\n",
    "ggpld = chipcat('./2/ggpld')\n",
    "f250stats2 = f250.describe()\n",
    "f250stats2.columns = ['f250']\n",
    "hdstats2 = hd.describe()\n",
    "hdstats2.columns= ['hd']\n",
    "snp50stats2 = snp50.describe()\n",
    "snp50stats2.columns= ['snp50']\n",
    "ggpldstats2 = ggpld.describe()\n",
    "ggpldstats2.columns= ['ggpld']"
   ]
  },
  {
   "cell_type": "code",
   "execution_count": 10,
   "metadata": {
    "collapsed": false
   },
   "outputs": [
    {
     "data": {
      "text/html": [
       "<div>\n",
       "<table border=\"1\" class=\"dataframe\">\n",
       "  <thead>\n",
       "    <tr style=\"text-align: right;\">\n",
       "      <th></th>\n",
       "      <th>ggpld</th>\n",
       "      <th>snp50</th>\n",
       "      <th>hd</th>\n",
       "      <th>f250</th>\n",
       "    </tr>\n",
       "  </thead>\n",
       "  <tbody>\n",
       "    <tr>\n",
       "      <th>count</th>\n",
       "      <td>675281.000000</td>\n",
       "      <td>677071.000000</td>\n",
       "      <td>682824.000000</td>\n",
       "      <td>676360.000000</td>\n",
       "    </tr>\n",
       "    <tr>\n",
       "      <th>mean</th>\n",
       "      <td>0.956070</td>\n",
       "      <td>0.969432</td>\n",
       "      <td>0.994419</td>\n",
       "      <td>0.957378</td>\n",
       "    </tr>\n",
       "    <tr>\n",
       "      <th>std</th>\n",
       "      <td>0.099835</td>\n",
       "      <td>0.090029</td>\n",
       "      <td>0.053376</td>\n",
       "      <td>0.086315</td>\n",
       "    </tr>\n",
       "    <tr>\n",
       "      <th>min</th>\n",
       "      <td>-0.534522</td>\n",
       "      <td>-0.547723</td>\n",
       "      <td>-0.368526</td>\n",
       "      <td>-0.418375</td>\n",
       "    </tr>\n",
       "    <tr>\n",
       "      <th>25%</th>\n",
       "      <td>NaN</td>\n",
       "      <td>NaN</td>\n",
       "      <td>NaN</td>\n",
       "      <td>NaN</td>\n",
       "    </tr>\n",
       "    <tr>\n",
       "      <th>50%</th>\n",
       "      <td>NaN</td>\n",
       "      <td>NaN</td>\n",
       "      <td>NaN</td>\n",
       "      <td>NaN</td>\n",
       "    </tr>\n",
       "    <tr>\n",
       "      <th>75%</th>\n",
       "      <td>NaN</td>\n",
       "      <td>NaN</td>\n",
       "      <td>NaN</td>\n",
       "      <td>NaN</td>\n",
       "    </tr>\n",
       "    <tr>\n",
       "      <th>max</th>\n",
       "      <td>1.000000</td>\n",
       "      <td>1.000000</td>\n",
       "      <td>1.000000</td>\n",
       "      <td>1.000000</td>\n",
       "    </tr>\n",
       "  </tbody>\n",
       "</table>\n",
       "</div>"
      ],
      "text/plain": [
       "               ggpld          snp50             hd           f250\n",
       "count  675281.000000  677071.000000  682824.000000  676360.000000\n",
       "mean        0.956070       0.969432       0.994419       0.957378\n",
       "std         0.099835       0.090029       0.053376       0.086315\n",
       "min        -0.534522      -0.547723      -0.368526      -0.418375\n",
       "25%              NaN            NaN            NaN            NaN\n",
       "50%              NaN            NaN            NaN            NaN\n",
       "75%              NaN            NaN            NaN            NaN\n",
       "max         1.000000       1.000000       1.000000       1.000000"
      ]
     },
     "execution_count": 10,
     "metadata": {},
     "output_type": "execute_result"
    }
   ],
   "source": [
    "run2 = pd.concat([ggpldstats2,snp50stats2,hdstats2,f250stats2],axis=1)\n",
    "run2"
   ]
  },
  {
   "cell_type": "code",
   "execution_count": 45,
   "metadata": {
    "collapsed": false
   },
   "outputs": [
    {
     "name": "stderr",
     "output_type": "stream",
     "text": [
      "/home/jlh4df/.conda/envs/Imp3/lib/python3.5/site-packages/numpy/lib/function_base.py:4116: RuntimeWarning: Invalid value encountered in percentile\n",
      "  interpolation=interpolation)\n"
     ]
    },
    {
     "data": {
      "text/html": [
       "<div>\n",
       "<table border=\"1\" class=\"dataframe\">\n",
       "  <thead>\n",
       "    <tr style=\"text-align: right;\">\n",
       "      <th></th>\n",
       "      <th>correlation</th>\n",
       "    </tr>\n",
       "  </thead>\n",
       "  <tbody>\n",
       "    <tr>\n",
       "      <th>count</th>\n",
       "      <td>682543.000000</td>\n",
       "    </tr>\n",
       "    <tr>\n",
       "      <th>mean</th>\n",
       "      <td>0.994315</td>\n",
       "    </tr>\n",
       "    <tr>\n",
       "      <th>std</th>\n",
       "      <td>0.053637</td>\n",
       "    </tr>\n",
       "    <tr>\n",
       "      <th>min</th>\n",
       "      <td>-0.231037</td>\n",
       "    </tr>\n",
       "    <tr>\n",
       "      <th>25%</th>\n",
       "      <td>NaN</td>\n",
       "    </tr>\n",
       "    <tr>\n",
       "      <th>50%</th>\n",
       "      <td>NaN</td>\n",
       "    </tr>\n",
       "    <tr>\n",
       "      <th>75%</th>\n",
       "      <td>NaN</td>\n",
       "    </tr>\n",
       "    <tr>\n",
       "      <th>max</th>\n",
       "      <td>1.000000</td>\n",
       "    </tr>\n",
       "  </tbody>\n",
       "</table>\n",
       "</div>"
      ],
      "text/plain": [
       "         correlation\n",
       "count  682543.000000\n",
       "mean        0.994315\n",
       "std         0.053637\n",
       "min        -0.231037\n",
       "25%              NaN\n",
       "50%              NaN\n",
       "75%              NaN\n",
       "max         1.000000"
      ]
     },
     "execution_count": 45,
     "metadata": {},
     "output_type": "execute_result"
    }
   ],
   "source": [
    "f250 = chipcat('./1/f250')\n",
    "f250.describe()"
   ]
  },
  {
   "cell_type": "code",
   "execution_count": 112,
   "metadata": {
    "collapsed": false
   },
   "outputs": [
    {
     "data": {
      "text/html": [
       "<div>\n",
       "<table border=\"1\" class=\"dataframe\">\n",
       "  <thead>\n",
       "    <tr style=\"text-align: right;\">\n",
       "      <th></th>\n",
       "      <th>snp50</th>\n",
       "    </tr>\n",
       "  </thead>\n",
       "  <tbody>\n",
       "    <tr>\n",
       "      <th>count</th>\n",
       "      <td>676752.000000</td>\n",
       "    </tr>\n",
       "    <tr>\n",
       "      <th>mean</th>\n",
       "      <td>0.969429</td>\n",
       "    </tr>\n",
       "    <tr>\n",
       "      <th>std</th>\n",
       "      <td>0.090401</td>\n",
       "    </tr>\n",
       "    <tr>\n",
       "      <th>min</th>\n",
       "      <td>-0.817303</td>\n",
       "    </tr>\n",
       "    <tr>\n",
       "      <th>25%</th>\n",
       "      <td>NaN</td>\n",
       "    </tr>\n",
       "    <tr>\n",
       "      <th>50%</th>\n",
       "      <td>NaN</td>\n",
       "    </tr>\n",
       "    <tr>\n",
       "      <th>75%</th>\n",
       "      <td>NaN</td>\n",
       "    </tr>\n",
       "    <tr>\n",
       "      <th>max</th>\n",
       "      <td>1.000000</td>\n",
       "    </tr>\n",
       "  </tbody>\n",
       "</table>\n",
       "</div>"
      ],
      "text/plain": [
       "               snp50\n",
       "count  676752.000000\n",
       "mean        0.969429\n",
       "std         0.090401\n",
       "min        -0.817303\n",
       "25%              NaN\n",
       "50%              NaN\n",
       "75%              NaN\n",
       "max         1.000000"
      ]
     },
     "execution_count": 112,
     "metadata": {},
     "output_type": "execute_result"
    }
   ],
   "source": [
    "snp50stats1.columns= ['snp50']\n",
    "snp50stats1"
   ]
  },
  {
   "cell_type": "code",
   "execution_count": 50,
   "metadata": {
    "collapsed": false
   },
   "outputs": [
    {
     "name": "stderr",
     "output_type": "stream",
     "text": [
      "/home/jlh4df/.conda/envs/Imp3/lib/python3.5/site-packages/numpy/lib/function_base.py:4116: RuntimeWarning: Invalid value encountered in percentile\n",
      "  interpolation=interpolation)\n"
     ]
    },
    {
     "data": {
      "text/html": [
       "<div>\n",
       "<table border=\"1\" class=\"dataframe\">\n",
       "  <thead>\n",
       "    <tr style=\"text-align: right;\">\n",
       "      <th></th>\n",
       "      <th>correlation</th>\n",
       "    </tr>\n",
       "  </thead>\n",
       "  <tbody>\n",
       "    <tr>\n",
       "      <th>count</th>\n",
       "      <td>676752.000000</td>\n",
       "    </tr>\n",
       "    <tr>\n",
       "      <th>mean</th>\n",
       "      <td>0.969429</td>\n",
       "    </tr>\n",
       "    <tr>\n",
       "      <th>std</th>\n",
       "      <td>0.090401</td>\n",
       "    </tr>\n",
       "    <tr>\n",
       "      <th>min</th>\n",
       "      <td>-0.817303</td>\n",
       "    </tr>\n",
       "    <tr>\n",
       "      <th>25%</th>\n",
       "      <td>NaN</td>\n",
       "    </tr>\n",
       "    <tr>\n",
       "      <th>50%</th>\n",
       "      <td>NaN</td>\n",
       "    </tr>\n",
       "    <tr>\n",
       "      <th>75%</th>\n",
       "      <td>NaN</td>\n",
       "    </tr>\n",
       "    <tr>\n",
       "      <th>max</th>\n",
       "      <td>1.000000</td>\n",
       "    </tr>\n",
       "  </tbody>\n",
       "</table>\n",
       "</div>"
      ],
      "text/plain": [
       "         correlation\n",
       "count  676752.000000\n",
       "mean        0.969429\n",
       "std         0.090401\n",
       "min        -0.817303\n",
       "25%              NaN\n",
       "50%              NaN\n",
       "75%              NaN\n",
       "max         1.000000"
      ]
     },
     "execution_count": 50,
     "metadata": {},
     "output_type": "execute_result"
    }
   ],
   "source": [
    "snp50 = chipcat('./1/snp50')\n",
    "snp50.describe()"
   ]
  },
  {
   "cell_type": "code",
   "execution_count": 51,
   "metadata": {
    "collapsed": false
   },
   "outputs": [
    {
     "name": "stderr",
     "output_type": "stream",
     "text": [
      "/home/jlh4df/.conda/envs/Imp3/lib/python3.5/site-packages/numpy/lib/function_base.py:4116: RuntimeWarning: Invalid value encountered in percentile\n",
      "  interpolation=interpolation)\n"
     ]
    },
    {
     "data": {
      "text/html": [
       "<div>\n",
       "<table border=\"1\" class=\"dataframe\">\n",
       "  <thead>\n",
       "    <tr style=\"text-align: right;\">\n",
       "      <th></th>\n",
       "      <th>correlation</th>\n",
       "    </tr>\n",
       "  </thead>\n",
       "  <tbody>\n",
       "    <tr>\n",
       "      <th>count</th>\n",
       "      <td>677071.000000</td>\n",
       "    </tr>\n",
       "    <tr>\n",
       "      <th>mean</th>\n",
       "      <td>0.969432</td>\n",
       "    </tr>\n",
       "    <tr>\n",
       "      <th>std</th>\n",
       "      <td>0.090029</td>\n",
       "    </tr>\n",
       "    <tr>\n",
       "      <th>min</th>\n",
       "      <td>-0.547723</td>\n",
       "    </tr>\n",
       "    <tr>\n",
       "      <th>25%</th>\n",
       "      <td>NaN</td>\n",
       "    </tr>\n",
       "    <tr>\n",
       "      <th>50%</th>\n",
       "      <td>NaN</td>\n",
       "    </tr>\n",
       "    <tr>\n",
       "      <th>75%</th>\n",
       "      <td>NaN</td>\n",
       "    </tr>\n",
       "    <tr>\n",
       "      <th>max</th>\n",
       "      <td>1.000000</td>\n",
       "    </tr>\n",
       "  </tbody>\n",
       "</table>\n",
       "</div>"
      ],
      "text/plain": [
       "         correlation\n",
       "count  677071.000000\n",
       "mean        0.969432\n",
       "std         0.090029\n",
       "min        -0.547723\n",
       "25%              NaN\n",
       "50%              NaN\n",
       "75%              NaN\n",
       "max         1.000000"
      ]
     },
     "execution_count": 51,
     "metadata": {},
     "output_type": "execute_result"
    }
   ],
   "source": [
    "snp50 = chipcat('./2/snp50')\n",
    "snp50.describe()"
   ]
  },
  {
   "cell_type": "code",
   "execution_count": 47,
   "metadata": {
    "collapsed": false
   },
   "outputs": [
    {
     "name": "stderr",
     "output_type": "stream",
     "text": [
      "/home/jlh4df/.conda/envs/Imp3/lib/python3.5/site-packages/numpy/lib/function_base.py:4116: RuntimeWarning: Invalid value encountered in percentile\n",
      "  interpolation=interpolation)\n"
     ]
    },
    {
     "data": {
      "text/html": [
       "<div>\n",
       "<table border=\"1\" class=\"dataframe\">\n",
       "  <thead>\n",
       "    <tr style=\"text-align: right;\">\n",
       "      <th></th>\n",
       "      <th>correlation</th>\n",
       "    </tr>\n",
       "  </thead>\n",
       "  <tbody>\n",
       "    <tr>\n",
       "      <th>count</th>\n",
       "      <td>675140.000000</td>\n",
       "    </tr>\n",
       "    <tr>\n",
       "      <th>mean</th>\n",
       "      <td>0.956351</td>\n",
       "    </tr>\n",
       "    <tr>\n",
       "      <th>std</th>\n",
       "      <td>0.100002</td>\n",
       "    </tr>\n",
       "    <tr>\n",
       "      <th>min</th>\n",
       "      <td>-0.848528</td>\n",
       "    </tr>\n",
       "    <tr>\n",
       "      <th>25%</th>\n",
       "      <td>NaN</td>\n",
       "    </tr>\n",
       "    <tr>\n",
       "      <th>50%</th>\n",
       "      <td>NaN</td>\n",
       "    </tr>\n",
       "    <tr>\n",
       "      <th>75%</th>\n",
       "      <td>NaN</td>\n",
       "    </tr>\n",
       "    <tr>\n",
       "      <th>max</th>\n",
       "      <td>1.000000</td>\n",
       "    </tr>\n",
       "  </tbody>\n",
       "</table>\n",
       "</div>"
      ],
      "text/plain": [
       "         correlation\n",
       "count  675140.000000\n",
       "mean        0.956351\n",
       "std         0.100002\n",
       "min        -0.848528\n",
       "25%              NaN\n",
       "50%              NaN\n",
       "75%              NaN\n",
       "max         1.000000"
      ]
     },
     "execution_count": 47,
     "metadata": {},
     "output_type": "execute_result"
    }
   ],
   "source": [
    "ggpld = chipcat('./1/ggpld')\n",
    "ggpld.describe()"
   ]
  },
  {
   "cell_type": "code",
   "execution_count": 48,
   "metadata": {
    "collapsed": false
   },
   "outputs": [
    {
     "name": "stderr",
     "output_type": "stream",
     "text": [
      "/home/jlh4df/.conda/envs/Imp3/lib/python3.5/site-packages/numpy/lib/function_base.py:4116: RuntimeWarning: Invalid value encountered in percentile\n",
      "  interpolation=interpolation)\n"
     ]
    },
    {
     "data": {
      "text/html": [
       "<div>\n",
       "<table border=\"1\" class=\"dataframe\">\n",
       "  <thead>\n",
       "    <tr style=\"text-align: right;\">\n",
       "      <th></th>\n",
       "      <th>correlation</th>\n",
       "    </tr>\n",
       "  </thead>\n",
       "  <tbody>\n",
       "    <tr>\n",
       "      <th>count</th>\n",
       "      <td>675281.000000</td>\n",
       "    </tr>\n",
       "    <tr>\n",
       "      <th>mean</th>\n",
       "      <td>0.956070</td>\n",
       "    </tr>\n",
       "    <tr>\n",
       "      <th>std</th>\n",
       "      <td>0.099835</td>\n",
       "    </tr>\n",
       "    <tr>\n",
       "      <th>min</th>\n",
       "      <td>-0.534522</td>\n",
       "    </tr>\n",
       "    <tr>\n",
       "      <th>25%</th>\n",
       "      <td>NaN</td>\n",
       "    </tr>\n",
       "    <tr>\n",
       "      <th>50%</th>\n",
       "      <td>NaN</td>\n",
       "    </tr>\n",
       "    <tr>\n",
       "      <th>75%</th>\n",
       "      <td>NaN</td>\n",
       "    </tr>\n",
       "    <tr>\n",
       "      <th>max</th>\n",
       "      <td>1.000000</td>\n",
       "    </tr>\n",
       "  </tbody>\n",
       "</table>\n",
       "</div>"
      ],
      "text/plain": [
       "         correlation\n",
       "count  675281.000000\n",
       "mean        0.956070\n",
       "std         0.099835\n",
       "min        -0.534522\n",
       "25%              NaN\n",
       "50%              NaN\n",
       "75%              NaN\n",
       "max         1.000000"
      ]
     },
     "execution_count": 48,
     "metadata": {},
     "output_type": "execute_result"
    }
   ],
   "source": [
    "ggpld = chipcat('./2/ggpld')\n",
    "ggpld.describe()"
   ]
  },
  {
   "cell_type": "code",
   "execution_count": 54,
   "metadata": {
    "collapsed": false
   },
   "outputs": [
    {
     "data": {
      "text/plain": [
       "<matplotlib.axes._subplots.AxesSubplot at 0x7faaa8c7c2e8>"
      ]
     },
     "execution_count": 54,
     "metadata": {},
     "output_type": "execute_result"
    },
    {
     "data": {
      "image/png": "[encoded data removed]",
      "text/plain": [
       "<matplotlib.figure.Figure at 0x7faaa8c86e48>"
      ]
     },
     "metadata": {},
     "output_type": "display_data"
    }
   ],
   "source": [
    "ggpld.plot(kind='hist',bins = 100)"
   ]
  },
  {
   "cell_type": "code",
   "execution_count": 57,
   "metadata": {
    "collapsed": false
   },
   "outputs": [
    {
     "data": {
      "text/plain": [
       "(873739, 1)"
      ]
     },
     "execution_count": 57,
     "metadata": {},
     "output_type": "execute_result"
    }
   ],
   "source": [
    "ggpld.shape"
   ]
  },
  {
   "cell_type": "code",
   "execution_count": 58,
   "metadata": {
    "collapsed": false
   },
   "outputs": [
    {
     "data": {
      "text/plain": [
       "(873739, 1)"
      ]
     },
     "execution_count": 58,
     "metadata": {},
     "output_type": "execute_result"
    }
   ],
   "source": [
    "snp50.shape"
   ]
  },
  {
   "cell_type": "code",
   "execution_count": 60,
   "metadata": {
    "collapsed": false
   },
   "outputs": [
    {
     "name": "stdout",
     "output_type": "stream",
     "text": [
      "./run2/hol_testset.F250.197.mafcorr.csv\r\n",
      "\u001b[0m\u001b[01;35m./run2/hol_testset.F250.197.mafcorr.png\u001b[0m\r\n",
      "\u001b[m"
     ]
    }
   ],
   "source": [
    "ls ./run2/hol_testset.F250*mafcorr*"
   ]
  },
  {
   "cell_type": "code",
   "execution_count": 11,
   "metadata": {
    "collapsed": false
   },
   "outputs": [],
   "source": [
    "run1f250 = pd.read_csv('./run1/hol_testset.F250.197.mafcorr.csv',index_col=0)"
   ]
  },
  {
   "cell_type": "code",
   "execution_count": 12,
   "metadata": {
    "collapsed": false
   },
   "outputs": [
    {
     "data": {
      "text/plain": [
       "correlation    678176\n",
       "CHR            759692\n",
       "POS            759692\n",
       "MAF            759692\n",
       "dtype: int64"
      ]
     },
     "execution_count": 12,
     "metadata": {},
     "output_type": "execute_result"
    }
   ],
   "source": [
    "run1f250.count()"
   ]
  },
  {
   "cell_type": "code",
   "execution_count": 67,
   "metadata": {
    "collapsed": false
   },
   "outputs": [
    {
     "data": {
      "text/plain": [
       "(877756, 4)"
      ]
     },
     "execution_count": 67,
     "metadata": {},
     "output_type": "execute_result"
    }
   ],
   "source": [
    "run1f250.shape"
   ]
  },
  {
   "cell_type": "code",
   "execution_count": 13,
   "metadata": {
    "collapsed": true
   },
   "outputs": [],
   "source": [
    "run1ggp = pd.read_csv('./run1/hol_testset.GGPLD.788.mafcorr.csv',index_col=0)"
   ]
  },
  {
   "cell_type": "code",
   "execution_count": 14,
   "metadata": {
    "collapsed": false
   },
   "outputs": [
    {
     "data": {
      "text/plain": [
       "correlation    677063\n",
       "CHR            759692\n",
       "POS            759692\n",
       "MAF            759692\n",
       "dtype: int64"
      ]
     },
     "execution_count": 14,
     "metadata": {},
     "output_type": "execute_result"
    }
   ],
   "source": [
    "run1ggp.count()"
   ]
  },
  {
   "cell_type": "code",
   "execution_count": 15,
   "metadata": {
    "collapsed": false
   },
   "outputs": [],
   "source": [
    "fixed = run1ggp[run1ggp.correlation.isnull()&run1ggp.MAF.notnull()]"
   ]
  },
  {
   "cell_type": "code",
   "execution_count": 16,
   "metadata": {
    "collapsed": false
   },
   "outputs": [
    {
     "name": "stderr",
     "output_type": "stream",
     "text": [
      "/home/jlh4df/.conda/envs/Imp3/lib/python3.5/site-packages/numpy/lib/function_base.py:4116: RuntimeWarning: Invalid value encountered in percentile\n",
      "  interpolation=interpolation)\n"
     ]
    },
    {
     "data": {
      "text/html": [
       "<div>\n",
       "<table border=\"1\" class=\"dataframe\">\n",
       "  <thead>\n",
       "    <tr style=\"text-align: right;\">\n",
       "      <th></th>\n",
       "      <th>correlation</th>\n",
       "      <th>CHR</th>\n",
       "      <th>POS</th>\n",
       "      <th>MAF</th>\n",
       "    </tr>\n",
       "  </thead>\n",
       "  <tbody>\n",
       "    <tr>\n",
       "      <th>count</th>\n",
       "      <td>0.0</td>\n",
       "      <td>82862.000000</td>\n",
       "      <td>8.286200e+04</td>\n",
       "      <td>82862.000000</td>\n",
       "    </tr>\n",
       "    <tr>\n",
       "      <th>mean</th>\n",
       "      <td>NaN</td>\n",
       "      <td>12.990176</td>\n",
       "      <td>5.809868e+07</td>\n",
       "      <td>0.057900</td>\n",
       "    </tr>\n",
       "    <tr>\n",
       "      <th>std</th>\n",
       "      <td>NaN</td>\n",
       "      <td>7.830234</td>\n",
       "      <td>3.559895e+07</td>\n",
       "      <td>0.127145</td>\n",
       "    </tr>\n",
       "    <tr>\n",
       "      <th>min</th>\n",
       "      <td>NaN</td>\n",
       "      <td>1.000000</td>\n",
       "      <td>9.300000e+03</td>\n",
       "      <td>0.000000</td>\n",
       "    </tr>\n",
       "    <tr>\n",
       "      <th>25%</th>\n",
       "      <td>NaN</td>\n",
       "      <td>6.000000</td>\n",
       "      <td>3.005235e+07</td>\n",
       "      <td>0.000257</td>\n",
       "    </tr>\n",
       "    <tr>\n",
       "      <th>50%</th>\n",
       "      <td>NaN</td>\n",
       "      <td>13.000000</td>\n",
       "      <td>5.257022e+07</td>\n",
       "      <td>0.000770</td>\n",
       "    </tr>\n",
       "    <tr>\n",
       "      <th>75%</th>\n",
       "      <td>NaN</td>\n",
       "      <td>19.000000</td>\n",
       "      <td>8.162409e+07</td>\n",
       "      <td>0.005149</td>\n",
       "    </tr>\n",
       "    <tr>\n",
       "      <th>max</th>\n",
       "      <td>NaN</td>\n",
       "      <td>29.000000</td>\n",
       "      <td>1.583226e+08</td>\n",
       "      <td>0.500000</td>\n",
       "    </tr>\n",
       "  </tbody>\n",
       "</table>\n",
       "</div>"
      ],
      "text/plain": [
       "       correlation           CHR           POS           MAF\n",
       "count          0.0  82862.000000  8.286200e+04  82862.000000\n",
       "mean           NaN     12.990176  5.809868e+07      0.057900\n",
       "std            NaN      7.830234  3.559895e+07      0.127145\n",
       "min            NaN      1.000000  9.300000e+03      0.000000\n",
       "25%            NaN      6.000000  3.005235e+07      0.000257\n",
       "50%            NaN     13.000000  5.257022e+07      0.000770\n",
       "75%            NaN     19.000000  8.162409e+07      0.005149\n",
       "max            NaN     29.000000  1.583226e+08      0.500000"
      ]
     },
     "execution_count": 16,
     "metadata": {},
     "output_type": "execute_result"
    }
   ],
   "source": [
    "fixed.describe()"
   ]
  },
  {
   "cell_type": "code",
   "execution_count": 17,
   "metadata": {
    "collapsed": false
   },
   "outputs": [
    {
     "data": {
      "text/html": [
       "<div>\n",
       "<table border=\"1\" class=\"dataframe\">\n",
       "  <thead>\n",
       "    <tr style=\"text-align: right;\">\n",
       "      <th></th>\n",
       "      <th>correlation</th>\n",
       "      <th>CHR</th>\n",
       "      <th>POS</th>\n",
       "      <th>MAF</th>\n",
       "    </tr>\n",
       "  </thead>\n",
       "  <tbody>\n",
       "    <tr>\n",
       "      <th>1:100126040</th>\n",
       "      <td>NaN</td>\n",
       "      <td>1.0</td>\n",
       "      <td>100126040.0</td>\n",
       "      <td>0.000255</td>\n",
       "    </tr>\n",
       "    <tr>\n",
       "      <th>1:100130696</th>\n",
       "      <td>NaN</td>\n",
       "      <td>1.0</td>\n",
       "      <td>100130696.0</td>\n",
       "      <td>0.000255</td>\n",
       "    </tr>\n",
       "    <tr>\n",
       "      <th>1:100158806</th>\n",
       "      <td>NaN</td>\n",
       "      <td>1.0</td>\n",
       "      <td>100158806.0</td>\n",
       "      <td>0.002532</td>\n",
       "    </tr>\n",
       "    <tr>\n",
       "      <th>1:100177258</th>\n",
       "      <td>NaN</td>\n",
       "      <td>1.0</td>\n",
       "      <td>100177258.0</td>\n",
       "      <td>0.000255</td>\n",
       "    </tr>\n",
       "    <tr>\n",
       "      <th>1:100191189</th>\n",
       "      <td>NaN</td>\n",
       "      <td>1.0</td>\n",
       "      <td>100191189.0</td>\n",
       "      <td>0.000255</td>\n",
       "    </tr>\n",
       "  </tbody>\n",
       "</table>\n",
       "</div>"
      ],
      "text/plain": [
       "             correlation  CHR          POS       MAF\n",
       "1:100126040          NaN  1.0  100126040.0  0.000255\n",
       "1:100130696          NaN  1.0  100130696.0  0.000255\n",
       "1:100158806          NaN  1.0  100158806.0  0.002532\n",
       "1:100177258          NaN  1.0  100177258.0  0.000255\n",
       "1:100191189          NaN  1.0  100191189.0  0.000255"
      ]
     },
     "execution_count": 17,
     "metadata": {},
     "output_type": "execute_result"
    }
   ],
   "source": [
    "fixed.head()"
   ]
  },
  {
   "cell_type": "code",
   "execution_count": 18,
   "metadata": {
    "collapsed": false
   },
   "outputs": [
    {
     "data": {
      "text/plain": [
       "<matplotlib.axes._subplots.AxesSubplot at 0x7f36feb0b390>"
      ]
     },
     "execution_count": 18,
     "metadata": {},
     "output_type": "execute_result"
    },
    {
     "data": {
      "image/png": "[encoded data removed]",
      "text/plain": [
       "<matplotlib.figure.Figure at 0x7f3726e8c9e8>"
      ]
     },
     "metadata": {},
     "output_type": "display_data"
    }
   ],
   "source": [
    "fixed.MAF.plot(kind='hist',bins=50,logy=True,title='MAF Not Unimptued sites GGPLD samples Run1')"
   ]
  },
  {
   "cell_type": "code",
   "execution_count": 99,
   "metadata": {
    "collapsed": true
   },
   "outputs": [],
   "source": [
    "run2ggp = pd.read_csv('./run2/hol_testset.GGPLD.788.mafcorr.csv',index_col=0)\n",
    "fixed2 = run2ggp[run2ggp.correlation.isnull()&run2ggp.MAF.notnull()]"
   ]
  },
  {
   "cell_type": "code",
   "execution_count": 121,
   "metadata": {
    "collapsed": false
   },
   "outputs": [
    {
     "data": {
      "text/plain": [
       "<matplotlib.axes._subplots.AxesSubplot at 0x7faabfc76eb8>"
      ]
     },
     "execution_count": 121,
     "metadata": {},
     "output_type": "execute_result"
    },
    {
     "data": {
      "image/png": "[encoded data removed]",
      "text/plain": [
       "<matplotlib.figure.Figure at 0x7faab6d8c9e8>"
      ]
     },
     "metadata": {},
     "output_type": "display_data"
    }
   ],
   "source": [
    "fixed.MAF.plot(kind='hist',bins=50,logy=True,title='MAF Not Unimptued sites GGPLD samples Run2')"
   ]
  },
  {
   "cell_type": "code",
   "execution_count": 115,
   "metadata": {
    "collapsed": false
   },
   "outputs": [],
   "source": [
    "freq = pd.read_table('../accuracy_test/merged_refs/F250_HD_merged.1970.frq', delim_whitespace=True)\n",
    "del freq['A1']\n",
    "del freq['A2']\n",
    "del freq['NCHROBS']\n"
   ]
  },
  {
   "cell_type": "code",
   "execution_count": 451,
   "metadata": {
    "collapsed": false
   },
   "outputs": [
    {
     "data": {
      "text/html": [
       "<div>\n",
       "<table border=\"1\" class=\"dataframe\">\n",
       "  <thead>\n",
       "    <tr style=\"text-align: right;\">\n",
       "      <th></th>\n",
       "      <th>CHR</th>\n",
       "      <th>SNP</th>\n",
       "      <th>CM</th>\n",
       "      <th>POS</th>\n",
       "    </tr>\n",
       "  </thead>\n",
       "  <tbody>\n",
       "    <tr>\n",
       "      <th>0</th>\n",
       "      <td>1</td>\n",
       "      <td>217986</td>\n",
       "      <td>0.019832</td>\n",
       "      <td>19832</td>\n",
       "    </tr>\n",
       "    <tr>\n",
       "      <th>1</th>\n",
       "      <td>1</td>\n",
       "      <td>1023761</td>\n",
       "      <td>0.036337</td>\n",
       "      <td>36337</td>\n",
       "    </tr>\n",
       "    <tr>\n",
       "      <th>2</th>\n",
       "      <td>1</td>\n",
       "      <td>1023762</td>\n",
       "      <td>0.067130</td>\n",
       "      <td>67130</td>\n",
       "    </tr>\n",
       "    <tr>\n",
       "      <th>3</th>\n",
       "      <td>1</td>\n",
       "      <td>252907</td>\n",
       "      <td>0.070600</td>\n",
       "      <td>70600</td>\n",
       "    </tr>\n",
       "    <tr>\n",
       "      <th>4</th>\n",
       "      <td>1</td>\n",
       "      <td>1023763</td>\n",
       "      <td>0.078655</td>\n",
       "      <td>78655</td>\n",
       "    </tr>\n",
       "  </tbody>\n",
       "</table>\n",
       "</div>"
      ],
      "text/plain": [
       "   CHR      SNP        CM    POS\n",
       "0    1   217986  0.019832  19832\n",
       "1    1  1023761  0.036337  36337\n",
       "2    1  1023762  0.067130  67130\n",
       "3    1   252907  0.070600  70600\n",
       "4    1  1023763  0.078655  78655"
      ]
     },
     "execution_count": 451,
     "metadata": {},
     "output_type": "execute_result"
    }
   ],
   "source": [
    "allmap = pd.read_table('../accuracy_test/merged_refs/F250_HD_merged.1970.map', delim_whitespace=True, header=None)\n",
    "allmap.columns = (\"CHR\", \"SNP\", \"CM\", \"POS\")\n",
    "allmap.head()"
   ]
  },
  {
   "cell_type": "code",
   "execution_count": 117,
   "metadata": {
    "collapsed": false
   },
   "outputs": [
    {
     "data": {
      "text/html": [
       "<div>\n",
       "<table border=\"1\" class=\"dataframe\">\n",
       "  <thead>\n",
       "    <tr style=\"text-align: right;\">\n",
       "      <th></th>\n",
       "      <th>CHR</th>\n",
       "      <th>SNP</th>\n",
       "      <th>CM</th>\n",
       "      <th>POS</th>\n",
       "      <th>MAF</th>\n",
       "    </tr>\n",
       "  </thead>\n",
       "  <tbody>\n",
       "    <tr>\n",
       "      <th>0</th>\n",
       "      <td>1</td>\n",
       "      <td>217986</td>\n",
       "      <td>0.019832</td>\n",
       "      <td>19832</td>\n",
       "      <td>0.04543</td>\n",
       "    </tr>\n",
       "    <tr>\n",
       "      <th>1</th>\n",
       "      <td>1</td>\n",
       "      <td>1023761</td>\n",
       "      <td>0.036337</td>\n",
       "      <td>36337</td>\n",
       "      <td>0.49800</td>\n",
       "    </tr>\n",
       "    <tr>\n",
       "      <th>2</th>\n",
       "      <td>1</td>\n",
       "      <td>1023762</td>\n",
       "      <td>0.067130</td>\n",
       "      <td>67130</td>\n",
       "      <td>1.00000</td>\n",
       "    </tr>\n",
       "    <tr>\n",
       "      <th>3</th>\n",
       "      <td>1</td>\n",
       "      <td>252907</td>\n",
       "      <td>0.070600</td>\n",
       "      <td>70600</td>\n",
       "      <td>0.03983</td>\n",
       "    </tr>\n",
       "    <tr>\n",
       "      <th>4</th>\n",
       "      <td>1</td>\n",
       "      <td>1023763</td>\n",
       "      <td>0.078655</td>\n",
       "      <td>78655</td>\n",
       "      <td>0.49870</td>\n",
       "    </tr>\n",
       "  </tbody>\n",
       "</table>\n",
       "</div>"
      ],
      "text/plain": [
       "   CHR      SNP        CM    POS      MAF\n",
       "0    1   217986  0.019832  19832  0.04543\n",
       "1    1  1023761  0.036337  36337  0.49800\n",
       "2    1  1023762  0.067130  67130  1.00000\n",
       "3    1   252907  0.070600  70600  0.03983\n",
       "4    1  1023763  0.078655  78655  0.49870"
      ]
     },
     "execution_count": 117,
     "metadata": {},
     "output_type": "execute_result"
    }
   ],
   "source": [
    "freq_map_merged = pd.merge(map, freq, on=(\"SNP\",\"CHR\"), how='inner')\n",
    "freq_map_merged.head()"
   ]
  },
  {
   "cell_type": "code",
   "execution_count": 118,
   "metadata": {
    "collapsed": false
   },
   "outputs": [
    {
     "data": {
      "text/html": [
       "<div>\n",
       "<table border=\"1\" class=\"dataframe\">\n",
       "  <thead>\n",
       "    <tr style=\"text-align: right;\">\n",
       "      <th></th>\n",
       "      <th>CHR</th>\n",
       "      <th>POS</th>\n",
       "      <th>MAF</th>\n",
       "    </tr>\n",
       "  </thead>\n",
       "  <tbody>\n",
       "    <tr>\n",
       "      <th>0</th>\n",
       "      <td>1</td>\n",
       "      <td>19832</td>\n",
       "      <td>0.04543</td>\n",
       "    </tr>\n",
       "    <tr>\n",
       "      <th>1</th>\n",
       "      <td>1</td>\n",
       "      <td>36337</td>\n",
       "      <td>0.49800</td>\n",
       "    </tr>\n",
       "    <tr>\n",
       "      <th>2</th>\n",
       "      <td>1</td>\n",
       "      <td>67130</td>\n",
       "      <td>1.00000</td>\n",
       "    </tr>\n",
       "    <tr>\n",
       "      <th>3</th>\n",
       "      <td>1</td>\n",
       "      <td>70600</td>\n",
       "      <td>0.03983</td>\n",
       "    </tr>\n",
       "    <tr>\n",
       "      <th>4</th>\n",
       "      <td>1</td>\n",
       "      <td>78655</td>\n",
       "      <td>0.49870</td>\n",
       "    </tr>\n",
       "  </tbody>\n",
       "</table>\n",
       "</div>"
      ],
      "text/plain": [
       "   CHR    POS      MAF\n",
       "0    1  19832  0.04543\n",
       "1    1  36337  0.49800\n",
       "2    1  67130  1.00000\n",
       "3    1  70600  0.03983\n",
       "4    1  78655  0.49870"
      ]
     },
     "execution_count": 118,
     "metadata": {},
     "output_type": "execute_result"
    }
   ],
   "source": [
    "freq_map_merged = pd.merge(map, freq, on=(\"SNP\",\"CHR\"), how='inner')\n",
    "freq_map_merged.head()\n",
    "posmaf = freq_map_merged[[\"CHR\",\"POS\",\"MAF\"]]\n",
    "posmaf.head()"
   ]
  },
  {
   "cell_type": "code",
   "execution_count": 187,
   "metadata": {
    "collapsed": false
   },
   "outputs": [
    {
     "data": {
      "text/html": [
       "<div>\n",
       "<table border=\"1\" class=\"dataframe\">\n",
       "  <thead>\n",
       "    <tr style=\"text-align: right;\">\n",
       "      <th></th>\n",
       "      <th>correlation</th>\n",
       "    </tr>\n",
       "  </thead>\n",
       "  <tbody>\n",
       "    <tr>\n",
       "      <th>1:100000211</th>\n",
       "      <td>1.000000</td>\n",
       "    </tr>\n",
       "    <tr>\n",
       "      <th>1:100002839</th>\n",
       "      <td>0.998750</td>\n",
       "    </tr>\n",
       "    <tr>\n",
       "      <th>1:100007648</th>\n",
       "      <td>NaN</td>\n",
       "    </tr>\n",
       "    <tr>\n",
       "      <th>1:1000093</th>\n",
       "      <td>0.989332</td>\n",
       "    </tr>\n",
       "    <tr>\n",
       "      <th>1:100011144</th>\n",
       "      <td>1.000000</td>\n",
       "    </tr>\n",
       "  </tbody>\n",
       "</table>\n",
       "</div>"
      ],
      "text/plain": [
       "             correlation\n",
       "1:100000211     1.000000\n",
       "1:100002839     0.998750\n",
       "1:100007648          NaN\n",
       "1:1000093       0.989332\n",
       "1:100011144     1.000000"
      ]
     },
     "execution_count": 187,
     "metadata": {},
     "output_type": "execute_result"
    }
   ],
   "source": [
    "snp50.head()"
   ]
  },
  {
   "cell_type": "code",
   "execution_count": 185,
   "metadata": {
    "collapsed": false
   },
   "outputs": [
    {
     "data": {
      "text/html": [
       "<div>\n",
       "<table border=\"1\" class=\"dataframe\">\n",
       "  <thead>\n",
       "    <tr style=\"text-align: right;\">\n",
       "      <th></th>\n",
       "      <th>CHR</th>\n",
       "      <th>POS</th>\n",
       "      <th>MAF</th>\n",
       "      <th>chrpos</th>\n",
       "    </tr>\n",
       "    <tr>\n",
       "      <th>chrpos</th>\n",
       "      <th></th>\n",
       "      <th></th>\n",
       "      <th></th>\n",
       "      <th></th>\n",
       "    </tr>\n",
       "  </thead>\n",
       "  <tbody>\n",
       "    <tr>\n",
       "      <th>1:19832</th>\n",
       "      <td>1</td>\n",
       "      <td>19832</td>\n",
       "      <td>0.04543</td>\n",
       "      <td>1:19832</td>\n",
       "    </tr>\n",
       "    <tr>\n",
       "      <th>1:36337</th>\n",
       "      <td>1</td>\n",
       "      <td>36337</td>\n",
       "      <td>0.49800</td>\n",
       "      <td>1:36337</td>\n",
       "    </tr>\n",
       "    <tr>\n",
       "      <th>1:67130</th>\n",
       "      <td>1</td>\n",
       "      <td>67130</td>\n",
       "      <td>1.00000</td>\n",
       "      <td>1:67130</td>\n",
       "    </tr>\n",
       "    <tr>\n",
       "      <th>1:70600</th>\n",
       "      <td>1</td>\n",
       "      <td>70600</td>\n",
       "      <td>0.03983</td>\n",
       "      <td>1:70600</td>\n",
       "    </tr>\n",
       "    <tr>\n",
       "      <th>1:78655</th>\n",
       "      <td>1</td>\n",
       "      <td>78655</td>\n",
       "      <td>0.49870</td>\n",
       "      <td>1:78655</td>\n",
       "    </tr>\n",
       "  </tbody>\n",
       "</table>\n",
       "</div>"
      ],
      "text/plain": [
       "         CHR    POS      MAF   chrpos\n",
       "chrpos                               \n",
       "1:19832    1  19832  0.04543  1:19832\n",
       "1:36337    1  36337  0.49800  1:36337\n",
       "1:67130    1  67130  1.00000  1:67130\n",
       "1:70600    1  70600  0.03983  1:70600\n",
       "1:78655    1  78655  0.49870  1:78655"
      ]
     },
     "execution_count": 185,
     "metadata": {},
     "output_type": "execute_result"
    }
   ],
   "source": [
    "posmaf['chrpos'] = posmaf.CHR.astype(str).str.cat(posmaf.POS.astype(str), sep = ':') # should be set index\n",
    "posmaf.head()"
   ]
  },
  {
   "cell_type": "code",
   "execution_count": 186,
   "metadata": {
    "collapsed": false
   },
   "outputs": [],
   "source": [
    "posmaf = posmaf.set_index('chrpos')"
   ]
  },
  {
   "cell_type": "code",
   "execution_count": 131,
   "metadata": {
    "collapsed": false
   },
   "outputs": [
    {
     "data": {
      "text/plain": [
       "(918809, 3)"
      ]
     },
     "execution_count": 131,
     "metadata": {},
     "output_type": "execute_result"
    }
   ],
   "source": [
    "posmaf.shape"
   ]
  },
  {
   "cell_type": "code",
   "execution_count": 219,
   "metadata": {
    "collapsed": false
   },
   "outputs": [
    {
     "data": {
      "text/plain": [
       "(17611, 3)"
      ]
     },
     "execution_count": 219,
     "metadata": {},
     "output_type": "execute_result"
    }
   ],
   "source": [
    "posmaf[posmaf.CHR ==25].shape"
   ]
  },
  {
   "cell_type": "code",
   "execution_count": 64,
   "metadata": {
    "collapsed": false
   },
   "outputs": [],
   "source": [
    "high = posmaf[posmaf[\"MAF\"]>.5]"
   ]
  },
  {
   "cell_type": "code",
   "execution_count": 128,
   "metadata": {
    "collapsed": false
   },
   "outputs": [
    {
     "data": {
      "text/html": [
       "<div>\n",
       "<table border=\"1\" class=\"dataframe\">\n",
       "  <thead>\n",
       "    <tr style=\"text-align: right;\">\n",
       "      <th></th>\n",
       "      <th>CHR</th>\n",
       "      <th>POS</th>\n",
       "      <th>MAF</th>\n",
       "    </tr>\n",
       "  </thead>\n",
       "  <tbody>\n",
       "    <tr>\n",
       "      <th>count</th>\n",
       "      <td>310.000000</td>\n",
       "      <td>3.100000e+02</td>\n",
       "      <td>310.000000</td>\n",
       "    </tr>\n",
       "    <tr>\n",
       "      <th>mean</th>\n",
       "      <td>16.061290</td>\n",
       "      <td>4.936678e+07</td>\n",
       "      <td>0.545917</td>\n",
       "    </tr>\n",
       "    <tr>\n",
       "      <th>std</th>\n",
       "      <td>9.600741</td>\n",
       "      <td>3.722365e+07</td>\n",
       "      <td>0.142475</td>\n",
       "    </tr>\n",
       "    <tr>\n",
       "      <th>min</th>\n",
       "      <td>1.000000</td>\n",
       "      <td>2.211290e+05</td>\n",
       "      <td>0.500200</td>\n",
       "    </tr>\n",
       "    <tr>\n",
       "      <th>25%</th>\n",
       "      <td>8.000000</td>\n",
       "      <td>2.031728e+07</td>\n",
       "      <td>0.500300</td>\n",
       "    </tr>\n",
       "    <tr>\n",
       "      <th>50%</th>\n",
       "      <td>15.000000</td>\n",
       "      <td>3.753174e+07</td>\n",
       "      <td>0.500500</td>\n",
       "    </tr>\n",
       "    <tr>\n",
       "      <th>75%</th>\n",
       "      <td>25.000000</td>\n",
       "      <td>7.563511e+07</td>\n",
       "      <td>0.501675</td>\n",
       "    </tr>\n",
       "    <tr>\n",
       "      <th>max</th>\n",
       "      <td>32.000000</td>\n",
       "      <td>1.511343e+08</td>\n",
       "      <td>0.999700</td>\n",
       "    </tr>\n",
       "  </tbody>\n",
       "</table>\n",
       "</div>"
      ],
      "text/plain": [
       "              CHR           POS         MAF\n",
       "count  310.000000  3.100000e+02  310.000000\n",
       "mean    16.061290  4.936678e+07    0.545917\n",
       "std      9.600741  3.722365e+07    0.142475\n",
       "min      1.000000  2.211290e+05    0.500200\n",
       "25%      8.000000  2.031728e+07    0.500300\n",
       "50%     15.000000  3.753174e+07    0.500500\n",
       "75%     25.000000  7.563511e+07    0.501675\n",
       "max     32.000000  1.511343e+08    0.999700"
      ]
     },
     "execution_count": 128,
     "metadata": {},
     "output_type": "execute_result"
    }
   ],
   "source": [
    "high[high.MAF <1].describe()"
   ]
  },
  {
   "cell_type": "code",
   "execution_count": 104,
   "metadata": {
    "collapsed": true
   },
   "outputs": [],
   "source": [
    "freqx = pd.read_table('../ref_vcfs/F250_HD_merged.frqx',nrows=10,index_col=[0,1])\n",
    "freq = pd.read_table('../ref_vcfs/F250_HD_merged.frq',nrows=10,index_col=[0,1],delim_whitespace=True)"
   ]
  },
  {
   "cell_type": "code",
   "execution_count": 102,
   "metadata": {
    "collapsed": false
   },
   "outputs": [
    {
     "data": {
      "text/html": [
       "<div>\n",
       "<table border=\"1\" class=\"dataframe\">\n",
       "  <thead>\n",
       "    <tr style=\"text-align: right;\">\n",
       "      <th></th>\n",
       "      <th>CHR</th>\n",
       "      <th>SNP</th>\n",
       "      <th>A1</th>\n",
       "      <th>A2</th>\n",
       "      <th>MAF</th>\n",
       "      <th>NCHROBS</th>\n",
       "    </tr>\n",
       "  </thead>\n",
       "  <tbody>\n",
       "    <tr>\n",
       "      <th>0</th>\n",
       "      <td>1</td>\n",
       "      <td>217986</td>\n",
       "      <td>C</td>\n",
       "      <td>T</td>\n",
       "      <td>0.9501</td>\n",
       "      <td>1222</td>\n",
       "    </tr>\n",
       "    <tr>\n",
       "      <th>1</th>\n",
       "      <td>1</td>\n",
       "      <td>1023761</td>\n",
       "      <td>G</td>\n",
       "      <td>A</td>\n",
       "      <td>0.4897</td>\n",
       "      <td>1262</td>\n",
       "    </tr>\n",
       "    <tr>\n",
       "      <th>2</th>\n",
       "      <td>1</td>\n",
       "      <td>1023762</td>\n",
       "      <td>A</td>\n",
       "      <td>G</td>\n",
       "      <td>1.0000</td>\n",
       "      <td>1264</td>\n",
       "    </tr>\n",
       "  </tbody>\n",
       "</table>\n",
       "</div>"
      ],
      "text/plain": [
       "   CHR      SNP A1 A2     MAF  NCHROBS\n",
       "0    1   217986  C  T  0.9501     1222\n",
       "1    1  1023761  G  A  0.4897     1262\n",
       "2    1  1023762  A  G  1.0000     1264"
      ]
     },
     "execution_count": 102,
     "metadata": {},
     "output_type": "execute_result"
    }
   ],
   "source": [
    "freq.head(3)"
   ]
  },
  {
   "cell_type": "code",
   "execution_count": 103,
   "metadata": {
    "collapsed": false
   },
   "outputs": [
    {
     "data": {
      "text/html": [
       "<div>\n",
       "<table border=\"1\" class=\"dataframe\">\n",
       "  <thead>\n",
       "    <tr style=\"text-align: right;\">\n",
       "      <th></th>\n",
       "      <th></th>\n",
       "      <th>A1</th>\n",
       "      <th>A2</th>\n",
       "      <th>C(HOM A1)</th>\n",
       "      <th>C(HET)</th>\n",
       "      <th>C(HOM A2)</th>\n",
       "      <th>C(HAP A1)</th>\n",
       "      <th>C(HAP A2)</th>\n",
       "      <th>C(MISSING)</th>\n",
       "    </tr>\n",
       "    <tr>\n",
       "      <th>CHR</th>\n",
       "      <th>SNP</th>\n",
       "      <th></th>\n",
       "      <th></th>\n",
       "      <th></th>\n",
       "      <th></th>\n",
       "      <th></th>\n",
       "      <th></th>\n",
       "      <th></th>\n",
       "      <th></th>\n",
       "    </tr>\n",
       "  </thead>\n",
       "  <tbody>\n",
       "    <tr>\n",
       "      <th rowspan=\"3\" valign=\"top\">1</th>\n",
       "      <th>217986</th>\n",
       "      <td>C</td>\n",
       "      <td>T</td>\n",
       "      <td>550</td>\n",
       "      <td>61</td>\n",
       "      <td>0</td>\n",
       "      <td>0</td>\n",
       "      <td>0</td>\n",
       "      <td>21</td>\n",
       "    </tr>\n",
       "    <tr>\n",
       "      <th>1023761</th>\n",
       "      <td>G</td>\n",
       "      <td>A</td>\n",
       "      <td>154</td>\n",
       "      <td>310</td>\n",
       "      <td>167</td>\n",
       "      <td>0</td>\n",
       "      <td>0</td>\n",
       "      <td>1</td>\n",
       "    </tr>\n",
       "    <tr>\n",
       "      <th>1023762</th>\n",
       "      <td>A</td>\n",
       "      <td>G</td>\n",
       "      <td>632</td>\n",
       "      <td>0</td>\n",
       "      <td>0</td>\n",
       "      <td>0</td>\n",
       "      <td>0</td>\n",
       "      <td>0</td>\n",
       "    </tr>\n",
       "  </tbody>\n",
       "</table>\n",
       "</div>"
      ],
      "text/plain": [
       "            A1 A2  C(HOM A1)  C(HET)  C(HOM A2)  C(HAP A1)  C(HAP A2)  \\\n",
       "CHR SNP                                                                 \n",
       "1   217986   C  T        550      61          0          0          0   \n",
       "    1023761  G  A        154     310        167          0          0   \n",
       "    1023762  A  G        632       0          0          0          0   \n",
       "\n",
       "             C(MISSING)  \n",
       "CHR SNP                  \n",
       "1   217986           21  \n",
       "    1023761           1  \n",
       "    1023762           0  "
      ]
     },
     "execution_count": 103,
     "metadata": {},
     "output_type": "execute_result"
    }
   ],
   "source": [
    "freqx.head(3)"
   ]
  },
  {
   "cell_type": "code",
   "execution_count": 235,
   "metadata": {
    "collapsed": true
   },
   "outputs": [],
   "source": [
    "run1snp50 = pd.read_csv('./run1/snp50.mafcorr.csv',index_col=0)"
   ]
  },
  {
   "cell_type": "code",
   "execution_count": 232,
   "metadata": {
    "collapsed": false
   },
   "outputs": [
    {
     "name": "stdout",
     "output_type": "stream",
     "text": [
      "./run1/snp50.chr1.snp_correlations.csv\n",
      "./run1/snp50.chr10.snp_correlations.csv\n",
      "./run1/snp50.chr11.snp_correlations.csv\n",
      "./run1/snp50.chr12.snp_correlations.csv\n",
      "./run1/snp50.chr13.snp_correlations.csv\n",
      "./run1/snp50.chr14.snp_correlations.csv\n",
      "./run1/snp50.chr15.snp_correlations.csv\n",
      "./run1/snp50.chr16.snp_correlations.csv\n",
      "./run1/snp50.chr17.snp_correlations.csv\n",
      "./run1/snp50.chr18.snp_correlations.csv\n",
      "./run1/snp50.chr19.snp_correlations.csv\n",
      "./run1/snp50.chr2.snp_correlations.csv\n",
      "./run1/snp50.chr20.snp_correlations.csv\n",
      "./run1/snp50.chr21.snp_correlations.csv\n",
      "./run1/snp50.chr22.snp_correlations.csv\n",
      "./run1/snp50.chr23.snp_correlations.csv\n",
      "./run1/snp50.chr24.snp_correlations.csv\n",
      "./run1/snp50.chr25.snp_correlations.csv\n",
      "./run1/snp50.chr26.snp_correlations.csv\n",
      "./run1/snp50.chr27.snp_correlations.csv\n",
      "./run1/snp50.chr28.snp_correlations.csv\n",
      "./run1/snp50.chr29.snp_correlations.csv\n",
      "./run1/snp50.chr3.snp_correlations.csv\n",
      "./run1/snp50.chr4.snp_correlations.csv\n",
      "./run1/snp50.chr5.snp_correlations.csv\n",
      "./run1/snp50.chr6.snp_correlations.csv\n",
      "./run1/snp50.chr7.snp_correlations.csv\n",
      "./run1/snp50.chr8.snp_correlations.csv\n",
      "./run1/snp50.chr9.snp_correlations.csv\n"
     ]
    }
   ],
   "source": [
    "snp50 = chipcat('./run1/snp50')\n"
   ]
  },
  {
   "cell_type": "code",
   "execution_count": 594,
   "metadata": {
    "collapsed": false
   },
   "outputs": [],
   "source": [
    "def chipcat2(chipn):\n",
    "    chipcsvlist = glob.glob(chipn +  '*chr*csv')\n",
    "    chipcsvs = []\n",
    "    for i in chipcsvlist:\n",
    "        tip = pd.read_csv(i,index_col=[0])\n",
    "        chipcsvs.append(tip)\n",
    "    ret = pd.concat(chipcsvs)\n",
    "    return(ret)"
   ]
  },
  {
   "cell_type": "code",
   "execution_count": 114,
   "metadata": {
    "collapsed": false
   },
   "outputs": [
    {
     "name": "stderr",
     "output_type": "stream",
     "text": [
      "/home/jlh4df/.conda/envs/Imp3/lib/python3.5/site-packages/numpy/lib/function_base.py:4116: RuntimeWarning: Invalid value encountered in percentile\n",
      "  interpolation=interpolation)\n"
     ]
    },
    {
     "data": {
      "text/html": [
       "<div>\n",
       "<table border=\"1\" class=\"dataframe\">\n",
       "  <thead>\n",
       "    <tr style=\"text-align: right;\">\n",
       "      <th></th>\n",
       "      <th>correlation</th>\n",
       "    </tr>\n",
       "  </thead>\n",
       "  <tbody>\n",
       "    <tr>\n",
       "      <th>count</th>\n",
       "      <td>651188.000000</td>\n",
       "    </tr>\n",
       "    <tr>\n",
       "      <th>mean</th>\n",
       "      <td>0.966584</td>\n",
       "    </tr>\n",
       "    <tr>\n",
       "      <th>std</th>\n",
       "      <td>0.118534</td>\n",
       "    </tr>\n",
       "    <tr>\n",
       "      <th>min</th>\n",
       "      <td>-1.000000</td>\n",
       "    </tr>\n",
       "    <tr>\n",
       "      <th>25%</th>\n",
       "      <td>NaN</td>\n",
       "    </tr>\n",
       "    <tr>\n",
       "      <th>50%</th>\n",
       "      <td>NaN</td>\n",
       "    </tr>\n",
       "    <tr>\n",
       "      <th>75%</th>\n",
       "      <td>NaN</td>\n",
       "    </tr>\n",
       "    <tr>\n",
       "      <th>max</th>\n",
       "      <td>1.000000</td>\n",
       "    </tr>\n",
       "  </tbody>\n",
       "</table>\n",
       "</div>"
      ],
      "text/plain": [
       "         correlation\n",
       "count  651188.000000\n",
       "mean        0.966584\n",
       "std         0.118534\n",
       "min        -1.000000\n",
       "25%              NaN\n",
       "50%              NaN\n",
       "75%              NaN\n",
       "max         1.000000"
      ]
     },
     "execution_count": 114,
     "metadata": {},
     "output_type": "execute_result"
    }
   ],
   "source": [
    "snp50.describe()"
   ]
  },
  {
   "cell_type": "code",
   "execution_count": 194,
   "metadata": {
    "collapsed": false
   },
   "outputs": [],
   "source": [
    "chr25 = pd.read_csv('./run1/snp50.chr25.snp_correlations.csv',names= ['chrpos','correlation'],index_col=0,header=0)"
   ]
  },
  {
   "cell_type": "code",
   "execution_count": 174,
   "metadata": {
    "collapsed": false
   },
   "outputs": [],
   "source": [
    "chr25['SNP'] =chr25.chrpos.str.split(':').str.get(1)\n",
    "chr25['CHR'] =chr25.chrpos.str.split(':').str.get(0)"
   ]
  },
  {
   "cell_type": "code",
   "execution_count": 176,
   "metadata": {
    "collapsed": false
   },
   "outputs": [],
   "source": [
    "chr25 = chr25.set_index(['CHR','SNP'])"
   ]
  },
  {
   "cell_type": "code",
   "execution_count": 204,
   "metadata": {
    "collapsed": false
   },
   "outputs": [
    {
     "data": {
      "text/html": [
       "<div>\n",
       "<table border=\"1\" class=\"dataframe\">\n",
       "  <thead>\n",
       "    <tr style=\"text-align: right;\">\n",
       "      <th></th>\n",
       "      <th>correlation</th>\n",
       "    </tr>\n",
       "    <tr>\n",
       "      <th>chrpos</th>\n",
       "      <th></th>\n",
       "    </tr>\n",
       "  </thead>\n",
       "  <tbody>\n",
       "    <tr>\n",
       "      <th>25:10004035</th>\n",
       "      <td>0.990492</td>\n",
       "    </tr>\n",
       "    <tr>\n",
       "      <th>25:10005251</th>\n",
       "      <td>0.995218</td>\n",
       "    </tr>\n",
       "    <tr>\n",
       "      <th>25:10007412</th>\n",
       "      <td>1.000000</td>\n",
       "    </tr>\n",
       "    <tr>\n",
       "      <th>25:10008630</th>\n",
       "      <td>0.995218</td>\n",
       "    </tr>\n",
       "    <tr>\n",
       "      <th>25:10010080</th>\n",
       "      <td>0.979832</td>\n",
       "    </tr>\n",
       "  </tbody>\n",
       "</table>\n",
       "</div>"
      ],
      "text/plain": [
       "             correlation\n",
       "chrpos                  \n",
       "25:10004035     0.990492\n",
       "25:10005251     0.995218\n",
       "25:10007412     1.000000\n",
       "25:10008630     0.995218\n",
       "25:10010080     0.979832"
      ]
     },
     "execution_count": 204,
     "metadata": {},
     "output_type": "execute_result"
    }
   ],
   "source": [
    "chr25.head()"
   ]
  },
  {
   "cell_type": "code",
   "execution_count": 179,
   "metadata": {
    "collapsed": false
   },
   "outputs": [
    {
     "name": "stderr",
     "output_type": "stream",
     "text": [
      "/home/jlh4df/.conda/envs/Imp3/lib/python3.5/site-packages/numpy/lib/function_base.py:4116: RuntimeWarning: Invalid value encountered in percentile\n",
      "  interpolation=interpolation)\n"
     ]
    },
    {
     "data": {
      "text/html": [
       "<div>\n",
       "<table border=\"1\" class=\"dataframe\">\n",
       "  <thead>\n",
       "    <tr style=\"text-align: right;\">\n",
       "      <th></th>\n",
       "      <th>correlation</th>\n",
       "    </tr>\n",
       "  </thead>\n",
       "  <tbody>\n",
       "    <tr>\n",
       "      <th>count</th>\n",
       "      <td>12705.000000</td>\n",
       "    </tr>\n",
       "    <tr>\n",
       "      <th>mean</th>\n",
       "      <td>0.967001</td>\n",
       "    </tr>\n",
       "    <tr>\n",
       "      <th>std</th>\n",
       "      <td>0.092019</td>\n",
       "    </tr>\n",
       "    <tr>\n",
       "      <th>min</th>\n",
       "      <td>-0.041873</td>\n",
       "    </tr>\n",
       "    <tr>\n",
       "      <th>25%</th>\n",
       "      <td>NaN</td>\n",
       "    </tr>\n",
       "    <tr>\n",
       "      <th>50%</th>\n",
       "      <td>NaN</td>\n",
       "    </tr>\n",
       "    <tr>\n",
       "      <th>75%</th>\n",
       "      <td>NaN</td>\n",
       "    </tr>\n",
       "    <tr>\n",
       "      <th>max</th>\n",
       "      <td>1.000000</td>\n",
       "    </tr>\n",
       "  </tbody>\n",
       "</table>\n",
       "</div>"
      ],
      "text/plain": [
       "        correlation\n",
       "count  12705.000000\n",
       "mean       0.967001\n",
       "std        0.092019\n",
       "min       -0.041873\n",
       "25%             NaN\n",
       "50%             NaN\n",
       "75%             NaN\n",
       "max        1.000000"
      ]
     },
     "execution_count": 179,
     "metadata": {},
     "output_type": "execute_result"
    }
   ],
   "source": [
    "chr25.describe()"
   ]
  },
  {
   "cell_type": "code",
   "execution_count": 183,
   "metadata": {
    "collapsed": false
   },
   "outputs": [
    {
     "data": {
      "text/plain": [
       "(12705, 2)"
      ]
     },
     "execution_count": 183,
     "metadata": {},
     "output_type": "execute_result"
    }
   ],
   "source": [
    "chr25.dropna().shape"
   ]
  },
  {
   "cell_type": "code",
   "execution_count": 198,
   "metadata": {
    "collapsed": false
   },
   "outputs": [],
   "source": [
    "mafcor25 = chr25.join(posmaf)"
   ]
  },
  {
   "cell_type": "code",
   "execution_count": 200,
   "metadata": {
    "collapsed": false
   },
   "outputs": [
    {
     "data": {
      "text/plain": [
       "(17514, 4)"
      ]
     },
     "execution_count": 200,
     "metadata": {},
     "output_type": "execute_result"
    }
   ],
   "source": [
    "mafcor25.shape"
   ]
  },
  {
   "cell_type": "code",
   "execution_count": 203,
   "metadata": {
    "collapsed": false
   },
   "outputs": [
    {
     "name": "stderr",
     "output_type": "stream",
     "text": [
      "/home/jlh4df/.conda/envs/Imp3/lib/python3.5/site-packages/numpy/lib/function_base.py:4116: RuntimeWarning: Invalid value encountered in percentile\n",
      "  interpolation=interpolation)\n"
     ]
    },
    {
     "data": {
      "text/html": [
       "<div>\n",
       "<table border=\"1\" class=\"dataframe\">\n",
       "  <thead>\n",
       "    <tr style=\"text-align: right;\">\n",
       "      <th></th>\n",
       "      <th>correlation</th>\n",
       "      <th>CHR</th>\n",
       "      <th>POS</th>\n",
       "      <th>MAF</th>\n",
       "    </tr>\n",
       "  </thead>\n",
       "  <tbody>\n",
       "    <tr>\n",
       "      <th>count</th>\n",
       "      <td>12705.000000</td>\n",
       "      <td>17514.0</td>\n",
       "      <td>1.751400e+04</td>\n",
       "      <td>17514.000000</td>\n",
       "    </tr>\n",
       "    <tr>\n",
       "      <th>mean</th>\n",
       "      <td>0.967001</td>\n",
       "      <td>25.0</td>\n",
       "      <td>2.151472e+07</td>\n",
       "      <td>0.341446</td>\n",
       "    </tr>\n",
       "    <tr>\n",
       "      <th>std</th>\n",
       "      <td>0.092019</td>\n",
       "      <td>0.0</td>\n",
       "      <td>1.273232e+07</td>\n",
       "      <td>0.302946</td>\n",
       "    </tr>\n",
       "    <tr>\n",
       "      <th>min</th>\n",
       "      <td>-0.041873</td>\n",
       "      <td>25.0</td>\n",
       "      <td>1.769000e+04</td>\n",
       "      <td>0.000000</td>\n",
       "    </tr>\n",
       "    <tr>\n",
       "      <th>25%</th>\n",
       "      <td>NaN</td>\n",
       "      <td>25.0</td>\n",
       "      <td>1.028983e+07</td>\n",
       "      <td>0.115250</td>\n",
       "    </tr>\n",
       "    <tr>\n",
       "      <th>50%</th>\n",
       "      <td>NaN</td>\n",
       "      <td>25.0</td>\n",
       "      <td>2.198832e+07</td>\n",
       "      <td>0.285750</td>\n",
       "    </tr>\n",
       "    <tr>\n",
       "      <th>75%</th>\n",
       "      <td>NaN</td>\n",
       "      <td>25.0</td>\n",
       "      <td>3.329473e+07</td>\n",
       "      <td>0.438850</td>\n",
       "    </tr>\n",
       "    <tr>\n",
       "      <th>max</th>\n",
       "      <td>1.000000</td>\n",
       "      <td>25.0</td>\n",
       "      <td>4.287971e+07</td>\n",
       "      <td>1.000000</td>\n",
       "    </tr>\n",
       "  </tbody>\n",
       "</table>\n",
       "</div>"
      ],
      "text/plain": [
       "        correlation      CHR           POS           MAF\n",
       "count  12705.000000  17514.0  1.751400e+04  17514.000000\n",
       "mean       0.967001     25.0  2.151472e+07      0.341446\n",
       "std        0.092019      0.0  1.273232e+07      0.302946\n",
       "min       -0.041873     25.0  1.769000e+04      0.000000\n",
       "25%             NaN     25.0  1.028983e+07      0.115250\n",
       "50%             NaN     25.0  2.198832e+07      0.285750\n",
       "75%             NaN     25.0  3.329473e+07      0.438850\n",
       "max        1.000000     25.0  4.287971e+07      1.000000"
      ]
     },
     "execution_count": 203,
     "metadata": {},
     "output_type": "execute_result"
    }
   ],
   "source": [
    "mafcor25.describe()"
   ]
  },
  {
   "cell_type": "code",
   "execution_count": 211,
   "metadata": {
    "collapsed": false
   },
   "outputs": [
    {
     "data": {
      "text/plain": [
       "(15075, 4)"
      ]
     },
     "execution_count": 211,
     "metadata": {},
     "output_type": "execute_result"
    }
   ],
   "source": [
    "run1snp50[run1snp50.CHR==25.0].shape"
   ]
  },
  {
   "cell_type": "code",
   "execution_count": 216,
   "metadata": {
    "collapsed": false
   },
   "outputs": [
    {
     "name": "stderr",
     "output_type": "stream",
     "text": [
      "/home/jlh4df/.conda/envs/Imp3/lib/python3.5/site-packages/numpy/lib/function_base.py:4116: RuntimeWarning: Invalid value encountered in percentile\n",
      "  interpolation=interpolation)\n"
     ]
    },
    {
     "data": {
      "text/html": [
       "<div>\n",
       "<table border=\"1\" class=\"dataframe\">\n",
       "  <thead>\n",
       "    <tr style=\"text-align: right;\">\n",
       "      <th></th>\n",
       "      <th>correlation</th>\n",
       "      <th>CHR</th>\n",
       "      <th>POS</th>\n",
       "      <th>MAF</th>\n",
       "    </tr>\n",
       "  </thead>\n",
       "  <tbody>\n",
       "    <tr>\n",
       "      <th>count</th>\n",
       "      <td>12702.000000</td>\n",
       "      <td>15075.0</td>\n",
       "      <td>1.507500e+04</td>\n",
       "      <td>15075.000000</td>\n",
       "    </tr>\n",
       "    <tr>\n",
       "      <th>mean</th>\n",
       "      <td>0.967060</td>\n",
       "      <td>25.0</td>\n",
       "      <td>2.125013e+07</td>\n",
       "      <td>0.235063</td>\n",
       "    </tr>\n",
       "    <tr>\n",
       "      <th>std</th>\n",
       "      <td>0.091387</td>\n",
       "      <td>0.0</td>\n",
       "      <td>1.253653e+07</td>\n",
       "      <td>0.158968</td>\n",
       "    </tr>\n",
       "    <tr>\n",
       "      <th>min</th>\n",
       "      <td>0.001284</td>\n",
       "      <td>25.0</td>\n",
       "      <td>3.285700e+04</td>\n",
       "      <td>0.000000</td>\n",
       "    </tr>\n",
       "    <tr>\n",
       "      <th>25%</th>\n",
       "      <td>NaN</td>\n",
       "      <td>25.0</td>\n",
       "      <td>1.030048e+07</td>\n",
       "      <td>0.089320</td>\n",
       "    </tr>\n",
       "    <tr>\n",
       "      <th>50%</th>\n",
       "      <td>NaN</td>\n",
       "      <td>25.0</td>\n",
       "      <td>2.140750e+07</td>\n",
       "      <td>0.243600</td>\n",
       "    </tr>\n",
       "    <tr>\n",
       "      <th>75%</th>\n",
       "      <td>NaN</td>\n",
       "      <td>25.0</td>\n",
       "      <td>3.274627e+07</td>\n",
       "      <td>0.377000</td>\n",
       "    </tr>\n",
       "    <tr>\n",
       "      <th>max</th>\n",
       "      <td>1.000000</td>\n",
       "      <td>25.0</td>\n",
       "      <td>4.285112e+07</td>\n",
       "      <td>0.499700</td>\n",
       "    </tr>\n",
       "  </tbody>\n",
       "</table>\n",
       "</div>"
      ],
      "text/plain": [
       "        correlation      CHR           POS           MAF\n",
       "count  12702.000000  15075.0  1.507500e+04  15075.000000\n",
       "mean       0.967060     25.0  2.125013e+07      0.235063\n",
       "std        0.091387      0.0  1.253653e+07      0.158968\n",
       "min        0.001284     25.0  3.285700e+04      0.000000\n",
       "25%             NaN     25.0  1.030048e+07      0.089320\n",
       "50%             NaN     25.0  2.140750e+07      0.243600\n",
       "75%             NaN     25.0  3.274627e+07      0.377000\n",
       "max        1.000000     25.0  4.285112e+07      0.499700"
      ]
     },
     "execution_count": 216,
     "metadata": {},
     "output_type": "execute_result"
    }
   ],
   "source": [
    "run1snp50[run1snp50.CHR==25.0].describe()"
   ]
  },
  {
   "cell_type": "code",
   "execution_count": 223,
   "metadata": {
    "collapsed": false
   },
   "outputs": [
    {
     "name": "stderr",
     "output_type": "stream",
     "text": [
      "/home/jlh4df/.conda/envs/Imp3/lib/python3.5/site-packages/ipykernel/__main__.py:1: FutureWarning: diff is deprecated. Use difference instead\n",
      "  if __name__ == '__main__':\n"
     ]
    },
    {
     "data": {
      "text/plain": [
       "Index(['25:10056588', '25:10056861', '25:10102590', '25:10127354',\n",
       "       '25:10140268', '25:10146077', '25:10149673', '25:10151142',\n",
       "       '25:10166116', '25:10168283',\n",
       "       ...\n",
       "       '25:978440', '25:9799958', '25:984657', '25:9853044', '25:9855832',\n",
       "       '25:9857841', '25:987930', '25:988246', '25:99364', '25:997537'],\n",
       "      dtype='object', length=2439)"
      ]
     },
     "execution_count": 223,
     "metadata": {},
     "output_type": "execute_result"
    }
   ],
   "source": [
    "mafcor25.index.diff(run1snp50[run1snp50.CHR==25.0].index)"
   ]
  },
  {
   "cell_type": "code",
   "execution_count": 229,
   "metadata": {
    "collapsed": false
   },
   "outputs": [
    {
     "name": "stderr",
     "output_type": "stream",
     "text": [
      "/home/jlh4df/.conda/envs/Imp3/lib/python3.5/site-packages/ipykernel/__main__.py:1: FutureWarning: diff is deprecated. Use difference instead\n",
      "  if __name__ == '__main__':\n",
      "/home/jlh4df/.conda/envs/Imp3/lib/python3.5/site-packages/numpy/lib/function_base.py:4116: RuntimeWarning: Invalid value encountered in percentile\n",
      "  interpolation=interpolation)\n"
     ]
    },
    {
     "data": {
      "text/html": [
       "<div>\n",
       "<table border=\"1\" class=\"dataframe\">\n",
       "  <thead>\n",
       "    <tr style=\"text-align: right;\">\n",
       "      <th></th>\n",
       "      <th>correlation</th>\n",
       "      <th>CHR</th>\n",
       "      <th>POS</th>\n",
       "      <th>MAF</th>\n",
       "    </tr>\n",
       "  </thead>\n",
       "  <tbody>\n",
       "    <tr>\n",
       "      <th>count</th>\n",
       "      <td>3.000000</td>\n",
       "      <td>2439.0</td>\n",
       "      <td>2.439000e+03</td>\n",
       "      <td>2439.000000</td>\n",
       "    </tr>\n",
       "    <tr>\n",
       "      <th>mean</th>\n",
       "      <td>0.976657</td>\n",
       "      <td>25.0</td>\n",
       "      <td>2.315006e+07</td>\n",
       "      <td>0.998976</td>\n",
       "    </tr>\n",
       "    <tr>\n",
       "      <th>std</th>\n",
       "      <td>0.009897</td>\n",
       "      <td>0.0</td>\n",
       "      <td>1.377165e+07</td>\n",
       "      <td>0.022598</td>\n",
       "    </tr>\n",
       "    <tr>\n",
       "      <th>min</th>\n",
       "      <td>0.968458</td>\n",
       "      <td>25.0</td>\n",
       "      <td>1.769000e+04</td>\n",
       "      <td>0.500300</td>\n",
       "    </tr>\n",
       "    <tr>\n",
       "      <th>25%</th>\n",
       "      <td>NaN</td>\n",
       "      <td>25.0</td>\n",
       "      <td>1.023588e+07</td>\n",
       "      <td>1.000000</td>\n",
       "    </tr>\n",
       "    <tr>\n",
       "      <th>50%</th>\n",
       "      <td>NaN</td>\n",
       "      <td>25.0</td>\n",
       "      <td>2.668481e+07</td>\n",
       "      <td>1.000000</td>\n",
       "    </tr>\n",
       "    <tr>\n",
       "      <th>75%</th>\n",
       "      <td>NaN</td>\n",
       "      <td>25.0</td>\n",
       "      <td>3.612988e+07</td>\n",
       "      <td>1.000000</td>\n",
       "    </tr>\n",
       "    <tr>\n",
       "      <th>max</th>\n",
       "      <td>0.987651</td>\n",
       "      <td>25.0</td>\n",
       "      <td>4.287971e+07</td>\n",
       "      <td>1.000000</td>\n",
       "    </tr>\n",
       "  </tbody>\n",
       "</table>\n",
       "</div>"
      ],
      "text/plain": [
       "       correlation     CHR           POS          MAF\n",
       "count     3.000000  2439.0  2.439000e+03  2439.000000\n",
       "mean      0.976657    25.0  2.315006e+07     0.998976\n",
       "std       0.009897     0.0  1.377165e+07     0.022598\n",
       "min       0.968458    25.0  1.769000e+04     0.500300\n",
       "25%            NaN    25.0  1.023588e+07     1.000000\n",
       "50%            NaN    25.0  2.668481e+07     1.000000\n",
       "75%            NaN    25.0  3.612988e+07     1.000000\n",
       "max       0.987651    25.0  4.287971e+07     1.000000"
      ]
     },
     "execution_count": 229,
     "metadata": {},
     "output_type": "execute_result"
    }
   ],
   "source": [
    "mafcor25.loc[mafcor25.index.diff(run1snp50[run1snp50.CHR==25.0].index)].describe()"
   ]
  },
  {
   "cell_type": "code",
   "execution_count": 238,
   "metadata": {
    "collapsed": false
   },
   "outputs": [
    {
     "data": {
      "text/plain": [
       "(873735, 1)"
      ]
     },
     "execution_count": 238,
     "metadata": {},
     "output_type": "execute_result"
    }
   ],
   "source": [
    "snp50.shape"
   ]
  },
  {
   "cell_type": "code",
   "execution_count": 237,
   "metadata": {
    "collapsed": false
   },
   "outputs": [
    {
     "data": {
      "text/plain": [
       "(873735, 4)"
      ]
     },
     "execution_count": 237,
     "metadata": {},
     "output_type": "execute_result"
    }
   ],
   "source": [
    "run1snp50.shape"
   ]
  },
  {
   "cell_type": "code",
   "execution_count": 339,
   "metadata": {
    "collapsed": false
   },
   "outputs": [
    {
     "data": {
      "text/html": [
       "<div>\n",
       "<table border=\"1\" class=\"dataframe\">\n",
       "  <thead>\n",
       "    <tr style=\"text-align: right;\">\n",
       "      <th></th>\n",
       "      <th>CHR</th>\n",
       "      <th>SNP</th>\n",
       "      <th>A1</th>\n",
       "      <th>A2</th>\n",
       "      <th>MAF</th>\n",
       "      <th>NCHROBS</th>\n",
       "    </tr>\n",
       "  </thead>\n",
       "  <tbody>\n",
       "    <tr>\n",
       "      <th>0</th>\n",
       "      <td>1</td>\n",
       "      <td>217986</td>\n",
       "      <td>C</td>\n",
       "      <td>T</td>\n",
       "      <td>0.9501</td>\n",
       "      <td>1222</td>\n",
       "    </tr>\n",
       "    <tr>\n",
       "      <th>1</th>\n",
       "      <td>1</td>\n",
       "      <td>1023761</td>\n",
       "      <td>G</td>\n",
       "      <td>A</td>\n",
       "      <td>0.4897</td>\n",
       "      <td>1262</td>\n",
       "    </tr>\n",
       "    <tr>\n",
       "      <th>2</th>\n",
       "      <td>1</td>\n",
       "      <td>1023762</td>\n",
       "      <td>A</td>\n",
       "      <td>G</td>\n",
       "      <td>1.0000</td>\n",
       "      <td>1264</td>\n",
       "    </tr>\n",
       "    <tr>\n",
       "      <th>3</th>\n",
       "      <td>1</td>\n",
       "      <td>252907</td>\n",
       "      <td>T</td>\n",
       "      <td>C</td>\n",
       "      <td>0.9622</td>\n",
       "      <td>1244</td>\n",
       "    </tr>\n",
       "    <tr>\n",
       "      <th>4</th>\n",
       "      <td>1</td>\n",
       "      <td>1023763</td>\n",
       "      <td>G</td>\n",
       "      <td>A</td>\n",
       "      <td>0.4905</td>\n",
       "      <td>1264</td>\n",
       "    </tr>\n",
       "  </tbody>\n",
       "</table>\n",
       "</div>"
      ],
      "text/plain": [
       "   CHR      SNP A1 A2     MAF  NCHROBS\n",
       "0    1   217986  C  T  0.9501     1222\n",
       "1    1  1023761  G  A  0.4897     1262\n",
       "2    1  1023762  A  G  1.0000     1264\n",
       "3    1   252907  T  C  0.9622     1244\n",
       "4    1  1023763  G  A  0.4905     1264"
      ]
     },
     "execution_count": 339,
     "metadata": {},
     "output_type": "execute_result"
    }
   ],
   "source": [
    "freq.head()"
   ]
  },
  {
   "cell_type": "code",
   "execution_count": 317,
   "metadata": {
    "collapsed": true
   },
   "outputs": [],
   "source": [
    "map = pd.read_table('../merge_ref/hol_testset.F250_HD_merged.1970.bim',\n",
    "                    delim_whitespace=True, header=None,names = ['CHR','SNP','cm','POS','Ref','ALT'])"
   ]
  },
  {
   "cell_type": "code",
   "execution_count": 318,
   "metadata": {
    "collapsed": false
   },
   "outputs": [
    {
     "data": {
      "text/html": [
       "<div>\n",
       "<table border=\"1\" class=\"dataframe\">\n",
       "  <thead>\n",
       "    <tr style=\"text-align: right;\">\n",
       "      <th></th>\n",
       "      <th>CHR</th>\n",
       "      <th>SNP</th>\n",
       "      <th>cm</th>\n",
       "      <th>POS</th>\n",
       "      <th>Ref</th>\n",
       "      <th>ALT</th>\n",
       "    </tr>\n",
       "  </thead>\n",
       "  <tbody>\n",
       "    <tr>\n",
       "      <th>0</th>\n",
       "      <td>1</td>\n",
       "      <td>217986</td>\n",
       "      <td>0.019832</td>\n",
       "      <td>19832</td>\n",
       "      <td>C</td>\n",
       "      <td>T</td>\n",
       "    </tr>\n",
       "    <tr>\n",
       "      <th>1</th>\n",
       "      <td>1</td>\n",
       "      <td>1023761</td>\n",
       "      <td>0.036337</td>\n",
       "      <td>36337</td>\n",
       "      <td>G</td>\n",
       "      <td>A</td>\n",
       "    </tr>\n",
       "    <tr>\n",
       "      <th>2</th>\n",
       "      <td>1</td>\n",
       "      <td>1023762</td>\n",
       "      <td>0.067130</td>\n",
       "      <td>67130</td>\n",
       "      <td>A</td>\n",
       "      <td>G</td>\n",
       "    </tr>\n",
       "    <tr>\n",
       "      <th>3</th>\n",
       "      <td>1</td>\n",
       "      <td>252907</td>\n",
       "      <td>0.070600</td>\n",
       "      <td>70600</td>\n",
       "      <td>T</td>\n",
       "      <td>C</td>\n",
       "    </tr>\n",
       "    <tr>\n",
       "      <th>4</th>\n",
       "      <td>1</td>\n",
       "      <td>1023763</td>\n",
       "      <td>0.078655</td>\n",
       "      <td>78655</td>\n",
       "      <td>G</td>\n",
       "      <td>A</td>\n",
       "    </tr>\n",
       "  </tbody>\n",
       "</table>\n",
       "</div>"
      ],
      "text/plain": [
       "   CHR      SNP        cm    POS Ref ALT\n",
       "0    1   217986  0.019832  19832   C   T\n",
       "1    1  1023761  0.036337  36337   G   A\n",
       "2    1  1023762  0.067130  67130   A   G\n",
       "3    1   252907  0.070600  70600   T   C\n",
       "4    1  1023763  0.078655  78655   G   A"
      ]
     },
     "execution_count": 318,
     "metadata": {},
     "output_type": "execute_result"
    }
   ],
   "source": [
    "map.head()"
   ]
  },
  {
   "cell_type": "code",
   "execution_count": 412,
   "metadata": {
    "collapsed": false
   },
   "outputs": [],
   "source": [
    "freq = pd.read_table('../ref_vcfs/F250_HD_merged.frq',delim_whitespace=True)\n",
    "freq['POS'] = map.POS\n",
    "freq['chrpos'] = freq.CHR.astype(str).str.cat(freq.POS.astype(str), sep = ':')\n",
    "freq['MAF'] = freq.MAF.where(freq.MAF <=.5,(1 - freq.MAF))\n",
    "freq['MinorCount']= freq.MAF * freq.NCHROBS\n",
    "freq = freq.set_index('chrpos')\n",
    "#freq['chrpos'] = freq.CHR.astype(str).str.cat(freq.POS.astype(str), sep = ':')"
   ]
  },
  {
   "cell_type": "code",
   "execution_count": 454,
   "metadata": {
    "collapsed": false
   },
   "outputs": [
    {
     "data": {
      "text/plain": [
       "(914636, 6)"
      ]
     },
     "execution_count": 454,
     "metadata": {},
     "output_type": "execute_result"
    }
   ],
   "source": [
    "snp50_target_freq = pd.read_table('../ref_vcfs/snp50_animals.list1.frq',delim_whitespace=True)\n",
    "snp50_target_freq.shape"
   ]
  },
  {
   "cell_type": "code",
   "execution_count": 455,
   "metadata": {
    "collapsed": false
   },
   "outputs": [],
   "source": [
    "snp50_target_freq['POS'] = map.POS\n",
    "snp50_target_freq['chrpos'] = snp50_target_freq.CHR.astype(str).str.cat(snp50_target_freq.POS.astype(str), sep = ':')\n",
    "snp50_target_freq['MAF'] = snp50_target_freq.MAF.where(snp50_target_freq.MAF <=.5,(1 - snp50_target_freq.MAF))\n",
    "snp50_target_freq['MinorCount']= snp50_target_freq.MAF * snp50_target_freq.NCHROBS\n",
    "snp50_target_freq = snp50_target_freq.set_index('chrpos')\n",
    "snp50_target_freq = snp50_target_freq[snp50_target_freq.CHR<=29]"
   ]
  },
  {
   "cell_type": "code",
   "execution_count": 367,
   "metadata": {
    "collapsed": false
   },
   "outputs": [
    {
     "data": {
      "text/html": [
       "<div>\n",
       "<table border=\"1\" class=\"dataframe\">\n",
       "  <thead>\n",
       "    <tr style=\"text-align: right;\">\n",
       "      <th></th>\n",
       "      <th>CHR</th>\n",
       "      <th>SNP</th>\n",
       "      <th>A1</th>\n",
       "      <th>A2</th>\n",
       "      <th>MAF</th>\n",
       "      <th>NCHROBS</th>\n",
       "      <th>POS</th>\n",
       "      <th>MinorCount</th>\n",
       "    </tr>\n",
       "    <tr>\n",
       "      <th>chrpos</th>\n",
       "      <th></th>\n",
       "      <th></th>\n",
       "      <th></th>\n",
       "      <th></th>\n",
       "      <th></th>\n",
       "      <th></th>\n",
       "      <th></th>\n",
       "      <th></th>\n",
       "    </tr>\n",
       "  </thead>\n",
       "  <tbody>\n",
       "    <tr>\n",
       "      <th>1:19832</th>\n",
       "      <td>1</td>\n",
       "      <td>217986</td>\n",
       "      <td>C</td>\n",
       "      <td>T</td>\n",
       "      <td>0.0398</td>\n",
       "      <td>502</td>\n",
       "      <td>19832</td>\n",
       "      <td>19.9796</td>\n",
       "    </tr>\n",
       "    <tr>\n",
       "      <th>1:36337</th>\n",
       "      <td>1</td>\n",
       "      <td>1023761</td>\n",
       "      <td>G</td>\n",
       "      <td>A</td>\n",
       "      <td>0.4943</td>\n",
       "      <td>526</td>\n",
       "      <td>36337</td>\n",
       "      <td>260.0018</td>\n",
       "    </tr>\n",
       "    <tr>\n",
       "      <th>1:67130</th>\n",
       "      <td>1</td>\n",
       "      <td>1023762</td>\n",
       "      <td>A</td>\n",
       "      <td>G</td>\n",
       "      <td>0.0000</td>\n",
       "      <td>528</td>\n",
       "      <td>67130</td>\n",
       "      <td>0.0000</td>\n",
       "    </tr>\n",
       "    <tr>\n",
       "      <th>1:70600</th>\n",
       "      <td>1</td>\n",
       "      <td>252907</td>\n",
       "      <td>T</td>\n",
       "      <td>C</td>\n",
       "      <td>0.0367</td>\n",
       "      <td>518</td>\n",
       "      <td>70600</td>\n",
       "      <td>19.0106</td>\n",
       "    </tr>\n",
       "    <tr>\n",
       "      <th>1:78655</th>\n",
       "      <td>1</td>\n",
       "      <td>1023763</td>\n",
       "      <td>G</td>\n",
       "      <td>A</td>\n",
       "      <td>0.4962</td>\n",
       "      <td>528</td>\n",
       "      <td>78655</td>\n",
       "      <td>261.9936</td>\n",
       "    </tr>\n",
       "  </tbody>\n",
       "</table>\n",
       "</div>"
      ],
      "text/plain": [
       "         CHR      SNP A1 A2     MAF  NCHROBS    POS  MinorCount\n",
       "chrpos                                                         \n",
       "1:19832    1   217986  C  T  0.0398      502  19832     19.9796\n",
       "1:36337    1  1023761  G  A  0.4943      526  36337    260.0018\n",
       "1:67130    1  1023762  A  G  0.0000      528  67130      0.0000\n",
       "1:70600    1   252907  T  C  0.0367      518  70600     19.0106\n",
       "1:78655    1  1023763  G  A  0.4962      528  78655    261.9936"
      ]
     },
     "execution_count": 367,
     "metadata": {},
     "output_type": "execute_result"
    }
   ],
   "source": [
    "snp50_target_freq.head(5)\n"
   ]
  },
  {
   "cell_type": "code",
   "execution_count": 413,
   "metadata": {
    "collapsed": false
   },
   "outputs": [],
   "source": [
    "freq = freq[freq.CHR<=29]"
   ]
  },
  {
   "cell_type": "code",
   "execution_count": 369,
   "metadata": {
    "collapsed": false
   },
   "outputs": [
    {
     "data": {
      "text/plain": [
       "(873735, 1)"
      ]
     },
     "execution_count": 369,
     "metadata": {},
     "output_type": "execute_result"
    }
   ],
   "source": [
    "snp50.shape"
   ]
  },
  {
   "cell_type": "code",
   "execution_count": 350,
   "metadata": {
    "collapsed": false
   },
   "outputs": [
    {
     "name": "stderr",
     "output_type": "stream",
     "text": [
      "/home/jlh4df/.conda/envs/Imp3/lib/python3.5/site-packages/numpy/lib/function_base.py:4116: RuntimeWarning: Invalid value encountered in percentile\n",
      "  interpolation=interpolation)\n"
     ]
    },
    {
     "data": {
      "text/html": [
       "<div>\n",
       "<table border=\"1\" class=\"dataframe\">\n",
       "  <thead>\n",
       "    <tr style=\"text-align: right;\">\n",
       "      <th></th>\n",
       "      <th>correlation</th>\n",
       "    </tr>\n",
       "  </thead>\n",
       "  <tbody>\n",
       "    <tr>\n",
       "      <th>count</th>\n",
       "      <td>651188.000000</td>\n",
       "    </tr>\n",
       "    <tr>\n",
       "      <th>mean</th>\n",
       "      <td>0.966584</td>\n",
       "    </tr>\n",
       "    <tr>\n",
       "      <th>std</th>\n",
       "      <td>0.118534</td>\n",
       "    </tr>\n",
       "    <tr>\n",
       "      <th>min</th>\n",
       "      <td>-1.000000</td>\n",
       "    </tr>\n",
       "    <tr>\n",
       "      <th>25%</th>\n",
       "      <td>NaN</td>\n",
       "    </tr>\n",
       "    <tr>\n",
       "      <th>50%</th>\n",
       "      <td>NaN</td>\n",
       "    </tr>\n",
       "    <tr>\n",
       "      <th>75%</th>\n",
       "      <td>NaN</td>\n",
       "    </tr>\n",
       "    <tr>\n",
       "      <th>max</th>\n",
       "      <td>1.000000</td>\n",
       "    </tr>\n",
       "  </tbody>\n",
       "</table>\n",
       "</div>"
      ],
      "text/plain": [
       "         correlation\n",
       "count  651188.000000\n",
       "mean        0.966584\n",
       "std         0.118534\n",
       "min        -1.000000\n",
       "25%              NaN\n",
       "50%              NaN\n",
       "75%              NaN\n",
       "max         1.000000"
      ]
     },
     "execution_count": 350,
     "metadata": {},
     "output_type": "execute_result"
    }
   ],
   "source": [
    "snp50.describe()"
   ]
  },
  {
   "cell_type": "code",
   "execution_count": 423,
   "metadata": {
    "collapsed": false
   },
   "outputs": [],
   "source": [
    "corfreq = freq[['MAF','MinorCount']].join(snp50,how='outer')"
   ]
  },
  {
   "cell_type": "code",
   "execution_count": 416,
   "metadata": {
    "collapsed": false
   },
   "outputs": [
    {
     "data": {
      "text/html": [
       "<div>\n",
       "<table border=\"1\" class=\"dataframe\">\n",
       "  <thead>\n",
       "    <tr style=\"text-align: right;\">\n",
       "      <th></th>\n",
       "      <th>MAF</th>\n",
       "      <th>MinorCount</th>\n",
       "      <th>correlation</th>\n",
       "    </tr>\n",
       "  </thead>\n",
       "  <tbody>\n",
       "    <tr>\n",
       "      <th>10:100001746</th>\n",
       "      <td>0.3220</td>\n",
       "      <td>407.0080</td>\n",
       "      <td>NaN</td>\n",
       "    </tr>\n",
       "    <tr>\n",
       "      <th>10:10000188</th>\n",
       "      <td>0.1566</td>\n",
       "      <td>197.9424</td>\n",
       "      <td>1.0</td>\n",
       "    </tr>\n",
       "    <tr>\n",
       "      <th>10:100003390</th>\n",
       "      <td>0.3220</td>\n",
       "      <td>407.0080</td>\n",
       "      <td>NaN</td>\n",
       "    </tr>\n",
       "    <tr>\n",
       "      <th>10:100005547</th>\n",
       "      <td>0.4470</td>\n",
       "      <td>565.0080</td>\n",
       "      <td>NaN</td>\n",
       "    </tr>\n",
       "    <tr>\n",
       "      <th>10:100007190</th>\n",
       "      <td>0.3750</td>\n",
       "      <td>474.0000</td>\n",
       "      <td>NaN</td>\n",
       "    </tr>\n",
       "  </tbody>\n",
       "</table>\n",
       "</div>"
      ],
      "text/plain": [
       "                 MAF  MinorCount  correlation\n",
       "10:100001746  0.3220    407.0080          NaN\n",
       "10:10000188   0.1566    197.9424          1.0\n",
       "10:100003390  0.3220    407.0080          NaN\n",
       "10:100005547  0.4470    565.0080          NaN\n",
       "10:100007190  0.3750    474.0000          NaN"
      ]
     },
     "execution_count": 416,
     "metadata": {},
     "output_type": "execute_result"
    }
   ],
   "source": [
    "corfreq.head()"
   ]
  },
  {
   "cell_type": "code",
   "execution_count": 425,
   "metadata": {
    "collapsed": false
   },
   "outputs": [
    {
     "data": {
      "text/plain": [
       "(873735, 3)"
      ]
     },
     "execution_count": 425,
     "metadata": {},
     "output_type": "execute_result"
    }
   ],
   "source": [
    "corfreq.shape"
   ]
  },
  {
   "cell_type": "code",
   "execution_count": 424,
   "metadata": {
    "collapsed": false
   },
   "outputs": [
    {
     "name": "stderr",
     "output_type": "stream",
     "text": [
      "/home/jlh4df/.conda/envs/Imp3/lib/python3.5/site-packages/numpy/lib/function_base.py:4116: RuntimeWarning: Invalid value encountered in percentile\n",
      "  interpolation=interpolation)\n"
     ]
    },
    {
     "data": {
      "text/html": [
       "<div>\n",
       "<table border=\"1\" class=\"dataframe\">\n",
       "  <thead>\n",
       "    <tr style=\"text-align: right;\">\n",
       "      <th></th>\n",
       "      <th>MAF</th>\n",
       "      <th>MinorCount</th>\n",
       "      <th>correlation</th>\n",
       "    </tr>\n",
       "  </thead>\n",
       "  <tbody>\n",
       "    <tr>\n",
       "      <th>count</th>\n",
       "      <td>873735.000000</td>\n",
       "      <td>873735.000000</td>\n",
       "      <td>651188.000000</td>\n",
       "    </tr>\n",
       "    <tr>\n",
       "      <th>mean</th>\n",
       "      <td>0.205426</td>\n",
       "      <td>258.312591</td>\n",
       "      <td>0.966584</td>\n",
       "    </tr>\n",
       "    <tr>\n",
       "      <th>std</th>\n",
       "      <td>0.166931</td>\n",
       "      <td>210.001943</td>\n",
       "      <td>0.118534</td>\n",
       "    </tr>\n",
       "    <tr>\n",
       "      <th>min</th>\n",
       "      <td>0.000000</td>\n",
       "      <td>0.000000</td>\n",
       "      <td>-1.000000</td>\n",
       "    </tr>\n",
       "    <tr>\n",
       "      <th>25%</th>\n",
       "      <td>0.022600</td>\n",
       "      <td>28.060800</td>\n",
       "      <td>NaN</td>\n",
       "    </tr>\n",
       "    <tr>\n",
       "      <th>50%</th>\n",
       "      <td>0.200000</td>\n",
       "      <td>251.030400</td>\n",
       "      <td>NaN</td>\n",
       "    </tr>\n",
       "    <tr>\n",
       "      <th>75%</th>\n",
       "      <td>0.356000</td>\n",
       "      <td>447.026000</td>\n",
       "      <td>NaN</td>\n",
       "    </tr>\n",
       "    <tr>\n",
       "      <th>max</th>\n",
       "      <td>0.500000</td>\n",
       "      <td>632.000000</td>\n",
       "      <td>1.000000</td>\n",
       "    </tr>\n",
       "  </tbody>\n",
       "</table>\n",
       "</div>"
      ],
      "text/plain": [
       "                 MAF     MinorCount    correlation\n",
       "count  873735.000000  873735.000000  651188.000000\n",
       "mean        0.205426     258.312591       0.966584\n",
       "std         0.166931     210.001943       0.118534\n",
       "min         0.000000       0.000000      -1.000000\n",
       "25%         0.022600      28.060800            NaN\n",
       "50%         0.200000     251.030400            NaN\n",
       "75%         0.356000     447.026000            NaN\n",
       "max         0.500000     632.000000       1.000000"
      ]
     },
     "execution_count": 424,
     "metadata": {},
     "output_type": "execute_result"
    }
   ],
   "source": [
    "corfreq.describe()"
   ]
  },
  {
   "cell_type": "code",
   "execution_count": 426,
   "metadata": {
    "collapsed": false
   },
   "outputs": [],
   "source": [
    "corfreq = corfreq.join(snp50_target_freq[['MAF','MinorCount']],how='outer',rsuffix='_target')"
   ]
  },
  {
   "cell_type": "code",
   "execution_count": 419,
   "metadata": {
    "collapsed": false
   },
   "outputs": [
    {
     "data": {
      "text/html": [
       "<div>\n",
       "<table border=\"1\" class=\"dataframe\">\n",
       "  <thead>\n",
       "    <tr style=\"text-align: right;\">\n",
       "      <th></th>\n",
       "      <th>index</th>\n",
       "      <th>MAF</th>\n",
       "      <th>MinorCount</th>\n",
       "      <th>correlation</th>\n",
       "      <th>MAF_target</th>\n",
       "      <th>MinorCount_target</th>\n",
       "    </tr>\n",
       "  </thead>\n",
       "  <tbody>\n",
       "  </tbody>\n",
       "</table>\n",
       "</div>"
      ],
      "text/plain": [
       "Empty DataFrame\n",
       "Columns: [index, MAF, MinorCount, correlation, MAF_target, MinorCount_target]\n",
       "Index: []"
      ]
     },
     "execution_count": 419,
     "metadata": {},
     "output_type": "execute_result"
    }
   ],
   "source": [
    "corfreq.reset_index()[corfreq.reset_index()['index'].str.startswith('30')]"
   ]
  },
  {
   "cell_type": "code",
   "execution_count": 465,
   "metadata": {
    "collapsed": true
   },
   "outputs": [],
   "source": [
    "corfreq = corfreq.join(impref_list1[['MAF','MinorCount']],how='outer',rsuffix='_impref')"
   ]
  },
  {
   "cell_type": "code",
   "execution_count": 466,
   "metadata": {
    "collapsed": false
   },
   "outputs": [
    {
     "data": {
      "text/html": [
       "<div>\n",
       "<table border=\"1\" class=\"dataframe\">\n",
       "  <thead>\n",
       "    <tr style=\"text-align: right;\">\n",
       "      <th></th>\n",
       "      <th>MAF</th>\n",
       "      <th>MinorCount</th>\n",
       "      <th>correlation</th>\n",
       "      <th>MAF_target</th>\n",
       "      <th>MinorCount_target</th>\n",
       "      <th>MAF_impref</th>\n",
       "      <th>MinorCount_impref</th>\n",
       "    </tr>\n",
       "  </thead>\n",
       "  <tbody>\n",
       "    <tr>\n",
       "      <th>2:26397621</th>\n",
       "      <td>0.4526</td>\n",
       "      <td>553.9824</td>\n",
       "      <td>0.994947</td>\n",
       "      <td>0.4531</td>\n",
       "      <td>231.9872</td>\n",
       "      <td>0.3943</td>\n",
       "      <td>96.9978</td>\n",
       "    </tr>\n",
       "  </tbody>\n",
       "</table>\n",
       "</div>"
      ],
      "text/plain": [
       "               MAF  MinorCount  correlation  MAF_target  MinorCount_target  \\\n",
       "2:26397621  0.4526    553.9824     0.994947      0.4531           231.9872   \n",
       "\n",
       "            MAF_impref  MinorCount_impref  \n",
       "2:26397621      0.3943            96.9978  "
      ]
     },
     "execution_count": 466,
     "metadata": {},
     "output_type": "execute_result"
    }
   ],
   "source": [
    "corfreq.sample()"
   ]
  },
  {
   "cell_type": "code",
   "execution_count": 427,
   "metadata": {
    "collapsed": false
   },
   "outputs": [],
   "source": [
    "fixed_in_pop = corfreq[corfreq.correlation.isnull()&corfreq.MinorCount > 0]"
   ]
  },
  {
   "cell_type": "code",
   "execution_count": 428,
   "metadata": {
    "collapsed": false
   },
   "outputs": [
    {
     "name": "stderr",
     "output_type": "stream",
     "text": [
      "/home/jlh4df/.conda/envs/Imp3/lib/python3.5/site-packages/numpy/lib/function_base.py:4116: RuntimeWarning: Invalid value encountered in percentile\n",
      "  interpolation=interpolation)\n"
     ]
    },
    {
     "data": {
      "text/html": [
       "<div>\n",
       "<table border=\"1\" class=\"dataframe\">\n",
       "  <thead>\n",
       "    <tr style=\"text-align: right;\">\n",
       "      <th></th>\n",
       "      <th>MAF</th>\n",
       "      <th>MinorCount</th>\n",
       "      <th>correlation</th>\n",
       "      <th>MAF_target</th>\n",
       "      <th>MinorCount_target</th>\n",
       "    </tr>\n",
       "  </thead>\n",
       "  <tbody>\n",
       "    <tr>\n",
       "      <th>count</th>\n",
       "      <td>84254.000000</td>\n",
       "      <td>84254.000000</td>\n",
       "      <td>0.0</td>\n",
       "      <td>84254.000000</td>\n",
       "      <td>84254.000000</td>\n",
       "    </tr>\n",
       "    <tr>\n",
       "      <th>mean</th>\n",
       "      <td>0.137151</td>\n",
       "      <td>172.360733</td>\n",
       "      <td>NaN</td>\n",
       "      <td>0.136809</td>\n",
       "      <td>71.817226</td>\n",
       "    </tr>\n",
       "    <tr>\n",
       "      <th>std</th>\n",
       "      <td>0.166941</td>\n",
       "      <td>209.879980</td>\n",
       "      <td>NaN</td>\n",
       "      <td>0.167039</td>\n",
       "      <td>87.727646</td>\n",
       "    </tr>\n",
       "    <tr>\n",
       "      <th>min</th>\n",
       "      <td>0.000791</td>\n",
       "      <td>0.942400</td>\n",
       "      <td>NaN</td>\n",
       "      <td>0.000000</td>\n",
       "      <td>0.000000</td>\n",
       "    </tr>\n",
       "    <tr>\n",
       "      <th>25%</th>\n",
       "      <td>0.001600</td>\n",
       "      <td>1.999648</td>\n",
       "      <td>NaN</td>\n",
       "      <td>0.001900</td>\n",
       "      <td>0.988000</td>\n",
       "    </tr>\n",
       "    <tr>\n",
       "      <th>50%</th>\n",
       "      <td>0.017410</td>\n",
       "      <td>21.996660</td>\n",
       "      <td>NaN</td>\n",
       "      <td>0.017500</td>\n",
       "      <td>9.002400</td>\n",
       "    </tr>\n",
       "    <tr>\n",
       "      <th>75%</th>\n",
       "      <td>0.280100</td>\n",
       "      <td>352.024000</td>\n",
       "      <td>NaN</td>\n",
       "      <td>0.278400</td>\n",
       "      <td>145.992000</td>\n",
       "    </tr>\n",
       "    <tr>\n",
       "      <th>max</th>\n",
       "      <td>0.500000</td>\n",
       "      <td>632.000000</td>\n",
       "      <td>NaN</td>\n",
       "      <td>0.500000</td>\n",
       "      <td>264.000000</td>\n",
       "    </tr>\n",
       "  </tbody>\n",
       "</table>\n",
       "</div>"
      ],
      "text/plain": [
       "                MAF    MinorCount  correlation    MAF_target  \\\n",
       "count  84254.000000  84254.000000          0.0  84254.000000   \n",
       "mean       0.137151    172.360733          NaN      0.136809   \n",
       "std        0.166941    209.879980          NaN      0.167039   \n",
       "min        0.000791      0.942400          NaN      0.000000   \n",
       "25%        0.001600      1.999648          NaN      0.001900   \n",
       "50%        0.017410     21.996660          NaN      0.017500   \n",
       "75%        0.280100    352.024000          NaN      0.278400   \n",
       "max        0.500000    632.000000          NaN      0.500000   \n",
       "\n",
       "       MinorCount_target  \n",
       "count       84254.000000  \n",
       "mean           71.817226  \n",
       "std            87.727646  \n",
       "min             0.000000  \n",
       "25%             0.988000  \n",
       "50%             9.002400  \n",
       "75%           145.992000  \n",
       "max           264.000000  "
      ]
     },
     "execution_count": 428,
     "metadata": {},
     "output_type": "execute_result"
    }
   ],
   "source": [
    "fixed_in_pop.describe()"
   ]
  },
  {
   "cell_type": "code",
   "execution_count": 430,
   "metadata": {
    "collapsed": false
   },
   "outputs": [],
   "source": [
    "unrecalled = corfreq[corfreq.correlation.isnull()&corfreq.MinorCount_target > 0]"
   ]
  },
  {
   "cell_type": "code",
   "execution_count": 431,
   "metadata": {
    "collapsed": false
   },
   "outputs": [
    {
     "name": "stderr",
     "output_type": "stream",
     "text": [
      "/home/jlh4df/.conda/envs/Imp3/lib/python3.5/site-packages/numpy/lib/function_base.py:4116: RuntimeWarning: Invalid value encountered in percentile\n",
      "  interpolation=interpolation)\n"
     ]
    },
    {
     "data": {
      "text/html": [
       "<div>\n",
       "<table border=\"1\" class=\"dataframe\">\n",
       "  <thead>\n",
       "    <tr style=\"text-align: right;\">\n",
       "      <th></th>\n",
       "      <th>MAF</th>\n",
       "      <th>MinorCount</th>\n",
       "      <th>correlation</th>\n",
       "      <th>MAF_target</th>\n",
       "      <th>MinorCount_target</th>\n",
       "    </tr>\n",
       "  </thead>\n",
       "  <tbody>\n",
       "    <tr>\n",
       "      <th>count</th>\n",
       "      <td>67056.000000</td>\n",
       "      <td>67056.000000</td>\n",
       "      <td>0.0</td>\n",
       "      <td>67056.000000</td>\n",
       "      <td>67056.000000</td>\n",
       "    </tr>\n",
       "    <tr>\n",
       "      <th>mean</th>\n",
       "      <td>0.172036</td>\n",
       "      <td>216.201183</td>\n",
       "      <td>NaN</td>\n",
       "      <td>0.171896</td>\n",
       "      <td>90.236348</td>\n",
       "    </tr>\n",
       "    <tr>\n",
       "      <th>std</th>\n",
       "      <td>0.170455</td>\n",
       "      <td>214.315150</td>\n",
       "      <td>NaN</td>\n",
       "      <td>0.170372</td>\n",
       "      <td>89.486960</td>\n",
       "    </tr>\n",
       "    <tr>\n",
       "      <th>min</th>\n",
       "      <td>0.000791</td>\n",
       "      <td>0.942400</td>\n",
       "      <td>NaN</td>\n",
       "      <td>0.001894</td>\n",
       "      <td>0.976000</td>\n",
       "    </tr>\n",
       "    <tr>\n",
       "      <th>25%</th>\n",
       "      <td>0.004100</td>\n",
       "      <td>5.056000</td>\n",
       "      <td>NaN</td>\n",
       "      <td>0.003900</td>\n",
       "      <td>2.006400</td>\n",
       "    </tr>\n",
       "    <tr>\n",
       "      <th>50%</th>\n",
       "      <td>0.126100</td>\n",
       "      <td>158.004800</td>\n",
       "      <td>NaN</td>\n",
       "      <td>0.126900</td>\n",
       "      <td>66.976000</td>\n",
       "    </tr>\n",
       "    <tr>\n",
       "      <th>75%</th>\n",
       "      <td>0.326700</td>\n",
       "      <td>410.058150</td>\n",
       "      <td>NaN</td>\n",
       "      <td>0.327700</td>\n",
       "      <td>172.022400</td>\n",
       "    </tr>\n",
       "    <tr>\n",
       "      <th>max</th>\n",
       "      <td>0.500000</td>\n",
       "      <td>632.000000</td>\n",
       "      <td>NaN</td>\n",
       "      <td>0.500000</td>\n",
       "      <td>264.000000</td>\n",
       "    </tr>\n",
       "  </tbody>\n",
       "</table>\n",
       "</div>"
      ],
      "text/plain": [
       "                MAF    MinorCount  correlation    MAF_target  \\\n",
       "count  67056.000000  67056.000000          0.0  67056.000000   \n",
       "mean       0.172036    216.201183          NaN      0.171896   \n",
       "std        0.170455    214.315150          NaN      0.170372   \n",
       "min        0.000791      0.942400          NaN      0.001894   \n",
       "25%        0.004100      5.056000          NaN      0.003900   \n",
       "50%        0.126100    158.004800          NaN      0.126900   \n",
       "75%        0.326700    410.058150          NaN      0.327700   \n",
       "max        0.500000    632.000000          NaN      0.500000   \n",
       "\n",
       "       MinorCount_target  \n",
       "count       67056.000000  \n",
       "mean           90.236348  \n",
       "std            89.486960  \n",
       "min             0.976000  \n",
       "25%             2.006400  \n",
       "50%            66.976000  \n",
       "75%           172.022400  \n",
       "max           264.000000  "
      ]
     },
     "execution_count": 431,
     "metadata": {},
     "output_type": "execute_result"
    }
   ],
   "source": [
    "unrecalled.describe()"
   ]
  },
  {
   "cell_type": "code",
   "execution_count": 397,
   "metadata": {
    "collapsed": false
   },
   "outputs": [
    {
     "name": "stderr",
     "output_type": "stream",
     "text": [
      "/home/jlh4df/.conda/envs/Imp3/lib/python3.5/site-packages/numpy/lib/function_base.py:4116: RuntimeWarning: Invalid value encountered in percentile\n",
      "  interpolation=interpolation)\n"
     ]
    },
    {
     "data": {
      "text/html": [
       "<div>\n",
       "<table border=\"1\" class=\"dataframe\">\n",
       "  <thead>\n",
       "    <tr style=\"text-align: right;\">\n",
       "      <th></th>\n",
       "      <th>MAF</th>\n",
       "      <th>MinorCount</th>\n",
       "      <th>correlation</th>\n",
       "      <th>MAF_target</th>\n",
       "      <th>MinorCount_target</th>\n",
       "    </tr>\n",
       "  </thead>\n",
       "  <tbody>\n",
       "    <tr>\n",
       "      <th>count</th>\n",
       "      <td>279673.000000</td>\n",
       "      <td>279673.000000</td>\n",
       "      <td>69648.000000</td>\n",
       "      <td>279673.000000</td>\n",
       "      <td>279673.000000</td>\n",
       "    </tr>\n",
       "    <tr>\n",
       "      <th>mean</th>\n",
       "      <td>0.006626</td>\n",
       "      <td>8.287650</td>\n",
       "      <td>0.857934</td>\n",
       "      <td>0.006376</td>\n",
       "      <td>3.331088</td>\n",
       "    </tr>\n",
       "    <tr>\n",
       "      <th>std</th>\n",
       "      <td>0.012493</td>\n",
       "      <td>15.638245</td>\n",
       "      <td>0.229226</td>\n",
       "      <td>0.012449</td>\n",
       "      <td>6.509450</td>\n",
       "    </tr>\n",
       "    <tr>\n",
       "      <th>min</th>\n",
       "      <td>0.000000</td>\n",
       "      <td>0.000000</td>\n",
       "      <td>-1.000000</td>\n",
       "      <td>0.000000</td>\n",
       "      <td>0.000000</td>\n",
       "    </tr>\n",
       "    <tr>\n",
       "      <th>25%</th>\n",
       "      <td>0.000000</td>\n",
       "      <td>0.000000</td>\n",
       "      <td>NaN</td>\n",
       "      <td>0.000000</td>\n",
       "      <td>0.000000</td>\n",
       "    </tr>\n",
       "    <tr>\n",
       "      <th>50%</th>\n",
       "      <td>0.000000</td>\n",
       "      <td>0.000000</td>\n",
       "      <td>NaN</td>\n",
       "      <td>0.000000</td>\n",
       "      <td>0.000000</td>\n",
       "    </tr>\n",
       "    <tr>\n",
       "      <th>75%</th>\n",
       "      <td>0.006329</td>\n",
       "      <td>7.963200</td>\n",
       "      <td>NaN</td>\n",
       "      <td>0.005700</td>\n",
       "      <td>3.000096</td>\n",
       "    </tr>\n",
       "    <tr>\n",
       "      <th>max</th>\n",
       "      <td>0.049920</td>\n",
       "      <td>62.999040</td>\n",
       "      <td>1.000000</td>\n",
       "      <td>0.071200</td>\n",
       "      <td>37.024000</td>\n",
       "    </tr>\n",
       "  </tbody>\n",
       "</table>\n",
       "</div>"
      ],
      "text/plain": [
       "                 MAF     MinorCount   correlation     MAF_target  \\\n",
       "count  279673.000000  279673.000000  69648.000000  279673.000000   \n",
       "mean        0.006626       8.287650      0.857934       0.006376   \n",
       "std         0.012493      15.638245      0.229226       0.012449   \n",
       "min         0.000000       0.000000     -1.000000       0.000000   \n",
       "25%         0.000000       0.000000           NaN       0.000000   \n",
       "50%         0.000000       0.000000           NaN       0.000000   \n",
       "75%         0.006329       7.963200           NaN       0.005700   \n",
       "max         0.049920      62.999040      1.000000       0.071200   \n",
       "\n",
       "       MinorCount_target  \n",
       "count      279673.000000  \n",
       "mean            3.331088  \n",
       "std             6.509450  \n",
       "min             0.000000  \n",
       "25%             0.000000  \n",
       "50%             0.000000  \n",
       "75%             3.000096  \n",
       "max            37.024000  "
      ]
     },
     "execution_count": 397,
     "metadata": {},
     "output_type": "execute_result"
    }
   ],
   "source": [
    "corfreq[corfreq.MAF < .05].describe()"
   ]
  },
  {
   "cell_type": "code",
   "execution_count": 400,
   "metadata": {
    "collapsed": false
   },
   "outputs": [
    {
     "data": {
      "text/html": [
       "<div>\n",
       "<table border=\"1\" class=\"dataframe\">\n",
       "  <thead>\n",
       "    <tr style=\"text-align: right;\">\n",
       "      <th></th>\n",
       "      <th>MAF</th>\n",
       "      <th>MinorCount</th>\n",
       "      <th>correlation</th>\n",
       "      <th>MAF_target</th>\n",
       "      <th>MinorCount_target</th>\n",
       "    </tr>\n",
       "  </thead>\n",
       "  <tbody>\n",
       "    <tr>\n",
       "      <th>9:99987947</th>\n",
       "      <td>0.3956</td>\n",
       "      <td>500.0384</td>\n",
       "      <td>0.981024</td>\n",
       "      <td>0.3864</td>\n",
       "      <td>204.0192</td>\n",
       "    </tr>\n",
       "    <tr>\n",
       "      <th>9:99991235</th>\n",
       "      <td>0.0008</td>\n",
       "      <td>1.0112</td>\n",
       "      <td>NaN</td>\n",
       "      <td>0.0000</td>\n",
       "      <td>0.0000</td>\n",
       "    </tr>\n",
       "    <tr>\n",
       "      <th>9:99995619</th>\n",
       "      <td>0.3726</td>\n",
       "      <td>470.9664</td>\n",
       "      <td>0.994347</td>\n",
       "      <td>0.3712</td>\n",
       "      <td>195.9936</td>\n",
       "    </tr>\n",
       "    <tr>\n",
       "      <th>9:9999897</th>\n",
       "      <td>0.3829</td>\n",
       "      <td>483.9856</td>\n",
       "      <td>0.992926</td>\n",
       "      <td>0.3750</td>\n",
       "      <td>198.0000</td>\n",
       "    </tr>\n",
       "    <tr>\n",
       "      <th>9:99999354</th>\n",
       "      <td>0.3370</td>\n",
       "      <td>425.9680</td>\n",
       "      <td>0.975037</td>\n",
       "      <td>0.3333</td>\n",
       "      <td>175.9824</td>\n",
       "    </tr>\n",
       "  </tbody>\n",
       "</table>\n",
       "</div>"
      ],
      "text/plain": [
       "               MAF  MinorCount  correlation  MAF_target  MinorCount_target\n",
       "9:99987947  0.3956    500.0384     0.981024      0.3864           204.0192\n",
       "9:99991235  0.0008      1.0112          NaN      0.0000             0.0000\n",
       "9:99995619  0.3726    470.9664     0.994347      0.3712           195.9936\n",
       "9:9999897   0.3829    483.9856     0.992926      0.3750           198.0000\n",
       "9:99999354  0.3370    425.9680     0.975037      0.3333           175.9824"
      ]
     },
     "execution_count": 400,
     "metadata": {},
     "output_type": "execute_result"
    }
   ],
   "source": []
  },
  {
   "cell_type": "code",
   "execution_count": 432,
   "metadata": {
    "collapsed": false
   },
   "outputs": [
    {
     "data": {
      "text/plain": [
       "<matplotlib.axes._subplots.AxesSubplot at 0x7f3724d24080>"
      ]
     },
     "execution_count": 432,
     "metadata": {},
     "output_type": "execute_result"
    },
    {
     "data": {
      "image/png": "[encoded data removed]",
      "text/plain": [
       "<matplotlib.figure.Figure at 0x7f36a1c427f0>"
      ]
     },
     "metadata": {},
     "output_type": "display_data"
    }
   ],
   "source": [
    "unrecalled.MAF_target.plot(kind='hist',bins=50,logy=True,title='MAF Not Unimptued sites SNP50 samples Run1')"
   ]
  },
  {
   "cell_type": "code",
   "execution_count": 437,
   "metadata": {
    "collapsed": false
   },
   "outputs": [
    {
     "data": {
      "text/plain": [
       "<matplotlib.axes._subplots.AxesSubplot at 0x7f3724d594e0>"
      ]
     },
     "execution_count": 437,
     "metadata": {},
     "output_type": "execute_result"
    },
    {
     "data": {
      "image/png": "[encoded data removed]",
      "text/plain": [
       "<matplotlib.figure.Figure at 0x7f3724d58e48>"
      ]
     },
     "metadata": {},
     "output_type": "display_data"
    }
   ],
   "source": [
    "unrecalled[unrecalled.MAF_target<.1].MAF_target.plot(kind='hist',bins=50,logy=True,title='MAF Not Unimptued sites SNP50 samples Run1')"
   ]
  },
  {
   "cell_type": "code",
   "execution_count": 433,
   "metadata": {
    "collapsed": false
   },
   "outputs": [
    {
     "data": {
      "text/plain": [
       "<matplotlib.axes._subplots.AxesSubplot at 0x7f3724d42ba8>"
      ]
     },
     "execution_count": 433,
     "metadata": {},
     "output_type": "execute_result"
    },
    {
     "data": {
      "image/png": "[encoded data removed]",
      "text/plain": [
       "<matplotlib.figure.Figure at 0x7f3724d3fa90>"
      ]
     },
     "metadata": {},
     "output_type": "display_data"
    }
   ],
   "source": [
    "fixed_in_pop.MAF.plot(kind='hist',bins=50,logy=True,title='MAF Not Unimptued sites SNP50 samples Run1')"
   ]
  },
  {
   "cell_type": "code",
   "execution_count": 436,
   "metadata": {
    "collapsed": false
   },
   "outputs": [
    {
     "data": {
      "text/plain": [
       "<matplotlib.axes._subplots.AxesSubplot at 0x7f3724f8c240>"
      ]
     },
     "execution_count": 436,
     "metadata": {},
     "output_type": "execute_result"
    },
    {
     "data": {
      "image/png": "[encoded data removed]",
      "text/plain": [
       "<matplotlib.figure.Figure at 0x7f3724d01908>"
      ]
     },
     "metadata": {},
     "output_type": "display_data"
    }
   ],
   "source": [
    "fixed_in_pop[fixed_in_pop.MAF<.1].MAF.plot(kind='hist',bins=50,logy=True,title='MAF Not Unimptued sites SNP50 samples Run1')"
   ]
  },
  {
   "cell_type": "code",
   "execution_count": 435,
   "metadata": {
    "collapsed": false
   },
   "outputs": [
    {
     "data": {
      "text/plain": [
       "<matplotlib.axes._subplots.AxesSubplot at 0x7f3724e54080>"
      ]
     },
     "execution_count": 435,
     "metadata": {},
     "output_type": "execute_result"
    },
    {
     "data": {
      "image/png": "[encoded data removed]",
      "text/plain": [
       "<matplotlib.figure.Figure at 0x7f3724cc1f98>"
      ]
     },
     "metadata": {},
     "output_type": "display_data"
    }
   ],
   "source": [
    "fixed_in_pop.MinorCount.plot(kind='hist',bins=50,logy=True,title='MAF Not Unimptued sites SNP50 samples Run1')"
   ]
  },
  {
   "cell_type": "code",
   "execution_count": 449,
   "metadata": {
    "collapsed": false
   },
   "outputs": [],
   "source": [
    "run5_chr10 = pd.read_csv('./run5/snp50.chr25.snp_correlations.csv')"
   ]
  },
  {
   "cell_type": "code",
   "execution_count": 450,
   "metadata": {
    "collapsed": false
   },
   "outputs": [
    {
     "name": "stderr",
     "output_type": "stream",
     "text": [
      "/home/jlh4df/.conda/envs/Imp3/lib/python3.5/site-packages/numpy/lib/function_base.py:4116: RuntimeWarning: Invalid value encountered in percentile\n",
      "  interpolation=interpolation)\n"
     ]
    },
    {
     "data": {
      "text/html": [
       "<div>\n",
       "<table border=\"1\" class=\"dataframe\">\n",
       "  <thead>\n",
       "    <tr style=\"text-align: right;\">\n",
       "      <th></th>\n",
       "      <th>correlation</th>\n",
       "    </tr>\n",
       "  </thead>\n",
       "  <tbody>\n",
       "    <tr>\n",
       "      <th>count</th>\n",
       "      <td>12965.000000</td>\n",
       "    </tr>\n",
       "    <tr>\n",
       "      <th>mean</th>\n",
       "      <td>-0.942686</td>\n",
       "    </tr>\n",
       "    <tr>\n",
       "      <th>std</th>\n",
       "      <td>0.153288</td>\n",
       "    </tr>\n",
       "    <tr>\n",
       "      <th>min</th>\n",
       "      <td>-1.000000</td>\n",
       "    </tr>\n",
       "    <tr>\n",
       "      <th>25%</th>\n",
       "      <td>NaN</td>\n",
       "    </tr>\n",
       "    <tr>\n",
       "      <th>50%</th>\n",
       "      <td>NaN</td>\n",
       "    </tr>\n",
       "    <tr>\n",
       "      <th>75%</th>\n",
       "      <td>NaN</td>\n",
       "    </tr>\n",
       "    <tr>\n",
       "      <th>max</th>\n",
       "      <td>0.044589</td>\n",
       "    </tr>\n",
       "  </tbody>\n",
       "</table>\n",
       "</div>"
      ],
      "text/plain": [
       "        correlation\n",
       "count  12965.000000\n",
       "mean      -0.942686\n",
       "std        0.153288\n",
       "min       -1.000000\n",
       "25%             NaN\n",
       "50%             NaN\n",
       "75%             NaN\n",
       "max        0.044589"
      ]
     },
     "execution_count": 450,
     "metadata": {},
     "output_type": "execute_result"
    }
   ],
   "source": [
    "run5_chr10.describe()"
   ]
  },
  {
   "cell_type": "code",
   "execution_count": 462,
   "metadata": {
    "collapsed": true
   },
   "outputs": [],
   "source": [
    "def freq_reader(file,nickname):\n",
    "    frame = pd.read_table(file,delim_whitespace=True)\n",
    "    if frame.shape[0] == 914636:\n",
    "        frame['POS'] = allmap.POS #has to be the map that contains every site\n",
    "    frame['chrpos'] = frame.CHR.astype(str).str.cat(frame.POS.astype(str), sep = ':')\n",
    "    frame['MAF'] = frame.MAF.where(frame.MAF <=.5,(1 - frame.MAF))\n",
    "    frame['MinorCount']= frame.MAF * frame.NCHROBS\n",
    "    frame = frame.set_index('chrpos')\n",
    "    frame = frame[frame.CHR<=29]\n",
    "    return frame"
   ]
  },
  {
   "cell_type": "code",
   "execution_count": 463,
   "metadata": {
    "collapsed": false
   },
   "outputs": [],
   "source": [
    "impref_list1 = freq_reader('../ref_vcfs/impref_animals.list1.frq','impreflist1')"
   ]
  },
  {
   "cell_type": "code",
   "execution_count": 464,
   "metadata": {
    "collapsed": false
   },
   "outputs": [
    {
     "data": {
      "text/html": [
       "<div>\n",
       "<table border=\"1\" class=\"dataframe\">\n",
       "  <thead>\n",
       "    <tr style=\"text-align: right;\">\n",
       "      <th></th>\n",
       "      <th>CHR</th>\n",
       "      <th>SNP</th>\n",
       "      <th>A1</th>\n",
       "      <th>A2</th>\n",
       "      <th>MAF</th>\n",
       "      <th>NCHROBS</th>\n",
       "      <th>POS</th>\n",
       "      <th>MinorCount</th>\n",
       "    </tr>\n",
       "    <tr>\n",
       "      <th>chrpos</th>\n",
       "      <th></th>\n",
       "      <th></th>\n",
       "      <th></th>\n",
       "      <th></th>\n",
       "      <th></th>\n",
       "      <th></th>\n",
       "      <th></th>\n",
       "      <th></th>\n",
       "    </tr>\n",
       "  </thead>\n",
       "  <tbody>\n",
       "    <tr>\n",
       "      <th>1:19832</th>\n",
       "      <td>1</td>\n",
       "      <td>217986</td>\n",
       "      <td>C</td>\n",
       "      <td>T</td>\n",
       "      <td>0.0593</td>\n",
       "      <td>236</td>\n",
       "      <td>19832</td>\n",
       "      <td>13.9948</td>\n",
       "    </tr>\n",
       "    <tr>\n",
       "      <th>1:36337</th>\n",
       "      <td>1</td>\n",
       "      <td>1023761</td>\n",
       "      <td>G</td>\n",
       "      <td>A</td>\n",
       "      <td>0.4756</td>\n",
       "      <td>246</td>\n",
       "      <td>36337</td>\n",
       "      <td>116.9976</td>\n",
       "    </tr>\n",
       "    <tr>\n",
       "      <th>1:67130</th>\n",
       "      <td>1</td>\n",
       "      <td>1023762</td>\n",
       "      <td>A</td>\n",
       "      <td>G</td>\n",
       "      <td>0.0000</td>\n",
       "      <td>246</td>\n",
       "      <td>67130</td>\n",
       "      <td>0.0000</td>\n",
       "    </tr>\n",
       "    <tr>\n",
       "      <th>1:70600</th>\n",
       "      <td>1</td>\n",
       "      <td>252907</td>\n",
       "      <td>T</td>\n",
       "      <td>C</td>\n",
       "      <td>0.0248</td>\n",
       "      <td>242</td>\n",
       "      <td>70600</td>\n",
       "      <td>6.0016</td>\n",
       "    </tr>\n",
       "    <tr>\n",
       "      <th>1:78655</th>\n",
       "      <td>1</td>\n",
       "      <td>1023763</td>\n",
       "      <td>G</td>\n",
       "      <td>A</td>\n",
       "      <td>0.4756</td>\n",
       "      <td>246</td>\n",
       "      <td>78655</td>\n",
       "      <td>116.9976</td>\n",
       "    </tr>\n",
       "  </tbody>\n",
       "</table>\n",
       "</div>"
      ],
      "text/plain": [
       "         CHR      SNP A1 A2     MAF  NCHROBS    POS  MinorCount\n",
       "chrpos                                                         \n",
       "1:19832    1   217986  C  T  0.0593      236  19832     13.9948\n",
       "1:36337    1  1023761  G  A  0.4756      246  36337    116.9976\n",
       "1:67130    1  1023762  A  G  0.0000      246  67130      0.0000\n",
       "1:70600    1   252907  T  C  0.0248      242  70600      6.0016\n",
       "1:78655    1  1023763  G  A  0.4756      246  78655    116.9976"
      ]
     },
     "execution_count": 464,
     "metadata": {},
     "output_type": "execute_result"
    }
   ],
   "source": [
    "impref_list1.head()"
   ]
  },
  {
   "cell_type": "markdown",
   "metadata": {},
   "source": [
    "## add info on which assay the genotypes came from\n",
    "correct_sex/777962.170519.1970.hd"
   ]
  },
  {
   "cell_type": "code",
   "execution_count": 505,
   "metadata": {
    "collapsed": false
   },
   "outputs": [
    {
     "name": "stdout",
     "output_type": "stream",
     "text": [
      "1\t1023761\t0.036337\t36337\tG\tA\r\n",
      "1\t1023762\t0.06713\t67130\tA\tG\r\n",
      "1\t1023763\t0.078655\t78655\tG\tA\r\n",
      "1\t1023764\t0.083412\t83412\tG\tA\r\n",
      "1\t1065681\t0.089725\t89725\tT\tC\r\n",
      "1\t1023765\t0.10026\t100260\tT\tC\r\n",
      "1\t1023767\t0.120183\t120183\tT\tG\r\n",
      "1\t1023768\t0.127885\t127885\tT\tG\r\n",
      "1\t51032\t0.135098\t135098\tA\tG\r\n",
      "1\t1023769\t0.137548\t137548\tA\tG\r\n"
     ]
    }
   ],
   "source": [
    "! head ../correct_sex/777962.170519.1970.hd.bim"
   ]
  },
  {
   "cell_type": "code",
   "execution_count": null,
   "metadata": {
    "collapsed": false
   },
   "outputs": [],
   "source": []
  },
  {
   "cell_type": "code",
   "execution_count": 507,
   "metadata": {
    "collapsed": false
   },
   "outputs": [],
   "source": [
    "f250sitesframe = pd.read_table('../correct_sex/227234.170519.1970.GGPF250.bim',usecols=[0,3],names=['CHR','POS'],header=None)\n",
    "f250sitesframe['f250_chrpos'] = f250sitesframe.CHR.astype(str).str.cat(f250sitesframe.POS.astype(str), sep = ':')\n",
    "f250sitesframe = f250sitesframe.set_index('f250_chrpos')\n",
    "f250sites = f250sitesframe.index"
   ]
  },
  {
   "cell_type": "code",
   "execution_count": 508,
   "metadata": {
    "collapsed": false
   },
   "outputs": [],
   "source": [
    "hdsitesframe = pd.read_table('../correct_sex/777962.170519.1970.HD.bim',usecols=[0,3],names=['CHR','POS'],header=None)\n",
    "hdsitesframe['hd_chrpos'] = hdsitesframe.CHR.astype(str).str.cat(hdsitesframe.POS.astype(str), sep = ':')\n",
    "hdsitesframe = hdsitesframe.set_index('hd_chrpos')\n",
    "hdsites = hdsitesframe.index"
   ]
  },
  {
   "cell_type": "code",
   "execution_count": 515,
   "metadata": {
    "collapsed": false
   },
   "outputs": [
    {
     "name": "stderr",
     "output_type": "stream",
     "text": [
      "/home/jlh4df/.conda/envs/Imp3/lib/python3.5/site-packages/numpy/lib/function_base.py:4116: RuntimeWarning: Invalid value encountered in percentile\n",
      "  interpolation=interpolation)\n"
     ]
    },
    {
     "data": {
      "text/html": [
       "<div>\n",
       "<table border=\"1\" class=\"dataframe\">\n",
       "  <thead>\n",
       "    <tr style=\"text-align: right;\">\n",
       "      <th></th>\n",
       "      <th>MAF</th>\n",
       "      <th>MinorCount</th>\n",
       "      <th>correlation</th>\n",
       "      <th>MAF_target</th>\n",
       "      <th>MinorCount_target</th>\n",
       "      <th>MAF_impref</th>\n",
       "      <th>MinorCount_impref</th>\n",
       "    </tr>\n",
       "  </thead>\n",
       "  <tbody>\n",
       "    <tr>\n",
       "      <th>count</th>\n",
       "      <td>713056.000000</td>\n",
       "      <td>713056.000000</td>\n",
       "      <td>579141.000000</td>\n",
       "      <td>713056.000000</td>\n",
       "      <td>713056.000000</td>\n",
       "      <td>660551.000000</td>\n",
       "      <td>660551.000000</td>\n",
       "    </tr>\n",
       "    <tr>\n",
       "      <th>mean</th>\n",
       "      <td>0.229523</td>\n",
       "      <td>288.997527</td>\n",
       "      <td>0.969431</td>\n",
       "      <td>0.228796</td>\n",
       "      <td>120.358448</td>\n",
       "      <td>0.205120</td>\n",
       "      <td>50.179300</td>\n",
       "    </tr>\n",
       "    <tr>\n",
       "      <th>std</th>\n",
       "      <td>0.161775</td>\n",
       "      <td>203.736793</td>\n",
       "      <td>0.112920</td>\n",
       "      <td>0.161928</td>\n",
       "      <td>85.201066</td>\n",
       "      <td>0.167012</td>\n",
       "      <td>40.878582</td>\n",
       "    </tr>\n",
       "    <tr>\n",
       "      <th>min</th>\n",
       "      <td>0.000000</td>\n",
       "      <td>0.000000</td>\n",
       "      <td>-1.000000</td>\n",
       "      <td>0.000000</td>\n",
       "      <td>0.000000</td>\n",
       "      <td>0.000000</td>\n",
       "      <td>0.000000</td>\n",
       "    </tr>\n",
       "    <tr>\n",
       "      <th>25%</th>\n",
       "      <td>NaN</td>\n",
       "      <td>NaN</td>\n",
       "      <td>NaN</td>\n",
       "      <td>NaN</td>\n",
       "      <td>NaN</td>\n",
       "      <td>NaN</td>\n",
       "      <td>NaN</td>\n",
       "    </tr>\n",
       "    <tr>\n",
       "      <th>50%</th>\n",
       "      <td>NaN</td>\n",
       "      <td>NaN</td>\n",
       "      <td>NaN</td>\n",
       "      <td>NaN</td>\n",
       "      <td>NaN</td>\n",
       "      <td>NaN</td>\n",
       "      <td>NaN</td>\n",
       "    </tr>\n",
       "    <tr>\n",
       "      <th>75%</th>\n",
       "      <td>NaN</td>\n",
       "      <td>NaN</td>\n",
       "      <td>NaN</td>\n",
       "      <td>NaN</td>\n",
       "      <td>NaN</td>\n",
       "      <td>NaN</td>\n",
       "      <td>NaN</td>\n",
       "    </tr>\n",
       "    <tr>\n",
       "      <th>max</th>\n",
       "      <td>0.500000</td>\n",
       "      <td>632.000000</td>\n",
       "      <td>1.000000</td>\n",
       "      <td>0.500000</td>\n",
       "      <td>264.000000</td>\n",
       "      <td>0.500000</td>\n",
       "      <td>123.000000</td>\n",
       "    </tr>\n",
       "  </tbody>\n",
       "</table>\n",
       "</div>"
      ],
      "text/plain": [
       "                 MAF     MinorCount    correlation     MAF_target  \\\n",
       "count  713056.000000  713056.000000  579141.000000  713056.000000   \n",
       "mean        0.229523     288.997527       0.969431       0.228796   \n",
       "std         0.161775     203.736793       0.112920       0.161928   \n",
       "min         0.000000       0.000000      -1.000000       0.000000   \n",
       "25%              NaN            NaN            NaN            NaN   \n",
       "50%              NaN            NaN            NaN            NaN   \n",
       "75%              NaN            NaN            NaN            NaN   \n",
       "max         0.500000     632.000000       1.000000       0.500000   \n",
       "\n",
       "       MinorCount_target     MAF_impref  MinorCount_impref  \n",
       "count      713056.000000  660551.000000      660551.000000  \n",
       "mean          120.358448       0.205120          50.179300  \n",
       "std            85.201066       0.167012          40.878582  \n",
       "min             0.000000       0.000000           0.000000  \n",
       "25%                  NaN            NaN                NaN  \n",
       "50%                  NaN            NaN                NaN  \n",
       "75%                  NaN            NaN                NaN  \n",
       "max           264.000000       0.500000         123.000000  "
      ]
     },
     "execution_count": 515,
     "metadata": {},
     "output_type": "execute_result"
    }
   ],
   "source": [
    "corfreq.loc[hdsites].describe()"
   ]
  },
  {
   "cell_type": "code",
   "execution_count": 514,
   "metadata": {
    "collapsed": false
   },
   "outputs": [
    {
     "name": "stderr",
     "output_type": "stream",
     "text": [
      "/home/jlh4df/.conda/envs/Imp3/lib/python3.5/site-packages/numpy/lib/function_base.py:4116: RuntimeWarning: Invalid value encountered in percentile\n",
      "  interpolation=interpolation)\n"
     ]
    },
    {
     "data": {
      "text/html": [
       "<div>\n",
       "<table border=\"1\" class=\"dataframe\">\n",
       "  <thead>\n",
       "    <tr style=\"text-align: right;\">\n",
       "      <th></th>\n",
       "      <th>MAF</th>\n",
       "      <th>MinorCount</th>\n",
       "      <th>correlation</th>\n",
       "      <th>MAF_target</th>\n",
       "      <th>MinorCount_target</th>\n",
       "      <th>MAF_impref</th>\n",
       "      <th>MinorCount_impref</th>\n",
       "    </tr>\n",
       "  </thead>\n",
       "  <tbody>\n",
       "    <tr>\n",
       "      <th>count</th>\n",
       "      <td>195007.000000</td>\n",
       "      <td>195007.000000</td>\n",
       "      <td>101092.000000</td>\n",
       "      <td>195007.000000</td>\n",
       "      <td>195007.000000</td>\n",
       "      <td>175810.000000</td>\n",
       "      <td>175810.000000</td>\n",
       "    </tr>\n",
       "    <tr>\n",
       "      <th>mean</th>\n",
       "      <td>0.127134</td>\n",
       "      <td>158.735459</td>\n",
       "      <td>0.949658</td>\n",
       "      <td>0.126702</td>\n",
       "      <td>65.956692</td>\n",
       "      <td>0.198128</td>\n",
       "      <td>48.459100</td>\n",
       "    </tr>\n",
       "    <tr>\n",
       "      <th>std</th>\n",
       "      <td>0.161333</td>\n",
       "      <td>201.663879</td>\n",
       "      <td>0.178470</td>\n",
       "      <td>0.161142</td>\n",
       "      <td>83.995248</td>\n",
       "      <td>0.167413</td>\n",
       "      <td>40.973751</td>\n",
       "    </tr>\n",
       "    <tr>\n",
       "      <th>min</th>\n",
       "      <td>0.000000</td>\n",
       "      <td>0.000000</td>\n",
       "      <td>-1.000000</td>\n",
       "      <td>0.000000</td>\n",
       "      <td>0.000000</td>\n",
       "      <td>0.000000</td>\n",
       "      <td>0.000000</td>\n",
       "    </tr>\n",
       "    <tr>\n",
       "      <th>25%</th>\n",
       "      <td>NaN</td>\n",
       "      <td>NaN</td>\n",
       "      <td>NaN</td>\n",
       "      <td>NaN</td>\n",
       "      <td>NaN</td>\n",
       "      <td>NaN</td>\n",
       "      <td>NaN</td>\n",
       "    </tr>\n",
       "    <tr>\n",
       "      <th>50%</th>\n",
       "      <td>NaN</td>\n",
       "      <td>NaN</td>\n",
       "      <td>NaN</td>\n",
       "      <td>NaN</td>\n",
       "      <td>NaN</td>\n",
       "      <td>NaN</td>\n",
       "      <td>NaN</td>\n",
       "    </tr>\n",
       "    <tr>\n",
       "      <th>75%</th>\n",
       "      <td>NaN</td>\n",
       "      <td>NaN</td>\n",
       "      <td>NaN</td>\n",
       "      <td>NaN</td>\n",
       "      <td>NaN</td>\n",
       "      <td>NaN</td>\n",
       "      <td>NaN</td>\n",
       "    </tr>\n",
       "    <tr>\n",
       "      <th>max</th>\n",
       "      <td>0.500000</td>\n",
       "      <td>632.000000</td>\n",
       "      <td>1.000000</td>\n",
       "      <td>0.500000</td>\n",
       "      <td>264.000000</td>\n",
       "      <td>0.500000</td>\n",
       "      <td>123.000000</td>\n",
       "    </tr>\n",
       "  </tbody>\n",
       "</table>\n",
       "</div>"
      ],
      "text/plain": [
       "                 MAF     MinorCount    correlation     MAF_target  \\\n",
       "count  195007.000000  195007.000000  101092.000000  195007.000000   \n",
       "mean        0.127134     158.735459       0.949658       0.126702   \n",
       "std         0.161333     201.663879       0.178470       0.161142   \n",
       "min         0.000000       0.000000      -1.000000       0.000000   \n",
       "25%              NaN            NaN            NaN            NaN   \n",
       "50%              NaN            NaN            NaN            NaN   \n",
       "75%              NaN            NaN            NaN            NaN   \n",
       "max         0.500000     632.000000       1.000000       0.500000   \n",
       "\n",
       "       MinorCount_target     MAF_impref  MinorCount_impref  \n",
       "count      195007.000000  175810.000000      175810.000000  \n",
       "mean           65.956692       0.198128          48.459100  \n",
       "std            83.995248       0.167413          40.973751  \n",
       "min             0.000000       0.000000           0.000000  \n",
       "25%                  NaN            NaN                NaN  \n",
       "50%                  NaN            NaN                NaN  \n",
       "75%                  NaN            NaN                NaN  \n",
       "max           264.000000       0.500000         123.000000  "
      ]
     },
     "execution_count": 514,
     "metadata": {},
     "output_type": "execute_result"
    }
   ],
   "source": [
    "corfreq.loc[f250sites].describe()"
   ]
  },
  {
   "cell_type": "code",
   "execution_count": 552,
   "metadata": {
    "collapsed": false
   },
   "outputs": [
    {
     "data": {
      "image/png": "[encoded data removed]",
      "text/plain": [
       "<matplotlib.figure.Figure at 0x7f37251b98d0>"
      ]
     },
     "metadata": {},
     "output_type": "display_data"
    }
   ],
   "source": [
    "with sb.axes_style(\"white\"):\n",
    "    sb.jointplot(y='correlation',x='MAF' ,data = corfreq.loc[f250sites],kind=\"hex\",color='k',bins=100,ylim=(.5,1),gridsize=40)"
   ]
  },
  {
   "cell_type": "code",
   "execution_count": 553,
   "metadata": {
    "collapsed": false
   },
   "outputs": [
    {
     "data": {
      "image/png": "[encoded data removed]",
      "text/plain": [
       "<matplotlib.figure.Figure at 0x7f3724d35390>"
      ]
     },
     "metadata": {},
     "output_type": "display_data"
    }
   ],
   "source": [
    "with sb.axes_style(\"white\"):\n",
    "    sb.jointplot(y='correlation',x='MAF' ,data = corfreq.loc[hdsites],kind=\"hex\",color='k',bins=100,ylim=(.5,1),gridsize=40)"
   ]
  },
  {
   "cell_type": "code",
   "execution_count": 554,
   "metadata": {
    "collapsed": false
   },
   "outputs": [
    {
     "name": "stderr",
     "output_type": "stream",
     "text": [
      "/home/jlh4df/.conda/envs/Imp3/lib/python3.5/site-packages/numpy/lib/function_base.py:4116: RuntimeWarning: Invalid value encountered in percentile\n",
      "  interpolation=interpolation)\n"
     ]
    },
    {
     "data": {
      "text/html": [
       "<div>\n",
       "<table border=\"1\" class=\"dataframe\">\n",
       "  <thead>\n",
       "    <tr style=\"text-align: right;\">\n",
       "      <th></th>\n",
       "      <th>MAF</th>\n",
       "      <th>MinorCount</th>\n",
       "      <th>correlation</th>\n",
       "      <th>MAF_target</th>\n",
       "      <th>MinorCount_target</th>\n",
       "      <th>MAF_impref</th>\n",
       "      <th>MinorCount_impref</th>\n",
       "    </tr>\n",
       "  </thead>\n",
       "  <tbody>\n",
       "    <tr>\n",
       "      <th>count</th>\n",
       "      <td>195007.000000</td>\n",
       "      <td>195007.000000</td>\n",
       "      <td>101092.000000</td>\n",
       "      <td>195007.000000</td>\n",
       "      <td>195007.000000</td>\n",
       "      <td>175810.000000</td>\n",
       "      <td>175810.000000</td>\n",
       "    </tr>\n",
       "    <tr>\n",
       "      <th>mean</th>\n",
       "      <td>0.127134</td>\n",
       "      <td>158.735459</td>\n",
       "      <td>0.949658</td>\n",
       "      <td>0.126702</td>\n",
       "      <td>65.956692</td>\n",
       "      <td>0.198128</td>\n",
       "      <td>48.459100</td>\n",
       "    </tr>\n",
       "    <tr>\n",
       "      <th>std</th>\n",
       "      <td>0.161333</td>\n",
       "      <td>201.663879</td>\n",
       "      <td>0.178470</td>\n",
       "      <td>0.161142</td>\n",
       "      <td>83.995248</td>\n",
       "      <td>0.167413</td>\n",
       "      <td>40.973751</td>\n",
       "    </tr>\n",
       "    <tr>\n",
       "      <th>min</th>\n",
       "      <td>0.000000</td>\n",
       "      <td>0.000000</td>\n",
       "      <td>-1.000000</td>\n",
       "      <td>0.000000</td>\n",
       "      <td>0.000000</td>\n",
       "      <td>0.000000</td>\n",
       "      <td>0.000000</td>\n",
       "    </tr>\n",
       "    <tr>\n",
       "      <th>25%</th>\n",
       "      <td>NaN</td>\n",
       "      <td>NaN</td>\n",
       "      <td>NaN</td>\n",
       "      <td>NaN</td>\n",
       "      <td>NaN</td>\n",
       "      <td>NaN</td>\n",
       "      <td>NaN</td>\n",
       "    </tr>\n",
       "    <tr>\n",
       "      <th>50%</th>\n",
       "      <td>NaN</td>\n",
       "      <td>NaN</td>\n",
       "      <td>NaN</td>\n",
       "      <td>NaN</td>\n",
       "      <td>NaN</td>\n",
       "      <td>NaN</td>\n",
       "      <td>NaN</td>\n",
       "    </tr>\n",
       "    <tr>\n",
       "      <th>75%</th>\n",
       "      <td>NaN</td>\n",
       "      <td>NaN</td>\n",
       "      <td>NaN</td>\n",
       "      <td>NaN</td>\n",
       "      <td>NaN</td>\n",
       "      <td>NaN</td>\n",
       "      <td>NaN</td>\n",
       "    </tr>\n",
       "    <tr>\n",
       "      <th>max</th>\n",
       "      <td>0.500000</td>\n",
       "      <td>632.000000</td>\n",
       "      <td>1.000000</td>\n",
       "      <td>0.500000</td>\n",
       "      <td>264.000000</td>\n",
       "      <td>0.500000</td>\n",
       "      <td>123.000000</td>\n",
       "    </tr>\n",
       "  </tbody>\n",
       "</table>\n",
       "</div>"
      ],
      "text/plain": [
       "                 MAF     MinorCount    correlation     MAF_target  \\\n",
       "count  195007.000000  195007.000000  101092.000000  195007.000000   \n",
       "mean        0.127134     158.735459       0.949658       0.126702   \n",
       "std         0.161333     201.663879       0.178470       0.161142   \n",
       "min         0.000000       0.000000      -1.000000       0.000000   \n",
       "25%              NaN            NaN            NaN            NaN   \n",
       "50%              NaN            NaN            NaN            NaN   \n",
       "75%              NaN            NaN            NaN            NaN   \n",
       "max         0.500000     632.000000       1.000000       0.500000   \n",
       "\n",
       "       MinorCount_target     MAF_impref  MinorCount_impref  \n",
       "count      195007.000000  175810.000000      175810.000000  \n",
       "mean           65.956692       0.198128          48.459100  \n",
       "std            83.995248       0.167413          40.973751  \n",
       "min             0.000000       0.000000           0.000000  \n",
       "25%                  NaN            NaN                NaN  \n",
       "50%                  NaN            NaN                NaN  \n",
       "75%                  NaN            NaN                NaN  \n",
       "max           264.000000       0.500000         123.000000  "
      ]
     },
     "execution_count": 554,
     "metadata": {},
     "output_type": "execute_result"
    }
   ],
   "source": [
    "corfreq.loc[f250sites].describe()"
   ]
  },
  {
   "cell_type": "code",
   "execution_count": 494,
   "metadata": {
    "collapsed": false
   },
   "outputs": [
    {
     "data": {
      "text/plain": [
       "MAF                    0.3220\n",
       "MinorCount           407.0080\n",
       "correlation               NaN\n",
       "MAF_target             0.2973\n",
       "MinorCount_target    156.9744\n",
       "MAF_impref                NaN\n",
       "MinorCount_impref         NaN\n",
       "Name: 10:100001746, dtype: float64"
      ]
     },
     "execution_count": 494,
     "metadata": {},
     "output_type": "execute_result"
    }
   ],
   "source": [
    "corfreq.loc['10:100001746']"
   ]
  },
  {
   "cell_type": "code",
   "execution_count": 495,
   "metadata": {
    "collapsed": false
   },
   "outputs": [
    {
     "data": {
      "text/plain": [
       "False"
      ]
     },
     "execution_count": 495,
     "metadata": {},
     "output_type": "execute_result"
    }
   ],
   "source": [
    "'10:100001746' in f250sites"
   ]
  },
  {
   "cell_type": "code",
   "execution_count": 496,
   "metadata": {
    "collapsed": false
   },
   "outputs": [
    {
     "data": {
      "text/plain": [
       "'1:1023761'"
      ]
     },
     "execution_count": 496,
     "metadata": {},
     "output_type": "execute_result"
    }
   ],
   "source": [
    "f250sites[0]"
   ]
  },
  {
   "cell_type": "code",
   "execution_count": 497,
   "metadata": {
    "collapsed": false
   },
   "outputs": [
    {
     "data": {
      "text/plain": [
       "'10:100001746'"
      ]
     },
     "execution_count": 497,
     "metadata": {},
     "output_type": "execute_result"
    }
   ],
   "source": [
    "corfreq.index[0]"
   ]
  },
  {
   "cell_type": "code",
   "execution_count": 590,
   "metadata": {
    "collapsed": false
   },
   "outputs": [
    {
     "data": {
      "text/plain": [
       "['run1', 'run2', 'run4', 'run5', 'run6', 'run7', 'run8']"
      ]
     },
     "execution_count": 590,
     "metadata": {},
     "output_type": "execute_result"
    }
   ],
   "source": [
    "glob.glob('run*')"
   ]
  },
  {
   "cell_type": "code",
   "execution_count": 612,
   "metadata": {
    "collapsed": false
   },
   "outputs": [
    {
     "name": "stdout",
     "output_type": "stream",
     "text": [
      "run1/snp50\n",
      "(873735, 1)\n",
      "run2/snp50\n",
      "(873739, 1)\n",
      "run4/snp50\n",
      "(873739, 1)\n",
      "run5/snp50\n",
      "(873739, 1)\n",
      "run6/snp50\n",
      "(873735, 1)\n",
      "run7/snp50\n",
      "(873739, 1)\n",
      "run8/snp50\n",
      "(873735, 1)\n",
      "run1/ggpld\n",
      "(873735, 1)\n",
      "run2/ggpld\n",
      "(873739, 1)\n",
      "run4/ggpld\n",
      "(873739, 1)\n",
      "run5/ggpld\n",
      "(873739, 1)\n",
      "run6/ggpld\n",
      "(873735, 1)\n",
      "run7/ggpld\n",
      "(873739, 1)\n",
      "run8/ggpld\n",
      "(873735, 1)\n"
     ]
    }
   ],
   "source": [
    "assays = ['/snp50','/ggpld']\n",
    "dish = []\n",
    "for ass in assays:\n",
    "    for i in glob.glob('run*'):\n",
    "        root = i + ass\n",
    "        print(root)\n",
    "        name = chipcat2(root)\n",
    "        print(name.shape)\n",
    "        name.columns = [root]\n",
    "        dish.append(name)"
   ]
  },
  {
   "cell_type": "code",
   "execution_count": 607,
   "metadata": {
    "collapsed": false
   },
   "outputs": [],
   "source": [
    "chips = pd.concat(dish,axis=1)"
   ]
  },
  {
   "cell_type": "code",
   "execution_count": 613,
   "metadata": {
    "collapsed": false
   },
   "outputs": [
    {
     "name": "stderr",
     "output_type": "stream",
     "text": [
      "/home/jlh4df/.conda/envs/Imp3/lib/python3.5/site-packages/numpy/lib/function_base.py:4116: RuntimeWarning: Invalid value encountered in percentile\n",
      "  interpolation=interpolation)\n"
     ]
    }
   ],
   "source": [
    "chipstats = chips.describe()"
   ]
  },
  {
   "cell_type": "code",
   "execution_count": 615,
   "metadata": {
    "collapsed": false
   },
   "outputs": [
    {
     "data": {
      "text/html": [
       "<div>\n",
       "<table border=\"1\" class=\"dataframe\">\n",
       "  <thead>\n",
       "    <tr style=\"text-align: right;\">\n",
       "      <th></th>\n",
       "      <th>run1/snp50</th>\n",
       "      <th>run2/snp50</th>\n",
       "      <th>run4/snp50</th>\n",
       "      <th>run5/snp50</th>\n",
       "      <th>run6/snp50</th>\n",
       "      <th>run7/snp50</th>\n",
       "      <th>run8/snp50</th>\n",
       "      <th>run1/ggpld</th>\n",
       "      <th>run2/ggpld</th>\n",
       "      <th>run4/ggpld</th>\n",
       "      <th>run5/ggpld</th>\n",
       "      <th>run6/ggpld</th>\n",
       "      <th>run7/ggpld</th>\n",
       "      <th>run8/ggpld</th>\n",
       "    </tr>\n",
       "  </thead>\n",
       "  <tbody>\n",
       "    <tr>\n",
       "      <th>count</th>\n",
       "      <td>651188.000000</td>\n",
       "      <td>676867.000000</td>\n",
       "      <td>675583.000000</td>\n",
       "      <td>687282.000000</td>\n",
       "      <td>680009.000000</td>\n",
       "      <td>679961.000000</td>\n",
       "      <td>687270.000000</td>\n",
       "      <td>648992.000000</td>\n",
       "      <td>675313.000000</td>\n",
       "      <td>674030.000000</td>\n",
       "      <td>687645.000000</td>\n",
       "      <td>677685.000000</td>\n",
       "      <td>677222.000000</td>\n",
       "      <td>687723.000000</td>\n",
       "    </tr>\n",
       "    <tr>\n",
       "      <th>mean</th>\n",
       "      <td>0.966584</td>\n",
       "      <td>0.969456</td>\n",
       "      <td>0.968677</td>\n",
       "      <td>-0.951828</td>\n",
       "      <td>0.972247</td>\n",
       "      <td>0.970038</td>\n",
       "      <td>-0.950727</td>\n",
       "      <td>0.955196</td>\n",
       "      <td>0.955942</td>\n",
       "      <td>0.954777</td>\n",
       "      <td>-0.935663</td>\n",
       "      <td>0.962035</td>\n",
       "      <td>0.958445</td>\n",
       "      <td>-0.934730</td>\n",
       "    </tr>\n",
       "    <tr>\n",
       "      <th>std</th>\n",
       "      <td>0.118534</td>\n",
       "      <td>0.089973</td>\n",
       "      <td>0.089437</td>\n",
       "      <td>0.133558</td>\n",
       "      <td>0.086372</td>\n",
       "      <td>0.088077</td>\n",
       "      <td>0.137932</td>\n",
       "      <td>0.112605</td>\n",
       "      <td>0.100046</td>\n",
       "      <td>0.098600</td>\n",
       "      <td>0.144305</td>\n",
       "      <td>0.092103</td>\n",
       "      <td>0.095468</td>\n",
       "      <td>0.146943</td>\n",
       "    </tr>\n",
       "    <tr>\n",
       "      <th>min</th>\n",
       "      <td>-1.000000</td>\n",
       "      <td>-0.867722</td>\n",
       "      <td>-0.452267</td>\n",
       "      <td>-1.000000</td>\n",
       "      <td>-0.712065</td>\n",
       "      <td>-0.657723</td>\n",
       "      <td>-1.000000</td>\n",
       "      <td>-1.000000</td>\n",
       "      <td>-0.534522</td>\n",
       "      <td>-0.407709</td>\n",
       "      <td>-1.000000</td>\n",
       "      <td>-0.745744</td>\n",
       "      <td>-0.632962</td>\n",
       "      <td>-1.000000</td>\n",
       "    </tr>\n",
       "    <tr>\n",
       "      <th>25%</th>\n",
       "      <td>NaN</td>\n",
       "      <td>NaN</td>\n",
       "      <td>NaN</td>\n",
       "      <td>NaN</td>\n",
       "      <td>NaN</td>\n",
       "      <td>NaN</td>\n",
       "      <td>NaN</td>\n",
       "      <td>NaN</td>\n",
       "      <td>NaN</td>\n",
       "      <td>NaN</td>\n",
       "      <td>NaN</td>\n",
       "      <td>NaN</td>\n",
       "      <td>NaN</td>\n",
       "      <td>NaN</td>\n",
       "    </tr>\n",
       "    <tr>\n",
       "      <th>50%</th>\n",
       "      <td>NaN</td>\n",
       "      <td>NaN</td>\n",
       "      <td>NaN</td>\n",
       "      <td>NaN</td>\n",
       "      <td>NaN</td>\n",
       "      <td>NaN</td>\n",
       "      <td>NaN</td>\n",
       "      <td>NaN</td>\n",
       "      <td>NaN</td>\n",
       "      <td>NaN</td>\n",
       "      <td>NaN</td>\n",
       "      <td>NaN</td>\n",
       "      <td>NaN</td>\n",
       "      <td>NaN</td>\n",
       "    </tr>\n",
       "    <tr>\n",
       "      <th>75%</th>\n",
       "      <td>NaN</td>\n",
       "      <td>NaN</td>\n",
       "      <td>NaN</td>\n",
       "      <td>NaN</td>\n",
       "      <td>NaN</td>\n",
       "      <td>NaN</td>\n",
       "      <td>NaN</td>\n",
       "      <td>NaN</td>\n",
       "      <td>NaN</td>\n",
       "      <td>NaN</td>\n",
       "      <td>NaN</td>\n",
       "      <td>NaN</td>\n",
       "      <td>NaN</td>\n",
       "      <td>NaN</td>\n",
       "    </tr>\n",
       "    <tr>\n",
       "      <th>max</th>\n",
       "      <td>1.000000</td>\n",
       "      <td>1.000000</td>\n",
       "      <td>1.000000</td>\n",
       "      <td>0.104355</td>\n",
       "      <td>1.000000</td>\n",
       "      <td>1.000000</td>\n",
       "      <td>0.111981</td>\n",
       "      <td>1.000000</td>\n",
       "      <td>1.000000</td>\n",
       "      <td>1.000000</td>\n",
       "      <td>0.762360</td>\n",
       "      <td>1.000000</td>\n",
       "      <td>1.000000</td>\n",
       "      <td>0.116878</td>\n",
       "    </tr>\n",
       "  </tbody>\n",
       "</table>\n",
       "</div>"
      ],
      "text/plain": [
       "          run1/snp50     run2/snp50     run4/snp50     run5/snp50  \\\n",
       "count  651188.000000  676867.000000  675583.000000  687282.000000   \n",
       "mean        0.966584       0.969456       0.968677      -0.951828   \n",
       "std         0.118534       0.089973       0.089437       0.133558   \n",
       "min        -1.000000      -0.867722      -0.452267      -1.000000   \n",
       "25%              NaN            NaN            NaN            NaN   \n",
       "50%              NaN            NaN            NaN            NaN   \n",
       "75%              NaN            NaN            NaN            NaN   \n",
       "max         1.000000       1.000000       1.000000       0.104355   \n",
       "\n",
       "          run6/snp50     run7/snp50     run8/snp50     run1/ggpld  \\\n",
       "count  680009.000000  679961.000000  687270.000000  648992.000000   \n",
       "mean        0.972247       0.970038      -0.950727       0.955196   \n",
       "std         0.086372       0.088077       0.137932       0.112605   \n",
       "min        -0.712065      -0.657723      -1.000000      -1.000000   \n",
       "25%              NaN            NaN            NaN            NaN   \n",
       "50%              NaN            NaN            NaN            NaN   \n",
       "75%              NaN            NaN            NaN            NaN   \n",
       "max         1.000000       1.000000       0.111981       1.000000   \n",
       "\n",
       "          run2/ggpld     run4/ggpld     run5/ggpld     run6/ggpld  \\\n",
       "count  675313.000000  674030.000000  687645.000000  677685.000000   \n",
       "mean        0.955942       0.954777      -0.935663       0.962035   \n",
       "std         0.100046       0.098600       0.144305       0.092103   \n",
       "min        -0.534522      -0.407709      -1.000000      -0.745744   \n",
       "25%              NaN            NaN            NaN            NaN   \n",
       "50%              NaN            NaN            NaN            NaN   \n",
       "75%              NaN            NaN            NaN            NaN   \n",
       "max         1.000000       1.000000       0.762360       1.000000   \n",
       "\n",
       "          run7/ggpld     run8/ggpld  \n",
       "count  677222.000000  687723.000000  \n",
       "mean        0.958445      -0.934730  \n",
       "std         0.095468       0.146943  \n",
       "min        -0.632962      -1.000000  \n",
       "25%              NaN            NaN  \n",
       "50%              NaN            NaN  \n",
       "75%              NaN            NaN  \n",
       "max         1.000000       0.116878  "
      ]
     },
     "execution_count": 615,
     "metadata": {},
     "output_type": "execute_result"
    }
   ],
   "source": [
    "chipstats"
   ]
  },
  {
   "cell_type": "code",
   "execution_count": 621,
   "metadata": {
    "collapsed": false,
    "scrolled": true
   },
   "outputs": [
    {
     "data": {
      "text/plain": [
       "<matplotlib.axes._subplots.AxesSubplot at 0x7f36ce2c3278>"
      ]
     },
     "execution_count": 621,
     "metadata": {},
     "output_type": "execute_result"
    },
    {
     "data": {
      "image/png": "[encoded data removed]",
      "text/plain": [
       "<matplotlib.figure.Figure at 0x7f36979464e0>"
      ]
     },
     "metadata": {},
     "output_type": "display_data"
    }
   ],
   "source": [
    "chipstats.loc['count'].plot(kind='bar',ylim=(600000,700000))"
   ]
  },
  {
   "cell_type": "code",
   "execution_count": 622,
   "metadata": {
    "collapsed": false
   },
   "outputs": [],
   "source": [
    "corfreq = corfreq.join(chips,how='outer')"
   ]
  },
  {
   "cell_type": "code",
   "execution_count": 623,
   "metadata": {
    "collapsed": false
   },
   "outputs": [
    {
     "data": {
      "text/html": [
       "<div>\n",
       "<table border=\"1\" class=\"dataframe\">\n",
       "  <thead>\n",
       "    <tr style=\"text-align: right;\">\n",
       "      <th></th>\n",
       "      <th>MAF</th>\n",
       "      <th>MinorCount</th>\n",
       "      <th>correlation</th>\n",
       "      <th>MAF_target</th>\n",
       "      <th>MinorCount_target</th>\n",
       "      <th>MAF_impref</th>\n",
       "      <th>MinorCount_impref</th>\n",
       "      <th>correlation_snp50_run2</th>\n",
       "      <th>run1/snp50</th>\n",
       "      <th>run2/snp50</th>\n",
       "      <th>...</th>\n",
       "      <th>run6/snp50</th>\n",
       "      <th>run7/snp50</th>\n",
       "      <th>run8/snp50</th>\n",
       "      <th>run1/ggpld</th>\n",
       "      <th>run2/ggpld</th>\n",
       "      <th>run4/ggpld</th>\n",
       "      <th>run5/ggpld</th>\n",
       "      <th>run6/ggpld</th>\n",
       "      <th>run7/ggpld</th>\n",
       "      <th>run8/ggpld</th>\n",
       "    </tr>\n",
       "  </thead>\n",
       "  <tbody>\n",
       "    <tr>\n",
       "      <th>23:45586528</th>\n",
       "      <td>0.21550</td>\n",
       "      <td>271.96100</td>\n",
       "      <td>1.000000</td>\n",
       "      <td>0.21970</td>\n",
       "      <td>116.00160</td>\n",
       "      <td>NaN</td>\n",
       "      <td>NaN</td>\n",
       "      <td>1.000000</td>\n",
       "      <td>1.000000</td>\n",
       "      <td>1.000000</td>\n",
       "      <td>...</td>\n",
       "      <td>1.000000</td>\n",
       "      <td>1.000000</td>\n",
       "      <td>-0.990059</td>\n",
       "      <td>0.944634</td>\n",
       "      <td>0.949448</td>\n",
       "      <td>0.962014</td>\n",
       "      <td>-0.936664</td>\n",
       "      <td>0.954554</td>\n",
       "      <td>0.939975</td>\n",
       "      <td>-0.932068</td>\n",
       "    </tr>\n",
       "    <tr>\n",
       "      <th>1:82813959</th>\n",
       "      <td>0.00000</td>\n",
       "      <td>0.00000</td>\n",
       "      <td>NaN</td>\n",
       "      <td>0.00000</td>\n",
       "      <td>0.00000</td>\n",
       "      <td>0.03720</td>\n",
       "      <td>9.00240</td>\n",
       "      <td>NaN</td>\n",
       "      <td>NaN</td>\n",
       "      <td>NaN</td>\n",
       "      <td>...</td>\n",
       "      <td>NaN</td>\n",
       "      <td>NaN</td>\n",
       "      <td>NaN</td>\n",
       "      <td>NaN</td>\n",
       "      <td>NaN</td>\n",
       "      <td>NaN</td>\n",
       "      <td>NaN</td>\n",
       "      <td>NaN</td>\n",
       "      <td>NaN</td>\n",
       "      <td>NaN</td>\n",
       "    </tr>\n",
       "    <tr>\n",
       "      <th>11:83814938</th>\n",
       "      <td>0.06171</td>\n",
       "      <td>78.00144</td>\n",
       "      <td>1.000000</td>\n",
       "      <td>0.04356</td>\n",
       "      <td>22.99968</td>\n",
       "      <td>0.32110</td>\n",
       "      <td>78.99060</td>\n",
       "      <td>1.000000</td>\n",
       "      <td>1.000000</td>\n",
       "      <td>1.000000</td>\n",
       "      <td>...</td>\n",
       "      <td>1.000000</td>\n",
       "      <td>1.000000</td>\n",
       "      <td>-0.989136</td>\n",
       "      <td>0.971882</td>\n",
       "      <td>0.978741</td>\n",
       "      <td>0.971878</td>\n",
       "      <td>-0.937620</td>\n",
       "      <td>0.978300</td>\n",
       "      <td>0.978549</td>\n",
       "      <td>-0.951476</td>\n",
       "    </tr>\n",
       "    <tr>\n",
       "      <th>1:124996466</th>\n",
       "      <td>0.35900</td>\n",
       "      <td>453.05800</td>\n",
       "      <td>0.983623</td>\n",
       "      <td>0.37690</td>\n",
       "      <td>199.00320</td>\n",
       "      <td>0.28460</td>\n",
       "      <td>70.01160</td>\n",
       "      <td>0.997288</td>\n",
       "      <td>0.983623</td>\n",
       "      <td>0.997288</td>\n",
       "      <td>...</td>\n",
       "      <td>0.984958</td>\n",
       "      <td>0.979721</td>\n",
       "      <td>-0.989245</td>\n",
       "      <td>0.969357</td>\n",
       "      <td>0.987257</td>\n",
       "      <td>0.982582</td>\n",
       "      <td>-0.977561</td>\n",
       "      <td>0.977759</td>\n",
       "      <td>0.954939</td>\n",
       "      <td>-0.968334</td>\n",
       "    </tr>\n",
       "    <tr>\n",
       "      <th>11:9308156</th>\n",
       "      <td>0.10540</td>\n",
       "      <td>133.01480</td>\n",
       "      <td>0.984743</td>\n",
       "      <td>0.11550</td>\n",
       "      <td>60.98400</td>\n",
       "      <td>0.18290</td>\n",
       "      <td>44.99340</td>\n",
       "      <td>0.979704</td>\n",
       "      <td>0.984743</td>\n",
       "      <td>0.979704</td>\n",
       "      <td>...</td>\n",
       "      <td>0.990122</td>\n",
       "      <td>0.983627</td>\n",
       "      <td>-0.970559</td>\n",
       "      <td>0.970462</td>\n",
       "      <td>0.957663</td>\n",
       "      <td>0.963689</td>\n",
       "      <td>-0.966950</td>\n",
       "      <td>0.973464</td>\n",
       "      <td>0.966051</td>\n",
       "      <td>-0.967603</td>\n",
       "    </tr>\n",
       "    <tr>\n",
       "      <th>22:50981796</th>\n",
       "      <td>NaN</td>\n",
       "      <td>NaN</td>\n",
       "      <td>NaN</td>\n",
       "      <td>NaN</td>\n",
       "      <td>NaN</td>\n",
       "      <td>0.15850</td>\n",
       "      <td>38.99100</td>\n",
       "      <td>NaN</td>\n",
       "      <td>NaN</td>\n",
       "      <td>NaN</td>\n",
       "      <td>...</td>\n",
       "      <td>NaN</td>\n",
       "      <td>NaN</td>\n",
       "      <td>NaN</td>\n",
       "      <td>NaN</td>\n",
       "      <td>NaN</td>\n",
       "      <td>NaN</td>\n",
       "      <td>NaN</td>\n",
       "      <td>NaN</td>\n",
       "      <td>NaN</td>\n",
       "      <td>NaN</td>\n",
       "    </tr>\n",
       "    <tr>\n",
       "      <th>14:9115527</th>\n",
       "      <td>0.47380</td>\n",
       "      <td>596.98800</td>\n",
       "      <td>1.000000</td>\n",
       "      <td>0.48300</td>\n",
       "      <td>255.02400</td>\n",
       "      <td>0.00000</td>\n",
       "      <td>0.00000</td>\n",
       "      <td>1.000000</td>\n",
       "      <td>1.000000</td>\n",
       "      <td>1.000000</td>\n",
       "      <td>...</td>\n",
       "      <td>1.000000</td>\n",
       "      <td>1.000000</td>\n",
       "      <td>-0.999521</td>\n",
       "      <td>0.988846</td>\n",
       "      <td>0.986133</td>\n",
       "      <td>0.985956</td>\n",
       "      <td>-0.977131</td>\n",
       "      <td>0.989122</td>\n",
       "      <td>0.976915</td>\n",
       "      <td>-0.975641</td>\n",
       "    </tr>\n",
       "    <tr>\n",
       "      <th>6:78031258</th>\n",
       "      <td>0.21820</td>\n",
       "      <td>274.05920</td>\n",
       "      <td>0.978042</td>\n",
       "      <td>0.24050</td>\n",
       "      <td>126.98400</td>\n",
       "      <td>0.00813</td>\n",
       "      <td>1.99998</td>\n",
       "      <td>0.992136</td>\n",
       "      <td>0.978042</td>\n",
       "      <td>0.992136</td>\n",
       "      <td>...</td>\n",
       "      <td>0.993233</td>\n",
       "      <td>0.991053</td>\n",
       "      <td>-0.978206</td>\n",
       "      <td>0.990281</td>\n",
       "      <td>0.996120</td>\n",
       "      <td>0.998052</td>\n",
       "      <td>-0.989391</td>\n",
       "      <td>0.995276</td>\n",
       "      <td>0.995360</td>\n",
       "      <td>-0.990269</td>\n",
       "    </tr>\n",
       "    <tr>\n",
       "      <th>7:57506666</th>\n",
       "      <td>0.21610</td>\n",
       "      <td>258.02340</td>\n",
       "      <td>0.997680</td>\n",
       "      <td>0.22350</td>\n",
       "      <td>113.98500</td>\n",
       "      <td>0.07440</td>\n",
       "      <td>18.00480</td>\n",
       "      <td>0.997722</td>\n",
       "      <td>0.997680</td>\n",
       "      <td>0.997722</td>\n",
       "      <td>...</td>\n",
       "      <td>0.979778</td>\n",
       "      <td>0.987255</td>\n",
       "      <td>-0.970915</td>\n",
       "      <td>1.000000</td>\n",
       "      <td>1.000000</td>\n",
       "      <td>0.997791</td>\n",
       "      <td>-0.999877</td>\n",
       "      <td>0.992074</td>\n",
       "      <td>1.000000</td>\n",
       "      <td>-0.982870</td>\n",
       "    </tr>\n",
       "    <tr>\n",
       "      <th>6:69638501</th>\n",
       "      <td>0.49130</td>\n",
       "      <td>620.02060</td>\n",
       "      <td>1.000000</td>\n",
       "      <td>0.49430</td>\n",
       "      <td>260.00180</td>\n",
       "      <td>0.00000</td>\n",
       "      <td>0.00000</td>\n",
       "      <td>1.000000</td>\n",
       "      <td>1.000000</td>\n",
       "      <td>1.000000</td>\n",
       "      <td>...</td>\n",
       "      <td>1.000000</td>\n",
       "      <td>0.998451</td>\n",
       "      <td>-0.999984</td>\n",
       "      <td>1.000000</td>\n",
       "      <td>1.000000</td>\n",
       "      <td>1.000000</td>\n",
       "      <td>-0.998570</td>\n",
       "      <td>1.000000</td>\n",
       "      <td>0.997133</td>\n",
       "      <td>-0.998925</td>\n",
       "    </tr>\n",
       "  </tbody>\n",
       "</table>\n",
       "<p>10 rows × 22 columns</p>\n",
       "</div>"
      ],
      "text/plain": [
       "                 MAF  MinorCount  correlation  MAF_target  MinorCount_target  \\\n",
       "23:45586528  0.21550   271.96100     1.000000     0.21970          116.00160   \n",
       "1:82813959   0.00000     0.00000          NaN     0.00000            0.00000   \n",
       "11:83814938  0.06171    78.00144     1.000000     0.04356           22.99968   \n",
       "1:124996466  0.35900   453.05800     0.983623     0.37690          199.00320   \n",
       "11:9308156   0.10540   133.01480     0.984743     0.11550           60.98400   \n",
       "22:50981796      NaN         NaN          NaN         NaN                NaN   \n",
       "14:9115527   0.47380   596.98800     1.000000     0.48300          255.02400   \n",
       "6:78031258   0.21820   274.05920     0.978042     0.24050          126.98400   \n",
       "7:57506666   0.21610   258.02340     0.997680     0.22350          113.98500   \n",
       "6:69638501   0.49130   620.02060     1.000000     0.49430          260.00180   \n",
       "\n",
       "             MAF_impref  MinorCount_impref  correlation_snp50_run2  \\\n",
       "23:45586528         NaN                NaN                1.000000   \n",
       "1:82813959      0.03720            9.00240                     NaN   \n",
       "11:83814938     0.32110           78.99060                1.000000   \n",
       "1:124996466     0.28460           70.01160                0.997288   \n",
       "11:9308156      0.18290           44.99340                0.979704   \n",
       "22:50981796     0.15850           38.99100                     NaN   \n",
       "14:9115527      0.00000            0.00000                1.000000   \n",
       "6:78031258      0.00813            1.99998                0.992136   \n",
       "7:57506666      0.07440           18.00480                0.997722   \n",
       "6:69638501      0.00000            0.00000                1.000000   \n",
       "\n",
       "             run1/snp50  run2/snp50     ...      run6/snp50  run7/snp50  \\\n",
       "23:45586528    1.000000    1.000000     ...        1.000000    1.000000   \n",
       "1:82813959          NaN         NaN     ...             NaN         NaN   \n",
       "11:83814938    1.000000    1.000000     ...        1.000000    1.000000   \n",
       "1:124996466    0.983623    0.997288     ...        0.984958    0.979721   \n",
       "11:9308156     0.984743    0.979704     ...        0.990122    0.983627   \n",
       "22:50981796         NaN         NaN     ...             NaN         NaN   \n",
       "14:9115527     1.000000    1.000000     ...        1.000000    1.000000   \n",
       "6:78031258     0.978042    0.992136     ...        0.993233    0.991053   \n",
       "7:57506666     0.997680    0.997722     ...        0.979778    0.987255   \n",
       "6:69638501     1.000000    1.000000     ...        1.000000    0.998451   \n",
       "\n",
       "             run8/snp50  run1/ggpld  run2/ggpld  run4/ggpld  run5/ggpld  \\\n",
       "23:45586528   -0.990059    0.944634    0.949448    0.962014   -0.936664   \n",
       "1:82813959          NaN         NaN         NaN         NaN         NaN   \n",
       "11:83814938   -0.989136    0.971882    0.978741    0.971878   -0.937620   \n",
       "1:124996466   -0.989245    0.969357    0.987257    0.982582   -0.977561   \n",
       "11:9308156    -0.970559    0.970462    0.957663    0.963689   -0.966950   \n",
       "22:50981796         NaN         NaN         NaN         NaN         NaN   \n",
       "14:9115527    -0.999521    0.988846    0.986133    0.985956   -0.977131   \n",
       "6:78031258    -0.978206    0.990281    0.996120    0.998052   -0.989391   \n",
       "7:57506666    -0.970915    1.000000    1.000000    0.997791   -0.999877   \n",
       "6:69638501    -0.999984    1.000000    1.000000    1.000000   -0.998570   \n",
       "\n",
       "             run6/ggpld  run7/ggpld  run8/ggpld  \n",
       "23:45586528    0.954554    0.939975   -0.932068  \n",
       "1:82813959          NaN         NaN         NaN  \n",
       "11:83814938    0.978300    0.978549   -0.951476  \n",
       "1:124996466    0.977759    0.954939   -0.968334  \n",
       "11:9308156     0.973464    0.966051   -0.967603  \n",
       "22:50981796         NaN         NaN         NaN  \n",
       "14:9115527     0.989122    0.976915   -0.975641  \n",
       "6:78031258     0.995276    0.995360   -0.990269  \n",
       "7:57506666     0.992074    1.000000   -0.982870  \n",
       "6:69638501     1.000000    0.997133   -0.998925  \n",
       "\n",
       "[10 rows x 22 columns]"
      ]
     },
     "execution_count": 623,
     "metadata": {},
     "output_type": "execute_result"
    }
   ],
   "source": [
    "corfreq.sample(10)"
   ]
  },
  {
   "cell_type": "code",
   "execution_count": 628,
   "metadata": {
    "collapsed": false
   },
   "outputs": [
    {
     "data": {
      "text/plain": [
       "873735"
      ]
     },
     "execution_count": 628,
     "metadata": {},
     "output_type": "execute_result"
    }
   ],
   "source": [
    "corfreq.MinorCount_impref.count()"
   ]
  },
  {
   "cell_type": "code",
   "execution_count": 632,
   "metadata": {
    "collapsed": false
   },
   "outputs": [
    {
     "data": {
      "text/plain": [
       "MAF                       873744\n",
       "MinorCount                873744\n",
       "correlation               651193\n",
       "MAF_target                873744\n",
       "MinorCount_target         873744\n",
       "MAF_impref                873735\n",
       "MinorCount_impref         873735\n",
       "correlation_snp50_run2    676873\n",
       "run1/snp50                651193\n",
       "run2/snp50                676873\n",
       "run4/snp50                675588\n",
       "run5/snp50                687288\n",
       "run6/snp50                680015\n",
       "run7/snp50                679967\n",
       "run8/snp50                687276\n",
       "run1/ggpld                648996\n",
       "run2/ggpld                675318\n",
       "run4/ggpld                674035\n",
       "run5/ggpld                687651\n",
       "run6/ggpld                677691\n",
       "run7/ggpld                677228\n",
       "run8/ggpld                687729\n",
       "dtype: int64"
      ]
     },
     "execution_count": 632,
     "metadata": {},
     "output_type": "execute_result"
    }
   ],
   "source": [
    "corfreq.count()"
   ]
  },
  {
   "cell_type": "code",
   "execution_count": 645,
   "metadata": {
    "collapsed": false
   },
   "outputs": [
    {
     "data": {
      "text/plain": [
       "MAF                       1.000000\n",
       "MinorCount                1.000000\n",
       "correlation               0.906403\n",
       "MAF_target                1.000000\n",
       "MinorCount_target         1.000000\n",
       "MAF_impref                0.921741\n",
       "MinorCount_impref         0.921741\n",
       "correlation_snp50_run2    0.942111\n",
       "run1/snp50                0.906403\n",
       "run2/snp50                0.942111\n",
       "run4/snp50                0.940700\n",
       "run5/snp50                0.953561\n",
       "run6/snp50                0.945684\n",
       "run7/snp50                0.945711\n",
       "run8/snp50                0.953611\n",
       "run1/ggpld                0.902869\n",
       "run2/ggpld                0.939378\n",
       "run4/ggpld                0.938150\n",
       "run5/ggpld                0.951880\n",
       "run6/ggpld                0.943074\n",
       "run7/ggpld                0.942607\n",
       "run8/ggpld                0.952007\n",
       "dtype: float64"
      ]
     },
     "execution_count": 645,
     "metadata": {},
     "output_type": "execute_result"
    }
   ],
   "source": [
    "corfreq[corfreq.MinorCount_target > 0].count()/716443"
   ]
  },
  {
   "cell_type": "code",
   "execution_count": 636,
   "metadata": {
    "collapsed": false
   },
   "outputs": [
    {
     "data": {
      "text/plain": [
       "MAF                       157301\n",
       "MinorCount                157301\n",
       "correlation                 1807\n",
       "MAF_target                157301\n",
       "MinorCount_target         157301\n",
       "MAF_impref                144381\n",
       "MinorCount_impref         144381\n",
       "correlation_snp50_run2      1904\n",
       "run1/snp50                  1807\n",
       "run2/snp50                  1904\n",
       "run4/snp50                  1630\n",
       "run5/snp50                  4116\n",
       "run6/snp50                  2486\n",
       "run7/snp50                  2419\n",
       "run8/snp50                  4068\n",
       "run1/ggpld                  2142\n",
       "run2/ggpld                  2307\n",
       "run4/ggpld                  1904\n",
       "run5/ggpld                  5683\n",
       "run6/ggpld                  2032\n",
       "run7/ggpld                  1904\n",
       "run8/ggpld                  5670\n",
       "dtype: int64"
      ]
     },
     "execution_count": 636,
     "metadata": {},
     "output_type": "execute_result"
    }
   ],
   "source": [
    "corfreq[corfreq.MinorCount_target == 0].count()"
   ]
  },
  {
   "cell_type": "code",
   "execution_count": null,
   "metadata": {
    "collapsed": false
   },
   "outputs": [],
   "source": [
    "chips[corfreq.MinorCount_target == 0].count()"
   ]
  },
  {
   "cell_type": "code",
   "execution_count": 644,
   "metadata": {
    "collapsed": false
   },
   "outputs": [
    {
     "data": {
      "text/plain": [
       "MAF                         0.250497\n",
       "MinorCount                314.986960\n",
       "correlation                 0.967253\n",
       "MAF_target                  0.249739\n",
       "MinorCount_target         131.164901\n",
       "MAF_impref                  0.205088\n",
       "MinorCount_impref          50.170733\n",
       "correlation_snp50_run2      0.970139\n",
       "run1/snp50                  0.967253\n",
       "run2/snp50                  0.970139\n",
       "run4/snp50                  0.969341\n",
       "run5/snp50                 -0.955587\n",
       "run6/snp50                  0.973047\n",
       "run7/snp50                  0.970830\n",
       "run8/snp50                 -0.954582\n",
       "run1/ggpld                  0.956268\n",
       "run2/ggpld                  0.956953\n",
       "run4/ggpld                  0.955696\n",
       "run5/ggpld                 -0.941137\n",
       "run6/ggpld                  0.962821\n",
       "run7/ggpld                  0.959231\n",
       "run8/ggpld                 -0.940383\n",
       "dtype: float64"
      ]
     },
     "execution_count": 644,
     "metadata": {},
     "output_type": "execute_result"
    }
   ],
   "source": [
    "corfreq[corfreq.MinorCount_target > 0].mean()"
   ]
  },
  {
   "cell_type": "code",
   "execution_count": 650,
   "metadata": {
    "collapsed": false
   },
   "outputs": [
    {
     "data": {
      "text/html": [
       "<div>\n",
       "<table border=\"1\" class=\"dataframe\">\n",
       "  <thead>\n",
       "    <tr style=\"text-align: right;\">\n",
       "      <th></th>\n",
       "      <th>sepal_length</th>\n",
       "      <th>sepal_width</th>\n",
       "      <th>petal_length</th>\n",
       "      <th>petal_width</th>\n",
       "      <th>species</th>\n",
       "    </tr>\n",
       "  </thead>\n",
       "  <tbody>\n",
       "    <tr>\n",
       "      <th>0</th>\n",
       "      <td>5.1</td>\n",
       "      <td>3.5</td>\n",
       "      <td>1.4</td>\n",
       "      <td>0.2</td>\n",
       "      <td>setosa</td>\n",
       "    </tr>\n",
       "    <tr>\n",
       "      <th>1</th>\n",
       "      <td>4.9</td>\n",
       "      <td>3.0</td>\n",
       "      <td>1.4</td>\n",
       "      <td>0.2</td>\n",
       "      <td>setosa</td>\n",
       "    </tr>\n",
       "    <tr>\n",
       "      <th>2</th>\n",
       "      <td>4.7</td>\n",
       "      <td>3.2</td>\n",
       "      <td>1.3</td>\n",
       "      <td>0.2</td>\n",
       "      <td>setosa</td>\n",
       "    </tr>\n",
       "    <tr>\n",
       "      <th>3</th>\n",
       "      <td>4.6</td>\n",
       "      <td>3.1</td>\n",
       "      <td>1.5</td>\n",
       "      <td>0.2</td>\n",
       "      <td>setosa</td>\n",
       "    </tr>\n",
       "    <tr>\n",
       "      <th>4</th>\n",
       "      <td>5.0</td>\n",
       "      <td>3.6</td>\n",
       "      <td>1.4</td>\n",
       "      <td>0.2</td>\n",
       "      <td>setosa</td>\n",
       "    </tr>\n",
       "  </tbody>\n",
       "</table>\n",
       "</div>"
      ],
      "text/plain": [
       "   sepal_length  sepal_width  petal_length  petal_width species\n",
       "0           5.1          3.5           1.4          0.2  setosa\n",
       "1           4.9          3.0           1.4          0.2  setosa\n",
       "2           4.7          3.2           1.3          0.2  setosa\n",
       "3           4.6          3.1           1.5          0.2  setosa\n",
       "4           5.0          3.6           1.4          0.2  setosa"
      ]
     },
     "execution_count": 650,
     "metadata": {},
     "output_type": "execute_result"
    }
   ],
   "source": [
    "tips = sb.load_dataset(\"iris\")\n",
    "tips.head(corfreq[chips.columns])"
   ]
  },
  {
   "cell_type": "code",
   "execution_count": 687,
   "metadata": {
    "collapsed": false
   },
   "outputs": [
    {
     "data": {
      "text/plain": [
       "(0.85, 1)"
      ]
     },
     "execution_count": 687,
     "metadata": {},
     "output_type": "execute_result"
    },
    {
     "data": {
      "image/png": "[encoded data removed]",
      "text/plain": [
       "<matplotlib.figure.Figure at 0x7f35e7e594e0>"
      ]
     },
     "metadata": {},
     "output_type": "display_data"
    }
   ],
   "source": [
    "sb.set()\n",
    "plt.figure(figsize=(14, 4))\n",
    "ax1 = sb.boxplot(data=corfreq[chips.columns].sample(10000))\n",
    "ax1.set_ylim(.85,1)\n"
   ]
  },
  {
   "cell_type": "code",
   "execution_count": 688,
   "metadata": {
    "collapsed": false
   },
   "outputs": [
    {
     "data": {
      "text/plain": [
       "(0.85, 1)"
      ]
     },
     "execution_count": 688,
     "metadata": {},
     "output_type": "execute_result"
    },
    {
     "data": {
      "image/png": "[encoded data removed]",
      "text/plain": [
       "<matplotlib.figure.Figure at 0x7f35e79ddc50>"
      ]
     },
     "metadata": {},
     "output_type": "display_data"
    }
   ],
   "source": [
    "sb.set()\n",
    "plt.figure(figsize=(14, 4))\n",
    "ax1 = sb.violinplot(data=corfreq[chips.columns].sample(10000))\n",
    "ax1.set_ylim(.85,1)"
   ]
  },
  {
   "cell_type": "code",
   "execution_count": 689,
   "metadata": {
    "collapsed": true
   },
   "outputs": [],
   "source": [
    "chipfull=corfreq[chips.columns]"
   ]
  },
  {
   "cell_type": "code",
   "execution_count": 692,
   "metadata": {
    "collapsed": false
   },
   "outputs": [
    {
     "name": "stderr",
     "output_type": "stream",
     "text": [
      "/home/jlh4df/.conda/envs/Imp3/lib/python3.5/site-packages/numpy/lib/function_base.py:4116: RuntimeWarning: Invalid value encountered in percentile\n",
      "  interpolation=interpolation)\n"
     ]
    },
    {
     "data": {
      "text/html": [
       "<div>\n",
       "<table border=\"1\" class=\"dataframe\">\n",
       "  <thead>\n",
       "    <tr style=\"text-align: right;\">\n",
       "      <th></th>\n",
       "      <th>run1/snp50</th>\n",
       "      <th>run2/snp50</th>\n",
       "      <th>run4/snp50</th>\n",
       "      <th>run5/snp50</th>\n",
       "      <th>run6/snp50</th>\n",
       "      <th>run7/snp50</th>\n",
       "      <th>run8/snp50</th>\n",
       "      <th>run1/ggpld</th>\n",
       "      <th>run2/ggpld</th>\n",
       "      <th>run4/ggpld</th>\n",
       "      <th>run5/ggpld</th>\n",
       "      <th>run6/ggpld</th>\n",
       "      <th>run7/ggpld</th>\n",
       "      <th>run8/ggpld</th>\n",
       "    </tr>\n",
       "  </thead>\n",
       "  <tbody>\n",
       "    <tr>\n",
       "      <th>count</th>\n",
       "      <td>126687.000000</td>\n",
       "      <td>131616.000000</td>\n",
       "      <td>130329.000000</td>\n",
       "      <td>142028.000000</td>\n",
       "      <td>134762.000000</td>\n",
       "      <td>134715.000000</td>\n",
       "      <td>142016.000000</td>\n",
       "      <td>124944.000000</td>\n",
       "      <td>130063.000000</td>\n",
       "      <td>128782.000000</td>\n",
       "      <td>142391.000000</td>\n",
       "      <td>132437.000000</td>\n",
       "      <td>131974.000000</td>\n",
       "      <td>142469.000000</td>\n",
       "    </tr>\n",
       "    <tr>\n",
       "      <th>mean</th>\n",
       "      <td>0.904853</td>\n",
       "      <td>0.908961</td>\n",
       "      <td>0.907400</td>\n",
       "      <td>-0.848250</td>\n",
       "      <td>0.916907</td>\n",
       "      <td>0.911921</td>\n",
       "      <td>-0.843223</td>\n",
       "      <td>0.874528</td>\n",
       "      <td>0.874423</td>\n",
       "      <td>0.872985</td>\n",
       "      <td>-0.810086</td>\n",
       "      <td>0.890892</td>\n",
       "      <td>0.883144</td>\n",
       "      <td>-0.806724</td>\n",
       "    </tr>\n",
       "    <tr>\n",
       "      <th>std</th>\n",
       "      <td>0.192158</td>\n",
       "      <td>0.171369</td>\n",
       "      <td>0.170158</td>\n",
       "      <td>0.256443</td>\n",
       "      <td>0.163783</td>\n",
       "      <td>0.165825</td>\n",
       "      <td>0.265285</td>\n",
       "      <td>0.195970</td>\n",
       "      <td>0.192019</td>\n",
       "      <td>0.189266</td>\n",
       "      <td>0.272738</td>\n",
       "      <td>0.176137</td>\n",
       "      <td>0.181407</td>\n",
       "      <td>0.277806</td>\n",
       "    </tr>\n",
       "    <tr>\n",
       "      <th>min</th>\n",
       "      <td>-1.000000</td>\n",
       "      <td>-0.074543</td>\n",
       "      <td>-0.117950</td>\n",
       "      <td>-1.000000</td>\n",
       "      <td>-0.081274</td>\n",
       "      <td>-0.075930</td>\n",
       "      <td>-1.000000</td>\n",
       "      <td>-1.000000</td>\n",
       "      <td>-0.095678</td>\n",
       "      <td>-0.090542</td>\n",
       "      <td>-1.000000</td>\n",
       "      <td>-0.082023</td>\n",
       "      <td>-0.105661</td>\n",
       "      <td>-1.000000</td>\n",
       "    </tr>\n",
       "    <tr>\n",
       "      <th>25%</th>\n",
       "      <td>NaN</td>\n",
       "      <td>NaN</td>\n",
       "      <td>NaN</td>\n",
       "      <td>NaN</td>\n",
       "      <td>NaN</td>\n",
       "      <td>NaN</td>\n",
       "      <td>NaN</td>\n",
       "      <td>NaN</td>\n",
       "      <td>NaN</td>\n",
       "      <td>NaN</td>\n",
       "      <td>NaN</td>\n",
       "      <td>NaN</td>\n",
       "      <td>NaN</td>\n",
       "      <td>NaN</td>\n",
       "    </tr>\n",
       "    <tr>\n",
       "      <th>50%</th>\n",
       "      <td>NaN</td>\n",
       "      <td>NaN</td>\n",
       "      <td>NaN</td>\n",
       "      <td>NaN</td>\n",
       "      <td>NaN</td>\n",
       "      <td>NaN</td>\n",
       "      <td>NaN</td>\n",
       "      <td>NaN</td>\n",
       "      <td>NaN</td>\n",
       "      <td>NaN</td>\n",
       "      <td>NaN</td>\n",
       "      <td>NaN</td>\n",
       "      <td>NaN</td>\n",
       "      <td>NaN</td>\n",
       "    </tr>\n",
       "    <tr>\n",
       "      <th>75%</th>\n",
       "      <td>NaN</td>\n",
       "      <td>NaN</td>\n",
       "      <td>NaN</td>\n",
       "      <td>NaN</td>\n",
       "      <td>NaN</td>\n",
       "      <td>NaN</td>\n",
       "      <td>NaN</td>\n",
       "      <td>NaN</td>\n",
       "      <td>NaN</td>\n",
       "      <td>NaN</td>\n",
       "      <td>NaN</td>\n",
       "      <td>NaN</td>\n",
       "      <td>NaN</td>\n",
       "      <td>NaN</td>\n",
       "    </tr>\n",
       "    <tr>\n",
       "      <th>max</th>\n",
       "      <td>1.000000</td>\n",
       "      <td>1.000000</td>\n",
       "      <td>1.000000</td>\n",
       "      <td>0.075451</td>\n",
       "      <td>1.000000</td>\n",
       "      <td>1.000000</td>\n",
       "      <td>0.077570</td>\n",
       "      <td>1.000000</td>\n",
       "      <td>1.000000</td>\n",
       "      <td>1.000000</td>\n",
       "      <td>0.762360</td>\n",
       "      <td>1.000000</td>\n",
       "      <td>1.000000</td>\n",
       "      <td>0.076086</td>\n",
       "    </tr>\n",
       "  </tbody>\n",
       "</table>\n",
       "</div>"
      ],
      "text/plain": [
       "          run1/snp50     run2/snp50     run4/snp50     run5/snp50  \\\n",
       "count  126687.000000  131616.000000  130329.000000  142028.000000   \n",
       "mean        0.904853       0.908961       0.907400      -0.848250   \n",
       "std         0.192158       0.171369       0.170158       0.256443   \n",
       "min        -1.000000      -0.074543      -0.117950      -1.000000   \n",
       "25%              NaN            NaN            NaN            NaN   \n",
       "50%              NaN            NaN            NaN            NaN   \n",
       "75%              NaN            NaN            NaN            NaN   \n",
       "max         1.000000       1.000000       1.000000       0.075451   \n",
       "\n",
       "          run6/snp50     run7/snp50     run8/snp50     run1/ggpld  \\\n",
       "count  134762.000000  134715.000000  142016.000000  124944.000000   \n",
       "mean        0.916907       0.911921      -0.843223       0.874528   \n",
       "std         0.163783       0.165825       0.265285       0.195970   \n",
       "min        -0.081274      -0.075930      -1.000000      -1.000000   \n",
       "25%              NaN            NaN            NaN            NaN   \n",
       "50%              NaN            NaN            NaN            NaN   \n",
       "75%              NaN            NaN            NaN            NaN   \n",
       "max         1.000000       1.000000       0.077570       1.000000   \n",
       "\n",
       "          run2/ggpld     run4/ggpld     run5/ggpld     run6/ggpld  \\\n",
       "count  130063.000000  128782.000000  142391.000000  132437.000000   \n",
       "mean        0.874423       0.872985      -0.810086       0.890892   \n",
       "std         0.192019       0.189266       0.272738       0.176137   \n",
       "min        -0.095678      -0.090542      -1.000000      -0.082023   \n",
       "25%              NaN            NaN            NaN            NaN   \n",
       "50%              NaN            NaN            NaN            NaN   \n",
       "75%              NaN            NaN            NaN            NaN   \n",
       "max         1.000000       1.000000       0.762360       1.000000   \n",
       "\n",
       "          run7/ggpld     run8/ggpld  \n",
       "count  131974.000000  142469.000000  \n",
       "mean        0.883144      -0.806724  \n",
       "std         0.181407       0.277806  \n",
       "min        -0.105661      -1.000000  \n",
       "25%              NaN            NaN  \n",
       "50%              NaN            NaN  \n",
       "75%              NaN            NaN  \n",
       "max         1.000000       0.076086  "
      ]
     },
     "execution_count": 692,
     "metadata": {},
     "output_type": "execute_result"
    }
   ],
   "source": [
    "chipfull[corfreq.MAF_target<.1].describe()"
   ]
  },
  {
   "cell_type": "code",
   "execution_count": 698,
   "metadata": {
    "collapsed": false
   },
   "outputs": [
    {
     "data": {
      "text/plain": [
       "(0.5, 1)"
      ]
     },
     "execution_count": 698,
     "metadata": {},
     "output_type": "execute_result"
    },
    {
     "data": {
      "image/png": "[encoded data removed]",
      "text/plain": [
       "<matplotlib.figure.Figure at 0x7f35e7a6c6d8>"
      ]
     },
     "metadata": {},
     "output_type": "display_data"
    }
   ],
   "source": [
    "sb.set()\n",
    "plt.figure(figsize=(14, 4))\n",
    "ax1 = sb.boxplot(data=chipfull[corfreq.MAF_target<.04].sample(10000))\n",
    "ax1.set_ylim(.5,1)"
   ]
  },
  {
   "cell_type": "code",
   "execution_count": 704,
   "metadata": {
    "collapsed": false
   },
   "outputs": [
    {
     "data": {
      "text/plain": [
       "(0.5, 1)"
      ]
     },
     "execution_count": 704,
     "metadata": {},
     "output_type": "execute_result"
    },
    {
     "data": {
      "image/png": "[encoded data removed]",
      "text/plain": [
       "<matplotlib.figure.Figure at 0x7f35e750b128>"
      ]
     },
     "metadata": {},
     "output_type": "display_data"
    }
   ],
   "source": [
    "sb.set()\n",
    "plt.figure(figsize=(14, 4))\n",
    "ax1 = sb.stripplot(data=chipfull[corfreq.MAF<.04].sample(1000))\n",
    "ax1.set_ylim(.5,1)"
   ]
  },
  {
   "cell_type": "code",
   "execution_count": 708,
   "metadata": {
    "collapsed": false
   },
   "outputs": [
    {
     "data": {
      "text/html": [
       "<div>\n",
       "<table border=\"1\" class=\"dataframe\">\n",
       "  <thead>\n",
       "    <tr style=\"text-align: right;\">\n",
       "      <th></th>\n",
       "      <th>run1/snp50</th>\n",
       "      <th>run2/snp50</th>\n",
       "      <th>run4/snp50</th>\n",
       "      <th>run5/snp50</th>\n",
       "      <th>run6/snp50</th>\n",
       "      <th>run7/snp50</th>\n",
       "      <th>run8/snp50</th>\n",
       "      <th>run1/ggpld</th>\n",
       "      <th>run2/ggpld</th>\n",
       "      <th>run4/ggpld</th>\n",
       "      <th>run5/ggpld</th>\n",
       "      <th>run6/ggpld</th>\n",
       "      <th>run7/ggpld</th>\n",
       "      <th>run8/ggpld</th>\n",
       "    </tr>\n",
       "  </thead>\n",
       "  <tbody>\n",
       "    <tr>\n",
       "      <th>10:10000188</th>\n",
       "      <td>1.000000</td>\n",
       "      <td>1.000000</td>\n",
       "      <td>1.000000</td>\n",
       "      <td>-0.994117</td>\n",
       "      <td>1.000000</td>\n",
       "      <td>1.000000</td>\n",
       "      <td>-0.999976</td>\n",
       "      <td>0.956966</td>\n",
       "      <td>0.954251</td>\n",
       "      <td>0.943892</td>\n",
       "      <td>-0.958711</td>\n",
       "      <td>0.983910</td>\n",
       "      <td>0.950317</td>\n",
       "      <td>-0.959955</td>\n",
       "    </tr>\n",
       "    <tr>\n",
       "      <th>10:10006325</th>\n",
       "      <td>0.964356</td>\n",
       "      <td>0.971624</td>\n",
       "      <td>0.968117</td>\n",
       "      <td>-0.973532</td>\n",
       "      <td>0.968772</td>\n",
       "      <td>0.944100</td>\n",
       "      <td>-0.966928</td>\n",
       "      <td>0.945746</td>\n",
       "      <td>0.933546</td>\n",
       "      <td>0.935467</td>\n",
       "      <td>-0.962702</td>\n",
       "      <td>0.964392</td>\n",
       "      <td>0.942295</td>\n",
       "      <td>-0.957535</td>\n",
       "    </tr>\n",
       "    <tr>\n",
       "      <th>10:10006973</th>\n",
       "      <td>0.976897</td>\n",
       "      <td>0.974277</td>\n",
       "      <td>0.973184</td>\n",
       "      <td>-0.966979</td>\n",
       "      <td>0.978230</td>\n",
       "      <td>0.955900</td>\n",
       "      <td>-0.968625</td>\n",
       "      <td>0.940522</td>\n",
       "      <td>0.933874</td>\n",
       "      <td>0.937377</td>\n",
       "      <td>-0.947208</td>\n",
       "      <td>0.961757</td>\n",
       "      <td>0.950395</td>\n",
       "      <td>-0.938362</td>\n",
       "    </tr>\n",
       "    <tr>\n",
       "      <th>10:1001549</th>\n",
       "      <td>0.974401</td>\n",
       "      <td>0.965545</td>\n",
       "      <td>0.965585</td>\n",
       "      <td>-0.947298</td>\n",
       "      <td>0.970993</td>\n",
       "      <td>0.964320</td>\n",
       "      <td>-0.939792</td>\n",
       "      <td>0.979722</td>\n",
       "      <td>0.985673</td>\n",
       "      <td>0.989866</td>\n",
       "      <td>-0.981087</td>\n",
       "      <td>0.989915</td>\n",
       "      <td>0.993307</td>\n",
       "      <td>-0.970254</td>\n",
       "    </tr>\n",
       "    <tr>\n",
       "      <th>10:10016839</th>\n",
       "      <td>0.956758</td>\n",
       "      <td>0.948854</td>\n",
       "      <td>0.953266</td>\n",
       "      <td>-0.955948</td>\n",
       "      <td>0.980796</td>\n",
       "      <td>0.969694</td>\n",
       "      <td>-0.952280</td>\n",
       "      <td>0.977991</td>\n",
       "      <td>0.967953</td>\n",
       "      <td>0.973309</td>\n",
       "      <td>-0.964652</td>\n",
       "      <td>0.980742</td>\n",
       "      <td>0.970742</td>\n",
       "      <td>-0.964851</td>\n",
       "    </tr>\n",
       "  </tbody>\n",
       "</table>\n",
       "</div>"
      ],
      "text/plain": [
       "             run1/snp50  run2/snp50  run4/snp50  run5/snp50  run6/snp50  \\\n",
       "10:10000188    1.000000    1.000000    1.000000   -0.994117    1.000000   \n",
       "10:10006325    0.964356    0.971624    0.968117   -0.973532    0.968772   \n",
       "10:10006973    0.976897    0.974277    0.973184   -0.966979    0.978230   \n",
       "10:1001549     0.974401    0.965545    0.965585   -0.947298    0.970993   \n",
       "10:10016839    0.956758    0.948854    0.953266   -0.955948    0.980796   \n",
       "\n",
       "             run7/snp50  run8/snp50  run1/ggpld  run2/ggpld  run4/ggpld  \\\n",
       "10:10000188    1.000000   -0.999976    0.956966    0.954251    0.943892   \n",
       "10:10006325    0.944100   -0.966928    0.945746    0.933546    0.935467   \n",
       "10:10006973    0.955900   -0.968625    0.940522    0.933874    0.937377   \n",
       "10:1001549     0.964320   -0.939792    0.979722    0.985673    0.989866   \n",
       "10:10016839    0.969694   -0.952280    0.977991    0.967953    0.973309   \n",
       "\n",
       "             run5/ggpld  run6/ggpld  run7/ggpld  run8/ggpld  \n",
       "10:10000188   -0.958711    0.983910    0.950317   -0.959955  \n",
       "10:10006325   -0.962702    0.964392    0.942295   -0.957535  \n",
       "10:10006973   -0.947208    0.961757    0.950395   -0.938362  \n",
       "10:1001549    -0.981087    0.989915    0.993307   -0.970254  \n",
       "10:10016839   -0.964652    0.980742    0.970742   -0.964851  "
      ]
     },
     "execution_count": 708,
     "metadata": {},
     "output_type": "execute_result"
    }
   ],
   "source": [
    "chipfull[chipfull['run2/snp50'].notnull()&chipfull['run1/snp50'].notnull()].head()"
   ]
  },
  {
   "cell_type": "code",
   "execution_count": 713,
   "metadata": {
    "collapsed": false
   },
   "outputs": [
    {
     "data": {
      "image/png": "[encoded data removed]",
      "text/plain": [
       "<matplotlib.figure.Figure at 0x7f35e4c2b0f0>"
      ]
     },
     "metadata": {},
     "output_type": "display_data"
    }
   ],
   "source": [
    "sb.jointplot(x=\"run2/snp50\", y=\"run1/snp50\",ylim=(.5,1), data=chipfull[chipfull['run2/snp50'].notnull()&chipfull['run1/snp50'].notnull()].sample(500));"
   ]
  },
  {
   "cell_type": "code",
   "execution_count": 714,
   "metadata": {
    "collapsed": false
   },
   "outputs": [
    {
     "name": "stderr",
     "output_type": "stream",
     "text": [
      "/home/jlh4df/.conda/envs/Imp3/lib/python3.5/site-packages/numpy/lib/function_base.py:4116: RuntimeWarning: Invalid value encountered in percentile\n",
      "  interpolation=interpolation)\n"
     ]
    },
    {
     "data": {
      "text/html": [
       "<div>\n",
       "<table border=\"1\" class=\"dataframe\">\n",
       "  <thead>\n",
       "    <tr style=\"text-align: right;\">\n",
       "      <th></th>\n",
       "      <th>run1/snp50</th>\n",
       "      <th>run2/snp50</th>\n",
       "      <th>run4/snp50</th>\n",
       "      <th>run5/snp50</th>\n",
       "      <th>run6/snp50</th>\n",
       "      <th>run7/snp50</th>\n",
       "      <th>run8/snp50</th>\n",
       "      <th>run1/ggpld</th>\n",
       "      <th>run2/ggpld</th>\n",
       "      <th>run4/ggpld</th>\n",
       "      <th>run5/ggpld</th>\n",
       "      <th>run6/ggpld</th>\n",
       "      <th>run7/ggpld</th>\n",
       "      <th>run8/ggpld</th>\n",
       "    </tr>\n",
       "  </thead>\n",
       "  <tbody>\n",
       "    <tr>\n",
       "      <th>count</th>\n",
       "      <td>648188.000000</td>\n",
       "      <td>648188.000000</td>\n",
       "      <td>645502.000000</td>\n",
       "      <td>647305.000000</td>\n",
       "      <td>643974.000000</td>\n",
       "      <td>643823.000000</td>\n",
       "      <td>647314.000000</td>\n",
       "      <td>642636.000000</td>\n",
       "      <td>643609.000000</td>\n",
       "      <td>642777.000000</td>\n",
       "      <td>646883.000000</td>\n",
       "      <td>642171.000000</td>\n",
       "      <td>641785.000000</td>\n",
       "      <td>646893.000000</td>\n",
       "    </tr>\n",
       "    <tr>\n",
       "      <th>mean</th>\n",
       "      <td>0.968576</td>\n",
       "      <td>0.971677</td>\n",
       "      <td>0.971829</td>\n",
       "      <td>-0.966011</td>\n",
       "      <td>0.976681</td>\n",
       "      <td>0.974561</td>\n",
       "      <td>-0.965793</td>\n",
       "      <td>0.959896</td>\n",
       "      <td>0.959801</td>\n",
       "      <td>0.958350</td>\n",
       "      <td>-0.950476</td>\n",
       "      <td>0.966264</td>\n",
       "      <td>0.962746</td>\n",
       "      <td>-0.950226</td>\n",
       "    </tr>\n",
       "    <tr>\n",
       "      <th>std</th>\n",
       "      <td>0.112065</td>\n",
       "      <td>0.080618</td>\n",
       "      <td>0.075458</td>\n",
       "      <td>0.077958</td>\n",
       "      <td>0.067985</td>\n",
       "      <td>0.070176</td>\n",
       "      <td>0.079155</td>\n",
       "      <td>0.089431</td>\n",
       "      <td>0.084743</td>\n",
       "      <td>0.084304</td>\n",
       "      <td>0.093081</td>\n",
       "      <td>0.075801</td>\n",
       "      <td>0.079707</td>\n",
       "      <td>0.093459</td>\n",
       "    </tr>\n",
       "    <tr>\n",
       "      <th>min</th>\n",
       "      <td>-1.000000</td>\n",
       "      <td>-0.867722</td>\n",
       "      <td>-0.452267</td>\n",
       "      <td>-1.000000</td>\n",
       "      <td>-0.712065</td>\n",
       "      <td>-0.657723</td>\n",
       "      <td>-1.000000</td>\n",
       "      <td>-1.000000</td>\n",
       "      <td>-0.534522</td>\n",
       "      <td>-0.407709</td>\n",
       "      <td>-1.000000</td>\n",
       "      <td>-0.745744</td>\n",
       "      <td>-0.632962</td>\n",
       "      <td>-1.000000</td>\n",
       "    </tr>\n",
       "    <tr>\n",
       "      <th>25%</th>\n",
       "      <td>0.975261</td>\n",
       "      <td>0.975249</td>\n",
       "      <td>NaN</td>\n",
       "      <td>NaN</td>\n",
       "      <td>NaN</td>\n",
       "      <td>NaN</td>\n",
       "      <td>NaN</td>\n",
       "      <td>NaN</td>\n",
       "      <td>NaN</td>\n",
       "      <td>NaN</td>\n",
       "      <td>NaN</td>\n",
       "      <td>NaN</td>\n",
       "      <td>NaN</td>\n",
       "      <td>NaN</td>\n",
       "    </tr>\n",
       "    <tr>\n",
       "      <th>50%</th>\n",
       "      <td>0.988435</td>\n",
       "      <td>0.988445</td>\n",
       "      <td>NaN</td>\n",
       "      <td>NaN</td>\n",
       "      <td>NaN</td>\n",
       "      <td>NaN</td>\n",
       "      <td>NaN</td>\n",
       "      <td>NaN</td>\n",
       "      <td>NaN</td>\n",
       "      <td>NaN</td>\n",
       "      <td>NaN</td>\n",
       "      <td>NaN</td>\n",
       "      <td>NaN</td>\n",
       "      <td>NaN</td>\n",
       "    </tr>\n",
       "    <tr>\n",
       "      <th>75%</th>\n",
       "      <td>0.997234</td>\n",
       "      <td>0.997256</td>\n",
       "      <td>NaN</td>\n",
       "      <td>NaN</td>\n",
       "      <td>NaN</td>\n",
       "      <td>NaN</td>\n",
       "      <td>NaN</td>\n",
       "      <td>NaN</td>\n",
       "      <td>NaN</td>\n",
       "      <td>NaN</td>\n",
       "      <td>NaN</td>\n",
       "      <td>NaN</td>\n",
       "      <td>NaN</td>\n",
       "      <td>NaN</td>\n",
       "    </tr>\n",
       "    <tr>\n",
       "      <th>max</th>\n",
       "      <td>1.000000</td>\n",
       "      <td>1.000000</td>\n",
       "      <td>1.000000</td>\n",
       "      <td>0.104355</td>\n",
       "      <td>1.000000</td>\n",
       "      <td>1.000000</td>\n",
       "      <td>0.111981</td>\n",
       "      <td>1.000000</td>\n",
       "      <td>1.000000</td>\n",
       "      <td>1.000000</td>\n",
       "      <td>0.149725</td>\n",
       "      <td>1.000000</td>\n",
       "      <td>1.000000</td>\n",
       "      <td>0.116878</td>\n",
       "    </tr>\n",
       "  </tbody>\n",
       "</table>\n",
       "</div>"
      ],
      "text/plain": [
       "          run1/snp50     run2/snp50     run4/snp50     run5/snp50  \\\n",
       "count  648188.000000  648188.000000  645502.000000  647305.000000   \n",
       "mean        0.968576       0.971677       0.971829      -0.966011   \n",
       "std         0.112065       0.080618       0.075458       0.077958   \n",
       "min        -1.000000      -0.867722      -0.452267      -1.000000   \n",
       "25%         0.975261       0.975249            NaN            NaN   \n",
       "50%         0.988435       0.988445            NaN            NaN   \n",
       "75%         0.997234       0.997256            NaN            NaN   \n",
       "max         1.000000       1.000000       1.000000       0.104355   \n",
       "\n",
       "          run6/snp50     run7/snp50     run8/snp50     run1/ggpld  \\\n",
       "count  643974.000000  643823.000000  647314.000000  642636.000000   \n",
       "mean        0.976681       0.974561      -0.965793       0.959896   \n",
       "std         0.067985       0.070176       0.079155       0.089431   \n",
       "min        -0.712065      -0.657723      -1.000000      -1.000000   \n",
       "25%              NaN            NaN            NaN            NaN   \n",
       "50%              NaN            NaN            NaN            NaN   \n",
       "75%              NaN            NaN            NaN            NaN   \n",
       "max         1.000000       1.000000       0.111981       1.000000   \n",
       "\n",
       "          run2/ggpld     run4/ggpld     run5/ggpld     run6/ggpld  \\\n",
       "count  643609.000000  642777.000000  646883.000000  642171.000000   \n",
       "mean        0.959801       0.958350      -0.950476       0.966264   \n",
       "std         0.084743       0.084304       0.093081       0.075801   \n",
       "min        -0.534522      -0.407709      -1.000000      -0.745744   \n",
       "25%              NaN            NaN            NaN            NaN   \n",
       "50%              NaN            NaN            NaN            NaN   \n",
       "75%              NaN            NaN            NaN            NaN   \n",
       "max         1.000000       1.000000       0.149725       1.000000   \n",
       "\n",
       "          run7/ggpld     run8/ggpld  \n",
       "count  641785.000000  646893.000000  \n",
       "mean        0.962746      -0.950226  \n",
       "std         0.079707       0.093459  \n",
       "min        -0.632962      -1.000000  \n",
       "25%              NaN            NaN  \n",
       "50%              NaN            NaN  \n",
       "75%              NaN            NaN  \n",
       "max         1.000000       0.116878  "
      ]
     },
     "execution_count": 714,
     "metadata": {},
     "output_type": "execute_result"
    }
   ],
   "source": [
    "chipfull[chipfull['run2/snp50'].notnull()&chipfull['run1/snp50'].notnull()].describe()"
   ]
  },
  {
   "cell_type": "code",
   "execution_count": null,
   "metadata": {
    "collapsed": true
   },
   "outputs": [],
   "source": []
  }
 ],
 "metadata": {
  "anaconda-cloud": {},
  "kernelspec": {
   "display_name": "Python [conda env:Imp3]",
   "language": "python",
   "name": "conda-env-Imp3-py"
  },
  "language_info": {
   "codemirror_mode": {
    "name": "ipython",
    "version": 3
   },
   "file_extension": ".py",
   "mimetype": "text/x-python",
   "name": "python",
   "nbconvert_exporter": "python",
   "pygments_lexer": "ipython3",
   "version": "3.5.3"
  }
 },
 "nbformat": 4,
 "nbformat_minor": 1
}
