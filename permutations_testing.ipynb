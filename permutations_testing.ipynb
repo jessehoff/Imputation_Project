{
 "cells": [
  {
   "cell_type": "code",
   "execution_count": 2,
   "metadata": {
    "collapsed": true
   },
   "outputs": [],
   "source": [
    "import pandas as pd\n",
    "import numpy as np\n",
    "import glob\n",
    "import matplotlib.pyplot as plt\n",
    "%matplotlib inline\n",
    "#plt.style.use('ggplot')\n",
    "def customaxis(ax, c_left='k', c_bottom='k', c_right='none', c_top='none',\n",
    "               lw=3, size=12, pad=8):\n",
    "\n",
    "    for c_spine, spine in zip([c_left, c_bottom, c_right, c_top],\n",
    "                              ['left', 'bottom', 'right', 'top']):\n",
    "        if c_spine != 'none':\n",
    "            ax.spines[spine].set_color(c_spine)\n",
    "            ax.spines[spine].set_linewidth(lw)\n",
    "        else:\n",
    "            ax.spines[spine].set_color('none')\n",
    "    if (c_bottom == 'none') & (c_top == 'none'): # no bottom and no top\n",
    "        ax.xaxis.set_ticks_position('none')\n",
    "    elif (c_bottom != 'none') & (c_top != 'none'): # bottom and top\n",
    "        ax.tick_params(axis='x', direction='out', width=lw, length=7,\n",
    "                      color=c_bottom, labelsize=size, pad=pad)\n",
    "    elif (c_bottom != 'none') & (c_top == 'none'): # bottom but not top\n",
    "        ax.xaxis.set_ticks_position('bottom')\n",
    "        ax.tick_params(axis='x', direction='out', width=lw, length=7,\n",
    "                       color=c_bottom, labelsize=size, pad=pad)\n",
    "    elif (c_bottom == 'none') & (c_top != 'none'): # no bottom but top\n",
    "        ax.xaxis.set_ticks_position('top')\n",
    "        ax.tick_params(axis='x', direction='out', width=lw, length=7,\n",
    "                       color=c_top, labelsize=size, pad=pad)\n",
    "    if (c_left == 'none') & (c_right == 'none'): # no left and no right\n",
    "        ax.yaxis.set_ticks_position('none')\n",
    "    elif (c_left != 'none') & (c_right != 'none'): # left and right\n",
    "        ax.tick_params(axis='y', direction='out', width=lw, length=7,\n",
    "                       color=c_left, labelsize=size, pad=pad)\n",
    "    elif (c_left != 'none') & (c_right == 'none'): # left but not right\n",
    "        ax.yaxis.set_ticks_position('left')\n",
    "        ax.tick_params(axis='y', direction='out', width=lw, length=7,\n",
    "                       color=c_left, labelsize=size, pad=pad)\n",
    "    elif (c_left == 'none') & (c_right != 'none'): # no left but right\n",
    "        ax.yaxis.set_ticks_position('right')\n",
    "        ax.tick_params(axis='y', direction='out', width=lw, length=7,\n",
    "                       color=c_right, labelsize=size, pad=pad)"
   ]
  },
  {
   "cell_type": "markdown",
   "metadata": {},
   "source": [
    "## Effective population size run-time"
   ]
  },
  {
   "cell_type": "code",
   "execution_count": 122,
   "metadata": {
    "collapsed": false
   },
   "outputs": [],
   "source": [
    "nestats = []\n",
    "runs = list(range(32,43))\n",
    "for i in runs:\n",
    "    bench = glob.glob('./impute2/run' + str(i) +'/snp50.chr20.*.benchmark.txt')\n",
    "    chrom = []\n",
    "    for xx in bench:\n",
    "        df = pd.read_table(xx, index_col = None, header = 0)\n",
    "        #run = xx.split('/')[2].strip('run')\n",
    "        df = df[['s', 'mean_load']]\n",
    "        #df['run'] = int(run)/14\n",
    "        chrom.append(df)\n",
    "    combined = pd.concat(chrom)\n",
    "    sum = pd.DataFrame(combined.sum())\n",
    "    stats = sum.transpose()\n",
    "    nestats.append(stats)\n",
    "neperm = pd.concat(nestats)\n",
    "values = [50,100,250,500,1000,2500,5000,10000,20000,25000,29999]\n",
    "neperm.index = values"
   ]
  },
  {
   "cell_type": "code",
   "execution_count": 126,
   "metadata": {
    "collapsed": false
   },
   "outputs": [
    {
     "data": {
      "image/png": "[encoded data removed]",
      "text/plain": [
       "<matplotlib.figure.Figure at 0x7f0ac4989be0>"
      ]
     },
     "metadata": {},
     "output_type": "display_data"
    }
   ],
   "source": [
    "ax = neperm.s.plot(kind='bar')\n",
    "customaxis(ax, c_left = 'k', c_bottom = 'k', c_top = 'none', c_right = 'none')\n",
    "ax.set_axis_bgcolor('white')\n",
    "ax.set_xlabel('Effective Population Size (Ne)')\n",
    "ax.set_ylabel('Chromosome 20 Run Time (s)')"
   ]
  },
  {
   "cell_type": "markdown",
   "metadata": {},
   "source": [
    "## Call threshold run times"
   ]
  },
  {
   "cell_type": "code",
   "execution_count": 140,
   "metadata": {
    "collapsed": false
   },
   "outputs": [],
   "source": [
    "ctstats = []\n",
    "runs = list(range(43,53))\n",
    "for i in runs:\n",
    "    bench = glob.glob('./impute2/run' + str(i) +'/snp50.chr20.*.benchmark.txt')\n",
    "    chrom = []\n",
    "    for xx in bench:\n",
    "        df = pd.read_table(xx, index_col = None, header = 0)\n",
    "        #run = xx.split('/')[2].strip('run')\n",
    "        df = df[['s', 'mean_load']]\n",
    "        #df['run'] = int(run)/14\n",
    "        chrom.append(df)\n",
    "    combined = pd.concat(chrom)\n",
    "    sum = pd.DataFrame(combined.sum())\n",
    "    stats = sum.transpose()\n",
    "    ctstats.append(stats)\n",
    "ctperm = pd.concat(ctstats)\n",
    "values = [.1, .2, .3, .4, .5, .6, .7, .8, .9, 1]\n",
    "ctperm.index = values"
   ]
  },
  {
   "cell_type": "code",
   "execution_count": 141,
   "metadata": {
    "collapsed": false
   },
   "outputs": [
    {
     "data": {
      "text/plain": [
       "<matplotlib.text.Text at 0x7f0ac4a01198>"
      ]
     },
     "execution_count": 141,
     "metadata": {},
     "output_type": "execute_result"
    },
    {
     "data": {
      "image/png": "[encoded data removed]",
      "text/plain": [
       "<matplotlib.figure.Figure at 0x7f0ac49f9ac8>"
      ]
     },
     "metadata": {},
     "output_type": "display_data"
    }
   ],
   "source": [
    "ax = ctperm.s.plot(kind='bar')\n",
    "customaxis(ax, c_left = 'k', c_bottom = 'k', c_top = 'none', c_right = 'none')\n",
    "ax.set_axis_bgcolor('white')\n",
    "ax.set_xlabel('Call Threshold')\n",
    "ax.set_ylabel('Chromosome 20 Run Time (s)')"
   ]
  },
  {
   "cell_type": "markdown",
   "metadata": {},
   "source": [
    "## k_haps run times"
   ]
  },
  {
   "cell_type": "code",
   "execution_count": 144,
   "metadata": {
    "collapsed": false
   },
   "outputs": [],
   "source": [
    "khapsstats = []\n",
    "runs = list(range(53,62))\n",
    "for i in runs:\n",
    "    bench = glob.glob('./impute2/run' + str(i) +'/snp50.chr20.*.benchmark.txt')\n",
    "    chrom = []\n",
    "    for xx in bench:\n",
    "        df = pd.read_table(xx, index_col = None, header = 0)\n",
    "        #run = xx.split('/')[2].strip('run')\n",
    "        df = df[['s', 'mean_load']]\n",
    "        #df['run'] = int(run)/14\n",
    "        chrom.append(df)\n",
    "    combined = pd.concat(chrom)\n",
    "    sum = pd.DataFrame(combined.sum())\n",
    "    stats = sum.transpose()\n",
    "    khapsstats.append(stats)\n",
    "khapsperm = pd.concat(khapsstats)\n",
    "values = [50, 100, 200, 300, 400, 500, 600, 700, 800]\n",
    "khapsperm.index = values"
   ]
  },
  {
   "cell_type": "code",
   "execution_count": 148,
   "metadata": {
    "collapsed": false
   },
   "outputs": [
    {
     "data": {
      "text/plain": [
       "<matplotlib.text.Text at 0x7f0ac4b02dd8>"
      ]
     },
     "execution_count": 148,
     "metadata": {},
     "output_type": "execute_result"
    },
    {
     "data": {
      "image/png": "[encoded data removed]",
      "text/plain": [
       "<matplotlib.figure.Figure at 0x7f0ac4f7f940>"
      ]
     },
     "metadata": {},
     "output_type": "display_data"
    }
   ],
   "source": [
    "ax = khapsperm.s.plot(kind='bar')\n",
    "customaxis(ax, c_left = 'k', c_bottom = 'k', c_top = 'none', c_right = 'none')\n",
    "ax.set_axis_bgcolor('white')\n",
    "ax.set_xlabel('Number of Reference Haplotypes Used')\n",
    "ax.set_ylabel('Chromosome 20 Run Time (s)')"
   ]
  },
  {
   "cell_type": "markdown",
   "metadata": {},
   "source": [
    "## k run times"
   ]
  },
  {
   "cell_type": "code",
   "execution_count": 147,
   "metadata": {
    "collapsed": true
   },
   "outputs": [],
   "source": [
    "kstats = []\n",
    "runs = list(range(62,71))\n",
    "for i in runs:\n",
    "    bench = glob.glob('./impute2/run' + str(i) +'/snp50.chr20.*.benchmark.txt')\n",
    "    chrom = []\n",
    "    for xx in bench:\n",
    "        df = pd.read_table(xx, index_col = None, header = 0)\n",
    "        #run = xx.split('/')[2].strip('run')\n",
    "        df = df[['s', 'mean_load']]\n",
    "        #df['run'] = int(run)/14\n",
    "        chrom.append(df)\n",
    "    combined = pd.concat(chrom)\n",
    "    sum = pd.DataFrame(combined.sum())\n",
    "    stats = sum.transpose()\n",
    "    kstats.append(stats)\n",
    "kperm = pd.concat(kstats)\n",
    "values = [20, 50, 80, 100, 200, 300, 400, 800, 1000]\n",
    "kperm.index = values"
   ]
  },
  {
   "cell_type": "code",
   "execution_count": 149,
   "metadata": {
    "collapsed": false
   },
   "outputs": [
    {
     "data": {
      "text/plain": [
       "<matplotlib.text.Text at 0x7f0ac4b5b5f8>"
      ]
     },
     "execution_count": 149,
     "metadata": {},
     "output_type": "execute_result"
    },
    {
     "data": {
      "image/png": "[encoded data removed]",
      "text/plain": [
       "<matplotlib.figure.Figure at 0x7f0ac4b182e8>"
      ]
     },
     "metadata": {},
     "output_type": "display_data"
    }
   ],
   "source": [
    "ax = kperm.s.plot(kind='bar')\n",
    "customaxis(ax, c_left = 'k', c_bottom = 'k', c_top = 'none', c_right = 'none')\n",
    "ax.set_axis_bgcolor('white')\n",
    "ax.set_xlabel('Number of Reference Haplotypes Used in in Phasing')\n",
    "ax.set_ylabel('Chromosome 20 Run Time (s)')"
   ]
  },
  {
   "cell_type": "markdown",
   "metadata": {},
   "source": [
    "## MCMC iteration run times"
   ]
  },
  {
   "cell_type": "code",
   "execution_count": 150,
   "metadata": {
    "collapsed": true
   },
   "outputs": [],
   "source": [
    "iterstats = []\n",
    "runs = list(range(71,76))\n",
    "for i in runs:\n",
    "    bench = glob.glob('./impute2/run' + str(i) +'/snp50.chr20.*.benchmark.txt')\n",
    "    chrom = []\n",
    "    for xx in bench:\n",
    "        df = pd.read_table(xx, index_col = None, header = 0)\n",
    "        #run = xx.split('/')[2].strip('run')\n",
    "        df = df[['s', 'mean_load']]\n",
    "        #df['run'] = int(run)/14\n",
    "        chrom.append(df)\n",
    "    combined = pd.concat(chrom)\n",
    "    sum = pd.DataFrame(combined.sum())\n",
    "    stats = sum.transpose()\n",
    "    iterstats.append(stats)\n",
    "iterperm = pd.concat(iterstats)\n",
    "values = [11, 20, 50, 100, 150]\n",
    "iterperm.index = values"
   ]
  },
  {
   "cell_type": "code",
   "execution_count": 151,
   "metadata": {
    "collapsed": false
   },
   "outputs": [
    {
     "data": {
      "text/plain": [
       "<matplotlib.text.Text at 0x7f0ac4970b00>"
      ]
     },
     "execution_count": 151,
     "metadata": {},
     "output_type": "execute_result"
    },
    {
     "data": {
      "image/png": "[encoded data removed]",
      "text/plain": [
       "<matplotlib.figure.Figure at 0x7f0ac482ab70>"
      ]
     },
     "metadata": {},
     "output_type": "display_data"
    }
   ],
   "source": [
    "ax = iterperm.s.plot(kind='bar')\n",
    "customaxis(ax, c_left = 'k', c_bottom = 'k', c_top = 'none', c_right = 'none')\n",
    "ax.set_axis_bgcolor('white')\n",
    "ax.set_xlabel('MCMC Iterations')\n",
    "ax.set_ylabel('Chromosome 20 Run Time (s)')"
   ]
  },
  {
   "cell_type": "markdown",
   "metadata": {},
   "source": [
    "## Burn-in iteration run times"
   ]
  },
  {
   "cell_type": "code",
   "execution_count": 154,
   "metadata": {
    "collapsed": false
   },
   "outputs": [],
   "source": [
    "burnstats = []\n",
    "runs = list(range(76,81))\n",
    "for i in runs:\n",
    "    bench = glob.glob('./impute2/run' + str(i) +'/snp50.chr20.*.benchmark.txt')\n",
    "    chrom = []\n",
    "    for xx in bench:\n",
    "        df = pd.read_table(xx, index_col = None, header = 0)\n",
    "        #run = xx.split('/')[2].strip('run')\n",
    "        df = df[['s', 'mean_load']]\n",
    "        #df['run'] = int(run)/14\n",
    "        chrom.append(df)\n",
    "    combined = pd.concat(chrom)\n",
    "    sum = pd.DataFrame(combined.sum())\n",
    "    stats = sum.transpose()\n",
    "    burnstats.append(stats)\n",
    "burnperm = pd.concat(burnstats)\n",
    "values = [0, 5, 10, 20, 29]\n",
    "burnperm.index = values"
   ]
  },
  {
   "cell_type": "code",
   "execution_count": 155,
   "metadata": {
    "collapsed": false
   },
   "outputs": [
    {
     "data": {
      "text/plain": [
       "<matplotlib.text.Text at 0x7f0ac4a1eac8>"
      ]
     },
     "execution_count": 155,
     "metadata": {},
     "output_type": "execute_result"
    },
    {
     "data": {
      "image/png": "[encoded data removed]",
      "text/plain": [
       "<matplotlib.figure.Figure at 0x7f0ac499d1d0>"
      ]
     },
     "metadata": {},
     "output_type": "display_data"
    }
   ],
   "source": [
    "ax = burnperm.s.plot(kind='bar')\n",
    "customaxis(ax, c_left = 'k', c_bottom = 'k', c_top = 'none', c_right = 'none')\n",
    "ax.set_axis_bgcolor('white')\n",
    "ax.set_xlabel('Burn-in Iterations')\n",
    "ax.set_ylabel('Chromosome 20 Run Time (s)')"
   ]
  },
  {
   "cell_type": "code",
   "execution_count": 16,
   "metadata": {
    "collapsed": false
   },
   "outputs": [],
   "source": [
    "impacc = pd.read_table('./imp_acc/permutations.chr20.accuracies.txt', index_col=0, header = None, )"
   ]
  },
  {
   "cell_type": "code",
   "execution_count": 17,
   "metadata": {
    "collapsed": false
   },
   "outputs": [
    {
     "data": {
      "text/html": [
       "<div>\n",
       "<table border=\"1\" class=\"dataframe\">\n",
       "  <thead>\n",
       "    <tr style=\"text-align: right;\">\n",
       "      <th></th>\n",
       "      <th>1</th>\n",
       "    </tr>\n",
       "    <tr>\n",
       "      <th>0</th>\n",
       "      <th></th>\n",
       "    </tr>\n",
       "  </thead>\n",
       "  <tbody>\n",
       "    <tr>\n",
       "      <th>run32</th>\n",
       "      <td>0.966123</td>\n",
       "    </tr>\n",
       "    <tr>\n",
       "      <th>run36</th>\n",
       "      <td>0.969832</td>\n",
       "    </tr>\n",
       "    <tr>\n",
       "      <th>run39</th>\n",
       "      <td>0.973445</td>\n",
       "    </tr>\n",
       "    <tr>\n",
       "      <th>run34</th>\n",
       "      <td>0.968043</td>\n",
       "    </tr>\n",
       "    <tr>\n",
       "      <th>run33</th>\n",
       "      <td>0.967480</td>\n",
       "    </tr>\n",
       "    <tr>\n",
       "      <th>run40</th>\n",
       "      <td>0.974058</td>\n",
       "    </tr>\n",
       "    <tr>\n",
       "      <th>run37</th>\n",
       "      <td>0.971325</td>\n",
       "    </tr>\n",
       "    <tr>\n",
       "      <th>run38</th>\n",
       "      <td>0.972088</td>\n",
       "    </tr>\n",
       "    <tr>\n",
       "      <th>run35</th>\n",
       "      <td>0.968472</td>\n",
       "    </tr>\n",
       "    <tr>\n",
       "      <th>run41</th>\n",
       "      <td>0.974680</td>\n",
       "    </tr>\n",
       "    <tr>\n",
       "      <th>run42</th>\n",
       "      <td>0.974702</td>\n",
       "    </tr>\n",
       "    <tr>\n",
       "      <th>run45</th>\n",
       "      <td>0.968202</td>\n",
       "    </tr>\n",
       "    <tr>\n",
       "      <th>run46</th>\n",
       "      <td>0.967586</td>\n",
       "    </tr>\n",
       "    <tr>\n",
       "      <th>run43</th>\n",
       "      <td>0.967076</td>\n",
       "    </tr>\n",
       "    <tr>\n",
       "      <th>run52</th>\n",
       "      <td>0.967615</td>\n",
       "    </tr>\n",
       "    <tr>\n",
       "      <th>run44</th>\n",
       "      <td>0.967831</td>\n",
       "    </tr>\n",
       "    <tr>\n",
       "      <th>run49</th>\n",
       "      <td>0.967532</td>\n",
       "    </tr>\n",
       "    <tr>\n",
       "      <th>run47</th>\n",
       "      <td>0.967189</td>\n",
       "    </tr>\n",
       "    <tr>\n",
       "      <th>run50</th>\n",
       "      <td>0.967259</td>\n",
       "    </tr>\n",
       "    <tr>\n",
       "      <th>run51</th>\n",
       "      <td>0.967733</td>\n",
       "    </tr>\n",
       "    <tr>\n",
       "      <th>run48</th>\n",
       "      <td>0.968517</td>\n",
       "    </tr>\n",
       "    <tr>\n",
       "      <th>run55</th>\n",
       "      <td>0.960116</td>\n",
       "    </tr>\n",
       "    <tr>\n",
       "      <th>run56</th>\n",
       "      <td>0.964221</td>\n",
       "    </tr>\n",
       "    <tr>\n",
       "      <th>run60</th>\n",
       "      <td>0.968294</td>\n",
       "    </tr>\n",
       "    <tr>\n",
       "      <th>run61</th>\n",
       "      <td>0.968487</td>\n",
       "    </tr>\n",
       "    <tr>\n",
       "      <th>run54</th>\n",
       "      <td>0.952985</td>\n",
       "    </tr>\n",
       "    <tr>\n",
       "      <th>run53</th>\n",
       "      <td>0.942023</td>\n",
       "    </tr>\n",
       "    <tr>\n",
       "      <th>run57</th>\n",
       "      <td>0.967740</td>\n",
       "    </tr>\n",
       "    <tr>\n",
       "      <th>run58</th>\n",
       "      <td>0.967159</td>\n",
       "    </tr>\n",
       "    <tr>\n",
       "      <th>run59</th>\n",
       "      <td>0.968175</td>\n",
       "    </tr>\n",
       "    <tr>\n",
       "      <th>run66</th>\n",
       "      <td>0.968097</td>\n",
       "    </tr>\n",
       "    <tr>\n",
       "      <th>run62</th>\n",
       "      <td>0.967302</td>\n",
       "    </tr>\n",
       "    <tr>\n",
       "      <th>run65</th>\n",
       "      <td>0.967729</td>\n",
       "    </tr>\n",
       "    <tr>\n",
       "      <th>run68</th>\n",
       "      <td>0.966912</td>\n",
       "    </tr>\n",
       "    <tr>\n",
       "      <th>run63</th>\n",
       "      <td>0.968303</td>\n",
       "    </tr>\n",
       "    <tr>\n",
       "      <th>run67</th>\n",
       "      <td>0.967933</td>\n",
       "    </tr>\n",
       "    <tr>\n",
       "      <th>run64</th>\n",
       "      <td>0.968127</td>\n",
       "    </tr>\n",
       "    <tr>\n",
       "      <th>run70</th>\n",
       "      <td>0.967781</td>\n",
       "    </tr>\n",
       "    <tr>\n",
       "      <th>run69</th>\n",
       "      <td>0.968009</td>\n",
       "    </tr>\n",
       "    <tr>\n",
       "      <th>run75</th>\n",
       "      <td>0.968339</td>\n",
       "    </tr>\n",
       "    <tr>\n",
       "      <th>run74</th>\n",
       "      <td>0.967605</td>\n",
       "    </tr>\n",
       "    <tr>\n",
       "      <th>run73</th>\n",
       "      <td>0.967952</td>\n",
       "    </tr>\n",
       "    <tr>\n",
       "      <th>run72</th>\n",
       "      <td>0.967807</td>\n",
       "    </tr>\n",
       "    <tr>\n",
       "      <th>run71</th>\n",
       "      <td>0.968126</td>\n",
       "    </tr>\n",
       "    <tr>\n",
       "      <th>run77</th>\n",
       "      <td>0.967740</td>\n",
       "    </tr>\n",
       "    <tr>\n",
       "      <th>run76</th>\n",
       "      <td>0.967497</td>\n",
       "    </tr>\n",
       "    <tr>\n",
       "      <th>run80</th>\n",
       "      <td>0.967895</td>\n",
       "    </tr>\n",
       "    <tr>\n",
       "      <th>run78</th>\n",
       "      <td>0.967808</td>\n",
       "    </tr>\n",
       "    <tr>\n",
       "      <th>run79</th>\n",
       "      <td>0.967430</td>\n",
       "    </tr>\n",
       "    <tr>\n",
       "      <th>run81</th>\n",
       "      <td>0.966785</td>\n",
       "    </tr>\n",
       "    <tr>\n",
       "      <th>run82</th>\n",
       "      <td>0.968074</td>\n",
       "    </tr>\n",
       "  </tbody>\n",
       "</table>\n",
       "</div>"
      ],
      "text/plain": [
       "              1\n",
       "0              \n",
       "run32  0.966123\n",
       "run36  0.969832\n",
       "run39  0.973445\n",
       "run34  0.968043\n",
       "run33  0.967480\n",
       "run40  0.974058\n",
       "run37  0.971325\n",
       "run38  0.972088\n",
       "run35  0.968472\n",
       "run41  0.974680\n",
       "run42  0.974702\n",
       "run45  0.968202\n",
       "run46  0.967586\n",
       "run43  0.967076\n",
       "run52  0.967615\n",
       "run44  0.967831\n",
       "run49  0.967532\n",
       "run47  0.967189\n",
       "run50  0.967259\n",
       "run51  0.967733\n",
       "run48  0.968517\n",
       "run55  0.960116\n",
       "run56  0.964221\n",
       "run60  0.968294\n",
       "run61  0.968487\n",
       "run54  0.952985\n",
       "run53  0.942023\n",
       "run57  0.967740\n",
       "run58  0.967159\n",
       "run59  0.968175\n",
       "run66  0.968097\n",
       "run62  0.967302\n",
       "run65  0.967729\n",
       "run68  0.966912\n",
       "run63  0.968303\n",
       "run67  0.967933\n",
       "run64  0.968127\n",
       "run70  0.967781\n",
       "run69  0.968009\n",
       "run75  0.968339\n",
       "run74  0.967605\n",
       "run73  0.967952\n",
       "run72  0.967807\n",
       "run71  0.968126\n",
       "run77  0.967740\n",
       "run76  0.967497\n",
       "run80  0.967895\n",
       "run78  0.967808\n",
       "run79  0.967430\n",
       "run81  0.966785\n",
       "run82  0.968074"
      ]
     },
     "execution_count": 17,
     "metadata": {},
     "output_type": "execute_result"
    }
   ],
   "source": []
  },
  {
   "cell_type": "code",
   "execution_count": null,
   "metadata": {
    "collapsed": true
   },
   "outputs": [],
   "source": []
  }
 ],
 "metadata": {
  "anaconda-cloud": {},
  "kernelspec": {
   "display_name": "Python [conda env:Imp3]",
   "language": "python",
   "name": "conda-env-Imp3-py"
  },
  "language_info": {
   "codemirror_mode": {
    "name": "ipython",
    "version": 3
   },
   "file_extension": ".py",
   "mimetype": "text/x-python",
   "name": "python",
   "nbconvert_exporter": "python",
   "pygments_lexer": "ipython3",
   "version": "3.5.3"
  }
 },
 "nbformat": 4,
 "nbformat_minor": 1
}
