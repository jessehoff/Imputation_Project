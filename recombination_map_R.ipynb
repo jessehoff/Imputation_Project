{
 "cells": [
  {
   "cell_type": "code",
   "execution_count": 2,
   "metadata": {
    "collapsed": false
   },
   "outputs": [
    {
     "name": "stderr",
     "output_type": "stream",
     "text": [
      "Loading tidyverse: ggplot2\n",
      "Loading tidyverse: tibble\n",
      "Loading tidyverse: tidyr\n",
      "Loading tidyverse: readr\n",
      "Loading tidyverse: purrr\n",
      "Loading tidyverse: dplyr\n",
      "Conflicts with tidy packages ---------------------------------------------------\n",
      "filter(): dplyr, stats\n",
      "lag():    dplyr, stats\n"
     ]
    }
   ],
   "source": [
    "library(tidyverse)"
   ]
  },
  {
   "cell_type": "code",
   "execution_count": 3,
   "metadata": {
    "collapsed": false
   },
   "outputs": [
    {
     "name": "stderr",
     "output_type": "stream",
     "text": [
      "\n",
      "Attaching package: ‘cowplot’\n",
      "\n",
      "The following object is masked from ‘package:ggplot2’:\n",
      "\n",
      "    ggsave\n",
      "\n"
     ]
    }
   ],
   "source": [
    "library(cowplot)"
   ]
  },
  {
   "cell_type": "code",
   "execution_count": 70,
   "metadata": {
    "collapsed": false
   },
   "outputs": [],
   "source": [
    "map = read.csv('../../RecombinationMap_170802.csv') %>% \n",
    "mutate(recomb = (map_f+map_m)/2) %>%\n",
    "select(c(chr, chr_pos, recomb))\n",
    "\n",
    "colnames(map) <- c(\"chr\", \"position\", \"recomb\")\n",
    "\n"
   ]
  },
  {
   "cell_type": "code",
   "execution_count": 71,
   "metadata": {
    "collapsed": false
   },
   "outputs": [
    {
     "data": {
      "text/plain": [
       "      chr           position             recomb         \n",
       " Min.   : 1.00   Min.   :        0   Min.   :0.000e+00  \n",
       " 1st Qu.: 6.00   1st Qu.: 21393283   1st Qu.:2.166e-05  \n",
       " Median :11.00   Median : 43799317   Median :1.663e-04  \n",
       " Mean   :12.54   Mean   : 49343799   Mean   :4.106e-04  \n",
       " 3rd Qu.:19.00   3rd Qu.: 71485655   3rd Qu.:5.131e-04  \n",
       " Max.   :29.00   Max.   :158319652   Max.   :1.420e-02  "
      ]
     },
     "metadata": {},
     "output_type": "display_data"
    }
   ],
   "source": [
    "summary(map)"
   ]
  },
  {
   "cell_type": "code",
   "execution_count": 5,
   "metadata": {
    "collapsed": false
   },
   "outputs": [],
   "source": [
    "for (i in 1:30){\n",
    "     assign(paste('chrom', i, sep = \"\"), filter(map, chr == i) %>%\n",
    "            arrange(position) %>%\n",
    "            mutate(bpchange = c(0,diff(position))) %>%\n",
    "            mutate(mbchange = bpchange/1000000) %>%\n",
    "            mutate(Genetic_Map = cumsum(50*log(1/(1-2*recomb)))) %>%\n",
    "            mutate(Combined_Rate = c(0,diff(Genetic_Map))/mbchange) %>%\n",
    "            select(position, Combined_Rate, Genetic_Map)\n",
    "           ) \n",
    "}"
   ]
  },
  {
   "cell_type": "code",
   "execution_count": 320,
   "metadata": {
    "collapsed": false
   },
   "outputs": [],
   "source": [
    "write.table(chrom20, 'recombination.chr20.map', quote = FALSE, sep = \" \", row.names = FALSE)"
   ]
  },
  {
   "cell_type": "code",
   "execution_count": 13,
   "metadata": {
    "collapsed": true
   },
   "outputs": [],
   "source": [
    "map = read.csv('../../RecombinationMap_170802.csv') %>% \n",
    "mutate(recomb = (map_f+map_m)/2) %>%\n",
    "select(c(chr, chr_pos, recomb))\n",
    "\n",
    "colnames(map) <- c(\"chr\", \"position\", \"recomb\")"
   ]
  },
  {
   "cell_type": "code",
   "execution_count": 14,
   "metadata": {
    "collapsed": false
   },
   "outputs": [],
   "source": [
    "whole = map %>% arrange(chr, position) %>% mutate(bpchange = c(0,diff(position))) %>% mutate(mbchange = bpchange/1000000) %>% mutate(Genetic_Map = cumsum(50*log(1/(1-2*recomb)))) %>%  mutate(Combined_Rate = c(0,diff(Genetic_Map))/mbchange)"
   ]
  },
  {
   "cell_type": "code",
   "execution_count": 15,
   "metadata": {
    "collapsed": false
   },
   "outputs": [
    {
     "data": {
      "text/html": [
       "140.189280676193"
      ],
      "text/latex": [
       "140.189280676193"
      ],
      "text/markdown": [
       "140.189280676193"
      ],
      "text/plain": [
       "[1] 140.1893"
      ]
     },
     "metadata": {},
     "output_type": "display_data"
    }
   ],
   "source": [
    "mean(whole$Combined_Rate, na.rm = TRUE)"
   ]
  },
  {
   "cell_type": "code",
   "execution_count": null,
   "metadata": {
    "collapsed": true
   },
   "outputs": [],
   "source": []
  },
  {
   "cell_type": "code",
   "execution_count": null,
   "metadata": {
    "collapsed": true
   },
   "outputs": [],
   "source": []
  },
  {
   "cell_type": "code",
   "execution_count": 310,
   "metadata": {
    "collapsed": false,
    "scrolled": true
   },
   "outputs": [
    {
     "name": "stderr",
     "output_type": "stream",
     "text": [
      "`stat_bin()` using `bins = 30`. Pick better value with `binwidth`.\n",
      "Warning message:\n",
      "“Removed 234 rows containing non-finite values (stat_bin).”Warning message:\n",
      "“Removed 2 rows containing missing values (geom_bar).”"
     ]
    },
    {
     "data": {},
     "metadata": {},
     "output_type": "display_data"
    },
    {
     "data": {
      "image/png": "[encoded data removed]",
      "text/plain": [
       "plot without title"
      ]
     },
     "metadata": {},
     "output_type": "display_data"
    }
   ],
   "source": [
    "ggplot(whole, aes(Combined_Rate))+\n",
    "geom_histogram()+\n",
    "xlim(0, 100)+\n",
    "xlab(\"Combined Rate (cM/Mb)\")+\n",
    "ylim(0,5000)"
   ]
  },
  {
   "cell_type": "markdown",
   "metadata": {
    "collapsed": true
   },
   "source": [
    "# Using USDA Created Map\n",
    "##### See if I can detect any differences between the two"
   ]
  },
  {
   "cell_type": "code",
   "execution_count": 23,
   "metadata": {
    "collapsed": false
   },
   "outputs": [],
   "source": [
    "map = read.delim('./cattle_rmap.txt', sep= ' ') %>% \n",
    "mutate(recomb = (map_f+map_m)/2) %>%\n",
    "select(c(Chr, Location, recomb))\n",
    "\n",
    "colnames(map) <- c(\"chr\", \"position\", \"recomb\")"
   ]
  },
  {
   "cell_type": "code",
   "execution_count": 31,
   "metadata": {
    "collapsed": false
   },
   "outputs": [],
   "source": [
    "for (i in 1:30){\n",
    "     assign(paste('chrom', i, sep = \"\"), filter(map, chr == i) %>%\n",
    "            arrange(position) %>%\n",
    "            mutate(bpchange = c(0,diff(position))) %>%\n",
    "            mutate(mbchange = bpchange/1000000) %>%\n",
    "            mutate(Genetic_Map = cumsum(50*log(1/(1-2*recomb)))) %>%\n",
    "            mutate(Combined_Rate = c(0,diff(Genetic_Map))/mbchange) %>%\n",
    "            select(position, Combined_Rate, Genetic_Map)\n",
    "           ) \n",
    "}"
   ]
  },
  {
   "cell_type": "code",
   "execution_count": 65,
   "metadata": {
    "collapsed": false
   },
   "outputs": [
    {
     "data": {
      "text/plain": [
       "    Min.  1st Qu.   Median     Mean  3rd Qu.     Max.     NA's \n",
       "    0.00     0.06     0.48    44.78     1.58 80670.00        1 "
      ]
     },
     "metadata": {},
     "output_type": "display_data"
    }
   ],
   "source": [
    "summary(chrom17$Combined_Rate)"
   ]
  },
  {
   "cell_type": "code",
   "execution_count": 42,
   "metadata": {
    "collapsed": false
   },
   "outputs": [
    {
     "data": {
      "text/html": [
       "<ol>\n",
       "\t<li>'chrom1'</li>\n",
       "\t<li>'chrom2'</li>\n",
       "\t<li>'chrom3'</li>\n",
       "\t<li>'chrom4'</li>\n",
       "\t<li>'chrom5'</li>\n",
       "\t<li>'chrom6'</li>\n",
       "\t<li>'chrom7'</li>\n",
       "\t<li>'chrom8'</li>\n",
       "\t<li>'chrom9'</li>\n",
       "\t<li>'chrom10'</li>\n",
       "\t<li>'chrom11'</li>\n",
       "\t<li>'chrom12'</li>\n",
       "\t<li>'chrom13'</li>\n",
       "\t<li>'chrom14'</li>\n",
       "\t<li>'chrom15'</li>\n",
       "\t<li>'chrom16'</li>\n",
       "\t<li>'chrom17'</li>\n",
       "\t<li>'chrom18'</li>\n",
       "\t<li>'chrom19'</li>\n",
       "\t<li>'chrom20'</li>\n",
       "\t<li>'chrom21'</li>\n",
       "\t<li>'chrom22'</li>\n",
       "\t<li>'chrom23'</li>\n",
       "\t<li>'chrom24'</li>\n",
       "\t<li>'chrom25'</li>\n",
       "\t<li>'chrom26'</li>\n",
       "\t<li>'chrom27'</li>\n",
       "\t<li>'chrom28'</li>\n",
       "\t<li>'chrom29'</li>\n",
       "\t<li>'chrom30'</li>\n",
       "</ol>\n"
      ],
      "text/latex": [
       "\\begin{enumerate}\n",
       "\\item 'chrom1'\n",
       "\\item 'chrom2'\n",
       "\\item 'chrom3'\n",
       "\\item 'chrom4'\n",
       "\\item 'chrom5'\n",
       "\\item 'chrom6'\n",
       "\\item 'chrom7'\n",
       "\\item 'chrom8'\n",
       "\\item 'chrom9'\n",
       "\\item 'chrom10'\n",
       "\\item 'chrom11'\n",
       "\\item 'chrom12'\n",
       "\\item 'chrom13'\n",
       "\\item 'chrom14'\n",
       "\\item 'chrom15'\n",
       "\\item 'chrom16'\n",
       "\\item 'chrom17'\n",
       "\\item 'chrom18'\n",
       "\\item 'chrom19'\n",
       "\\item 'chrom20'\n",
       "\\item 'chrom21'\n",
       "\\item 'chrom22'\n",
       "\\item 'chrom23'\n",
       "\\item 'chrom24'\n",
       "\\item 'chrom25'\n",
       "\\item 'chrom26'\n",
       "\\item 'chrom27'\n",
       "\\item 'chrom28'\n",
       "\\item 'chrom29'\n",
       "\\item 'chrom30'\n",
       "\\end{enumerate}\n"
      ],
      "text/markdown": [
       "1. 'chrom1'\n",
       "2. 'chrom2'\n",
       "3. 'chrom3'\n",
       "4. 'chrom4'\n",
       "5. 'chrom5'\n",
       "6. 'chrom6'\n",
       "7. 'chrom7'\n",
       "8. 'chrom8'\n",
       "9. 'chrom9'\n",
       "10. 'chrom10'\n",
       "11. 'chrom11'\n",
       "12. 'chrom12'\n",
       "13. 'chrom13'\n",
       "14. 'chrom14'\n",
       "15. 'chrom15'\n",
       "16. 'chrom16'\n",
       "17. 'chrom17'\n",
       "18. 'chrom18'\n",
       "19. 'chrom19'\n",
       "20. 'chrom20'\n",
       "21. 'chrom21'\n",
       "22. 'chrom22'\n",
       "23. 'chrom23'\n",
       "24. 'chrom24'\n",
       "25. 'chrom25'\n",
       "26. 'chrom26'\n",
       "27. 'chrom27'\n",
       "28. 'chrom28'\n",
       "29. 'chrom29'\n",
       "30. 'chrom30'\n",
       "\n",
       "\n"
      ],
      "text/plain": [
       "[[1]]\n",
       "[1] \"chrom1\"\n",
       "\n",
       "[[2]]\n",
       "[1] \"chrom2\"\n",
       "\n",
       "[[3]]\n",
       "[1] \"chrom3\"\n",
       "\n",
       "[[4]]\n",
       "[1] \"chrom4\"\n",
       "\n",
       "[[5]]\n",
       "[1] \"chrom5\"\n",
       "\n",
       "[[6]]\n",
       "[1] \"chrom6\"\n",
       "\n",
       "[[7]]\n",
       "[1] \"chrom7\"\n",
       "\n",
       "[[8]]\n",
       "[1] \"chrom8\"\n",
       "\n",
       "[[9]]\n",
       "[1] \"chrom9\"\n",
       "\n",
       "[[10]]\n",
       "[1] \"chrom10\"\n",
       "\n",
       "[[11]]\n",
       "[1] \"chrom11\"\n",
       "\n",
       "[[12]]\n",
       "[1] \"chrom12\"\n",
       "\n",
       "[[13]]\n",
       "[1] \"chrom13\"\n",
       "\n",
       "[[14]]\n",
       "[1] \"chrom14\"\n",
       "\n",
       "[[15]]\n",
       "[1] \"chrom15\"\n",
       "\n",
       "[[16]]\n",
       "[1] \"chrom16\"\n",
       "\n",
       "[[17]]\n",
       "[1] \"chrom17\"\n",
       "\n",
       "[[18]]\n",
       "[1] \"chrom18\"\n",
       "\n",
       "[[19]]\n",
       "[1] \"chrom19\"\n",
       "\n",
       "[[20]]\n",
       "[1] \"chrom20\"\n",
       "\n",
       "[[21]]\n",
       "[1] \"chrom21\"\n",
       "\n",
       "[[22]]\n",
       "[1] \"chrom22\"\n",
       "\n",
       "[[23]]\n",
       "[1] \"chrom23\"\n",
       "\n",
       "[[24]]\n",
       "[1] \"chrom24\"\n",
       "\n",
       "[[25]]\n",
       "[1] \"chrom25\"\n",
       "\n",
       "[[26]]\n",
       "[1] \"chrom26\"\n",
       "\n",
       "[[27]]\n",
       "[1] \"chrom27\"\n",
       "\n",
       "[[28]]\n",
       "[1] \"chrom28\"\n",
       "\n",
       "[[29]]\n",
       "[1] \"chrom29\"\n",
       "\n",
       "[[30]]\n",
       "[1] \"chrom30\"\n"
      ]
     },
     "metadata": {},
     "output_type": "display_data"
    }
   ],
   "source": []
  },
  {
   "cell_type": "code",
   "execution_count": null,
   "metadata": {
    "collapsed": true
   },
   "outputs": [],
   "source": []
  }
 ],
 "metadata": {
  "anaconda-cloud": {},
  "kernelspec": {
   "display_name": "R [conda env:rjup]",
   "language": "R",
   "name": "conda-env-rjup-r"
  },
  "language_info": {
   "codemirror_mode": "r",
   "file_extension": ".r",
   "mimetype": "text/x-r-source",
   "name": "R",
   "pygments_lexer": "r",
   "version": "3.3.2"
  }
 },
 "nbformat": 4,
 "nbformat_minor": 1
}
